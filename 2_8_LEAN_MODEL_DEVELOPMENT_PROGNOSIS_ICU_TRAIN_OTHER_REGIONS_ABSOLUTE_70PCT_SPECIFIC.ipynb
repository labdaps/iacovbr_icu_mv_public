{
 "cells": [
  {
   "cell_type": "markdown",
   "metadata": {},
   "source": [
    "# 2) IACOV - Model Development for Prognosis - ICU\n",
    "## Strategy 8) Training on 70% of a specific hospital plus same absolute number of other regions hospitals"
   ]
  },
  {
   "cell_type": "code",
   "execution_count": 1,
   "metadata": {},
   "outputs": [],
   "source": [
    "# !pip install npm nodejs"
   ]
  },
  {
   "cell_type": "code",
   "execution_count": 2,
   "metadata": {},
   "outputs": [],
   "source": [
    "# !jupyter lab clean\n",
    "# !jupyter lab build"
   ]
  },
  {
   "cell_type": "code",
   "execution_count": 3,
   "metadata": {},
   "outputs": [
    {
     "name": "stderr",
     "output_type": "stream",
     "text": [
      "C:\\Users\\carin\\AppData\\Local\\Temp\\ipykernel_20820\\2017038996.py:1: DeprecationWarning: \n",
      "Pyarrow will become a required dependency of pandas in the next major release of pandas (pandas 3.0),\n",
      "(to allow more performant data types, such as the Arrow string type, and better interoperability with other libraries)\n",
      "but was not found to be installed on your system.\n",
      "If this would cause problems for you,\n",
      "please provide us feedback at https://github.com/pandas-dev/pandas/issues/54466\n",
      "        \n",
      "  import pandas as pd\n"
     ]
    }
   ],
   "source": [
    "import pandas as pd\n",
    "import matplotlib.pyplot as plt\n",
    "import seaborn as sns\n",
    "import os\n",
    "import numpy as np\n",
    "\n",
    "import warnings\n",
    "warnings.filterwarnings(\"ignore\")\n",
    "\n",
    "# para evitarmos a exibição dos dados em notacao científica\n",
    "pd.set_option('display.float_format', lambda x: '%.3f' % x)\n",
    "\n",
    "#comment next line to not use MLFlow for cleaning data\n",
    "from MLFlow_Classification import *\n",
    "from MLFlow_Utils import *"
   ]
  },
  {
   "cell_type": "markdown",
   "metadata": {},
   "source": [
    "### This code uses just 14 hospitals, since ICU or MV has no variation for 4 hospitals\n",
    "#### - The code that prepares the data to run all strategies for ICU and MV is: PREPARING_DATA_TO_UCI_MV_ANALYSES\n",
    "#### - df_iacov_en.csv (used for death) was replaced here by df_iacov_model_lean_14hosp.csv\n",
    "#### - put df_iacov_model_lean_14hosp.csv in same folder as this notebook"
   ]
  },
  {
   "cell_type": "code",
   "execution_count": 4,
   "metadata": {},
   "outputs": [
    {
     "data": {
      "text/plain": [
       "(6046, 30)"
      ]
     },
     "execution_count": 4,
     "metadata": {},
     "output_type": "execute_result"
    }
   ],
   "source": [
    "#Put csv in same folder as this notebook\n",
    "dataset = pd.read_csv(\"df_iacov_model_lean_14hosp.csv\", delimiter=\";\")\n",
    "df_iacov_model = pd.DataFrame(dataset)\n",
    "df_iacov_model.shape"
   ]
  },
  {
   "cell_type": "code",
   "execution_count": 5,
   "metadata": {},
   "outputs": [
    {
     "data": {
      "text/plain": [
       "Index(['city_hospital', 'age', 'male', 'race', 'heart_rate', 'resp_rate',\n",
       "       'sys_press', 'dias_press', 'mean_press', 'temp', 'hemoglobin',\n",
       "       'platelets', 'hematocrit', 'red_cells_count', 'hcm', 'rdw', 'mcv',\n",
       "       'leukocytes', 'neutrophil', 'lymphocytes', 'basophils', 'eosinophils',\n",
       "       'monocytes', 'crp', 'death', 'icu', 'mv', 'state', 'region', 'excluir'],\n",
       "      dtype='object')"
      ]
     },
     "execution_count": 5,
     "metadata": {},
     "output_type": "execute_result"
    }
   ],
   "source": [
    "df_iacov_model.columns"
   ]
  },
  {
   "cell_type": "markdown",
   "metadata": {},
   "source": [
    "## 2.1) Assign binary outcome to be predicted"
   ]
  },
  {
   "cell_type": "markdown",
   "metadata": {},
   "source": [
    "### 2.1.1) Maintain essential variables (LEAN Model)"
   ]
  },
  {
   "cell_type": "code",
   "execution_count": 6,
   "metadata": {},
   "outputs": [
    {
     "data": {
      "text/plain": [
       "(6046, 26)"
      ]
     },
     "execution_count": 6,
     "metadata": {},
     "output_type": "execute_result"
    }
   ],
   "source": [
    "#22 predictors + outcome + Region/State\n",
    "df_iacov_model_lean = df_iacov_model[['city_hospital'\n",
    "                                      ,'age'\n",
    "                                      ,'male'\n",
    "                                      ,'heart_rate'\n",
    "                                      ,'resp_rate'\n",
    "                                      ,'sys_press'\n",
    "                                      ,'dias_press'\n",
    "                                      ,'mean_press'\n",
    "                                      ,'temp'\n",
    "                                      ,'hemoglobin'\n",
    "                                      ,'platelets'\n",
    "                                      ,'hematocrit'\n",
    "                                      ,'red_cells_count'\n",
    "                                      ,'hcm'\n",
    "                                      ,'rdw'\n",
    "                                      ,'mcv'\n",
    "                                      ,'leukocytes'\n",
    "                                      ,'neutrophil'\n",
    "                                      ,'lymphocytes'\n",
    "                                      ,'basophils'\n",
    "                                      ,'eosinophils'\n",
    "                                      ,'monocytes'\n",
    "                                      ,'crp'\n",
    "                                      ,'icu'\n",
    "                                      ,'region' #for filtering purposes\n",
    "                                      ,'state' #for filtering purposes\n",
    "                                     ]]\n",
    "df_iacov_model_lean.shape"
   ]
  },
  {
   "cell_type": "code",
   "execution_count": 7,
   "metadata": {},
   "outputs": [
    {
     "data": {
      "text/plain": [
       "city_hospital\n",
       "HC_USP                        1500\n",
       "HOSPPORTUGUES_SALVADOR        1359\n",
       "CEARA_UNIMED                   845\n",
       "HRL_2021_02                    539\n",
       "HMV_POA_02                     456\n",
       "RIO_DE_JANEIRO_UNIMED          449\n",
       "HOSPSANTAJULIA_MANAUS          247\n",
       "HOSPSANTACATARINABLUMENAU      148\n",
       "HOSPSAOFRANCISCO_MOGIGUACU     124\n",
       "PERNAMBUCO_FULL                112\n",
       "PELOTAS                         91\n",
       "CEARA_HUWC                      73\n",
       "HEVV                            56\n",
       "AMAZONAS_HUGV                   47\n",
       "Name: count, dtype: int64"
      ]
     },
     "execution_count": 7,
     "metadata": {},
     "output_type": "execute_result"
    }
   ],
   "source": [
    "df_iacov_model_lean.city_hospital.value_counts()"
   ]
  },
  {
   "cell_type": "code",
   "execution_count": 8,
   "metadata": {},
   "outputs": [],
   "source": [
    "df_iacov_model_lean.to_csv('df_iacov_model_lean.csv', sep=';', index=False)"
   ]
  },
  {
   "cell_type": "markdown",
   "metadata": {},
   "source": [
    "### 2.1.2) Filter a specific hospital"
   ]
  },
  {
   "cell_type": "code",
   "execution_count": 9,
   "metadata": {},
   "outputs": [
    {
     "data": {
      "text/plain": [
       "(6046, 26)"
      ]
     },
     "execution_count": 9,
     "metadata": {},
     "output_type": "execute_result"
    }
   ],
   "source": [
    "#Put csv in same folder as this notebook\n",
    "df_all_hospitals = pd.read_csv(\"df_iacov_model_lean.csv\", delimiter=\";\", decimal=\".\")\n",
    "df_all_hospitals.shape"
   ]
  },
  {
   "cell_type": "code",
   "execution_count": 10,
   "metadata": {},
   "outputs": [
    {
     "data": {
      "text/plain": [
       "Index(['city_hospital', 'age', 'male', 'heart_rate', 'resp_rate', 'sys_press',\n",
       "       'dias_press', 'mean_press', 'temp', 'hemoglobin', 'platelets',\n",
       "       'hematocrit', 'red_cells_count', 'hcm', 'rdw', 'mcv', 'leukocytes',\n",
       "       'neutrophil', 'lymphocytes', 'basophils', 'eosinophils', 'monocytes',\n",
       "       'crp', 'icu', 'region', 'state'],\n",
       "      dtype='object')"
      ]
     },
     "execution_count": 10,
     "metadata": {},
     "output_type": "execute_result"
    }
   ],
   "source": [
    "df_all_hospitals.columns"
   ]
  },
  {
   "cell_type": "code",
   "execution_count": 11,
   "metadata": {},
   "outputs": [
    {
     "data": {
      "text/plain": [
       "region\n",
       "NORDESTE       2389\n",
       "SUDESTE        2129\n",
       "SUL             695\n",
       "CENTROOESTE     539\n",
       "NORTE           294\n",
       "Name: count, dtype: int64"
      ]
     },
     "execution_count": 11,
     "metadata": {},
     "output_type": "execute_result"
    }
   ],
   "source": [
    "df_all_hospitals.region.value_counts()"
   ]
  },
  {
   "cell_type": "code",
   "execution_count": 12,
   "metadata": {},
   "outputs": [
    {
     "data": {
      "text/html": [
       "<div>\n",
       "<style scoped>\n",
       "    .dataframe tbody tr th:only-of-type {\n",
       "        vertical-align: middle;\n",
       "    }\n",
       "\n",
       "    .dataframe tbody tr th {\n",
       "        vertical-align: top;\n",
       "    }\n",
       "\n",
       "    .dataframe thead th {\n",
       "        text-align: right;\n",
       "    }\n",
       "</style>\n",
       "<table border=\"1\" class=\"dataframe\">\n",
       "  <thead>\n",
       "    <tr style=\"text-align: right;\">\n",
       "      <th></th>\n",
       "      <th>Missing Values</th>\n",
       "      <th>% missing of Total Values</th>\n",
       "      <th># Unique Values</th>\n",
       "      <th># Values as [0]</th>\n",
       "      <th>datatype</th>\n",
       "      <th>skew</th>\n",
       "      <th>count</th>\n",
       "      <th>mean</th>\n",
       "      <th>std</th>\n",
       "      <th>min</th>\n",
       "      <th>25%</th>\n",
       "      <th>50%</th>\n",
       "      <th>75%</th>\n",
       "      <th>max</th>\n",
       "    </tr>\n",
       "  </thead>\n",
       "  <tbody>\n",
       "    <tr>\n",
       "      <th>city_hospital</th>\n",
       "      <td>0</td>\n",
       "      <td>0.000</td>\n",
       "      <td>14</td>\n",
       "      <td>0</td>\n",
       "      <td>object</td>\n",
       "      <td>NaN</td>\n",
       "      <td>NaN</td>\n",
       "      <td>NaN</td>\n",
       "      <td>NaN</td>\n",
       "      <td>NaN</td>\n",
       "      <td>NaN</td>\n",
       "      <td>NaN</td>\n",
       "      <td>NaN</td>\n",
       "      <td>NaN</td>\n",
       "    </tr>\n",
       "    <tr>\n",
       "      <th>age</th>\n",
       "      <td>0</td>\n",
       "      <td>0.000</td>\n",
       "      <td>98</td>\n",
       "      <td>0</td>\n",
       "      <td>float64</td>\n",
       "      <td>-0.060</td>\n",
       "      <td>6046.000</td>\n",
       "      <td>57.521</td>\n",
       "      <td>17.869</td>\n",
       "      <td>18.000</td>\n",
       "      <td>44.000</td>\n",
       "      <td>58.000</td>\n",
       "      <td>71.000</td>\n",
       "      <td>105.000</td>\n",
       "    </tr>\n",
       "    <tr>\n",
       "      <th>male</th>\n",
       "      <td>0</td>\n",
       "      <td>0.000</td>\n",
       "      <td>2</td>\n",
       "      <td>2790</td>\n",
       "      <td>float64</td>\n",
       "      <td>-0.155</td>\n",
       "      <td>6046.000</td>\n",
       "      <td>0.539</td>\n",
       "      <td>0.499</td>\n",
       "      <td>0.000</td>\n",
       "      <td>0.000</td>\n",
       "      <td>1.000</td>\n",
       "      <td>1.000</td>\n",
       "      <td>1.000</td>\n",
       "    </tr>\n",
       "    <tr>\n",
       "      <th>heart_rate</th>\n",
       "      <td>809</td>\n",
       "      <td>13.381</td>\n",
       "      <td>183</td>\n",
       "      <td>0</td>\n",
       "      <td>float64</td>\n",
       "      <td>0.611</td>\n",
       "      <td>5237.000</td>\n",
       "      <td>85.689</td>\n",
       "      <td>17.209</td>\n",
       "      <td>13.000</td>\n",
       "      <td>75.000</td>\n",
       "      <td>85.000</td>\n",
       "      <td>96.000</td>\n",
       "      <td>233.000</td>\n",
       "    </tr>\n",
       "    <tr>\n",
       "      <th>resp_rate</th>\n",
       "      <td>1457</td>\n",
       "      <td>24.099</td>\n",
       "      <td>69</td>\n",
       "      <td>1</td>\n",
       "      <td>float64</td>\n",
       "      <td>2.897</td>\n",
       "      <td>4589.000</td>\n",
       "      <td>21.881</td>\n",
       "      <td>6.380</td>\n",
       "      <td>0.000</td>\n",
       "      <td>18.000</td>\n",
       "      <td>20.000</td>\n",
       "      <td>24.000</td>\n",
       "      <td>108.000</td>\n",
       "    </tr>\n",
       "    <tr>\n",
       "      <th>sys_press</th>\n",
       "      <td>1336</td>\n",
       "      <td>22.097</td>\n",
       "      <td>215</td>\n",
       "      <td>0</td>\n",
       "      <td>float64</td>\n",
       "      <td>-0.279</td>\n",
       "      <td>4710.000</td>\n",
       "      <td>124.054</td>\n",
       "      <td>22.791</td>\n",
       "      <td>10.000</td>\n",
       "      <td>110.000</td>\n",
       "      <td>122.000</td>\n",
       "      <td>138.000</td>\n",
       "      <td>242.000</td>\n",
       "    </tr>\n",
       "    <tr>\n",
       "      <th>dias_press</th>\n",
       "      <td>1325</td>\n",
       "      <td>21.915</td>\n",
       "      <td>150</td>\n",
       "      <td>0</td>\n",
       "      <td>float64</td>\n",
       "      <td>-0.361</td>\n",
       "      <td>4721.000</td>\n",
       "      <td>74.608</td>\n",
       "      <td>14.626</td>\n",
       "      <td>6.000</td>\n",
       "      <td>67.000</td>\n",
       "      <td>76.000</td>\n",
       "      <td>81.000</td>\n",
       "      <td>141.000</td>\n",
       "    </tr>\n",
       "    <tr>\n",
       "      <th>mean_press</th>\n",
       "      <td>1366</td>\n",
       "      <td>22.593</td>\n",
       "      <td>1452</td>\n",
       "      <td>326</td>\n",
       "      <td>float64</td>\n",
       "      <td>-1.751</td>\n",
       "      <td>4680.000</td>\n",
       "      <td>83.731</td>\n",
       "      <td>28.475</td>\n",
       "      <td>0.000</td>\n",
       "      <td>78.981</td>\n",
       "      <td>90.000</td>\n",
       "      <td>98.648</td>\n",
       "      <td>166.000</td>\n",
       "    </tr>\n",
       "    <tr>\n",
       "      <th>temp</th>\n",
       "      <td>1173</td>\n",
       "      <td>19.401</td>\n",
       "      <td>128</td>\n",
       "      <td>1</td>\n",
       "      <td>float64</td>\n",
       "      <td>62.972</td>\n",
       "      <td>4873.000</td>\n",
       "      <td>36.430</td>\n",
       "      <td>4.976</td>\n",
       "      <td>0.000</td>\n",
       "      <td>36.000</td>\n",
       "      <td>36.300</td>\n",
       "      <td>36.800</td>\n",
       "      <td>372.000</td>\n",
       "    </tr>\n",
       "    <tr>\n",
       "      <th>hemoglobin</th>\n",
       "      <td>1904</td>\n",
       "      <td>31.492</td>\n",
       "      <td>226</td>\n",
       "      <td>0</td>\n",
       "      <td>float64</td>\n",
       "      <td>-0.628</td>\n",
       "      <td>4142.000</td>\n",
       "      <td>12.752</td>\n",
       "      <td>2.189</td>\n",
       "      <td>1.400</td>\n",
       "      <td>11.692</td>\n",
       "      <td>13.000</td>\n",
       "      <td>14.200</td>\n",
       "      <td>30.600</td>\n",
       "    </tr>\n",
       "    <tr>\n",
       "      <th>platelets</th>\n",
       "      <td>744</td>\n",
       "      <td>12.306</td>\n",
       "      <td>1036</td>\n",
       "      <td>0</td>\n",
       "      <td>float64</td>\n",
       "      <td>0.395</td>\n",
       "      <td>5302.000</td>\n",
       "      <td>235701.617</td>\n",
       "      <td>143771.202</td>\n",
       "      <td>7.000</td>\n",
       "      <td>148000.000</td>\n",
       "      <td>217000.000</td>\n",
       "      <td>321750.000</td>\n",
       "      <td>992000.000</td>\n",
       "    </tr>\n",
       "    <tr>\n",
       "      <th>hematocrit</th>\n",
       "      <td>2350</td>\n",
       "      <td>38.869</td>\n",
       "      <td>475</td>\n",
       "      <td>0</td>\n",
       "      <td>float64</td>\n",
       "      <td>-0.539</td>\n",
       "      <td>3696.000</td>\n",
       "      <td>38.436</td>\n",
       "      <td>6.402</td>\n",
       "      <td>1.000</td>\n",
       "      <td>35.100</td>\n",
       "      <td>39.200</td>\n",
       "      <td>42.500</td>\n",
       "      <td>77.000</td>\n",
       "    </tr>\n",
       "    <tr>\n",
       "      <th>red_cells_count</th>\n",
       "      <td>2684</td>\n",
       "      <td>44.393</td>\n",
       "      <td>578</td>\n",
       "      <td>0</td>\n",
       "      <td>float64</td>\n",
       "      <td>-0.274</td>\n",
       "      <td>3362.000</td>\n",
       "      <td>3.915</td>\n",
       "      <td>1.168</td>\n",
       "      <td>0.290</td>\n",
       "      <td>3.250</td>\n",
       "      <td>4.210</td>\n",
       "      <td>4.717</td>\n",
       "      <td>14.500</td>\n",
       "    </tr>\n",
       "    <tr>\n",
       "      <th>hcm</th>\n",
       "      <td>1191</td>\n",
       "      <td>19.699</td>\n",
       "      <td>689</td>\n",
       "      <td>0</td>\n",
       "      <td>float64</td>\n",
       "      <td>3.528</td>\n",
       "      <td>4855.000</td>\n",
       "      <td>29.095</td>\n",
       "      <td>2.939</td>\n",
       "      <td>10.000</td>\n",
       "      <td>27.800</td>\n",
       "      <td>29.200</td>\n",
       "      <td>30.500</td>\n",
       "      <td>88.100</td>\n",
       "    </tr>\n",
       "    <tr>\n",
       "      <th>rdw</th>\n",
       "      <td>1192</td>\n",
       "      <td>19.716</td>\n",
       "      <td>227</td>\n",
       "      <td>0</td>\n",
       "      <td>float64</td>\n",
       "      <td>11.869</td>\n",
       "      <td>4854.000</td>\n",
       "      <td>13.837</td>\n",
       "      <td>2.407</td>\n",
       "      <td>3.000</td>\n",
       "      <td>12.700</td>\n",
       "      <td>13.500</td>\n",
       "      <td>14.400</td>\n",
       "      <td>86.100</td>\n",
       "    </tr>\n",
       "    <tr>\n",
       "      <th>mcv</th>\n",
       "      <td>1185</td>\n",
       "      <td>19.600</td>\n",
       "      <td>1029</td>\n",
       "      <td>0</td>\n",
       "      <td>float64</td>\n",
       "      <td>0.227</td>\n",
       "      <td>4861.000</td>\n",
       "      <td>87.665</td>\n",
       "      <td>7.667</td>\n",
       "      <td>8.150</td>\n",
       "      <td>83.700</td>\n",
       "      <td>87.600</td>\n",
       "      <td>91.600</td>\n",
       "      <td>201.400</td>\n",
       "    </tr>\n",
       "    <tr>\n",
       "      <th>leukocytes</th>\n",
       "      <td>741</td>\n",
       "      <td>12.256</td>\n",
       "      <td>2268</td>\n",
       "      <td>0</td>\n",
       "      <td>float64</td>\n",
       "      <td>20.605</td>\n",
       "      <td>5305.000</td>\n",
       "      <td>7035.747</td>\n",
       "      <td>9241.209</td>\n",
       "      <td>0.760</td>\n",
       "      <td>3680.000</td>\n",
       "      <td>6210.000</td>\n",
       "      <td>9233.000</td>\n",
       "      <td>365920.000</td>\n",
       "    </tr>\n",
       "    <tr>\n",
       "      <th>neutrophil</th>\n",
       "      <td>2074</td>\n",
       "      <td>34.304</td>\n",
       "      <td>2403</td>\n",
       "      <td>3</td>\n",
       "      <td>float64</td>\n",
       "      <td>1.830</td>\n",
       "      <td>3972.000</td>\n",
       "      <td>6143.968</td>\n",
       "      <td>4259.737</td>\n",
       "      <td>0.000</td>\n",
       "      <td>3180.000</td>\n",
       "      <td>5200.000</td>\n",
       "      <td>8060.000</td>\n",
       "      <td>47636.000</td>\n",
       "    </tr>\n",
       "    <tr>\n",
       "      <th>lymphocytes</th>\n",
       "      <td>1404</td>\n",
       "      <td>23.222</td>\n",
       "      <td>1865</td>\n",
       "      <td>5</td>\n",
       "      <td>float64</td>\n",
       "      <td>15.570</td>\n",
       "      <td>4642.000</td>\n",
       "      <td>1031.263</td>\n",
       "      <td>1028.587</td>\n",
       "      <td>0.000</td>\n",
       "      <td>529.250</td>\n",
       "      <td>900.000</td>\n",
       "      <td>1378.250</td>\n",
       "      <td>42120.000</td>\n",
       "    </tr>\n",
       "    <tr>\n",
       "      <th>basophils</th>\n",
       "      <td>1120</td>\n",
       "      <td>18.525</td>\n",
       "      <td>252</td>\n",
       "      <td>2087</td>\n",
       "      <td>float64</td>\n",
       "      <td>5.342</td>\n",
       "      <td>4926.000</td>\n",
       "      <td>7.509</td>\n",
       "      <td>18.532</td>\n",
       "      <td>0.000</td>\n",
       "      <td>0.000</td>\n",
       "      <td>0.010</td>\n",
       "      <td>10.000</td>\n",
       "      <td>259.200</td>\n",
       "    </tr>\n",
       "    <tr>\n",
       "      <th>eosinophils</th>\n",
       "      <td>2367</td>\n",
       "      <td>39.150</td>\n",
       "      <td>495</td>\n",
       "      <td>1487</td>\n",
       "      <td>float64</td>\n",
       "      <td>14.977</td>\n",
       "      <td>3679.000</td>\n",
       "      <td>43.517</td>\n",
       "      <td>127.479</td>\n",
       "      <td>0.000</td>\n",
       "      <td>0.000</td>\n",
       "      <td>1.000</td>\n",
       "      <td>46.000</td>\n",
       "      <td>4450.000</td>\n",
       "    </tr>\n",
       "    <tr>\n",
       "      <th>monocytes</th>\n",
       "      <td>841</td>\n",
       "      <td>13.910</td>\n",
       "      <td>1450</td>\n",
       "      <td>14</td>\n",
       "      <td>float64</td>\n",
       "      <td>2.534</td>\n",
       "      <td>5205.000</td>\n",
       "      <td>354.765</td>\n",
       "      <td>375.844</td>\n",
       "      <td>0.000</td>\n",
       "      <td>0.930</td>\n",
       "      <td>310.000</td>\n",
       "      <td>584.000</td>\n",
       "      <td>7243.000</td>\n",
       "    </tr>\n",
       "    <tr>\n",
       "      <th>crp</th>\n",
       "      <td>1383</td>\n",
       "      <td>22.875</td>\n",
       "      <td>2986</td>\n",
       "      <td>0</td>\n",
       "      <td>float64</td>\n",
       "      <td>3.137</td>\n",
       "      <td>4663.000</td>\n",
       "      <td>36.696</td>\n",
       "      <td>71.738</td>\n",
       "      <td>0.015</td>\n",
       "      <td>1.911</td>\n",
       "      <td>7.800</td>\n",
       "      <td>28.100</td>\n",
       "      <td>708.300</td>\n",
       "    </tr>\n",
       "    <tr>\n",
       "      <th>icu</th>\n",
       "      <td>0</td>\n",
       "      <td>0.000</td>\n",
       "      <td>2</td>\n",
       "      <td>3290</td>\n",
       "      <td>int64</td>\n",
       "      <td>0.177</td>\n",
       "      <td>6046.000</td>\n",
       "      <td>0.456</td>\n",
       "      <td>0.498</td>\n",
       "      <td>0.000</td>\n",
       "      <td>0.000</td>\n",
       "      <td>0.000</td>\n",
       "      <td>1.000</td>\n",
       "      <td>1.000</td>\n",
       "    </tr>\n",
       "    <tr>\n",
       "      <th>region</th>\n",
       "      <td>0</td>\n",
       "      <td>0.000</td>\n",
       "      <td>5</td>\n",
       "      <td>0</td>\n",
       "      <td>object</td>\n",
       "      <td>NaN</td>\n",
       "      <td>NaN</td>\n",
       "      <td>NaN</td>\n",
       "      <td>NaN</td>\n",
       "      <td>NaN</td>\n",
       "      <td>NaN</td>\n",
       "      <td>NaN</td>\n",
       "      <td>NaN</td>\n",
       "      <td>NaN</td>\n",
       "    </tr>\n",
       "    <tr>\n",
       "      <th>state</th>\n",
       "      <td>0</td>\n",
       "      <td>0.000</td>\n",
       "      <td>10</td>\n",
       "      <td>0</td>\n",
       "      <td>object</td>\n",
       "      <td>NaN</td>\n",
       "      <td>NaN</td>\n",
       "      <td>NaN</td>\n",
       "      <td>NaN</td>\n",
       "      <td>NaN</td>\n",
       "      <td>NaN</td>\n",
       "      <td>NaN</td>\n",
       "      <td>NaN</td>\n",
       "      <td>NaN</td>\n",
       "    </tr>\n",
       "  </tbody>\n",
       "</table>\n",
       "</div>"
      ],
      "text/plain": [
       "                 Missing Values  % missing of Total Values  # Unique Values  \\\n",
       "city_hospital                 0                      0.000               14   \n",
       "age                           0                      0.000               98   \n",
       "male                          0                      0.000                2   \n",
       "heart_rate                  809                     13.381              183   \n",
       "resp_rate                  1457                     24.099               69   \n",
       "sys_press                  1336                     22.097              215   \n",
       "dias_press                 1325                     21.915              150   \n",
       "mean_press                 1366                     22.593             1452   \n",
       "temp                       1173                     19.401              128   \n",
       "hemoglobin                 1904                     31.492              226   \n",
       "platelets                   744                     12.306             1036   \n",
       "hematocrit                 2350                     38.869              475   \n",
       "red_cells_count            2684                     44.393              578   \n",
       "hcm                        1191                     19.699              689   \n",
       "rdw                        1192                     19.716              227   \n",
       "mcv                        1185                     19.600             1029   \n",
       "leukocytes                  741                     12.256             2268   \n",
       "neutrophil                 2074                     34.304             2403   \n",
       "lymphocytes                1404                     23.222             1865   \n",
       "basophils                  1120                     18.525              252   \n",
       "eosinophils                2367                     39.150              495   \n",
       "monocytes                   841                     13.910             1450   \n",
       "crp                        1383                     22.875             2986   \n",
       "icu                           0                      0.000                2   \n",
       "region                        0                      0.000                5   \n",
       "state                         0                      0.000               10   \n",
       "\n",
       "                 # Values as [0] datatype   skew    count       mean  \\\n",
       "city_hospital                  0   object    NaN      NaN        NaN   \n",
       "age                            0  float64 -0.060 6046.000     57.521   \n",
       "male                        2790  float64 -0.155 6046.000      0.539   \n",
       "heart_rate                     0  float64  0.611 5237.000     85.689   \n",
       "resp_rate                      1  float64  2.897 4589.000     21.881   \n",
       "sys_press                      0  float64 -0.279 4710.000    124.054   \n",
       "dias_press                     0  float64 -0.361 4721.000     74.608   \n",
       "mean_press                   326  float64 -1.751 4680.000     83.731   \n",
       "temp                           1  float64 62.972 4873.000     36.430   \n",
       "hemoglobin                     0  float64 -0.628 4142.000     12.752   \n",
       "platelets                      0  float64  0.395 5302.000 235701.617   \n",
       "hematocrit                     0  float64 -0.539 3696.000     38.436   \n",
       "red_cells_count                0  float64 -0.274 3362.000      3.915   \n",
       "hcm                            0  float64  3.528 4855.000     29.095   \n",
       "rdw                            0  float64 11.869 4854.000     13.837   \n",
       "mcv                            0  float64  0.227 4861.000     87.665   \n",
       "leukocytes                     0  float64 20.605 5305.000   7035.747   \n",
       "neutrophil                     3  float64  1.830 3972.000   6143.968   \n",
       "lymphocytes                    5  float64 15.570 4642.000   1031.263   \n",
       "basophils                   2087  float64  5.342 4926.000      7.509   \n",
       "eosinophils                 1487  float64 14.977 3679.000     43.517   \n",
       "monocytes                     14  float64  2.534 5205.000    354.765   \n",
       "crp                            0  float64  3.137 4663.000     36.696   \n",
       "icu                         3290    int64  0.177 6046.000      0.456   \n",
       "region                         0   object    NaN      NaN        NaN   \n",
       "state                          0   object    NaN      NaN        NaN   \n",
       "\n",
       "                       std    min        25%        50%        75%        max  \n",
       "city_hospital          NaN    NaN        NaN        NaN        NaN        NaN  \n",
       "age                 17.869 18.000     44.000     58.000     71.000    105.000  \n",
       "male                 0.499  0.000      0.000      1.000      1.000      1.000  \n",
       "heart_rate          17.209 13.000     75.000     85.000     96.000    233.000  \n",
       "resp_rate            6.380  0.000     18.000     20.000     24.000    108.000  \n",
       "sys_press           22.791 10.000    110.000    122.000    138.000    242.000  \n",
       "dias_press          14.626  6.000     67.000     76.000     81.000    141.000  \n",
       "mean_press          28.475  0.000     78.981     90.000     98.648    166.000  \n",
       "temp                 4.976  0.000     36.000     36.300     36.800    372.000  \n",
       "hemoglobin           2.189  1.400     11.692     13.000     14.200     30.600  \n",
       "platelets       143771.202  7.000 148000.000 217000.000 321750.000 992000.000  \n",
       "hematocrit           6.402  1.000     35.100     39.200     42.500     77.000  \n",
       "red_cells_count      1.168  0.290      3.250      4.210      4.717     14.500  \n",
       "hcm                  2.939 10.000     27.800     29.200     30.500     88.100  \n",
       "rdw                  2.407  3.000     12.700     13.500     14.400     86.100  \n",
       "mcv                  7.667  8.150     83.700     87.600     91.600    201.400  \n",
       "leukocytes        9241.209  0.760   3680.000   6210.000   9233.000 365920.000  \n",
       "neutrophil        4259.737  0.000   3180.000   5200.000   8060.000  47636.000  \n",
       "lymphocytes       1028.587  0.000    529.250    900.000   1378.250  42120.000  \n",
       "basophils           18.532  0.000      0.000      0.010     10.000    259.200  \n",
       "eosinophils        127.479  0.000      0.000      1.000     46.000   4450.000  \n",
       "monocytes          375.844  0.000      0.930    310.000    584.000   7243.000  \n",
       "crp                 71.738  0.015      1.911      7.800     28.100    708.300  \n",
       "icu                  0.498  0.000      0.000      0.000      1.000      1.000  \n",
       "region                 NaN    NaN        NaN        NaN        NaN        NaN  \n",
       "state                  NaN    NaN        NaN        NaN        NaN        NaN  "
      ]
     },
     "execution_count": 12,
     "metadata": {},
     "output_type": "execute_result"
    }
   ],
   "source": [
    "column_summaries(df_all_hospitals)"
   ]
  },
  {
   "cell_type": "code",
   "execution_count": 13,
   "metadata": {},
   "outputs": [],
   "source": [
    "import ipywidgets as widgets\n",
    "from IPython.display import clear_output"
   ]
  },
  {
   "cell_type": "code",
   "execution_count": 14,
   "metadata": {},
   "outputs": [
    {
     "data": {
      "text/plain": [
       "city_hospital\n",
       "HC_USP                        1500\n",
       "HOSPPORTUGUES_SALVADOR        1359\n",
       "CEARA_UNIMED                   845\n",
       "HRL_2021_02                    539\n",
       "HMV_POA_02                     456\n",
       "RIO_DE_JANEIRO_UNIMED          449\n",
       "HOSPSANTAJULIA_MANAUS          247\n",
       "HOSPSANTACATARINABLUMENAU      148\n",
       "HOSPSAOFRANCISCO_MOGIGUACU     124\n",
       "PERNAMBUCO_FULL                112\n",
       "PELOTAS                         91\n",
       "CEARA_HUWC                      73\n",
       "HEVV                            56\n",
       "AMAZONAS_HUGV                   47\n",
       "Name: count, dtype: int64"
      ]
     },
     "execution_count": 14,
     "metadata": {},
     "output_type": "execute_result"
    }
   ],
   "source": [
    "df_all_hospitals.city_hospital.value_counts()"
   ]
  },
  {
   "cell_type": "code",
   "execution_count": 15,
   "metadata": {},
   "outputs": [],
   "source": [
    "# Hospitals excluded for ICU and MV analyses: 'HOSPSANTACASASP_FULL', 'HOSPGRUPOSANTA', 'HUTRIN_2021_02', 'RIO_DE_JANEIRO_HUCFF'\n",
    "dropdown_hospital = widgets.Dropdown(options = ['Choose a hospital ...'\n",
    "                                                ,'HC_USP'                     #SP\n",
    "                                                ,'HOSPPORTUGUES_SALVADOR'     #BA\n",
    "                                                ,'CEARA_UNIMED'               #CE\n",
    "                                                ,'HRL_2021_02'                #GO - Luiziania\n",
    "                                                ,'HMV_POA_02'                 #RS - Moinhos de Vento\n",
    "                                                ,'RIO_DE_JANEIRO_UNIMED'      #RJ\n",
    "                                                ,'HOSPSANTAJULIA_MANAUS'      #AM\n",
    "                                                ,'HOSPSANTACATARINABLUMENAU'  #SC\n",
    "                                                ,'HOSPSAOFRANCISCO_MOGIGUACU' #SP\n",
    "                                                ,'PERNAMBUCO_FULL'            #PE\n",
    "                                                ,'PELOTAS'                    #RS\n",
    "                                                ,'CEARA_HUWC'                 #CE\n",
    "                                                ,'HEVV'                       #ES - Vila Velha\n",
    "                                                ,'AMAZONAS_HUGV'              #AM\n",
    "#                                                 ,'GHC_02'                     #RS \n",
    "                                               ])"
   ]
  },
  {
   "cell_type": "code",
   "execution_count": 16,
   "metadata": {},
   "outputs": [],
   "source": [
    "specific_hospital = 'Choose a hospital'\n",
    "df_iacov_model_lean = df_all_hospitals\n",
    "\n",
    "def dropdown_hospital_eventhandler(change):\n",
    "    global specific_hospital \n",
    "    specific_hospital = change.new\n",
    "    dropdown_hospital.observe(dropdown_hospital_eventhandler, names='value')"
   ]
  },
  {
   "cell_type": "code",
   "execution_count": 17,
   "metadata": {},
   "outputs": [],
   "source": [
    "dropdown_hospital.observe(dropdown_hospital_eventhandler, names='value')"
   ]
  },
  {
   "cell_type": "markdown",
   "metadata": {},
   "source": [
    "**Select Hospital to train**"
   ]
  },
  {
   "cell_type": "code",
   "execution_count": 18,
   "metadata": {},
   "outputs": [],
   "source": [
    "# !pip install ipywidgets"
   ]
  },
  {
   "cell_type": "code",
   "execution_count": 19,
   "metadata": {},
   "outputs": [],
   "source": [
    "# !jupyter nbextension enable --py widgetsnbextension"
   ]
  },
  {
   "cell_type": "code",
   "execution_count": 20,
   "metadata": {},
   "outputs": [],
   "source": [
    "# !jupyter labextension install @jupyter-widgets/jupyterlab-manager"
   ]
  },
  {
   "cell_type": "code",
   "execution_count": 1271,
   "metadata": {},
   "outputs": [
    {
     "data": {
      "application/vnd.jupyter.widget-view+json": {
       "model_id": "2740ff59aa1b4f4ab5af1e8ad90a427d",
       "version_major": 2,
       "version_minor": 0
      },
      "text/plain": [
       "Dropdown(index=14, options=('Choose a hospital ...', 'HC_USP', 'HOSPPORTUGUES_SALVADOR', 'CEARA_UNIMED', 'HRL_…"
      ]
     },
     "metadata": {},
     "output_type": "display_data"
    }
   ],
   "source": [
    "display(dropdown_hospital)"
   ]
  },
  {
   "cell_type": "markdown",
   "metadata": {},
   "source": [
    "**Filter all hospitals except the selected above**"
   ]
  },
  {
   "cell_type": "code",
   "execution_count": 1272,
   "metadata": {},
   "outputs": [
    {
     "data": {
      "text/plain": [
       "region\n",
       "NORDESTE       2389\n",
       "SUDESTE        2129\n",
       "SUL             695\n",
       "CENTROOESTE     539\n",
       "NORTE           294\n",
       "Name: count, dtype: int64"
      ]
     },
     "execution_count": 1272,
     "metadata": {},
     "output_type": "execute_result"
    }
   ],
   "source": [
    "df_all_hospitals.region.value_counts()"
   ]
  },
  {
   "cell_type": "markdown",
   "metadata": {},
   "source": [
    "**Split train/test of specific Hospital**"
   ]
  },
  {
   "cell_type": "code",
   "execution_count": 1273,
   "metadata": {},
   "outputs": [],
   "source": [
    "from sklearn.model_selection import train_test_split"
   ]
  },
  {
   "cell_type": "code",
   "execution_count": 1274,
   "metadata": {},
   "outputs": [
    {
     "data": {
      "text/plain": [
       "(47, 26)"
      ]
     },
     "execution_count": 1274,
     "metadata": {},
     "output_type": "execute_result"
    }
   ],
   "source": [
    "#Filter the specific hospital\n",
    "df_iacov_model_lean_specific = df_all_hospitals[df_all_hospitals.city_hospital == specific_hospital]\n",
    "df_iacov_model_lean_specific.shape"
   ]
  },
  {
   "cell_type": "code",
   "execution_count": 1275,
   "metadata": {},
   "outputs": [
    {
     "data": {
      "text/plain": [
       "(47, 25)"
      ]
     },
     "execution_count": 1275,
     "metadata": {},
     "output_type": "execute_result"
    }
   ],
   "source": [
    "X_specific = df_iacov_model_lean_specific.drop(['icu'],axis=1)\n",
    "X_specific.shape"
   ]
  },
  {
   "cell_type": "code",
   "execution_count": 1276,
   "metadata": {},
   "outputs": [
    {
     "data": {
      "text/plain": [
       "(47,)"
      ]
     },
     "execution_count": 1276,
     "metadata": {},
     "output_type": "execute_result"
    }
   ],
   "source": [
    "y_specific = df_iacov_model_lean_specific['icu']\n",
    "y_specific.shape"
   ]
  },
  {
   "cell_type": "code",
   "execution_count": 1277,
   "metadata": {},
   "outputs": [],
   "source": [
    "X_train_specific, X_test_specific, y_train_specific, y_test_specific = train_test_split(X_specific, y_specific, test_size=0.30, random_state=42, stratify=y_specific)"
   ]
  },
  {
   "cell_type": "code",
   "execution_count": 1278,
   "metadata": {},
   "outputs": [
    {
     "data": {
      "text/plain": [
       "(32, 25)"
      ]
     },
     "execution_count": 1278,
     "metadata": {},
     "output_type": "execute_result"
    }
   ],
   "source": [
    "X_train_specific.shape"
   ]
  },
  {
   "cell_type": "code",
   "execution_count": 1279,
   "metadata": {},
   "outputs": [
    {
     "data": {
      "text/plain": [
       "(15, 25)"
      ]
     },
     "execution_count": 1279,
     "metadata": {},
     "output_type": "execute_result"
    }
   ],
   "source": [
    "X_test_specific.shape"
   ]
  },
  {
   "cell_type": "markdown",
   "metadata": {},
   "source": [
    "**Filter same absolute number from hospitals on O T H E R region**\n",
    "\n",
    "PS: Also removed GHC hospital due to very low positive cases"
   ]
  },
  {
   "cell_type": "code",
   "execution_count": 1280,
   "metadata": {},
   "outputs": [
    {
     "data": {
      "text/plain": [
       "(32, 26)"
      ]
     },
     "execution_count": 1280,
     "metadata": {},
     "output_type": "execute_result"
    }
   ],
   "source": [
    "from random import sample\n",
    "\n",
    "#Sample all hospitals except specific hospital\n",
    "df_all_hospitals_except_specific = df_all_hospitals[(~df_all_hospitals.index.isin(X_specific.index)) &\n",
    "                                                       (df_all_hospitals.city_hospital != 'GHC_02')]\n",
    "\n",
    "#Sample all hospitals of regions distinct of specific hospital\n",
    "df_all_hospitals_other_region = df_all_hospitals_except_specific[df_all_hospitals_except_specific.region != X_specific.region.iloc[0]]\n",
    "\n",
    "#Then, sample all hospital data with same absolute number on O T H E R region as specific hospital\n",
    "df_iacov_model_lean = df_all_hospitals_other_region.sample(X_train_specific.shape[0], random_state=42)\n",
    "df_iacov_model_lean.shape"
   ]
  },
  {
   "cell_type": "code",
   "execution_count": 1281,
   "metadata": {},
   "outputs": [
    {
     "data": {
      "text/plain": [
       "city_hospital\n",
       "HC_USP                       8\n",
       "CEARA_UNIMED                 6\n",
       "HOSPPORTUGUES_SALVADOR       5\n",
       "RIO_DE_JANEIRO_UNIMED        4\n",
       "PERNAMBUCO_FULL              3\n",
       "HOSPSANTACATARINABLUMENAU    2\n",
       "PELOTAS                      2\n",
       "HRL_2021_02                  1\n",
       "HMV_POA_02                   1\n",
       "Name: count, dtype: int64"
      ]
     },
     "execution_count": 1281,
     "metadata": {},
     "output_type": "execute_result"
    }
   ],
   "source": [
    "#Check data from OTHER region\n",
    "df_iacov_model_lean.city_hospital.value_counts()"
   ]
  },
  {
   "cell_type": "markdown",
   "metadata": {},
   "source": [
    "**Append 70% data of specific hospital**"
   ]
  },
  {
   "cell_type": "code",
   "execution_count": 1282,
   "metadata": {},
   "outputs": [
    {
     "data": {
      "text/plain": [
       "(64, 26)"
      ]
     },
     "execution_count": 1282,
     "metadata": {},
     "output_type": "execute_result"
    }
   ],
   "source": [
    "df_iacov_model_lean = pd.concat([df_iacov_model_lean, X_train_specific], axis=0)\n",
    "df_iacov_model_lean.shape"
   ]
  },
  {
   "cell_type": "code",
   "execution_count": 1283,
   "metadata": {},
   "outputs": [
    {
     "data": {
      "text/plain": [
       "city_hospital\n",
       "AMAZONAS_HUGV                32\n",
       "HC_USP                        8\n",
       "CEARA_UNIMED                  6\n",
       "HOSPPORTUGUES_SALVADOR        5\n",
       "RIO_DE_JANEIRO_UNIMED         4\n",
       "PERNAMBUCO_FULL               3\n",
       "HOSPSANTACATARINABLUMENAU     2\n",
       "PELOTAS                       2\n",
       "HRL_2021_02                   1\n",
       "HMV_POA_02                    1\n",
       "Name: count, dtype: int64"
      ]
     },
     "execution_count": 1283,
     "metadata": {},
     "output_type": "execute_result"
    }
   ],
   "source": [
    "#Check after apending data of specific hospital\n",
    "df_iacov_model_lean.city_hospital.value_counts()"
   ]
  },
  {
   "cell_type": "code",
   "execution_count": 1284,
   "metadata": {},
   "outputs": [
    {
     "name": "stdout",
     "output_type": "stream",
     "text": [
      "Specific: AMAZONAS_HUGV\n",
      "(training -  - other regions - same absolute number) dataset: (64, 26)\n",
      "\n",
      "(training - specific) dataset: (32, 25)\n",
      "\n",
      "(test - specific) dataset: (15, 25)\n"
     ]
    }
   ],
   "source": [
    "print(\"Specific: \" + specific_hospital )\n",
    "print(\"(training -  - other regions - same absolute number) dataset: \" + str(df_iacov_model_lean.shape))\n",
    "\n",
    "print(\"\\n(training - specific) dataset: {}\".format(X_train_specific.shape))\n",
    "\n",
    "print(\"\\n(test - specific) dataset: {}\".format(X_test_specific.shape))"
   ]
  },
  {
   "cell_type": "markdown",
   "metadata": {},
   "source": [
    "### 2.1.3) Dropping unused variables (All hospitals)"
   ]
  },
  {
   "cell_type": "code",
   "execution_count": 1285,
   "metadata": {},
   "outputs": [
    {
     "data": {
      "text/plain": [
       "(64, 25)"
      ]
     },
     "execution_count": 1285,
     "metadata": {},
     "output_type": "execute_result"
    }
   ],
   "source": [
    "df_iacov_model_lean = df_iacov_model_lean.drop(['city_hospital'],axis=1)\n",
    "df_iacov_model_lean.shape"
   ]
  },
  {
   "cell_type": "code",
   "execution_count": 1286,
   "metadata": {},
   "outputs": [
    {
     "data": {
      "text/plain": [
       "icu\n",
       "0.000    52\n",
       "1.000    12\n",
       "Name: count, dtype: int64"
      ]
     },
     "execution_count": 1286,
     "metadata": {},
     "output_type": "execute_result"
    }
   ],
   "source": [
    "#Preencho NAs com 0 \n",
    "df_iacov_model_lean['icu'] = df_iacov_model_lean['icu'].fillna(0)\n",
    "df_iacov_model_lean.icu.value_counts()"
   ]
  },
  {
   "cell_type": "code",
   "execution_count": 1287,
   "metadata": {},
   "outputs": [
    {
     "data": {
      "text/plain": [
       "icu\n",
       "0.000   81.250\n",
       "1.000   18.750\n",
       "Name: count, dtype: float64"
      ]
     },
     "execution_count": 1287,
     "metadata": {},
     "output_type": "execute_result"
    }
   ],
   "source": [
    "(df_iacov_model_lean.icu.value_counts()/len(df_iacov_model_lean.icu))*100"
   ]
  },
  {
   "cell_type": "markdown",
   "metadata": {},
   "source": [
    "### From now on the outcome will call CLASS"
   ]
  },
  {
   "cell_type": "code",
   "execution_count": 1288,
   "metadata": {},
   "outputs": [],
   "source": [
    "df_iacov_model_lean['class'] = df_iacov_model_lean['icu'].astype('int')\n",
    "df_iacov_model_lean = df_iacov_model_lean.drop(['icu'],axis=1)"
   ]
  },
  {
   "cell_type": "markdown",
   "metadata": {},
   "source": [
    "### 2.1.4) Recalculating null mean_press"
   ]
  },
  {
   "cell_type": "code",
   "execution_count": 1289,
   "metadata": {},
   "outputs": [],
   "source": [
    "def isNullMeanPressure(row):\n",
    "\n",
    "    if pd.isnull(row['mean_press']):\n",
    "    \n",
    "        if pd.notnull(row['sys_press']) and pd.notnull(row['dias_press']):\n",
    "            return (row['sys_press']+row['dias_press'])/2\n",
    "        else:\n",
    "            return row['mean_press']\n",
    "    else:\n",
    "        return row['mean_press']"
   ]
  },
  {
   "cell_type": "code",
   "execution_count": 1290,
   "metadata": {},
   "outputs": [
    {
     "data": {
      "text/html": [
       "<div>\n",
       "<style scoped>\n",
       "    .dataframe tbody tr th:only-of-type {\n",
       "        vertical-align: middle;\n",
       "    }\n",
       "\n",
       "    .dataframe tbody tr th {\n",
       "        vertical-align: top;\n",
       "    }\n",
       "\n",
       "    .dataframe thead th {\n",
       "        text-align: right;\n",
       "    }\n",
       "</style>\n",
       "<table border=\"1\" class=\"dataframe\">\n",
       "  <thead>\n",
       "    <tr style=\"text-align: right;\">\n",
       "      <th></th>\n",
       "      <th>Missing Values</th>\n",
       "      <th>% missing of Total Values</th>\n",
       "      <th># Unique Values</th>\n",
       "      <th># Values as [0]</th>\n",
       "      <th>datatype</th>\n",
       "      <th>skew</th>\n",
       "      <th>count</th>\n",
       "      <th>mean</th>\n",
       "      <th>std</th>\n",
       "      <th>min</th>\n",
       "      <th>25%</th>\n",
       "      <th>50%</th>\n",
       "      <th>75%</th>\n",
       "      <th>max</th>\n",
       "    </tr>\n",
       "  </thead>\n",
       "  <tbody>\n",
       "    <tr>\n",
       "      <th>age</th>\n",
       "      <td>0</td>\n",
       "      <td>0.000</td>\n",
       "      <td>38</td>\n",
       "      <td>0</td>\n",
       "      <td>float64</td>\n",
       "      <td>-0.144</td>\n",
       "      <td>64.000</td>\n",
       "      <td>56.047</td>\n",
       "      <td>16.237</td>\n",
       "      <td>22.000</td>\n",
       "      <td>46.000</td>\n",
       "      <td>55.000</td>\n",
       "      <td>69.250</td>\n",
       "      <td>91.000</td>\n",
       "    </tr>\n",
       "    <tr>\n",
       "      <th>male</th>\n",
       "      <td>0</td>\n",
       "      <td>0.000</td>\n",
       "      <td>2</td>\n",
       "      <td>29</td>\n",
       "      <td>float64</td>\n",
       "      <td>-0.193</td>\n",
       "      <td>64.000</td>\n",
       "      <td>0.547</td>\n",
       "      <td>0.502</td>\n",
       "      <td>0.000</td>\n",
       "      <td>0.000</td>\n",
       "      <td>1.000</td>\n",
       "      <td>1.000</td>\n",
       "      <td>1.000</td>\n",
       "    </tr>\n",
       "    <tr>\n",
       "      <th>heart_rate</th>\n",
       "      <td>3</td>\n",
       "      <td>4.688</td>\n",
       "      <td>39</td>\n",
       "      <td>0</td>\n",
       "      <td>float64</td>\n",
       "      <td>1.119</td>\n",
       "      <td>61.000</td>\n",
       "      <td>91.221</td>\n",
       "      <td>20.368</td>\n",
       "      <td>57.000</td>\n",
       "      <td>80.000</td>\n",
       "      <td>88.000</td>\n",
       "      <td>102.000</td>\n",
       "      <td>172.000</td>\n",
       "    </tr>\n",
       "    <tr>\n",
       "      <th>resp_rate</th>\n",
       "      <td>11</td>\n",
       "      <td>17.188</td>\n",
       "      <td>24</td>\n",
       "      <td>0</td>\n",
       "      <td>float64</td>\n",
       "      <td>1.992</td>\n",
       "      <td>53.000</td>\n",
       "      <td>23.377</td>\n",
       "      <td>7.967</td>\n",
       "      <td>12.000</td>\n",
       "      <td>19.000</td>\n",
       "      <td>20.000</td>\n",
       "      <td>27.000</td>\n",
       "      <td>57.000</td>\n",
       "    </tr>\n",
       "    <tr>\n",
       "      <th>sys_press</th>\n",
       "      <td>7</td>\n",
       "      <td>10.938</td>\n",
       "      <td>41</td>\n",
       "      <td>0</td>\n",
       "      <td>float64</td>\n",
       "      <td>-0.055</td>\n",
       "      <td>57.000</td>\n",
       "      <td>129.193</td>\n",
       "      <td>24.046</td>\n",
       "      <td>79.000</td>\n",
       "      <td>112.000</td>\n",
       "      <td>130.000</td>\n",
       "      <td>148.000</td>\n",
       "      <td>180.000</td>\n",
       "    </tr>\n",
       "    <tr>\n",
       "      <th>dias_press</th>\n",
       "      <td>7</td>\n",
       "      <td>10.938</td>\n",
       "      <td>29</td>\n",
       "      <td>0</td>\n",
       "      <td>float64</td>\n",
       "      <td>0.876</td>\n",
       "      <td>57.000</td>\n",
       "      <td>76.895</td>\n",
       "      <td>14.979</td>\n",
       "      <td>44.000</td>\n",
       "      <td>68.000</td>\n",
       "      <td>76.000</td>\n",
       "      <td>81.000</td>\n",
       "      <td>120.000</td>\n",
       "    </tr>\n",
       "    <tr>\n",
       "      <th>mean_press</th>\n",
       "      <td>13</td>\n",
       "      <td>20.312</td>\n",
       "      <td>50</td>\n",
       "      <td>1</td>\n",
       "      <td>float64</td>\n",
       "      <td>-1.744</td>\n",
       "      <td>51.000</td>\n",
       "      <td>91.137</td>\n",
       "      <td>19.782</td>\n",
       "      <td>0.000</td>\n",
       "      <td>82.983</td>\n",
       "      <td>92.000</td>\n",
       "      <td>101.315</td>\n",
       "      <td>139.980</td>\n",
       "    </tr>\n",
       "    <tr>\n",
       "      <th>temp</th>\n",
       "      <td>12</td>\n",
       "      <td>18.750</td>\n",
       "      <td>27</td>\n",
       "      <td>0</td>\n",
       "      <td>float64</td>\n",
       "      <td>0.100</td>\n",
       "      <td>52.000</td>\n",
       "      <td>36.510</td>\n",
       "      <td>0.925</td>\n",
       "      <td>33.600</td>\n",
       "      <td>36.000</td>\n",
       "      <td>36.500</td>\n",
       "      <td>36.925</td>\n",
       "      <td>39.200</td>\n",
       "    </tr>\n",
       "    <tr>\n",
       "      <th>hemoglobin</th>\n",
       "      <td>10</td>\n",
       "      <td>15.625</td>\n",
       "      <td>48</td>\n",
       "      <td>0</td>\n",
       "      <td>float64</td>\n",
       "      <td>-0.339</td>\n",
       "      <td>54.000</td>\n",
       "      <td>11.821</td>\n",
       "      <td>2.445</td>\n",
       "      <td>6.890</td>\n",
       "      <td>9.775</td>\n",
       "      <td>12.285</td>\n",
       "      <td>13.488</td>\n",
       "      <td>16.450</td>\n",
       "    </tr>\n",
       "    <tr>\n",
       "      <th>platelets</th>\n",
       "      <td>4</td>\n",
       "      <td>6.250</td>\n",
       "      <td>60</td>\n",
       "      <td>0</td>\n",
       "      <td>float64</td>\n",
       "      <td>0.605</td>\n",
       "      <td>60.000</td>\n",
       "      <td>269929.333</td>\n",
       "      <td>135800.224</td>\n",
       "      <td>220.000</td>\n",
       "      <td>176250.000</td>\n",
       "      <td>251050.000</td>\n",
       "      <td>335725.000</td>\n",
       "      <td>625500.000</td>\n",
       "    </tr>\n",
       "    <tr>\n",
       "      <th>hematocrit</th>\n",
       "      <td>12</td>\n",
       "      <td>18.750</td>\n",
       "      <td>48</td>\n",
       "      <td>0</td>\n",
       "      <td>float64</td>\n",
       "      <td>-0.338</td>\n",
       "      <td>52.000</td>\n",
       "      <td>35.959</td>\n",
       "      <td>7.067</td>\n",
       "      <td>21.520</td>\n",
       "      <td>29.925</td>\n",
       "      <td>37.200</td>\n",
       "      <td>40.725</td>\n",
       "      <td>49.390</td>\n",
       "    </tr>\n",
       "    <tr>\n",
       "      <th>red_cells_count</th>\n",
       "      <td>16</td>\n",
       "      <td>25.000</td>\n",
       "      <td>46</td>\n",
       "      <td>0</td>\n",
       "      <td>float64</td>\n",
       "      <td>-0.628</td>\n",
       "      <td>48.000</td>\n",
       "      <td>3.918</td>\n",
       "      <td>1.046</td>\n",
       "      <td>1.010</td>\n",
       "      <td>3.442</td>\n",
       "      <td>4.055</td>\n",
       "      <td>4.622</td>\n",
       "      <td>5.750</td>\n",
       "    </tr>\n",
       "    <tr>\n",
       "      <th>hcm</th>\n",
       "      <td>7</td>\n",
       "      <td>10.938</td>\n",
       "      <td>51</td>\n",
       "      <td>0</td>\n",
       "      <td>float64</td>\n",
       "      <td>-1.227</td>\n",
       "      <td>57.000</td>\n",
       "      <td>28.315</td>\n",
       "      <td>2.238</td>\n",
       "      <td>21.000</td>\n",
       "      <td>27.300</td>\n",
       "      <td>28.590</td>\n",
       "      <td>29.700</td>\n",
       "      <td>32.270</td>\n",
       "    </tr>\n",
       "    <tr>\n",
       "      <th>rdw</th>\n",
       "      <td>7</td>\n",
       "      <td>10.938</td>\n",
       "      <td>43</td>\n",
       "      <td>0</td>\n",
       "      <td>float64</td>\n",
       "      <td>0.464</td>\n",
       "      <td>57.000</td>\n",
       "      <td>13.314</td>\n",
       "      <td>1.648</td>\n",
       "      <td>10.400</td>\n",
       "      <td>12.160</td>\n",
       "      <td>13.200</td>\n",
       "      <td>14.500</td>\n",
       "      <td>17.830</td>\n",
       "    </tr>\n",
       "    <tr>\n",
       "      <th>mcv</th>\n",
       "      <td>7</td>\n",
       "      <td>10.938</td>\n",
       "      <td>54</td>\n",
       "      <td>0</td>\n",
       "      <td>float64</td>\n",
       "      <td>-1.207</td>\n",
       "      <td>57.000</td>\n",
       "      <td>85.708</td>\n",
       "      <td>6.323</td>\n",
       "      <td>63.300</td>\n",
       "      <td>82.540</td>\n",
       "      <td>86.500</td>\n",
       "      <td>89.300</td>\n",
       "      <td>96.570</td>\n",
       "    </tr>\n",
       "    <tr>\n",
       "      <th>leukocytes</th>\n",
       "      <td>4</td>\n",
       "      <td>6.250</td>\n",
       "      <td>60</td>\n",
       "      <td>0</td>\n",
       "      <td>float64</td>\n",
       "      <td>0.568</td>\n",
       "      <td>60.000</td>\n",
       "      <td>10299.848</td>\n",
       "      <td>5859.378</td>\n",
       "      <td>2.500</td>\n",
       "      <td>6430.000</td>\n",
       "      <td>9783.500</td>\n",
       "      <td>13607.500</td>\n",
       "      <td>25150.000</td>\n",
       "    </tr>\n",
       "    <tr>\n",
       "      <th>neutrophil</th>\n",
       "      <td>12</td>\n",
       "      <td>18.750</td>\n",
       "      <td>52</td>\n",
       "      <td>0</td>\n",
       "      <td>float64</td>\n",
       "      <td>0.909</td>\n",
       "      <td>52.000</td>\n",
       "      <td>9062.300</td>\n",
       "      <td>5610.058</td>\n",
       "      <td>1320.000</td>\n",
       "      <td>5160.500</td>\n",
       "      <td>8299.000</td>\n",
       "      <td>12297.250</td>\n",
       "      <td>23766.000</td>\n",
       "    </tr>\n",
       "    <tr>\n",
       "      <th>lymphocytes</th>\n",
       "      <td>9</td>\n",
       "      <td>14.062</td>\n",
       "      <td>55</td>\n",
       "      <td>0</td>\n",
       "      <td>float64</td>\n",
       "      <td>1.699</td>\n",
       "      <td>55.000</td>\n",
       "      <td>958.905</td>\n",
       "      <td>576.889</td>\n",
       "      <td>21.800</td>\n",
       "      <td>564.000</td>\n",
       "      <td>839.000</td>\n",
       "      <td>1176.500</td>\n",
       "      <td>3327.000</td>\n",
       "    </tr>\n",
       "    <tr>\n",
       "      <th>basophils</th>\n",
       "      <td>6</td>\n",
       "      <td>9.375</td>\n",
       "      <td>37</td>\n",
       "      <td>12</td>\n",
       "      <td>float64</td>\n",
       "      <td>1.228</td>\n",
       "      <td>58.000</td>\n",
       "      <td>31.523</td>\n",
       "      <td>34.887</td>\n",
       "      <td>0.000</td>\n",
       "      <td>0.030</td>\n",
       "      <td>20.000</td>\n",
       "      <td>49.500</td>\n",
       "      <td>139.000</td>\n",
       "    </tr>\n",
       "    <tr>\n",
       "      <th>eosinophils</th>\n",
       "      <td>15</td>\n",
       "      <td>23.438</td>\n",
       "      <td>36</td>\n",
       "      <td>5</td>\n",
       "      <td>float64</td>\n",
       "      <td>1.989</td>\n",
       "      <td>49.000</td>\n",
       "      <td>61.187</td>\n",
       "      <td>85.457</td>\n",
       "      <td>0.000</td>\n",
       "      <td>3.000</td>\n",
       "      <td>20.000</td>\n",
       "      <td>98.000</td>\n",
       "      <td>369.000</td>\n",
       "    </tr>\n",
       "    <tr>\n",
       "      <th>monocytes</th>\n",
       "      <td>6</td>\n",
       "      <td>9.375</td>\n",
       "      <td>55</td>\n",
       "      <td>0</td>\n",
       "      <td>float64</td>\n",
       "      <td>-0.071</td>\n",
       "      <td>58.000</td>\n",
       "      <td>502.067</td>\n",
       "      <td>315.603</td>\n",
       "      <td>0.130</td>\n",
       "      <td>294.375</td>\n",
       "      <td>486.000</td>\n",
       "      <td>781.750</td>\n",
       "      <td>1134.000</td>\n",
       "    </tr>\n",
       "    <tr>\n",
       "      <th>crp</th>\n",
       "      <td>17</td>\n",
       "      <td>26.562</td>\n",
       "      <td>47</td>\n",
       "      <td>0</td>\n",
       "      <td>float64</td>\n",
       "      <td>0.767</td>\n",
       "      <td>47.000</td>\n",
       "      <td>83.359</td>\n",
       "      <td>93.586</td>\n",
       "      <td>0.100</td>\n",
       "      <td>5.045</td>\n",
       "      <td>26.800</td>\n",
       "      <td>180.350</td>\n",
       "      <td>284.400</td>\n",
       "    </tr>\n",
       "    <tr>\n",
       "      <th>region</th>\n",
       "      <td>0</td>\n",
       "      <td>0.000</td>\n",
       "      <td>5</td>\n",
       "      <td>0</td>\n",
       "      <td>object</td>\n",
       "      <td>NaN</td>\n",
       "      <td>NaN</td>\n",
       "      <td>NaN</td>\n",
       "      <td>NaN</td>\n",
       "      <td>NaN</td>\n",
       "      <td>NaN</td>\n",
       "      <td>NaN</td>\n",
       "      <td>NaN</td>\n",
       "      <td>NaN</td>\n",
       "    </tr>\n",
       "    <tr>\n",
       "      <th>state</th>\n",
       "      <td>0</td>\n",
       "      <td>0.000</td>\n",
       "      <td>9</td>\n",
       "      <td>0</td>\n",
       "      <td>object</td>\n",
       "      <td>NaN</td>\n",
       "      <td>NaN</td>\n",
       "      <td>NaN</td>\n",
       "      <td>NaN</td>\n",
       "      <td>NaN</td>\n",
       "      <td>NaN</td>\n",
       "      <td>NaN</td>\n",
       "      <td>NaN</td>\n",
       "      <td>NaN</td>\n",
       "    </tr>\n",
       "    <tr>\n",
       "      <th>class</th>\n",
       "      <td>0</td>\n",
       "      <td>0.000</td>\n",
       "      <td>2</td>\n",
       "      <td>52</td>\n",
       "      <td>int32</td>\n",
       "      <td>1.640</td>\n",
       "      <td>64.000</td>\n",
       "      <td>0.188</td>\n",
       "      <td>0.393</td>\n",
       "      <td>0.000</td>\n",
       "      <td>0.000</td>\n",
       "      <td>0.000</td>\n",
       "      <td>0.000</td>\n",
       "      <td>1.000</td>\n",
       "    </tr>\n",
       "  </tbody>\n",
       "</table>\n",
       "</div>"
      ],
      "text/plain": [
       "                 Missing Values  % missing of Total Values  # Unique Values  \\\n",
       "age                           0                      0.000               38   \n",
       "male                          0                      0.000                2   \n",
       "heart_rate                    3                      4.688               39   \n",
       "resp_rate                    11                     17.188               24   \n",
       "sys_press                     7                     10.938               41   \n",
       "dias_press                    7                     10.938               29   \n",
       "mean_press                   13                     20.312               50   \n",
       "temp                         12                     18.750               27   \n",
       "hemoglobin                   10                     15.625               48   \n",
       "platelets                     4                      6.250               60   \n",
       "hematocrit                   12                     18.750               48   \n",
       "red_cells_count              16                     25.000               46   \n",
       "hcm                           7                     10.938               51   \n",
       "rdw                           7                     10.938               43   \n",
       "mcv                           7                     10.938               54   \n",
       "leukocytes                    4                      6.250               60   \n",
       "neutrophil                   12                     18.750               52   \n",
       "lymphocytes                   9                     14.062               55   \n",
       "basophils                     6                      9.375               37   \n",
       "eosinophils                  15                     23.438               36   \n",
       "monocytes                     6                      9.375               55   \n",
       "crp                          17                     26.562               47   \n",
       "region                        0                      0.000                5   \n",
       "state                         0                      0.000                9   \n",
       "class                         0                      0.000                2   \n",
       "\n",
       "                 # Values as [0] datatype   skew  count       mean        std  \\\n",
       "age                            0  float64 -0.144 64.000     56.047     16.237   \n",
       "male                          29  float64 -0.193 64.000      0.547      0.502   \n",
       "heart_rate                     0  float64  1.119 61.000     91.221     20.368   \n",
       "resp_rate                      0  float64  1.992 53.000     23.377      7.967   \n",
       "sys_press                      0  float64 -0.055 57.000    129.193     24.046   \n",
       "dias_press                     0  float64  0.876 57.000     76.895     14.979   \n",
       "mean_press                     1  float64 -1.744 51.000     91.137     19.782   \n",
       "temp                           0  float64  0.100 52.000     36.510      0.925   \n",
       "hemoglobin                     0  float64 -0.339 54.000     11.821      2.445   \n",
       "platelets                      0  float64  0.605 60.000 269929.333 135800.224   \n",
       "hematocrit                     0  float64 -0.338 52.000     35.959      7.067   \n",
       "red_cells_count                0  float64 -0.628 48.000      3.918      1.046   \n",
       "hcm                            0  float64 -1.227 57.000     28.315      2.238   \n",
       "rdw                            0  float64  0.464 57.000     13.314      1.648   \n",
       "mcv                            0  float64 -1.207 57.000     85.708      6.323   \n",
       "leukocytes                     0  float64  0.568 60.000  10299.848   5859.378   \n",
       "neutrophil                     0  float64  0.909 52.000   9062.300   5610.058   \n",
       "lymphocytes                    0  float64  1.699 55.000    958.905    576.889   \n",
       "basophils                     12  float64  1.228 58.000     31.523     34.887   \n",
       "eosinophils                    5  float64  1.989 49.000     61.187     85.457   \n",
       "monocytes                      0  float64 -0.071 58.000    502.067    315.603   \n",
       "crp                            0  float64  0.767 47.000     83.359     93.586   \n",
       "region                         0   object    NaN    NaN        NaN        NaN   \n",
       "state                          0   object    NaN    NaN        NaN        NaN   \n",
       "class                         52    int32  1.640 64.000      0.188      0.393   \n",
       "\n",
       "                     min        25%        50%        75%        max  \n",
       "age               22.000     46.000     55.000     69.250     91.000  \n",
       "male               0.000      0.000      1.000      1.000      1.000  \n",
       "heart_rate        57.000     80.000     88.000    102.000    172.000  \n",
       "resp_rate         12.000     19.000     20.000     27.000     57.000  \n",
       "sys_press         79.000    112.000    130.000    148.000    180.000  \n",
       "dias_press        44.000     68.000     76.000     81.000    120.000  \n",
       "mean_press         0.000     82.983     92.000    101.315    139.980  \n",
       "temp              33.600     36.000     36.500     36.925     39.200  \n",
       "hemoglobin         6.890      9.775     12.285     13.488     16.450  \n",
       "platelets        220.000 176250.000 251050.000 335725.000 625500.000  \n",
       "hematocrit        21.520     29.925     37.200     40.725     49.390  \n",
       "red_cells_count    1.010      3.442      4.055      4.622      5.750  \n",
       "hcm               21.000     27.300     28.590     29.700     32.270  \n",
       "rdw               10.400     12.160     13.200     14.500     17.830  \n",
       "mcv               63.300     82.540     86.500     89.300     96.570  \n",
       "leukocytes         2.500   6430.000   9783.500  13607.500  25150.000  \n",
       "neutrophil      1320.000   5160.500   8299.000  12297.250  23766.000  \n",
       "lymphocytes       21.800    564.000    839.000   1176.500   3327.000  \n",
       "basophils          0.000      0.030     20.000     49.500    139.000  \n",
       "eosinophils        0.000      3.000     20.000     98.000    369.000  \n",
       "monocytes          0.130    294.375    486.000    781.750   1134.000  \n",
       "crp                0.100      5.045     26.800    180.350    284.400  \n",
       "region               NaN        NaN        NaN        NaN        NaN  \n",
       "state                NaN        NaN        NaN        NaN        NaN  \n",
       "class              0.000      0.000      0.000      0.000      1.000  "
      ]
     },
     "execution_count": 1290,
     "metadata": {},
     "output_type": "execute_result"
    }
   ],
   "source": [
    "#Check mean_press missing before recalculating\n",
    "column_summaries(df_iacov_model_lean)"
   ]
  },
  {
   "cell_type": "code",
   "execution_count": 1291,
   "metadata": {},
   "outputs": [],
   "source": [
    "df_iacov_model_lean['mean_press'] = df_iacov_model_lean.apply(isNullMeanPressure, axis=1)"
   ]
  },
  {
   "cell_type": "code",
   "execution_count": 1292,
   "metadata": {},
   "outputs": [
    {
     "data": {
      "text/html": [
       "<div>\n",
       "<style scoped>\n",
       "    .dataframe tbody tr th:only-of-type {\n",
       "        vertical-align: middle;\n",
       "    }\n",
       "\n",
       "    .dataframe tbody tr th {\n",
       "        vertical-align: top;\n",
       "    }\n",
       "\n",
       "    .dataframe thead th {\n",
       "        text-align: right;\n",
       "    }\n",
       "</style>\n",
       "<table border=\"1\" class=\"dataframe\">\n",
       "  <thead>\n",
       "    <tr style=\"text-align: right;\">\n",
       "      <th></th>\n",
       "      <th>Missing Values</th>\n",
       "      <th>% missing of Total Values</th>\n",
       "      <th># Unique Values</th>\n",
       "      <th># Values as [0]</th>\n",
       "      <th>datatype</th>\n",
       "      <th>skew</th>\n",
       "      <th>count</th>\n",
       "      <th>mean</th>\n",
       "      <th>std</th>\n",
       "      <th>min</th>\n",
       "      <th>25%</th>\n",
       "      <th>50%</th>\n",
       "      <th>75%</th>\n",
       "      <th>max</th>\n",
       "    </tr>\n",
       "  </thead>\n",
       "  <tbody>\n",
       "    <tr>\n",
       "      <th>age</th>\n",
       "      <td>0</td>\n",
       "      <td>0.000</td>\n",
       "      <td>38</td>\n",
       "      <td>0</td>\n",
       "      <td>float64</td>\n",
       "      <td>-0.144</td>\n",
       "      <td>64.000</td>\n",
       "      <td>56.047</td>\n",
       "      <td>16.237</td>\n",
       "      <td>22.000</td>\n",
       "      <td>46.000</td>\n",
       "      <td>55.000</td>\n",
       "      <td>69.250</td>\n",
       "      <td>91.000</td>\n",
       "    </tr>\n",
       "    <tr>\n",
       "      <th>male</th>\n",
       "      <td>0</td>\n",
       "      <td>0.000</td>\n",
       "      <td>2</td>\n",
       "      <td>29</td>\n",
       "      <td>float64</td>\n",
       "      <td>-0.193</td>\n",
       "      <td>64.000</td>\n",
       "      <td>0.547</td>\n",
       "      <td>0.502</td>\n",
       "      <td>0.000</td>\n",
       "      <td>0.000</td>\n",
       "      <td>1.000</td>\n",
       "      <td>1.000</td>\n",
       "      <td>1.000</td>\n",
       "    </tr>\n",
       "    <tr>\n",
       "      <th>heart_rate</th>\n",
       "      <td>3</td>\n",
       "      <td>4.688</td>\n",
       "      <td>39</td>\n",
       "      <td>0</td>\n",
       "      <td>float64</td>\n",
       "      <td>1.119</td>\n",
       "      <td>61.000</td>\n",
       "      <td>91.221</td>\n",
       "      <td>20.368</td>\n",
       "      <td>57.000</td>\n",
       "      <td>80.000</td>\n",
       "      <td>88.000</td>\n",
       "      <td>102.000</td>\n",
       "      <td>172.000</td>\n",
       "    </tr>\n",
       "    <tr>\n",
       "      <th>resp_rate</th>\n",
       "      <td>11</td>\n",
       "      <td>17.188</td>\n",
       "      <td>24</td>\n",
       "      <td>0</td>\n",
       "      <td>float64</td>\n",
       "      <td>1.992</td>\n",
       "      <td>53.000</td>\n",
       "      <td>23.377</td>\n",
       "      <td>7.967</td>\n",
       "      <td>12.000</td>\n",
       "      <td>19.000</td>\n",
       "      <td>20.000</td>\n",
       "      <td>27.000</td>\n",
       "      <td>57.000</td>\n",
       "    </tr>\n",
       "    <tr>\n",
       "      <th>sys_press</th>\n",
       "      <td>7</td>\n",
       "      <td>10.938</td>\n",
       "      <td>41</td>\n",
       "      <td>0</td>\n",
       "      <td>float64</td>\n",
       "      <td>-0.055</td>\n",
       "      <td>57.000</td>\n",
       "      <td>129.193</td>\n",
       "      <td>24.046</td>\n",
       "      <td>79.000</td>\n",
       "      <td>112.000</td>\n",
       "      <td>130.000</td>\n",
       "      <td>148.000</td>\n",
       "      <td>180.000</td>\n",
       "    </tr>\n",
       "    <tr>\n",
       "      <th>dias_press</th>\n",
       "      <td>7</td>\n",
       "      <td>10.938</td>\n",
       "      <td>29</td>\n",
       "      <td>0</td>\n",
       "      <td>float64</td>\n",
       "      <td>0.876</td>\n",
       "      <td>57.000</td>\n",
       "      <td>76.895</td>\n",
       "      <td>14.979</td>\n",
       "      <td>44.000</td>\n",
       "      <td>68.000</td>\n",
       "      <td>76.000</td>\n",
       "      <td>81.000</td>\n",
       "      <td>120.000</td>\n",
       "    </tr>\n",
       "    <tr>\n",
       "      <th>mean_press</th>\n",
       "      <td>6</td>\n",
       "      <td>9.375</td>\n",
       "      <td>56</td>\n",
       "      <td>1</td>\n",
       "      <td>float64</td>\n",
       "      <td>-1.569</td>\n",
       "      <td>58.000</td>\n",
       "      <td>92.655</td>\n",
       "      <td>19.828</td>\n",
       "      <td>0.000</td>\n",
       "      <td>83.311</td>\n",
       "      <td>93.160</td>\n",
       "      <td>103.009</td>\n",
       "      <td>139.980</td>\n",
       "    </tr>\n",
       "    <tr>\n",
       "      <th>temp</th>\n",
       "      <td>12</td>\n",
       "      <td>18.750</td>\n",
       "      <td>27</td>\n",
       "      <td>0</td>\n",
       "      <td>float64</td>\n",
       "      <td>0.100</td>\n",
       "      <td>52.000</td>\n",
       "      <td>36.510</td>\n",
       "      <td>0.925</td>\n",
       "      <td>33.600</td>\n",
       "      <td>36.000</td>\n",
       "      <td>36.500</td>\n",
       "      <td>36.925</td>\n",
       "      <td>39.200</td>\n",
       "    </tr>\n",
       "    <tr>\n",
       "      <th>hemoglobin</th>\n",
       "      <td>10</td>\n",
       "      <td>15.625</td>\n",
       "      <td>48</td>\n",
       "      <td>0</td>\n",
       "      <td>float64</td>\n",
       "      <td>-0.339</td>\n",
       "      <td>54.000</td>\n",
       "      <td>11.821</td>\n",
       "      <td>2.445</td>\n",
       "      <td>6.890</td>\n",
       "      <td>9.775</td>\n",
       "      <td>12.285</td>\n",
       "      <td>13.488</td>\n",
       "      <td>16.450</td>\n",
       "    </tr>\n",
       "    <tr>\n",
       "      <th>platelets</th>\n",
       "      <td>4</td>\n",
       "      <td>6.250</td>\n",
       "      <td>60</td>\n",
       "      <td>0</td>\n",
       "      <td>float64</td>\n",
       "      <td>0.605</td>\n",
       "      <td>60.000</td>\n",
       "      <td>269929.333</td>\n",
       "      <td>135800.224</td>\n",
       "      <td>220.000</td>\n",
       "      <td>176250.000</td>\n",
       "      <td>251050.000</td>\n",
       "      <td>335725.000</td>\n",
       "      <td>625500.000</td>\n",
       "    </tr>\n",
       "    <tr>\n",
       "      <th>hematocrit</th>\n",
       "      <td>12</td>\n",
       "      <td>18.750</td>\n",
       "      <td>48</td>\n",
       "      <td>0</td>\n",
       "      <td>float64</td>\n",
       "      <td>-0.338</td>\n",
       "      <td>52.000</td>\n",
       "      <td>35.959</td>\n",
       "      <td>7.067</td>\n",
       "      <td>21.520</td>\n",
       "      <td>29.925</td>\n",
       "      <td>37.200</td>\n",
       "      <td>40.725</td>\n",
       "      <td>49.390</td>\n",
       "    </tr>\n",
       "    <tr>\n",
       "      <th>red_cells_count</th>\n",
       "      <td>16</td>\n",
       "      <td>25.000</td>\n",
       "      <td>46</td>\n",
       "      <td>0</td>\n",
       "      <td>float64</td>\n",
       "      <td>-0.628</td>\n",
       "      <td>48.000</td>\n",
       "      <td>3.918</td>\n",
       "      <td>1.046</td>\n",
       "      <td>1.010</td>\n",
       "      <td>3.442</td>\n",
       "      <td>4.055</td>\n",
       "      <td>4.622</td>\n",
       "      <td>5.750</td>\n",
       "    </tr>\n",
       "    <tr>\n",
       "      <th>hcm</th>\n",
       "      <td>7</td>\n",
       "      <td>10.938</td>\n",
       "      <td>51</td>\n",
       "      <td>0</td>\n",
       "      <td>float64</td>\n",
       "      <td>-1.227</td>\n",
       "      <td>57.000</td>\n",
       "      <td>28.315</td>\n",
       "      <td>2.238</td>\n",
       "      <td>21.000</td>\n",
       "      <td>27.300</td>\n",
       "      <td>28.590</td>\n",
       "      <td>29.700</td>\n",
       "      <td>32.270</td>\n",
       "    </tr>\n",
       "    <tr>\n",
       "      <th>rdw</th>\n",
       "      <td>7</td>\n",
       "      <td>10.938</td>\n",
       "      <td>43</td>\n",
       "      <td>0</td>\n",
       "      <td>float64</td>\n",
       "      <td>0.464</td>\n",
       "      <td>57.000</td>\n",
       "      <td>13.314</td>\n",
       "      <td>1.648</td>\n",
       "      <td>10.400</td>\n",
       "      <td>12.160</td>\n",
       "      <td>13.200</td>\n",
       "      <td>14.500</td>\n",
       "      <td>17.830</td>\n",
       "    </tr>\n",
       "    <tr>\n",
       "      <th>mcv</th>\n",
       "      <td>7</td>\n",
       "      <td>10.938</td>\n",
       "      <td>54</td>\n",
       "      <td>0</td>\n",
       "      <td>float64</td>\n",
       "      <td>-1.207</td>\n",
       "      <td>57.000</td>\n",
       "      <td>85.708</td>\n",
       "      <td>6.323</td>\n",
       "      <td>63.300</td>\n",
       "      <td>82.540</td>\n",
       "      <td>86.500</td>\n",
       "      <td>89.300</td>\n",
       "      <td>96.570</td>\n",
       "    </tr>\n",
       "    <tr>\n",
       "      <th>leukocytes</th>\n",
       "      <td>4</td>\n",
       "      <td>6.250</td>\n",
       "      <td>60</td>\n",
       "      <td>0</td>\n",
       "      <td>float64</td>\n",
       "      <td>0.568</td>\n",
       "      <td>60.000</td>\n",
       "      <td>10299.848</td>\n",
       "      <td>5859.378</td>\n",
       "      <td>2.500</td>\n",
       "      <td>6430.000</td>\n",
       "      <td>9783.500</td>\n",
       "      <td>13607.500</td>\n",
       "      <td>25150.000</td>\n",
       "    </tr>\n",
       "    <tr>\n",
       "      <th>neutrophil</th>\n",
       "      <td>12</td>\n",
       "      <td>18.750</td>\n",
       "      <td>52</td>\n",
       "      <td>0</td>\n",
       "      <td>float64</td>\n",
       "      <td>0.909</td>\n",
       "      <td>52.000</td>\n",
       "      <td>9062.300</td>\n",
       "      <td>5610.058</td>\n",
       "      <td>1320.000</td>\n",
       "      <td>5160.500</td>\n",
       "      <td>8299.000</td>\n",
       "      <td>12297.250</td>\n",
       "      <td>23766.000</td>\n",
       "    </tr>\n",
       "    <tr>\n",
       "      <th>lymphocytes</th>\n",
       "      <td>9</td>\n",
       "      <td>14.062</td>\n",
       "      <td>55</td>\n",
       "      <td>0</td>\n",
       "      <td>float64</td>\n",
       "      <td>1.699</td>\n",
       "      <td>55.000</td>\n",
       "      <td>958.905</td>\n",
       "      <td>576.889</td>\n",
       "      <td>21.800</td>\n",
       "      <td>564.000</td>\n",
       "      <td>839.000</td>\n",
       "      <td>1176.500</td>\n",
       "      <td>3327.000</td>\n",
       "    </tr>\n",
       "    <tr>\n",
       "      <th>basophils</th>\n",
       "      <td>6</td>\n",
       "      <td>9.375</td>\n",
       "      <td>37</td>\n",
       "      <td>12</td>\n",
       "      <td>float64</td>\n",
       "      <td>1.228</td>\n",
       "      <td>58.000</td>\n",
       "      <td>31.523</td>\n",
       "      <td>34.887</td>\n",
       "      <td>0.000</td>\n",
       "      <td>0.030</td>\n",
       "      <td>20.000</td>\n",
       "      <td>49.500</td>\n",
       "      <td>139.000</td>\n",
       "    </tr>\n",
       "    <tr>\n",
       "      <th>eosinophils</th>\n",
       "      <td>15</td>\n",
       "      <td>23.438</td>\n",
       "      <td>36</td>\n",
       "      <td>5</td>\n",
       "      <td>float64</td>\n",
       "      <td>1.989</td>\n",
       "      <td>49.000</td>\n",
       "      <td>61.187</td>\n",
       "      <td>85.457</td>\n",
       "      <td>0.000</td>\n",
       "      <td>3.000</td>\n",
       "      <td>20.000</td>\n",
       "      <td>98.000</td>\n",
       "      <td>369.000</td>\n",
       "    </tr>\n",
       "    <tr>\n",
       "      <th>monocytes</th>\n",
       "      <td>6</td>\n",
       "      <td>9.375</td>\n",
       "      <td>55</td>\n",
       "      <td>0</td>\n",
       "      <td>float64</td>\n",
       "      <td>-0.071</td>\n",
       "      <td>58.000</td>\n",
       "      <td>502.067</td>\n",
       "      <td>315.603</td>\n",
       "      <td>0.130</td>\n",
       "      <td>294.375</td>\n",
       "      <td>486.000</td>\n",
       "      <td>781.750</td>\n",
       "      <td>1134.000</td>\n",
       "    </tr>\n",
       "    <tr>\n",
       "      <th>crp</th>\n",
       "      <td>17</td>\n",
       "      <td>26.562</td>\n",
       "      <td>47</td>\n",
       "      <td>0</td>\n",
       "      <td>float64</td>\n",
       "      <td>0.767</td>\n",
       "      <td>47.000</td>\n",
       "      <td>83.359</td>\n",
       "      <td>93.586</td>\n",
       "      <td>0.100</td>\n",
       "      <td>5.045</td>\n",
       "      <td>26.800</td>\n",
       "      <td>180.350</td>\n",
       "      <td>284.400</td>\n",
       "    </tr>\n",
       "    <tr>\n",
       "      <th>region</th>\n",
       "      <td>0</td>\n",
       "      <td>0.000</td>\n",
       "      <td>5</td>\n",
       "      <td>0</td>\n",
       "      <td>object</td>\n",
       "      <td>NaN</td>\n",
       "      <td>NaN</td>\n",
       "      <td>NaN</td>\n",
       "      <td>NaN</td>\n",
       "      <td>NaN</td>\n",
       "      <td>NaN</td>\n",
       "      <td>NaN</td>\n",
       "      <td>NaN</td>\n",
       "      <td>NaN</td>\n",
       "    </tr>\n",
       "    <tr>\n",
       "      <th>state</th>\n",
       "      <td>0</td>\n",
       "      <td>0.000</td>\n",
       "      <td>9</td>\n",
       "      <td>0</td>\n",
       "      <td>object</td>\n",
       "      <td>NaN</td>\n",
       "      <td>NaN</td>\n",
       "      <td>NaN</td>\n",
       "      <td>NaN</td>\n",
       "      <td>NaN</td>\n",
       "      <td>NaN</td>\n",
       "      <td>NaN</td>\n",
       "      <td>NaN</td>\n",
       "      <td>NaN</td>\n",
       "    </tr>\n",
       "    <tr>\n",
       "      <th>class</th>\n",
       "      <td>0</td>\n",
       "      <td>0.000</td>\n",
       "      <td>2</td>\n",
       "      <td>52</td>\n",
       "      <td>int32</td>\n",
       "      <td>1.640</td>\n",
       "      <td>64.000</td>\n",
       "      <td>0.188</td>\n",
       "      <td>0.393</td>\n",
       "      <td>0.000</td>\n",
       "      <td>0.000</td>\n",
       "      <td>0.000</td>\n",
       "      <td>0.000</td>\n",
       "      <td>1.000</td>\n",
       "    </tr>\n",
       "  </tbody>\n",
       "</table>\n",
       "</div>"
      ],
      "text/plain": [
       "                 Missing Values  % missing of Total Values  # Unique Values  \\\n",
       "age                           0                      0.000               38   \n",
       "male                          0                      0.000                2   \n",
       "heart_rate                    3                      4.688               39   \n",
       "resp_rate                    11                     17.188               24   \n",
       "sys_press                     7                     10.938               41   \n",
       "dias_press                    7                     10.938               29   \n",
       "mean_press                    6                      9.375               56   \n",
       "temp                         12                     18.750               27   \n",
       "hemoglobin                   10                     15.625               48   \n",
       "platelets                     4                      6.250               60   \n",
       "hematocrit                   12                     18.750               48   \n",
       "red_cells_count              16                     25.000               46   \n",
       "hcm                           7                     10.938               51   \n",
       "rdw                           7                     10.938               43   \n",
       "mcv                           7                     10.938               54   \n",
       "leukocytes                    4                      6.250               60   \n",
       "neutrophil                   12                     18.750               52   \n",
       "lymphocytes                   9                     14.062               55   \n",
       "basophils                     6                      9.375               37   \n",
       "eosinophils                  15                     23.438               36   \n",
       "monocytes                     6                      9.375               55   \n",
       "crp                          17                     26.562               47   \n",
       "region                        0                      0.000                5   \n",
       "state                         0                      0.000                9   \n",
       "class                         0                      0.000                2   \n",
       "\n",
       "                 # Values as [0] datatype   skew  count       mean        std  \\\n",
       "age                            0  float64 -0.144 64.000     56.047     16.237   \n",
       "male                          29  float64 -0.193 64.000      0.547      0.502   \n",
       "heart_rate                     0  float64  1.119 61.000     91.221     20.368   \n",
       "resp_rate                      0  float64  1.992 53.000     23.377      7.967   \n",
       "sys_press                      0  float64 -0.055 57.000    129.193     24.046   \n",
       "dias_press                     0  float64  0.876 57.000     76.895     14.979   \n",
       "mean_press                     1  float64 -1.569 58.000     92.655     19.828   \n",
       "temp                           0  float64  0.100 52.000     36.510      0.925   \n",
       "hemoglobin                     0  float64 -0.339 54.000     11.821      2.445   \n",
       "platelets                      0  float64  0.605 60.000 269929.333 135800.224   \n",
       "hematocrit                     0  float64 -0.338 52.000     35.959      7.067   \n",
       "red_cells_count                0  float64 -0.628 48.000      3.918      1.046   \n",
       "hcm                            0  float64 -1.227 57.000     28.315      2.238   \n",
       "rdw                            0  float64  0.464 57.000     13.314      1.648   \n",
       "mcv                            0  float64 -1.207 57.000     85.708      6.323   \n",
       "leukocytes                     0  float64  0.568 60.000  10299.848   5859.378   \n",
       "neutrophil                     0  float64  0.909 52.000   9062.300   5610.058   \n",
       "lymphocytes                    0  float64  1.699 55.000    958.905    576.889   \n",
       "basophils                     12  float64  1.228 58.000     31.523     34.887   \n",
       "eosinophils                    5  float64  1.989 49.000     61.187     85.457   \n",
       "monocytes                      0  float64 -0.071 58.000    502.067    315.603   \n",
       "crp                            0  float64  0.767 47.000     83.359     93.586   \n",
       "region                         0   object    NaN    NaN        NaN        NaN   \n",
       "state                          0   object    NaN    NaN        NaN        NaN   \n",
       "class                         52    int32  1.640 64.000      0.188      0.393   \n",
       "\n",
       "                     min        25%        50%        75%        max  \n",
       "age               22.000     46.000     55.000     69.250     91.000  \n",
       "male               0.000      0.000      1.000      1.000      1.000  \n",
       "heart_rate        57.000     80.000     88.000    102.000    172.000  \n",
       "resp_rate         12.000     19.000     20.000     27.000     57.000  \n",
       "sys_press         79.000    112.000    130.000    148.000    180.000  \n",
       "dias_press        44.000     68.000     76.000     81.000    120.000  \n",
       "mean_press         0.000     83.311     93.160    103.009    139.980  \n",
       "temp              33.600     36.000     36.500     36.925     39.200  \n",
       "hemoglobin         6.890      9.775     12.285     13.488     16.450  \n",
       "platelets        220.000 176250.000 251050.000 335725.000 625500.000  \n",
       "hematocrit        21.520     29.925     37.200     40.725     49.390  \n",
       "red_cells_count    1.010      3.442      4.055      4.622      5.750  \n",
       "hcm               21.000     27.300     28.590     29.700     32.270  \n",
       "rdw               10.400     12.160     13.200     14.500     17.830  \n",
       "mcv               63.300     82.540     86.500     89.300     96.570  \n",
       "leukocytes         2.500   6430.000   9783.500  13607.500  25150.000  \n",
       "neutrophil      1320.000   5160.500   8299.000  12297.250  23766.000  \n",
       "lymphocytes       21.800    564.000    839.000   1176.500   3327.000  \n",
       "basophils          0.000      0.030     20.000     49.500    139.000  \n",
       "eosinophils        0.000      3.000     20.000     98.000    369.000  \n",
       "monocytes          0.130    294.375    486.000    781.750   1134.000  \n",
       "crp                0.100      5.045     26.800    180.350    284.400  \n",
       "region               NaN        NaN        NaN        NaN        NaN  \n",
       "state                NaN        NaN        NaN        NaN        NaN  \n",
       "class              0.000      0.000      0.000      0.000      1.000  "
      ]
     },
     "execution_count": 1292,
     "metadata": {},
     "output_type": "execute_result"
    }
   ],
   "source": [
    "#Check mean_press missing after recalculating\n",
    "column_summaries(df_iacov_model_lean)"
   ]
  },
  {
   "cell_type": "code",
   "execution_count": 1293,
   "metadata": {},
   "outputs": [],
   "source": [
    "X_test_specific['mean_press'] = X_test_specific.apply(isNullMeanPressure, axis=1)"
   ]
  },
  {
   "cell_type": "code",
   "execution_count": 1294,
   "metadata": {},
   "outputs": [],
   "source": [
    "#column_summaries(X_test_specific)"
   ]
  },
  {
   "cell_type": "markdown",
   "metadata": {},
   "source": [
    "### Put X_test and y_test in separate files"
   ]
  },
  {
   "cell_type": "code",
   "execution_count": 1295,
   "metadata": {},
   "outputs": [
    {
     "data": {
      "text/plain": [
       "'X_test_other_region_absolute_NORTE_AM_AMAZONAS_HUGV.csv'"
      ]
     },
     "execution_count": 1295,
     "metadata": {},
     "output_type": "execute_result"
    }
   ],
   "source": [
    "x_test_specific_name = 'X_test_other_region_absolute_' + X_test_specific.region.iloc[0]  \\\n",
    "                        + '_' + X_test_specific.state.iloc[0]  \\\n",
    "                        + '_' + X_test_specific.city_hospital.iloc[0] +  \".csv\"\n",
    "x_test_specific_name"
   ]
  },
  {
   "cell_type": "code",
   "execution_count": 1296,
   "metadata": {},
   "outputs": [
    {
     "data": {
      "text/plain": [
       "'y_icu_other_region_absolute_NORTE_AM_AMAZONAS_HUGV.csv'"
      ]
     },
     "execution_count": 1296,
     "metadata": {},
     "output_type": "execute_result"
    }
   ],
   "source": [
    "y_test_specific_name = 'y_icu_other_region_absolute_' + X_test_specific.region.iloc[0]  \\\n",
    "                        + '_' + X_test_specific.state.iloc[0]  \\\n",
    "                        + '_' + X_test_specific.city_hospital.iloc[0] +  \".csv\"\n",
    "y_test_specific_name"
   ]
  },
  {
   "cell_type": "code",
   "execution_count": 1297,
   "metadata": {},
   "outputs": [
    {
     "data": {
      "text/plain": [
       "(15, 25)"
      ]
     },
     "execution_count": 1297,
     "metadata": {},
     "output_type": "execute_result"
    }
   ],
   "source": [
    "X_test_specific.to_csv(x_test_specific_name, sep=';')\n",
    "X_test_specific.shape"
   ]
  },
  {
   "cell_type": "code",
   "execution_count": 1298,
   "metadata": {},
   "outputs": [
    {
     "data": {
      "text/plain": [
       "(15,)"
      ]
     },
     "execution_count": 1298,
     "metadata": {},
     "output_type": "execute_result"
    }
   ],
   "source": [
    "y_test_specific.to_csv(y_test_specific_name, sep=';')\n",
    "y_test_specific.shape"
   ]
  },
  {
   "cell_type": "markdown",
   "metadata": {},
   "source": [
    "## 2.4) Prepare Experiment \n",
    "\n",
    "### All hospitals except specific"
   ]
  },
  {
   "cell_type": "code",
   "execution_count": 1299,
   "metadata": {},
   "outputs": [
    {
     "data": {
      "text/plain": [
       "(64, 25)"
      ]
     },
     "execution_count": 1299,
     "metadata": {},
     "output_type": "execute_result"
    }
   ],
   "source": [
    "df_iacov_model_lean.shape"
   ]
  },
  {
   "cell_type": "code",
   "execution_count": 1300,
   "metadata": {},
   "outputs": [],
   "source": [
    "df_iacov_model_train = df_iacov_model_lean"
   ]
  },
  {
   "cell_type": "code",
   "execution_count": 1301,
   "metadata": {},
   "outputs": [
    {
     "data": {
      "text/plain": [
       "Index(['age', 'male', 'heart_rate', 'resp_rate', 'sys_press', 'dias_press',\n",
       "       'mean_press', 'temp', 'hemoglobin', 'platelets', 'hematocrit',\n",
       "       'red_cells_count', 'hcm', 'rdw', 'mcv', 'leukocytes', 'neutrophil',\n",
       "       'lymphocytes', 'basophils', 'eosinophils', 'monocytes', 'crp', 'class'],\n",
       "      dtype='object')"
      ]
     },
     "execution_count": 1301,
     "metadata": {},
     "output_type": "execute_result"
    }
   ],
   "source": [
    "df_iacov_model_train = df_iacov_model_train.drop(['region'],axis=1)\n",
    "df_iacov_model_train = df_iacov_model_train.drop(['state'],axis=1)\n",
    "df_iacov_model_train.columns"
   ]
  },
  {
   "cell_type": "code",
   "execution_count": 1302,
   "metadata": {},
   "outputs": [
    {
     "name": "stdout",
     "output_type": "stream",
     "text": [
      "<class 'pandas.core.frame.DataFrame'>\n",
      "Index: 64 entries, 2518 to 33\n",
      "Data columns (total 23 columns):\n",
      " #   Column           Non-Null Count  Dtype  \n",
      "---  ------           --------------  -----  \n",
      " 0   age              64 non-null     float64\n",
      " 1   male             64 non-null     float64\n",
      " 2   heart_rate       61 non-null     float64\n",
      " 3   resp_rate        53 non-null     float64\n",
      " 4   sys_press        57 non-null     float64\n",
      " 5   dias_press       57 non-null     float64\n",
      " 6   mean_press       58 non-null     float64\n",
      " 7   temp             52 non-null     float64\n",
      " 8   hemoglobin       54 non-null     float64\n",
      " 9   platelets        60 non-null     float64\n",
      " 10  hematocrit       52 non-null     float64\n",
      " 11  red_cells_count  48 non-null     float64\n",
      " 12  hcm              57 non-null     float64\n",
      " 13  rdw              57 non-null     float64\n",
      " 14  mcv              57 non-null     float64\n",
      " 15  leukocytes       60 non-null     float64\n",
      " 16  neutrophil       52 non-null     float64\n",
      " 17  lymphocytes      55 non-null     float64\n",
      " 18  basophils        58 non-null     float64\n",
      " 19  eosinophils      49 non-null     float64\n",
      " 20  monocytes        58 non-null     float64\n",
      " 21  crp              47 non-null     float64\n",
      " 22  class            64 non-null     int32  \n",
      "dtypes: float64(22), int32(1)\n",
      "memory usage: 11.8 KB\n"
     ]
    }
   ],
   "source": [
    "df_iacov_model_train.info()"
   ]
  },
  {
   "cell_type": "code",
   "execution_count": 1303,
   "metadata": {},
   "outputs": [
    {
     "name": "stdout",
     "output_type": "stream",
     "text": [
      " \n",
      "Setup Succesfully Completed!\n"
     ]
    },
    {
     "data": {
      "text/html": [
       "<style type=\"text/css\">\n",
       "#T_9e781_row4_col1, #T_9e781_row15_col1, #T_9e781_row42_col1 {\n",
       "  background-color: lightgreen;\n",
       "}\n",
       "</style>\n",
       "<table id=\"T_9e781\">\n",
       "  <thead>\n",
       "    <tr>\n",
       "      <th class=\"blank level0\" >&nbsp;</th>\n",
       "      <th id=\"T_9e781_level0_col0\" class=\"col_heading level0 col0\" >Description</th>\n",
       "      <th id=\"T_9e781_level0_col1\" class=\"col_heading level0 col1\" >Value</th>\n",
       "    </tr>\n",
       "  </thead>\n",
       "  <tbody>\n",
       "    <tr>\n",
       "      <th id=\"T_9e781_level0_row0\" class=\"row_heading level0 row0\" >0</th>\n",
       "      <td id=\"T_9e781_row0_col0\" class=\"data row0 col0\" >session_id</td>\n",
       "      <td id=\"T_9e781_row0_col1\" class=\"data row0 col1\" >42</td>\n",
       "    </tr>\n",
       "    <tr>\n",
       "      <th id=\"T_9e781_level0_row1\" class=\"row_heading level0 row1\" >1</th>\n",
       "      <td id=\"T_9e781_row1_col0\" class=\"data row1 col0\" >Target Type</td>\n",
       "      <td id=\"T_9e781_row1_col1\" class=\"data row1 col1\" >Binary</td>\n",
       "    </tr>\n",
       "    <tr>\n",
       "      <th id=\"T_9e781_level0_row2\" class=\"row_heading level0 row2\" >2</th>\n",
       "      <td id=\"T_9e781_row2_col0\" class=\"data row2 col0\" >Label Encoded</td>\n",
       "      <td id=\"T_9e781_row2_col1\" class=\"data row2 col1\" >None</td>\n",
       "    </tr>\n",
       "    <tr>\n",
       "      <th id=\"T_9e781_level0_row3\" class=\"row_heading level0 row3\" >3</th>\n",
       "      <td id=\"T_9e781_row3_col0\" class=\"data row3 col0\" >Original Data</td>\n",
       "      <td id=\"T_9e781_row3_col1\" class=\"data row3 col1\" >(64, 23)</td>\n",
       "    </tr>\n",
       "    <tr>\n",
       "      <th id=\"T_9e781_level0_row4\" class=\"row_heading level0 row4\" >4</th>\n",
       "      <td id=\"T_9e781_row4_col0\" class=\"data row4 col0\" >Missing Values </td>\n",
       "      <td id=\"T_9e781_row4_col1\" class=\"data row4 col1\" >True</td>\n",
       "    </tr>\n",
       "    <tr>\n",
       "      <th id=\"T_9e781_level0_row5\" class=\"row_heading level0 row5\" >5</th>\n",
       "      <td id=\"T_9e781_row5_col0\" class=\"data row5 col0\" >Numeric Features </td>\n",
       "      <td id=\"T_9e781_row5_col1\" class=\"data row5 col1\" >21</td>\n",
       "    </tr>\n",
       "    <tr>\n",
       "      <th id=\"T_9e781_level0_row6\" class=\"row_heading level0 row6\" >6</th>\n",
       "      <td id=\"T_9e781_row6_col0\" class=\"data row6 col0\" >Categorical Features </td>\n",
       "      <td id=\"T_9e781_row6_col1\" class=\"data row6 col1\" >1</td>\n",
       "    </tr>\n",
       "    <tr>\n",
       "      <th id=\"T_9e781_level0_row7\" class=\"row_heading level0 row7\" >7</th>\n",
       "      <td id=\"T_9e781_row7_col0\" class=\"data row7 col0\" >Ordinal Features </td>\n",
       "      <td id=\"T_9e781_row7_col1\" class=\"data row7 col1\" >False</td>\n",
       "    </tr>\n",
       "    <tr>\n",
       "      <th id=\"T_9e781_level0_row8\" class=\"row_heading level0 row8\" >8</th>\n",
       "      <td id=\"T_9e781_row8_col0\" class=\"data row8 col0\" >High Cardinality Features </td>\n",
       "      <td id=\"T_9e781_row8_col1\" class=\"data row8 col1\" >False</td>\n",
       "    </tr>\n",
       "    <tr>\n",
       "      <th id=\"T_9e781_level0_row9\" class=\"row_heading level0 row9\" >9</th>\n",
       "      <td id=\"T_9e781_row9_col0\" class=\"data row9 col0\" >High Cardinality Method </td>\n",
       "      <td id=\"T_9e781_row9_col1\" class=\"data row9 col1\" >None</td>\n",
       "    </tr>\n",
       "    <tr>\n",
       "      <th id=\"T_9e781_level0_row10\" class=\"row_heading level0 row10\" >10</th>\n",
       "      <td id=\"T_9e781_row10_col0\" class=\"data row10 col0\" >Sampled Data</td>\n",
       "      <td id=\"T_9e781_row10_col1\" class=\"data row10 col1\" >(92, 23)</td>\n",
       "    </tr>\n",
       "    <tr>\n",
       "      <th id=\"T_9e781_level0_row11\" class=\"row_heading level0 row11\" >11</th>\n",
       "      <td id=\"T_9e781_row11_col0\" class=\"data row11 col0\" >Transformed Train Set</td>\n",
       "      <td id=\"T_9e781_row11_col1\" class=\"data row11 col1\" >(72, 22)</td>\n",
       "    </tr>\n",
       "    <tr>\n",
       "      <th id=\"T_9e781_level0_row12\" class=\"row_heading level0 row12\" >12</th>\n",
       "      <td id=\"T_9e781_row12_col0\" class=\"data row12 col0\" >Transformed Test Set</td>\n",
       "      <td id=\"T_9e781_row12_col1\" class=\"data row12 col1\" >(20, 22)</td>\n",
       "    </tr>\n",
       "    <tr>\n",
       "      <th id=\"T_9e781_level0_row13\" class=\"row_heading level0 row13\" >13</th>\n",
       "      <td id=\"T_9e781_row13_col0\" class=\"data row13 col0\" >Numeric Imputer </td>\n",
       "      <td id=\"T_9e781_row13_col1\" class=\"data row13 col1\" >median</td>\n",
       "    </tr>\n",
       "    <tr>\n",
       "      <th id=\"T_9e781_level0_row14\" class=\"row_heading level0 row14\" >14</th>\n",
       "      <td id=\"T_9e781_row14_col0\" class=\"data row14 col0\" >Categorical Imputer </td>\n",
       "      <td id=\"T_9e781_row14_col1\" class=\"data row14 col1\" >constant</td>\n",
       "    </tr>\n",
       "    <tr>\n",
       "      <th id=\"T_9e781_level0_row15\" class=\"row_heading level0 row15\" >15</th>\n",
       "      <td id=\"T_9e781_row15_col0\" class=\"data row15 col0\" >Normalize </td>\n",
       "      <td id=\"T_9e781_row15_col1\" class=\"data row15 col1\" >True</td>\n",
       "    </tr>\n",
       "    <tr>\n",
       "      <th id=\"T_9e781_level0_row16\" class=\"row_heading level0 row16\" >16</th>\n",
       "      <td id=\"T_9e781_row16_col0\" class=\"data row16 col0\" >Normalize Method </td>\n",
       "      <td id=\"T_9e781_row16_col1\" class=\"data row16 col1\" >zscore</td>\n",
       "    </tr>\n",
       "    <tr>\n",
       "      <th id=\"T_9e781_level0_row17\" class=\"row_heading level0 row17\" >17</th>\n",
       "      <td id=\"T_9e781_row17_col0\" class=\"data row17 col0\" >Transformation </td>\n",
       "      <td id=\"T_9e781_row17_col1\" class=\"data row17 col1\" >False</td>\n",
       "    </tr>\n",
       "    <tr>\n",
       "      <th id=\"T_9e781_level0_row18\" class=\"row_heading level0 row18\" >18</th>\n",
       "      <td id=\"T_9e781_row18_col0\" class=\"data row18 col0\" >Transformation Method </td>\n",
       "      <td id=\"T_9e781_row18_col1\" class=\"data row18 col1\" >None</td>\n",
       "    </tr>\n",
       "    <tr>\n",
       "      <th id=\"T_9e781_level0_row19\" class=\"row_heading level0 row19\" >19</th>\n",
       "      <td id=\"T_9e781_row19_col0\" class=\"data row19 col0\" >PCA </td>\n",
       "      <td id=\"T_9e781_row19_col1\" class=\"data row19 col1\" >False</td>\n",
       "    </tr>\n",
       "    <tr>\n",
       "      <th id=\"T_9e781_level0_row20\" class=\"row_heading level0 row20\" >20</th>\n",
       "      <td id=\"T_9e781_row20_col0\" class=\"data row20 col0\" >PCA Method </td>\n",
       "      <td id=\"T_9e781_row20_col1\" class=\"data row20 col1\" >None</td>\n",
       "    </tr>\n",
       "    <tr>\n",
       "      <th id=\"T_9e781_level0_row21\" class=\"row_heading level0 row21\" >21</th>\n",
       "      <td id=\"T_9e781_row21_col0\" class=\"data row21 col0\" >PCA Components </td>\n",
       "      <td id=\"T_9e781_row21_col1\" class=\"data row21 col1\" >None</td>\n",
       "    </tr>\n",
       "    <tr>\n",
       "      <th id=\"T_9e781_level0_row22\" class=\"row_heading level0 row22\" >22</th>\n",
       "      <td id=\"T_9e781_row22_col0\" class=\"data row22 col0\" >Ignore Low Variance </td>\n",
       "      <td id=\"T_9e781_row22_col1\" class=\"data row22 col1\" >False</td>\n",
       "    </tr>\n",
       "    <tr>\n",
       "      <th id=\"T_9e781_level0_row23\" class=\"row_heading level0 row23\" >23</th>\n",
       "      <td id=\"T_9e781_row23_col0\" class=\"data row23 col0\" >Combine Rare Levels </td>\n",
       "      <td id=\"T_9e781_row23_col1\" class=\"data row23 col1\" >False</td>\n",
       "    </tr>\n",
       "    <tr>\n",
       "      <th id=\"T_9e781_level0_row24\" class=\"row_heading level0 row24\" >24</th>\n",
       "      <td id=\"T_9e781_row24_col0\" class=\"data row24 col0\" >Rare Level Threshold </td>\n",
       "      <td id=\"T_9e781_row24_col1\" class=\"data row24 col1\" >None</td>\n",
       "    </tr>\n",
       "    <tr>\n",
       "      <th id=\"T_9e781_level0_row25\" class=\"row_heading level0 row25\" >25</th>\n",
       "      <td id=\"T_9e781_row25_col0\" class=\"data row25 col0\" >Numeric Binning </td>\n",
       "      <td id=\"T_9e781_row25_col1\" class=\"data row25 col1\" >False</td>\n",
       "    </tr>\n",
       "    <tr>\n",
       "      <th id=\"T_9e781_level0_row26\" class=\"row_heading level0 row26\" >26</th>\n",
       "      <td id=\"T_9e781_row26_col0\" class=\"data row26 col0\" >Remove Outliers </td>\n",
       "      <td id=\"T_9e781_row26_col1\" class=\"data row26 col1\" >False</td>\n",
       "    </tr>\n",
       "    <tr>\n",
       "      <th id=\"T_9e781_level0_row27\" class=\"row_heading level0 row27\" >27</th>\n",
       "      <td id=\"T_9e781_row27_col0\" class=\"data row27 col0\" >Outliers Threshold </td>\n",
       "      <td id=\"T_9e781_row27_col1\" class=\"data row27 col1\" >None</td>\n",
       "    </tr>\n",
       "    <tr>\n",
       "      <th id=\"T_9e781_level0_row28\" class=\"row_heading level0 row28\" >28</th>\n",
       "      <td id=\"T_9e781_row28_col0\" class=\"data row28 col0\" >Remove Multicollinearity </td>\n",
       "      <td id=\"T_9e781_row28_col1\" class=\"data row28 col1\" >False</td>\n",
       "    </tr>\n",
       "    <tr>\n",
       "      <th id=\"T_9e781_level0_row29\" class=\"row_heading level0 row29\" >29</th>\n",
       "      <td id=\"T_9e781_row29_col0\" class=\"data row29 col0\" >Multicollinearity Threshold </td>\n",
       "      <td id=\"T_9e781_row29_col1\" class=\"data row29 col1\" >None</td>\n",
       "    </tr>\n",
       "    <tr>\n",
       "      <th id=\"T_9e781_level0_row30\" class=\"row_heading level0 row30\" >30</th>\n",
       "      <td id=\"T_9e781_row30_col0\" class=\"data row30 col0\" >Clustering </td>\n",
       "      <td id=\"T_9e781_row30_col1\" class=\"data row30 col1\" >False</td>\n",
       "    </tr>\n",
       "    <tr>\n",
       "      <th id=\"T_9e781_level0_row31\" class=\"row_heading level0 row31\" >31</th>\n",
       "      <td id=\"T_9e781_row31_col0\" class=\"data row31 col0\" >Clustering Iteration </td>\n",
       "      <td id=\"T_9e781_row31_col1\" class=\"data row31 col1\" >None</td>\n",
       "    </tr>\n",
       "    <tr>\n",
       "      <th id=\"T_9e781_level0_row32\" class=\"row_heading level0 row32\" >32</th>\n",
       "      <td id=\"T_9e781_row32_col0\" class=\"data row32 col0\" >Polynomial Features </td>\n",
       "      <td id=\"T_9e781_row32_col1\" class=\"data row32 col1\" >False</td>\n",
       "    </tr>\n",
       "    <tr>\n",
       "      <th id=\"T_9e781_level0_row33\" class=\"row_heading level0 row33\" >33</th>\n",
       "      <td id=\"T_9e781_row33_col0\" class=\"data row33 col0\" >Polynomial Degree </td>\n",
       "      <td id=\"T_9e781_row33_col1\" class=\"data row33 col1\" >None</td>\n",
       "    </tr>\n",
       "    <tr>\n",
       "      <th id=\"T_9e781_level0_row34\" class=\"row_heading level0 row34\" >34</th>\n",
       "      <td id=\"T_9e781_row34_col0\" class=\"data row34 col0\" >Trignometry Features </td>\n",
       "      <td id=\"T_9e781_row34_col1\" class=\"data row34 col1\" >False</td>\n",
       "    </tr>\n",
       "    <tr>\n",
       "      <th id=\"T_9e781_level0_row35\" class=\"row_heading level0 row35\" >35</th>\n",
       "      <td id=\"T_9e781_row35_col0\" class=\"data row35 col0\" >Polynomial Threshold </td>\n",
       "      <td id=\"T_9e781_row35_col1\" class=\"data row35 col1\" >None</td>\n",
       "    </tr>\n",
       "    <tr>\n",
       "      <th id=\"T_9e781_level0_row36\" class=\"row_heading level0 row36\" >36</th>\n",
       "      <td id=\"T_9e781_row36_col0\" class=\"data row36 col0\" >Group Features </td>\n",
       "      <td id=\"T_9e781_row36_col1\" class=\"data row36 col1\" >False</td>\n",
       "    </tr>\n",
       "    <tr>\n",
       "      <th id=\"T_9e781_level0_row37\" class=\"row_heading level0 row37\" >37</th>\n",
       "      <td id=\"T_9e781_row37_col0\" class=\"data row37 col0\" >Feature Selection </td>\n",
       "      <td id=\"T_9e781_row37_col1\" class=\"data row37 col1\" >False</td>\n",
       "    </tr>\n",
       "    <tr>\n",
       "      <th id=\"T_9e781_level0_row38\" class=\"row_heading level0 row38\" >38</th>\n",
       "      <td id=\"T_9e781_row38_col0\" class=\"data row38 col0\" >Features Selection Threshold </td>\n",
       "      <td id=\"T_9e781_row38_col1\" class=\"data row38 col1\" >None</td>\n",
       "    </tr>\n",
       "    <tr>\n",
       "      <th id=\"T_9e781_level0_row39\" class=\"row_heading level0 row39\" >39</th>\n",
       "      <td id=\"T_9e781_row39_col0\" class=\"data row39 col0\" >Feature Interaction </td>\n",
       "      <td id=\"T_9e781_row39_col1\" class=\"data row39 col1\" >False</td>\n",
       "    </tr>\n",
       "    <tr>\n",
       "      <th id=\"T_9e781_level0_row40\" class=\"row_heading level0 row40\" >40</th>\n",
       "      <td id=\"T_9e781_row40_col0\" class=\"data row40 col0\" >Feature Ratio </td>\n",
       "      <td id=\"T_9e781_row40_col1\" class=\"data row40 col1\" >False</td>\n",
       "    </tr>\n",
       "    <tr>\n",
       "      <th id=\"T_9e781_level0_row41\" class=\"row_heading level0 row41\" >41</th>\n",
       "      <td id=\"T_9e781_row41_col0\" class=\"data row41 col0\" >Interaction Threshold </td>\n",
       "      <td id=\"T_9e781_row41_col1\" class=\"data row41 col1\" >None</td>\n",
       "    </tr>\n",
       "    <tr>\n",
       "      <th id=\"T_9e781_level0_row42\" class=\"row_heading level0 row42\" >42</th>\n",
       "      <td id=\"T_9e781_row42_col0\" class=\"data row42 col0\" >Resample Train Data </td>\n",
       "      <td id=\"T_9e781_row42_col1\" class=\"data row42 col1\" >True</td>\n",
       "    </tr>\n",
       "    <tr>\n",
       "      <th id=\"T_9e781_level0_row43\" class=\"row_heading level0 row43\" >43</th>\n",
       "      <td id=\"T_9e781_row43_col0\" class=\"data row43 col0\" >Resample Method</td>\n",
       "      <td id=\"T_9e781_row43_col1\" class=\"data row43 col1\" >random_over</td>\n",
       "    </tr>\n",
       "  </tbody>\n",
       "</table>\n"
      ],
      "text/plain": [
       "<pandas.io.formats.style.Styler at 0x1880a16dd80>"
      ]
     },
     "metadata": {},
     "output_type": "display_data"
    }
   ],
   "source": [
    "exp = setup(df_iacov_model_train\n",
    "            , target='class'\n",
    "            , categorical_features = ['male']\n",
    "            , numeric_features = ['crp','basophils','eosinophils','red_cells_count','monocytes','hemoglobin','resp_rate','neutrophil','hematocrit']\n",
    "            , normalize=True\n",
    "            #, remove_multicollinearity=True\n",
    "            ,numeric_imputation='median'\n",
    "#             ,numeric_imputation='ignore'\n",
    "            #,multicollinearity_threshold=0.9\n",
    "            , resample=True\n",
    "            , resample_method='random_over'\n",
    "#             , train_size = 1.0 #100pct for training\n",
    "           )"
   ]
  },
  {
   "cell_type": "code",
   "execution_count": 1304,
   "metadata": {},
   "outputs": [],
   "source": [
    "X, y, X_train, X_test, y_train, y_test, seed, prep_pipe, _ = exp"
   ]
  },
  {
   "cell_type": "code",
   "execution_count": 1305,
   "metadata": {},
   "outputs": [
    {
     "data": {
      "text/plain": [
       "(72, 22)"
      ]
     },
     "execution_count": 1305,
     "metadata": {},
     "output_type": "execute_result"
    }
   ],
   "source": [
    "X_train.shape"
   ]
  },
  {
   "cell_type": "code",
   "execution_count": 1306,
   "metadata": {},
   "outputs": [
    {
     "data": {
      "text/plain": [
       "(20, 22)"
      ]
     },
     "execution_count": 1306,
     "metadata": {},
     "output_type": "execute_result"
    }
   ],
   "source": [
    "X_test.shape"
   ]
  },
  {
   "cell_type": "code",
   "execution_count": 1307,
   "metadata": {},
   "outputs": [
    {
     "data": {
      "text/plain": [
       "Index(['age', 'heart_rate', 'resp_rate', 'sys_press', 'dias_press',\n",
       "       'mean_press', 'temp', 'hemoglobin', 'platelets', 'hematocrit',\n",
       "       'red_cells_count', 'hcm', 'rdw', 'mcv', 'leukocytes', 'neutrophil',\n",
       "       'lymphocytes', 'basophils', 'eosinophils', 'monocytes', 'crp',\n",
       "       'male_1.0'],\n",
       "      dtype='object')"
      ]
     },
     "execution_count": 1307,
     "metadata": {},
     "output_type": "execute_result"
    }
   ],
   "source": [
    "X_test.columns"
   ]
  },
  {
   "cell_type": "code",
   "execution_count": 1308,
   "metadata": {},
   "outputs": [
    {
     "data": {
      "text/plain": [
       "42"
      ]
     },
     "execution_count": 1308,
     "metadata": {},
     "output_type": "execute_result"
    }
   ],
   "source": [
    "seed"
   ]
  },
  {
   "cell_type": "code",
   "execution_count": 1309,
   "metadata": {},
   "outputs": [],
   "source": [
    "# Xtrain.head()"
   ]
  },
  {
   "cell_type": "markdown",
   "metadata": {},
   "source": [
    "### Filtering only 5 pre-selected models"
   ]
  },
  {
   "cell_type": "code",
   "execution_count": 1310,
   "metadata": {},
   "outputs": [],
   "source": [
    "# print(inspect.getsource(compare_models))"
   ]
  },
  {
   "cell_type": "code",
   "execution_count": 1311,
   "metadata": {},
   "outputs": [
    {
     "data": {
      "text/html": [
       "<style type=\"text/css\">\n",
       "#T_64590 th {\n",
       "  text-align: left;\n",
       "}\n",
       "#T_64590_row0_col0, #T_64590_row0_col1, #T_64590_row0_col3, #T_64590_row0_col6, #T_64590_row0_col7, #T_64590_row0_col9, #T_64590_row0_col10, #T_64590_row1_col0, #T_64590_row1_col2, #T_64590_row1_col8, #T_64590_row2_col0, #T_64590_row2_col1, #T_64590_row2_col2, #T_64590_row2_col3, #T_64590_row2_col4, #T_64590_row2_col5, #T_64590_row2_col6, #T_64590_row2_col7, #T_64590_row2_col8, #T_64590_row2_col9, #T_64590_row2_col10 {\n",
       "  text-align: left;\n",
       "}\n",
       "#T_64590_row0_col2, #T_64590_row0_col4, #T_64590_row0_col5, #T_64590_row0_col8, #T_64590_row1_col1, #T_64590_row1_col3, #T_64590_row1_col4, #T_64590_row1_col5, #T_64590_row1_col6, #T_64590_row1_col7, #T_64590_row1_col9, #T_64590_row1_col10 {\n",
       "  background-color: yellow;\n",
       "  text-align: left;\n",
       "}\n",
       "</style>\n",
       "<table id=\"T_64590\">\n",
       "  <thead>\n",
       "    <tr>\n",
       "      <th class=\"blank level0\" >&nbsp;</th>\n",
       "      <th id=\"T_64590_level0_col0\" class=\"col_heading level0 col0\" >Model</th>\n",
       "      <th id=\"T_64590_level0_col1\" class=\"col_heading level0 col1\" >Accuracy</th>\n",
       "      <th id=\"T_64590_level0_col2\" class=\"col_heading level0 col2\" >AUC</th>\n",
       "      <th id=\"T_64590_level0_col3\" class=\"col_heading level0 col3\" >Recall</th>\n",
       "      <th id=\"T_64590_level0_col4\" class=\"col_heading level0 col4\" >Specificity</th>\n",
       "      <th id=\"T_64590_level0_col5\" class=\"col_heading level0 col5\" >Prec.</th>\n",
       "      <th id=\"T_64590_level0_col6\" class=\"col_heading level0 col6\" >F1</th>\n",
       "      <th id=\"T_64590_level0_col7\" class=\"col_heading level0 col7\" >Kappa</th>\n",
       "      <th id=\"T_64590_level0_col8\" class=\"col_heading level0 col8\" >Hosmer_lemeshow</th>\n",
       "      <th id=\"T_64590_level0_col9\" class=\"col_heading level0 col9\" >Spiegelhalter</th>\n",
       "      <th id=\"T_64590_level0_col10\" class=\"col_heading level0 col10\" >Scaled_brier</th>\n",
       "    </tr>\n",
       "  </thead>\n",
       "  <tbody>\n",
       "    <tr>\n",
       "      <th id=\"T_64590_level0_row0\" class=\"row_heading level0 row0\" >0</th>\n",
       "      <td id=\"T_64590_row0_col0\" class=\"data row0 col0\" >CatBoost Classifier</td>\n",
       "      <td id=\"T_64590_row0_col1\" class=\"data row0 col1\" >0.917900</td>\n",
       "      <td id=\"T_64590_row0_col2\" class=\"data row0 col2\" >1.000000</td>\n",
       "      <td id=\"T_64590_row0_col3\" class=\"data row0 col3\" >0.966700</td>\n",
       "      <td id=\"T_64590_row0_col4\" class=\"data row0 col4\" >0.866700</td>\n",
       "      <td id=\"T_64590_row0_col5\" class=\"data row0 col5\" >0.896700</td>\n",
       "      <td id=\"T_64590_row0_col6\" class=\"data row0 col6\" >0.920300</td>\n",
       "      <td id=\"T_64590_row0_col7\" class=\"data row0 col7\" >0.833100</td>\n",
       "      <td id=\"T_64590_row0_col8\" class=\"data row0 col8\" >0.889200</td>\n",
       "      <td id=\"T_64590_row0_col9\" class=\"data row0 col9\" >0.557500</td>\n",
       "      <td id=\"T_64590_row0_col10\" class=\"data row0 col10\" >0.800100</td>\n",
       "    </tr>\n",
       "    <tr>\n",
       "      <th id=\"T_64590_level0_row1\" class=\"row_heading level0 row1\" >1</th>\n",
       "      <td id=\"T_64590_row1_col0\" class=\"data row1 col0\" >Extreme Gradient Boosting</td>\n",
       "      <td id=\"T_64590_row1_col1\" class=\"data row1 col1\" >0.932100</td>\n",
       "      <td id=\"T_64590_row1_col2\" class=\"data row1 col2\" >0.991700</td>\n",
       "      <td id=\"T_64590_row1_col3\" class=\"data row1 col3\" >1.000000</td>\n",
       "      <td id=\"T_64590_row1_col4\" class=\"data row1 col4\" >0.866700</td>\n",
       "      <td id=\"T_64590_row1_col5\" class=\"data row1 col5\" >0.896700</td>\n",
       "      <td id=\"T_64590_row1_col6\" class=\"data row1 col6\" >0.940300</td>\n",
       "      <td id=\"T_64590_row1_col7\" class=\"data row1 col7\" >0.863600</td>\n",
       "      <td id=\"T_64590_row1_col8\" class=\"data row1 col8\" >0.877100</td>\n",
       "      <td id=\"T_64590_row1_col9\" class=\"data row1 col9\" >0.578400</td>\n",
       "      <td id=\"T_64590_row1_col10\" class=\"data row1 col10\" >0.839900</td>\n",
       "    </tr>\n",
       "    <tr>\n",
       "      <th id=\"T_64590_level0_row2\" class=\"row_heading level0 row2\" >2</th>\n",
       "      <td id=\"T_64590_row2_col0\" class=\"data row2 col0\" >Light Gradient Boosting Machine</td>\n",
       "      <td id=\"T_64590_row2_col1\" class=\"data row2 col1\" >0.903600</td>\n",
       "      <td id=\"T_64590_row2_col2\" class=\"data row2 col2\" >0.991700</td>\n",
       "      <td id=\"T_64590_row2_col3\" class=\"data row2 col3\" >0.966700</td>\n",
       "      <td id=\"T_64590_row2_col4\" class=\"data row2 col4\" >0.841700</td>\n",
       "      <td id=\"T_64590_row2_col5\" class=\"data row2 col5\" >0.881700</td>\n",
       "      <td id=\"T_64590_row2_col6\" class=\"data row2 col6\" >0.909600</td>\n",
       "      <td id=\"T_64590_row2_col7\" class=\"data row2 col7\" >0.807300</td>\n",
       "      <td id=\"T_64590_row2_col8\" class=\"data row2 col8\" >0.714900</td>\n",
       "      <td id=\"T_64590_row2_col9\" class=\"data row2 col9\" >0.525400</td>\n",
       "      <td id=\"T_64590_row2_col10\" class=\"data row2 col10\" >0.740500</td>\n",
       "    </tr>\n",
       "  </tbody>\n",
       "</table>\n"
      ],
      "text/plain": [
       "<pandas.io.formats.style.Styler at 0x1880b9132b0>"
      ]
     },
     "execution_count": 1311,
     "metadata": {},
     "output_type": "execute_result"
    }
   ],
   "source": [
    "#Modelos que suportam missing (1) - Modelos pre-selecionados(2)\n",
    "compare_models(blacklist = [\"lr\",\"knn\",\"nb\",\"dt\",\"svm\",\"rbfsvm\",\"gpc\",\"ridge\",\"qda\",\"ada\",\"gbc\",\"lda\",\"et\",\"mlp\",\"rf\"] , turbo = False)"
   ]
  },
  {
   "cell_type": "markdown",
   "metadata": {},
   "source": [
    "### Tune selected models by AUC (and hyperopt bayesian optimization) to use on test data"
   ]
  },
  {
   "cell_type": "code",
   "execution_count": 1312,
   "metadata": {
    "scrolled": true
   },
   "outputs": [
    {
     "data": {
      "text/html": [
       "<div>\n",
       "<style scoped>\n",
       "    .dataframe tbody tr th:only-of-type {\n",
       "        vertical-align: middle;\n",
       "    }\n",
       "\n",
       "    .dataframe tbody tr th {\n",
       "        vertical-align: top;\n",
       "    }\n",
       "\n",
       "    .dataframe thead th {\n",
       "        text-align: right;\n",
       "    }\n",
       "</style>\n",
       "<table border=\"1\" class=\"dataframe\">\n",
       "  <thead>\n",
       "    <tr style=\"text-align: right;\">\n",
       "      <th></th>\n",
       "      <th>Accuracy</th>\n",
       "      <th>AUC</th>\n",
       "      <th>Recall</th>\n",
       "      <th>Specificity</th>\n",
       "      <th>Prec.</th>\n",
       "      <th>F1</th>\n",
       "      <th>Kappa</th>\n",
       "      <th>Hosmer_lemeshow</th>\n",
       "      <th>Spiegelhalter</th>\n",
       "      <th>Scaled_brier</th>\n",
       "    </tr>\n",
       "  </thead>\n",
       "  <tbody>\n",
       "    <tr>\n",
       "      <th>0</th>\n",
       "      <td>0.750</td>\n",
       "      <td>1.000</td>\n",
       "      <td>1.000</td>\n",
       "      <td>0.500</td>\n",
       "      <td>0.667</td>\n",
       "      <td>0.800</td>\n",
       "      <td>0.500</td>\n",
       "      <td>0.027</td>\n",
       "      <td>0.004</td>\n",
       "      <td>0.210</td>\n",
       "    </tr>\n",
       "    <tr>\n",
       "      <th>1</th>\n",
       "      <td>1.000</td>\n",
       "      <td>1.000</td>\n",
       "      <td>1.000</td>\n",
       "      <td>1.000</td>\n",
       "      <td>1.000</td>\n",
       "      <td>1.000</td>\n",
       "      <td>1.000</td>\n",
       "      <td>1.000</td>\n",
       "      <td>0.430</td>\n",
       "      <td>0.956</td>\n",
       "    </tr>\n",
       "    <tr>\n",
       "      <th>2</th>\n",
       "      <td>1.000</td>\n",
       "      <td>1.000</td>\n",
       "      <td>1.000</td>\n",
       "      <td>1.000</td>\n",
       "      <td>1.000</td>\n",
       "      <td>1.000</td>\n",
       "      <td>1.000</td>\n",
       "      <td>1.000</td>\n",
       "      <td>0.714</td>\n",
       "      <td>0.996</td>\n",
       "    </tr>\n",
       "    <tr>\n",
       "      <th>3</th>\n",
       "      <td>1.000</td>\n",
       "      <td>1.000</td>\n",
       "      <td>1.000</td>\n",
       "      <td>1.000</td>\n",
       "      <td>1.000</td>\n",
       "      <td>1.000</td>\n",
       "      <td>1.000</td>\n",
       "      <td>1.000</td>\n",
       "      <td>0.645</td>\n",
       "      <td>0.991</td>\n",
       "    </tr>\n",
       "    <tr>\n",
       "      <th>4</th>\n",
       "      <td>1.000</td>\n",
       "      <td>1.000</td>\n",
       "      <td>1.000</td>\n",
       "      <td>1.000</td>\n",
       "      <td>1.000</td>\n",
       "      <td>1.000</td>\n",
       "      <td>1.000</td>\n",
       "      <td>1.000</td>\n",
       "      <td>0.686</td>\n",
       "      <td>0.995</td>\n",
       "    </tr>\n",
       "    <tr>\n",
       "      <th>5</th>\n",
       "      <td>0.857</td>\n",
       "      <td>1.000</td>\n",
       "      <td>1.000</td>\n",
       "      <td>0.667</td>\n",
       "      <td>0.800</td>\n",
       "      <td>0.889</td>\n",
       "      <td>0.696</td>\n",
       "      <td>0.769</td>\n",
       "      <td>0.255</td>\n",
       "      <td>0.507</td>\n",
       "    </tr>\n",
       "    <tr>\n",
       "      <th>6</th>\n",
       "      <td>0.857</td>\n",
       "      <td>1.000</td>\n",
       "      <td>1.000</td>\n",
       "      <td>0.750</td>\n",
       "      <td>0.750</td>\n",
       "      <td>0.857</td>\n",
       "      <td>0.720</td>\n",
       "      <td>0.897</td>\n",
       "      <td>0.786</td>\n",
       "      <td>0.623</td>\n",
       "    </tr>\n",
       "    <tr>\n",
       "      <th>7</th>\n",
       "      <td>0.857</td>\n",
       "      <td>1.000</td>\n",
       "      <td>1.000</td>\n",
       "      <td>0.750</td>\n",
       "      <td>0.750</td>\n",
       "      <td>0.857</td>\n",
       "      <td>0.720</td>\n",
       "      <td>0.990</td>\n",
       "      <td>0.804</td>\n",
       "      <td>0.790</td>\n",
       "    </tr>\n",
       "    <tr>\n",
       "      <th>8</th>\n",
       "      <td>1.000</td>\n",
       "      <td>1.000</td>\n",
       "      <td>1.000</td>\n",
       "      <td>1.000</td>\n",
       "      <td>1.000</td>\n",
       "      <td>1.000</td>\n",
       "      <td>1.000</td>\n",
       "      <td>1.000</td>\n",
       "      <td>0.452</td>\n",
       "      <td>0.943</td>\n",
       "    </tr>\n",
       "    <tr>\n",
       "      <th>9</th>\n",
       "      <td>0.857</td>\n",
       "      <td>1.000</td>\n",
       "      <td>0.667</td>\n",
       "      <td>1.000</td>\n",
       "      <td>1.000</td>\n",
       "      <td>0.800</td>\n",
       "      <td>0.696</td>\n",
       "      <td>0.995</td>\n",
       "      <td>0.729</td>\n",
       "      <td>0.831</td>\n",
       "    </tr>\n",
       "    <tr>\n",
       "      <th>Mean</th>\n",
       "      <td>0.918</td>\n",
       "      <td>1.000</td>\n",
       "      <td>0.967</td>\n",
       "      <td>0.867</td>\n",
       "      <td>0.897</td>\n",
       "      <td>0.920</td>\n",
       "      <td>0.833</td>\n",
       "      <td>0.868</td>\n",
       "      <td>0.550</td>\n",
       "      <td>0.784</td>\n",
       "    </tr>\n",
       "    <tr>\n",
       "      <th>SD</th>\n",
       "      <td>0.088</td>\n",
       "      <td>0.000</td>\n",
       "      <td>0.100</td>\n",
       "      <td>0.176</td>\n",
       "      <td>0.130</td>\n",
       "      <td>0.084</td>\n",
       "      <td>0.177</td>\n",
       "      <td>0.868</td>\n",
       "      <td>0.550</td>\n",
       "      <td>0.784</td>\n",
       "    </tr>\n",
       "  </tbody>\n",
       "</table>\n",
       "</div>"
      ],
      "text/plain": [
       "      Accuracy   AUC  Recall  Specificity  Prec.    F1  Kappa  \\\n",
       "0        0.750 1.000   1.000        0.500  0.667 0.800  0.500   \n",
       "1        1.000 1.000   1.000        1.000  1.000 1.000  1.000   \n",
       "2        1.000 1.000   1.000        1.000  1.000 1.000  1.000   \n",
       "3        1.000 1.000   1.000        1.000  1.000 1.000  1.000   \n",
       "4        1.000 1.000   1.000        1.000  1.000 1.000  1.000   \n",
       "5        0.857 1.000   1.000        0.667  0.800 0.889  0.696   \n",
       "6        0.857 1.000   1.000        0.750  0.750 0.857  0.720   \n",
       "7        0.857 1.000   1.000        0.750  0.750 0.857  0.720   \n",
       "8        1.000 1.000   1.000        1.000  1.000 1.000  1.000   \n",
       "9        0.857 1.000   0.667        1.000  1.000 0.800  0.696   \n",
       "Mean     0.918 1.000   0.967        0.867  0.897 0.920  0.833   \n",
       "SD       0.088 0.000   0.100        0.176  0.130 0.084  0.177   \n",
       "\n",
       "      Hosmer_lemeshow  Spiegelhalter  Scaled_brier  \n",
       "0               0.027          0.004         0.210  \n",
       "1               1.000          0.430         0.956  \n",
       "2               1.000          0.714         0.996  \n",
       "3               1.000          0.645         0.991  \n",
       "4               1.000          0.686         0.995  \n",
       "5               0.769          0.255         0.507  \n",
       "6               0.897          0.786         0.623  \n",
       "7               0.990          0.804         0.790  \n",
       "8               1.000          0.452         0.943  \n",
       "9               0.995          0.729         0.831  \n",
       "Mean            0.868          0.550         0.784  \n",
       "SD              0.868          0.550         0.784  "
      ]
     },
     "metadata": {},
     "output_type": "display_data"
    }
   ],
   "source": [
    "cattuned = tune_model('catboost', optimize='AUC', n_iter=20)"
   ]
  },
  {
   "cell_type": "code",
   "execution_count": 1313,
   "metadata": {},
   "outputs": [
    {
     "data": {
      "text/html": [
       "<div>\n",
       "<style scoped>\n",
       "    .dataframe tbody tr th:only-of-type {\n",
       "        vertical-align: middle;\n",
       "    }\n",
       "\n",
       "    .dataframe tbody tr th {\n",
       "        vertical-align: top;\n",
       "    }\n",
       "\n",
       "    .dataframe thead th {\n",
       "        text-align: right;\n",
       "    }\n",
       "</style>\n",
       "<table border=\"1\" class=\"dataframe\">\n",
       "  <thead>\n",
       "    <tr style=\"text-align: right;\">\n",
       "      <th></th>\n",
       "      <th>Accuracy</th>\n",
       "      <th>AUC</th>\n",
       "      <th>Recall</th>\n",
       "      <th>Specificity</th>\n",
       "      <th>Prec.</th>\n",
       "      <th>F1</th>\n",
       "      <th>Kappa</th>\n",
       "      <th>Hosmer_lemeshow</th>\n",
       "      <th>Spiegelhalter</th>\n",
       "      <th>Scaled_brier</th>\n",
       "    </tr>\n",
       "  </thead>\n",
       "  <tbody>\n",
       "    <tr>\n",
       "      <th>0</th>\n",
       "      <td>0.750</td>\n",
       "      <td>0.969</td>\n",
       "      <td>1.000</td>\n",
       "      <td>0.500</td>\n",
       "      <td>0.667</td>\n",
       "      <td>0.800</td>\n",
       "      <td>0.500</td>\n",
       "      <td>0.622</td>\n",
       "      <td>0.537</td>\n",
       "      <td>0.342</td>\n",
       "    </tr>\n",
       "    <tr>\n",
       "      <th>1</th>\n",
       "      <td>1.000</td>\n",
       "      <td>1.000</td>\n",
       "      <td>1.000</td>\n",
       "      <td>1.000</td>\n",
       "      <td>1.000</td>\n",
       "      <td>1.000</td>\n",
       "      <td>1.000</td>\n",
       "      <td>0.858</td>\n",
       "      <td>0.102</td>\n",
       "      <td>0.559</td>\n",
       "    </tr>\n",
       "    <tr>\n",
       "      <th>2</th>\n",
       "      <td>1.000</td>\n",
       "      <td>1.000</td>\n",
       "      <td>1.000</td>\n",
       "      <td>1.000</td>\n",
       "      <td>1.000</td>\n",
       "      <td>1.000</td>\n",
       "      <td>1.000</td>\n",
       "      <td>0.951</td>\n",
       "      <td>0.103</td>\n",
       "      <td>0.681</td>\n",
       "    </tr>\n",
       "    <tr>\n",
       "      <th>3</th>\n",
       "      <td>1.000</td>\n",
       "      <td>1.000</td>\n",
       "      <td>1.000</td>\n",
       "      <td>1.000</td>\n",
       "      <td>1.000</td>\n",
       "      <td>1.000</td>\n",
       "      <td>1.000</td>\n",
       "      <td>0.960</td>\n",
       "      <td>0.123</td>\n",
       "      <td>0.710</td>\n",
       "    </tr>\n",
       "    <tr>\n",
       "      <th>4</th>\n",
       "      <td>1.000</td>\n",
       "      <td>1.000</td>\n",
       "      <td>1.000</td>\n",
       "      <td>1.000</td>\n",
       "      <td>1.000</td>\n",
       "      <td>1.000</td>\n",
       "      <td>1.000</td>\n",
       "      <td>0.934</td>\n",
       "      <td>0.091</td>\n",
       "      <td>0.630</td>\n",
       "    </tr>\n",
       "    <tr>\n",
       "      <th>5</th>\n",
       "      <td>0.857</td>\n",
       "      <td>1.000</td>\n",
       "      <td>1.000</td>\n",
       "      <td>0.667</td>\n",
       "      <td>0.800</td>\n",
       "      <td>0.889</td>\n",
       "      <td>0.696</td>\n",
       "      <td>0.875</td>\n",
       "      <td>0.177</td>\n",
       "      <td>0.512</td>\n",
       "    </tr>\n",
       "    <tr>\n",
       "      <th>6</th>\n",
       "      <td>0.857</td>\n",
       "      <td>0.833</td>\n",
       "      <td>1.000</td>\n",
       "      <td>0.750</td>\n",
       "      <td>0.750</td>\n",
       "      <td>0.857</td>\n",
       "      <td>0.720</td>\n",
       "      <td>0.631</td>\n",
       "      <td>0.694</td>\n",
       "      <td>0.248</td>\n",
       "    </tr>\n",
       "    <tr>\n",
       "      <th>7</th>\n",
       "      <td>0.857</td>\n",
       "      <td>0.917</td>\n",
       "      <td>1.000</td>\n",
       "      <td>0.750</td>\n",
       "      <td>0.750</td>\n",
       "      <td>0.857</td>\n",
       "      <td>0.720</td>\n",
       "      <td>0.822</td>\n",
       "      <td>0.266</td>\n",
       "      <td>0.426</td>\n",
       "    </tr>\n",
       "    <tr>\n",
       "      <th>8</th>\n",
       "      <td>1.000</td>\n",
       "      <td>1.000</td>\n",
       "      <td>1.000</td>\n",
       "      <td>1.000</td>\n",
       "      <td>1.000</td>\n",
       "      <td>1.000</td>\n",
       "      <td>1.000</td>\n",
       "      <td>0.925</td>\n",
       "      <td>0.097</td>\n",
       "      <td>0.606</td>\n",
       "    </tr>\n",
       "    <tr>\n",
       "      <th>9</th>\n",
       "      <td>1.000</td>\n",
       "      <td>1.000</td>\n",
       "      <td>1.000</td>\n",
       "      <td>1.000</td>\n",
       "      <td>1.000</td>\n",
       "      <td>1.000</td>\n",
       "      <td>1.000</td>\n",
       "      <td>0.950</td>\n",
       "      <td>0.112</td>\n",
       "      <td>0.677</td>\n",
       "    </tr>\n",
       "    <tr>\n",
       "      <th>Mean</th>\n",
       "      <td>0.932</td>\n",
       "      <td>0.972</td>\n",
       "      <td>1.000</td>\n",
       "      <td>0.867</td>\n",
       "      <td>0.897</td>\n",
       "      <td>0.940</td>\n",
       "      <td>0.864</td>\n",
       "      <td>0.853</td>\n",
       "      <td>0.230</td>\n",
       "      <td>0.539</td>\n",
       "    </tr>\n",
       "    <tr>\n",
       "      <th>SD</th>\n",
       "      <td>0.088</td>\n",
       "      <td>0.053</td>\n",
       "      <td>0.000</td>\n",
       "      <td>0.176</td>\n",
       "      <td>0.130</td>\n",
       "      <td>0.076</td>\n",
       "      <td>0.177</td>\n",
       "      <td>0.853</td>\n",
       "      <td>0.230</td>\n",
       "      <td>0.539</td>\n",
       "    </tr>\n",
       "  </tbody>\n",
       "</table>\n",
       "</div>"
      ],
      "text/plain": [
       "      Accuracy   AUC  Recall  Specificity  Prec.    F1  Kappa  \\\n",
       "0        0.750 0.969   1.000        0.500  0.667 0.800  0.500   \n",
       "1        1.000 1.000   1.000        1.000  1.000 1.000  1.000   \n",
       "2        1.000 1.000   1.000        1.000  1.000 1.000  1.000   \n",
       "3        1.000 1.000   1.000        1.000  1.000 1.000  1.000   \n",
       "4        1.000 1.000   1.000        1.000  1.000 1.000  1.000   \n",
       "5        0.857 1.000   1.000        0.667  0.800 0.889  0.696   \n",
       "6        0.857 0.833   1.000        0.750  0.750 0.857  0.720   \n",
       "7        0.857 0.917   1.000        0.750  0.750 0.857  0.720   \n",
       "8        1.000 1.000   1.000        1.000  1.000 1.000  1.000   \n",
       "9        1.000 1.000   1.000        1.000  1.000 1.000  1.000   \n",
       "Mean     0.932 0.972   1.000        0.867  0.897 0.940  0.864   \n",
       "SD       0.088 0.053   0.000        0.176  0.130 0.076  0.177   \n",
       "\n",
       "      Hosmer_lemeshow  Spiegelhalter  Scaled_brier  \n",
       "0               0.622          0.537         0.342  \n",
       "1               0.858          0.102         0.559  \n",
       "2               0.951          0.103         0.681  \n",
       "3               0.960          0.123         0.710  \n",
       "4               0.934          0.091         0.630  \n",
       "5               0.875          0.177         0.512  \n",
       "6               0.631          0.694         0.248  \n",
       "7               0.822          0.266         0.426  \n",
       "8               0.925          0.097         0.606  \n",
       "9               0.950          0.112         0.677  \n",
       "Mean            0.853          0.230         0.539  \n",
       "SD              0.853          0.230         0.539  "
      ]
     },
     "metadata": {},
     "output_type": "display_data"
    }
   ],
   "source": [
    "lgbmtuned = tune_model('lightgbm', optimize='AUC', n_iter=20)"
   ]
  },
  {
   "cell_type": "code",
   "execution_count": 1314,
   "metadata": {},
   "outputs": [
    {
     "data": {
      "text/html": [
       "<div>\n",
       "<style scoped>\n",
       "    .dataframe tbody tr th:only-of-type {\n",
       "        vertical-align: middle;\n",
       "    }\n",
       "\n",
       "    .dataframe tbody tr th {\n",
       "        vertical-align: top;\n",
       "    }\n",
       "\n",
       "    .dataframe thead th {\n",
       "        text-align: right;\n",
       "    }\n",
       "</style>\n",
       "<table border=\"1\" class=\"dataframe\">\n",
       "  <thead>\n",
       "    <tr style=\"text-align: right;\">\n",
       "      <th></th>\n",
       "      <th>Accuracy</th>\n",
       "      <th>AUC</th>\n",
       "      <th>Recall</th>\n",
       "      <th>Specificity</th>\n",
       "      <th>Prec.</th>\n",
       "      <th>F1</th>\n",
       "      <th>Kappa</th>\n",
       "      <th>Hosmer_lemeshow</th>\n",
       "      <th>Spiegelhalter</th>\n",
       "      <th>Scaled_brier</th>\n",
       "    </tr>\n",
       "  </thead>\n",
       "  <tbody>\n",
       "    <tr>\n",
       "      <th>0</th>\n",
       "      <td>0.750</td>\n",
       "      <td>0.938</td>\n",
       "      <td>1.000</td>\n",
       "      <td>0.500</td>\n",
       "      <td>0.667</td>\n",
       "      <td>0.800</td>\n",
       "      <td>0.500</td>\n",
       "      <td>0.263</td>\n",
       "      <td>0.562</td>\n",
       "      <td>0.306</td>\n",
       "    </tr>\n",
       "    <tr>\n",
       "      <th>1</th>\n",
       "      <td>1.000</td>\n",
       "      <td>1.000</td>\n",
       "      <td>1.000</td>\n",
       "      <td>1.000</td>\n",
       "      <td>1.000</td>\n",
       "      <td>1.000</td>\n",
       "      <td>1.000</td>\n",
       "      <td>0.988</td>\n",
       "      <td>0.226</td>\n",
       "      <td>0.855</td>\n",
       "    </tr>\n",
       "    <tr>\n",
       "      <th>2</th>\n",
       "      <td>1.000</td>\n",
       "      <td>1.000</td>\n",
       "      <td>1.000</td>\n",
       "      <td>1.000</td>\n",
       "      <td>1.000</td>\n",
       "      <td>1.000</td>\n",
       "      <td>1.000</td>\n",
       "      <td>0.998</td>\n",
       "      <td>0.313</td>\n",
       "      <td>0.927</td>\n",
       "    </tr>\n",
       "    <tr>\n",
       "      <th>3</th>\n",
       "      <td>1.000</td>\n",
       "      <td>1.000</td>\n",
       "      <td>1.000</td>\n",
       "      <td>1.000</td>\n",
       "      <td>1.000</td>\n",
       "      <td>1.000</td>\n",
       "      <td>1.000</td>\n",
       "      <td>0.995</td>\n",
       "      <td>0.289</td>\n",
       "      <td>0.871</td>\n",
       "    </tr>\n",
       "    <tr>\n",
       "      <th>4</th>\n",
       "      <td>1.000</td>\n",
       "      <td>1.000</td>\n",
       "      <td>1.000</td>\n",
       "      <td>1.000</td>\n",
       "      <td>1.000</td>\n",
       "      <td>1.000</td>\n",
       "      <td>1.000</td>\n",
       "      <td>0.996</td>\n",
       "      <td>0.261</td>\n",
       "      <td>0.893</td>\n",
       "    </tr>\n",
       "    <tr>\n",
       "      <th>5</th>\n",
       "      <td>0.857</td>\n",
       "      <td>1.000</td>\n",
       "      <td>1.000</td>\n",
       "      <td>0.667</td>\n",
       "      <td>0.800</td>\n",
       "      <td>0.889</td>\n",
       "      <td>0.696</td>\n",
       "      <td>0.906</td>\n",
       "      <td>0.638</td>\n",
       "      <td>0.632</td>\n",
       "    </tr>\n",
       "    <tr>\n",
       "      <th>6</th>\n",
       "      <td>0.857</td>\n",
       "      <td>0.750</td>\n",
       "      <td>1.000</td>\n",
       "      <td>0.750</td>\n",
       "      <td>0.750</td>\n",
       "      <td>0.857</td>\n",
       "      <td>0.720</td>\n",
       "      <td>0.258</td>\n",
       "      <td>0.754</td>\n",
       "      <td>0.299</td>\n",
       "    </tr>\n",
       "    <tr>\n",
       "      <th>7</th>\n",
       "      <td>0.857</td>\n",
       "      <td>1.000</td>\n",
       "      <td>1.000</td>\n",
       "      <td>0.750</td>\n",
       "      <td>0.750</td>\n",
       "      <td>0.857</td>\n",
       "      <td>0.720</td>\n",
       "      <td>0.934</td>\n",
       "      <td>0.549</td>\n",
       "      <td>0.654</td>\n",
       "    </tr>\n",
       "    <tr>\n",
       "      <th>8</th>\n",
       "      <td>1.000</td>\n",
       "      <td>1.000</td>\n",
       "      <td>1.000</td>\n",
       "      <td>1.000</td>\n",
       "      <td>1.000</td>\n",
       "      <td>1.000</td>\n",
       "      <td>1.000</td>\n",
       "      <td>0.954</td>\n",
       "      <td>0.244</td>\n",
       "      <td>0.672</td>\n",
       "    </tr>\n",
       "    <tr>\n",
       "      <th>9</th>\n",
       "      <td>1.000</td>\n",
       "      <td>1.000</td>\n",
       "      <td>1.000</td>\n",
       "      <td>1.000</td>\n",
       "      <td>1.000</td>\n",
       "      <td>1.000</td>\n",
       "      <td>1.000</td>\n",
       "      <td>0.998</td>\n",
       "      <td>0.338</td>\n",
       "      <td>0.921</td>\n",
       "    </tr>\n",
       "    <tr>\n",
       "      <th>Mean</th>\n",
       "      <td>0.932</td>\n",
       "      <td>0.969</td>\n",
       "      <td>1.000</td>\n",
       "      <td>0.867</td>\n",
       "      <td>0.897</td>\n",
       "      <td>0.940</td>\n",
       "      <td>0.864</td>\n",
       "      <td>0.829</td>\n",
       "      <td>0.417</td>\n",
       "      <td>0.703</td>\n",
       "    </tr>\n",
       "    <tr>\n",
       "      <th>SD</th>\n",
       "      <td>0.088</td>\n",
       "      <td>0.075</td>\n",
       "      <td>0.000</td>\n",
       "      <td>0.176</td>\n",
       "      <td>0.130</td>\n",
       "      <td>0.076</td>\n",
       "      <td>0.177</td>\n",
       "      <td>0.829</td>\n",
       "      <td>0.417</td>\n",
       "      <td>0.703</td>\n",
       "    </tr>\n",
       "  </tbody>\n",
       "</table>\n",
       "</div>"
      ],
      "text/plain": [
       "      Accuracy   AUC  Recall  Specificity  Prec.    F1  Kappa  \\\n",
       "0        0.750 0.938   1.000        0.500  0.667 0.800  0.500   \n",
       "1        1.000 1.000   1.000        1.000  1.000 1.000  1.000   \n",
       "2        1.000 1.000   1.000        1.000  1.000 1.000  1.000   \n",
       "3        1.000 1.000   1.000        1.000  1.000 1.000  1.000   \n",
       "4        1.000 1.000   1.000        1.000  1.000 1.000  1.000   \n",
       "5        0.857 1.000   1.000        0.667  0.800 0.889  0.696   \n",
       "6        0.857 0.750   1.000        0.750  0.750 0.857  0.720   \n",
       "7        0.857 1.000   1.000        0.750  0.750 0.857  0.720   \n",
       "8        1.000 1.000   1.000        1.000  1.000 1.000  1.000   \n",
       "9        1.000 1.000   1.000        1.000  1.000 1.000  1.000   \n",
       "Mean     0.932 0.969   1.000        0.867  0.897 0.940  0.864   \n",
       "SD       0.088 0.075   0.000        0.176  0.130 0.076  0.177   \n",
       "\n",
       "      Hosmer_lemeshow  Spiegelhalter  Scaled_brier  \n",
       "0               0.263          0.562         0.306  \n",
       "1               0.988          0.226         0.855  \n",
       "2               0.998          0.313         0.927  \n",
       "3               0.995          0.289         0.871  \n",
       "4               0.996          0.261         0.893  \n",
       "5               0.906          0.638         0.632  \n",
       "6               0.258          0.754         0.299  \n",
       "7               0.934          0.549         0.654  \n",
       "8               0.954          0.244         0.672  \n",
       "9               0.998          0.338         0.921  \n",
       "Mean            0.829          0.417         0.703  \n",
       "SD              0.829          0.417         0.703  "
      ]
     },
     "metadata": {},
     "output_type": "display_data"
    }
   ],
   "source": [
    "xgbtuned = tune_model('xgboost', optimize='AUC', n_iter=20)"
   ]
  },
  {
   "cell_type": "markdown",
   "metadata": {},
   "source": [
    "### Select best algorithm based on test data AUC"
   ]
  },
  {
   "cell_type": "code",
   "execution_count": 1315,
   "metadata": {},
   "outputs": [
    {
     "data": {
      "text/html": [
       "<div>\n",
       "<style scoped>\n",
       "    .dataframe tbody tr th:only-of-type {\n",
       "        vertical-align: middle;\n",
       "    }\n",
       "\n",
       "    .dataframe tbody tr th {\n",
       "        vertical-align: top;\n",
       "    }\n",
       "\n",
       "    .dataframe thead th {\n",
       "        text-align: right;\n",
       "    }\n",
       "</style>\n",
       "<table border=\"1\" class=\"dataframe\">\n",
       "  <thead>\n",
       "    <tr style=\"text-align: right;\">\n",
       "      <th></th>\n",
       "      <th>Model</th>\n",
       "      <th>Accuracy</th>\n",
       "      <th>AUC</th>\n",
       "      <th>Recall</th>\n",
       "      <th>Specificity</th>\n",
       "      <th>Prec.</th>\n",
       "      <th>F1</th>\n",
       "      <th>Kappa</th>\n",
       "      <th>Hosmer_lemeshow</th>\n",
       "      <th>Spiegelhalter</th>\n",
       "      <th>Scaled_brier</th>\n",
       "    </tr>\n",
       "  </thead>\n",
       "  <tbody>\n",
       "    <tr>\n",
       "      <th>0</th>\n",
       "      <td>CatBoost Classifier</td>\n",
       "      <td>0.800</td>\n",
       "      <td>0.531</td>\n",
       "      <td>0.000</td>\n",
       "      <td>1.000</td>\n",
       "      <td>0.000</td>\n",
       "      <td>0.000</td>\n",
       "      <td>0.000</td>\n",
       "      <td>0.000</td>\n",
       "      <td>0.050</td>\n",
       "      <td>0.015</td>\n",
       "    </tr>\n",
       "  </tbody>\n",
       "</table>\n",
       "</div>"
      ],
      "text/plain": [
       "                 Model  Accuracy   AUC  Recall  Specificity  Prec.    F1  \\\n",
       "0  CatBoost Classifier     0.800 0.531   0.000        1.000  0.000 0.000   \n",
       "\n",
       "   Kappa  Hosmer_lemeshow  Spiegelhalter  Scaled_brier  \n",
       "0  0.000            0.000          0.050         0.015  "
      ]
     },
     "metadata": {},
     "output_type": "display_data"
    }
   ],
   "source": [
    "preds_cat = predict_model(cattuned)"
   ]
  },
  {
   "cell_type": "code",
   "execution_count": 1316,
   "metadata": {},
   "outputs": [
    {
     "data": {
      "text/html": [
       "<div>\n",
       "<style scoped>\n",
       "    .dataframe tbody tr th:only-of-type {\n",
       "        vertical-align: middle;\n",
       "    }\n",
       "\n",
       "    .dataframe tbody tr th {\n",
       "        vertical-align: top;\n",
       "    }\n",
       "\n",
       "    .dataframe thead th {\n",
       "        text-align: right;\n",
       "    }\n",
       "</style>\n",
       "<table border=\"1\" class=\"dataframe\">\n",
       "  <thead>\n",
       "    <tr style=\"text-align: right;\">\n",
       "      <th></th>\n",
       "      <th>Model</th>\n",
       "      <th>Accuracy</th>\n",
       "      <th>AUC</th>\n",
       "      <th>Recall</th>\n",
       "      <th>Specificity</th>\n",
       "      <th>Prec.</th>\n",
       "      <th>F1</th>\n",
       "      <th>Kappa</th>\n",
       "      <th>Hosmer_lemeshow</th>\n",
       "      <th>Spiegelhalter</th>\n",
       "      <th>Scaled_brier</th>\n",
       "    </tr>\n",
       "  </thead>\n",
       "  <tbody>\n",
       "    <tr>\n",
       "      <th>0</th>\n",
       "      <td>Light Gradient Boosting Machine</td>\n",
       "      <td>0.800</td>\n",
       "      <td>0.586</td>\n",
       "      <td>0.500</td>\n",
       "      <td>0.875</td>\n",
       "      <td>0.500</td>\n",
       "      <td>0.500</td>\n",
       "      <td>0.375</td>\n",
       "      <td>0.629</td>\n",
       "      <td>0.285</td>\n",
       "      <td>0.030</td>\n",
       "    </tr>\n",
       "  </tbody>\n",
       "</table>\n",
       "</div>"
      ],
      "text/plain": [
       "                             Model  Accuracy   AUC  Recall  Specificity  \\\n",
       "0  Light Gradient Boosting Machine     0.800 0.586   0.500        0.875   \n",
       "\n",
       "   Prec.    F1  Kappa  Hosmer_lemeshow  Spiegelhalter  Scaled_brier  \n",
       "0  0.500 0.500  0.375            0.629          0.285         0.030  "
      ]
     },
     "metadata": {},
     "output_type": "display_data"
    }
   ],
   "source": [
    "preds_lgb = predict_model(lgbmtuned)"
   ]
  },
  {
   "cell_type": "code",
   "execution_count": 1317,
   "metadata": {},
   "outputs": [
    {
     "data": {
      "text/html": [
       "<div>\n",
       "<style scoped>\n",
       "    .dataframe tbody tr th:only-of-type {\n",
       "        vertical-align: middle;\n",
       "    }\n",
       "\n",
       "    .dataframe tbody tr th {\n",
       "        vertical-align: top;\n",
       "    }\n",
       "\n",
       "    .dataframe thead th {\n",
       "        text-align: right;\n",
       "    }\n",
       "</style>\n",
       "<table border=\"1\" class=\"dataframe\">\n",
       "  <thead>\n",
       "    <tr style=\"text-align: right;\">\n",
       "      <th></th>\n",
       "      <th>Model</th>\n",
       "      <th>Accuracy</th>\n",
       "      <th>AUC</th>\n",
       "      <th>Recall</th>\n",
       "      <th>Specificity</th>\n",
       "      <th>Prec.</th>\n",
       "      <th>F1</th>\n",
       "      <th>Kappa</th>\n",
       "      <th>Hosmer_lemeshow</th>\n",
       "      <th>Spiegelhalter</th>\n",
       "      <th>Scaled_brier</th>\n",
       "    </tr>\n",
       "  </thead>\n",
       "  <tbody>\n",
       "    <tr>\n",
       "      <th>0</th>\n",
       "      <td>Extreme Gradient Boosting</td>\n",
       "      <td>0.850</td>\n",
       "      <td>0.594</td>\n",
       "      <td>0.500</td>\n",
       "      <td>0.938</td>\n",
       "      <td>0.667</td>\n",
       "      <td>0.571</td>\n",
       "      <td>0.483</td>\n",
       "      <td>0.036</td>\n",
       "      <td>0.774</td>\n",
       "      <td>0.186</td>\n",
       "    </tr>\n",
       "  </tbody>\n",
       "</table>\n",
       "</div>"
      ],
      "text/plain": [
       "                       Model  Accuracy   AUC  Recall  Specificity  Prec.  \\\n",
       "0  Extreme Gradient Boosting     0.850 0.594   0.500        0.938  0.667   \n",
       "\n",
       "     F1  Kappa  Hosmer_lemeshow  Spiegelhalter  Scaled_brier  \n",
       "0 0.571  0.483            0.036          0.774         0.186  "
      ]
     },
     "metadata": {},
     "output_type": "display_data"
    }
   ],
   "source": [
    "preds_xgb = predict_model(xgbtuned)"
   ]
  },
  {
   "cell_type": "code",
   "execution_count": 1318,
   "metadata": {},
   "outputs": [],
   "source": [
    "# Put in PREDS the best algorithm chosen in the previous lines: preds_cat OR preds_lgb OR preds_xgb\n",
    "#preds = preds_cat\n",
    "#preds = preds_lgb\n",
    "preds = preds_xgb"
   ]
  },
  {
   "cell_type": "markdown",
   "metadata": {},
   "source": [
    "### Best model"
   ]
  },
  {
   "cell_type": "code",
   "execution_count": 1319,
   "metadata": {},
   "outputs": [
    {
     "data": {
      "text/plain": [
       "0.8823529411764706"
      ]
     },
     "execution_count": 1319,
     "metadata": {},
     "output_type": "execute_result"
    }
   ],
   "source": [
    "npv(y_test, preds['Label'])"
   ]
  },
  {
   "cell_type": "code",
   "execution_count": 1320,
   "metadata": {},
   "outputs": [
    {
     "data": {
      "text/plain": [
       "['0.11', '1.00']"
      ]
     },
     "execution_count": 1320,
     "metadata": {},
     "output_type": "execute_result"
    }
   ],
   "source": [
    "#ROC AUC (INTERVALO)\n",
    "[\"{0:0.2f}\".format(i) for i in AUC_CI(y_test, preds['Score'].values)]"
   ]
  },
  {
   "cell_type": "code",
   "execution_count": 1321,
   "metadata": {},
   "outputs": [
    {
     "data": {
      "text/html": [
       "<div>\n",
       "<style scoped>\n",
       "    .dataframe tbody tr th:only-of-type {\n",
       "        vertical-align: middle;\n",
       "    }\n",
       "\n",
       "    .dataframe tbody tr th {\n",
       "        vertical-align: top;\n",
       "    }\n",
       "\n",
       "    .dataframe thead th {\n",
       "        text-align: right;\n",
       "    }\n",
       "</style>\n",
       "<table border=\"1\" class=\"dataframe\">\n",
       "  <thead>\n",
       "    <tr style=\"text-align: right;\">\n",
       "      <th></th>\n",
       "      <th></th>\n",
       "      <th></th>\n",
       "    </tr>\n",
       "    <tr>\n",
       "      <th></th>\n",
       "      <th></th>\n",
       "      <th></th>\n",
       "    </tr>\n",
       "  </thead>\n",
       "  <tbody>\n",
       "    <tr>\n",
       "      <th>Ground Truth Prevalence</th>\n",
       "      <td>. . .</td>\n",
       "      <td>0.200</td>\n",
       "    </tr>\n",
       "    <tr>\n",
       "      <th>Test set Prevalence</th>\n",
       "      <td>. . .</td>\n",
       "      <td>0.150</td>\n",
       "    </tr>\n",
       "    <tr>\n",
       "      <th>True positive rate (recall)</th>\n",
       "      <td>. . .</td>\n",
       "      <td>0.500</td>\n",
       "    </tr>\n",
       "    <tr>\n",
       "      <th>False positive rate</th>\n",
       "      <td>. . .</td>\n",
       "      <td>0.062</td>\n",
       "    </tr>\n",
       "    <tr>\n",
       "      <th>Positive predictive value (precision)</th>\n",
       "      <td>. . .</td>\n",
       "      <td>0.667</td>\n",
       "    </tr>\n",
       "    <tr>\n",
       "      <th>True negative rate (specificity)</th>\n",
       "      <td>. . .</td>\n",
       "      <td>0.938</td>\n",
       "    </tr>\n",
       "    <tr>\n",
       "      <th>False negative rate</th>\n",
       "      <td>. . .</td>\n",
       "      <td>0.500</td>\n",
       "    </tr>\n",
       "    <tr>\n",
       "      <th>Negative predictive value</th>\n",
       "      <td>. . .</td>\n",
       "      <td>0.882</td>\n",
       "    </tr>\n",
       "    <tr>\n",
       "      <th>Positive likelihood ratio (bigger is better)</th>\n",
       "      <td>. . .</td>\n",
       "      <td>8.000</td>\n",
       "    </tr>\n",
       "    <tr>\n",
       "      <th>Negative likelihood ratio (smaller is better)</th>\n",
       "      <td>. . .</td>\n",
       "      <td>0.533</td>\n",
       "    </tr>\n",
       "    <tr>\n",
       "      <th>Diagnostic odds ratio</th>\n",
       "      <td>. . .</td>\n",
       "      <td>15.000</td>\n",
       "    </tr>\n",
       "    <tr>\n",
       "      <th>Accuracy</th>\n",
       "      <td>. . .</td>\n",
       "      <td>0.850</td>\n",
       "    </tr>\n",
       "    <tr>\n",
       "      <th>F1 score</th>\n",
       "      <td>. . .</td>\n",
       "      <td>0.571</td>\n",
       "    </tr>\n",
       "    <tr>\n",
       "      <th>Accuracy</th>\n",
       "      <td>. . .</td>\n",
       "      <td>0.850</td>\n",
       "    </tr>\n",
       "    <tr>\n",
       "      <th>ROC AUC</th>\n",
       "      <td>. . .</td>\n",
       "      <td>0.594</td>\n",
       "    </tr>\n",
       "    <tr>\n",
       "      <th>ROC AUC (95% CI)</th>\n",
       "      <td>. . .</td>\n",
       "      <td>[0.11, 1.00]</td>\n",
       "    </tr>\n",
       "    <tr>\n",
       "      <th>Scaled Brier Score</th>\n",
       "      <td>. . .</td>\n",
       "      <td>0.186</td>\n",
       "    </tr>\n",
       "    <tr>\n",
       "      <th>Hosmer_Lemeshow p-value</th>\n",
       "      <td>. . .</td>\n",
       "      <td>0.035</td>\n",
       "    </tr>\n",
       "    <tr>\n",
       "      <th>Spiegelhalter p-value</th>\n",
       "      <td>. . .</td>\n",
       "      <td>0.774</td>\n",
       "    </tr>\n",
       "  </tbody>\n",
       "</table>\n",
       "</div>"
      ],
      "text/plain": [
       "                                                                   \n",
       "                                                                   \n",
       "Ground Truth Prevalence                        . . .          0.200\n",
       "Test set Prevalence                            . . .          0.150\n",
       "True positive rate (recall)                    . . .          0.500\n",
       "False positive rate                            . . .          0.062\n",
       "Positive predictive value (precision)          . . .          0.667\n",
       "True negative rate (specificity)               . . .          0.938\n",
       "False negative rate                            . . .          0.500\n",
       "Negative predictive value                      . . .          0.882\n",
       "Positive likelihood ratio (bigger is better)   . . .          8.000\n",
       "Negative likelihood ratio (smaller is better)  . . .          0.533\n",
       "Diagnostic odds ratio                          . . .         15.000\n",
       "Accuracy                                       . . .          0.850\n",
       "F1 score                                       . . .          0.571\n",
       "Accuracy                                       . . .          0.850\n",
       "ROC AUC                                        . . .          0.594\n",
       "ROC AUC (95% CI)                               . . .   [0.11, 1.00]\n",
       "Scaled Brier Score                             . . .          0.186\n",
       "Hosmer_Lemeshow p-value                        . . .          0.035\n",
       "Spiegelhalter p-value                          . . .          0.774"
      ]
     },
     "metadata": {},
     "output_type": "display_data"
    },
    {
     "data": {
      "image/png": "[encoded data removed]",
      "text/plain": [
       "<Figure size 1500x2000 with 5 Axes>"
      ]
     },
     "metadata": {},
     "output_type": "display_data"
    },
    {
     "data": {
      "image/png": "[encoded data removed]",
      "text/plain": [
       "<Figure size 640x480 with 1 Axes>"
      ]
     },
     "metadata": {},
     "output_type": "display_data"
    },
    {
     "data": {
      "text/html": [
       "<div>\n",
       "<style scoped>\n",
       "    .dataframe tbody tr th:only-of-type {\n",
       "        vertical-align: middle;\n",
       "    }\n",
       "\n",
       "    .dataframe tbody tr th {\n",
       "        vertical-align: top;\n",
       "    }\n",
       "\n",
       "    .dataframe thead th {\n",
       "        text-align: right;\n",
       "    }\n",
       "</style>\n",
       "<table border=\"1\" class=\"dataframe\">\n",
       "  <thead>\n",
       "    <tr style=\"text-align: right;\">\n",
       "      <th></th>\n",
       "      <th></th>\n",
       "      <th></th>\n",
       "    </tr>\n",
       "    <tr>\n",
       "      <th></th>\n",
       "      <th></th>\n",
       "      <th></th>\n",
       "    </tr>\n",
       "  </thead>\n",
       "  <tbody>\n",
       "    <tr>\n",
       "      <th>Ground Truth Prevalence</th>\n",
       "      <td>. . .</td>\n",
       "      <td>0.200</td>\n",
       "    </tr>\n",
       "    <tr>\n",
       "      <th>Test set Prevalence</th>\n",
       "      <td>. . .</td>\n",
       "      <td>0.150</td>\n",
       "    </tr>\n",
       "    <tr>\n",
       "      <th>True positive rate (recall)</th>\n",
       "      <td>. . .</td>\n",
       "      <td>0.500</td>\n",
       "    </tr>\n",
       "    <tr>\n",
       "      <th>False positive rate</th>\n",
       "      <td>. . .</td>\n",
       "      <td>0.062</td>\n",
       "    </tr>\n",
       "    <tr>\n",
       "      <th>Positive predictive value (precision)</th>\n",
       "      <td>. . .</td>\n",
       "      <td>0.667</td>\n",
       "    </tr>\n",
       "    <tr>\n",
       "      <th>True negative rate (specificity)</th>\n",
       "      <td>. . .</td>\n",
       "      <td>0.938</td>\n",
       "    </tr>\n",
       "    <tr>\n",
       "      <th>False negative rate</th>\n",
       "      <td>. . .</td>\n",
       "      <td>0.500</td>\n",
       "    </tr>\n",
       "    <tr>\n",
       "      <th>Negative predictive value</th>\n",
       "      <td>. . .</td>\n",
       "      <td>0.882</td>\n",
       "    </tr>\n",
       "    <tr>\n",
       "      <th>Positive likelihood ratio (bigger is better)</th>\n",
       "      <td>. . .</td>\n",
       "      <td>8.000</td>\n",
       "    </tr>\n",
       "    <tr>\n",
       "      <th>Negative likelihood ratio (smaller is better)</th>\n",
       "      <td>. . .</td>\n",
       "      <td>0.533</td>\n",
       "    </tr>\n",
       "    <tr>\n",
       "      <th>Diagnostic odds ratio</th>\n",
       "      <td>. . .</td>\n",
       "      <td>15.000</td>\n",
       "    </tr>\n",
       "    <tr>\n",
       "      <th>Accuracy</th>\n",
       "      <td>. . .</td>\n",
       "      <td>0.850</td>\n",
       "    </tr>\n",
       "    <tr>\n",
       "      <th>F1 score</th>\n",
       "      <td>. . .</td>\n",
       "      <td>0.571</td>\n",
       "    </tr>\n",
       "    <tr>\n",
       "      <th>Accuracy</th>\n",
       "      <td>. . .</td>\n",
       "      <td>0.850</td>\n",
       "    </tr>\n",
       "    <tr>\n",
       "      <th>ROC AUC</th>\n",
       "      <td>. . .</td>\n",
       "      <td>0.594</td>\n",
       "    </tr>\n",
       "    <tr>\n",
       "      <th>ROC AUC (95% CI)</th>\n",
       "      <td>. . .</td>\n",
       "      <td>[0.11, 1.00]</td>\n",
       "    </tr>\n",
       "    <tr>\n",
       "      <th>Scaled Brier Score</th>\n",
       "      <td>. . .</td>\n",
       "      <td>0.186</td>\n",
       "    </tr>\n",
       "    <tr>\n",
       "      <th>Hosmer_Lemeshow p-value</th>\n",
       "      <td>. . .</td>\n",
       "      <td>0.035</td>\n",
       "    </tr>\n",
       "    <tr>\n",
       "      <th>Spiegelhalter p-value</th>\n",
       "      <td>. . .</td>\n",
       "      <td>0.774</td>\n",
       "    </tr>\n",
       "  </tbody>\n",
       "</table>\n",
       "</div>"
      ],
      "text/plain": [
       "                                                                   \n",
       "                                                                   \n",
       "Ground Truth Prevalence                        . . .          0.200\n",
       "Test set Prevalence                            . . .          0.150\n",
       "True positive rate (recall)                    . . .          0.500\n",
       "False positive rate                            . . .          0.062\n",
       "Positive predictive value (precision)          . . .          0.667\n",
       "True negative rate (specificity)               . . .          0.938\n",
       "False negative rate                            . . .          0.500\n",
       "Negative predictive value                      . . .          0.882\n",
       "Positive likelihood ratio (bigger is better)   . . .          8.000\n",
       "Negative likelihood ratio (smaller is better)  . . .          0.533\n",
       "Diagnostic odds ratio                          . . .         15.000\n",
       "Accuracy                                       . . .          0.850\n",
       "F1 score                                       . . .          0.571\n",
       "Accuracy                                       . . .          0.850\n",
       "ROC AUC                                        . . .          0.594\n",
       "ROC AUC (95% CI)                               . . .   [0.11, 1.00]\n",
       "Scaled Brier Score                             . . .          0.186\n",
       "Hosmer_Lemeshow p-value                        . . .          0.035\n",
       "Spiegelhalter p-value                          . . .          0.774"
      ]
     },
     "execution_count": 1321,
     "metadata": {},
     "output_type": "execute_result"
    }
   ],
   "source": [
    "import MLFlow_Utils\n",
    "binary_classification_metrics(y_test, preds[\"Label\"], preds[\"Score\"])"
   ]
  },
  {
   "cell_type": "markdown",
   "metadata": {},
   "source": [
    "### Understand best algorithm features and results \n",
    "#### Run INTERPRETE_MODEL only for the best algorithm chosen in the previous lines"
   ]
  },
  {
   "cell_type": "code",
   "execution_count": 1322,
   "metadata": {},
   "outputs": [],
   "source": [
    "#evaluate_model(lgbmtuned)"
   ]
  },
  {
   "cell_type": "code",
   "execution_count": 1323,
   "metadata": {},
   "outputs": [
    {
     "data": {
      "image/png": "[encoded data removed]",
      "text/plain": [
       "<Figure size 800x950 with 2 Axes>"
      ]
     },
     "metadata": {},
     "output_type": "display_data"
    }
   ],
   "source": [
    "#interpret_model(cattuned)\n",
    "#interpret_model(lgbmtuned)\n",
    "interpret_model(xgbtuned)"
   ]
  },
  {
   "cell_type": "code",
   "execution_count": 1324,
   "metadata": {},
   "outputs": [],
   "source": [
    "# plot_model(lgbmtuned, plot='ktops')"
   ]
  },
  {
   "cell_type": "markdown",
   "metadata": {},
   "source": [
    "### 2.3.1) Build a model with all data\n",
    "#### Run FINALIZE MODEL only for the best algorithm chosen in the previous lines"
   ]
  },
  {
   "cell_type": "code",
   "execution_count": 1325,
   "metadata": {},
   "outputs": [],
   "source": [
    "#final_model = finalize_model(cattuned)\n",
    "#final_model = finalize_model(lgbmtuned)\n",
    "final_model = finalize_model(xgbtuned)"
   ]
  },
  {
   "cell_type": "code",
   "execution_count": 1326,
   "metadata": {},
   "outputs": [
    {
     "data": {
      "text/plain": [
       "'XGBClassifier'"
      ]
     },
     "execution_count": 1326,
     "metadata": {},
     "output_type": "execute_result"
    }
   ],
   "source": [
    "str(final_model.__class__.__name__)"
   ]
  },
  {
   "cell_type": "code",
   "execution_count": 1327,
   "metadata": {},
   "outputs": [
    {
     "data": {
      "text/plain": [
       "'XGBClassifier_other_region_abs_number_NORTE_AM_AMAZONAS_HUGV'"
      ]
     },
     "execution_count": 1327,
     "metadata": {},
     "output_type": "execute_result"
    }
   ],
   "source": [
    "final_model_name = str(final_model.__class__.__name__) + '_other_region_abs_number_' \\\n",
    "                    + X_test_specific.region.iloc[0]  \\\n",
    "                    + '_' + X_test_specific.state.iloc[0]  \\\n",
    "                    + '_' + X_test_specific.city_hospital.iloc[0]\n",
    "final_model_name"
   ]
  },
  {
   "cell_type": "code",
   "execution_count": 1328,
   "metadata": {},
   "outputs": [
    {
     "name": "stdout",
     "output_type": "stream",
     "text": [
      "Transformation Pipeline and Model Succesfully Saved\n"
     ]
    }
   ],
   "source": [
    "save_model(final_model, final_model_name ,verbose=True)"
   ]
  },
  {
   "cell_type": "code",
   "execution_count": 1330,
   "metadata": {},
   "outputs": [
    {
     "data": {
      "text/html": [
       "<style>#sk-container-id-9 {\n",
       "  /* Definition of color scheme common for light and dark mode */\n",
       "  --sklearn-color-text: black;\n",
       "  --sklearn-color-line: gray;\n",
       "  /* Definition of color scheme for unfitted estimators */\n",
       "  --sklearn-color-unfitted-level-0: #fff5e6;\n",
       "  --sklearn-color-unfitted-level-1: #f6e4d2;\n",
       "  --sklearn-color-unfitted-level-2: #ffe0b3;\n",
       "  --sklearn-color-unfitted-level-3: chocolate;\n",
       "  /* Definition of color scheme for fitted estimators */\n",
       "  --sklearn-color-fitted-level-0: #f0f8ff;\n",
       "  --sklearn-color-fitted-level-1: #d4ebff;\n",
       "  --sklearn-color-fitted-level-2: #b3dbfd;\n",
       "  --sklearn-color-fitted-level-3: cornflowerblue;\n",
       "\n",
       "  /* Specific color for light theme */\n",
       "  --sklearn-color-text-on-default-background: var(--sg-text-color, var(--theme-code-foreground, var(--jp-content-font-color1, black)));\n",
       "  --sklearn-color-background: var(--sg-background-color, var(--theme-background, var(--jp-layout-color0, white)));\n",
       "  --sklearn-color-border-box: var(--sg-text-color, var(--theme-code-foreground, var(--jp-content-font-color1, black)));\n",
       "  --sklearn-color-icon: #696969;\n",
       "\n",
       "  @media (prefers-color-scheme: dark) {\n",
       "    /* Redefinition of color scheme for dark theme */\n",
       "    --sklearn-color-text-on-default-background: var(--sg-text-color, var(--theme-code-foreground, var(--jp-content-font-color1, white)));\n",
       "    --sklearn-color-background: var(--sg-background-color, var(--theme-background, var(--jp-layout-color0, #111)));\n",
       "    --sklearn-color-border-box: var(--sg-text-color, var(--theme-code-foreground, var(--jp-content-font-color1, white)));\n",
       "    --sklearn-color-icon: #878787;\n",
       "  }\n",
       "}\n",
       "\n",
       "#sk-container-id-9 {\n",
       "  color: var(--sklearn-color-text);\n",
       "}\n",
       "\n",
       "#sk-container-id-9 pre {\n",
       "  padding: 0;\n",
       "}\n",
       "\n",
       "#sk-container-id-9 input.sk-hidden--visually {\n",
       "  border: 0;\n",
       "  clip: rect(1px 1px 1px 1px);\n",
       "  clip: rect(1px, 1px, 1px, 1px);\n",
       "  height: 1px;\n",
       "  margin: -1px;\n",
       "  overflow: hidden;\n",
       "  padding: 0;\n",
       "  position: absolute;\n",
       "  width: 1px;\n",
       "}\n",
       "\n",
       "#sk-container-id-9 div.sk-dashed-wrapped {\n",
       "  border: 1px dashed var(--sklearn-color-line);\n",
       "  margin: 0 0.4em 0.5em 0.4em;\n",
       "  box-sizing: border-box;\n",
       "  padding-bottom: 0.4em;\n",
       "  background-color: var(--sklearn-color-background);\n",
       "}\n",
       "\n",
       "#sk-container-id-9 div.sk-container {\n",
       "  /* jupyter's `normalize.less` sets `[hidden] { display: none; }`\n",
       "     but bootstrap.min.css set `[hidden] { display: none !important; }`\n",
       "     so we also need the `!important` here to be able to override the\n",
       "     default hidden behavior on the sphinx rendered scikit-learn.org.\n",
       "     See: https://github.com/scikit-learn/scikit-learn/issues/21755 */\n",
       "  display: inline-block !important;\n",
       "  position: relative;\n",
       "}\n",
       "\n",
       "#sk-container-id-9 div.sk-text-repr-fallback {\n",
       "  display: none;\n",
       "}\n",
       "\n",
       "div.sk-parallel-item,\n",
       "div.sk-serial,\n",
       "div.sk-item {\n",
       "  /* draw centered vertical line to link estimators */\n",
       "  background-image: linear-gradient(var(--sklearn-color-text-on-default-background), var(--sklearn-color-text-on-default-background));\n",
       "  background-size: 2px 100%;\n",
       "  background-repeat: no-repeat;\n",
       "  background-position: center center;\n",
       "}\n",
       "\n",
       "/* Parallel-specific style estimator block */\n",
       "\n",
       "#sk-container-id-9 div.sk-parallel-item::after {\n",
       "  content: \"\";\n",
       "  width: 100%;\n",
       "  border-bottom: 2px solid var(--sklearn-color-text-on-default-background);\n",
       "  flex-grow: 1;\n",
       "}\n",
       "\n",
       "#sk-container-id-9 div.sk-parallel {\n",
       "  display: flex;\n",
       "  align-items: stretch;\n",
       "  justify-content: center;\n",
       "  background-color: var(--sklearn-color-background);\n",
       "  position: relative;\n",
       "}\n",
       "\n",
       "#sk-container-id-9 div.sk-parallel-item {\n",
       "  display: flex;\n",
       "  flex-direction: column;\n",
       "}\n",
       "\n",
       "#sk-container-id-9 div.sk-parallel-item:first-child::after {\n",
       "  align-self: flex-end;\n",
       "  width: 50%;\n",
       "}\n",
       "\n",
       "#sk-container-id-9 div.sk-parallel-item:last-child::after {\n",
       "  align-self: flex-start;\n",
       "  width: 50%;\n",
       "}\n",
       "\n",
       "#sk-container-id-9 div.sk-parallel-item:only-child::after {\n",
       "  width: 0;\n",
       "}\n",
       "\n",
       "/* Serial-specific style estimator block */\n",
       "\n",
       "#sk-container-id-9 div.sk-serial {\n",
       "  display: flex;\n",
       "  flex-direction: column;\n",
       "  align-items: center;\n",
       "  background-color: var(--sklearn-color-background);\n",
       "  padding-right: 1em;\n",
       "  padding-left: 1em;\n",
       "}\n",
       "\n",
       "\n",
       "/* Toggleable style: style used for estimator/Pipeline/ColumnTransformer box that is\n",
       "clickable and can be expanded/collapsed.\n",
       "- Pipeline and ColumnTransformer use this feature and define the default style\n",
       "- Estimators will overwrite some part of the style using the `sk-estimator` class\n",
       "*/\n",
       "\n",
       "/* Pipeline and ColumnTransformer style (default) */\n",
       "\n",
       "#sk-container-id-9 div.sk-toggleable {\n",
       "  /* Default theme specific background. It is overwritten whether we have a\n",
       "  specific estimator or a Pipeline/ColumnTransformer */\n",
       "  background-color: var(--sklearn-color-background);\n",
       "}\n",
       "\n",
       "/* Toggleable label */\n",
       "#sk-container-id-9 label.sk-toggleable__label {\n",
       "  cursor: pointer;\n",
       "  display: block;\n",
       "  width: 100%;\n",
       "  margin-bottom: 0;\n",
       "  padding: 0.5em;\n",
       "  box-sizing: border-box;\n",
       "  text-align: center;\n",
       "}\n",
       "\n",
       "#sk-container-id-9 label.sk-toggleable__label-arrow:before {\n",
       "  /* Arrow on the left of the label */\n",
       "  content: \"▸\";\n",
       "  float: left;\n",
       "  margin-right: 0.25em;\n",
       "  color: var(--sklearn-color-icon);\n",
       "}\n",
       "\n",
       "#sk-container-id-9 label.sk-toggleable__label-arrow:hover:before {\n",
       "  color: var(--sklearn-color-text);\n",
       "}\n",
       "\n",
       "/* Toggleable content - dropdown */\n",
       "\n",
       "#sk-container-id-9 div.sk-toggleable__content {\n",
       "  max-height: 0;\n",
       "  max-width: 0;\n",
       "  overflow: hidden;\n",
       "  text-align: left;\n",
       "  /* unfitted */\n",
       "  background-color: var(--sklearn-color-unfitted-level-0);\n",
       "}\n",
       "\n",
       "#sk-container-id-9 div.sk-toggleable__content.fitted {\n",
       "  /* fitted */\n",
       "  background-color: var(--sklearn-color-fitted-level-0);\n",
       "}\n",
       "\n",
       "#sk-container-id-9 div.sk-toggleable__content pre {\n",
       "  margin: 0.2em;\n",
       "  border-radius: 0.25em;\n",
       "  color: var(--sklearn-color-text);\n",
       "  /* unfitted */\n",
       "  background-color: var(--sklearn-color-unfitted-level-0);\n",
       "}\n",
       "\n",
       "#sk-container-id-9 div.sk-toggleable__content.fitted pre {\n",
       "  /* unfitted */\n",
       "  background-color: var(--sklearn-color-fitted-level-0);\n",
       "}\n",
       "\n",
       "#sk-container-id-9 input.sk-toggleable__control:checked~div.sk-toggleable__content {\n",
       "  /* Expand drop-down */\n",
       "  max-height: 200px;\n",
       "  max-width: 100%;\n",
       "  overflow: auto;\n",
       "}\n",
       "\n",
       "#sk-container-id-9 input.sk-toggleable__control:checked~label.sk-toggleable__label-arrow:before {\n",
       "  content: \"▾\";\n",
       "}\n",
       "\n",
       "/* Pipeline/ColumnTransformer-specific style */\n",
       "\n",
       "#sk-container-id-9 div.sk-label input.sk-toggleable__control:checked~label.sk-toggleable__label {\n",
       "  color: var(--sklearn-color-text);\n",
       "  background-color: var(--sklearn-color-unfitted-level-2);\n",
       "}\n",
       "\n",
       "#sk-container-id-9 div.sk-label.fitted input.sk-toggleable__control:checked~label.sk-toggleable__label {\n",
       "  background-color: var(--sklearn-color-fitted-level-2);\n",
       "}\n",
       "\n",
       "/* Estimator-specific style */\n",
       "\n",
       "/* Colorize estimator box */\n",
       "#sk-container-id-9 div.sk-estimator input.sk-toggleable__control:checked~label.sk-toggleable__label {\n",
       "  /* unfitted */\n",
       "  background-color: var(--sklearn-color-unfitted-level-2);\n",
       "}\n",
       "\n",
       "#sk-container-id-9 div.sk-estimator.fitted input.sk-toggleable__control:checked~label.sk-toggleable__label {\n",
       "  /* fitted */\n",
       "  background-color: var(--sklearn-color-fitted-level-2);\n",
       "}\n",
       "\n",
       "#sk-container-id-9 div.sk-label label.sk-toggleable__label,\n",
       "#sk-container-id-9 div.sk-label label {\n",
       "  /* The background is the default theme color */\n",
       "  color: var(--sklearn-color-text-on-default-background);\n",
       "}\n",
       "\n",
       "/* On hover, darken the color of the background */\n",
       "#sk-container-id-9 div.sk-label:hover label.sk-toggleable__label {\n",
       "  color: var(--sklearn-color-text);\n",
       "  background-color: var(--sklearn-color-unfitted-level-2);\n",
       "}\n",
       "\n",
       "/* Label box, darken color on hover, fitted */\n",
       "#sk-container-id-9 div.sk-label.fitted:hover label.sk-toggleable__label.fitted {\n",
       "  color: var(--sklearn-color-text);\n",
       "  background-color: var(--sklearn-color-fitted-level-2);\n",
       "}\n",
       "\n",
       "/* Estimator label */\n",
       "\n",
       "#sk-container-id-9 div.sk-label label {\n",
       "  font-family: monospace;\n",
       "  font-weight: bold;\n",
       "  display: inline-block;\n",
       "  line-height: 1.2em;\n",
       "}\n",
       "\n",
       "#sk-container-id-9 div.sk-label-container {\n",
       "  text-align: center;\n",
       "}\n",
       "\n",
       "/* Estimator-specific */\n",
       "#sk-container-id-9 div.sk-estimator {\n",
       "  font-family: monospace;\n",
       "  border: 1px dotted var(--sklearn-color-border-box);\n",
       "  border-radius: 0.25em;\n",
       "  box-sizing: border-box;\n",
       "  margin-bottom: 0.5em;\n",
       "  /* unfitted */\n",
       "  background-color: var(--sklearn-color-unfitted-level-0);\n",
       "}\n",
       "\n",
       "#sk-container-id-9 div.sk-estimator.fitted {\n",
       "  /* fitted */\n",
       "  background-color: var(--sklearn-color-fitted-level-0);\n",
       "}\n",
       "\n",
       "/* on hover */\n",
       "#sk-container-id-9 div.sk-estimator:hover {\n",
       "  /* unfitted */\n",
       "  background-color: var(--sklearn-color-unfitted-level-2);\n",
       "}\n",
       "\n",
       "#sk-container-id-9 div.sk-estimator.fitted:hover {\n",
       "  /* fitted */\n",
       "  background-color: var(--sklearn-color-fitted-level-2);\n",
       "}\n",
       "\n",
       "/* Specification for estimator info (e.g. \"i\" and \"?\") */\n",
       "\n",
       "/* Common style for \"i\" and \"?\" */\n",
       "\n",
       ".sk-estimator-doc-link,\n",
       "a:link.sk-estimator-doc-link,\n",
       "a:visited.sk-estimator-doc-link {\n",
       "  float: right;\n",
       "  font-size: smaller;\n",
       "  line-height: 1em;\n",
       "  font-family: monospace;\n",
       "  background-color: var(--sklearn-color-background);\n",
       "  border-radius: 1em;\n",
       "  height: 1em;\n",
       "  width: 1em;\n",
       "  text-decoration: none !important;\n",
       "  margin-left: 1ex;\n",
       "  /* unfitted */\n",
       "  border: var(--sklearn-color-unfitted-level-1) 1pt solid;\n",
       "  color: var(--sklearn-color-unfitted-level-1);\n",
       "}\n",
       "\n",
       ".sk-estimator-doc-link.fitted,\n",
       "a:link.sk-estimator-doc-link.fitted,\n",
       "a:visited.sk-estimator-doc-link.fitted {\n",
       "  /* fitted */\n",
       "  border: var(--sklearn-color-fitted-level-1) 1pt solid;\n",
       "  color: var(--sklearn-color-fitted-level-1);\n",
       "}\n",
       "\n",
       "/* On hover */\n",
       "div.sk-estimator:hover .sk-estimator-doc-link:hover,\n",
       ".sk-estimator-doc-link:hover,\n",
       "div.sk-label-container:hover .sk-estimator-doc-link:hover,\n",
       ".sk-estimator-doc-link:hover {\n",
       "  /* unfitted */\n",
       "  background-color: var(--sklearn-color-unfitted-level-3);\n",
       "  color: var(--sklearn-color-background);\n",
       "  text-decoration: none;\n",
       "}\n",
       "\n",
       "div.sk-estimator.fitted:hover .sk-estimator-doc-link.fitted:hover,\n",
       ".sk-estimator-doc-link.fitted:hover,\n",
       "div.sk-label-container:hover .sk-estimator-doc-link.fitted:hover,\n",
       ".sk-estimator-doc-link.fitted:hover {\n",
       "  /* fitted */\n",
       "  background-color: var(--sklearn-color-fitted-level-3);\n",
       "  color: var(--sklearn-color-background);\n",
       "  text-decoration: none;\n",
       "}\n",
       "\n",
       "/* Span, style for the box shown on hovering the info icon */\n",
       ".sk-estimator-doc-link span {\n",
       "  display: none;\n",
       "  z-index: 9999;\n",
       "  position: relative;\n",
       "  font-weight: normal;\n",
       "  right: .2ex;\n",
       "  padding: .5ex;\n",
       "  margin: .5ex;\n",
       "  width: min-content;\n",
       "  min-width: 20ex;\n",
       "  max-width: 50ex;\n",
       "  color: var(--sklearn-color-text);\n",
       "  box-shadow: 2pt 2pt 4pt #999;\n",
       "  /* unfitted */\n",
       "  background: var(--sklearn-color-unfitted-level-0);\n",
       "  border: .5pt solid var(--sklearn-color-unfitted-level-3);\n",
       "}\n",
       "\n",
       ".sk-estimator-doc-link.fitted span {\n",
       "  /* fitted */\n",
       "  background: var(--sklearn-color-fitted-level-0);\n",
       "  border: var(--sklearn-color-fitted-level-3);\n",
       "}\n",
       "\n",
       ".sk-estimator-doc-link:hover span {\n",
       "  display: block;\n",
       "}\n",
       "\n",
       "/* \"?\"-specific style due to the `<a>` HTML tag */\n",
       "\n",
       "#sk-container-id-9 a.estimator_doc_link {\n",
       "  float: right;\n",
       "  font-size: 1rem;\n",
       "  line-height: 1em;\n",
       "  font-family: monospace;\n",
       "  background-color: var(--sklearn-color-background);\n",
       "  border-radius: 1rem;\n",
       "  height: 1rem;\n",
       "  width: 1rem;\n",
       "  text-decoration: none;\n",
       "  /* unfitted */\n",
       "  color: var(--sklearn-color-unfitted-level-1);\n",
       "  border: var(--sklearn-color-unfitted-level-1) 1pt solid;\n",
       "}\n",
       "\n",
       "#sk-container-id-9 a.estimator_doc_link.fitted {\n",
       "  /* fitted */\n",
       "  border: var(--sklearn-color-fitted-level-1) 1pt solid;\n",
       "  color: var(--sklearn-color-fitted-level-1);\n",
       "}\n",
       "\n",
       "/* On hover */\n",
       "#sk-container-id-9 a.estimator_doc_link:hover {\n",
       "  /* unfitted */\n",
       "  background-color: var(--sklearn-color-unfitted-level-3);\n",
       "  color: var(--sklearn-color-background);\n",
       "  text-decoration: none;\n",
       "}\n",
       "\n",
       "#sk-container-id-9 a.estimator_doc_link.fitted:hover {\n",
       "  /* fitted */\n",
       "  background-color: var(--sklearn-color-fitted-level-3);\n",
       "}\n",
       "</style><div id=\"sk-container-id-9\" class=\"sk-top-container\"><div class=\"sk-text-repr-fallback\"><pre>XGBClassifier(base_score=None, booster=None, callbacks=None,\n",
       "              colsample_bylevel=None, colsample_bynode=None,\n",
       "              colsample_bytree=0.4, device=None, early_stopping_rounds=None,\n",
       "              enable_categorical=False, eval_metric=None, feature_types=None,\n",
       "              gamma=0.8500000000000001, grow_policy=None, importance_type=None,\n",
       "              interaction_constraints=None, learning_rate=0.195, max_bin=None,\n",
       "              max_cat_threshold=None, max_cat_to_onehot=None,\n",
       "              max_delta_step=None, max_depth=2, max_leaves=None,\n",
       "              min_child_weight=3.0, missing=nan, monotone_constraints=None,\n",
       "              multi_strategy=None, n_estimators=125, n_jobs=-2,\n",
       "              num_parallel_tree=None, random_state=42, ...)</pre><b>In a Jupyter environment, please rerun this cell to show the HTML representation or trust the notebook. <br />On GitHub, the HTML representation is unable to render, please try loading this page with nbviewer.org.</b></div><div class=\"sk-container\" hidden><div class=\"sk-item\"><div class=\"sk-estimator fitted sk-toggleable\"><input class=\"sk-toggleable__control sk-hidden--visually\" id=\"sk-estimator-id-9\" type=\"checkbox\" checked><label for=\"sk-estimator-id-9\" class=\"sk-toggleable__label fitted sk-toggleable__label-arrow fitted\">&nbsp;XGBClassifier<span class=\"sk-estimator-doc-link fitted\">i<span>Fitted</span></span></label><div class=\"sk-toggleable__content fitted\"><pre>XGBClassifier(base_score=None, booster=None, callbacks=None,\n",
       "              colsample_bylevel=None, colsample_bynode=None,\n",
       "              colsample_bytree=0.4, device=None, early_stopping_rounds=None,\n",
       "              enable_categorical=False, eval_metric=None, feature_types=None,\n",
       "              gamma=0.8500000000000001, grow_policy=None, importance_type=None,\n",
       "              interaction_constraints=None, learning_rate=0.195, max_bin=None,\n",
       "              max_cat_threshold=None, max_cat_to_onehot=None,\n",
       "              max_delta_step=None, max_depth=2, max_leaves=None,\n",
       "              min_child_weight=3.0, missing=nan, monotone_constraints=None,\n",
       "              multi_strategy=None, n_estimators=125, n_jobs=-2,\n",
       "              num_parallel_tree=None, random_state=42, ...)</pre></div> </div></div></div></div>"
      ],
      "text/plain": [
       "XGBClassifier(base_score=None, booster=None, callbacks=None,\n",
       "              colsample_bylevel=None, colsample_bynode=None,\n",
       "              colsample_bytree=0.4, device=None, early_stopping_rounds=None,\n",
       "              enable_categorical=False, eval_metric=None, feature_types=None,\n",
       "              gamma=0.8500000000000001, grow_policy=None, importance_type=None,\n",
       "              interaction_constraints=None, learning_rate=0.195, max_bin=None,\n",
       "              max_cat_threshold=None, max_cat_to_onehot=None,\n",
       "              max_delta_step=None, max_depth=2, max_leaves=None,\n",
       "              min_child_weight=3.0, missing=nan, monotone_constraints=None,\n",
       "              multi_strategy=None, n_estimators=125, n_jobs=-2,\n",
       "              num_parallel_tree=None, random_state=42, ...)"
      ]
     },
     "execution_count": 1330,
     "metadata": {},
     "output_type": "execute_result"
    }
   ],
   "source": [
    "#final_model.get_all_params()\n",
    "final_model"
   ]
  },
  {
   "cell_type": "markdown",
   "metadata": {},
   "source": [
    "# Use the saved model to predict on specific hospital"
   ]
  },
  {
   "cell_type": "code",
   "execution_count": 1331,
   "metadata": {},
   "outputs": [
    {
     "name": "stdout",
     "output_type": "stream",
     "text": [
      "loaded: XGBClassifier_other_region_abs_number_NORTE_AM_AMAZONAS_HUGV\n"
     ]
    }
   ],
   "source": [
    "import pickle\n",
    "import joblib\n",
    "\n",
    "#Carrego o modelo unico\n",
    "print('loaded: ' + final_model_name)\n",
    "other_region_abs_number_model_pkl = final_model_name + \".pkl\"\n",
    "prep_pipe_other_region_abs_number, other_region_abs_number_model = joblib.load(other_region_abs_number_model_pkl)"
   ]
  },
  {
   "cell_type": "code",
   "execution_count": 1332,
   "metadata": {},
   "outputs": [
    {
     "data": {
      "text/plain": [
       "'XGBClassifier'"
      ]
     },
     "execution_count": 1332,
     "metadata": {},
     "output_type": "execute_result"
    }
   ],
   "source": [
    "other_region_abs_number_model.__class__.__name__"
   ]
  },
  {
   "cell_type": "code",
   "execution_count": 1333,
   "metadata": {},
   "outputs": [
    {
     "data": {
      "text/plain": [
       "'X_test_other_region_absolute_NORTE_AM_AMAZONAS_HUGV.csv'"
      ]
     },
     "execution_count": 1333,
     "metadata": {},
     "output_type": "execute_result"
    }
   ],
   "source": [
    "x_test_specific_name"
   ]
  },
  {
   "cell_type": "code",
   "execution_count": 1334,
   "metadata": {},
   "outputs": [
    {
     "data": {
      "text/plain": [
       "(15, 25)"
      ]
     },
     "execution_count": 1334,
     "metadata": {},
     "output_type": "execute_result"
    }
   ],
   "source": [
    "#Carrego o X_test do modelo único\n",
    "X_test_single = pd.read_csv(x_test_specific_name, delimiter=\";\",index_col=0)\n",
    "X_test_single.shape"
   ]
  },
  {
   "cell_type": "code",
   "execution_count": 1335,
   "metadata": {},
   "outputs": [
    {
     "data": {
      "text/plain": [
       "Index(['city_hospital', 'age', 'male', 'heart_rate', 'resp_rate', 'sys_press',\n",
       "       'dias_press', 'mean_press', 'temp', 'hemoglobin', 'platelets',\n",
       "       'hematocrit', 'red_cells_count', 'hcm', 'rdw', 'mcv', 'leukocytes',\n",
       "       'neutrophil', 'lymphocytes', 'basophils', 'eosinophils', 'monocytes',\n",
       "       'crp', 'region', 'state'],\n",
       "      dtype='object')"
      ]
     },
     "execution_count": 1335,
     "metadata": {},
     "output_type": "execute_result"
    }
   ],
   "source": [
    "X_test_single.columns"
   ]
  },
  {
   "cell_type": "code",
   "execution_count": 1336,
   "metadata": {},
   "outputs": [
    {
     "data": {
      "text/plain": [
       "(15,)"
      ]
     },
     "execution_count": 1336,
     "metadata": {},
     "output_type": "execute_result"
    }
   ],
   "source": [
    "#Carrego o Y_test do modelo único\n",
    "y_test_single = pd.read_csv(y_test_specific_name, delimiter=\";\",index_col=0)\n",
    "y_test_single = y_test_single[\"icu\"]\n",
    "y_test_single.shape"
   ]
  },
  {
   "cell_type": "code",
   "execution_count": 1337,
   "metadata": {},
   "outputs": [
    {
     "data": {
      "text/html": [
       "<div>\n",
       "<style scoped>\n",
       "    .dataframe tbody tr th:only-of-type {\n",
       "        vertical-align: middle;\n",
       "    }\n",
       "\n",
       "    .dataframe tbody tr th {\n",
       "        vertical-align: top;\n",
       "    }\n",
       "\n",
       "    .dataframe thead th {\n",
       "        text-align: right;\n",
       "    }\n",
       "</style>\n",
       "<table border=\"1\" class=\"dataframe\">\n",
       "  <thead>\n",
       "    <tr style=\"text-align: right;\">\n",
       "      <th></th>\n",
       "      <th>city_hospital</th>\n",
       "      <th>age</th>\n",
       "      <th>male</th>\n",
       "      <th>heart_rate</th>\n",
       "      <th>resp_rate</th>\n",
       "      <th>sys_press</th>\n",
       "      <th>dias_press</th>\n",
       "      <th>mean_press</th>\n",
       "      <th>temp</th>\n",
       "      <th>hemoglobin</th>\n",
       "      <th>platelets</th>\n",
       "      <th>hematocrit</th>\n",
       "      <th>red_cells_count</th>\n",
       "      <th>hcm</th>\n",
       "      <th>rdw</th>\n",
       "      <th>mcv</th>\n",
       "      <th>leukocytes</th>\n",
       "      <th>neutrophil</th>\n",
       "      <th>lymphocytes</th>\n",
       "      <th>basophils</th>\n",
       "      <th>eosinophils</th>\n",
       "      <th>monocytes</th>\n",
       "      <th>crp</th>\n",
       "      <th>region</th>\n",
       "      <th>state</th>\n",
       "    </tr>\n",
       "  </thead>\n",
       "  <tbody>\n",
       "    <tr>\n",
       "      <th>31</th>\n",
       "      <td>AMAZONAS_HUGV</td>\n",
       "      <td>66.000</td>\n",
       "      <td>0.000</td>\n",
       "      <td>89.000</td>\n",
       "      <td>28.000</td>\n",
       "      <td>130.000</td>\n",
       "      <td>69.000</td>\n",
       "      <td>89.313</td>\n",
       "      <td>37.500</td>\n",
       "      <td>11.160</td>\n",
       "      <td>296500.000</td>\n",
       "      <td>34.720</td>\n",
       "      <td>4.400</td>\n",
       "      <td>29.520</td>\n",
       "      <td>13.000</td>\n",
       "      <td>91.870</td>\n",
       "      <td>17060.000</td>\n",
       "      <td>14212.000</td>\n",
       "      <td>1023.000</td>\n",
       "      <td>124.000</td>\n",
       "      <td>0.000</td>\n",
       "      <td>1699.000</td>\n",
       "      <td>94.000</td>\n",
       "      <td>NORTE</td>\n",
       "      <td>AM</td>\n",
       "    </tr>\n",
       "    <tr>\n",
       "      <th>1</th>\n",
       "      <td>AMAZONAS_HUGV</td>\n",
       "      <td>61.000</td>\n",
       "      <td>1.000</td>\n",
       "      <td>86.000</td>\n",
       "      <td>18.000</td>\n",
       "      <td>172.000</td>\n",
       "      <td>75.000</td>\n",
       "      <td>107.301</td>\n",
       "      <td>34.800</td>\n",
       "      <td>11.600</td>\n",
       "      <td>110900.000</td>\n",
       "      <td>35.960</td>\n",
       "      <td>4.370</td>\n",
       "      <td>26.660</td>\n",
       "      <td>11.790</td>\n",
       "      <td>82.250</td>\n",
       "      <td>12710.000</td>\n",
       "      <td>12201.000</td>\n",
       "      <td>381.000</td>\n",
       "      <td>0.000</td>\n",
       "      <td>0.000</td>\n",
       "      <td>127.000</td>\n",
       "      <td>15.100</td>\n",
       "      <td>NORTE</td>\n",
       "      <td>AM</td>\n",
       "    </tr>\n",
       "    <tr>\n",
       "      <th>29</th>\n",
       "      <td>AMAZONAS_HUGV</td>\n",
       "      <td>75.000</td>\n",
       "      <td>0.000</td>\n",
       "      <td>82.000</td>\n",
       "      <td>24.000</td>\n",
       "      <td>128.000</td>\n",
       "      <td>80.000</td>\n",
       "      <td>95.984</td>\n",
       "      <td>36.400</td>\n",
       "      <td>12.010</td>\n",
       "      <td>198500.000</td>\n",
       "      <td>35.940</td>\n",
       "      <td>4.200</td>\n",
       "      <td>28.580</td>\n",
       "      <td>10.330</td>\n",
       "      <td>85.500</td>\n",
       "      <td>4270.000</td>\n",
       "      <td>3112.000</td>\n",
       "      <td>835.000</td>\n",
       "      <td>19.000</td>\n",
       "      <td>2.000</td>\n",
       "      <td>299.000</td>\n",
       "      <td>3.200</td>\n",
       "      <td>NORTE</td>\n",
       "      <td>AM</td>\n",
       "    </tr>\n",
       "    <tr>\n",
       "      <th>21</th>\n",
       "      <td>AMAZONAS_HUGV</td>\n",
       "      <td>66.000</td>\n",
       "      <td>0.000</td>\n",
       "      <td>NaN</td>\n",
       "      <td>NaN</td>\n",
       "      <td>NaN</td>\n",
       "      <td>NaN</td>\n",
       "      <td>NaN</td>\n",
       "      <td>NaN</td>\n",
       "      <td>11.750</td>\n",
       "      <td>453800.000</td>\n",
       "      <td>36.890</td>\n",
       "      <td>4.110</td>\n",
       "      <td>28.550</td>\n",
       "      <td>11.680</td>\n",
       "      <td>89.620</td>\n",
       "      <td>8242.000</td>\n",
       "      <td>5114.000</td>\n",
       "      <td>1534.000</td>\n",
       "      <td>53.000</td>\n",
       "      <td>198.000</td>\n",
       "      <td>1340.000</td>\n",
       "      <td>20.900</td>\n",
       "      <td>NORTE</td>\n",
       "      <td>AM</td>\n",
       "    </tr>\n",
       "    <tr>\n",
       "      <th>2</th>\n",
       "      <td>AMAZONAS_HUGV</td>\n",
       "      <td>28.000</td>\n",
       "      <td>1.000</td>\n",
       "      <td>80.000</td>\n",
       "      <td>30.000</td>\n",
       "      <td>117.000</td>\n",
       "      <td>56.000</td>\n",
       "      <td>76.313</td>\n",
       "      <td>37.400</td>\n",
       "      <td>6.400</td>\n",
       "      <td>237000.000</td>\n",
       "      <td>20.100</td>\n",
       "      <td>2.470</td>\n",
       "      <td>25.800</td>\n",
       "      <td>13.500</td>\n",
       "      <td>81.500</td>\n",
       "      <td>11400.000</td>\n",
       "      <td>9784.000</td>\n",
       "      <td>776.000</td>\n",
       "      <td>63.000</td>\n",
       "      <td>126.000</td>\n",
       "      <td>651.000</td>\n",
       "      <td>200.400</td>\n",
       "      <td>NORTE</td>\n",
       "      <td>AM</td>\n",
       "    </tr>\n",
       "  </tbody>\n",
       "</table>\n",
       "</div>"
      ],
      "text/plain": [
       "    city_hospital    age  male  heart_rate  resp_rate  sys_press  dias_press  \\\n",
       "31  AMAZONAS_HUGV 66.000 0.000      89.000     28.000    130.000      69.000   \n",
       "1   AMAZONAS_HUGV 61.000 1.000      86.000     18.000    172.000      75.000   \n",
       "29  AMAZONAS_HUGV 75.000 0.000      82.000     24.000    128.000      80.000   \n",
       "21  AMAZONAS_HUGV 66.000 0.000         NaN        NaN        NaN         NaN   \n",
       "2   AMAZONAS_HUGV 28.000 1.000      80.000     30.000    117.000      56.000   \n",
       "\n",
       "    mean_press   temp  hemoglobin  platelets  hematocrit  red_cells_count  \\\n",
       "31      89.313 37.500      11.160 296500.000      34.720            4.400   \n",
       "1      107.301 34.800      11.600 110900.000      35.960            4.370   \n",
       "29      95.984 36.400      12.010 198500.000      35.940            4.200   \n",
       "21         NaN    NaN      11.750 453800.000      36.890            4.110   \n",
       "2       76.313 37.400       6.400 237000.000      20.100            2.470   \n",
       "\n",
       "      hcm    rdw    mcv  leukocytes  neutrophil  lymphocytes  basophils  \\\n",
       "31 29.520 13.000 91.870   17060.000   14212.000     1023.000    124.000   \n",
       "1  26.660 11.790 82.250   12710.000   12201.000      381.000      0.000   \n",
       "29 28.580 10.330 85.500    4270.000    3112.000      835.000     19.000   \n",
       "21 28.550 11.680 89.620    8242.000    5114.000     1534.000     53.000   \n",
       "2  25.800 13.500 81.500   11400.000    9784.000      776.000     63.000   \n",
       "\n",
       "    eosinophils  monocytes     crp region state  \n",
       "31        0.000   1699.000  94.000  NORTE    AM  \n",
       "1         0.000    127.000  15.100  NORTE    AM  \n",
       "29        2.000    299.000   3.200  NORTE    AM  \n",
       "21      198.000   1340.000  20.900  NORTE    AM  \n",
       "2       126.000    651.000 200.400  NORTE    AM  "
      ]
     },
     "execution_count": 1337,
     "metadata": {},
     "output_type": "execute_result"
    }
   ],
   "source": [
    "pd.set_option('display.max_columns', None)\n",
    "X_test_single.head()"
   ]
  },
  {
   "cell_type": "code",
   "execution_count": 1338,
   "metadata": {},
   "outputs": [],
   "source": [
    "X_test_single[\"class\"] = y_test_single"
   ]
  },
  {
   "cell_type": "code",
   "execution_count": 1339,
   "metadata": {},
   "outputs": [
    {
     "data": {
      "text/plain": [
       "Index(['city_hospital', 'age', 'male', 'heart_rate', 'resp_rate', 'sys_press',\n",
       "       'dias_press', 'mean_press', 'temp', 'hemoglobin', 'platelets',\n",
       "       'hematocrit', 'red_cells_count', 'hcm', 'rdw', 'mcv', 'leukocytes',\n",
       "       'neutrophil', 'lymphocytes', 'basophils', 'eosinophils', 'monocytes',\n",
       "       'crp', 'region', 'state', 'class'],\n",
       "      dtype='object')"
      ]
     },
     "execution_count": 1339,
     "metadata": {},
     "output_type": "execute_result"
    }
   ],
   "source": [
    "X_test_single.columns"
   ]
  },
  {
   "cell_type": "code",
   "execution_count": 1340,
   "metadata": {},
   "outputs": [],
   "source": [
    "X_test_single = X_test_single.drop(['city_hospital'],axis=1)\n",
    "X_test_single = X_test_single.drop(['region'],axis=1)\n",
    "X_test_single = X_test_single.drop(['state'],axis=1)"
   ]
  },
  {
   "cell_type": "code",
   "execution_count": 1341,
   "metadata": {},
   "outputs": [
    {
     "data": {
      "application/vnd.jupyter.widget-view+json": {
       "model_id": "4bfdc2b8a40c4eb784332c7ff93bcf09",
       "version_major": 2,
       "version_minor": 0
      },
      "text/plain": [
       "Text(value=\"Following data types have been inferred automatically, if they are correct press enter to continue…"
      ]
     },
     "metadata": {},
     "output_type": "display_data"
    },
    {
     "data": {
      "text/html": [
       "<div>\n",
       "<style scoped>\n",
       "    .dataframe tbody tr th:only-of-type {\n",
       "        vertical-align: middle;\n",
       "    }\n",
       "\n",
       "    .dataframe tbody tr th {\n",
       "        vertical-align: top;\n",
       "    }\n",
       "\n",
       "    .dataframe thead th {\n",
       "        text-align: right;\n",
       "    }\n",
       "</style>\n",
       "<table border=\"1\" class=\"dataframe\">\n",
       "  <thead>\n",
       "    <tr style=\"text-align: right;\">\n",
       "      <th></th>\n",
       "      <th>Data Type</th>\n",
       "    </tr>\n",
       "  </thead>\n",
       "  <tbody>\n",
       "    <tr>\n",
       "      <th>age</th>\n",
       "      <td>Numeric</td>\n",
       "    </tr>\n",
       "    <tr>\n",
       "      <th>male</th>\n",
       "      <td>Categorical</td>\n",
       "    </tr>\n",
       "    <tr>\n",
       "      <th>heart_rate</th>\n",
       "      <td>Categorical</td>\n",
       "    </tr>\n",
       "    <tr>\n",
       "      <th>resp_rate</th>\n",
       "      <td>Numeric</td>\n",
       "    </tr>\n",
       "    <tr>\n",
       "      <th>sys_press</th>\n",
       "      <td>Categorical</td>\n",
       "    </tr>\n",
       "    <tr>\n",
       "      <th>dias_press</th>\n",
       "      <td>Categorical</td>\n",
       "    </tr>\n",
       "    <tr>\n",
       "      <th>mean_press</th>\n",
       "      <td>Numeric</td>\n",
       "    </tr>\n",
       "    <tr>\n",
       "      <th>temp</th>\n",
       "      <td>Numeric</td>\n",
       "    </tr>\n",
       "    <tr>\n",
       "      <th>hemoglobin</th>\n",
       "      <td>Numeric</td>\n",
       "    </tr>\n",
       "    <tr>\n",
       "      <th>platelets</th>\n",
       "      <td>Categorical</td>\n",
       "    </tr>\n",
       "    <tr>\n",
       "      <th>hematocrit</th>\n",
       "      <td>Numeric</td>\n",
       "    </tr>\n",
       "    <tr>\n",
       "      <th>red_cells_count</th>\n",
       "      <td>Numeric</td>\n",
       "    </tr>\n",
       "    <tr>\n",
       "      <th>hcm</th>\n",
       "      <td>Numeric</td>\n",
       "    </tr>\n",
       "    <tr>\n",
       "      <th>rdw</th>\n",
       "      <td>Numeric</td>\n",
       "    </tr>\n",
       "    <tr>\n",
       "      <th>mcv</th>\n",
       "      <td>Numeric</td>\n",
       "    </tr>\n",
       "    <tr>\n",
       "      <th>leukocytes</th>\n",
       "      <td>Numeric</td>\n",
       "    </tr>\n",
       "    <tr>\n",
       "      <th>neutrophil</th>\n",
       "      <td>Numeric</td>\n",
       "    </tr>\n",
       "    <tr>\n",
       "      <th>lymphocytes</th>\n",
       "      <td>Numeric</td>\n",
       "    </tr>\n",
       "    <tr>\n",
       "      <th>basophils</th>\n",
       "      <td>Numeric</td>\n",
       "    </tr>\n",
       "    <tr>\n",
       "      <th>eosinophils</th>\n",
       "      <td>Numeric</td>\n",
       "    </tr>\n",
       "    <tr>\n",
       "      <th>monocytes</th>\n",
       "      <td>Numeric</td>\n",
       "    </tr>\n",
       "    <tr>\n",
       "      <th>crp</th>\n",
       "      <td>Numeric</td>\n",
       "    </tr>\n",
       "    <tr>\n",
       "      <th>class</th>\n",
       "      <td>Label</td>\n",
       "    </tr>\n",
       "  </tbody>\n",
       "</table>\n",
       "</div>"
      ],
      "text/plain": [
       "                   Data Type\n",
       "age                  Numeric\n",
       "male             Categorical\n",
       "heart_rate       Categorical\n",
       "resp_rate            Numeric\n",
       "sys_press        Categorical\n",
       "dias_press       Categorical\n",
       "mean_press           Numeric\n",
       "temp                 Numeric\n",
       "hemoglobin           Numeric\n",
       "platelets        Categorical\n",
       "hematocrit           Numeric\n",
       "red_cells_count      Numeric\n",
       "hcm                  Numeric\n",
       "rdw                  Numeric\n",
       "mcv                  Numeric\n",
       "leukocytes           Numeric\n",
       "neutrophil           Numeric\n",
       "lymphocytes          Numeric\n",
       "basophils            Numeric\n",
       "eosinophils          Numeric\n",
       "monocytes            Numeric\n",
       "crp                  Numeric\n",
       "class                  Label"
      ]
     },
     "metadata": {},
     "output_type": "display_data"
    },
    {
     "name": "stdin",
     "output_type": "stream",
     "text": [
      " \n"
     ]
    },
    {
     "data": {
      "text/html": [
       "<div>\n",
       "<style scoped>\n",
       "    .dataframe tbody tr th:only-of-type {\n",
       "        vertical-align: middle;\n",
       "    }\n",
       "\n",
       "    .dataframe tbody tr th {\n",
       "        vertical-align: top;\n",
       "    }\n",
       "\n",
       "    .dataframe thead th {\n",
       "        text-align: right;\n",
       "    }\n",
       "</style>\n",
       "<table border=\"1\" class=\"dataframe\">\n",
       "  <thead>\n",
       "    <tr style=\"text-align: right;\">\n",
       "      <th></th>\n",
       "      <th>class</th>\n",
       "      <th>age</th>\n",
       "      <th>heart_rate</th>\n",
       "      <th>resp_rate</th>\n",
       "      <th>sys_press</th>\n",
       "      <th>dias_press</th>\n",
       "      <th>mean_press</th>\n",
       "      <th>temp</th>\n",
       "      <th>hemoglobin</th>\n",
       "      <th>platelets</th>\n",
       "      <th>hematocrit</th>\n",
       "      <th>red_cells_count</th>\n",
       "      <th>hcm</th>\n",
       "      <th>rdw</th>\n",
       "      <th>mcv</th>\n",
       "      <th>leukocytes</th>\n",
       "      <th>neutrophil</th>\n",
       "      <th>lymphocytes</th>\n",
       "      <th>basophils</th>\n",
       "      <th>eosinophils</th>\n",
       "      <th>monocytes</th>\n",
       "      <th>crp</th>\n",
       "      <th>male_1.0</th>\n",
       "    </tr>\n",
       "  </thead>\n",
       "  <tbody>\n",
       "    <tr>\n",
       "      <th>31</th>\n",
       "      <td>1</td>\n",
       "      <td>0.683</td>\n",
       "      <td>0.369</td>\n",
       "      <td>0.983</td>\n",
       "      <td>-0.026</td>\n",
       "      <td>-0.499</td>\n",
       "      <td>-0.288</td>\n",
       "      <td>1.547</td>\n",
       "      <td>0.569</td>\n",
       "      <td>0.168</td>\n",
       "      <td>0.510</td>\n",
       "      <td>0.900</td>\n",
       "      <td>0.843</td>\n",
       "      <td>0.061</td>\n",
       "      <td>1.396</td>\n",
       "      <td>0.824</td>\n",
       "      <td>0.685</td>\n",
       "      <td>0.084</td>\n",
       "      <td>0.971</td>\n",
       "      <td>-0.477</td>\n",
       "      <td>1.942</td>\n",
       "      <td>-0.080</td>\n",
       "      <td>0.000</td>\n",
       "    </tr>\n",
       "    <tr>\n",
       "      <th>1</th>\n",
       "      <td>1</td>\n",
       "      <td>0.330</td>\n",
       "      <td>0.075</td>\n",
       "      <td>-1.538</td>\n",
       "      <td>2.024</td>\n",
       "      <td>0.073</td>\n",
       "      <td>1.167</td>\n",
       "      <td>-2.483</td>\n",
       "      <td>0.730</td>\n",
       "      <td>-0.980</td>\n",
       "      <td>0.699</td>\n",
       "      <td>0.861</td>\n",
       "      <td>-0.794</td>\n",
       "      <td>-0.428</td>\n",
       "      <td>-0.812</td>\n",
       "      <td>0.211</td>\n",
       "      <td>0.376</td>\n",
       "      <td>-0.875</td>\n",
       "      <td>-1.098</td>\n",
       "      <td>-0.477</td>\n",
       "      <td>-1.113</td>\n",
       "      <td>-1.056</td>\n",
       "      <td>1.000</td>\n",
       "    </tr>\n",
       "    <tr>\n",
       "      <th>29</th>\n",
       "      <td>0</td>\n",
       "      <td>1.318</td>\n",
       "      <td>-0.317</td>\n",
       "      <td>-0.025</td>\n",
       "      <td>-0.124</td>\n",
       "      <td>0.550</td>\n",
       "      <td>0.252</td>\n",
       "      <td>-0.095</td>\n",
       "      <td>0.879</td>\n",
       "      <td>-0.438</td>\n",
       "      <td>0.696</td>\n",
       "      <td>0.642</td>\n",
       "      <td>0.305</td>\n",
       "      <td>-1.017</td>\n",
       "      <td>-0.066</td>\n",
       "      <td>-0.980</td>\n",
       "      <td>-1.023</td>\n",
       "      <td>-0.196</td>\n",
       "      <td>-0.781</td>\n",
       "      <td>-0.466</td>\n",
       "      <td>-0.779</td>\n",
       "      <td>-1.203</td>\n",
       "      <td>0.000</td>\n",
       "    </tr>\n",
       "    <tr>\n",
       "      <th>21</th>\n",
       "      <td>0</td>\n",
       "      <td>0.683</td>\n",
       "      <td>0.222</td>\n",
       "      <td>-0.151</td>\n",
       "      <td>-0.075</td>\n",
       "      <td>0.312</td>\n",
       "      <td>0.009</td>\n",
       "      <td>0.129</td>\n",
       "      <td>0.784</td>\n",
       "      <td>1.140</td>\n",
       "      <td>0.842</td>\n",
       "      <td>0.526</td>\n",
       "      <td>0.287</td>\n",
       "      <td>-0.472</td>\n",
       "      <td>0.880</td>\n",
       "      <td>-0.420</td>\n",
       "      <td>-0.715</td>\n",
       "      <td>0.848</td>\n",
       "      <td>-0.214</td>\n",
       "      <td>0.590</td>\n",
       "      <td>1.244</td>\n",
       "      <td>-0.984</td>\n",
       "      <td>0.000</td>\n",
       "    </tr>\n",
       "    <tr>\n",
       "      <th>2</th>\n",
       "      <td>1</td>\n",
       "      <td>-2.001</td>\n",
       "      <td>-0.512</td>\n",
       "      <td>1.487</td>\n",
       "      <td>-0.661</td>\n",
       "      <td>-1.739</td>\n",
       "      <td>-1.339</td>\n",
       "      <td>1.398</td>\n",
       "      <td>-1.167</td>\n",
       "      <td>-0.200</td>\n",
       "      <td>-1.727</td>\n",
       "      <td>-1.586</td>\n",
       "      <td>-1.287</td>\n",
       "      <td>0.263</td>\n",
       "      <td>-0.984</td>\n",
       "      <td>0.026</td>\n",
       "      <td>0.004</td>\n",
       "      <td>-0.285</td>\n",
       "      <td>-0.047</td>\n",
       "      <td>0.202</td>\n",
       "      <td>-0.095</td>\n",
       "      <td>1.235</td>\n",
       "      <td>1.000</td>\n",
       "    </tr>\n",
       "  </tbody>\n",
       "</table>\n",
       "</div>"
      ],
      "text/plain": [
       "    class    age  heart_rate  resp_rate  sys_press  dias_press  mean_press  \\\n",
       "31      1  0.683       0.369      0.983     -0.026      -0.499      -0.288   \n",
       "1       1  0.330       0.075     -1.538      2.024       0.073       1.167   \n",
       "29      0  1.318      -0.317     -0.025     -0.124       0.550       0.252   \n",
       "21      0  0.683       0.222     -0.151     -0.075       0.312       0.009   \n",
       "2       1 -2.001      -0.512      1.487     -0.661      -1.739      -1.339   \n",
       "\n",
       "     temp  hemoglobin  platelets  hematocrit  red_cells_count    hcm    rdw  \\\n",
       "31  1.547       0.569      0.168       0.510            0.900  0.843  0.061   \n",
       "1  -2.483       0.730     -0.980       0.699            0.861 -0.794 -0.428   \n",
       "29 -0.095       0.879     -0.438       0.696            0.642  0.305 -1.017   \n",
       "21  0.129       0.784      1.140       0.842            0.526  0.287 -0.472   \n",
       "2   1.398      -1.167     -0.200      -1.727           -1.586 -1.287  0.263   \n",
       "\n",
       "      mcv  leukocytes  neutrophil  lymphocytes  basophils  eosinophils  \\\n",
       "31  1.396       0.824       0.685        0.084      0.971       -0.477   \n",
       "1  -0.812       0.211       0.376       -0.875     -1.098       -0.477   \n",
       "29 -0.066      -0.980      -1.023       -0.196     -0.781       -0.466   \n",
       "21  0.880      -0.420      -0.715        0.848     -0.214        0.590   \n",
       "2  -0.984       0.026       0.004       -0.285     -0.047        0.202   \n",
       "\n",
       "    monocytes    crp  male_1.0  \n",
       "31      1.942 -0.080     0.000  \n",
       "1      -1.113 -1.056     1.000  \n",
       "29     -0.779 -1.203     0.000  \n",
       "21      1.244 -0.984     0.000  \n",
       "2      -0.095  1.235     1.000  "
      ]
     },
     "execution_count": 1341,
     "metadata": {},
     "output_type": "execute_result"
    }
   ],
   "source": [
    "X_test_single_transformed = prep_pipe_other_region_abs_number.fit_transform(X_test_single)\n",
    "X_test_single_transformed.head()"
   ]
  },
  {
   "cell_type": "code",
   "execution_count": 1342,
   "metadata": {},
   "outputs": [],
   "source": [
    "X_test_single_transformed = X_test_single_transformed.drop(['class'],axis=1)"
   ]
  },
  {
   "cell_type": "code",
   "execution_count": 1343,
   "metadata": {},
   "outputs": [
    {
     "data": {
      "text/plain": [
       "(15, 22)"
      ]
     },
     "execution_count": 1343,
     "metadata": {},
     "output_type": "execute_result"
    }
   ],
   "source": [
    "X_test_single_transformed.shape"
   ]
  },
  {
   "cell_type": "code",
   "execution_count": 1344,
   "metadata": {},
   "outputs": [
    {
     "data": {
      "text/plain": [
       "Index(['age', 'heart_rate', 'resp_rate', 'sys_press', 'dias_press',\n",
       "       'mean_press', 'temp', 'hemoglobin', 'platelets', 'hematocrit',\n",
       "       'red_cells_count', 'hcm', 'rdw', 'mcv', 'leukocytes', 'neutrophil',\n",
       "       'lymphocytes', 'basophils', 'eosinophils', 'monocytes', 'crp',\n",
       "       'male_1.0'],\n",
       "      dtype='object')"
      ]
     },
     "execution_count": 1344,
     "metadata": {},
     "output_type": "execute_result"
    }
   ],
   "source": [
    "X_test.columns"
   ]
  },
  {
   "cell_type": "code",
   "execution_count": 1345,
   "metadata": {},
   "outputs": [
    {
     "data": {
      "text/plain": [
       "Index(['age', 'heart_rate', 'resp_rate', 'sys_press', 'dias_press',\n",
       "       'mean_press', 'temp', 'hemoglobin', 'platelets', 'hematocrit',\n",
       "       'red_cells_count', 'hcm', 'rdw', 'mcv', 'leukocytes', 'neutrophil',\n",
       "       'lymphocytes', 'basophils', 'eosinophils', 'monocytes', 'crp',\n",
       "       'male_1.0'],\n",
       "      dtype='object')"
      ]
     },
     "execution_count": 1345,
     "metadata": {},
     "output_type": "execute_result"
    }
   ],
   "source": [
    "X_test_single_transformed.columns"
   ]
  },
  {
   "cell_type": "code",
   "execution_count": 1346,
   "metadata": {},
   "outputs": [
    {
     "data": {
      "text/plain": [
       "[]"
      ]
     },
     "execution_count": 1346,
     "metadata": {},
     "output_type": "execute_result"
    }
   ],
   "source": [
    "#Show distinct columns\n",
    "distinct_columns = X_test[X_test.columns.difference(X_test_single_transformed.columns)].columns.tolist()\n",
    "distinct_columns"
   ]
  },
  {
   "cell_type": "markdown",
   "metadata": {},
   "source": [
    "### Add missing columns to some hospitals that didn't collect all columns\n",
    "e.g. HC_USP (missing: red_cells_count and eosinophils)"
   ]
  },
  {
   "cell_type": "code",
   "execution_count": 1347,
   "metadata": {},
   "outputs": [],
   "source": [
    "for column in distinct_columns:\n",
    "    if(column=='male_0.0'):\n",
    "        X_test_single_transformed['male_0.0'] = X_test_single_transformed['male_1.0'].apply(lambda x: 1.0 if x==0.0 else 0.0)\n",
    "        X_test_single_transformed = X_test_single_transformed.drop('male_1.0', axis=1)\n",
    "    elif(column=='male_1.0'):\n",
    "        X_test_single_transformed['male_1.0'] = X_test_single_transformed['male_0.0'].apply(lambda x: 1.0 if x==0.0 else 0.0)\n",
    "        X_test_single_transformed = X_test_single_transformed.drop('male_0.0', axis=1)\n",
    "    else:\n",
    "        X_test_single_transformed[column]=np.NaN"
   ]
  },
  {
   "cell_type": "code",
   "execution_count": 1348,
   "metadata": {},
   "outputs": [],
   "source": [
    "# X_test_single_transformed['male_1.0'] = X_test_single_transformed['male_0.0'].apply(lambda x: 1.0 if x==0.0 else 0.0)"
   ]
  },
  {
   "cell_type": "code",
   "execution_count": 1349,
   "metadata": {},
   "outputs": [
    {
     "data": {
      "text/plain": [
       "Index(['age', 'heart_rate', 'resp_rate', 'sys_press', 'dias_press',\n",
       "       'mean_press', 'temp', 'hemoglobin', 'platelets', 'hematocrit',\n",
       "       'red_cells_count', 'hcm', 'rdw', 'mcv', 'leukocytes', 'neutrophil',\n",
       "       'lymphocytes', 'basophils', 'eosinophils', 'monocytes', 'crp',\n",
       "       'male_1.0'],\n",
       "      dtype='object')"
      ]
     },
     "execution_count": 1349,
     "metadata": {},
     "output_type": "execute_result"
    }
   ],
   "source": [
    "X_test_single_transformed.columns"
   ]
  },
  {
   "cell_type": "code",
   "execution_count": 1350,
   "metadata": {},
   "outputs": [
    {
     "data": {
      "text/plain": [
       "(15, 22)"
      ]
     },
     "execution_count": 1350,
     "metadata": {},
     "output_type": "execute_result"
    }
   ],
   "source": [
    "X_test_single_transformed.shape"
   ]
  },
  {
   "cell_type": "code",
   "execution_count": 1351,
   "metadata": {},
   "outputs": [
    {
     "data": {
      "text/plain": [
       "(15, 22)"
      ]
     },
     "execution_count": 1351,
     "metadata": {},
     "output_type": "execute_result"
    }
   ],
   "source": [
    "X_test_single_transformed.shape"
   ]
  },
  {
   "cell_type": "code",
   "execution_count": 1352,
   "metadata": {},
   "outputs": [
    {
     "data": {
      "text/plain": [
       "Index(['age', 'heart_rate', 'resp_rate', 'sys_press', 'dias_press',\n",
       "       'mean_press', 'temp', 'hemoglobin', 'platelets', 'hematocrit',\n",
       "       'red_cells_count', 'hcm', 'rdw', 'mcv', 'leukocytes', 'neutrophil',\n",
       "       'lymphocytes', 'basophils', 'eosinophils', 'monocytes', 'crp',\n",
       "       'male_1.0'],\n",
       "      dtype='object')"
      ]
     },
     "execution_count": 1352,
     "metadata": {},
     "output_type": "execute_result"
    }
   ],
   "source": [
    "X_test.columns"
   ]
  },
  {
   "cell_type": "code",
   "execution_count": 1353,
   "metadata": {},
   "outputs": [
    {
     "data": {
      "text/plain": [
       "Index(['age', 'heart_rate', 'resp_rate', 'sys_press', 'dias_press',\n",
       "       'mean_press', 'temp', 'hemoglobin', 'platelets', 'hematocrit',\n",
       "       'red_cells_count', 'hcm', 'rdw', 'mcv', 'leukocytes', 'neutrophil',\n",
       "       'lymphocytes', 'basophils', 'eosinophils', 'monocytes', 'crp',\n",
       "       'male_1.0'],\n",
       "      dtype='object')"
      ]
     },
     "execution_count": 1353,
     "metadata": {},
     "output_type": "execute_result"
    }
   ],
   "source": [
    "X_test_single_transformed.columns"
   ]
  },
  {
   "cell_type": "markdown",
   "metadata": {},
   "source": [
    "**Reorder columns**"
   ]
  },
  {
   "cell_type": "code",
   "execution_count": 1354,
   "metadata": {},
   "outputs": [],
   "source": [
    "# X_test_single_transformed['male_1.0'] = X_test_single_transformed['male_0.0'].apply(lambda x: 1.0 if x==0.0 else 0.0)"
   ]
  },
  {
   "cell_type": "code",
   "execution_count": 1355,
   "metadata": {},
   "outputs": [
    {
     "data": {
      "text/plain": [
       "(15, 22)"
      ]
     },
     "execution_count": 1355,
     "metadata": {},
     "output_type": "execute_result"
    }
   ],
   "source": [
    "# Reorder columns\n",
    "X_test_single_transformed = X_test_single_transformed[X_test.columns]\n",
    "X_test_single_transformed.shape"
   ]
  },
  {
   "cell_type": "code",
   "execution_count": 1356,
   "metadata": {},
   "outputs": [
    {
     "name": "stdout",
     "output_type": "stream",
     "text": [
      "0.48863636363636365\n"
     ]
    },
    {
     "data": {
      "text/plain": [
       "[<matplotlib.lines.Line2D at 0x1880a1486a0>]"
      ]
     },
     "execution_count": 1356,
     "metadata": {},
     "output_type": "execute_result"
    },
    {
     "data": {
      "image/png": "[encoded data removed]",
      "text/plain": [
       "<Figure size 640x480 with 1 Axes>"
      ]
     },
     "metadata": {},
     "output_type": "display_data"
    }
   ],
   "source": [
    "#Vejo a curva ROC do modelo INDIVIDUAL e confirmo o valor da AUC\n",
    "from sklearn.metrics import (roc_curve,auc)\n",
    "\n",
    "y_pred_prob1 = other_region_abs_number_model.predict_proba(X_test_single_transformed)[:,1]\n",
    "fpr1 , tpr1, thresholds1 = roc_curve(y_test_single, y_pred_prob1)\n",
    "\n",
    "auc_ind = auc(fpr1, tpr1)\n",
    "print(auc_ind)\n",
    "plt.plot(fpr1, tpr1, label= \"Single Model - best - AUC \" +  str(auc_ind), color=\"yellow\")"
   ]
  },
  {
   "cell_type": "code",
   "execution_count": 1357,
   "metadata": {},
   "outputs": [
    {
     "data": {
      "text/plain": [
       "(15,)"
      ]
     },
     "execution_count": 1357,
     "metadata": {},
     "output_type": "execute_result"
    }
   ],
   "source": [
    "y_pred_prob1.shape"
   ]
  },
  {
   "cell_type": "code",
   "execution_count": 1358,
   "metadata": {},
   "outputs": [],
   "source": [
    "y_pred = other_region_abs_number_model.predict(X_test_single_transformed)"
   ]
  },
  {
   "cell_type": "code",
   "execution_count": 1359,
   "metadata": {},
   "outputs": [
    {
     "data": {
      "text/html": [
       "<div>\n",
       "<style scoped>\n",
       "    .dataframe tbody tr th:only-of-type {\n",
       "        vertical-align: middle;\n",
       "    }\n",
       "\n",
       "    .dataframe tbody tr th {\n",
       "        vertical-align: top;\n",
       "    }\n",
       "\n",
       "    .dataframe thead th {\n",
       "        text-align: right;\n",
       "    }\n",
       "</style>\n",
       "<table border=\"1\" class=\"dataframe\">\n",
       "  <thead>\n",
       "    <tr style=\"text-align: right;\">\n",
       "      <th></th>\n",
       "      <th></th>\n",
       "      <th></th>\n",
       "    </tr>\n",
       "    <tr>\n",
       "      <th></th>\n",
       "      <th></th>\n",
       "      <th></th>\n",
       "    </tr>\n",
       "  </thead>\n",
       "  <tbody>\n",
       "    <tr>\n",
       "      <th>Ground Truth Prevalence</th>\n",
       "      <td>. . .</td>\n",
       "      <td>0.733</td>\n",
       "    </tr>\n",
       "    <tr>\n",
       "      <th>Test set Prevalence</th>\n",
       "      <td>. . .</td>\n",
       "      <td>0.267</td>\n",
       "    </tr>\n",
       "    <tr>\n",
       "      <th>True positive rate (recall)</th>\n",
       "      <td>. . .</td>\n",
       "      <td>0.273</td>\n",
       "    </tr>\n",
       "    <tr>\n",
       "      <th>False positive rate</th>\n",
       "      <td>. . .</td>\n",
       "      <td>0.250</td>\n",
       "    </tr>\n",
       "    <tr>\n",
       "      <th>Positive predictive value (precision)</th>\n",
       "      <td>. . .</td>\n",
       "      <td>0.750</td>\n",
       "    </tr>\n",
       "    <tr>\n",
       "      <th>True negative rate (specificity)</th>\n",
       "      <td>. . .</td>\n",
       "      <td>0.750</td>\n",
       "    </tr>\n",
       "    <tr>\n",
       "      <th>False negative rate</th>\n",
       "      <td>. . .</td>\n",
       "      <td>0.727</td>\n",
       "    </tr>\n",
       "    <tr>\n",
       "      <th>Negative predictive value</th>\n",
       "      <td>. . .</td>\n",
       "      <td>0.273</td>\n",
       "    </tr>\n",
       "    <tr>\n",
       "      <th>Positive likelihood ratio (bigger is better)</th>\n",
       "      <td>. . .</td>\n",
       "      <td>1.091</td>\n",
       "    </tr>\n",
       "    <tr>\n",
       "      <th>Negative likelihood ratio (smaller is better)</th>\n",
       "      <td>. . .</td>\n",
       "      <td>0.970</td>\n",
       "    </tr>\n",
       "    <tr>\n",
       "      <th>Diagnostic odds ratio</th>\n",
       "      <td>. . .</td>\n",
       "      <td>1.125</td>\n",
       "    </tr>\n",
       "    <tr>\n",
       "      <th>Accuracy</th>\n",
       "      <td>. . .</td>\n",
       "      <td>0.400</td>\n",
       "    </tr>\n",
       "    <tr>\n",
       "      <th>F1 score</th>\n",
       "      <td>. . .</td>\n",
       "      <td>0.400</td>\n",
       "    </tr>\n",
       "    <tr>\n",
       "      <th>Accuracy</th>\n",
       "      <td>. . .</td>\n",
       "      <td>0.400</td>\n",
       "    </tr>\n",
       "    <tr>\n",
       "      <th>ROC AUC</th>\n",
       "      <td>. . .</td>\n",
       "      <td>0.489</td>\n",
       "    </tr>\n",
       "    <tr>\n",
       "      <th>ROC AUC (95% CI)</th>\n",
       "      <td>. . .</td>\n",
       "      <td>[0.16, 0.82]</td>\n",
       "    </tr>\n",
       "    <tr>\n",
       "      <th>Scaled Brier Score</th>\n",
       "      <td>. . .</td>\n",
       "      <td>-1.607</td>\n",
       "    </tr>\n",
       "    <tr>\n",
       "      <th>Hosmer_Lemeshow p-value</th>\n",
       "      <td>. . .</td>\n",
       "      <td>0.000</td>\n",
       "    </tr>\n",
       "    <tr>\n",
       "      <th>Spiegelhalter p-value</th>\n",
       "      <td>. . .</td>\n",
       "      <td>0.000</td>\n",
       "    </tr>\n",
       "  </tbody>\n",
       "</table>\n",
       "</div>"
      ],
      "text/plain": [
       "                                                                   \n",
       "                                                                   \n",
       "Ground Truth Prevalence                        . . .          0.733\n",
       "Test set Prevalence                            . . .          0.267\n",
       "True positive rate (recall)                    . . .          0.273\n",
       "False positive rate                            . . .          0.250\n",
       "Positive predictive value (precision)          . . .          0.750\n",
       "True negative rate (specificity)               . . .          0.750\n",
       "False negative rate                            . . .          0.727\n",
       "Negative predictive value                      . . .          0.273\n",
       "Positive likelihood ratio (bigger is better)   . . .          1.091\n",
       "Negative likelihood ratio (smaller is better)  . . .          0.970\n",
       "Diagnostic odds ratio                          . . .          1.125\n",
       "Accuracy                                       . . .          0.400\n",
       "F1 score                                       . . .          0.400\n",
       "Accuracy                                       . . .          0.400\n",
       "ROC AUC                                        . . .          0.489\n",
       "ROC AUC (95% CI)                               . . .   [0.16, 0.82]\n",
       "Scaled Brier Score                             . . .         -1.607\n",
       "Hosmer_Lemeshow p-value                        . . .          0.000\n",
       "Spiegelhalter p-value                          . . .          0.000"
      ]
     },
     "metadata": {},
     "output_type": "display_data"
    },
    {
     "data": {
      "image/png": "[encoded data removed]",
      "text/plain": [
       "<Figure size 1500x2000 with 5 Axes>"
      ]
     },
     "metadata": {},
     "output_type": "display_data"
    },
    {
     "data": {
      "image/png": "[encoded data removed]",
      "text/plain": [
       "<Figure size 640x480 with 1 Axes>"
      ]
     },
     "metadata": {},
     "output_type": "display_data"
    },
    {
     "data": {
      "text/html": [
       "<div>\n",
       "<style scoped>\n",
       "    .dataframe tbody tr th:only-of-type {\n",
       "        vertical-align: middle;\n",
       "    }\n",
       "\n",
       "    .dataframe tbody tr th {\n",
       "        vertical-align: top;\n",
       "    }\n",
       "\n",
       "    .dataframe thead th {\n",
       "        text-align: right;\n",
       "    }\n",
       "</style>\n",
       "<table border=\"1\" class=\"dataframe\">\n",
       "  <thead>\n",
       "    <tr style=\"text-align: right;\">\n",
       "      <th></th>\n",
       "      <th></th>\n",
       "      <th></th>\n",
       "    </tr>\n",
       "    <tr>\n",
       "      <th></th>\n",
       "      <th></th>\n",
       "      <th></th>\n",
       "    </tr>\n",
       "  </thead>\n",
       "  <tbody>\n",
       "    <tr>\n",
       "      <th>Ground Truth Prevalence</th>\n",
       "      <td>. . .</td>\n",
       "      <td>0.733</td>\n",
       "    </tr>\n",
       "    <tr>\n",
       "      <th>Test set Prevalence</th>\n",
       "      <td>. . .</td>\n",
       "      <td>0.267</td>\n",
       "    </tr>\n",
       "    <tr>\n",
       "      <th>True positive rate (recall)</th>\n",
       "      <td>. . .</td>\n",
       "      <td>0.273</td>\n",
       "    </tr>\n",
       "    <tr>\n",
       "      <th>False positive rate</th>\n",
       "      <td>. . .</td>\n",
       "      <td>0.250</td>\n",
       "    </tr>\n",
       "    <tr>\n",
       "      <th>Positive predictive value (precision)</th>\n",
       "      <td>. . .</td>\n",
       "      <td>0.750</td>\n",
       "    </tr>\n",
       "    <tr>\n",
       "      <th>True negative rate (specificity)</th>\n",
       "      <td>. . .</td>\n",
       "      <td>0.750</td>\n",
       "    </tr>\n",
       "    <tr>\n",
       "      <th>False negative rate</th>\n",
       "      <td>. . .</td>\n",
       "      <td>0.727</td>\n",
       "    </tr>\n",
       "    <tr>\n",
       "      <th>Negative predictive value</th>\n",
       "      <td>. . .</td>\n",
       "      <td>0.273</td>\n",
       "    </tr>\n",
       "    <tr>\n",
       "      <th>Positive likelihood ratio (bigger is better)</th>\n",
       "      <td>. . .</td>\n",
       "      <td>1.091</td>\n",
       "    </tr>\n",
       "    <tr>\n",
       "      <th>Negative likelihood ratio (smaller is better)</th>\n",
       "      <td>. . .</td>\n",
       "      <td>0.970</td>\n",
       "    </tr>\n",
       "    <tr>\n",
       "      <th>Diagnostic odds ratio</th>\n",
       "      <td>. . .</td>\n",
       "      <td>1.125</td>\n",
       "    </tr>\n",
       "    <tr>\n",
       "      <th>Accuracy</th>\n",
       "      <td>. . .</td>\n",
       "      <td>0.400</td>\n",
       "    </tr>\n",
       "    <tr>\n",
       "      <th>F1 score</th>\n",
       "      <td>. . .</td>\n",
       "      <td>0.400</td>\n",
       "    </tr>\n",
       "    <tr>\n",
       "      <th>Accuracy</th>\n",
       "      <td>. . .</td>\n",
       "      <td>0.400</td>\n",
       "    </tr>\n",
       "    <tr>\n",
       "      <th>ROC AUC</th>\n",
       "      <td>. . .</td>\n",
       "      <td>0.489</td>\n",
       "    </tr>\n",
       "    <tr>\n",
       "      <th>ROC AUC (95% CI)</th>\n",
       "      <td>. . .</td>\n",
       "      <td>[0.16, 0.82]</td>\n",
       "    </tr>\n",
       "    <tr>\n",
       "      <th>Scaled Brier Score</th>\n",
       "      <td>. . .</td>\n",
       "      <td>-1.607</td>\n",
       "    </tr>\n",
       "    <tr>\n",
       "      <th>Hosmer_Lemeshow p-value</th>\n",
       "      <td>. . .</td>\n",
       "      <td>0.000</td>\n",
       "    </tr>\n",
       "    <tr>\n",
       "      <th>Spiegelhalter p-value</th>\n",
       "      <td>. . .</td>\n",
       "      <td>0.000</td>\n",
       "    </tr>\n",
       "  </tbody>\n",
       "</table>\n",
       "</div>"
      ],
      "text/plain": [
       "                                                                   \n",
       "                                                                   \n",
       "Ground Truth Prevalence                        . . .          0.733\n",
       "Test set Prevalence                            . . .          0.267\n",
       "True positive rate (recall)                    . . .          0.273\n",
       "False positive rate                            . . .          0.250\n",
       "Positive predictive value (precision)          . . .          0.750\n",
       "True negative rate (specificity)               . . .          0.750\n",
       "False negative rate                            . . .          0.727\n",
       "Negative predictive value                      . . .          0.273\n",
       "Positive likelihood ratio (bigger is better)   . . .          1.091\n",
       "Negative likelihood ratio (smaller is better)  . . .          0.970\n",
       "Diagnostic odds ratio                          . . .          1.125\n",
       "Accuracy                                       . . .          0.400\n",
       "F1 score                                       . . .          0.400\n",
       "Accuracy                                       . . .          0.400\n",
       "ROC AUC                                        . . .          0.489\n",
       "ROC AUC (95% CI)                               . . .   [0.16, 0.82]\n",
       "Scaled Brier Score                             . . .         -1.607\n",
       "Hosmer_Lemeshow p-value                        . . .          0.000\n",
       "Spiegelhalter p-value                          . . .          0.000"
      ]
     },
     "execution_count": 1359,
     "metadata": {},
     "output_type": "execute_result"
    }
   ],
   "source": [
    "import MLFlow_Utils\n",
    "binary_classification_metrics(y_test_single, y_pred, pd.Series(y_pred_prob1))"
   ]
  },
  {
   "cell_type": "code",
   "execution_count": 1360,
   "metadata": {},
   "outputs": [
    {
     "data": {
      "text/plain": [
       "0.48863636363636365"
      ]
     },
     "execution_count": 1360,
     "metadata": {},
     "output_type": "execute_result"
    }
   ],
   "source": [
    "fprate, tprate, thresholds = roc_curve(y_test_single, y_pred_prob1, pos_label=1)\n",
    "auc(fprate, tprate)"
   ]
  },
  {
   "cell_type": "code",
   "execution_count": 1361,
   "metadata": {},
   "outputs": [
    {
     "data": {
      "text/plain": [
       "['0.16', '0.82']"
      ]
     },
     "execution_count": 1361,
     "metadata": {},
     "output_type": "execute_result"
    }
   ],
   "source": [
    "#ROC_AUC\n",
    "[\"{0:0.2f}\".format(i) for i in AUC_CI(y_test_single, y_pred_prob1)]"
   ]
  },
  {
   "cell_type": "code",
   "execution_count": 1362,
   "metadata": {},
   "outputs": [
    {
     "data": {
      "text/plain": [
       "0.2727272727272727"
      ]
     },
     "execution_count": 1362,
     "metadata": {},
     "output_type": "execute_result"
    }
   ],
   "source": [
    "#recall\n",
    "tpr(y_test_single, y_pred)"
   ]
  },
  {
   "cell_type": "code",
   "execution_count": 1363,
   "metadata": {},
   "outputs": [
    {
     "data": {
      "text/plain": [
       "0.75"
      ]
     },
     "execution_count": 1363,
     "metadata": {},
     "output_type": "execute_result"
    }
   ],
   "source": [
    "#specificity\n",
    "tnr(y_test_single, pd.Series(y_pred))"
   ]
  },
  {
   "cell_type": "code",
   "execution_count": 1364,
   "metadata": {},
   "outputs": [
    {
     "data": {
      "text/plain": [
       "0.4"
      ]
     },
     "execution_count": 1364,
     "metadata": {},
     "output_type": "execute_result"
    }
   ],
   "source": [
    "#accuracy\n",
    "accuracy(y_test_single, y_pred)"
   ]
  },
  {
   "cell_type": "code",
   "execution_count": 1365,
   "metadata": {},
   "outputs": [
    {
     "data": {
      "text/plain": [
       "0.75"
      ]
     },
     "execution_count": 1365,
     "metadata": {},
     "output_type": "execute_result"
    }
   ],
   "source": [
    "ppv(y_test_single, y_pred)"
   ]
  },
  {
   "cell_type": "code",
   "execution_count": 1366,
   "metadata": {},
   "outputs": [
    {
     "data": {
      "text/plain": [
       "0.2727272727272727"
      ]
     },
     "execution_count": 1366,
     "metadata": {},
     "output_type": "execute_result"
    }
   ],
   "source": [
    "npv(y_test_single, y_pred)"
   ]
  },
  {
   "cell_type": "markdown",
   "metadata": {},
   "source": [
    "# Ending Predicting part"
   ]
  },
  {
   "cell_type": "code",
   "execution_count": null,
   "metadata": {},
   "outputs": [],
   "source": []
  },
  {
   "cell_type": "code",
   "execution_count": null,
   "metadata": {},
   "outputs": [],
   "source": []
  },
  {
   "cell_type": "code",
   "execution_count": null,
   "metadata": {},
   "outputs": [],
   "source": []
  },
  {
   "cell_type": "code",
   "execution_count": null,
   "metadata": {},
   "outputs": [],
   "source": []
  },
  {
   "cell_type": "code",
   "execution_count": null,
   "metadata": {},
   "outputs": [],
   "source": []
  },
  {
   "cell_type": "code",
   "execution_count": null,
   "metadata": {},
   "outputs": [],
   "source": []
  },
  {
   "cell_type": "markdown",
   "metadata": {},
   "source": [
    "### Passo 1) Ordeno pelo score"
   ]
  },
  {
   "cell_type": "code",
   "execution_count": null,
   "metadata": {},
   "outputs": [],
   "source": [
    "X_Test_Rankeado_general = preds"
   ]
  },
  {
   "cell_type": "code",
   "execution_count": null,
   "metadata": {},
   "outputs": [],
   "source": [
    "X_Test_Rankeado_general[\"Score\"].head()"
   ]
  },
  {
   "cell_type": "code",
   "execution_count": null,
   "metadata": {},
   "outputs": [],
   "source": [
    "X_Test_Rankeado_general.sort_values(by=['Score'],inplace=True)\n",
    "X_Test_Rankeado_general[\"Score\"].head()"
   ]
  },
  {
   "cell_type": "code",
   "execution_count": null,
   "metadata": {},
   "outputs": [],
   "source": [
    "X_Test_Rankeado_general"
   ]
  },
  {
   "cell_type": "markdown",
   "metadata": {},
   "source": [
    "### Passo 2) Crio os decis (pelo n de observações)"
   ]
  },
  {
   "cell_type": "code",
   "execution_count": null,
   "metadata": {},
   "outputs": [],
   "source": [
    "X_Test_Rankeado_general.index"
   ]
  },
  {
   "cell_type": "code",
   "execution_count": null,
   "metadata": {},
   "outputs": [],
   "source": [
    "X_Test_Rankeado_general['decile'] = pd.qcut(x=X_Test_Rankeado_general.Score,q=10, labels=False)"
   ]
  },
  {
   "cell_type": "code",
   "execution_count": null,
   "metadata": {},
   "outputs": [],
   "source": [
    "X_Test_Rankeado_general.head()"
   ]
  },
  {
   "cell_type": "code",
   "execution_count": null,
   "metadata": {},
   "outputs": [],
   "source": [
    "# X_Test_Rankeado_general.to_csv('X_Test_Rankeado_general.csv', sep=';')"
   ]
  },
  {
   "cell_type": "code",
   "execution_count": null,
   "metadata": {},
   "outputs": [],
   "source": [
    "X_Test_Rankeado_general.decile.value_counts()"
   ]
  },
  {
   "cell_type": "code",
   "execution_count": null,
   "metadata": {},
   "outputs": [],
   "source": [
    "# labels_decile = ['1','2','3','4','5','6','7','8','9','10']\n",
    "# X_Test_Rankeado_general['Decile'] = pd.cut(X_Test_Rankeado_general[\"Score\"], \n",
    "#                                    bins=[0, 0.1, 0.2, 0.3, 0.4, 0.5, 0.6, 0.7, 0.8, 0.9, 1], \n",
    "#                                    include_lowest=True, labels=labels_decile)"
   ]
  },
  {
   "cell_type": "code",
   "execution_count": null,
   "metadata": {},
   "outputs": [],
   "source": [
    "# labels_decile = ['1','2','3','4','5','6','7','8','9','10']\n",
    "# X_Test_Rankeado_general['Decile'] = pd.cut(X_Test_Rankeado_general[\"Score\"], \n",
    "#                                    bins=[0, 0.1, 0.2, 0.3, 0.4, 0.5, 0.6, 0.7, 0.8, 0.9, 1], \n",
    "#                                    include_lowest=True, labels=labels_decile)"
   ]
  },
  {
   "cell_type": "code",
   "execution_count": null,
   "metadata": {},
   "outputs": [],
   "source": [
    "# X_Test_Rankeado_general[[\"class\",\"Label\",\"Score\",\"Decile\"]][X_Test_Rankeado_general[\"Score\"]>=0.5]"
   ]
  },
  {
   "cell_type": "code",
   "execution_count": null,
   "metadata": {},
   "outputs": [],
   "source": [
    "deciles = X_Test_Rankeado_general[['Label','decile']].groupby(['decile']).size()\n",
    "deciles"
   ]
  },
  {
   "cell_type": "code",
   "execution_count": null,
   "metadata": {},
   "outputs": [],
   "source": [
    "sum(deciles[0:6])"
   ]
  },
  {
   "cell_type": "code",
   "execution_count": null,
   "metadata": {},
   "outputs": [],
   "source": [
    "X_Test_Rankeado_general.shape"
   ]
  },
  {
   "cell_type": "code",
   "execution_count": null,
   "metadata": {},
   "outputs": [],
   "source": [
    "#Antes\n",
    "# low_risk_general = sum(deciles[0:6])\n",
    "# medium_risk_general = sum(deciles[6:9])\n",
    "# high_risk_general = sum(deciles[9:10])\n",
    "\n",
    "# print(\"low: \" + str(low_risk_general))\n",
    "# print(\"medium: \" + str(medium_risk_general))\n",
    "# print(\"high: \" + str(high_risk_general))"
   ]
  },
  {
   "cell_type": "code",
   "execution_count": null,
   "metadata": {},
   "outputs": [],
   "source": [
    "low_risk_general = sum(deciles[0:6])\n",
    "medium_risk_general = sum(deciles[6:8])\n",
    "high_risk_general = sum(deciles[8:10])\n",
    "\n",
    "print(\"low: \" + str(low_risk_general))\n",
    "print(\"medium: \" + str(medium_risk_general))\n",
    "print(\"high: \" + str(high_risk_general))"
   ]
  },
  {
   "cell_type": "code",
   "execution_count": null,
   "metadata": {},
   "outputs": [],
   "source": [
    "labels_groups = ['low','medium','high']\n",
    "X_Test_Rankeado_general['risk_group'] = pd.cut(X_Test_Rankeado_general[\"decile\"], \n",
    "                                   bins=[0, 5, 7, 10], \n",
    "                                   include_lowest=True, labels=labels_groups)"
   ]
  },
  {
   "cell_type": "code",
   "execution_count": null,
   "metadata": {},
   "outputs": [],
   "source": [
    "X_Test_Rankeado_general['class']"
   ]
  },
  {
   "cell_type": "code",
   "execution_count": null,
   "metadata": {},
   "outputs": [],
   "source": [
    "#Low risk - observed\n",
    "X_Test_Rankeado_general[ (X_Test_Rankeado_general['risk_group']=='low') & (X_Test_Rankeado_general['class']==1)].shape"
   ]
  },
  {
   "cell_type": "code",
   "execution_count": null,
   "metadata": {},
   "outputs": [],
   "source": [
    "low_risk_general = X_Test_Rankeado_general[ (X_Test_Rankeado_general['risk_group']=='low') & (X_Test_Rankeado_general['class']==1)].shape[0]\n",
    "low_risk_general"
   ]
  },
  {
   "cell_type": "code",
   "execution_count": null,
   "metadata": {},
   "outputs": [],
   "source": [
    "#Low risk - predicted\n",
    "X_Test_Rankeado_general[ (X_Test_Rankeado_general['risk_group']=='low') & (X_Test_Rankeado_general['Label']==1)].shape"
   ]
  },
  {
   "cell_type": "code",
   "execution_count": null,
   "metadata": {},
   "outputs": [],
   "source": [
    "#Low risk - predicted corrected\n",
    "X_Test_Rankeado_general[ (X_Test_Rankeado_general['risk_group']=='low') & (X_Test_Rankeado_general['Label']==1) & (X_Test_Rankeado_general['class']==1)].shape"
   ]
  },
  {
   "cell_type": "code",
   "execution_count": null,
   "metadata": {},
   "outputs": [],
   "source": [
    "#Medium risk - observed\n",
    "X_Test_Rankeado_general[ (X_Test_Rankeado_general['risk_group']=='medium') & (X_Test_Rankeado_general['class']==1)].shape"
   ]
  },
  {
   "cell_type": "code",
   "execution_count": null,
   "metadata": {},
   "outputs": [],
   "source": [
    "medium_risk_general = X_Test_Rankeado_general[ (X_Test_Rankeado_general['risk_group']=='medium') & (X_Test_Rankeado_general['class']==1)].shape[0]\n",
    "medium_risk_general"
   ]
  },
  {
   "cell_type": "code",
   "execution_count": null,
   "metadata": {},
   "outputs": [],
   "source": [
    "#Medium risk - predicted\n",
    "X_Test_Rankeado_general[ (X_Test_Rankeado_general['risk_group']=='medium') & (X_Test_Rankeado_general['Label']==1)].shape"
   ]
  },
  {
   "cell_type": "code",
   "execution_count": null,
   "metadata": {},
   "outputs": [],
   "source": [
    "#Medium risk - predicted corrected\n",
    "X_Test_Rankeado_general[ (X_Test_Rankeado_general['risk_group']=='medium') & (X_Test_Rankeado_general['Label']==1) & (X_Test_Rankeado_general['class']==1)].shape"
   ]
  },
  {
   "cell_type": "code",
   "execution_count": null,
   "metadata": {},
   "outputs": [],
   "source": [
    "#High risk - observed\n",
    "X_Test_Rankeado_general[ (X_Test_Rankeado_general['risk_group']=='high') & (X_Test_Rankeado_general['class']==1)].shape"
   ]
  },
  {
   "cell_type": "code",
   "execution_count": null,
   "metadata": {},
   "outputs": [],
   "source": [
    "high_risk_general = X_Test_Rankeado_general[ (X_Test_Rankeado_general['risk_group']=='high') & (X_Test_Rankeado_general['class']==1)].shape[0]\n",
    "high_risk_general"
   ]
  },
  {
   "cell_type": "code",
   "execution_count": null,
   "metadata": {},
   "outputs": [],
   "source": [
    "#High risk - predicted\n",
    "X_Test_Rankeado_general[ (X_Test_Rankeado_general['risk_group']=='high') & (X_Test_Rankeado_general['Label']==1)].shape"
   ]
  },
  {
   "cell_type": "code",
   "execution_count": null,
   "metadata": {},
   "outputs": [],
   "source": [
    "#High risk - predicted corrected\n",
    "X_Test_Rankeado_general[ (X_Test_Rankeado_general['risk_group']=='high') & (X_Test_Rankeado_general['Label']==1) & (X_Test_Rankeado_general['class']==1)].shape"
   ]
  },
  {
   "cell_type": "code",
   "execution_count": null,
   "metadata": {},
   "outputs": [],
   "source": [
    "X_Test_Rankeado_general['risk_group'].value_counts()"
   ]
  },
  {
   "cell_type": "code",
   "execution_count": null,
   "metadata": {},
   "outputs": [],
   "source": [
    "X_Test_Rankeado_specific = preds\n",
    "X_Test_Rankeado_specific[\"Score\"].head()"
   ]
  },
  {
   "cell_type": "code",
   "execution_count": null,
   "metadata": {},
   "outputs": [],
   "source": [
    "X_Test_Rankeado_specific.sort_values(by=['Score'],inplace=True)\n",
    "X_Test_Rankeado_specific[\"Score\"].head()"
   ]
  },
  {
   "cell_type": "markdown",
   "metadata": {},
   "source": [
    "### Passo 2) Crio os Decis"
   ]
  },
  {
   "cell_type": "code",
   "execution_count": null,
   "metadata": {},
   "outputs": [],
   "source": [
    "X_Test_Rankeado_specific.index"
   ]
  },
  {
   "cell_type": "code",
   "execution_count": null,
   "metadata": {},
   "outputs": [],
   "source": [
    "X_Test_Rankeado_specific['decile'] = pd.qcut(x=X_Test_Rankeado_specific.Score,q=10, labels=False)\n",
    "X_Test_Rankeado_specific.decile.value_counts()"
   ]
  },
  {
   "cell_type": "code",
   "execution_count": null,
   "metadata": {},
   "outputs": [],
   "source": [
    "deciles = X_Test_Rankeado_specific[['Label','decile']].groupby(['decile']).size()\n",
    "deciles"
   ]
  },
  {
   "cell_type": "code",
   "execution_count": null,
   "metadata": {},
   "outputs": [],
   "source": [
    "low_risk_specific = sum(deciles[0:6])\n",
    "medium_risk_specific = sum(deciles[6:8])\n",
    "high_risk_specific = sum(deciles[8:10])\n",
    "\n",
    "print(\"low: \" + str(low_risk_specific))\n",
    "print(\"medium: \" + str(medium_risk_specific))\n",
    "print(\"high: \" + str(high_risk_specific))"
   ]
  },
  {
   "cell_type": "code",
   "execution_count": null,
   "metadata": {},
   "outputs": [],
   "source": [
    "labels_groups = ['low','medium','high']\n",
    "X_Test_Rankeado_specific['risk_group'] = pd.cut(X_Test_Rankeado_specific[\"decile\"], \n",
    "                                   bins=[0, 5, 7, 10], \n",
    "                                   include_lowest=True, labels=labels_groups)"
   ]
  },
  {
   "cell_type": "code",
   "execution_count": null,
   "metadata": {},
   "outputs": [],
   "source": [
    "low_risk_specific = X_Test_Rankeado_specific[ (X_Test_Rankeado_specific['risk_group']=='low') & (X_Test_Rankeado_specific['class']==1)].shape[0]\n",
    "low_risk_specific"
   ]
  },
  {
   "cell_type": "code",
   "execution_count": null,
   "metadata": {},
   "outputs": [],
   "source": [
    "medium_risk_specific = X_Test_Rankeado_specific[ (X_Test_Rankeado_specific['risk_group']=='medium') & (X_Test_Rankeado_specific['class']==1)].shape[0]\n",
    "medium_risk_specific"
   ]
  },
  {
   "cell_type": "code",
   "execution_count": null,
   "metadata": {},
   "outputs": [],
   "source": [
    "high_risk_specific = X_Test_Rankeado_specific[ (X_Test_Rankeado_specific['risk_group']=='high') & (X_Test_Rankeado_specific['class']==1)].shape[0]\n",
    "high_risk_specific"
   ]
  },
  {
   "cell_type": "code",
   "execution_count": null,
   "metadata": {},
   "outputs": [],
   "source": [
    "total_risk_general = low_risk_general + medium_risk_general + high_risk_general\n",
    "total_risk_specific = low_risk_specific + medium_risk_specific + high_risk_specific\n",
    "\n",
    "data2 = {'model': ['general','specialist'],\n",
    "        'low': [low_risk_general/total_risk_general*100,low_risk_specific/total_risk_specific*100], \n",
    "        'medium': [medium_risk_general/total_risk_general*100,medium_risk_specific/total_risk_specific*100], \n",
    "        'high': [high_risk_general/total_risk_general*100,high_risk_specific/total_risk_specific*100]}\n",
    "df_risks2 = pd.DataFrame(data2)\n",
    "df_risks2"
   ]
  },
  {
   "cell_type": "code",
   "execution_count": null,
   "metadata": {},
   "outputs": [],
   "source": [
    "labels = ['general \\n(n=36089)','specialist\\n(n=2289)']\n",
    "\n",
    "pal = [\"silver\", \"lightsalmon\", \"lightcoral\"]\n",
    "\n",
    "ax_1=df_risks2.plot.bar(figsize=(8,6),stacked=True, rot=0, color=pal,label=labels)\n",
    "ax_1.set_xticklabels(labels)\n",
    "ax_1.legend(bbox_to_anchor=(1.1, 0.95), bbox_transform=ax_1.transAxes)\n",
    "\n",
    "ax_1.spines['top'].set_visible(False)\n",
    "ax_1.spines['right'].set_visible(False)\n",
    "ax_1.spines['left'].set_visible(False)\n",
    "ax_1.spines['left'].set_visible(False)\n",
    "ax_1.get_yaxis().set_visible(False)\n",
    "\n",
    "ax_1.set_title('Observed values by risk group')\n",
    "\n",
    "for rec in ax_1.patches:\n",
    "    height = rec.get_height()\n",
    "    ax_1.text(rec.get_x() + rec.get_width() / 2, \n",
    "              rec.get_y() + height / 2 +0.9,\n",
    "              \"{:.2f}%\".format(height),\n",
    "              ha='center', \n",
    "              va='bottom')"
   ]
  },
  {
   "cell_type": "code",
   "execution_count": null,
   "metadata": {},
   "outputs": [],
   "source": [
    "total_risk_general = low_risk_general + medium_risk_general + high_risk_general\n",
    "total_risk_specific = low_risk_specific + medium_risk_specific + high_risk_specific\n",
    "\n",
    "data_en = {'model': ['generalista','especialista'],\n",
    "        'low': [low_risk_general/total_risk_general*100,low_risk_specific/total_risk_specific*100], \n",
    "        'moderate': [medium_risk_general/total_risk_general*100,medium_risk_specific/total_risk_specific*100], \n",
    "        'high': [high_risk_general/total_risk_general*100,high_risk_specific/total_risk_specific*100]}\n",
    "df_risks_en = pd.DataFrame(data_en)\n",
    "df_risks_en"
   ]
  },
  {
   "cell_type": "code",
   "execution_count": null,
   "metadata": {
    "scrolled": true
   },
   "outputs": [],
   "source": [
    "total_risk_general"
   ]
  },
  {
   "cell_type": "code",
   "execution_count": null,
   "metadata": {},
   "outputs": [],
   "source": [
    "total_risk_specific"
   ]
  },
  {
   "cell_type": "code",
   "execution_count": null,
   "metadata": {},
   "outputs": [],
   "source": [
    "labels = ['model for general population \\n(n=36089)','model for exposed workers\\n(n=2289)']\n",
    "\n",
    "pal = [\"cornflowerblue\", \"lightsalmon\", \"lightcoral\"]\n",
    "\n",
    "ax_1=df_risks_en.plot.bar(figsize=(8,6),stacked=True, rot=0, color=pal,label=labels, width=0.5)\n",
    "ax_1.set_xticklabels(labels)\n",
    "ax_1.legend(bbox_to_anchor=(1.1, 0.95), bbox_transform=ax_1.transAxes)\n",
    "\n",
    "ax_1.spines['top'].set_visible(False)\n",
    "ax_1.spines['right'].set_visible(False)\n",
    "ax_1.spines['left'].set_visible(False)\n",
    "ax_1.spines['left'].set_visible(False)\n",
    "ax_1.get_yaxis().set_visible(False)\n",
    "\n",
    "ax_1.set_title('Distribution of risk categories predicted in the test set')\n",
    "\n",
    "for rec in ax_1.patches:\n",
    "    height = rec.get_height()\n",
    "    ax_1.text(rec.get_x() + rec.get_width() / 2, \n",
    "              rec.get_y() + height / 2 +0.9,\n",
    "              \"{:.2f}%\".format(height),\n",
    "              ha='center', \n",
    "              va='bottom')"
   ]
  },
  {
   "cell_type": "code",
   "execution_count": null,
   "metadata": {},
   "outputs": [],
   "source": [
    "final_model_specific = finalize_model(ettuned)\n",
    "\n",
    "preds_specific = predict_model(final_model_specific, data=df_uk_exposed)\n",
    "preds_specific"
   ]
  },
  {
   "cell_type": "code",
   "execution_count": null,
   "metadata": {},
   "outputs": [],
   "source": [
    "preds_specific[['Score','class', 'Label']][preds_specific['Score']>0.3]"
   ]
  },
  {
   "cell_type": "markdown",
   "metadata": {},
   "source": [
    "### Plot participants at risk using all data with final models for each "
   ]
  },
  {
   "cell_type": "code",
   "execution_count": null,
   "metadata": {},
   "outputs": [],
   "source": [
    "# preds_general = predict_model(final_model_general, data=df_uk_all_boruta)\n",
    "# preds_general"
   ]
  },
  {
   "cell_type": "code",
   "execution_count": null,
   "metadata": {},
   "outputs": [],
   "source": [
    "# preds_specific = predict_model(final_model_specific, data=df_uk_exposed)\n",
    "# preds_specific"
   ]
  },
  {
   "cell_type": "code",
   "execution_count": null,
   "metadata": {
    "scrolled": true
   },
   "outputs": [],
   "source": [
    "X_Test_Rankeado_general_final = preds_general\n",
    "labels_decile = ['1','2','3','4','5','6','7','8','9','10']\n",
    "X_Test_Rankeado_general_final['Decile'] = pd.cut(X_Test_Rankeado_general_final[\"Score\"], \n",
    "                                   bins=[0, 0.1, 0.2, 0.3, 0.4, 0.5, 0.6, 0.7, 0.8, 0.9, 1], \n",
    "                                   include_lowest=True, labels=labels_decile)\n",
    "\n",
    "# X_Test_Rankeado_general_final[['Label','Decile']].groupby(['Decile']).size()\n",
    "\n",
    "deciles_general_final = X_Test_Rankeado_general_final[['Label','Decile']].groupby(['Decile']).size()\n",
    "deciles_general_final\n",
    "\n",
    "low_risk_general_final = sum(deciles_general_final[0:6])\n",
    "medium_risk_general_final = sum(deciles_general_final[6:9])\n",
    "high_risk_general_final = sum(deciles_general_final[9:10])\n",
    "\n",
    "print(\"low (general): \" + str(low_risk_general_final))\n",
    "print(\"medium (general): \" + str(medium_risk_general_final))\n",
    "print(\"high (general): \" + str(high_risk_general_final))"
   ]
  },
  {
   "cell_type": "code",
   "execution_count": null,
   "metadata": {},
   "outputs": [],
   "source": [
    "X_Test_Rankeado_specific_final = preds_specific\n",
    "X_Test_Rankeado_specific_final['Decile'] = pd.cut(X_Test_Rankeado_specific_final[\"Score\"], \n",
    "                                   bins=[0, 0.1, 0.2, 0.3, 0.4, 0.5, 0.6, 0.7, 0.8, 0.9, 1], \n",
    "                                   include_lowest=True, labels=labels_decile)\n",
    "\n",
    "X_Test_Rankeado_specific_final[['Label','Decile']].groupby(['Decile']).size()\n",
    "\n",
    "deciles_specific_final = X_Test_Rankeado_specific_final[['Label','Decile']].groupby(['Decile']).size()\n",
    "deciles_specific_final\n",
    "\n",
    "low_risk_specific_final = sum(deciles_specific_final[0:6])\n",
    "medium_risk_specific_final = sum(deciles_specific_final[6:9])\n",
    "high_risk_specific_final = sum(deciles_specific_final[9:10])\n",
    "\n",
    "print(\"low (specific): \" + str(low_risk_specific_final))\n",
    "print(\"medium (specific): \" + str(medium_risk_specific_final))\n",
    "print(\"high (specific): \" + str(high_risk_specific_final))"
   ]
  },
  {
   "cell_type": "code",
   "execution_count": null,
   "metadata": {},
   "outputs": [],
   "source": [
    "total_risk_general_final = low_risk_general_final + medium_risk_general_final + high_risk_general_final\n",
    "total_risk_specific_final = low_risk_specific_final + medium_risk_specific_final + high_risk_specific_final\n",
    "\n",
    "data_risk_groups = {'modelo': ['generalista','especialista'],\n",
    "        'baixo': [low_risk_general_final/total_risk_general_final*100,low_risk_specific_final/total_risk_specific_final*100], \n",
    "        'médio': [medium_risk_general_final/total_risk_general_final*100,medium_risk_specific_final/total_risk_specific_final*100], \n",
    "        'alto': [high_risk_general_final/total_risk_general_final*100,high_risk_specific_final/total_risk_specific_final*100]}\n",
    "df_risks_groups = pd.DataFrame(data_risk_groups)\n",
    "df_risks_groups"
   ]
  },
  {
   "cell_type": "code",
   "execution_count": null,
   "metadata": {},
   "outputs": [],
   "source": [
    "labels = ['generalista','especialista']\n",
    "\n",
    "pal = [\"silver\", \"lightsalmon\", \"lightcoral\"]\n",
    "\n",
    "ax_1=df_risks_groups.plot.bar(figsize=(8,6),stacked=True, rot=0, color=pal,label=labels)\n",
    "ax_1.set_xticklabels(labels)\n",
    "ax_1.legend(bbox_to_anchor=(1.1, 0.95), bbox_transform=ax_1.transAxes)\n",
    "\n",
    "ax_1.spines['top'].set_visible(False)\n",
    "ax_1.spines['right'].set_visible(False)\n",
    "ax_1.spines['left'].set_visible(False)\n",
    "ax_1.spines['left'].set_visible(False)\n",
    "ax_1.get_yaxis().set_visible(False)\n",
    "\n",
    "ax_1.set_title('')\n",
    "\n",
    "for rec in ax_1.patches:\n",
    "    height = rec.get_height()\n",
    "    ax_1.text(rec.get_x() + rec.get_width() / 2, \n",
    "              rec.get_y() + height / 2 +0.9,\n",
    "              \"{:.2f}%\".format(height),\n",
    "              ha='center', \n",
    "              va='bottom')"
   ]
  },
  {
   "cell_type": "markdown",
   "metadata": {},
   "source": [
    "## 6) Plots and other tests"
   ]
  },
  {
   "cell_type": "code",
   "execution_count": null,
   "metadata": {},
   "outputs": [],
   "source": [
    "#Best parameters according to simple boruta - 'bmi', 'CRP', 'Creatinine'\n",
    "#Best parameters according to simple boruta - 'bmi'\n",
    "#age_at_recruitment', 'bmi', 'asthma_history', 'cough_most_days_1.0', 'phlegms_most_days_1.0\n",
    "##### X\n",
    "#features in the green area (manter): ['age_at_recruitment', 'bmi', 'haematocrit_percentage', 'leukocyte_count', 'neutrophill_count', 'albumin', 'shortness_of_breath', 'asthma_history', 'CRP', 'Urea', 'cough_most_days_1.0', 'phlegms_most_days_1.0']\n",
    "#features in the blue area (a critério do pesquisador): ['platelet_count'] \n",
    "# Shap values in barplot style\n",
    "\n",
    "\n",
    "import matplotlib.pyplot as pl\n",
    "import shap\n",
    "\n",
    "e1 = shap.TreeExplainer(forest)\n",
    "shap_values = e1.shap_values(X)\n",
    "shap.summary_plot(shap_values, X, plot_type=\"bar\",max_display=15)"
   ]
  },
  {
   "cell_type": "code",
   "execution_count": null,
   "metadata": {},
   "outputs": [],
   "source": [
    "plot_model(rftuned, plot='ktops')"
   ]
  },
  {
   "cell_type": "code",
   "execution_count": null,
   "metadata": {},
   "outputs": [],
   "source": [
    "evaluate_model(ettuned)"
   ]
  },
  {
   "cell_type": "code",
   "execution_count": null,
   "metadata": {},
   "outputs": [],
   "source": [
    "# Shap values in barplot style\n",
    "import matplotlib.pyplot as pl\n",
    "import shap\n",
    "\n",
    "e1 = shap.TreeExplainer(ettuned)\n",
    "shap_values = e1.shap_values(X_test)\n",
    "shap.summary_plot(shap_values, X_test, plot_type=\"bar\",max_display=15)"
   ]
  },
  {
   "cell_type": "code",
   "execution_count": null,
   "metadata": {},
   "outputs": [],
   "source": [
    "evaluate_model(rftuned)"
   ]
  },
  {
   "cell_type": "markdown",
   "metadata": {},
   "source": [
    "### Build a model with all data"
   ]
  },
  {
   "cell_type": "code",
   "execution_count": null,
   "metadata": {},
   "outputs": [],
   "source": [
    "ettuned"
   ]
  },
  {
   "cell_type": "code",
   "execution_count": null,
   "metadata": {},
   "outputs": [],
   "source": [
    "final_model = finalize_model(rftuned)"
   ]
  },
  {
   "cell_type": "markdown",
   "metadata": {},
   "source": [
    "### Using model to predict unseen outcome"
   ]
  },
  {
   "cell_type": "code",
   "execution_count": null,
   "metadata": {},
   "outputs": [],
   "source": [
    "preds = predict_model(ettuned)\n",
    "preds"
   ]
  },
  {
   "cell_type": "code",
   "execution_count": null,
   "metadata": {},
   "outputs": [],
   "source": [
    "preds[\"Score\"].to_csv('y_hat_score_death.csv', sep=';')"
   ]
  },
  {
   "cell_type": "code",
   "execution_count": null,
   "metadata": {},
   "outputs": [],
   "source": [
    "import MLFlow_Utils\n",
    "binary_classification_metrics(y_test, preds['Label'], preds['Score'])"
   ]
  },
  {
   "cell_type": "markdown",
   "metadata": {},
   "source": [
    "### Check confusion matrix to see if there is any zero values"
   ]
  },
  {
   "cell_type": "code",
   "execution_count": null,
   "metadata": {},
   "outputs": [],
   "source": [
    "model = xgbtuned\n",
    "y_outcome_test = y_obito\n",
    "\n",
    "from sklearn.metrics import confusion_matrix\n",
    "from sklearn.metrics import plot_confusion_matrix\n",
    "\n",
    "confusion_matrix(y_true = y_outcome_test, y_pred = model.predict(X_test), labels=(0,1))\n",
    "\n",
    "plot_confusion_matrix(model, X_test, y_outcome_test, \n",
    "                                 cmap=plt.cm.Blues)  # doctest: +SKIP\n",
    "plt.show()"
   ]
  },
  {
   "cell_type": "code",
   "execution_count": null,
   "metadata": {},
   "outputs": [],
   "source": [
    "#ROC AUC\n",
    "from sklearn.metrics import roc_curve,auc\n",
    "fprate, tprate, thresholds = roc_curve(y_obito, preds['Score'], pos_label=1)\n",
    "auc(fprate, tprate)"
   ]
  },
  {
   "cell_type": "code",
   "execution_count": null,
   "metadata": {},
   "outputs": [],
   "source": [
    "AUC_CI(y_obito, preds['Score'])"
   ]
  },
  {
   "cell_type": "code",
   "execution_count": null,
   "metadata": {},
   "outputs": [],
   "source": [
    "accuracy(y_obito, preds['Label'])"
   ]
  },
  {
   "cell_type": "code",
   "execution_count": null,
   "metadata": {},
   "outputs": [],
   "source": [
    "#Recall\n",
    "tpr(y_obito, preds['Label'])"
   ]
  },
  {
   "cell_type": "code",
   "execution_count": null,
   "metadata": {},
   "outputs": [],
   "source": [
    "#Specificity\n",
    "tnr(y_obito, preds['Label'])\n",
    "#tpr(y_obito, preds['Label'])"
   ]
  },
  {
   "cell_type": "code",
   "execution_count": null,
   "metadata": {},
   "outputs": [],
   "source": [
    "#Precision\n",
    "ppv(y_obito, preds['Label'])"
   ]
  },
  {
   "cell_type": "code",
   "execution_count": null,
   "metadata": {},
   "outputs": [],
   "source": [
    "f1_score(y_obito, preds['Label'])"
   ]
  },
  {
   "cell_type": "markdown",
   "metadata": {},
   "source": [
    "# 6) Generate ROC curves"
   ]
  },
  {
   "cell_type": "markdown",
   "metadata": {},
   "source": [
    "### CARREGO O MODELO UNICO SEPARADAMENTE PARA PLOTAR A AUC JUNTO COM O AGREGADO"
   ]
  },
  {
   "cell_type": "code",
   "execution_count": null,
   "metadata": {},
   "outputs": [],
   "source": [
    "import pickle\n",
    "import joblib\n",
    "\n",
    "#Carrego o modelo unico\n",
    "single_model_pkl = \"rftuned_death_58_var.pkl\"\n",
    "prep_pipe_single, single_model = joblib.load(single_model_pkl)"
   ]
  },
  {
   "cell_type": "code",
   "execution_count": null,
   "metadata": {},
   "outputs": [],
   "source": [
    "#Carrego o X_test do modelo único\n",
    "X_test_single = pd.read_csv(\"X_test_obito_above_10_miss.csv\", delimiter=\";\",index_col=0)"
   ]
  },
  {
   "cell_type": "code",
   "execution_count": null,
   "metadata": {},
   "outputs": [],
   "source": [
    "#Carrego o Y_test do modelo único\n",
    "y_test_single = pd.read_csv(\"y_test_obito_above_10_miss.csv\", delimiter=\";\",index_col=0)\n",
    "y_test_single = y_test_single[\"class\"]\n",
    "y_test_single.shape"
   ]
  },
  {
   "cell_type": "code",
   "execution_count": null,
   "metadata": {},
   "outputs": [],
   "source": [
    "#Vejo a curva ROC do modelo INDIVIDUAL e confirmo o valor da AUC\n",
    "from sklearn.metrics import (roc_curve,auc)\n",
    "# from sklearn.metrics import roc_curve\n",
    "\n",
    "y_pred_prob1 = single_model.predict_proba(X_test_single)[:,1]\n",
    "fpr1 , tpr1, thresholds1 = roc_curve(y_test_single, y_pred_prob1)\n",
    "\n",
    "auc_ind = auc(fpr1, tpr1)\n",
    "print(auc_ind)\n",
    "plt.plot(fpr1, tpr1, label= \"Single Model - Extra Trees - AUC \" +  str(auc_ind), color=\"yellow\")"
   ]
  },
  {
   "cell_type": "code",
   "execution_count": null,
   "metadata": {},
   "outputs": [],
   "source": [
    "#Vejo a curva ROC do modelo AGREGADO e confirmo o valor da AUC\n",
    "from sklearn.metrics import roc_curve\n",
    "\n",
    "y_pred_prob2 = rftuned.predict_proba(X_test)[:,1]\n",
    "fpr2 , tpr2, thresholds2 = roc_curve(y_obito, y_pred_prob2)\n",
    "auc_aggreg = auc(fpr2, tpr2)\n",
    "print(auc_aggreg)\n",
    "plt.plot(fpr2, tpr2, label= \"Aggregated Model - Extra Trees - AUC \" + str(auc_aggreg)  , color=\"orange\")"
   ]
  },
  {
   "cell_type": "code",
   "execution_count": null,
   "metadata": {},
   "outputs": [],
   "source": [
    "from catboost import CatBoostClassifier, Pool\n",
    "from catboost.utils import get_roc_curve\n",
    "from sklearn.metrics import roc_curve\n",
    "\n",
    "classifier1=rftuned\n",
    "classifier2=single_model\n",
    "# classifier3=ettunedind\n",
    "#model=cattuned\n",
    "\n",
    "#ROC Curve - Modelo Agregado\n",
    "y_pred_prob1 = classifier1.predict_proba(X_test)[:,1]\n",
    "fpr1 , tpr1, thresholds1 = roc_curve(y_obito, y_pred_prob1)\n",
    "ci_agreggated = AUC_CI(y_obito, y_pred_prob1)\n",
    "\n",
    "\n",
    "#ROC Curve - Modelo Single\n",
    "y_pred_prob2 = single_model.predict_proba(X_test_single)[:,1]\n",
    "fpr2 , tpr2, thresholds2 = roc_curve(y_test_single, y_pred_prob2)\n",
    "ci_single = AUC_CI(y_test_single, y_pred_prob2)\n",
    "\n",
    "fig = plt.figure(figsize=(8,6))\n",
    "ax = fig.add_subplot(1, 1, 1) # nrows, ncols, index\n",
    "ax.set_facecolor('xkcd:white')\n",
    "\n",
    "ax.spines['left'].set_color('#dddddd')\n",
    "ax.spines['bottom'].set_color('#dddddd')\n",
    "ax.spines['top'].set_color('#dddddd')\n",
    "ax.spines['right'].set_color('#dddddd')\n",
    "\n",
    "plt.grid(color='grey', linestyle='solid',alpha=0.3)\n",
    "\n",
    "plt.plot([0,1],[0,1], 'k--')\n",
    "plt.plot(fpr1, tpr1, label= \"All except death - Random Forest - AUC \" + str(np.around(ci_agreggated,2)), color=\"slateblue\")\n",
    "plt.plot(fpr2, tpr2, label= \"Single Model - Extra Trees - AUC \"  + str(np.around(ci_single,2)), color=\"tomato\")\n",
    "\n",
    "plt.legend(frameon=True, shadow=True, borderpad=1, facecolor=\"white\")\n",
    "plt.xlabel(\"FPR\")\n",
    "plt.ylabel(\"TPR\")\n",
    "plt.title('Receiver Operating Characteristic')\n",
    "plt.show()"
   ]
  },
  {
   "cell_type": "markdown",
   "metadata": {},
   "source": [
    "### Save experiment for reproducibility purposes"
   ]
  },
  {
   "cell_type": "code",
   "execution_count": null,
   "metadata": {},
   "outputs": [],
   "source": [
    "save_model(ettuned,\"ettuned_death\",verbose=True)"
   ]
  },
  {
   "cell_type": "code",
   "execution_count": null,
   "metadata": {},
   "outputs": [],
   "source": [
    "save_model(final_model,\"final_rf_5_except_death\",verbose=True)"
   ]
  },
  {
   "cell_type": "code",
   "execution_count": null,
   "metadata": {},
   "outputs": [],
   "source": [
    "save_experiment('bp6_covid_5_except_death')"
   ]
  },
  {
   "cell_type": "markdown",
   "metadata": {},
   "source": [
    "# 7) END -  Codes for generating graphs for MLP or catboost"
   ]
  },
  {
   "cell_type": "code",
   "execution_count": null,
   "metadata": {},
   "outputs": [],
   "source": [
    "#Ref: https://towardsdatascience.com/explain-any-models-with-the-shap-values-use-the-kernelexplainer-79de9464897a\n",
    "# RUN FOR MLP ONLY OR OTHERS WITHOUT INTERPRET_MODEL\n",
    "import shap\n",
    "import time\n",
    "\n",
    "mlp_explainer = shap.KernelExplainer(mlptuned.predict,X_test)\n",
    "\n",
    "start_time = time.time()\n",
    "mlp_shap_values = mlp_explainer.shap_values(X_test)\n",
    "elapsed_time = time.time() - start_time\n",
    "\n",
    "shap.summary_plot(mlp_shap_values, X_test)\n",
    "\n",
    "elapsed_time_min = elapsed_time/60\n",
    "print(\"Tempo decorrido: \", elapsed_time_min, \" minutes\")"
   ]
  },
  {
   "cell_type": "code",
   "execution_count": null,
   "metadata": {},
   "outputs": [],
   "source": [
    "#Ref: https://towardsdatascience.com/explain-any-models-with-the-shap-values-use-the-kernelexplainer-79de9464897a\n",
    "# RUN FOR MLP ONLY OR OTHERS WITHOUT INTERPRET_MODEL\n",
    "import shap\n",
    "import time\n",
    "\n",
    "mlp_explainer = shap.KernelExplainer(mlptuned.predict,X_test)\n",
    "\n",
    "start_time = time.time()\n",
    "mlp_shap_values = mlp_explainer.shap_values(X_test)\n",
    "elapsed_time = time.time() - start_time\n",
    "\n",
    "shap.summary_plot(mlp_shap_values, X_test)\n",
    "\n",
    "elapsed_time_min = elapsed_time/60\n",
    "print(\"Tempo decorrido: \", elapsed_time_min, \" minutes\")"
   ]
  },
  {
   "cell_type": "code",
   "execution_count": null,
   "metadata": {},
   "outputs": [],
   "source": [
    "#Ref: https://towardsdatascience.com/explain-any-models-with-the-shap-values-use-the-kernelexplainer-79de9464897a\n",
    "\n",
    "# MESMA COISA QUE ANTERIOR SÓ QUE COM K-MEANS\n",
    "# https://www.jishuwen.com/d/2HSF\n",
    "    \n",
    "import shap\n",
    "import time\n",
    "\n",
    "X_test_summary = shap.kmeans(X_test, 10)\n",
    "start_time = time.time()\n",
    "\n",
    "explainer = shap.KernelExplainer(mlptuned.predict, X_test_summary)\n",
    "\n",
    "shap_values_mlp_test = explainer.shap_values(X_test)\n",
    "\n",
    "elapsed_time = time.time() - start_time\n",
    "elapsed_time_min = elapsed_time/60\n",
    "\n",
    "print(\"Elapsed time: \", elapsed_time_min, \" minutes\")\n",
    "\n",
    "shap.summary_plot(shap_values_mlp_test, X_test)"
   ]
  },
  {
   "cell_type": "code",
   "execution_count": null,
   "metadata": {},
   "outputs": [],
   "source": [
    "#Plotar gráfico de densidade (Catboost)\n",
    "import seaborn as sns\n",
    "model = cattuned\n",
    "\n",
    "y_pred_pos = model.predict_proba(X_test)[:, 1]\n",
    "y_pred = model.predict(X_test)\n",
    "res_0 = []\n",
    "res_1 = []\n",
    "\n",
    "for i, p in enumerate(y_pred_pos):\n",
    "    if y_test.iloc[i] > 0:\n",
    "        res_1.append(p)\n",
    "    else:\n",
    "        res_0.append(p)\n",
    "\n",
    "normalized_res_0 = []\n",
    "for i in res_0:\n",
    "    normalized_res_0.append(remap(i, 0, 1, -2, 2))\n",
    "normalized_res_1 = []\n",
    "\n",
    "for i in res_1:\n",
    "    normalized_res_1.append(remap(i, 0, 1, -2, 2))\n",
    "sns.distplot(normalized_res_0, hist=False, kde_kws={\"shade\": True}, color='b', label='Class 0')\n",
    "sns.distplot(normalized_res_1, hist=False, kde_kws={\"shade\": True}, color='r', label='Class 1')\n",
    "plt.xlabel('risk scores')\n",
    "plt.ylabel('Density')\n",
    "plt.legend()\n",
    "plt.show()"
   ]
  },
  {
   "cell_type": "code",
   "execution_count": null,
   "metadata": {},
   "outputs": [],
   "source": [
    "binary_classification_metrics(y_test,preds['Label'], preds['Score'])"
   ]
  },
  {
   "cell_type": "code",
   "execution_count": null,
   "metadata": {},
   "outputs": [],
   "source": [
    "from sklearn.calibration import calibration_curve\n",
    "#Defina o nome do modelo na linha abaixo\n",
    "model_name = \"catboost\"\n",
    "\n",
    "#Defina o modelo a ser plotado\n",
    "model = cattuned\n",
    "\n",
    "fig = plt.figure(figsize=(7, 6))\n",
    "ax1 = plt.subplot2grid((3, 3), (1, 0), rowspan=2, colspan=2)\n",
    "x_hist_axes = plt.subplot2grid((3, 3), (0, 0), colspan=2,\n",
    "                               sharex=ax1)\n",
    "\n",
    "ax1.plot([0, 1], [0, 1], \"k:\", label=\"Perfectly calibrated\")\n",
    "\n",
    "prob_pos = model.predict_proba(X_test)[:, 1]\n",
    "\n",
    "fraction_of_positives, mean_predicted_value = calibration_curve(\n",
    "    y_test, prob_pos, n_bins=10\n",
    ")\n",
    "\n",
    "ax1.plot(\n",
    "    mean_predicted_value,\n",
    "    fraction_of_positives,\n",
    "    \"s-\",\n",
    "    label=\"%s\" % (\"catboost\",),\n",
    ")\n",
    "\n",
    "ax1.set_ylabel(\"Fraction of positives\")\n",
    "ax1.set_ylim([0, 1])\n",
    "ax1.set_xlim([0, 1])\n",
    "ax1.legend(loc=\"lower right\")\n",
    "ax1.set_title(\"Calibration plots  (reliability curve)\")\n",
    "x_hist_axes.hist(prob_pos, range=(0, 1), bins=1000,  color='darkgray')\n",
    "plt.setp(x_hist_axes.get_xticklabels(), visible=False)\n",
    "x_hist_axes.axis('off')\n",
    "\n",
    "ax1.grid(b=True, color=\"grey\", linewidth=0.5, linestyle=\"-\")\n",
    "plt.tight_layout()\n",
    "\n",
    "plt.show()"
   ]
  },
  {
   "cell_type": "code",
   "execution_count": null,
   "metadata": {},
   "outputs": [],
   "source": [
    "#Ref: https://github.com/catboost/tutorials/blob/master/model_analysis/shap_values_tutorial.ipynb\n",
    "import shap\n",
    "from catboost import CatBoostClassifier, Pool\n",
    "shap_values = cattuned.get_feature_importance(Pool(X_test, y_test), type='ShapValues')\n",
    "\n",
    "expected_value = shap_values[0,-1]\n",
    "shap_values = shap_values[:,:-1]\n",
    "\n",
    "# visualize the first prediction's explanation\n",
    "shap.force_plot(expected_value, shap_values[0,:], X.iloc[0,:])\n",
    "\n",
    "shap.summary_plot(shap_values, X_test, max_display=5)"
   ]
  },
  {
   "cell_type": "markdown",
   "metadata": {},
   "source": [
    "### Make prediction (on test data [default] or new data)"
   ]
  },
  {
   "cell_type": "markdown",
   "metadata": {},
   "source": [
    "If new data it will automatically be preprocessed "
   ]
  },
  {
   "cell_type": "code",
   "execution_count": null,
   "metadata": {},
   "outputs": [],
   "source": [
    "from catboost import CatBoostClassifier, Pool\n",
    "from catboost.utils import get_roc_curve\n",
    "\n",
    "catboost_pool = Pool(X_test, y_test)\n",
    "(fpr, tpr, thresholds) = get_roc_curve(cattuned, catboost_pool, plot=True)\n",
    "#print(fpr)\n",
    "#print(tpr)\n",
    "#print(thresholds)"
   ]
  },
  {
   "cell_type": "code",
   "execution_count": null,
   "metadata": {},
   "outputs": [],
   "source": [
    "from catboost import CatBoostClassifier, Pool\n",
    "from catboost.utils import get_fpr_curve\n",
    "\n",
    "catboost_pool = Pool(X_test, y_test)\n",
    "(fpr, tpr, thresholds) = get_fpr_curve(cattuned, catboost_pool, plot=True)"
   ]
  },
  {
   "cell_type": "code",
   "execution_count": null,
   "metadata": {},
   "outputs": [],
   "source": [
    "#https://catboost.ai/docs/concepts/python-reference_utils_get_confusion_matrix.html\n",
    "import matplotlib.pyplot as plt\n",
    "from catboost.utils import get_confusion_matrix\n",
    "cm = get_confusion_matrix(cattuned, Pool(X_test, y_test) )\n",
    "print(cm)\n",
    "#plt.plot(cm)"
   ]
  },
  {
   "cell_type": "code",
   "execution_count": null,
   "metadata": {},
   "outputs": [],
   "source": [
    "#https://catboost.ai/docs/concepts/python-reference_utils_eval_metric.html\n",
    "# from catboost.utils import eval_metric\n",
    "\n",
    "# labels = y_test\n",
    "# probabilities = [0.4, 0.1, 0.9]\n",
    "# accuracy = eval_metric(labels, approxes, 'Accuracy')"
   ]
  },
  {
   "cell_type": "code",
   "execution_count": null,
   "metadata": {},
   "outputs": [],
   "source": [
    "#from catboost import CatBoostClassifier # Or CatBoostRegressor\n",
    "metrics = cattuned.eval_metrics(\n",
    "            data=Pool(X_test, y_test),\n",
    "            metrics=['Logloss','AUC','F1','Precision','Recall','Accuracy'],\n",
    "            ntree_start=0,\n",
    "            ntree_end=0,\n",
    "            eval_period=1,\n",
    "            plot=True\n",
    ")"
   ]
  },
  {
   "cell_type": "markdown",
   "metadata": {},
   "source": [
    "### Plot standalone charts (on test data)"
   ]
  },
  {
   "cell_type": "code",
   "execution_count": null,
   "metadata": {},
   "outputs": [],
   "source": [
    "column_summaries(X_obito)"
   ]
  },
  {
   "cell_type": "code",
   "execution_count": null,
   "metadata": {},
   "outputs": [],
   "source": [
    "X_obito.shape"
   ]
  },
  {
   "cell_type": "code",
   "execution_count": null,
   "metadata": {},
   "outputs": [],
   "source": [
    "y_obito.shape"
   ]
  },
  {
   "cell_type": "code",
   "execution_count": null,
   "metadata": {},
   "outputs": [],
   "source": [
    "#df_bp['uti'] = df_bp['uti'].fillna(0)\n",
    "y_obito"
   ]
  },
  {
   "cell_type": "code",
   "execution_count": null,
   "metadata": {},
   "outputs": [],
   "source": [
    "y_vm = y_vm.fillna(0)"
   ]
  },
  {
   "cell_type": "code",
   "execution_count": null,
   "metadata": {},
   "outputs": [],
   "source": [
    "y_vm"
   ]
  },
  {
   "cell_type": "code",
   "execution_count": null,
   "metadata": {},
   "outputs": [],
   "source": [
    "preds = predict_model(final_model, data= X_obito)\n",
    "preds"
   ]
  },
  {
   "cell_type": "code",
   "execution_count": null,
   "metadata": {},
   "outputs": [],
   "source": [
    "idx_columns_missing"
   ]
  },
  {
   "cell_type": "markdown",
   "metadata": {},
   "source": [
    "###### binary_classification_metrics(y_obito, preds['Label'], preds['Score'])"
   ]
  },
  {
   "cell_type": "code",
   "execution_count": null,
   "metadata": {},
   "outputs": [],
   "source": [
    "binary_classification_metrics(y_obito, preds['Label'], preds['Score'])"
   ]
  },
  {
   "cell_type": "code",
   "execution_count": null,
   "metadata": {},
   "outputs": [],
   "source": [
    "sum(y_obito)"
   ]
  },
  {
   "cell_type": "code",
   "execution_count": null,
   "metadata": {},
   "outputs": [],
   "source": [
    "sum(y_vm)"
   ]
  }
 ],
 "metadata": {
  "kernelspec": {
   "display_name": "Python 3 (ipykernel)",
   "language": "python",
   "name": "python3"
  },
  "language_info": {
   "codemirror_mode": {
    "name": "ipython",
    "version": 3
   },
   "file_extension": ".py",
   "mimetype": "text/x-python",
   "name": "python",
   "nbconvert_exporter": "python",
   "pygments_lexer": "ipython3",
   "version": "3.10.0"
  }
 },
 "nbformat": 4,
 "nbformat_minor": 4
}
