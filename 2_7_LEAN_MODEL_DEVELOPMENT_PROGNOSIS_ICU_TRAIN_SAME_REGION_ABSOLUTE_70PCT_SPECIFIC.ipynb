{
 "cells": [
  {
   "cell_type": "markdown",
   "metadata": {},
   "source": [
    "# 2) IACOV - Model Development for Prognosis - ICU\n",
    "## Strategy 7) Training on 70% of a specific hospital plus same absolute number of same region hospitals"
   ]
  },
  {
   "cell_type": "code",
   "execution_count": null,
   "metadata": {},
   "outputs": [],
   "source": [
    "# !pip install npm nodejs"
   ]
  },
  {
   "cell_type": "code",
   "execution_count": null,
   "metadata": {},
   "outputs": [],
   "source": [
    "# !jupyter lab clean\n",
    "# !jupyter lab build"
   ]
  },
  {
   "cell_type": "code",
   "execution_count": 1,
   "metadata": {},
   "outputs": [
    {
     "name": "stderr",
     "output_type": "stream",
     "text": [
      "C:\\Users\\carin\\AppData\\Local\\Temp\\ipykernel_26000\\2017038996.py:1: DeprecationWarning: \n",
      "Pyarrow will become a required dependency of pandas in the next major release of pandas (pandas 3.0),\n",
      "(to allow more performant data types, such as the Arrow string type, and better interoperability with other libraries)\n",
      "but was not found to be installed on your system.\n",
      "If this would cause problems for you,\n",
      "please provide us feedback at https://github.com/pandas-dev/pandas/issues/54466\n",
      "        \n",
      "  import pandas as pd\n"
     ]
    }
   ],
   "source": [
    "import pandas as pd\n",
    "import matplotlib.pyplot as plt\n",
    "import seaborn as sns\n",
    "import os\n",
    "import numpy as np\n",
    "\n",
    "import warnings\n",
    "warnings.filterwarnings(\"ignore\")\n",
    "\n",
    "# para evitarmos a exibição dos dados em notacao científica\n",
    "pd.set_option('display.float_format', lambda x: '%.3f' % x)\n",
    "\n",
    "#comment next line to not use MLFlow for cleaning data\n",
    "from MLFlow_Classification import *\n",
    "from MLFlow_Utils import *"
   ]
  },
  {
   "cell_type": "markdown",
   "metadata": {},
   "source": [
    "### This code uses just 14 hospitals, since ICU or MV has no variation for 4 hospitals\n",
    "#### - The code that prepares the data to run all strategies for ICU and MV is: PREPARING_DATA_TO_UCI_MV_ANALYSES\n",
    "#### - df_iacov_en.csv (used for death) was replaced here by df_iacov_model_lean_14hosp.csv\n",
    "#### - put df_iacov_model_lean_14hosp.csv in same folder as this notebook"
   ]
  },
  {
   "cell_type": "code",
   "execution_count": 2,
   "metadata": {},
   "outputs": [
    {
     "data": {
      "text/plain": [
       "(6046, 30)"
      ]
     },
     "execution_count": 2,
     "metadata": {},
     "output_type": "execute_result"
    }
   ],
   "source": [
    "#Put csv in same folder as this notebook\n",
    "dataset = pd.read_csv(\"df_iacov_model_lean_14hosp.csv\", delimiter=\";\")\n",
    "df_iacov_model = pd.DataFrame(dataset)\n",
    "df_iacov_model.shape"
   ]
  },
  {
   "cell_type": "code",
   "execution_count": 3,
   "metadata": {},
   "outputs": [
    {
     "data": {
      "text/plain": [
       "Index(['city_hospital', 'age', 'male', 'race', 'heart_rate', 'resp_rate',\n",
       "       'sys_press', 'dias_press', 'mean_press', 'temp', 'hemoglobin',\n",
       "       'platelets', 'hematocrit', 'red_cells_count', 'hcm', 'rdw', 'mcv',\n",
       "       'leukocytes', 'neutrophil', 'lymphocytes', 'basophils', 'eosinophils',\n",
       "       'monocytes', 'crp', 'death', 'icu', 'mv', 'state', 'region', 'excluir'],\n",
       "      dtype='object')"
      ]
     },
     "execution_count": 3,
     "metadata": {},
     "output_type": "execute_result"
    }
   ],
   "source": [
    "df_iacov_model.columns"
   ]
  },
  {
   "cell_type": "markdown",
   "metadata": {},
   "source": [
    "## 2.1) Assign binary outcome to be predicted"
   ]
  },
  {
   "cell_type": "markdown",
   "metadata": {},
   "source": [
    "### 2.1.1) Maintain essential variables (LEAN Model)"
   ]
  },
  {
   "cell_type": "code",
   "execution_count": 4,
   "metadata": {},
   "outputs": [
    {
     "data": {
      "text/plain": [
       "(6046, 26)"
      ]
     },
     "execution_count": 4,
     "metadata": {},
     "output_type": "execute_result"
    }
   ],
   "source": [
    "#22 predictors + outcome + Region/State\n",
    "df_iacov_model_lean = df_iacov_model[['city_hospital'\n",
    "                                      ,'age'\n",
    "                                      ,'male'\n",
    "                                      ,'heart_rate'\n",
    "                                      ,'resp_rate'\n",
    "                                      ,'sys_press'\n",
    "                                      ,'dias_press'\n",
    "                                      ,'mean_press'\n",
    "                                      ,'temp'\n",
    "                                      ,'hemoglobin'\n",
    "                                      ,'platelets'\n",
    "                                      ,'hematocrit'\n",
    "                                      ,'red_cells_count'\n",
    "                                      ,'hcm'\n",
    "                                      ,'rdw'\n",
    "                                      ,'mcv'\n",
    "                                      ,'leukocytes'\n",
    "                                      ,'neutrophil'\n",
    "                                      ,'lymphocytes'\n",
    "                                      ,'basophils'\n",
    "                                      ,'eosinophils'\n",
    "                                      ,'monocytes'\n",
    "                                      ,'crp'\n",
    "                                      ,'icu'\n",
    "                                      ,'region' #for filtering purposes\n",
    "                                      ,'state' #for filtering purposes\n",
    "                                     ]]\n",
    "df_iacov_model_lean.shape"
   ]
  },
  {
   "cell_type": "code",
   "execution_count": 5,
   "metadata": {},
   "outputs": [
    {
     "data": {
      "text/plain": [
       "city_hospital\n",
       "HC_USP                        1500\n",
       "HOSPPORTUGUES_SALVADOR        1359\n",
       "CEARA_UNIMED                   845\n",
       "HRL_2021_02                    539\n",
       "HMV_POA_02                     456\n",
       "RIO_DE_JANEIRO_UNIMED          449\n",
       "HOSPSANTAJULIA_MANAUS          247\n",
       "HOSPSANTACATARINABLUMENAU      148\n",
       "HOSPSAOFRANCISCO_MOGIGUACU     124\n",
       "PERNAMBUCO_FULL                112\n",
       "PELOTAS                         91\n",
       "CEARA_HUWC                      73\n",
       "HEVV                            56\n",
       "AMAZONAS_HUGV                   47\n",
       "Name: count, dtype: int64"
      ]
     },
     "execution_count": 5,
     "metadata": {},
     "output_type": "execute_result"
    }
   ],
   "source": [
    "df_iacov_model_lean.city_hospital.value_counts()"
   ]
  },
  {
   "cell_type": "code",
   "execution_count": 6,
   "metadata": {},
   "outputs": [],
   "source": [
    "df_iacov_model_lean.to_csv('df_iacov_model_lean.csv', sep=';', index=False)"
   ]
  },
  {
   "cell_type": "markdown",
   "metadata": {},
   "source": [
    "### 2.1.2) Filter a specific hospital"
   ]
  },
  {
   "cell_type": "code",
   "execution_count": 7,
   "metadata": {},
   "outputs": [
    {
     "data": {
      "text/plain": [
       "(6046, 26)"
      ]
     },
     "execution_count": 7,
     "metadata": {},
     "output_type": "execute_result"
    }
   ],
   "source": [
    "#Put csv in same folder as this notebook\n",
    "df_all_hospitals = pd.read_csv(\"df_iacov_model_lean.csv\", delimiter=\";\", decimal=\".\")\n",
    "df_all_hospitals.shape"
   ]
  },
  {
   "cell_type": "code",
   "execution_count": 8,
   "metadata": {},
   "outputs": [
    {
     "data": {
      "text/plain": [
       "Index(['city_hospital', 'age', 'male', 'heart_rate', 'resp_rate', 'sys_press',\n",
       "       'dias_press', 'mean_press', 'temp', 'hemoglobin', 'platelets',\n",
       "       'hematocrit', 'red_cells_count', 'hcm', 'rdw', 'mcv', 'leukocytes',\n",
       "       'neutrophil', 'lymphocytes', 'basophils', 'eosinophils', 'monocytes',\n",
       "       'crp', 'mv', 'region', 'state'],\n",
       "      dtype='object')"
      ]
     },
     "execution_count": 8,
     "metadata": {},
     "output_type": "execute_result"
    }
   ],
   "source": [
    "df_all_hospitals.columns"
   ]
  },
  {
   "cell_type": "code",
   "execution_count": 9,
   "metadata": {},
   "outputs": [
    {
     "data": {
      "text/plain": [
       "region\n",
       "NORDESTE       2389\n",
       "SUDESTE        2129\n",
       "SUL             695\n",
       "CENTROOESTE     539\n",
       "NORTE           294\n",
       "Name: count, dtype: int64"
      ]
     },
     "execution_count": 9,
     "metadata": {},
     "output_type": "execute_result"
    }
   ],
   "source": [
    "df_all_hospitals.region.value_counts()"
   ]
  },
  {
   "cell_type": "code",
   "execution_count": 10,
   "metadata": {},
   "outputs": [
    {
     "data": {
      "text/html": [
       "<div>\n",
       "<style scoped>\n",
       "    .dataframe tbody tr th:only-of-type {\n",
       "        vertical-align: middle;\n",
       "    }\n",
       "\n",
       "    .dataframe tbody tr th {\n",
       "        vertical-align: top;\n",
       "    }\n",
       "\n",
       "    .dataframe thead th {\n",
       "        text-align: right;\n",
       "    }\n",
       "</style>\n",
       "<table border=\"1\" class=\"dataframe\">\n",
       "  <thead>\n",
       "    <tr style=\"text-align: right;\">\n",
       "      <th></th>\n",
       "      <th>Missing Values</th>\n",
       "      <th>% missing of Total Values</th>\n",
       "      <th># Unique Values</th>\n",
       "      <th># Values as [0]</th>\n",
       "      <th>datatype</th>\n",
       "      <th>skew</th>\n",
       "      <th>count</th>\n",
       "      <th>mean</th>\n",
       "      <th>std</th>\n",
       "      <th>min</th>\n",
       "      <th>25%</th>\n",
       "      <th>50%</th>\n",
       "      <th>75%</th>\n",
       "      <th>max</th>\n",
       "    </tr>\n",
       "  </thead>\n",
       "  <tbody>\n",
       "    <tr>\n",
       "      <th>city_hospital</th>\n",
       "      <td>0</td>\n",
       "      <td>0.000</td>\n",
       "      <td>14</td>\n",
       "      <td>0</td>\n",
       "      <td>object</td>\n",
       "      <td>NaN</td>\n",
       "      <td>NaN</td>\n",
       "      <td>NaN</td>\n",
       "      <td>NaN</td>\n",
       "      <td>NaN</td>\n",
       "      <td>NaN</td>\n",
       "      <td>NaN</td>\n",
       "      <td>NaN</td>\n",
       "      <td>NaN</td>\n",
       "    </tr>\n",
       "    <tr>\n",
       "      <th>age</th>\n",
       "      <td>0</td>\n",
       "      <td>0.000</td>\n",
       "      <td>98</td>\n",
       "      <td>0</td>\n",
       "      <td>float64</td>\n",
       "      <td>-0.060</td>\n",
       "      <td>6046.000</td>\n",
       "      <td>57.521</td>\n",
       "      <td>17.869</td>\n",
       "      <td>18.000</td>\n",
       "      <td>44.000</td>\n",
       "      <td>58.000</td>\n",
       "      <td>71.000</td>\n",
       "      <td>105.000</td>\n",
       "    </tr>\n",
       "    <tr>\n",
       "      <th>male</th>\n",
       "      <td>0</td>\n",
       "      <td>0.000</td>\n",
       "      <td>2</td>\n",
       "      <td>2790</td>\n",
       "      <td>float64</td>\n",
       "      <td>-0.155</td>\n",
       "      <td>6046.000</td>\n",
       "      <td>0.539</td>\n",
       "      <td>0.499</td>\n",
       "      <td>0.000</td>\n",
       "      <td>0.000</td>\n",
       "      <td>1.000</td>\n",
       "      <td>1.000</td>\n",
       "      <td>1.000</td>\n",
       "    </tr>\n",
       "    <tr>\n",
       "      <th>heart_rate</th>\n",
       "      <td>809</td>\n",
       "      <td>13.381</td>\n",
       "      <td>183</td>\n",
       "      <td>0</td>\n",
       "      <td>float64</td>\n",
       "      <td>0.611</td>\n",
       "      <td>5237.000</td>\n",
       "      <td>85.689</td>\n",
       "      <td>17.209</td>\n",
       "      <td>13.000</td>\n",
       "      <td>75.000</td>\n",
       "      <td>85.000</td>\n",
       "      <td>96.000</td>\n",
       "      <td>233.000</td>\n",
       "    </tr>\n",
       "    <tr>\n",
       "      <th>resp_rate</th>\n",
       "      <td>1457</td>\n",
       "      <td>24.099</td>\n",
       "      <td>69</td>\n",
       "      <td>1</td>\n",
       "      <td>float64</td>\n",
       "      <td>2.897</td>\n",
       "      <td>4589.000</td>\n",
       "      <td>21.881</td>\n",
       "      <td>6.380</td>\n",
       "      <td>0.000</td>\n",
       "      <td>18.000</td>\n",
       "      <td>20.000</td>\n",
       "      <td>24.000</td>\n",
       "      <td>108.000</td>\n",
       "    </tr>\n",
       "    <tr>\n",
       "      <th>sys_press</th>\n",
       "      <td>1336</td>\n",
       "      <td>22.097</td>\n",
       "      <td>215</td>\n",
       "      <td>0</td>\n",
       "      <td>float64</td>\n",
       "      <td>-0.279</td>\n",
       "      <td>4710.000</td>\n",
       "      <td>124.054</td>\n",
       "      <td>22.791</td>\n",
       "      <td>10.000</td>\n",
       "      <td>110.000</td>\n",
       "      <td>122.000</td>\n",
       "      <td>138.000</td>\n",
       "      <td>242.000</td>\n",
       "    </tr>\n",
       "    <tr>\n",
       "      <th>dias_press</th>\n",
       "      <td>1325</td>\n",
       "      <td>21.915</td>\n",
       "      <td>150</td>\n",
       "      <td>0</td>\n",
       "      <td>float64</td>\n",
       "      <td>-0.361</td>\n",
       "      <td>4721.000</td>\n",
       "      <td>74.608</td>\n",
       "      <td>14.626</td>\n",
       "      <td>6.000</td>\n",
       "      <td>67.000</td>\n",
       "      <td>76.000</td>\n",
       "      <td>81.000</td>\n",
       "      <td>141.000</td>\n",
       "    </tr>\n",
       "    <tr>\n",
       "      <th>mean_press</th>\n",
       "      <td>1366</td>\n",
       "      <td>22.593</td>\n",
       "      <td>1452</td>\n",
       "      <td>326</td>\n",
       "      <td>float64</td>\n",
       "      <td>-1.751</td>\n",
       "      <td>4680.000</td>\n",
       "      <td>83.731</td>\n",
       "      <td>28.475</td>\n",
       "      <td>0.000</td>\n",
       "      <td>78.981</td>\n",
       "      <td>90.000</td>\n",
       "      <td>98.648</td>\n",
       "      <td>166.000</td>\n",
       "    </tr>\n",
       "    <tr>\n",
       "      <th>temp</th>\n",
       "      <td>1173</td>\n",
       "      <td>19.401</td>\n",
       "      <td>128</td>\n",
       "      <td>1</td>\n",
       "      <td>float64</td>\n",
       "      <td>62.972</td>\n",
       "      <td>4873.000</td>\n",
       "      <td>36.430</td>\n",
       "      <td>4.976</td>\n",
       "      <td>0.000</td>\n",
       "      <td>36.000</td>\n",
       "      <td>36.300</td>\n",
       "      <td>36.800</td>\n",
       "      <td>372.000</td>\n",
       "    </tr>\n",
       "    <tr>\n",
       "      <th>hemoglobin</th>\n",
       "      <td>1904</td>\n",
       "      <td>31.492</td>\n",
       "      <td>226</td>\n",
       "      <td>0</td>\n",
       "      <td>float64</td>\n",
       "      <td>-0.628</td>\n",
       "      <td>4142.000</td>\n",
       "      <td>12.752</td>\n",
       "      <td>2.189</td>\n",
       "      <td>1.400</td>\n",
       "      <td>11.692</td>\n",
       "      <td>13.000</td>\n",
       "      <td>14.200</td>\n",
       "      <td>30.600</td>\n",
       "    </tr>\n",
       "    <tr>\n",
       "      <th>platelets</th>\n",
       "      <td>744</td>\n",
       "      <td>12.306</td>\n",
       "      <td>1036</td>\n",
       "      <td>0</td>\n",
       "      <td>float64</td>\n",
       "      <td>0.395</td>\n",
       "      <td>5302.000</td>\n",
       "      <td>235701.617</td>\n",
       "      <td>143771.202</td>\n",
       "      <td>7.000</td>\n",
       "      <td>148000.000</td>\n",
       "      <td>217000.000</td>\n",
       "      <td>321750.000</td>\n",
       "      <td>992000.000</td>\n",
       "    </tr>\n",
       "    <tr>\n",
       "      <th>hematocrit</th>\n",
       "      <td>2350</td>\n",
       "      <td>38.869</td>\n",
       "      <td>475</td>\n",
       "      <td>0</td>\n",
       "      <td>float64</td>\n",
       "      <td>-0.539</td>\n",
       "      <td>3696.000</td>\n",
       "      <td>38.436</td>\n",
       "      <td>6.402</td>\n",
       "      <td>1.000</td>\n",
       "      <td>35.100</td>\n",
       "      <td>39.200</td>\n",
       "      <td>42.500</td>\n",
       "      <td>77.000</td>\n",
       "    </tr>\n",
       "    <tr>\n",
       "      <th>red_cells_count</th>\n",
       "      <td>2684</td>\n",
       "      <td>44.393</td>\n",
       "      <td>578</td>\n",
       "      <td>0</td>\n",
       "      <td>float64</td>\n",
       "      <td>-0.274</td>\n",
       "      <td>3362.000</td>\n",
       "      <td>3.915</td>\n",
       "      <td>1.168</td>\n",
       "      <td>0.290</td>\n",
       "      <td>3.250</td>\n",
       "      <td>4.210</td>\n",
       "      <td>4.717</td>\n",
       "      <td>14.500</td>\n",
       "    </tr>\n",
       "    <tr>\n",
       "      <th>hcm</th>\n",
       "      <td>1191</td>\n",
       "      <td>19.699</td>\n",
       "      <td>689</td>\n",
       "      <td>0</td>\n",
       "      <td>float64</td>\n",
       "      <td>3.528</td>\n",
       "      <td>4855.000</td>\n",
       "      <td>29.095</td>\n",
       "      <td>2.939</td>\n",
       "      <td>10.000</td>\n",
       "      <td>27.800</td>\n",
       "      <td>29.200</td>\n",
       "      <td>30.500</td>\n",
       "      <td>88.100</td>\n",
       "    </tr>\n",
       "    <tr>\n",
       "      <th>rdw</th>\n",
       "      <td>1192</td>\n",
       "      <td>19.716</td>\n",
       "      <td>227</td>\n",
       "      <td>0</td>\n",
       "      <td>float64</td>\n",
       "      <td>11.869</td>\n",
       "      <td>4854.000</td>\n",
       "      <td>13.837</td>\n",
       "      <td>2.407</td>\n",
       "      <td>3.000</td>\n",
       "      <td>12.700</td>\n",
       "      <td>13.500</td>\n",
       "      <td>14.400</td>\n",
       "      <td>86.100</td>\n",
       "    </tr>\n",
       "    <tr>\n",
       "      <th>mcv</th>\n",
       "      <td>1185</td>\n",
       "      <td>19.600</td>\n",
       "      <td>1029</td>\n",
       "      <td>0</td>\n",
       "      <td>float64</td>\n",
       "      <td>0.227</td>\n",
       "      <td>4861.000</td>\n",
       "      <td>87.665</td>\n",
       "      <td>7.667</td>\n",
       "      <td>8.150</td>\n",
       "      <td>83.700</td>\n",
       "      <td>87.600</td>\n",
       "      <td>91.600</td>\n",
       "      <td>201.400</td>\n",
       "    </tr>\n",
       "    <tr>\n",
       "      <th>leukocytes</th>\n",
       "      <td>741</td>\n",
       "      <td>12.256</td>\n",
       "      <td>2268</td>\n",
       "      <td>0</td>\n",
       "      <td>float64</td>\n",
       "      <td>20.605</td>\n",
       "      <td>5305.000</td>\n",
       "      <td>7035.747</td>\n",
       "      <td>9241.209</td>\n",
       "      <td>0.760</td>\n",
       "      <td>3680.000</td>\n",
       "      <td>6210.000</td>\n",
       "      <td>9233.000</td>\n",
       "      <td>365920.000</td>\n",
       "    </tr>\n",
       "    <tr>\n",
       "      <th>neutrophil</th>\n",
       "      <td>2074</td>\n",
       "      <td>34.304</td>\n",
       "      <td>2403</td>\n",
       "      <td>3</td>\n",
       "      <td>float64</td>\n",
       "      <td>1.830</td>\n",
       "      <td>3972.000</td>\n",
       "      <td>6143.968</td>\n",
       "      <td>4259.737</td>\n",
       "      <td>0.000</td>\n",
       "      <td>3180.000</td>\n",
       "      <td>5200.000</td>\n",
       "      <td>8060.000</td>\n",
       "      <td>47636.000</td>\n",
       "    </tr>\n",
       "    <tr>\n",
       "      <th>lymphocytes</th>\n",
       "      <td>1404</td>\n",
       "      <td>23.222</td>\n",
       "      <td>1865</td>\n",
       "      <td>5</td>\n",
       "      <td>float64</td>\n",
       "      <td>15.570</td>\n",
       "      <td>4642.000</td>\n",
       "      <td>1031.263</td>\n",
       "      <td>1028.587</td>\n",
       "      <td>0.000</td>\n",
       "      <td>529.250</td>\n",
       "      <td>900.000</td>\n",
       "      <td>1378.250</td>\n",
       "      <td>42120.000</td>\n",
       "    </tr>\n",
       "    <tr>\n",
       "      <th>basophils</th>\n",
       "      <td>1120</td>\n",
       "      <td>18.525</td>\n",
       "      <td>252</td>\n",
       "      <td>2087</td>\n",
       "      <td>float64</td>\n",
       "      <td>5.342</td>\n",
       "      <td>4926.000</td>\n",
       "      <td>7.509</td>\n",
       "      <td>18.532</td>\n",
       "      <td>0.000</td>\n",
       "      <td>0.000</td>\n",
       "      <td>0.010</td>\n",
       "      <td>10.000</td>\n",
       "      <td>259.200</td>\n",
       "    </tr>\n",
       "    <tr>\n",
       "      <th>eosinophils</th>\n",
       "      <td>2367</td>\n",
       "      <td>39.150</td>\n",
       "      <td>495</td>\n",
       "      <td>1487</td>\n",
       "      <td>float64</td>\n",
       "      <td>14.977</td>\n",
       "      <td>3679.000</td>\n",
       "      <td>43.517</td>\n",
       "      <td>127.479</td>\n",
       "      <td>0.000</td>\n",
       "      <td>0.000</td>\n",
       "      <td>1.000</td>\n",
       "      <td>46.000</td>\n",
       "      <td>4450.000</td>\n",
       "    </tr>\n",
       "    <tr>\n",
       "      <th>monocytes</th>\n",
       "      <td>841</td>\n",
       "      <td>13.910</td>\n",
       "      <td>1450</td>\n",
       "      <td>14</td>\n",
       "      <td>float64</td>\n",
       "      <td>2.534</td>\n",
       "      <td>5205.000</td>\n",
       "      <td>354.765</td>\n",
       "      <td>375.844</td>\n",
       "      <td>0.000</td>\n",
       "      <td>0.930</td>\n",
       "      <td>310.000</td>\n",
       "      <td>584.000</td>\n",
       "      <td>7243.000</td>\n",
       "    </tr>\n",
       "    <tr>\n",
       "      <th>crp</th>\n",
       "      <td>1383</td>\n",
       "      <td>22.875</td>\n",
       "      <td>2986</td>\n",
       "      <td>0</td>\n",
       "      <td>float64</td>\n",
       "      <td>3.137</td>\n",
       "      <td>4663.000</td>\n",
       "      <td>36.696</td>\n",
       "      <td>71.738</td>\n",
       "      <td>0.015</td>\n",
       "      <td>1.911</td>\n",
       "      <td>7.800</td>\n",
       "      <td>28.100</td>\n",
       "      <td>708.300</td>\n",
       "    </tr>\n",
       "    <tr>\n",
       "      <th>mv</th>\n",
       "      <td>0</td>\n",
       "      <td>0.000</td>\n",
       "      <td>2</td>\n",
       "      <td>4343</td>\n",
       "      <td>int64</td>\n",
       "      <td>0.971</td>\n",
       "      <td>6046.000</td>\n",
       "      <td>0.282</td>\n",
       "      <td>0.450</td>\n",
       "      <td>0.000</td>\n",
       "      <td>0.000</td>\n",
       "      <td>0.000</td>\n",
       "      <td>1.000</td>\n",
       "      <td>1.000</td>\n",
       "    </tr>\n",
       "    <tr>\n",
       "      <th>region</th>\n",
       "      <td>0</td>\n",
       "      <td>0.000</td>\n",
       "      <td>5</td>\n",
       "      <td>0</td>\n",
       "      <td>object</td>\n",
       "      <td>NaN</td>\n",
       "      <td>NaN</td>\n",
       "      <td>NaN</td>\n",
       "      <td>NaN</td>\n",
       "      <td>NaN</td>\n",
       "      <td>NaN</td>\n",
       "      <td>NaN</td>\n",
       "      <td>NaN</td>\n",
       "      <td>NaN</td>\n",
       "    </tr>\n",
       "    <tr>\n",
       "      <th>state</th>\n",
       "      <td>0</td>\n",
       "      <td>0.000</td>\n",
       "      <td>10</td>\n",
       "      <td>0</td>\n",
       "      <td>object</td>\n",
       "      <td>NaN</td>\n",
       "      <td>NaN</td>\n",
       "      <td>NaN</td>\n",
       "      <td>NaN</td>\n",
       "      <td>NaN</td>\n",
       "      <td>NaN</td>\n",
       "      <td>NaN</td>\n",
       "      <td>NaN</td>\n",
       "      <td>NaN</td>\n",
       "    </tr>\n",
       "  </tbody>\n",
       "</table>\n",
       "</div>"
      ],
      "text/plain": [
       "                 Missing Values  % missing of Total Values  # Unique Values  \\\n",
       "city_hospital                 0                      0.000               14   \n",
       "age                           0                      0.000               98   \n",
       "male                          0                      0.000                2   \n",
       "heart_rate                  809                     13.381              183   \n",
       "resp_rate                  1457                     24.099               69   \n",
       "sys_press                  1336                     22.097              215   \n",
       "dias_press                 1325                     21.915              150   \n",
       "mean_press                 1366                     22.593             1452   \n",
       "temp                       1173                     19.401              128   \n",
       "hemoglobin                 1904                     31.492              226   \n",
       "platelets                   744                     12.306             1036   \n",
       "hematocrit                 2350                     38.869              475   \n",
       "red_cells_count            2684                     44.393              578   \n",
       "hcm                        1191                     19.699              689   \n",
       "rdw                        1192                     19.716              227   \n",
       "mcv                        1185                     19.600             1029   \n",
       "leukocytes                  741                     12.256             2268   \n",
       "neutrophil                 2074                     34.304             2403   \n",
       "lymphocytes                1404                     23.222             1865   \n",
       "basophils                  1120                     18.525              252   \n",
       "eosinophils                2367                     39.150              495   \n",
       "monocytes                   841                     13.910             1450   \n",
       "crp                        1383                     22.875             2986   \n",
       "mv                            0                      0.000                2   \n",
       "region                        0                      0.000                5   \n",
       "state                         0                      0.000               10   \n",
       "\n",
       "                 # Values as [0] datatype   skew    count       mean  \\\n",
       "city_hospital                  0   object    NaN      NaN        NaN   \n",
       "age                            0  float64 -0.060 6046.000     57.521   \n",
       "male                        2790  float64 -0.155 6046.000      0.539   \n",
       "heart_rate                     0  float64  0.611 5237.000     85.689   \n",
       "resp_rate                      1  float64  2.897 4589.000     21.881   \n",
       "sys_press                      0  float64 -0.279 4710.000    124.054   \n",
       "dias_press                     0  float64 -0.361 4721.000     74.608   \n",
       "mean_press                   326  float64 -1.751 4680.000     83.731   \n",
       "temp                           1  float64 62.972 4873.000     36.430   \n",
       "hemoglobin                     0  float64 -0.628 4142.000     12.752   \n",
       "platelets                      0  float64  0.395 5302.000 235701.617   \n",
       "hematocrit                     0  float64 -0.539 3696.000     38.436   \n",
       "red_cells_count                0  float64 -0.274 3362.000      3.915   \n",
       "hcm                            0  float64  3.528 4855.000     29.095   \n",
       "rdw                            0  float64 11.869 4854.000     13.837   \n",
       "mcv                            0  float64  0.227 4861.000     87.665   \n",
       "leukocytes                     0  float64 20.605 5305.000   7035.747   \n",
       "neutrophil                     3  float64  1.830 3972.000   6143.968   \n",
       "lymphocytes                    5  float64 15.570 4642.000   1031.263   \n",
       "basophils                   2087  float64  5.342 4926.000      7.509   \n",
       "eosinophils                 1487  float64 14.977 3679.000     43.517   \n",
       "monocytes                     14  float64  2.534 5205.000    354.765   \n",
       "crp                            0  float64  3.137 4663.000     36.696   \n",
       "mv                          4343    int64  0.971 6046.000      0.282   \n",
       "region                         0   object    NaN      NaN        NaN   \n",
       "state                          0   object    NaN      NaN        NaN   \n",
       "\n",
       "                       std    min        25%        50%        75%        max  \n",
       "city_hospital          NaN    NaN        NaN        NaN        NaN        NaN  \n",
       "age                 17.869 18.000     44.000     58.000     71.000    105.000  \n",
       "male                 0.499  0.000      0.000      1.000      1.000      1.000  \n",
       "heart_rate          17.209 13.000     75.000     85.000     96.000    233.000  \n",
       "resp_rate            6.380  0.000     18.000     20.000     24.000    108.000  \n",
       "sys_press           22.791 10.000    110.000    122.000    138.000    242.000  \n",
       "dias_press          14.626  6.000     67.000     76.000     81.000    141.000  \n",
       "mean_press          28.475  0.000     78.981     90.000     98.648    166.000  \n",
       "temp                 4.976  0.000     36.000     36.300     36.800    372.000  \n",
       "hemoglobin           2.189  1.400     11.692     13.000     14.200     30.600  \n",
       "platelets       143771.202  7.000 148000.000 217000.000 321750.000 992000.000  \n",
       "hematocrit           6.402  1.000     35.100     39.200     42.500     77.000  \n",
       "red_cells_count      1.168  0.290      3.250      4.210      4.717     14.500  \n",
       "hcm                  2.939 10.000     27.800     29.200     30.500     88.100  \n",
       "rdw                  2.407  3.000     12.700     13.500     14.400     86.100  \n",
       "mcv                  7.667  8.150     83.700     87.600     91.600    201.400  \n",
       "leukocytes        9241.209  0.760   3680.000   6210.000   9233.000 365920.000  \n",
       "neutrophil        4259.737  0.000   3180.000   5200.000   8060.000  47636.000  \n",
       "lymphocytes       1028.587  0.000    529.250    900.000   1378.250  42120.000  \n",
       "basophils           18.532  0.000      0.000      0.010     10.000    259.200  \n",
       "eosinophils        127.479  0.000      0.000      1.000     46.000   4450.000  \n",
       "monocytes          375.844  0.000      0.930    310.000    584.000   7243.000  \n",
       "crp                 71.738  0.015      1.911      7.800     28.100    708.300  \n",
       "mv                   0.450  0.000      0.000      0.000      1.000      1.000  \n",
       "region                 NaN    NaN        NaN        NaN        NaN        NaN  \n",
       "state                  NaN    NaN        NaN        NaN        NaN        NaN  "
      ]
     },
     "execution_count": 10,
     "metadata": {},
     "output_type": "execute_result"
    }
   ],
   "source": [
    "column_summaries(df_all_hospitals)"
   ]
  },
  {
   "cell_type": "code",
   "execution_count": 11,
   "metadata": {},
   "outputs": [],
   "source": [
    "import ipywidgets as widgets\n",
    "from IPython.display import clear_output"
   ]
  },
  {
   "cell_type": "code",
   "execution_count": 12,
   "metadata": {},
   "outputs": [
    {
     "data": {
      "text/plain": [
       "city_hospital\n",
       "HC_USP                        1500\n",
       "HOSPPORTUGUES_SALVADOR        1359\n",
       "CEARA_UNIMED                   845\n",
       "HRL_2021_02                    539\n",
       "HMV_POA_02                     456\n",
       "RIO_DE_JANEIRO_UNIMED          449\n",
       "HOSPSANTAJULIA_MANAUS          247\n",
       "HOSPSANTACATARINABLUMENAU      148\n",
       "HOSPSAOFRANCISCO_MOGIGUACU     124\n",
       "PERNAMBUCO_FULL                112\n",
       "PELOTAS                         91\n",
       "CEARA_HUWC                      73\n",
       "HEVV                            56\n",
       "AMAZONAS_HUGV                   47\n",
       "Name: count, dtype: int64"
      ]
     },
     "execution_count": 12,
     "metadata": {},
     "output_type": "execute_result"
    }
   ],
   "source": [
    "df_all_hospitals.city_hospital.value_counts()"
   ]
  },
  {
   "cell_type": "code",
   "execution_count": 13,
   "metadata": {},
   "outputs": [],
   "source": [
    "# Hospitals excluded for ICU and MV analyses: 'HOSPSANTACASASP_FULL', 'HOSPGRUPOSANTA', 'HUTRIN_2021_02', 'RIO_DE_JANEIRO_HUCFF'\n",
    "dropdown_hospital = widgets.Dropdown(options = ['Choose a hospital ...'\n",
    "                                                ,'HC_USP'                     #SP\n",
    "                                                ,'HOSPPORTUGUES_SALVADOR'     #BA\n",
    "                                                ,'CEARA_UNIMED'               #CE\n",
    "                                                ,'HRL_2021_02'                #GO - Luiziania\n",
    "                                                ,'HMV_POA_02'                 #RS - Moinhos de Vento\n",
    "                                                ,'RIO_DE_JANEIRO_UNIMED'      #RJ\n",
    "                                                ,'HOSPSANTAJULIA_MANAUS'      #AM\n",
    "                                                ,'HOSPSANTACATARINABLUMENAU'  #SC\n",
    "                                                ,'HOSPSAOFRANCISCO_MOGIGUACU' #SP\n",
    "                                                ,'PERNAMBUCO_FULL'            #PE\n",
    "                                                ,'PELOTAS'                    #RS\n",
    "                                                ,'CEARA_HUWC'                 #CE\n",
    "                                                ,'HEVV'                       #ES - Vila Velha\n",
    "                                                ,'AMAZONAS_HUGV'              #AM\n",
    "#                                                 ,'GHC_02'                     #RS \n",
    "                                               ])"
   ]
  },
  {
   "cell_type": "code",
   "execution_count": 14,
   "metadata": {},
   "outputs": [],
   "source": [
    "specific_hospital = 'Choose a hospital'\n",
    "df_iacov_model_lean = df_all_hospitals\n",
    "\n",
    "def dropdown_hospital_eventhandler(change):\n",
    "    global specific_hospital \n",
    "    specific_hospital = change.new\n",
    "    dropdown_hospital.observe(dropdown_hospital_eventhandler, names='value')"
   ]
  },
  {
   "cell_type": "code",
   "execution_count": 15,
   "metadata": {},
   "outputs": [],
   "source": [
    "dropdown_hospital.observe(dropdown_hospital_eventhandler, names='value')"
   ]
  },
  {
   "cell_type": "markdown",
   "metadata": {},
   "source": [
    "**Select Hospital to train**"
   ]
  },
  {
   "cell_type": "code",
   "execution_count": 16,
   "metadata": {},
   "outputs": [],
   "source": [
    "# !pip install ipywidgets"
   ]
  },
  {
   "cell_type": "code",
   "execution_count": 17,
   "metadata": {},
   "outputs": [],
   "source": [
    "# !jupyter nbextension enable --py widgetsnbextension"
   ]
  },
  {
   "cell_type": "code",
   "execution_count": 18,
   "metadata": {},
   "outputs": [],
   "source": [
    "# !jupyter labextension install @jupyter-widgets/jupyterlab-manager"
   ]
  },
  {
   "cell_type": "code",
   "execution_count": 1214,
   "metadata": {},
   "outputs": [
    {
     "data": {
      "application/vnd.jupyter.widget-view+json": {
       "model_id": "e9a4a1b71e1d42619e6388ca8bab02a2",
       "version_major": 2,
       "version_minor": 0
      },
      "text/plain": [
       "Dropdown(index=14, options=('Choose a hospital ...', 'HC_USP', 'HOSPPORTUGUES_SALVADOR', 'CEARA_UNIMED', 'HRL_…"
      ]
     },
     "metadata": {},
     "output_type": "display_data"
    }
   ],
   "source": [
    "display(dropdown_hospital)"
   ]
  },
  {
   "cell_type": "markdown",
   "metadata": {},
   "source": [
    "**Filter all hospitals except the selected above**"
   ]
  },
  {
   "cell_type": "code",
   "execution_count": 1215,
   "metadata": {},
   "outputs": [
    {
     "data": {
      "text/plain": [
       "region\n",
       "NORDESTE       2389\n",
       "SUDESTE        2129\n",
       "SUL             695\n",
       "CENTROOESTE     539\n",
       "NORTE           294\n",
       "Name: count, dtype: int64"
      ]
     },
     "execution_count": 1215,
     "metadata": {},
     "output_type": "execute_result"
    }
   ],
   "source": [
    "df_all_hospitals.region.value_counts()"
   ]
  },
  {
   "cell_type": "markdown",
   "metadata": {},
   "source": [
    "**Split train/test of specific Hospital**"
   ]
  },
  {
   "cell_type": "code",
   "execution_count": 1216,
   "metadata": {},
   "outputs": [],
   "source": [
    "from sklearn.model_selection import train_test_split"
   ]
  },
  {
   "cell_type": "code",
   "execution_count": 1217,
   "metadata": {},
   "outputs": [
    {
     "data": {
      "text/plain": [
       "(47, 26)"
      ]
     },
     "execution_count": 1217,
     "metadata": {},
     "output_type": "execute_result"
    }
   ],
   "source": [
    "#Filter the specific hospital\n",
    "df_iacov_model_lean_specific = df_all_hospitals[df_all_hospitals.city_hospital == specific_hospital]\n",
    "df_iacov_model_lean_specific.shape"
   ]
  },
  {
   "cell_type": "code",
   "execution_count": 1218,
   "metadata": {},
   "outputs": [
    {
     "data": {
      "text/plain": [
       "(47, 25)"
      ]
     },
     "execution_count": 1218,
     "metadata": {},
     "output_type": "execute_result"
    }
   ],
   "source": [
    "X_specific = df_iacov_model_lean_specific.drop(['icu'],axis=1)\n",
    "X_specific.shape"
   ]
  },
  {
   "cell_type": "code",
   "execution_count": 1219,
   "metadata": {},
   "outputs": [
    {
     "data": {
      "text/plain": [
       "(47,)"
      ]
     },
     "execution_count": 1219,
     "metadata": {},
     "output_type": "execute_result"
    }
   ],
   "source": [
    "y_specific = df_iacov_model_lean_specific['icu']\n",
    "y_specific.shape"
   ]
  },
  {
   "cell_type": "code",
   "execution_count": 1220,
   "metadata": {},
   "outputs": [],
   "source": [
    "X_train_specific, X_test_specific, y_train_specific, y_test_specific = train_test_split(X_specific, y_specific, test_size=0.30, random_state=42, stratify=y_specific)"
   ]
  },
  {
   "cell_type": "code",
   "execution_count": 1221,
   "metadata": {},
   "outputs": [
    {
     "data": {
      "text/plain": [
       "(32, 25)"
      ]
     },
     "execution_count": 1221,
     "metadata": {},
     "output_type": "execute_result"
    }
   ],
   "source": [
    "X_train_specific.shape"
   ]
  },
  {
   "cell_type": "code",
   "execution_count": 1222,
   "metadata": {},
   "outputs": [
    {
     "data": {
      "text/plain": [
       "(15, 25)"
      ]
     },
     "execution_count": 1222,
     "metadata": {},
     "output_type": "execute_result"
    }
   ],
   "source": [
    "X_test_specific.shape"
   ]
  },
  {
   "cell_type": "markdown",
   "metadata": {},
   "source": [
    "**Filter same absolute number from hospitals on same region**\n",
    "\n",
    "PS: Also removed GHC hospital due to very low positive cases"
   ]
  },
  {
   "cell_type": "code",
   "execution_count": 1223,
   "metadata": {},
   "outputs": [
    {
     "data": {
      "text/plain": [
       "(32, 26)"
      ]
     },
     "execution_count": 1223,
     "metadata": {},
     "output_type": "execute_result"
    }
   ],
   "source": [
    "from random import sample\n",
    "\n",
    "#Sample all hospitals except specific hospital\n",
    "df_all_hospitals_except_specific = df_all_hospitals[ (~df_all_hospitals.index.isin(X_specific.index)) &\n",
    "                                                       (df_all_hospitals.city_hospital != 'GHC_02')]\n",
    "\n",
    "#Sample all hospitals of same region of specific hospital\n",
    "df_all_hospitals_same_region = df_all_hospitals_except_specific[df_all_hospitals_except_specific.region == X_specific.region.iloc[0]]\n",
    "\n",
    "#Then, sample all hospital data with same absolute number on same region as specific hospital\n",
    "df_iacov_model_lean = df_all_hospitals_same_region.sample(X_train_specific.shape[0], random_state=42, replace=True)\n",
    "df_iacov_model_lean.shape"
   ]
  },
  {
   "cell_type": "markdown",
   "metadata": {},
   "source": [
    "If error Cannot take a larger sample than population when 'replace=False', use resample with replace"
   ]
  },
  {
   "cell_type": "code",
   "execution_count": 1224,
   "metadata": {},
   "outputs": [],
   "source": [
    "# #Then, sample all hospital data with same absolute number on same region as specific hospital\n",
    "# df_iacov_model_lean = df_all_hospitals_same_region.sample(X_train_specific.shape[0], random_state=42, replace=True)\n",
    "# df_iacov_model_lean.shape"
   ]
  },
  {
   "cell_type": "code",
   "execution_count": 1225,
   "metadata": {},
   "outputs": [
    {
     "data": {
      "text/plain": [
       "city_hospital\n",
       "HOSPSANTAJULIA_MANAUS    32\n",
       "Name: count, dtype: int64"
      ]
     },
     "execution_count": 1225,
     "metadata": {},
     "output_type": "execute_result"
    }
   ],
   "source": [
    "#Check data from same region\n",
    "df_iacov_model_lean.city_hospital.value_counts()"
   ]
  },
  {
   "cell_type": "markdown",
   "metadata": {},
   "source": [
    "**Append 70% data of specific hospital**"
   ]
  },
  {
   "cell_type": "code",
   "execution_count": 1226,
   "metadata": {},
   "outputs": [
    {
     "data": {
      "text/plain": [
       "(64, 26)"
      ]
     },
     "execution_count": 1226,
     "metadata": {},
     "output_type": "execute_result"
    }
   ],
   "source": [
    "df_iacov_model_lean = pd.concat([df_iacov_model_lean, X_train_specific], axis=0)\n",
    "df_iacov_model_lean.shape"
   ]
  },
  {
   "cell_type": "code",
   "execution_count": 1227,
   "metadata": {},
   "outputs": [
    {
     "data": {
      "text/plain": [
       "city_hospital\n",
       "HOSPSANTAJULIA_MANAUS    32\n",
       "AMAZONAS_HUGV            32\n",
       "Name: count, dtype: int64"
      ]
     },
     "execution_count": 1227,
     "metadata": {},
     "output_type": "execute_result"
    }
   ],
   "source": [
    "#Check after apending data of specific hospital\n",
    "df_iacov_model_lean.city_hospital.value_counts()"
   ]
  },
  {
   "cell_type": "code",
   "execution_count": 1228,
   "metadata": {},
   "outputs": [
    {
     "name": "stdout",
     "output_type": "stream",
     "text": [
      "Specific: AMAZONAS_HUGV\n",
      "(training - same regions - same absolute number) dataset: (64, 26)\n",
      "\n",
      "(training - specific) dataset: (32, 25)\n",
      "\n",
      "(test - specific) dataset: (15, 25)\n"
     ]
    }
   ],
   "source": [
    "print(\"Specific: \" + specific_hospital )\n",
    "print(\"(training - same regions - same absolute number) dataset: \" + str(df_iacov_model_lean.shape))\n",
    "\n",
    "print(\"\\n(training - specific) dataset: {}\".format(X_train_specific.shape))\n",
    "\n",
    "print(\"\\n(test - specific) dataset: {}\".format(X_test_specific.shape))"
   ]
  },
  {
   "cell_type": "markdown",
   "metadata": {},
   "source": [
    "### 2.1.3) Dropping unused variables (All hospitals)"
   ]
  },
  {
   "cell_type": "code",
   "execution_count": 1229,
   "metadata": {},
   "outputs": [
    {
     "data": {
      "text/plain": [
       "(64, 25)"
      ]
     },
     "execution_count": 1229,
     "metadata": {},
     "output_type": "execute_result"
    }
   ],
   "source": [
    "df_iacov_model_lean = df_iacov_model_lean.drop(['city_hospital'],axis=1)\n",
    "df_iacov_model_lean.shape"
   ]
  },
  {
   "cell_type": "code",
   "execution_count": 1230,
   "metadata": {},
   "outputs": [
    {
     "data": {
      "text/plain": [
       "mv\n",
       "0.000    57\n",
       "1.000     7\n",
       "Name: count, dtype: int64"
      ]
     },
     "execution_count": 1230,
     "metadata": {},
     "output_type": "execute_result"
    }
   ],
   "source": [
    "#Preencho NAs com 0 \n",
    "df_iacov_model_lean['icu'] = df_iacov_model_lean['icu'].fillna(0)\n",
    "df_iacov_model_lean.icu.value_counts()"
   ]
  },
  {
   "cell_type": "code",
   "execution_count": 1231,
   "metadata": {},
   "outputs": [
    {
     "data": {
      "text/plain": [
       "mv\n",
       "0.000   89.062\n",
       "1.000   10.938\n",
       "Name: count, dtype: float64"
      ]
     },
     "execution_count": 1231,
     "metadata": {},
     "output_type": "execute_result"
    }
   ],
   "source": [
    "(df_iacov_model_lean.icu.value_counts()/len(df_iacov_model_lean.icu))*100"
   ]
  },
  {
   "cell_type": "markdown",
   "metadata": {},
   "source": [
    "### From now on the outcome will call CLASS"
   ]
  },
  {
   "cell_type": "code",
   "execution_count": 1232,
   "metadata": {},
   "outputs": [],
   "source": [
    "df_iacov_model_lean['class'] = df_iacov_model_lean['icu'].astype('int')\n",
    "df_iacov_model_lean = df_iacov_model_lean.drop(['icu'],axis=1)"
   ]
  },
  {
   "cell_type": "markdown",
   "metadata": {},
   "source": [
    "### 2.1.4) Recalculating null mean_press"
   ]
  },
  {
   "cell_type": "code",
   "execution_count": 1233,
   "metadata": {},
   "outputs": [],
   "source": [
    "def isNullMeanPressure(row):\n",
    "\n",
    "    if pd.isnull(row['mean_press']):\n",
    "    \n",
    "        if pd.notnull(row['sys_press']) and pd.notnull(row['dias_press']):\n",
    "            return (row['sys_press']+row['dias_press'])/2\n",
    "        else:\n",
    "            return row['mean_press']\n",
    "    else:\n",
    "        return row['mean_press']"
   ]
  },
  {
   "cell_type": "code",
   "execution_count": 1234,
   "metadata": {},
   "outputs": [
    {
     "data": {
      "text/html": [
       "<div>\n",
       "<style scoped>\n",
       "    .dataframe tbody tr th:only-of-type {\n",
       "        vertical-align: middle;\n",
       "    }\n",
       "\n",
       "    .dataframe tbody tr th {\n",
       "        vertical-align: top;\n",
       "    }\n",
       "\n",
       "    .dataframe thead th {\n",
       "        text-align: right;\n",
       "    }\n",
       "</style>\n",
       "<table border=\"1\" class=\"dataframe\">\n",
       "  <thead>\n",
       "    <tr style=\"text-align: right;\">\n",
       "      <th></th>\n",
       "      <th>Missing Values</th>\n",
       "      <th>% missing of Total Values</th>\n",
       "      <th># Unique Values</th>\n",
       "      <th># Values as [0]</th>\n",
       "      <th>datatype</th>\n",
       "      <th>skew</th>\n",
       "      <th>count</th>\n",
       "      <th>mean</th>\n",
       "      <th>std</th>\n",
       "      <th>min</th>\n",
       "      <th>25%</th>\n",
       "      <th>50%</th>\n",
       "      <th>75%</th>\n",
       "      <th>max</th>\n",
       "    </tr>\n",
       "  </thead>\n",
       "  <tbody>\n",
       "    <tr>\n",
       "      <th>age</th>\n",
       "      <td>0</td>\n",
       "      <td>0.000</td>\n",
       "      <td>39</td>\n",
       "      <td>0</td>\n",
       "      <td>float64</td>\n",
       "      <td>-0.086</td>\n",
       "      <td>64.000</td>\n",
       "      <td>55.922</td>\n",
       "      <td>17.340</td>\n",
       "      <td>22.000</td>\n",
       "      <td>41.500</td>\n",
       "      <td>58.000</td>\n",
       "      <td>67.500</td>\n",
       "      <td>94.000</td>\n",
       "    </tr>\n",
       "    <tr>\n",
       "      <th>male</th>\n",
       "      <td>0</td>\n",
       "      <td>0.000</td>\n",
       "      <td>2</td>\n",
       "      <td>29</td>\n",
       "      <td>float64</td>\n",
       "      <td>-0.193</td>\n",
       "      <td>64.000</td>\n",
       "      <td>0.547</td>\n",
       "      <td>0.502</td>\n",
       "      <td>0.000</td>\n",
       "      <td>0.000</td>\n",
       "      <td>1.000</td>\n",
       "      <td>1.000</td>\n",
       "      <td>1.000</td>\n",
       "    </tr>\n",
       "    <tr>\n",
       "      <th>heart_rate</th>\n",
       "      <td>8</td>\n",
       "      <td>12.500</td>\n",
       "      <td>32</td>\n",
       "      <td>0</td>\n",
       "      <td>float64</td>\n",
       "      <td>1.726</td>\n",
       "      <td>56.000</td>\n",
       "      <td>87.446</td>\n",
       "      <td>19.418</td>\n",
       "      <td>57.000</td>\n",
       "      <td>75.000</td>\n",
       "      <td>84.500</td>\n",
       "      <td>95.250</td>\n",
       "      <td>172.000</td>\n",
       "    </tr>\n",
       "    <tr>\n",
       "      <th>resp_rate</th>\n",
       "      <td>16</td>\n",
       "      <td>25.000</td>\n",
       "      <td>18</td>\n",
       "      <td>0</td>\n",
       "      <td>float64</td>\n",
       "      <td>2.158</td>\n",
       "      <td>48.000</td>\n",
       "      <td>23.479</td>\n",
       "      <td>7.920</td>\n",
       "      <td>12.000</td>\n",
       "      <td>19.000</td>\n",
       "      <td>22.000</td>\n",
       "      <td>26.000</td>\n",
       "      <td>57.000</td>\n",
       "    </tr>\n",
       "    <tr>\n",
       "      <th>sys_press</th>\n",
       "      <td>9</td>\n",
       "      <td>14.062</td>\n",
       "      <td>27</td>\n",
       "      <td>0</td>\n",
       "      <td>float64</td>\n",
       "      <td>0.678</td>\n",
       "      <td>55.000</td>\n",
       "      <td>124.600</td>\n",
       "      <td>20.235</td>\n",
       "      <td>90.000</td>\n",
       "      <td>110.000</td>\n",
       "      <td>120.000</td>\n",
       "      <td>135.500</td>\n",
       "      <td>180.000</td>\n",
       "    </tr>\n",
       "    <tr>\n",
       "      <th>dias_press</th>\n",
       "      <td>9</td>\n",
       "      <td>14.062</td>\n",
       "      <td>23</td>\n",
       "      <td>0</td>\n",
       "      <td>float64</td>\n",
       "      <td>1.402</td>\n",
       "      <td>55.000</td>\n",
       "      <td>74.964</td>\n",
       "      <td>13.053</td>\n",
       "      <td>56.000</td>\n",
       "      <td>66.000</td>\n",
       "      <td>75.000</td>\n",
       "      <td>80.000</td>\n",
       "      <td>120.000</td>\n",
       "    </tr>\n",
       "    <tr>\n",
       "      <th>mean_press</th>\n",
       "      <td>10</td>\n",
       "      <td>15.625</td>\n",
       "      <td>44</td>\n",
       "      <td>0</td>\n",
       "      <td>float64</td>\n",
       "      <td>-1.730</td>\n",
       "      <td>54.000</td>\n",
       "      <td>83.065</td>\n",
       "      <td>27.516</td>\n",
       "      <td>1.033</td>\n",
       "      <td>77.573</td>\n",
       "      <td>88.995</td>\n",
       "      <td>96.566</td>\n",
       "      <td>139.980</td>\n",
       "    </tr>\n",
       "    <tr>\n",
       "      <th>temp</th>\n",
       "      <td>19</td>\n",
       "      <td>29.688</td>\n",
       "      <td>21</td>\n",
       "      <td>0</td>\n",
       "      <td>float64</td>\n",
       "      <td>-0.634</td>\n",
       "      <td>45.000</td>\n",
       "      <td>36.497</td>\n",
       "      <td>0.779</td>\n",
       "      <td>33.600</td>\n",
       "      <td>36.100</td>\n",
       "      <td>36.500</td>\n",
       "      <td>36.800</td>\n",
       "      <td>38.200</td>\n",
       "    </tr>\n",
       "    <tr>\n",
       "      <th>hemoglobin</th>\n",
       "      <td>8</td>\n",
       "      <td>12.500</td>\n",
       "      <td>47</td>\n",
       "      <td>0</td>\n",
       "      <td>float64</td>\n",
       "      <td>-0.267</td>\n",
       "      <td>56.000</td>\n",
       "      <td>10.796</td>\n",
       "      <td>2.511</td>\n",
       "      <td>4.920</td>\n",
       "      <td>8.600</td>\n",
       "      <td>11.250</td>\n",
       "      <td>13.200</td>\n",
       "      <td>15.170</td>\n",
       "    </tr>\n",
       "    <tr>\n",
       "      <th>platelets</th>\n",
       "      <td>9</td>\n",
       "      <td>14.062</td>\n",
       "      <td>50</td>\n",
       "      <td>0</td>\n",
       "      <td>float64</td>\n",
       "      <td>1.117</td>\n",
       "      <td>55.000</td>\n",
       "      <td>255597.091</td>\n",
       "      <td>161086.459</td>\n",
       "      <td>28300.000</td>\n",
       "      <td>152750.000</td>\n",
       "      <td>202600.000</td>\n",
       "      <td>330700.000</td>\n",
       "      <td>724000.000</td>\n",
       "    </tr>\n",
       "    <tr>\n",
       "      <th>hematocrit</th>\n",
       "      <td>8</td>\n",
       "      <td>12.500</td>\n",
       "      <td>52</td>\n",
       "      <td>0</td>\n",
       "      <td>float64</td>\n",
       "      <td>-0.231</td>\n",
       "      <td>56.000</td>\n",
       "      <td>33.450</td>\n",
       "      <td>7.000</td>\n",
       "      <td>20.100</td>\n",
       "      <td>27.768</td>\n",
       "      <td>34.600</td>\n",
       "      <td>39.742</td>\n",
       "      <td>44.200</td>\n",
       "    </tr>\n",
       "    <tr>\n",
       "      <th>red_cells_count</th>\n",
       "      <td>8</td>\n",
       "      <td>12.500</td>\n",
       "      <td>51</td>\n",
       "      <td>0</td>\n",
       "      <td>float64</td>\n",
       "      <td>-0.281</td>\n",
       "      <td>56.000</td>\n",
       "      <td>3.883</td>\n",
       "      <td>0.802</td>\n",
       "      <td>2.390</td>\n",
       "      <td>3.337</td>\n",
       "      <td>4.015</td>\n",
       "      <td>4.558</td>\n",
       "      <td>5.110</td>\n",
       "    </tr>\n",
       "    <tr>\n",
       "      <th>hcm</th>\n",
       "      <td>9</td>\n",
       "      <td>14.062</td>\n",
       "      <td>48</td>\n",
       "      <td>0</td>\n",
       "      <td>float64</td>\n",
       "      <td>-0.611</td>\n",
       "      <td>55.000</td>\n",
       "      <td>28.010</td>\n",
       "      <td>3.084</td>\n",
       "      <td>14.900</td>\n",
       "      <td>26.725</td>\n",
       "      <td>28.070</td>\n",
       "      <td>29.205</td>\n",
       "      <td>39.690</td>\n",
       "    </tr>\n",
       "    <tr>\n",
       "      <th>rdw</th>\n",
       "      <td>8</td>\n",
       "      <td>12.500</td>\n",
       "      <td>43</td>\n",
       "      <td>0</td>\n",
       "      <td>float64</td>\n",
       "      <td>0.612</td>\n",
       "      <td>56.000</td>\n",
       "      <td>13.479</td>\n",
       "      <td>1.617</td>\n",
       "      <td>10.740</td>\n",
       "      <td>12.300</td>\n",
       "      <td>13.250</td>\n",
       "      <td>14.350</td>\n",
       "      <td>17.830</td>\n",
       "    </tr>\n",
       "    <tr>\n",
       "      <th>mcv</th>\n",
       "      <td>8</td>\n",
       "      <td>12.500</td>\n",
       "      <td>51</td>\n",
       "      <td>0</td>\n",
       "      <td>float64</td>\n",
       "      <td>1.677</td>\n",
       "      <td>56.000</td>\n",
       "      <td>86.330</td>\n",
       "      <td>7.023</td>\n",
       "      <td>67.130</td>\n",
       "      <td>83.140</td>\n",
       "      <td>85.520</td>\n",
       "      <td>88.300</td>\n",
       "      <td>119.470</td>\n",
       "    </tr>\n",
       "    <tr>\n",
       "      <th>leukocytes</th>\n",
       "      <td>8</td>\n",
       "      <td>12.500</td>\n",
       "      <td>53</td>\n",
       "      <td>0</td>\n",
       "      <td>float64</td>\n",
       "      <td>0.924</td>\n",
       "      <td>56.000</td>\n",
       "      <td>9035.571</td>\n",
       "      <td>6892.513</td>\n",
       "      <td>102.000</td>\n",
       "      <td>4307.250</td>\n",
       "      <td>8053.000</td>\n",
       "      <td>12647.500</td>\n",
       "      <td>31220.000</td>\n",
       "    </tr>\n",
       "    <tr>\n",
       "      <th>neutrophil</th>\n",
       "      <td>8</td>\n",
       "      <td>12.500</td>\n",
       "      <td>48</td>\n",
       "      <td>0</td>\n",
       "      <td>float64</td>\n",
       "      <td>1.824</td>\n",
       "      <td>56.000</td>\n",
       "      <td>9576.911</td>\n",
       "      <td>5087.782</td>\n",
       "      <td>2645.000</td>\n",
       "      <td>7075.000</td>\n",
       "      <td>8250.000</td>\n",
       "      <td>10807.000</td>\n",
       "      <td>29215.000</td>\n",
       "    </tr>\n",
       "    <tr>\n",
       "      <th>lymphocytes</th>\n",
       "      <td>8</td>\n",
       "      <td>12.500</td>\n",
       "      <td>45</td>\n",
       "      <td>0</td>\n",
       "      <td>float64</td>\n",
       "      <td>2.097</td>\n",
       "      <td>56.000</td>\n",
       "      <td>1134.196</td>\n",
       "      <td>779.214</td>\n",
       "      <td>142.000</td>\n",
       "      <td>601.000</td>\n",
       "      <td>1000.000</td>\n",
       "      <td>1403.000</td>\n",
       "      <td>4600.000</td>\n",
       "    </tr>\n",
       "    <tr>\n",
       "      <th>basophils</th>\n",
       "      <td>33</td>\n",
       "      <td>51.562</td>\n",
       "      <td>29</td>\n",
       "      <td>0</td>\n",
       "      <td>float64</td>\n",
       "      <td>2.811</td>\n",
       "      <td>31.000</td>\n",
       "      <td>57.903</td>\n",
       "      <td>45.318</td>\n",
       "      <td>11.000</td>\n",
       "      <td>30.500</td>\n",
       "      <td>50.000</td>\n",
       "      <td>69.500</td>\n",
       "      <td>253.000</td>\n",
       "    </tr>\n",
       "    <tr>\n",
       "      <th>eosinophils</th>\n",
       "      <td>9</td>\n",
       "      <td>14.062</td>\n",
       "      <td>22</td>\n",
       "      <td>2</td>\n",
       "      <td>float64</td>\n",
       "      <td>4.013</td>\n",
       "      <td>55.000</td>\n",
       "      <td>47.873</td>\n",
       "      <td>125.418</td>\n",
       "      <td>0.000</td>\n",
       "      <td>1.000</td>\n",
       "      <td>3.000</td>\n",
       "      <td>12.000</td>\n",
       "      <td>750.000</td>\n",
       "    </tr>\n",
       "    <tr>\n",
       "      <th>monocytes</th>\n",
       "      <td>9</td>\n",
       "      <td>14.062</td>\n",
       "      <td>41</td>\n",
       "      <td>0</td>\n",
       "      <td>float64</td>\n",
       "      <td>0.472</td>\n",
       "      <td>55.000</td>\n",
       "      <td>673.145</td>\n",
       "      <td>320.633</td>\n",
       "      <td>73.000</td>\n",
       "      <td>426.000</td>\n",
       "      <td>651.000</td>\n",
       "      <td>893.500</td>\n",
       "      <td>1500.000</td>\n",
       "    </tr>\n",
       "    <tr>\n",
       "      <th>crp</th>\n",
       "      <td>20</td>\n",
       "      <td>31.250</td>\n",
       "      <td>41</td>\n",
       "      <td>0</td>\n",
       "      <td>float64</td>\n",
       "      <td>0.642</td>\n",
       "      <td>44.000</td>\n",
       "      <td>86.709</td>\n",
       "      <td>93.545</td>\n",
       "      <td>0.100</td>\n",
       "      <td>6.875</td>\n",
       "      <td>26.000</td>\n",
       "      <td>193.275</td>\n",
       "      <td>272.200</td>\n",
       "    </tr>\n",
       "    <tr>\n",
       "      <th>region</th>\n",
       "      <td>0</td>\n",
       "      <td>0.000</td>\n",
       "      <td>1</td>\n",
       "      <td>0</td>\n",
       "      <td>object</td>\n",
       "      <td>NaN</td>\n",
       "      <td>NaN</td>\n",
       "      <td>NaN</td>\n",
       "      <td>NaN</td>\n",
       "      <td>NaN</td>\n",
       "      <td>NaN</td>\n",
       "      <td>NaN</td>\n",
       "      <td>NaN</td>\n",
       "      <td>NaN</td>\n",
       "    </tr>\n",
       "    <tr>\n",
       "      <th>state</th>\n",
       "      <td>0</td>\n",
       "      <td>0.000</td>\n",
       "      <td>1</td>\n",
       "      <td>0</td>\n",
       "      <td>object</td>\n",
       "      <td>NaN</td>\n",
       "      <td>NaN</td>\n",
       "      <td>NaN</td>\n",
       "      <td>NaN</td>\n",
       "      <td>NaN</td>\n",
       "      <td>NaN</td>\n",
       "      <td>NaN</td>\n",
       "      <td>NaN</td>\n",
       "      <td>NaN</td>\n",
       "    </tr>\n",
       "    <tr>\n",
       "      <th>class</th>\n",
       "      <td>0</td>\n",
       "      <td>0.000</td>\n",
       "      <td>2</td>\n",
       "      <td>57</td>\n",
       "      <td>int32</td>\n",
       "      <td>2.564</td>\n",
       "      <td>64.000</td>\n",
       "      <td>0.109</td>\n",
       "      <td>0.315</td>\n",
       "      <td>0.000</td>\n",
       "      <td>0.000</td>\n",
       "      <td>0.000</td>\n",
       "      <td>0.000</td>\n",
       "      <td>1.000</td>\n",
       "    </tr>\n",
       "  </tbody>\n",
       "</table>\n",
       "</div>"
      ],
      "text/plain": [
       "                 Missing Values  % missing of Total Values  # Unique Values  \\\n",
       "age                           0                      0.000               39   \n",
       "male                          0                      0.000                2   \n",
       "heart_rate                    8                     12.500               32   \n",
       "resp_rate                    16                     25.000               18   \n",
       "sys_press                     9                     14.062               27   \n",
       "dias_press                    9                     14.062               23   \n",
       "mean_press                   10                     15.625               44   \n",
       "temp                         19                     29.688               21   \n",
       "hemoglobin                    8                     12.500               47   \n",
       "platelets                     9                     14.062               50   \n",
       "hematocrit                    8                     12.500               52   \n",
       "red_cells_count               8                     12.500               51   \n",
       "hcm                           9                     14.062               48   \n",
       "rdw                           8                     12.500               43   \n",
       "mcv                           8                     12.500               51   \n",
       "leukocytes                    8                     12.500               53   \n",
       "neutrophil                    8                     12.500               48   \n",
       "lymphocytes                   8                     12.500               45   \n",
       "basophils                    33                     51.562               29   \n",
       "eosinophils                   9                     14.062               22   \n",
       "monocytes                     9                     14.062               41   \n",
       "crp                          20                     31.250               41   \n",
       "region                        0                      0.000                1   \n",
       "state                         0                      0.000                1   \n",
       "class                         0                      0.000                2   \n",
       "\n",
       "                 # Values as [0] datatype   skew  count       mean        std  \\\n",
       "age                            0  float64 -0.086 64.000     55.922     17.340   \n",
       "male                          29  float64 -0.193 64.000      0.547      0.502   \n",
       "heart_rate                     0  float64  1.726 56.000     87.446     19.418   \n",
       "resp_rate                      0  float64  2.158 48.000     23.479      7.920   \n",
       "sys_press                      0  float64  0.678 55.000    124.600     20.235   \n",
       "dias_press                     0  float64  1.402 55.000     74.964     13.053   \n",
       "mean_press                     0  float64 -1.730 54.000     83.065     27.516   \n",
       "temp                           0  float64 -0.634 45.000     36.497      0.779   \n",
       "hemoglobin                     0  float64 -0.267 56.000     10.796      2.511   \n",
       "platelets                      0  float64  1.117 55.000 255597.091 161086.459   \n",
       "hematocrit                     0  float64 -0.231 56.000     33.450      7.000   \n",
       "red_cells_count                0  float64 -0.281 56.000      3.883      0.802   \n",
       "hcm                            0  float64 -0.611 55.000     28.010      3.084   \n",
       "rdw                            0  float64  0.612 56.000     13.479      1.617   \n",
       "mcv                            0  float64  1.677 56.000     86.330      7.023   \n",
       "leukocytes                     0  float64  0.924 56.000   9035.571   6892.513   \n",
       "neutrophil                     0  float64  1.824 56.000   9576.911   5087.782   \n",
       "lymphocytes                    0  float64  2.097 56.000   1134.196    779.214   \n",
       "basophils                      0  float64  2.811 31.000     57.903     45.318   \n",
       "eosinophils                    2  float64  4.013 55.000     47.873    125.418   \n",
       "monocytes                      0  float64  0.472 55.000    673.145    320.633   \n",
       "crp                            0  float64  0.642 44.000     86.709     93.545   \n",
       "region                         0   object    NaN    NaN        NaN        NaN   \n",
       "state                          0   object    NaN    NaN        NaN        NaN   \n",
       "class                         57    int32  2.564 64.000      0.109      0.315   \n",
       "\n",
       "                      min        25%        50%        75%        max  \n",
       "age                22.000     41.500     58.000     67.500     94.000  \n",
       "male                0.000      0.000      1.000      1.000      1.000  \n",
       "heart_rate         57.000     75.000     84.500     95.250    172.000  \n",
       "resp_rate          12.000     19.000     22.000     26.000     57.000  \n",
       "sys_press          90.000    110.000    120.000    135.500    180.000  \n",
       "dias_press         56.000     66.000     75.000     80.000    120.000  \n",
       "mean_press          1.033     77.573     88.995     96.566    139.980  \n",
       "temp               33.600     36.100     36.500     36.800     38.200  \n",
       "hemoglobin          4.920      8.600     11.250     13.200     15.170  \n",
       "platelets       28300.000 152750.000 202600.000 330700.000 724000.000  \n",
       "hematocrit         20.100     27.768     34.600     39.742     44.200  \n",
       "red_cells_count     2.390      3.337      4.015      4.558      5.110  \n",
       "hcm                14.900     26.725     28.070     29.205     39.690  \n",
       "rdw                10.740     12.300     13.250     14.350     17.830  \n",
       "mcv                67.130     83.140     85.520     88.300    119.470  \n",
       "leukocytes        102.000   4307.250   8053.000  12647.500  31220.000  \n",
       "neutrophil       2645.000   7075.000   8250.000  10807.000  29215.000  \n",
       "lymphocytes       142.000    601.000   1000.000   1403.000   4600.000  \n",
       "basophils          11.000     30.500     50.000     69.500    253.000  \n",
       "eosinophils         0.000      1.000      3.000     12.000    750.000  \n",
       "monocytes          73.000    426.000    651.000    893.500   1500.000  \n",
       "crp                 0.100      6.875     26.000    193.275    272.200  \n",
       "region                NaN        NaN        NaN        NaN        NaN  \n",
       "state                 NaN        NaN        NaN        NaN        NaN  \n",
       "class               0.000      0.000      0.000      0.000      1.000  "
      ]
     },
     "execution_count": 1234,
     "metadata": {},
     "output_type": "execute_result"
    }
   ],
   "source": [
    "#Check mean_press missing before recalculating\n",
    "column_summaries(df_iacov_model_lean)"
   ]
  },
  {
   "cell_type": "code",
   "execution_count": 1235,
   "metadata": {},
   "outputs": [],
   "source": [
    "df_iacov_model_lean['mean_press'] = df_iacov_model_lean.apply(isNullMeanPressure, axis=1)"
   ]
  },
  {
   "cell_type": "code",
   "execution_count": 1236,
   "metadata": {},
   "outputs": [
    {
     "data": {
      "text/html": [
       "<div>\n",
       "<style scoped>\n",
       "    .dataframe tbody tr th:only-of-type {\n",
       "        vertical-align: middle;\n",
       "    }\n",
       "\n",
       "    .dataframe tbody tr th {\n",
       "        vertical-align: top;\n",
       "    }\n",
       "\n",
       "    .dataframe thead th {\n",
       "        text-align: right;\n",
       "    }\n",
       "</style>\n",
       "<table border=\"1\" class=\"dataframe\">\n",
       "  <thead>\n",
       "    <tr style=\"text-align: right;\">\n",
       "      <th></th>\n",
       "      <th>Missing Values</th>\n",
       "      <th>% missing of Total Values</th>\n",
       "      <th># Unique Values</th>\n",
       "      <th># Values as [0]</th>\n",
       "      <th>datatype</th>\n",
       "      <th>skew</th>\n",
       "      <th>count</th>\n",
       "      <th>mean</th>\n",
       "      <th>std</th>\n",
       "      <th>min</th>\n",
       "      <th>25%</th>\n",
       "      <th>50%</th>\n",
       "      <th>75%</th>\n",
       "      <th>max</th>\n",
       "    </tr>\n",
       "  </thead>\n",
       "  <tbody>\n",
       "    <tr>\n",
       "      <th>age</th>\n",
       "      <td>0</td>\n",
       "      <td>0.000</td>\n",
       "      <td>39</td>\n",
       "      <td>0</td>\n",
       "      <td>float64</td>\n",
       "      <td>-0.086</td>\n",
       "      <td>64.000</td>\n",
       "      <td>55.922</td>\n",
       "      <td>17.340</td>\n",
       "      <td>22.000</td>\n",
       "      <td>41.500</td>\n",
       "      <td>58.000</td>\n",
       "      <td>67.500</td>\n",
       "      <td>94.000</td>\n",
       "    </tr>\n",
       "    <tr>\n",
       "      <th>male</th>\n",
       "      <td>0</td>\n",
       "      <td>0.000</td>\n",
       "      <td>2</td>\n",
       "      <td>29</td>\n",
       "      <td>float64</td>\n",
       "      <td>-0.193</td>\n",
       "      <td>64.000</td>\n",
       "      <td>0.547</td>\n",
       "      <td>0.502</td>\n",
       "      <td>0.000</td>\n",
       "      <td>0.000</td>\n",
       "      <td>1.000</td>\n",
       "      <td>1.000</td>\n",
       "      <td>1.000</td>\n",
       "    </tr>\n",
       "    <tr>\n",
       "      <th>heart_rate</th>\n",
       "      <td>8</td>\n",
       "      <td>12.500</td>\n",
       "      <td>32</td>\n",
       "      <td>0</td>\n",
       "      <td>float64</td>\n",
       "      <td>1.726</td>\n",
       "      <td>56.000</td>\n",
       "      <td>87.446</td>\n",
       "      <td>19.418</td>\n",
       "      <td>57.000</td>\n",
       "      <td>75.000</td>\n",
       "      <td>84.500</td>\n",
       "      <td>95.250</td>\n",
       "      <td>172.000</td>\n",
       "    </tr>\n",
       "    <tr>\n",
       "      <th>resp_rate</th>\n",
       "      <td>16</td>\n",
       "      <td>25.000</td>\n",
       "      <td>18</td>\n",
       "      <td>0</td>\n",
       "      <td>float64</td>\n",
       "      <td>2.158</td>\n",
       "      <td>48.000</td>\n",
       "      <td>23.479</td>\n",
       "      <td>7.920</td>\n",
       "      <td>12.000</td>\n",
       "      <td>19.000</td>\n",
       "      <td>22.000</td>\n",
       "      <td>26.000</td>\n",
       "      <td>57.000</td>\n",
       "    </tr>\n",
       "    <tr>\n",
       "      <th>sys_press</th>\n",
       "      <td>9</td>\n",
       "      <td>14.062</td>\n",
       "      <td>27</td>\n",
       "      <td>0</td>\n",
       "      <td>float64</td>\n",
       "      <td>0.678</td>\n",
       "      <td>55.000</td>\n",
       "      <td>124.600</td>\n",
       "      <td>20.235</td>\n",
       "      <td>90.000</td>\n",
       "      <td>110.000</td>\n",
       "      <td>120.000</td>\n",
       "      <td>135.500</td>\n",
       "      <td>180.000</td>\n",
       "    </tr>\n",
       "    <tr>\n",
       "      <th>dias_press</th>\n",
       "      <td>9</td>\n",
       "      <td>14.062</td>\n",
       "      <td>23</td>\n",
       "      <td>0</td>\n",
       "      <td>float64</td>\n",
       "      <td>1.402</td>\n",
       "      <td>55.000</td>\n",
       "      <td>74.964</td>\n",
       "      <td>13.053</td>\n",
       "      <td>56.000</td>\n",
       "      <td>66.000</td>\n",
       "      <td>75.000</td>\n",
       "      <td>80.000</td>\n",
       "      <td>120.000</td>\n",
       "    </tr>\n",
       "    <tr>\n",
       "      <th>mean_press</th>\n",
       "      <td>9</td>\n",
       "      <td>14.062</td>\n",
       "      <td>45</td>\n",
       "      <td>0</td>\n",
       "      <td>float64</td>\n",
       "      <td>-1.618</td>\n",
       "      <td>55.000</td>\n",
       "      <td>83.919</td>\n",
       "      <td>27.985</td>\n",
       "      <td>1.033</td>\n",
       "      <td>77.820</td>\n",
       "      <td>89.990</td>\n",
       "      <td>96.675</td>\n",
       "      <td>139.980</td>\n",
       "    </tr>\n",
       "    <tr>\n",
       "      <th>temp</th>\n",
       "      <td>19</td>\n",
       "      <td>29.688</td>\n",
       "      <td>21</td>\n",
       "      <td>0</td>\n",
       "      <td>float64</td>\n",
       "      <td>-0.634</td>\n",
       "      <td>45.000</td>\n",
       "      <td>36.497</td>\n",
       "      <td>0.779</td>\n",
       "      <td>33.600</td>\n",
       "      <td>36.100</td>\n",
       "      <td>36.500</td>\n",
       "      <td>36.800</td>\n",
       "      <td>38.200</td>\n",
       "    </tr>\n",
       "    <tr>\n",
       "      <th>hemoglobin</th>\n",
       "      <td>8</td>\n",
       "      <td>12.500</td>\n",
       "      <td>47</td>\n",
       "      <td>0</td>\n",
       "      <td>float64</td>\n",
       "      <td>-0.267</td>\n",
       "      <td>56.000</td>\n",
       "      <td>10.796</td>\n",
       "      <td>2.511</td>\n",
       "      <td>4.920</td>\n",
       "      <td>8.600</td>\n",
       "      <td>11.250</td>\n",
       "      <td>13.200</td>\n",
       "      <td>15.170</td>\n",
       "    </tr>\n",
       "    <tr>\n",
       "      <th>platelets</th>\n",
       "      <td>9</td>\n",
       "      <td>14.062</td>\n",
       "      <td>50</td>\n",
       "      <td>0</td>\n",
       "      <td>float64</td>\n",
       "      <td>1.117</td>\n",
       "      <td>55.000</td>\n",
       "      <td>255597.091</td>\n",
       "      <td>161086.459</td>\n",
       "      <td>28300.000</td>\n",
       "      <td>152750.000</td>\n",
       "      <td>202600.000</td>\n",
       "      <td>330700.000</td>\n",
       "      <td>724000.000</td>\n",
       "    </tr>\n",
       "    <tr>\n",
       "      <th>hematocrit</th>\n",
       "      <td>8</td>\n",
       "      <td>12.500</td>\n",
       "      <td>52</td>\n",
       "      <td>0</td>\n",
       "      <td>float64</td>\n",
       "      <td>-0.231</td>\n",
       "      <td>56.000</td>\n",
       "      <td>33.450</td>\n",
       "      <td>7.000</td>\n",
       "      <td>20.100</td>\n",
       "      <td>27.768</td>\n",
       "      <td>34.600</td>\n",
       "      <td>39.742</td>\n",
       "      <td>44.200</td>\n",
       "    </tr>\n",
       "    <tr>\n",
       "      <th>red_cells_count</th>\n",
       "      <td>8</td>\n",
       "      <td>12.500</td>\n",
       "      <td>51</td>\n",
       "      <td>0</td>\n",
       "      <td>float64</td>\n",
       "      <td>-0.281</td>\n",
       "      <td>56.000</td>\n",
       "      <td>3.883</td>\n",
       "      <td>0.802</td>\n",
       "      <td>2.390</td>\n",
       "      <td>3.337</td>\n",
       "      <td>4.015</td>\n",
       "      <td>4.558</td>\n",
       "      <td>5.110</td>\n",
       "    </tr>\n",
       "    <tr>\n",
       "      <th>hcm</th>\n",
       "      <td>9</td>\n",
       "      <td>14.062</td>\n",
       "      <td>48</td>\n",
       "      <td>0</td>\n",
       "      <td>float64</td>\n",
       "      <td>-0.611</td>\n",
       "      <td>55.000</td>\n",
       "      <td>28.010</td>\n",
       "      <td>3.084</td>\n",
       "      <td>14.900</td>\n",
       "      <td>26.725</td>\n",
       "      <td>28.070</td>\n",
       "      <td>29.205</td>\n",
       "      <td>39.690</td>\n",
       "    </tr>\n",
       "    <tr>\n",
       "      <th>rdw</th>\n",
       "      <td>8</td>\n",
       "      <td>12.500</td>\n",
       "      <td>43</td>\n",
       "      <td>0</td>\n",
       "      <td>float64</td>\n",
       "      <td>0.612</td>\n",
       "      <td>56.000</td>\n",
       "      <td>13.479</td>\n",
       "      <td>1.617</td>\n",
       "      <td>10.740</td>\n",
       "      <td>12.300</td>\n",
       "      <td>13.250</td>\n",
       "      <td>14.350</td>\n",
       "      <td>17.830</td>\n",
       "    </tr>\n",
       "    <tr>\n",
       "      <th>mcv</th>\n",
       "      <td>8</td>\n",
       "      <td>12.500</td>\n",
       "      <td>51</td>\n",
       "      <td>0</td>\n",
       "      <td>float64</td>\n",
       "      <td>1.677</td>\n",
       "      <td>56.000</td>\n",
       "      <td>86.330</td>\n",
       "      <td>7.023</td>\n",
       "      <td>67.130</td>\n",
       "      <td>83.140</td>\n",
       "      <td>85.520</td>\n",
       "      <td>88.300</td>\n",
       "      <td>119.470</td>\n",
       "    </tr>\n",
       "    <tr>\n",
       "      <th>leukocytes</th>\n",
       "      <td>8</td>\n",
       "      <td>12.500</td>\n",
       "      <td>53</td>\n",
       "      <td>0</td>\n",
       "      <td>float64</td>\n",
       "      <td>0.924</td>\n",
       "      <td>56.000</td>\n",
       "      <td>9035.571</td>\n",
       "      <td>6892.513</td>\n",
       "      <td>102.000</td>\n",
       "      <td>4307.250</td>\n",
       "      <td>8053.000</td>\n",
       "      <td>12647.500</td>\n",
       "      <td>31220.000</td>\n",
       "    </tr>\n",
       "    <tr>\n",
       "      <th>neutrophil</th>\n",
       "      <td>8</td>\n",
       "      <td>12.500</td>\n",
       "      <td>48</td>\n",
       "      <td>0</td>\n",
       "      <td>float64</td>\n",
       "      <td>1.824</td>\n",
       "      <td>56.000</td>\n",
       "      <td>9576.911</td>\n",
       "      <td>5087.782</td>\n",
       "      <td>2645.000</td>\n",
       "      <td>7075.000</td>\n",
       "      <td>8250.000</td>\n",
       "      <td>10807.000</td>\n",
       "      <td>29215.000</td>\n",
       "    </tr>\n",
       "    <tr>\n",
       "      <th>lymphocytes</th>\n",
       "      <td>8</td>\n",
       "      <td>12.500</td>\n",
       "      <td>45</td>\n",
       "      <td>0</td>\n",
       "      <td>float64</td>\n",
       "      <td>2.097</td>\n",
       "      <td>56.000</td>\n",
       "      <td>1134.196</td>\n",
       "      <td>779.214</td>\n",
       "      <td>142.000</td>\n",
       "      <td>601.000</td>\n",
       "      <td>1000.000</td>\n",
       "      <td>1403.000</td>\n",
       "      <td>4600.000</td>\n",
       "    </tr>\n",
       "    <tr>\n",
       "      <th>basophils</th>\n",
       "      <td>33</td>\n",
       "      <td>51.562</td>\n",
       "      <td>29</td>\n",
       "      <td>0</td>\n",
       "      <td>float64</td>\n",
       "      <td>2.811</td>\n",
       "      <td>31.000</td>\n",
       "      <td>57.903</td>\n",
       "      <td>45.318</td>\n",
       "      <td>11.000</td>\n",
       "      <td>30.500</td>\n",
       "      <td>50.000</td>\n",
       "      <td>69.500</td>\n",
       "      <td>253.000</td>\n",
       "    </tr>\n",
       "    <tr>\n",
       "      <th>eosinophils</th>\n",
       "      <td>9</td>\n",
       "      <td>14.062</td>\n",
       "      <td>22</td>\n",
       "      <td>2</td>\n",
       "      <td>float64</td>\n",
       "      <td>4.013</td>\n",
       "      <td>55.000</td>\n",
       "      <td>47.873</td>\n",
       "      <td>125.418</td>\n",
       "      <td>0.000</td>\n",
       "      <td>1.000</td>\n",
       "      <td>3.000</td>\n",
       "      <td>12.000</td>\n",
       "      <td>750.000</td>\n",
       "    </tr>\n",
       "    <tr>\n",
       "      <th>monocytes</th>\n",
       "      <td>9</td>\n",
       "      <td>14.062</td>\n",
       "      <td>41</td>\n",
       "      <td>0</td>\n",
       "      <td>float64</td>\n",
       "      <td>0.472</td>\n",
       "      <td>55.000</td>\n",
       "      <td>673.145</td>\n",
       "      <td>320.633</td>\n",
       "      <td>73.000</td>\n",
       "      <td>426.000</td>\n",
       "      <td>651.000</td>\n",
       "      <td>893.500</td>\n",
       "      <td>1500.000</td>\n",
       "    </tr>\n",
       "    <tr>\n",
       "      <th>crp</th>\n",
       "      <td>20</td>\n",
       "      <td>31.250</td>\n",
       "      <td>41</td>\n",
       "      <td>0</td>\n",
       "      <td>float64</td>\n",
       "      <td>0.642</td>\n",
       "      <td>44.000</td>\n",
       "      <td>86.709</td>\n",
       "      <td>93.545</td>\n",
       "      <td>0.100</td>\n",
       "      <td>6.875</td>\n",
       "      <td>26.000</td>\n",
       "      <td>193.275</td>\n",
       "      <td>272.200</td>\n",
       "    </tr>\n",
       "    <tr>\n",
       "      <th>region</th>\n",
       "      <td>0</td>\n",
       "      <td>0.000</td>\n",
       "      <td>1</td>\n",
       "      <td>0</td>\n",
       "      <td>object</td>\n",
       "      <td>NaN</td>\n",
       "      <td>NaN</td>\n",
       "      <td>NaN</td>\n",
       "      <td>NaN</td>\n",
       "      <td>NaN</td>\n",
       "      <td>NaN</td>\n",
       "      <td>NaN</td>\n",
       "      <td>NaN</td>\n",
       "      <td>NaN</td>\n",
       "    </tr>\n",
       "    <tr>\n",
       "      <th>state</th>\n",
       "      <td>0</td>\n",
       "      <td>0.000</td>\n",
       "      <td>1</td>\n",
       "      <td>0</td>\n",
       "      <td>object</td>\n",
       "      <td>NaN</td>\n",
       "      <td>NaN</td>\n",
       "      <td>NaN</td>\n",
       "      <td>NaN</td>\n",
       "      <td>NaN</td>\n",
       "      <td>NaN</td>\n",
       "      <td>NaN</td>\n",
       "      <td>NaN</td>\n",
       "      <td>NaN</td>\n",
       "    </tr>\n",
       "    <tr>\n",
       "      <th>class</th>\n",
       "      <td>0</td>\n",
       "      <td>0.000</td>\n",
       "      <td>2</td>\n",
       "      <td>57</td>\n",
       "      <td>int32</td>\n",
       "      <td>2.564</td>\n",
       "      <td>64.000</td>\n",
       "      <td>0.109</td>\n",
       "      <td>0.315</td>\n",
       "      <td>0.000</td>\n",
       "      <td>0.000</td>\n",
       "      <td>0.000</td>\n",
       "      <td>0.000</td>\n",
       "      <td>1.000</td>\n",
       "    </tr>\n",
       "  </tbody>\n",
       "</table>\n",
       "</div>"
      ],
      "text/plain": [
       "                 Missing Values  % missing of Total Values  # Unique Values  \\\n",
       "age                           0                      0.000               39   \n",
       "male                          0                      0.000                2   \n",
       "heart_rate                    8                     12.500               32   \n",
       "resp_rate                    16                     25.000               18   \n",
       "sys_press                     9                     14.062               27   \n",
       "dias_press                    9                     14.062               23   \n",
       "mean_press                    9                     14.062               45   \n",
       "temp                         19                     29.688               21   \n",
       "hemoglobin                    8                     12.500               47   \n",
       "platelets                     9                     14.062               50   \n",
       "hematocrit                    8                     12.500               52   \n",
       "red_cells_count               8                     12.500               51   \n",
       "hcm                           9                     14.062               48   \n",
       "rdw                           8                     12.500               43   \n",
       "mcv                           8                     12.500               51   \n",
       "leukocytes                    8                     12.500               53   \n",
       "neutrophil                    8                     12.500               48   \n",
       "lymphocytes                   8                     12.500               45   \n",
       "basophils                    33                     51.562               29   \n",
       "eosinophils                   9                     14.062               22   \n",
       "monocytes                     9                     14.062               41   \n",
       "crp                          20                     31.250               41   \n",
       "region                        0                      0.000                1   \n",
       "state                         0                      0.000                1   \n",
       "class                         0                      0.000                2   \n",
       "\n",
       "                 # Values as [0] datatype   skew  count       mean        std  \\\n",
       "age                            0  float64 -0.086 64.000     55.922     17.340   \n",
       "male                          29  float64 -0.193 64.000      0.547      0.502   \n",
       "heart_rate                     0  float64  1.726 56.000     87.446     19.418   \n",
       "resp_rate                      0  float64  2.158 48.000     23.479      7.920   \n",
       "sys_press                      0  float64  0.678 55.000    124.600     20.235   \n",
       "dias_press                     0  float64  1.402 55.000     74.964     13.053   \n",
       "mean_press                     0  float64 -1.618 55.000     83.919     27.985   \n",
       "temp                           0  float64 -0.634 45.000     36.497      0.779   \n",
       "hemoglobin                     0  float64 -0.267 56.000     10.796      2.511   \n",
       "platelets                      0  float64  1.117 55.000 255597.091 161086.459   \n",
       "hematocrit                     0  float64 -0.231 56.000     33.450      7.000   \n",
       "red_cells_count                0  float64 -0.281 56.000      3.883      0.802   \n",
       "hcm                            0  float64 -0.611 55.000     28.010      3.084   \n",
       "rdw                            0  float64  0.612 56.000     13.479      1.617   \n",
       "mcv                            0  float64  1.677 56.000     86.330      7.023   \n",
       "leukocytes                     0  float64  0.924 56.000   9035.571   6892.513   \n",
       "neutrophil                     0  float64  1.824 56.000   9576.911   5087.782   \n",
       "lymphocytes                    0  float64  2.097 56.000   1134.196    779.214   \n",
       "basophils                      0  float64  2.811 31.000     57.903     45.318   \n",
       "eosinophils                    2  float64  4.013 55.000     47.873    125.418   \n",
       "monocytes                      0  float64  0.472 55.000    673.145    320.633   \n",
       "crp                            0  float64  0.642 44.000     86.709     93.545   \n",
       "region                         0   object    NaN    NaN        NaN        NaN   \n",
       "state                          0   object    NaN    NaN        NaN        NaN   \n",
       "class                         57    int32  2.564 64.000      0.109      0.315   \n",
       "\n",
       "                      min        25%        50%        75%        max  \n",
       "age                22.000     41.500     58.000     67.500     94.000  \n",
       "male                0.000      0.000      1.000      1.000      1.000  \n",
       "heart_rate         57.000     75.000     84.500     95.250    172.000  \n",
       "resp_rate          12.000     19.000     22.000     26.000     57.000  \n",
       "sys_press          90.000    110.000    120.000    135.500    180.000  \n",
       "dias_press         56.000     66.000     75.000     80.000    120.000  \n",
       "mean_press          1.033     77.820     89.990     96.675    139.980  \n",
       "temp               33.600     36.100     36.500     36.800     38.200  \n",
       "hemoglobin          4.920      8.600     11.250     13.200     15.170  \n",
       "platelets       28300.000 152750.000 202600.000 330700.000 724000.000  \n",
       "hematocrit         20.100     27.768     34.600     39.742     44.200  \n",
       "red_cells_count     2.390      3.337      4.015      4.558      5.110  \n",
       "hcm                14.900     26.725     28.070     29.205     39.690  \n",
       "rdw                10.740     12.300     13.250     14.350     17.830  \n",
       "mcv                67.130     83.140     85.520     88.300    119.470  \n",
       "leukocytes        102.000   4307.250   8053.000  12647.500  31220.000  \n",
       "neutrophil       2645.000   7075.000   8250.000  10807.000  29215.000  \n",
       "lymphocytes       142.000    601.000   1000.000   1403.000   4600.000  \n",
       "basophils          11.000     30.500     50.000     69.500    253.000  \n",
       "eosinophils         0.000      1.000      3.000     12.000    750.000  \n",
       "monocytes          73.000    426.000    651.000    893.500   1500.000  \n",
       "crp                 0.100      6.875     26.000    193.275    272.200  \n",
       "region                NaN        NaN        NaN        NaN        NaN  \n",
       "state                 NaN        NaN        NaN        NaN        NaN  \n",
       "class               0.000      0.000      0.000      0.000      1.000  "
      ]
     },
     "execution_count": 1236,
     "metadata": {},
     "output_type": "execute_result"
    }
   ],
   "source": [
    "#Check mean_press missing after recalculating\n",
    "column_summaries(df_iacov_model_lean)"
   ]
  },
  {
   "cell_type": "code",
   "execution_count": 1237,
   "metadata": {},
   "outputs": [],
   "source": [
    "X_test_specific['mean_press'] = X_test_specific.apply(isNullMeanPressure, axis=1)"
   ]
  },
  {
   "cell_type": "code",
   "execution_count": 1238,
   "metadata": {},
   "outputs": [],
   "source": [
    "#column_summaries(X_test_specific)"
   ]
  },
  {
   "cell_type": "markdown",
   "metadata": {},
   "source": [
    "### Put X_test and y_test in separate files"
   ]
  },
  {
   "cell_type": "code",
   "execution_count": 1239,
   "metadata": {},
   "outputs": [
    {
     "data": {
      "text/plain": [
       "'X_test_same_region_absolute_NORTE_AM_AMAZONAS_HUGV.csv'"
      ]
     },
     "execution_count": 1239,
     "metadata": {},
     "output_type": "execute_result"
    }
   ],
   "source": [
    "x_test_specific_name = 'X_test_same_region_absolute_' + X_test_specific.region.iloc[0]  \\\n",
    "                        + '_' + X_test_specific.state.iloc[0]  \\\n",
    "                        + '_' + X_test_specific.city_hospital.iloc[0] +  \".csv\"\n",
    "x_test_specific_name"
   ]
  },
  {
   "cell_type": "code",
   "execution_count": 1240,
   "metadata": {},
   "outputs": [
    {
     "data": {
      "text/plain": [
       "'y_death_same_region_absolute_NORTE_AM_AMAZONAS_HUGV.csv'"
      ]
     },
     "execution_count": 1240,
     "metadata": {},
     "output_type": "execute_result"
    }
   ],
   "source": [
    "y_test_specific_name = 'y_icu_same_region_absolute_' + X_test_specific.region.iloc[0]  \\\n",
    "                        + '_' + X_test_specific.state.iloc[0]  \\\n",
    "                        + '_' + X_test_specific.city_hospital.iloc[0] +  \".csv\"\n",
    "y_test_specific_name"
   ]
  },
  {
   "cell_type": "code",
   "execution_count": 1241,
   "metadata": {},
   "outputs": [
    {
     "data": {
      "text/plain": [
       "(15, 25)"
      ]
     },
     "execution_count": 1241,
     "metadata": {},
     "output_type": "execute_result"
    }
   ],
   "source": [
    "X_test_specific.to_csv(x_test_specific_name, sep=';')\n",
    "X_test_specific.shape"
   ]
  },
  {
   "cell_type": "code",
   "execution_count": 1242,
   "metadata": {},
   "outputs": [
    {
     "data": {
      "text/plain": [
       "(15,)"
      ]
     },
     "execution_count": 1242,
     "metadata": {},
     "output_type": "execute_result"
    }
   ],
   "source": [
    "y_test_specific.to_csv(y_test_specific_name, sep=';')\n",
    "y_test_specific.shape"
   ]
  },
  {
   "cell_type": "markdown",
   "metadata": {},
   "source": [
    "## 2.4) Prepare Experiment \n"
   ]
  },
  {
   "cell_type": "code",
   "execution_count": 1243,
   "metadata": {},
   "outputs": [
    {
     "data": {
      "text/plain": [
       "(64, 25)"
      ]
     },
     "execution_count": 1243,
     "metadata": {},
     "output_type": "execute_result"
    }
   ],
   "source": [
    "df_iacov_model_lean.shape"
   ]
  },
  {
   "cell_type": "code",
   "execution_count": 1244,
   "metadata": {},
   "outputs": [],
   "source": [
    "df_iacov_model_train = df_iacov_model_lean"
   ]
  },
  {
   "cell_type": "code",
   "execution_count": 1245,
   "metadata": {},
   "outputs": [
    {
     "data": {
      "text/plain": [
       "Index(['age', 'male', 'heart_rate', 'resp_rate', 'sys_press', 'dias_press',\n",
       "       'mean_press', 'temp', 'hemoglobin', 'platelets', 'hematocrit',\n",
       "       'red_cells_count', 'hcm', 'rdw', 'mcv', 'leukocytes', 'neutrophil',\n",
       "       'lymphocytes', 'basophils', 'eosinophils', 'monocytes', 'crp', 'class'],\n",
       "      dtype='object')"
      ]
     },
     "execution_count": 1245,
     "metadata": {},
     "output_type": "execute_result"
    }
   ],
   "source": [
    "df_iacov_model_train = df_iacov_model_train.drop(['region'],axis=1)\n",
    "df_iacov_model_train = df_iacov_model_train.drop(['state'],axis=1)\n",
    "df_iacov_model_train.columns"
   ]
  },
  {
   "cell_type": "code",
   "execution_count": 1246,
   "metadata": {},
   "outputs": [
    {
     "name": "stdout",
     "output_type": "stream",
     "text": [
      "<class 'pandas.core.frame.DataFrame'>\n",
      "Index: 64 entries, 4130 to 9\n",
      "Data columns (total 23 columns):\n",
      " #   Column           Non-Null Count  Dtype  \n",
      "---  ------           --------------  -----  \n",
      " 0   age              64 non-null     float64\n",
      " 1   male             64 non-null     float64\n",
      " 2   heart_rate       56 non-null     float64\n",
      " 3   resp_rate        48 non-null     float64\n",
      " 4   sys_press        55 non-null     float64\n",
      " 5   dias_press       55 non-null     float64\n",
      " 6   mean_press       55 non-null     float64\n",
      " 7   temp             45 non-null     float64\n",
      " 8   hemoglobin       56 non-null     float64\n",
      " 9   platelets        55 non-null     float64\n",
      " 10  hematocrit       56 non-null     float64\n",
      " 11  red_cells_count  56 non-null     float64\n",
      " 12  hcm              55 non-null     float64\n",
      " 13  rdw              56 non-null     float64\n",
      " 14  mcv              56 non-null     float64\n",
      " 15  leukocytes       56 non-null     float64\n",
      " 16  neutrophil       56 non-null     float64\n",
      " 17  lymphocytes      56 non-null     float64\n",
      " 18  basophils        31 non-null     float64\n",
      " 19  eosinophils      55 non-null     float64\n",
      " 20  monocytes        55 non-null     float64\n",
      " 21  crp              44 non-null     float64\n",
      " 22  class            64 non-null     int32  \n",
      "dtypes: float64(22), int32(1)\n",
      "memory usage: 11.8 KB\n"
     ]
    }
   ],
   "source": [
    "df_iacov_model_train.info()"
   ]
  },
  {
   "cell_type": "code",
   "execution_count": 1247,
   "metadata": {},
   "outputs": [
    {
     "name": "stdout",
     "output_type": "stream",
     "text": [
      " \n",
      "Setup Succesfully Completed!\n"
     ]
    },
    {
     "data": {
      "text/html": [
       "<style type=\"text/css\">\n",
       "#T_9ee1b_row4_col1, #T_9ee1b_row15_col1, #T_9ee1b_row42_col1 {\n",
       "  background-color: lightgreen;\n",
       "}\n",
       "</style>\n",
       "<table id=\"T_9ee1b\">\n",
       "  <thead>\n",
       "    <tr>\n",
       "      <th class=\"blank level0\" >&nbsp;</th>\n",
       "      <th id=\"T_9ee1b_level0_col0\" class=\"col_heading level0 col0\" >Description</th>\n",
       "      <th id=\"T_9ee1b_level0_col1\" class=\"col_heading level0 col1\" >Value</th>\n",
       "    </tr>\n",
       "  </thead>\n",
       "  <tbody>\n",
       "    <tr>\n",
       "      <th id=\"T_9ee1b_level0_row0\" class=\"row_heading level0 row0\" >0</th>\n",
       "      <td id=\"T_9ee1b_row0_col0\" class=\"data row0 col0\" >session_id</td>\n",
       "      <td id=\"T_9ee1b_row0_col1\" class=\"data row0 col1\" >42</td>\n",
       "    </tr>\n",
       "    <tr>\n",
       "      <th id=\"T_9ee1b_level0_row1\" class=\"row_heading level0 row1\" >1</th>\n",
       "      <td id=\"T_9ee1b_row1_col0\" class=\"data row1 col0\" >Target Type</td>\n",
       "      <td id=\"T_9ee1b_row1_col1\" class=\"data row1 col1\" >Binary</td>\n",
       "    </tr>\n",
       "    <tr>\n",
       "      <th id=\"T_9ee1b_level0_row2\" class=\"row_heading level0 row2\" >2</th>\n",
       "      <td id=\"T_9ee1b_row2_col0\" class=\"data row2 col0\" >Label Encoded</td>\n",
       "      <td id=\"T_9ee1b_row2_col1\" class=\"data row2 col1\" >None</td>\n",
       "    </tr>\n",
       "    <tr>\n",
       "      <th id=\"T_9ee1b_level0_row3\" class=\"row_heading level0 row3\" >3</th>\n",
       "      <td id=\"T_9ee1b_row3_col0\" class=\"data row3 col0\" >Original Data</td>\n",
       "      <td id=\"T_9ee1b_row3_col1\" class=\"data row3 col1\" >(64, 23)</td>\n",
       "    </tr>\n",
       "    <tr>\n",
       "      <th id=\"T_9ee1b_level0_row4\" class=\"row_heading level0 row4\" >4</th>\n",
       "      <td id=\"T_9ee1b_row4_col0\" class=\"data row4 col0\" >Missing Values </td>\n",
       "      <td id=\"T_9ee1b_row4_col1\" class=\"data row4 col1\" >True</td>\n",
       "    </tr>\n",
       "    <tr>\n",
       "      <th id=\"T_9ee1b_level0_row5\" class=\"row_heading level0 row5\" >5</th>\n",
       "      <td id=\"T_9ee1b_row5_col0\" class=\"data row5 col0\" >Numeric Features </td>\n",
       "      <td id=\"T_9ee1b_row5_col1\" class=\"data row5 col1\" >21</td>\n",
       "    </tr>\n",
       "    <tr>\n",
       "      <th id=\"T_9ee1b_level0_row6\" class=\"row_heading level0 row6\" >6</th>\n",
       "      <td id=\"T_9ee1b_row6_col0\" class=\"data row6 col0\" >Categorical Features </td>\n",
       "      <td id=\"T_9ee1b_row6_col1\" class=\"data row6 col1\" >1</td>\n",
       "    </tr>\n",
       "    <tr>\n",
       "      <th id=\"T_9ee1b_level0_row7\" class=\"row_heading level0 row7\" >7</th>\n",
       "      <td id=\"T_9ee1b_row7_col0\" class=\"data row7 col0\" >Ordinal Features </td>\n",
       "      <td id=\"T_9ee1b_row7_col1\" class=\"data row7 col1\" >False</td>\n",
       "    </tr>\n",
       "    <tr>\n",
       "      <th id=\"T_9ee1b_level0_row8\" class=\"row_heading level0 row8\" >8</th>\n",
       "      <td id=\"T_9ee1b_row8_col0\" class=\"data row8 col0\" >High Cardinality Features </td>\n",
       "      <td id=\"T_9ee1b_row8_col1\" class=\"data row8 col1\" >False</td>\n",
       "    </tr>\n",
       "    <tr>\n",
       "      <th id=\"T_9ee1b_level0_row9\" class=\"row_heading level0 row9\" >9</th>\n",
       "      <td id=\"T_9ee1b_row9_col0\" class=\"data row9 col0\" >High Cardinality Method </td>\n",
       "      <td id=\"T_9ee1b_row9_col1\" class=\"data row9 col1\" >None</td>\n",
       "    </tr>\n",
       "    <tr>\n",
       "      <th id=\"T_9ee1b_level0_row10\" class=\"row_heading level0 row10\" >10</th>\n",
       "      <td id=\"T_9ee1b_row10_col0\" class=\"data row10 col0\" >Sampled Data</td>\n",
       "      <td id=\"T_9ee1b_row10_col1\" class=\"data row10 col1\" >(98, 23)</td>\n",
       "    </tr>\n",
       "    <tr>\n",
       "      <th id=\"T_9ee1b_level0_row11\" class=\"row_heading level0 row11\" >11</th>\n",
       "      <td id=\"T_9ee1b_row11_col0\" class=\"data row11 col0\" >Transformed Train Set</td>\n",
       "      <td id=\"T_9ee1b_row11_col1\" class=\"data row11 col1\" >(78, 22)</td>\n",
       "    </tr>\n",
       "    <tr>\n",
       "      <th id=\"T_9ee1b_level0_row12\" class=\"row_heading level0 row12\" >12</th>\n",
       "      <td id=\"T_9ee1b_row12_col0\" class=\"data row12 col0\" >Transformed Test Set</td>\n",
       "      <td id=\"T_9ee1b_row12_col1\" class=\"data row12 col1\" >(20, 22)</td>\n",
       "    </tr>\n",
       "    <tr>\n",
       "      <th id=\"T_9ee1b_level0_row13\" class=\"row_heading level0 row13\" >13</th>\n",
       "      <td id=\"T_9ee1b_row13_col0\" class=\"data row13 col0\" >Numeric Imputer </td>\n",
       "      <td id=\"T_9ee1b_row13_col1\" class=\"data row13 col1\" >median</td>\n",
       "    </tr>\n",
       "    <tr>\n",
       "      <th id=\"T_9ee1b_level0_row14\" class=\"row_heading level0 row14\" >14</th>\n",
       "      <td id=\"T_9ee1b_row14_col0\" class=\"data row14 col0\" >Categorical Imputer </td>\n",
       "      <td id=\"T_9ee1b_row14_col1\" class=\"data row14 col1\" >constant</td>\n",
       "    </tr>\n",
       "    <tr>\n",
       "      <th id=\"T_9ee1b_level0_row15\" class=\"row_heading level0 row15\" >15</th>\n",
       "      <td id=\"T_9ee1b_row15_col0\" class=\"data row15 col0\" >Normalize </td>\n",
       "      <td id=\"T_9ee1b_row15_col1\" class=\"data row15 col1\" >True</td>\n",
       "    </tr>\n",
       "    <tr>\n",
       "      <th id=\"T_9ee1b_level0_row16\" class=\"row_heading level0 row16\" >16</th>\n",
       "      <td id=\"T_9ee1b_row16_col0\" class=\"data row16 col0\" >Normalize Method </td>\n",
       "      <td id=\"T_9ee1b_row16_col1\" class=\"data row16 col1\" >zscore</td>\n",
       "    </tr>\n",
       "    <tr>\n",
       "      <th id=\"T_9ee1b_level0_row17\" class=\"row_heading level0 row17\" >17</th>\n",
       "      <td id=\"T_9ee1b_row17_col0\" class=\"data row17 col0\" >Transformation </td>\n",
       "      <td id=\"T_9ee1b_row17_col1\" class=\"data row17 col1\" >False</td>\n",
       "    </tr>\n",
       "    <tr>\n",
       "      <th id=\"T_9ee1b_level0_row18\" class=\"row_heading level0 row18\" >18</th>\n",
       "      <td id=\"T_9ee1b_row18_col0\" class=\"data row18 col0\" >Transformation Method </td>\n",
       "      <td id=\"T_9ee1b_row18_col1\" class=\"data row18 col1\" >None</td>\n",
       "    </tr>\n",
       "    <tr>\n",
       "      <th id=\"T_9ee1b_level0_row19\" class=\"row_heading level0 row19\" >19</th>\n",
       "      <td id=\"T_9ee1b_row19_col0\" class=\"data row19 col0\" >PCA </td>\n",
       "      <td id=\"T_9ee1b_row19_col1\" class=\"data row19 col1\" >False</td>\n",
       "    </tr>\n",
       "    <tr>\n",
       "      <th id=\"T_9ee1b_level0_row20\" class=\"row_heading level0 row20\" >20</th>\n",
       "      <td id=\"T_9ee1b_row20_col0\" class=\"data row20 col0\" >PCA Method </td>\n",
       "      <td id=\"T_9ee1b_row20_col1\" class=\"data row20 col1\" >None</td>\n",
       "    </tr>\n",
       "    <tr>\n",
       "      <th id=\"T_9ee1b_level0_row21\" class=\"row_heading level0 row21\" >21</th>\n",
       "      <td id=\"T_9ee1b_row21_col0\" class=\"data row21 col0\" >PCA Components </td>\n",
       "      <td id=\"T_9ee1b_row21_col1\" class=\"data row21 col1\" >None</td>\n",
       "    </tr>\n",
       "    <tr>\n",
       "      <th id=\"T_9ee1b_level0_row22\" class=\"row_heading level0 row22\" >22</th>\n",
       "      <td id=\"T_9ee1b_row22_col0\" class=\"data row22 col0\" >Ignore Low Variance </td>\n",
       "      <td id=\"T_9ee1b_row22_col1\" class=\"data row22 col1\" >False</td>\n",
       "    </tr>\n",
       "    <tr>\n",
       "      <th id=\"T_9ee1b_level0_row23\" class=\"row_heading level0 row23\" >23</th>\n",
       "      <td id=\"T_9ee1b_row23_col0\" class=\"data row23 col0\" >Combine Rare Levels </td>\n",
       "      <td id=\"T_9ee1b_row23_col1\" class=\"data row23 col1\" >False</td>\n",
       "    </tr>\n",
       "    <tr>\n",
       "      <th id=\"T_9ee1b_level0_row24\" class=\"row_heading level0 row24\" >24</th>\n",
       "      <td id=\"T_9ee1b_row24_col0\" class=\"data row24 col0\" >Rare Level Threshold </td>\n",
       "      <td id=\"T_9ee1b_row24_col1\" class=\"data row24 col1\" >None</td>\n",
       "    </tr>\n",
       "    <tr>\n",
       "      <th id=\"T_9ee1b_level0_row25\" class=\"row_heading level0 row25\" >25</th>\n",
       "      <td id=\"T_9ee1b_row25_col0\" class=\"data row25 col0\" >Numeric Binning </td>\n",
       "      <td id=\"T_9ee1b_row25_col1\" class=\"data row25 col1\" >False</td>\n",
       "    </tr>\n",
       "    <tr>\n",
       "      <th id=\"T_9ee1b_level0_row26\" class=\"row_heading level0 row26\" >26</th>\n",
       "      <td id=\"T_9ee1b_row26_col0\" class=\"data row26 col0\" >Remove Outliers </td>\n",
       "      <td id=\"T_9ee1b_row26_col1\" class=\"data row26 col1\" >False</td>\n",
       "    </tr>\n",
       "    <tr>\n",
       "      <th id=\"T_9ee1b_level0_row27\" class=\"row_heading level0 row27\" >27</th>\n",
       "      <td id=\"T_9ee1b_row27_col0\" class=\"data row27 col0\" >Outliers Threshold </td>\n",
       "      <td id=\"T_9ee1b_row27_col1\" class=\"data row27 col1\" >None</td>\n",
       "    </tr>\n",
       "    <tr>\n",
       "      <th id=\"T_9ee1b_level0_row28\" class=\"row_heading level0 row28\" >28</th>\n",
       "      <td id=\"T_9ee1b_row28_col0\" class=\"data row28 col0\" >Remove Multicollinearity </td>\n",
       "      <td id=\"T_9ee1b_row28_col1\" class=\"data row28 col1\" >False</td>\n",
       "    </tr>\n",
       "    <tr>\n",
       "      <th id=\"T_9ee1b_level0_row29\" class=\"row_heading level0 row29\" >29</th>\n",
       "      <td id=\"T_9ee1b_row29_col0\" class=\"data row29 col0\" >Multicollinearity Threshold </td>\n",
       "      <td id=\"T_9ee1b_row29_col1\" class=\"data row29 col1\" >None</td>\n",
       "    </tr>\n",
       "    <tr>\n",
       "      <th id=\"T_9ee1b_level0_row30\" class=\"row_heading level0 row30\" >30</th>\n",
       "      <td id=\"T_9ee1b_row30_col0\" class=\"data row30 col0\" >Clustering </td>\n",
       "      <td id=\"T_9ee1b_row30_col1\" class=\"data row30 col1\" >False</td>\n",
       "    </tr>\n",
       "    <tr>\n",
       "      <th id=\"T_9ee1b_level0_row31\" class=\"row_heading level0 row31\" >31</th>\n",
       "      <td id=\"T_9ee1b_row31_col0\" class=\"data row31 col0\" >Clustering Iteration </td>\n",
       "      <td id=\"T_9ee1b_row31_col1\" class=\"data row31 col1\" >None</td>\n",
       "    </tr>\n",
       "    <tr>\n",
       "      <th id=\"T_9ee1b_level0_row32\" class=\"row_heading level0 row32\" >32</th>\n",
       "      <td id=\"T_9ee1b_row32_col0\" class=\"data row32 col0\" >Polynomial Features </td>\n",
       "      <td id=\"T_9ee1b_row32_col1\" class=\"data row32 col1\" >False</td>\n",
       "    </tr>\n",
       "    <tr>\n",
       "      <th id=\"T_9ee1b_level0_row33\" class=\"row_heading level0 row33\" >33</th>\n",
       "      <td id=\"T_9ee1b_row33_col0\" class=\"data row33 col0\" >Polynomial Degree </td>\n",
       "      <td id=\"T_9ee1b_row33_col1\" class=\"data row33 col1\" >None</td>\n",
       "    </tr>\n",
       "    <tr>\n",
       "      <th id=\"T_9ee1b_level0_row34\" class=\"row_heading level0 row34\" >34</th>\n",
       "      <td id=\"T_9ee1b_row34_col0\" class=\"data row34 col0\" >Trignometry Features </td>\n",
       "      <td id=\"T_9ee1b_row34_col1\" class=\"data row34 col1\" >False</td>\n",
       "    </tr>\n",
       "    <tr>\n",
       "      <th id=\"T_9ee1b_level0_row35\" class=\"row_heading level0 row35\" >35</th>\n",
       "      <td id=\"T_9ee1b_row35_col0\" class=\"data row35 col0\" >Polynomial Threshold </td>\n",
       "      <td id=\"T_9ee1b_row35_col1\" class=\"data row35 col1\" >None</td>\n",
       "    </tr>\n",
       "    <tr>\n",
       "      <th id=\"T_9ee1b_level0_row36\" class=\"row_heading level0 row36\" >36</th>\n",
       "      <td id=\"T_9ee1b_row36_col0\" class=\"data row36 col0\" >Group Features </td>\n",
       "      <td id=\"T_9ee1b_row36_col1\" class=\"data row36 col1\" >False</td>\n",
       "    </tr>\n",
       "    <tr>\n",
       "      <th id=\"T_9ee1b_level0_row37\" class=\"row_heading level0 row37\" >37</th>\n",
       "      <td id=\"T_9ee1b_row37_col0\" class=\"data row37 col0\" >Feature Selection </td>\n",
       "      <td id=\"T_9ee1b_row37_col1\" class=\"data row37 col1\" >False</td>\n",
       "    </tr>\n",
       "    <tr>\n",
       "      <th id=\"T_9ee1b_level0_row38\" class=\"row_heading level0 row38\" >38</th>\n",
       "      <td id=\"T_9ee1b_row38_col0\" class=\"data row38 col0\" >Features Selection Threshold </td>\n",
       "      <td id=\"T_9ee1b_row38_col1\" class=\"data row38 col1\" >None</td>\n",
       "    </tr>\n",
       "    <tr>\n",
       "      <th id=\"T_9ee1b_level0_row39\" class=\"row_heading level0 row39\" >39</th>\n",
       "      <td id=\"T_9ee1b_row39_col0\" class=\"data row39 col0\" >Feature Interaction </td>\n",
       "      <td id=\"T_9ee1b_row39_col1\" class=\"data row39 col1\" >False</td>\n",
       "    </tr>\n",
       "    <tr>\n",
       "      <th id=\"T_9ee1b_level0_row40\" class=\"row_heading level0 row40\" >40</th>\n",
       "      <td id=\"T_9ee1b_row40_col0\" class=\"data row40 col0\" >Feature Ratio </td>\n",
       "      <td id=\"T_9ee1b_row40_col1\" class=\"data row40 col1\" >False</td>\n",
       "    </tr>\n",
       "    <tr>\n",
       "      <th id=\"T_9ee1b_level0_row41\" class=\"row_heading level0 row41\" >41</th>\n",
       "      <td id=\"T_9ee1b_row41_col0\" class=\"data row41 col0\" >Interaction Threshold </td>\n",
       "      <td id=\"T_9ee1b_row41_col1\" class=\"data row41 col1\" >None</td>\n",
       "    </tr>\n",
       "    <tr>\n",
       "      <th id=\"T_9ee1b_level0_row42\" class=\"row_heading level0 row42\" >42</th>\n",
       "      <td id=\"T_9ee1b_row42_col0\" class=\"data row42 col0\" >Resample Train Data </td>\n",
       "      <td id=\"T_9ee1b_row42_col1\" class=\"data row42 col1\" >True</td>\n",
       "    </tr>\n",
       "    <tr>\n",
       "      <th id=\"T_9ee1b_level0_row43\" class=\"row_heading level0 row43\" >43</th>\n",
       "      <td id=\"T_9ee1b_row43_col0\" class=\"data row43 col0\" >Resample Method</td>\n",
       "      <td id=\"T_9ee1b_row43_col1\" class=\"data row43 col1\" >random_over</td>\n",
       "    </tr>\n",
       "  </tbody>\n",
       "</table>\n"
      ],
      "text/plain": [
       "<pandas.io.formats.style.Styler at 0x253a978fa60>"
      ]
     },
     "metadata": {},
     "output_type": "display_data"
    }
   ],
   "source": [
    "exp = setup(df_iacov_model_train\n",
    "            , target='class'\n",
    "            , categorical_features = ['male']\n",
    "            , numeric_features = ['crp','basophils','eosinophils','red_cells_count','monocytes','hemoglobin','resp_rate','neutrophil','hematocrit']\n",
    "            , normalize=True\n",
    "            #, remove_multicollinearity=True\n",
    "            ,numeric_imputation='median'\n",
    "#             ,numeric_imputation='ignore'\n",
    "            #,multicollinearity_threshold=0.9\n",
    "            , resample=True\n",
    "            , resample_method='random_over'\n",
    "#             , train_size = 1.0 #100pct for training\n",
    "           )"
   ]
  },
  {
   "cell_type": "code",
   "execution_count": 1248,
   "metadata": {},
   "outputs": [],
   "source": [
    "X, y, X_train, X_test, y_train, y_test, seed, prep_pipe, _ = exp"
   ]
  },
  {
   "cell_type": "code",
   "execution_count": 1249,
   "metadata": {},
   "outputs": [
    {
     "data": {
      "text/plain": [
       "(78, 22)"
      ]
     },
     "execution_count": 1249,
     "metadata": {},
     "output_type": "execute_result"
    }
   ],
   "source": [
    "X_train.shape"
   ]
  },
  {
   "cell_type": "code",
   "execution_count": 1250,
   "metadata": {},
   "outputs": [
    {
     "data": {
      "text/plain": [
       "(20, 22)"
      ]
     },
     "execution_count": 1250,
     "metadata": {},
     "output_type": "execute_result"
    }
   ],
   "source": [
    "X_test.shape"
   ]
  },
  {
   "cell_type": "code",
   "execution_count": 1251,
   "metadata": {},
   "outputs": [
    {
     "data": {
      "text/plain": [
       "Index(['age', 'heart_rate', 'resp_rate', 'sys_press', 'dias_press',\n",
       "       'mean_press', 'temp', 'hemoglobin', 'platelets', 'hematocrit',\n",
       "       'red_cells_count', 'hcm', 'rdw', 'mcv', 'leukocytes', 'neutrophil',\n",
       "       'lymphocytes', 'basophils', 'eosinophils', 'monocytes', 'crp',\n",
       "       'male_0.0'],\n",
       "      dtype='object')"
      ]
     },
     "execution_count": 1251,
     "metadata": {},
     "output_type": "execute_result"
    }
   ],
   "source": [
    "X_test.columns"
   ]
  },
  {
   "cell_type": "code",
   "execution_count": 1252,
   "metadata": {},
   "outputs": [
    {
     "data": {
      "text/plain": [
       "42"
      ]
     },
     "execution_count": 1252,
     "metadata": {},
     "output_type": "execute_result"
    }
   ],
   "source": [
    "seed"
   ]
  },
  {
   "cell_type": "code",
   "execution_count": 1253,
   "metadata": {},
   "outputs": [],
   "source": [
    "# Xtrain.head()"
   ]
  },
  {
   "cell_type": "markdown",
   "metadata": {},
   "source": [
    "### Filtering only 5 pre-selected models"
   ]
  },
  {
   "cell_type": "code",
   "execution_count": 1254,
   "metadata": {},
   "outputs": [],
   "source": [
    "# print(inspect.getsource(compare_models))"
   ]
  },
  {
   "cell_type": "code",
   "execution_count": 1255,
   "metadata": {},
   "outputs": [
    {
     "data": {
      "text/html": [
       "<style type=\"text/css\">\n",
       "#T_c6ac3 th {\n",
       "  text-align: left;\n",
       "}\n",
       "#T_c6ac3_row0_col0, #T_c6ac3_row0_col1, #T_c6ac3_row0_col4, #T_c6ac3_row0_col5, #T_c6ac3_row0_col6, #T_c6ac3_row0_col7, #T_c6ac3_row0_col8, #T_c6ac3_row0_col9, #T_c6ac3_row1_col0, #T_c6ac3_row1_col1, #T_c6ac3_row1_col4, #T_c6ac3_row1_col5, #T_c6ac3_row1_col6, #T_c6ac3_row1_col7, #T_c6ac3_row1_col8, #T_c6ac3_row1_col10, #T_c6ac3_row2_col0, #T_c6ac3_row2_col9, #T_c6ac3_row2_col10 {\n",
       "  text-align: left;\n",
       "}\n",
       "#T_c6ac3_row0_col2, #T_c6ac3_row0_col3, #T_c6ac3_row0_col10, #T_c6ac3_row1_col2, #T_c6ac3_row1_col3, #T_c6ac3_row1_col9, #T_c6ac3_row2_col1, #T_c6ac3_row2_col2, #T_c6ac3_row2_col3, #T_c6ac3_row2_col4, #T_c6ac3_row2_col5, #T_c6ac3_row2_col6, #T_c6ac3_row2_col7, #T_c6ac3_row2_col8 {\n",
       "  background-color: yellow;\n",
       "  text-align: left;\n",
       "}\n",
       "</style>\n",
       "<table id=\"T_c6ac3\">\n",
       "  <thead>\n",
       "    <tr>\n",
       "      <th class=\"blank level0\" >&nbsp;</th>\n",
       "      <th id=\"T_c6ac3_level0_col0\" class=\"col_heading level0 col0\" >Model</th>\n",
       "      <th id=\"T_c6ac3_level0_col1\" class=\"col_heading level0 col1\" >Accuracy</th>\n",
       "      <th id=\"T_c6ac3_level0_col2\" class=\"col_heading level0 col2\" >AUC</th>\n",
       "      <th id=\"T_c6ac3_level0_col3\" class=\"col_heading level0 col3\" >Recall</th>\n",
       "      <th id=\"T_c6ac3_level0_col4\" class=\"col_heading level0 col4\" >Specificity</th>\n",
       "      <th id=\"T_c6ac3_level0_col5\" class=\"col_heading level0 col5\" >Prec.</th>\n",
       "      <th id=\"T_c6ac3_level0_col6\" class=\"col_heading level0 col6\" >F1</th>\n",
       "      <th id=\"T_c6ac3_level0_col7\" class=\"col_heading level0 col7\" >Kappa</th>\n",
       "      <th id=\"T_c6ac3_level0_col8\" class=\"col_heading level0 col8\" >Hosmer_lemeshow</th>\n",
       "      <th id=\"T_c6ac3_level0_col9\" class=\"col_heading level0 col9\" >Spiegelhalter</th>\n",
       "      <th id=\"T_c6ac3_level0_col10\" class=\"col_heading level0 col10\" >Scaled_brier</th>\n",
       "    </tr>\n",
       "  </thead>\n",
       "  <tbody>\n",
       "    <tr>\n",
       "      <th id=\"T_c6ac3_level0_row0\" class=\"row_heading level0 row0\" >0</th>\n",
       "      <td id=\"T_c6ac3_row0_col0\" class=\"data row0 col0\" >Extreme Gradient Boosting</td>\n",
       "      <td id=\"T_c6ac3_row0_col1\" class=\"data row0 col1\" >0.975000</td>\n",
       "      <td id=\"T_c6ac3_row0_col2\" class=\"data row0 col2\" >1.000000</td>\n",
       "      <td id=\"T_c6ac3_row0_col3\" class=\"data row0 col3\" >1.000000</td>\n",
       "      <td id=\"T_c6ac3_row0_col4\" class=\"data row0 col4\" >0.950000</td>\n",
       "      <td id=\"T_c6ac3_row0_col5\" class=\"data row0 col5\" >0.960000</td>\n",
       "      <td id=\"T_c6ac3_row0_col6\" class=\"data row0 col6\" >0.977800</td>\n",
       "      <td id=\"T_c6ac3_row0_col7\" class=\"data row0 col7\" >0.950000</td>\n",
       "      <td id=\"T_c6ac3_row0_col8\" class=\"data row0 col8\" >0.905200</td>\n",
       "      <td id=\"T_c6ac3_row0_col9\" class=\"data row0 col9\" >0.559400</td>\n",
       "      <td id=\"T_c6ac3_row0_col10\" class=\"data row0 col10\" >0.898100</td>\n",
       "    </tr>\n",
       "    <tr>\n",
       "      <th id=\"T_c6ac3_level0_row1\" class=\"row_heading level0 row1\" >1</th>\n",
       "      <td id=\"T_c6ac3_row1_col0\" class=\"data row1 col0\" >Light Gradient Boosting Machine</td>\n",
       "      <td id=\"T_c6ac3_row1_col1\" class=\"data row1 col1\" >0.935700</td>\n",
       "      <td id=\"T_c6ac3_row1_col2\" class=\"data row1 col2\" >1.000000</td>\n",
       "      <td id=\"T_c6ac3_row1_col3\" class=\"data row1 col3\" >1.000000</td>\n",
       "      <td id=\"T_c6ac3_row1_col4\" class=\"data row1 col4\" >0.875000</td>\n",
       "      <td id=\"T_c6ac3_row1_col5\" class=\"data row1 col5\" >0.895000</td>\n",
       "      <td id=\"T_c6ac3_row1_col6\" class=\"data row1 col6\" >0.941300</td>\n",
       "      <td id=\"T_c6ac3_row1_col7\" class=\"data row1 col7\" >0.872000</td>\n",
       "      <td id=\"T_c6ac3_row1_col8\" class=\"data row1 col8\" >0.832000</td>\n",
       "      <td id=\"T_c6ac3_row1_col9\" class=\"data row1 col9\" >0.570500</td>\n",
       "      <td id=\"T_c6ac3_row1_col10\" class=\"data row1 col10\" >0.810800</td>\n",
       "    </tr>\n",
       "    <tr>\n",
       "      <th id=\"T_c6ac3_level0_row2\" class=\"row_heading level0 row2\" >2</th>\n",
       "      <td id=\"T_c6ac3_row2_col0\" class=\"data row2 col0\" >CatBoost Classifier</td>\n",
       "      <td id=\"T_c6ac3_row2_col1\" class=\"data row2 col1\" >0.987500</td>\n",
       "      <td id=\"T_c6ac3_row2_col2\" class=\"data row2 col2\" >1.000000</td>\n",
       "      <td id=\"T_c6ac3_row2_col3\" class=\"data row2 col3\" >1.000000</td>\n",
       "      <td id=\"T_c6ac3_row2_col4\" class=\"data row2 col4\" >0.975000</td>\n",
       "      <td id=\"T_c6ac3_row2_col5\" class=\"data row2 col5\" >0.980000</td>\n",
       "      <td id=\"T_c6ac3_row2_col6\" class=\"data row2 col6\" >0.988900</td>\n",
       "      <td id=\"T_c6ac3_row2_col7\" class=\"data row2 col7\" >0.975000</td>\n",
       "      <td id=\"T_c6ac3_row2_col8\" class=\"data row2 col8\" >0.995000</td>\n",
       "      <td id=\"T_c6ac3_row2_col9\" class=\"data row2 col9\" >0.413100</td>\n",
       "      <td id=\"T_c6ac3_row2_col10\" class=\"data row2 col10\" >0.887200</td>\n",
       "    </tr>\n",
       "  </tbody>\n",
       "</table>\n"
      ],
      "text/plain": [
       "<pandas.io.formats.style.Styler at 0x253a99179d0>"
      ]
     },
     "execution_count": 1255,
     "metadata": {},
     "output_type": "execute_result"
    }
   ],
   "source": [
    "#Modelos que suportam missing (1) - Modelos pre-selecionados(2)\n",
    "compare_models(blacklist = [\"lr\",\"knn\",\"nb\",\"dt\",\"svm\",\"rbfsvm\",\"gpc\",\"ridge\",\"qda\",\"ada\",\"gbc\",\"lda\",\"et\",\"mlp\",\"rf\"] , turbo = False)"
   ]
  },
  {
   "cell_type": "markdown",
   "metadata": {},
   "source": [
    "### Tune selected models by AUC (and hyperopt bayesian optimization) to use on test data"
   ]
  },
  {
   "cell_type": "code",
   "execution_count": 1256,
   "metadata": {
    "scrolled": true
   },
   "outputs": [
    {
     "data": {
      "text/html": [
       "<div>\n",
       "<style scoped>\n",
       "    .dataframe tbody tr th:only-of-type {\n",
       "        vertical-align: middle;\n",
       "    }\n",
       "\n",
       "    .dataframe tbody tr th {\n",
       "        vertical-align: top;\n",
       "    }\n",
       "\n",
       "    .dataframe thead th {\n",
       "        text-align: right;\n",
       "    }\n",
       "</style>\n",
       "<table border=\"1\" class=\"dataframe\">\n",
       "  <thead>\n",
       "    <tr style=\"text-align: right;\">\n",
       "      <th></th>\n",
       "      <th>Accuracy</th>\n",
       "      <th>AUC</th>\n",
       "      <th>Recall</th>\n",
       "      <th>Specificity</th>\n",
       "      <th>Prec.</th>\n",
       "      <th>F1</th>\n",
       "      <th>Kappa</th>\n",
       "      <th>Hosmer_lemeshow</th>\n",
       "      <th>Spiegelhalter</th>\n",
       "      <th>Scaled_brier</th>\n",
       "    </tr>\n",
       "  </thead>\n",
       "  <tbody>\n",
       "    <tr>\n",
       "      <th>0</th>\n",
       "      <td>0.875</td>\n",
       "      <td>1.000</td>\n",
       "      <td>1.000</td>\n",
       "      <td>0.750</td>\n",
       "      <td>0.800</td>\n",
       "      <td>0.889</td>\n",
       "      <td>0.750</td>\n",
       "      <td>0.994</td>\n",
       "      <td>0.710</td>\n",
       "      <td>0.849</td>\n",
       "    </tr>\n",
       "    <tr>\n",
       "      <th>1</th>\n",
       "      <td>1.000</td>\n",
       "      <td>1.000</td>\n",
       "      <td>1.000</td>\n",
       "      <td>1.000</td>\n",
       "      <td>1.000</td>\n",
       "      <td>1.000</td>\n",
       "      <td>1.000</td>\n",
       "      <td>1.000</td>\n",
       "      <td>0.497</td>\n",
       "      <td>0.975</td>\n",
       "    </tr>\n",
       "    <tr>\n",
       "      <th>2</th>\n",
       "      <td>1.000</td>\n",
       "      <td>1.000</td>\n",
       "      <td>1.000</td>\n",
       "      <td>1.000</td>\n",
       "      <td>1.000</td>\n",
       "      <td>1.000</td>\n",
       "      <td>1.000</td>\n",
       "      <td>1.000</td>\n",
       "      <td>0.534</td>\n",
       "      <td>0.979</td>\n",
       "    </tr>\n",
       "    <tr>\n",
       "      <th>3</th>\n",
       "      <td>0.875</td>\n",
       "      <td>1.000</td>\n",
       "      <td>1.000</td>\n",
       "      <td>0.750</td>\n",
       "      <td>0.800</td>\n",
       "      <td>0.889</td>\n",
       "      <td>0.750</td>\n",
       "      <td>0.970</td>\n",
       "      <td>0.496</td>\n",
       "      <td>0.734</td>\n",
       "    </tr>\n",
       "    <tr>\n",
       "      <th>4</th>\n",
       "      <td>1.000</td>\n",
       "      <td>1.000</td>\n",
       "      <td>1.000</td>\n",
       "      <td>1.000</td>\n",
       "      <td>1.000</td>\n",
       "      <td>1.000</td>\n",
       "      <td>1.000</td>\n",
       "      <td>0.998</td>\n",
       "      <td>0.363</td>\n",
       "      <td>0.912</td>\n",
       "    </tr>\n",
       "    <tr>\n",
       "      <th>5</th>\n",
       "      <td>1.000</td>\n",
       "      <td>1.000</td>\n",
       "      <td>1.000</td>\n",
       "      <td>1.000</td>\n",
       "      <td>1.000</td>\n",
       "      <td>1.000</td>\n",
       "      <td>1.000</td>\n",
       "      <td>1.000</td>\n",
       "      <td>0.585</td>\n",
       "      <td>0.991</td>\n",
       "    </tr>\n",
       "    <tr>\n",
       "      <th>6</th>\n",
       "      <td>1.000</td>\n",
       "      <td>1.000</td>\n",
       "      <td>1.000</td>\n",
       "      <td>1.000</td>\n",
       "      <td>1.000</td>\n",
       "      <td>1.000</td>\n",
       "      <td>1.000</td>\n",
       "      <td>1.000</td>\n",
       "      <td>0.433</td>\n",
       "      <td>0.958</td>\n",
       "    </tr>\n",
       "    <tr>\n",
       "      <th>7</th>\n",
       "      <td>0.875</td>\n",
       "      <td>1.000</td>\n",
       "      <td>1.000</td>\n",
       "      <td>0.750</td>\n",
       "      <td>0.800</td>\n",
       "      <td>0.889</td>\n",
       "      <td>0.750</td>\n",
       "      <td>0.788</td>\n",
       "      <td>0.623</td>\n",
       "      <td>0.650</td>\n",
       "    </tr>\n",
       "    <tr>\n",
       "      <th>8</th>\n",
       "      <td>0.857</td>\n",
       "      <td>1.000</td>\n",
       "      <td>1.000</td>\n",
       "      <td>0.750</td>\n",
       "      <td>0.750</td>\n",
       "      <td>0.857</td>\n",
       "      <td>0.720</td>\n",
       "      <td>0.513</td>\n",
       "      <td>0.212</td>\n",
       "      <td>0.431</td>\n",
       "    </tr>\n",
       "    <tr>\n",
       "      <th>9</th>\n",
       "      <td>0.857</td>\n",
       "      <td>1.000</td>\n",
       "      <td>1.000</td>\n",
       "      <td>0.667</td>\n",
       "      <td>0.800</td>\n",
       "      <td>0.889</td>\n",
       "      <td>0.696</td>\n",
       "      <td>0.979</td>\n",
       "      <td>0.756</td>\n",
       "      <td>0.743</td>\n",
       "    </tr>\n",
       "    <tr>\n",
       "      <th>Mean</th>\n",
       "      <td>0.934</td>\n",
       "      <td>1.000</td>\n",
       "      <td>1.000</td>\n",
       "      <td>0.867</td>\n",
       "      <td>0.895</td>\n",
       "      <td>0.941</td>\n",
       "      <td>0.867</td>\n",
       "      <td>0.924</td>\n",
       "      <td>0.521</td>\n",
       "      <td>0.822</td>\n",
       "    </tr>\n",
       "    <tr>\n",
       "      <th>SD</th>\n",
       "      <td>0.066</td>\n",
       "      <td>0.000</td>\n",
       "      <td>0.000</td>\n",
       "      <td>0.135</td>\n",
       "      <td>0.106</td>\n",
       "      <td>0.059</td>\n",
       "      <td>0.134</td>\n",
       "      <td>0.924</td>\n",
       "      <td>0.521</td>\n",
       "      <td>0.822</td>\n",
       "    </tr>\n",
       "  </tbody>\n",
       "</table>\n",
       "</div>"
      ],
      "text/plain": [
       "      Accuracy   AUC  Recall  Specificity  Prec.    F1  Kappa  \\\n",
       "0        0.875 1.000   1.000        0.750  0.800 0.889  0.750   \n",
       "1        1.000 1.000   1.000        1.000  1.000 1.000  1.000   \n",
       "2        1.000 1.000   1.000        1.000  1.000 1.000  1.000   \n",
       "3        0.875 1.000   1.000        0.750  0.800 0.889  0.750   \n",
       "4        1.000 1.000   1.000        1.000  1.000 1.000  1.000   \n",
       "5        1.000 1.000   1.000        1.000  1.000 1.000  1.000   \n",
       "6        1.000 1.000   1.000        1.000  1.000 1.000  1.000   \n",
       "7        0.875 1.000   1.000        0.750  0.800 0.889  0.750   \n",
       "8        0.857 1.000   1.000        0.750  0.750 0.857  0.720   \n",
       "9        0.857 1.000   1.000        0.667  0.800 0.889  0.696   \n",
       "Mean     0.934 1.000   1.000        0.867  0.895 0.941  0.867   \n",
       "SD       0.066 0.000   0.000        0.135  0.106 0.059  0.134   \n",
       "\n",
       "      Hosmer_lemeshow  Spiegelhalter  Scaled_brier  \n",
       "0               0.994          0.710         0.849  \n",
       "1               1.000          0.497         0.975  \n",
       "2               1.000          0.534         0.979  \n",
       "3               0.970          0.496         0.734  \n",
       "4               0.998          0.363         0.912  \n",
       "5               1.000          0.585         0.991  \n",
       "6               1.000          0.433         0.958  \n",
       "7               0.788          0.623         0.650  \n",
       "8               0.513          0.212         0.431  \n",
       "9               0.979          0.756         0.743  \n",
       "Mean            0.924          0.521         0.822  \n",
       "SD              0.924          0.521         0.822  "
      ]
     },
     "metadata": {},
     "output_type": "display_data"
    }
   ],
   "source": [
    "cattuned = tune_model('catboost', optimize='AUC', n_iter=20)"
   ]
  },
  {
   "cell_type": "code",
   "execution_count": 1257,
   "metadata": {},
   "outputs": [
    {
     "data": {
      "text/html": [
       "<div>\n",
       "<style scoped>\n",
       "    .dataframe tbody tr th:only-of-type {\n",
       "        vertical-align: middle;\n",
       "    }\n",
       "\n",
       "    .dataframe tbody tr th {\n",
       "        vertical-align: top;\n",
       "    }\n",
       "\n",
       "    .dataframe thead th {\n",
       "        text-align: right;\n",
       "    }\n",
       "</style>\n",
       "<table border=\"1\" class=\"dataframe\">\n",
       "  <thead>\n",
       "    <tr style=\"text-align: right;\">\n",
       "      <th></th>\n",
       "      <th>Accuracy</th>\n",
       "      <th>AUC</th>\n",
       "      <th>Recall</th>\n",
       "      <th>Specificity</th>\n",
       "      <th>Prec.</th>\n",
       "      <th>F1</th>\n",
       "      <th>Kappa</th>\n",
       "      <th>Hosmer_lemeshow</th>\n",
       "      <th>Spiegelhalter</th>\n",
       "      <th>Scaled_brier</th>\n",
       "    </tr>\n",
       "  </thead>\n",
       "  <tbody>\n",
       "    <tr>\n",
       "      <th>0</th>\n",
       "      <td>0.875</td>\n",
       "      <td>1.000</td>\n",
       "      <td>1.000</td>\n",
       "      <td>0.750</td>\n",
       "      <td>0.800</td>\n",
       "      <td>0.889</td>\n",
       "      <td>0.750</td>\n",
       "      <td>0.481</td>\n",
       "      <td>0.139</td>\n",
       "      <td>0.611</td>\n",
       "    </tr>\n",
       "    <tr>\n",
       "      <th>1</th>\n",
       "      <td>1.000</td>\n",
       "      <td>1.000</td>\n",
       "      <td>1.000</td>\n",
       "      <td>1.000</td>\n",
       "      <td>1.000</td>\n",
       "      <td>1.000</td>\n",
       "      <td>1.000</td>\n",
       "      <td>1.000</td>\n",
       "      <td>0.731</td>\n",
       "      <td>0.999</td>\n",
       "    </tr>\n",
       "    <tr>\n",
       "      <th>2</th>\n",
       "      <td>1.000</td>\n",
       "      <td>1.000</td>\n",
       "      <td>1.000</td>\n",
       "      <td>1.000</td>\n",
       "      <td>1.000</td>\n",
       "      <td>1.000</td>\n",
       "      <td>1.000</td>\n",
       "      <td>1.000</td>\n",
       "      <td>0.727</td>\n",
       "      <td>0.998</td>\n",
       "    </tr>\n",
       "    <tr>\n",
       "      <th>3</th>\n",
       "      <td>0.875</td>\n",
       "      <td>1.000</td>\n",
       "      <td>1.000</td>\n",
       "      <td>0.750</td>\n",
       "      <td>0.800</td>\n",
       "      <td>0.889</td>\n",
       "      <td>0.750</td>\n",
       "      <td>0.957</td>\n",
       "      <td>0.904</td>\n",
       "      <td>0.734</td>\n",
       "    </tr>\n",
       "    <tr>\n",
       "      <th>4</th>\n",
       "      <td>0.750</td>\n",
       "      <td>1.000</td>\n",
       "      <td>1.000</td>\n",
       "      <td>0.500</td>\n",
       "      <td>0.667</td>\n",
       "      <td>0.800</td>\n",
       "      <td>0.500</td>\n",
       "      <td>0.954</td>\n",
       "      <td>0.906</td>\n",
       "      <td>0.684</td>\n",
       "    </tr>\n",
       "    <tr>\n",
       "      <th>5</th>\n",
       "      <td>0.875</td>\n",
       "      <td>1.000</td>\n",
       "      <td>1.000</td>\n",
       "      <td>0.750</td>\n",
       "      <td>0.800</td>\n",
       "      <td>0.889</td>\n",
       "      <td>0.750</td>\n",
       "      <td>0.965</td>\n",
       "      <td>0.687</td>\n",
       "      <td>0.755</td>\n",
       "    </tr>\n",
       "    <tr>\n",
       "      <th>6</th>\n",
       "      <td>1.000</td>\n",
       "      <td>1.000</td>\n",
       "      <td>1.000</td>\n",
       "      <td>1.000</td>\n",
       "      <td>1.000</td>\n",
       "      <td>1.000</td>\n",
       "      <td>1.000</td>\n",
       "      <td>1.000</td>\n",
       "      <td>0.569</td>\n",
       "      <td>0.987</td>\n",
       "    </tr>\n",
       "    <tr>\n",
       "      <th>7</th>\n",
       "      <td>0.875</td>\n",
       "      <td>0.812</td>\n",
       "      <td>1.000</td>\n",
       "      <td>0.750</td>\n",
       "      <td>0.800</td>\n",
       "      <td>0.889</td>\n",
       "      <td>0.750</td>\n",
       "      <td>0.000</td>\n",
       "      <td>0.057</td>\n",
       "      <td>0.490</td>\n",
       "    </tr>\n",
       "    <tr>\n",
       "      <th>8</th>\n",
       "      <td>0.857</td>\n",
       "      <td>1.000</td>\n",
       "      <td>1.000</td>\n",
       "      <td>0.750</td>\n",
       "      <td>0.750</td>\n",
       "      <td>0.857</td>\n",
       "      <td>0.720</td>\n",
       "      <td>0.004</td>\n",
       "      <td>0.051</td>\n",
       "      <td>0.371</td>\n",
       "    </tr>\n",
       "    <tr>\n",
       "      <th>9</th>\n",
       "      <td>1.000</td>\n",
       "      <td>1.000</td>\n",
       "      <td>1.000</td>\n",
       "      <td>1.000</td>\n",
       "      <td>1.000</td>\n",
       "      <td>1.000</td>\n",
       "      <td>1.000</td>\n",
       "      <td>1.000</td>\n",
       "      <td>0.692</td>\n",
       "      <td>0.997</td>\n",
       "    </tr>\n",
       "    <tr>\n",
       "      <th>Mean</th>\n",
       "      <td>0.911</td>\n",
       "      <td>0.981</td>\n",
       "      <td>1.000</td>\n",
       "      <td>0.825</td>\n",
       "      <td>0.862</td>\n",
       "      <td>0.921</td>\n",
       "      <td>0.822</td>\n",
       "      <td>0.736</td>\n",
       "      <td>0.546</td>\n",
       "      <td>0.762</td>\n",
       "    </tr>\n",
       "    <tr>\n",
       "      <th>SD</th>\n",
       "      <td>0.081</td>\n",
       "      <td>0.056</td>\n",
       "      <td>0.000</td>\n",
       "      <td>0.160</td>\n",
       "      <td>0.119</td>\n",
       "      <td>0.069</td>\n",
       "      <td>0.162</td>\n",
       "      <td>0.736</td>\n",
       "      <td>0.546</td>\n",
       "      <td>0.762</td>\n",
       "    </tr>\n",
       "  </tbody>\n",
       "</table>\n",
       "</div>"
      ],
      "text/plain": [
       "      Accuracy   AUC  Recall  Specificity  Prec.    F1  Kappa  \\\n",
       "0        0.875 1.000   1.000        0.750  0.800 0.889  0.750   \n",
       "1        1.000 1.000   1.000        1.000  1.000 1.000  1.000   \n",
       "2        1.000 1.000   1.000        1.000  1.000 1.000  1.000   \n",
       "3        0.875 1.000   1.000        0.750  0.800 0.889  0.750   \n",
       "4        0.750 1.000   1.000        0.500  0.667 0.800  0.500   \n",
       "5        0.875 1.000   1.000        0.750  0.800 0.889  0.750   \n",
       "6        1.000 1.000   1.000        1.000  1.000 1.000  1.000   \n",
       "7        0.875 0.812   1.000        0.750  0.800 0.889  0.750   \n",
       "8        0.857 1.000   1.000        0.750  0.750 0.857  0.720   \n",
       "9        1.000 1.000   1.000        1.000  1.000 1.000  1.000   \n",
       "Mean     0.911 0.981   1.000        0.825  0.862 0.921  0.822   \n",
       "SD       0.081 0.056   0.000        0.160  0.119 0.069  0.162   \n",
       "\n",
       "      Hosmer_lemeshow  Spiegelhalter  Scaled_brier  \n",
       "0               0.481          0.139         0.611  \n",
       "1               1.000          0.731         0.999  \n",
       "2               1.000          0.727         0.998  \n",
       "3               0.957          0.904         0.734  \n",
       "4               0.954          0.906         0.684  \n",
       "5               0.965          0.687         0.755  \n",
       "6               1.000          0.569         0.987  \n",
       "7               0.000          0.057         0.490  \n",
       "8               0.004          0.051         0.371  \n",
       "9               1.000          0.692         0.997  \n",
       "Mean            0.736          0.546         0.762  \n",
       "SD              0.736          0.546         0.762  "
      ]
     },
     "metadata": {},
     "output_type": "display_data"
    }
   ],
   "source": [
    "lgbmtuned = tune_model('lightgbm', optimize='AUC', n_iter=20)"
   ]
  },
  {
   "cell_type": "code",
   "execution_count": 1258,
   "metadata": {},
   "outputs": [
    {
     "data": {
      "text/html": [
       "<div>\n",
       "<style scoped>\n",
       "    .dataframe tbody tr th:only-of-type {\n",
       "        vertical-align: middle;\n",
       "    }\n",
       "\n",
       "    .dataframe tbody tr th {\n",
       "        vertical-align: top;\n",
       "    }\n",
       "\n",
       "    .dataframe thead th {\n",
       "        text-align: right;\n",
       "    }\n",
       "</style>\n",
       "<table border=\"1\" class=\"dataframe\">\n",
       "  <thead>\n",
       "    <tr style=\"text-align: right;\">\n",
       "      <th></th>\n",
       "      <th>Accuracy</th>\n",
       "      <th>AUC</th>\n",
       "      <th>Recall</th>\n",
       "      <th>Specificity</th>\n",
       "      <th>Prec.</th>\n",
       "      <th>F1</th>\n",
       "      <th>Kappa</th>\n",
       "      <th>Hosmer_lemeshow</th>\n",
       "      <th>Spiegelhalter</th>\n",
       "      <th>Scaled_brier</th>\n",
       "    </tr>\n",
       "  </thead>\n",
       "  <tbody>\n",
       "    <tr>\n",
       "      <th>0</th>\n",
       "      <td>1.000</td>\n",
       "      <td>1.000</td>\n",
       "      <td>1.000</td>\n",
       "      <td>1.000</td>\n",
       "      <td>1.000</td>\n",
       "      <td>1.000</td>\n",
       "      <td>1.000</td>\n",
       "      <td>0.988</td>\n",
       "      <td>0.354</td>\n",
       "      <td>0.843</td>\n",
       "    </tr>\n",
       "    <tr>\n",
       "      <th>1</th>\n",
       "      <td>1.000</td>\n",
       "      <td>1.000</td>\n",
       "      <td>1.000</td>\n",
       "      <td>1.000</td>\n",
       "      <td>1.000</td>\n",
       "      <td>1.000</td>\n",
       "      <td>1.000</td>\n",
       "      <td>0.999</td>\n",
       "      <td>0.334</td>\n",
       "      <td>0.951</td>\n",
       "    </tr>\n",
       "    <tr>\n",
       "      <th>2</th>\n",
       "      <td>1.000</td>\n",
       "      <td>1.000</td>\n",
       "      <td>1.000</td>\n",
       "      <td>1.000</td>\n",
       "      <td>1.000</td>\n",
       "      <td>1.000</td>\n",
       "      <td>1.000</td>\n",
       "      <td>0.998</td>\n",
       "      <td>0.310</td>\n",
       "      <td>0.942</td>\n",
       "    </tr>\n",
       "    <tr>\n",
       "      <th>3</th>\n",
       "      <td>1.000</td>\n",
       "      <td>1.000</td>\n",
       "      <td>1.000</td>\n",
       "      <td>1.000</td>\n",
       "      <td>1.000</td>\n",
       "      <td>1.000</td>\n",
       "      <td>1.000</td>\n",
       "      <td>0.993</td>\n",
       "      <td>0.273</td>\n",
       "      <td>0.888</td>\n",
       "    </tr>\n",
       "    <tr>\n",
       "      <th>4</th>\n",
       "      <td>0.875</td>\n",
       "      <td>1.000</td>\n",
       "      <td>1.000</td>\n",
       "      <td>0.750</td>\n",
       "      <td>0.800</td>\n",
       "      <td>0.889</td>\n",
       "      <td>0.750</td>\n",
       "      <td>0.827</td>\n",
       "      <td>0.626</td>\n",
       "      <td>0.612</td>\n",
       "    </tr>\n",
       "    <tr>\n",
       "      <th>5</th>\n",
       "      <td>0.875</td>\n",
       "      <td>1.000</td>\n",
       "      <td>1.000</td>\n",
       "      <td>0.750</td>\n",
       "      <td>0.800</td>\n",
       "      <td>0.889</td>\n",
       "      <td>0.750</td>\n",
       "      <td>0.933</td>\n",
       "      <td>0.825</td>\n",
       "      <td>0.725</td>\n",
       "    </tr>\n",
       "    <tr>\n",
       "      <th>6</th>\n",
       "      <td>1.000</td>\n",
       "      <td>1.000</td>\n",
       "      <td>1.000</td>\n",
       "      <td>1.000</td>\n",
       "      <td>1.000</td>\n",
       "      <td>1.000</td>\n",
       "      <td>1.000</td>\n",
       "      <td>0.982</td>\n",
       "      <td>0.337</td>\n",
       "      <td>0.813</td>\n",
       "    </tr>\n",
       "    <tr>\n",
       "      <th>7</th>\n",
       "      <td>0.875</td>\n",
       "      <td>1.000</td>\n",
       "      <td>1.000</td>\n",
       "      <td>0.750</td>\n",
       "      <td>0.800</td>\n",
       "      <td>0.889</td>\n",
       "      <td>0.750</td>\n",
       "      <td>0.900</td>\n",
       "      <td>0.633</td>\n",
       "      <td>0.687</td>\n",
       "    </tr>\n",
       "    <tr>\n",
       "      <th>8</th>\n",
       "      <td>0.857</td>\n",
       "      <td>1.000</td>\n",
       "      <td>1.000</td>\n",
       "      <td>0.750</td>\n",
       "      <td>0.750</td>\n",
       "      <td>0.857</td>\n",
       "      <td>0.720</td>\n",
       "      <td>0.974</td>\n",
       "      <td>0.318</td>\n",
       "      <td>0.748</td>\n",
       "    </tr>\n",
       "    <tr>\n",
       "      <th>9</th>\n",
       "      <td>0.857</td>\n",
       "      <td>1.000</td>\n",
       "      <td>1.000</td>\n",
       "      <td>0.667</td>\n",
       "      <td>0.800</td>\n",
       "      <td>0.889</td>\n",
       "      <td>0.696</td>\n",
       "      <td>0.978</td>\n",
       "      <td>0.467</td>\n",
       "      <td>0.759</td>\n",
       "    </tr>\n",
       "    <tr>\n",
       "      <th>Mean</th>\n",
       "      <td>0.934</td>\n",
       "      <td>1.000</td>\n",
       "      <td>1.000</td>\n",
       "      <td>0.867</td>\n",
       "      <td>0.895</td>\n",
       "      <td>0.941</td>\n",
       "      <td>0.867</td>\n",
       "      <td>0.957</td>\n",
       "      <td>0.448</td>\n",
       "      <td>0.797</td>\n",
       "    </tr>\n",
       "    <tr>\n",
       "      <th>SD</th>\n",
       "      <td>0.066</td>\n",
       "      <td>0.000</td>\n",
       "      <td>0.000</td>\n",
       "      <td>0.135</td>\n",
       "      <td>0.106</td>\n",
       "      <td>0.059</td>\n",
       "      <td>0.134</td>\n",
       "      <td>0.957</td>\n",
       "      <td>0.448</td>\n",
       "      <td>0.797</td>\n",
       "    </tr>\n",
       "  </tbody>\n",
       "</table>\n",
       "</div>"
      ],
      "text/plain": [
       "      Accuracy   AUC  Recall  Specificity  Prec.    F1  Kappa  \\\n",
       "0        1.000 1.000   1.000        1.000  1.000 1.000  1.000   \n",
       "1        1.000 1.000   1.000        1.000  1.000 1.000  1.000   \n",
       "2        1.000 1.000   1.000        1.000  1.000 1.000  1.000   \n",
       "3        1.000 1.000   1.000        1.000  1.000 1.000  1.000   \n",
       "4        0.875 1.000   1.000        0.750  0.800 0.889  0.750   \n",
       "5        0.875 1.000   1.000        0.750  0.800 0.889  0.750   \n",
       "6        1.000 1.000   1.000        1.000  1.000 1.000  1.000   \n",
       "7        0.875 1.000   1.000        0.750  0.800 0.889  0.750   \n",
       "8        0.857 1.000   1.000        0.750  0.750 0.857  0.720   \n",
       "9        0.857 1.000   1.000        0.667  0.800 0.889  0.696   \n",
       "Mean     0.934 1.000   1.000        0.867  0.895 0.941  0.867   \n",
       "SD       0.066 0.000   0.000        0.135  0.106 0.059  0.134   \n",
       "\n",
       "      Hosmer_lemeshow  Spiegelhalter  Scaled_brier  \n",
       "0               0.988          0.354         0.843  \n",
       "1               0.999          0.334         0.951  \n",
       "2               0.998          0.310         0.942  \n",
       "3               0.993          0.273         0.888  \n",
       "4               0.827          0.626         0.612  \n",
       "5               0.933          0.825         0.725  \n",
       "6               0.982          0.337         0.813  \n",
       "7               0.900          0.633         0.687  \n",
       "8               0.974          0.318         0.748  \n",
       "9               0.978          0.467         0.759  \n",
       "Mean            0.957          0.448         0.797  \n",
       "SD              0.957          0.448         0.797  "
      ]
     },
     "metadata": {},
     "output_type": "display_data"
    }
   ],
   "source": [
    "xgbtuned = tune_model('xgboost', optimize='AUC', n_iter=20)"
   ]
  },
  {
   "cell_type": "markdown",
   "metadata": {},
   "source": [
    "### Select best algorithm based on test data AUC"
   ]
  },
  {
   "cell_type": "code",
   "execution_count": 1259,
   "metadata": {},
   "outputs": [
    {
     "data": {
      "text/html": [
       "<div>\n",
       "<style scoped>\n",
       "    .dataframe tbody tr th:only-of-type {\n",
       "        vertical-align: middle;\n",
       "    }\n",
       "\n",
       "    .dataframe tbody tr th {\n",
       "        vertical-align: top;\n",
       "    }\n",
       "\n",
       "    .dataframe thead th {\n",
       "        text-align: right;\n",
       "    }\n",
       "</style>\n",
       "<table border=\"1\" class=\"dataframe\">\n",
       "  <thead>\n",
       "    <tr style=\"text-align: right;\">\n",
       "      <th></th>\n",
       "      <th>Model</th>\n",
       "      <th>Accuracy</th>\n",
       "      <th>AUC</th>\n",
       "      <th>Recall</th>\n",
       "      <th>Specificity</th>\n",
       "      <th>Prec.</th>\n",
       "      <th>F1</th>\n",
       "      <th>Kappa</th>\n",
       "      <th>Hosmer_lemeshow</th>\n",
       "      <th>Spiegelhalter</th>\n",
       "      <th>Scaled_brier</th>\n",
       "    </tr>\n",
       "  </thead>\n",
       "  <tbody>\n",
       "    <tr>\n",
       "      <th>0</th>\n",
       "      <td>CatBoost Classifier</td>\n",
       "      <td>0.750</td>\n",
       "      <td>0.528</td>\n",
       "      <td>0.000</td>\n",
       "      <td>0.833</td>\n",
       "      <td>0.000</td>\n",
       "      <td>0.000</td>\n",
       "      <td>-0.136</td>\n",
       "      <td>0.000</td>\n",
       "      <td>0.009</td>\n",
       "      <td>-1.346</td>\n",
       "    </tr>\n",
       "  </tbody>\n",
       "</table>\n",
       "</div>"
      ],
      "text/plain": [
       "                 Model  Accuracy   AUC  Recall  Specificity  Prec.    F1  \\\n",
       "0  CatBoost Classifier     0.750 0.528   0.000        0.833  0.000 0.000   \n",
       "\n",
       "   Kappa  Hosmer_lemeshow  Spiegelhalter  Scaled_brier  \n",
       "0 -0.136            0.000          0.009        -1.346  "
      ]
     },
     "metadata": {},
     "output_type": "display_data"
    }
   ],
   "source": [
    "preds_cat = predict_model(cattuned)"
   ]
  },
  {
   "cell_type": "code",
   "execution_count": 1260,
   "metadata": {},
   "outputs": [
    {
     "data": {
      "text/html": [
       "<div>\n",
       "<style scoped>\n",
       "    .dataframe tbody tr th:only-of-type {\n",
       "        vertical-align: middle;\n",
       "    }\n",
       "\n",
       "    .dataframe tbody tr th {\n",
       "        vertical-align: top;\n",
       "    }\n",
       "\n",
       "    .dataframe thead th {\n",
       "        text-align: right;\n",
       "    }\n",
       "</style>\n",
       "<table border=\"1\" class=\"dataframe\">\n",
       "  <thead>\n",
       "    <tr style=\"text-align: right;\">\n",
       "      <th></th>\n",
       "      <th>Model</th>\n",
       "      <th>Accuracy</th>\n",
       "      <th>AUC</th>\n",
       "      <th>Recall</th>\n",
       "      <th>Specificity</th>\n",
       "      <th>Prec.</th>\n",
       "      <th>F1</th>\n",
       "      <th>Kappa</th>\n",
       "      <th>Hosmer_lemeshow</th>\n",
       "      <th>Spiegelhalter</th>\n",
       "      <th>Scaled_brier</th>\n",
       "    </tr>\n",
       "  </thead>\n",
       "  <tbody>\n",
       "    <tr>\n",
       "      <th>0</th>\n",
       "      <td>Light Gradient Boosting Machine</td>\n",
       "      <td>0.750</td>\n",
       "      <td>0.278</td>\n",
       "      <td>0.000</td>\n",
       "      <td>0.833</td>\n",
       "      <td>0.000</td>\n",
       "      <td>0.000</td>\n",
       "      <td>-0.136</td>\n",
       "      <td>0.000</td>\n",
       "      <td>0.000</td>\n",
       "      <td>-1.711</td>\n",
       "    </tr>\n",
       "  </tbody>\n",
       "</table>\n",
       "</div>"
      ],
      "text/plain": [
       "                             Model  Accuracy   AUC  Recall  Specificity  \\\n",
       "0  Light Gradient Boosting Machine     0.750 0.278   0.000        0.833   \n",
       "\n",
       "   Prec.    F1  Kappa  Hosmer_lemeshow  Spiegelhalter  Scaled_brier  \n",
       "0  0.000 0.000 -0.136            0.000          0.000        -1.711  "
      ]
     },
     "metadata": {},
     "output_type": "display_data"
    }
   ],
   "source": [
    "preds_lgb = predict_model(lgbmtuned)"
   ]
  },
  {
   "cell_type": "code",
   "execution_count": 1261,
   "metadata": {},
   "outputs": [
    {
     "data": {
      "text/html": [
       "<div>\n",
       "<style scoped>\n",
       "    .dataframe tbody tr th:only-of-type {\n",
       "        vertical-align: middle;\n",
       "    }\n",
       "\n",
       "    .dataframe tbody tr th {\n",
       "        vertical-align: top;\n",
       "    }\n",
       "\n",
       "    .dataframe thead th {\n",
       "        text-align: right;\n",
       "    }\n",
       "</style>\n",
       "<table border=\"1\" class=\"dataframe\">\n",
       "  <thead>\n",
       "    <tr style=\"text-align: right;\">\n",
       "      <th></th>\n",
       "      <th>Model</th>\n",
       "      <th>Accuracy</th>\n",
       "      <th>AUC</th>\n",
       "      <th>Recall</th>\n",
       "      <th>Specificity</th>\n",
       "      <th>Prec.</th>\n",
       "      <th>F1</th>\n",
       "      <th>Kappa</th>\n",
       "      <th>Hosmer_lemeshow</th>\n",
       "      <th>Spiegelhalter</th>\n",
       "      <th>Scaled_brier</th>\n",
       "    </tr>\n",
       "  </thead>\n",
       "  <tbody>\n",
       "    <tr>\n",
       "      <th>0</th>\n",
       "      <td>Extreme Gradient Boosting</td>\n",
       "      <td>0.750</td>\n",
       "      <td>0.444</td>\n",
       "      <td>0.000</td>\n",
       "      <td>0.833</td>\n",
       "      <td>0.000</td>\n",
       "      <td>0.000</td>\n",
       "      <td>-0.136</td>\n",
       "      <td>0.000</td>\n",
       "      <td>0.014</td>\n",
       "      <td>-1.387</td>\n",
       "    </tr>\n",
       "  </tbody>\n",
       "</table>\n",
       "</div>"
      ],
      "text/plain": [
       "                       Model  Accuracy   AUC  Recall  Specificity  Prec.  \\\n",
       "0  Extreme Gradient Boosting     0.750 0.444   0.000        0.833  0.000   \n",
       "\n",
       "     F1  Kappa  Hosmer_lemeshow  Spiegelhalter  Scaled_brier  \n",
       "0 0.000 -0.136            0.000          0.014        -1.387  "
      ]
     },
     "metadata": {},
     "output_type": "display_data"
    }
   ],
   "source": [
    "preds_xgb = predict_model(xgbtuned)"
   ]
  },
  {
   "cell_type": "code",
   "execution_count": 1262,
   "metadata": {},
   "outputs": [],
   "source": [
    "# Put in PREDS the best algorithm chosen in the previous lines: preds_cat OR preds_lgb OR preds_xgb\n",
    "preds = preds_cat\n",
    "#preds = preds_lgb\n",
    "#preds = preds_xgb"
   ]
  },
  {
   "cell_type": "markdown",
   "metadata": {},
   "source": [
    "### Best model"
   ]
  },
  {
   "cell_type": "code",
   "execution_count": 1263,
   "metadata": {},
   "outputs": [
    {
     "data": {
      "text/plain": [
       "0.8823529411764706"
      ]
     },
     "execution_count": 1263,
     "metadata": {},
     "output_type": "execute_result"
    }
   ],
   "source": [
    "npv(y_test, preds['Label'])"
   ]
  },
  {
   "cell_type": "code",
   "execution_count": 1264,
   "metadata": {},
   "outputs": [
    {
     "data": {
      "text/plain": [
       "['0.01', '1.00']"
      ]
     },
     "execution_count": 1264,
     "metadata": {},
     "output_type": "execute_result"
    }
   ],
   "source": [
    "#ROC AUC (INTERVALO)\n",
    "[\"{0:0.2f}\".format(i) for i in AUC_CI(y_test, preds['Score'].values)]"
   ]
  },
  {
   "cell_type": "code",
   "execution_count": 1265,
   "metadata": {},
   "outputs": [
    {
     "ename": "ZeroDivisionError",
     "evalue": "float division by zero",
     "output_type": "error",
     "traceback": [
      "\u001b[1;31m---------------------------------------------------------------------------\u001b[0m",
      "\u001b[1;31mZeroDivisionError\u001b[0m                         Traceback (most recent call last)",
      "Cell \u001b[1;32mIn[1265], line 2\u001b[0m\n\u001b[0;32m      1\u001b[0m \u001b[38;5;28;01mimport\u001b[39;00m \u001b[38;5;21;01mMLFlow_Utils\u001b[39;00m\n\u001b[1;32m----> 2\u001b[0m \u001b[43mbinary_classification_metrics\u001b[49m\u001b[43m(\u001b[49m\u001b[43my_test\u001b[49m\u001b[43m,\u001b[49m\u001b[43m \u001b[49m\u001b[43mpreds\u001b[49m\u001b[43m[\u001b[49m\u001b[38;5;124;43m\"\u001b[39;49m\u001b[38;5;124;43mLabel\u001b[39;49m\u001b[38;5;124;43m\"\u001b[39;49m\u001b[43m]\u001b[49m\u001b[43m,\u001b[49m\u001b[43m \u001b[49m\u001b[43mpreds\u001b[49m\u001b[43m[\u001b[49m\u001b[38;5;124;43m\"\u001b[39;49m\u001b[38;5;124;43mScore\u001b[39;49m\u001b[38;5;124;43m\"\u001b[39;49m\u001b[43m]\u001b[49m\u001b[43m)\u001b[49m\n",
      "File \u001b[1;32m~\\OneDrive\\Documents\\carine\\A_POS_DOC\\iacovpy10\\MLFlow_Utils.py:584\u001b[0m, in \u001b[0;36mbinary_classification_metrics\u001b[1;34m(ground_truth, prediction, prediction_proba, show_results)\u001b[0m\n\u001b[0;32m    566\u001b[0m warnings\u001b[38;5;241m.\u001b[39mfilterwarnings(\u001b[38;5;124m\"\u001b[39m\u001b[38;5;124mignore\u001b[39m\u001b[38;5;124m\"\u001b[39m)\n\u001b[0;32m    568\u001b[0m fprate, tprate, thresholds \u001b[38;5;241m=\u001b[39m roc_curve(ground_truth, prediction_proba, pos_label\u001b[38;5;241m=\u001b[39m\u001b[38;5;241m1\u001b[39m)\n\u001b[0;32m    570\u001b[0m monitor \u001b[38;5;241m=\u001b[39m pd\u001b[38;5;241m.\u001b[39mDataFrame(\n\u001b[0;32m    571\u001b[0m     [\n\u001b[0;32m    572\u001b[0m         [\u001b[38;5;124m\"\u001b[39m\u001b[38;5;124mGround Truth Prevalence\u001b[39m\u001b[38;5;124m\"\u001b[39m, \u001b[38;5;124m\"\u001b[39m\u001b[38;5;124m. . . \u001b[39m\u001b[38;5;124m\"\u001b[39m, prevalence(ground_truth)],\n\u001b[0;32m    573\u001b[0m         [\u001b[38;5;124m\"\u001b[39m\u001b[38;5;124mTest set Prevalence\u001b[39m\u001b[38;5;124m\"\u001b[39m, \u001b[38;5;124m\"\u001b[39m\u001b[38;5;124m. . . \u001b[39m\u001b[38;5;124m\"\u001b[39m, prevalence(prediction)],\n\u001b[0;32m    574\u001b[0m         [\u001b[38;5;124m\"\u001b[39m\u001b[38;5;124mTrue positive rate (recall)\u001b[39m\u001b[38;5;124m\"\u001b[39m, \u001b[38;5;124m\"\u001b[39m\u001b[38;5;124m. . . \u001b[39m\u001b[38;5;124m\"\u001b[39m, tpr(ground_truth, prediction)],\n\u001b[0;32m    575\u001b[0m         [\u001b[38;5;124m\"\u001b[39m\u001b[38;5;124mFalse positive rate\u001b[39m\u001b[38;5;124m\"\u001b[39m, \u001b[38;5;124m\"\u001b[39m\u001b[38;5;124m. . . \u001b[39m\u001b[38;5;124m\"\u001b[39m, fpr(ground_truth, prediction)],\n\u001b[0;32m    576\u001b[0m         [\u001b[38;5;124m\"\u001b[39m\u001b[38;5;124mPositive predictive value (precision)\u001b[39m\u001b[38;5;124m\"\u001b[39m, \u001b[38;5;124m\"\u001b[39m\u001b[38;5;124m. . . \u001b[39m\u001b[38;5;124m\"\u001b[39m, ppv(ground_truth, prediction)],\n\u001b[0;32m    577\u001b[0m         [\u001b[38;5;124m\"\u001b[39m\u001b[38;5;124mTrue negative rate (specificity)\u001b[39m\u001b[38;5;124m\"\u001b[39m, \u001b[38;5;124m\"\u001b[39m\u001b[38;5;124m. . . \u001b[39m\u001b[38;5;124m\"\u001b[39m, tnr(ground_truth, prediction)],\n\u001b[0;32m    578\u001b[0m         [\u001b[38;5;124m\"\u001b[39m\u001b[38;5;124mFalse negative rate\u001b[39m\u001b[38;5;124m\"\u001b[39m, \u001b[38;5;124m\"\u001b[39m\u001b[38;5;124m. . . \u001b[39m\u001b[38;5;124m\"\u001b[39m, fnr(ground_truth, prediction)],\n\u001b[0;32m    579\u001b[0m         [\u001b[38;5;124m\"\u001b[39m\u001b[38;5;124mNegative predictive value\u001b[39m\u001b[38;5;124m\"\u001b[39m, \u001b[38;5;124m\"\u001b[39m\u001b[38;5;124m. . . \u001b[39m\u001b[38;5;124m\"\u001b[39m, npv(ground_truth, prediction)],\n\u001b[0;32m    580\u001b[0m         [\u001b[38;5;124m\"\u001b[39m\u001b[38;5;124mPositive likelihood ratio (bigger is better)\u001b[39m\u001b[38;5;124m\"\u001b[39m, \u001b[38;5;124m\"\u001b[39m\u001b[38;5;124m. . . \u001b[39m\u001b[38;5;124m\"\u001b[39m, plr(ground_truth, prediction)],\n\u001b[0;32m    581\u001b[0m         [\u001b[38;5;124m\"\u001b[39m\u001b[38;5;124mNegative likelihood ratio (smaller is better)\u001b[39m\u001b[38;5;124m\"\u001b[39m, \u001b[38;5;124m\"\u001b[39m\u001b[38;5;124m. . . \u001b[39m\u001b[38;5;124m\"\u001b[39m, nlr(ground_truth, prediction)],\n\u001b[0;32m    582\u001b[0m         [\u001b[38;5;124m\"\u001b[39m\u001b[38;5;124mDiagnostic odds ratio\u001b[39m\u001b[38;5;124m\"\u001b[39m, \u001b[38;5;124m\"\u001b[39m\u001b[38;5;124m. . . \u001b[39m\u001b[38;5;124m\"\u001b[39m, dor(ground_truth, prediction)],\n\u001b[0;32m    583\u001b[0m         [\u001b[38;5;124m\"\u001b[39m\u001b[38;5;124mAccuracy\u001b[39m\u001b[38;5;124m\"\u001b[39m, \u001b[38;5;124m\"\u001b[39m\u001b[38;5;124m. . . \u001b[39m\u001b[38;5;124m\"\u001b[39m, accuracy(ground_truth, prediction)],\n\u001b[1;32m--> 584\u001b[0m         [\u001b[38;5;124m\"\u001b[39m\u001b[38;5;124mF1 score\u001b[39m\u001b[38;5;124m\"\u001b[39m, \u001b[38;5;124m\"\u001b[39m\u001b[38;5;124m. . . \u001b[39m\u001b[38;5;124m\"\u001b[39m, \u001b[43mf1_score\u001b[49m\u001b[43m(\u001b[49m\u001b[43mground_truth\u001b[49m\u001b[43m,\u001b[49m\u001b[43m \u001b[49m\u001b[43mprediction\u001b[49m\u001b[43m)\u001b[49m],\n\u001b[0;32m    585\u001b[0m         [\u001b[38;5;124m\"\u001b[39m\u001b[38;5;124mAccuracy\u001b[39m\u001b[38;5;124m\"\u001b[39m, \u001b[38;5;124m\"\u001b[39m\u001b[38;5;124m. . . \u001b[39m\u001b[38;5;124m\"\u001b[39m, accuracy(ground_truth, prediction)],\n\u001b[0;32m    586\u001b[0m         [\u001b[38;5;124m\"\u001b[39m\u001b[38;5;124mROC AUC\u001b[39m\u001b[38;5;124m\"\u001b[39m, \u001b[38;5;124m\"\u001b[39m\u001b[38;5;124m. . . \u001b[39m\u001b[38;5;124m\"\u001b[39m, auc(fprate, tprate)],\n\u001b[0;32m    587\u001b[0m         [\u001b[38;5;124m\"\u001b[39m\u001b[38;5;124mROC AUC (95\u001b[39m\u001b[38;5;124m%\u001b[39m\u001b[38;5;124m CI)\u001b[39m\u001b[38;5;124m\"\u001b[39m, \u001b[38;5;124m\"\u001b[39m\u001b[38;5;124m. . . \u001b[39m\u001b[38;5;124m\"\u001b[39m, [\u001b[38;5;124m\"\u001b[39m\u001b[38;5;132;01m{0:0.2f}\u001b[39;00m\u001b[38;5;124m\"\u001b[39m\u001b[38;5;241m.\u001b[39mformat(i) \u001b[38;5;28;01mfor\u001b[39;00m i \u001b[38;5;129;01min\u001b[39;00m AUC_CI(ground_truth, prediction_proba\u001b[38;5;241m.\u001b[39m_values)]],\n\u001b[0;32m    588\u001b[0m         [\u001b[38;5;124m\"\u001b[39m\u001b[38;5;124mScaled Brier Score\u001b[39m\u001b[38;5;124m\"\u001b[39m, \u001b[38;5;124m\"\u001b[39m\u001b[38;5;124m. . . \u001b[39m\u001b[38;5;124m\"\u001b[39m, scaled_brier_score(ground_truth, prediction_proba)],\n\u001b[0;32m    589\u001b[0m         [\u001b[38;5;124m\"\u001b[39m\u001b[38;5;124mHosmer_Lemeshow p-value\u001b[39m\u001b[38;5;124m\"\u001b[39m, \u001b[38;5;124m\"\u001b[39m\u001b[38;5;124m. . . \u001b[39m\u001b[38;5;124m\"\u001b[39m, hosmer_lemeshow(ground_truth, prediction_proba)],\n\u001b[0;32m    590\u001b[0m         [\u001b[38;5;124m\"\u001b[39m\u001b[38;5;124mSpiegelhalter p-value\u001b[39m\u001b[38;5;124m\"\u001b[39m, \u001b[38;5;124m\"\u001b[39m\u001b[38;5;124m. . . \u001b[39m\u001b[38;5;124m\"\u001b[39m, spiegelhalter(ground_truth, prediction_proba)],\n\u001b[0;32m    591\u001b[0m \n\u001b[0;32m    592\u001b[0m     ],\n\u001b[0;32m    593\u001b[0m     columns\u001b[38;5;241m=\u001b[39m[\u001b[38;5;124m\"\u001b[39m\u001b[38;5;124m\"\u001b[39m, \u001b[38;5;124m\"\u001b[39m\u001b[38;5;124m \u001b[39m\u001b[38;5;124m\"\u001b[39m, \u001b[38;5;124m\"\u001b[39m\u001b[38;5;124m   \u001b[39m\u001b[38;5;124m\"\u001b[39m],\n\u001b[0;32m    594\u001b[0m )\u001b[38;5;241m.\u001b[39mset_index(\u001b[38;5;124m\"\u001b[39m\u001b[38;5;124m\"\u001b[39m)\n\u001b[0;32m    595\u001b[0m \u001b[38;5;28;01mif\u001b[39;00m show_results:\n\u001b[0;32m    596\u001b[0m     display(monitor)\n",
      "File \u001b[1;32m~\\OneDrive\\Documents\\carine\\A_POS_DOC\\iacovpy10\\MLFlow_Utils.py:427\u001b[0m, in \u001b[0;36mf1_score\u001b[1;34m(ground_truth, predicted)\u001b[0m\n\u001b[0;32m    422\u001b[0m \u001b[38;5;28;01mdef\u001b[39;00m \u001b[38;5;21mf1_score\u001b[39m(ground_truth, predicted):\n\u001b[0;32m    423\u001b[0m \u001b[38;5;250m    \u001b[39m\u001b[38;5;124;03m\"\"\"\u001b[39;00m\n\u001b[0;32m    424\u001b[0m \u001b[38;5;124;03m    This function measures the f1 score\u001b[39;00m\n\u001b[0;32m    425\u001b[0m \u001b[38;5;124;03m    (also called \"balanced f score\")\u001b[39;00m\n\u001b[0;32m    426\u001b[0m \u001b[38;5;124;03m    \"\"\"\u001b[39;00m\n\u001b[1;32m--> 427\u001b[0m     \u001b[38;5;28;01mreturn\u001b[39;00m (\u001b[38;5;241m2\u001b[39m \u001b[38;5;241m/\u001b[39m ((\u001b[38;5;241;43m1\u001b[39;49m\u001b[43m \u001b[49m\u001b[38;5;241;43m/\u001b[39;49m\u001b[43m \u001b[49m\u001b[43mtrue_positive_rate\u001b[49m\u001b[43m(\u001b[49m\u001b[43mground_truth\u001b[49m\u001b[43m,\u001b[49m\u001b[43m \u001b[49m\u001b[43mpredicted\u001b[49m\u001b[43m)\u001b[49m) \u001b[38;5;241m+\u001b[39m\n\u001b[0;32m    428\u001b[0m                  (\u001b[38;5;241m1\u001b[39m \u001b[38;5;241m/\u001b[39m positive_predictive_value(ground_truth, predicted))))\n",
      "\u001b[1;31mZeroDivisionError\u001b[0m: float division by zero"
     ]
    }
   ],
   "source": [
    "import MLFlow_Utils\n",
    "binary_classification_metrics(y_test, preds[\"Label\"], preds[\"Score\"])"
   ]
  },
  {
   "cell_type": "markdown",
   "metadata": {},
   "source": [
    "### Understand best algorithm features and results \n",
    "#### Run INTERPRETE_MODEL only for the best algorithm chosen in the previous line¶"
   ]
  },
  {
   "cell_type": "code",
   "execution_count": 1266,
   "metadata": {},
   "outputs": [],
   "source": [
    "#evaluate_model(lgbmtuned)"
   ]
  },
  {
   "cell_type": "code",
   "execution_count": 1267,
   "metadata": {},
   "outputs": [
    {
     "data": {
      "image/png": "[encoded data removed]",
      "text/plain": [
       "<Figure size 800x950 with 2 Axes>"
      ]
     },
     "metadata": {},
     "output_type": "display_data"
    }
   ],
   "source": [
    "interpret_model(cattuned)\n",
    "#interpret_model(lgbmtuned)\n",
    "#interpret_model(xgbtuned)"
   ]
  },
  {
   "cell_type": "code",
   "execution_count": 1268,
   "metadata": {},
   "outputs": [],
   "source": [
    "#plot_model(lgbmtuned, plot='ktops')"
   ]
  },
  {
   "cell_type": "markdown",
   "metadata": {},
   "source": [
    "### 2.3.1) Build a model with all data\n",
    "#### Run FINALIZE MODEL only for the best algorithm chosen in the previous lines"
   ]
  },
  {
   "cell_type": "code",
   "execution_count": 1269,
   "metadata": {},
   "outputs": [],
   "source": [
    "final_model = finalize_model(cattuned)\n",
    "#final_model = finalize_model(lgbmtuned)\n",
    "#final_model = finalize_model(xgbtuned)"
   ]
  },
  {
   "cell_type": "code",
   "execution_count": 1270,
   "metadata": {},
   "outputs": [
    {
     "data": {
      "text/plain": [
       "'CatBoostClassifier'"
      ]
     },
     "execution_count": 1270,
     "metadata": {},
     "output_type": "execute_result"
    }
   ],
   "source": [
    "str(final_model.__class__.__name__)"
   ]
  },
  {
   "cell_type": "code",
   "execution_count": 1271,
   "metadata": {},
   "outputs": [
    {
     "data": {
      "text/plain": [
       "'CatBoostClassifier_same_region_abs_number_NORTE_AM_AMAZONAS_HUGV'"
      ]
     },
     "execution_count": 1271,
     "metadata": {},
     "output_type": "execute_result"
    }
   ],
   "source": [
    "final_model_name = str(final_model.__class__.__name__) + '_same_region_abs_number_' \\\n",
    "                    + X_test_specific.region.iloc[0]  \\\n",
    "                    + '_' + X_test_specific.state.iloc[0]  \\\n",
    "                    + '_' + X_test_specific.city_hospital.iloc[0]\n",
    "final_model_name"
   ]
  },
  {
   "cell_type": "code",
   "execution_count": 1272,
   "metadata": {},
   "outputs": [
    {
     "name": "stdout",
     "output_type": "stream",
     "text": [
      "Transformation Pipeline and Model Succesfully Saved\n"
     ]
    }
   ],
   "source": [
    "save_model(final_model, final_model_name ,verbose=True)"
   ]
  },
  {
   "cell_type": "code",
   "execution_count": 1274,
   "metadata": {},
   "outputs": [
    {
     "data": {
      "text/plain": [
       "{'nan_mode': 'Min',\n",
       " 'eval_metric': 'Logloss',\n",
       " 'iterations': 50,\n",
       " 'sampling_frequency': 'PerTree',\n",
       " 'leaf_estimation_method': 'Newton',\n",
       " 'random_score_type': 'NormalWithModelSizeDecrease',\n",
       " 'grow_policy': 'SymmetricTree',\n",
       " 'penalties_coefficient': 1,\n",
       " 'boosting_type': 'Plain',\n",
       " 'model_shrink_mode': 'Constant',\n",
       " 'feature_border_type': 'GreedyLogSum',\n",
       " 'bayesian_matrix_reg': 0.10000000149011612,\n",
       " 'eval_fraction': 0,\n",
       " 'force_unit_auto_pair_weights': False,\n",
       " 'l2_leaf_reg': 9,\n",
       " 'random_strength': 1,\n",
       " 'rsm': 1,\n",
       " 'boost_from_average': False,\n",
       " 'model_size_reg': 0.5,\n",
       " 'pool_metainfo_options': {'tags': {}},\n",
       " 'subsample': 1,\n",
       " 'use_best_model': False,\n",
       " 'class_names': [0, 1],\n",
       " 'random_seed': 42,\n",
       " 'depth': 12,\n",
       " 'posterior_sampling': False,\n",
       " 'border_count': 10,\n",
       " 'classes_count': 0,\n",
       " 'auto_class_weights': 'None',\n",
       " 'sparse_features_conflict_fraction': 0,\n",
       " 'leaf_estimation_backtracking': 'AnyImprovement',\n",
       " 'best_model_min_trees': 1,\n",
       " 'model_shrink_rate': 0,\n",
       " 'min_data_in_leaf': 1,\n",
       " 'loss_function': 'Logloss',\n",
       " 'learning_rate': 0.313858300447464,\n",
       " 'score_function': 'Cosine',\n",
       " 'task_type': 'CPU',\n",
       " 'leaf_estimation_iterations': 10,\n",
       " 'bootstrap_type': 'MVS',\n",
       " 'max_leaves': 4096}"
      ]
     },
     "execution_count": 1274,
     "metadata": {},
     "output_type": "execute_result"
    }
   ],
   "source": [
    "final_model.get_all_params()\n",
    "#final_model"
   ]
  },
  {
   "cell_type": "markdown",
   "metadata": {},
   "source": [
    "# Use the saved model to predict on specific hospital"
   ]
  },
  {
   "cell_type": "code",
   "execution_count": 1275,
   "metadata": {},
   "outputs": [
    {
     "name": "stdout",
     "output_type": "stream",
     "text": [
      "loaded: CatBoostClassifier_same_region_abs_number_NORTE_AM_AMAZONAS_HUGV\n"
     ]
    }
   ],
   "source": [
    "import pickle\n",
    "import joblib\n",
    "\n",
    "#Carrego o modelo unico\n",
    "print('loaded: ' + final_model_name)\n",
    "\n",
    "same_region_abs_number_model_pkl = final_model_name + \".pkl\"\n",
    "prep_pipe_same_region_abs_number, same_region_abs_number_model = joblib.load(same_region_abs_number_model_pkl)"
   ]
  },
  {
   "cell_type": "code",
   "execution_count": 1276,
   "metadata": {},
   "outputs": [
    {
     "data": {
      "text/plain": [
       "'CatBoostClassifier'"
      ]
     },
     "execution_count": 1276,
     "metadata": {},
     "output_type": "execute_result"
    }
   ],
   "source": [
    "same_region_abs_number_model.__class__.__name__"
   ]
  },
  {
   "cell_type": "code",
   "execution_count": 1277,
   "metadata": {},
   "outputs": [
    {
     "data": {
      "text/plain": [
       "'X_test_same_region_absolute_NORTE_AM_AMAZONAS_HUGV.csv'"
      ]
     },
     "execution_count": 1277,
     "metadata": {},
     "output_type": "execute_result"
    }
   ],
   "source": [
    "x_test_specific_name"
   ]
  },
  {
   "cell_type": "code",
   "execution_count": 1278,
   "metadata": {},
   "outputs": [
    {
     "data": {
      "text/plain": [
       "(15, 25)"
      ]
     },
     "execution_count": 1278,
     "metadata": {},
     "output_type": "execute_result"
    }
   ],
   "source": [
    "#Carrego o X_test do modelo único\n",
    "X_test_single = pd.read_csv(x_test_specific_name, delimiter=\";\",index_col=0)\n",
    "X_test_single.shape"
   ]
  },
  {
   "cell_type": "code",
   "execution_count": 1279,
   "metadata": {},
   "outputs": [
    {
     "data": {
      "text/plain": [
       "Index(['city_hospital', 'age', 'male', 'heart_rate', 'resp_rate', 'sys_press',\n",
       "       'dias_press', 'mean_press', 'temp', 'hemoglobin', 'platelets',\n",
       "       'hematocrit', 'red_cells_count', 'hcm', 'rdw', 'mcv', 'leukocytes',\n",
       "       'neutrophil', 'lymphocytes', 'basophils', 'eosinophils', 'monocytes',\n",
       "       'crp', 'region', 'state'],\n",
       "      dtype='object')"
      ]
     },
     "execution_count": 1279,
     "metadata": {},
     "output_type": "execute_result"
    }
   ],
   "source": [
    "X_test_single.columns"
   ]
  },
  {
   "cell_type": "code",
   "execution_count": 1280,
   "metadata": {},
   "outputs": [
    {
     "data": {
      "text/plain": [
       "(15,)"
      ]
     },
     "execution_count": 1280,
     "metadata": {},
     "output_type": "execute_result"
    }
   ],
   "source": [
    "#Carrego o Y_test do modelo único\n",
    "y_test_single = pd.read_csv(y_test_specific_name, delimiter=\";\",index_col=0)\n",
    "y_test_single = y_test_single[\"icu\"]\n",
    "y_test_single.shape"
   ]
  },
  {
   "cell_type": "code",
   "execution_count": 1281,
   "metadata": {
    "scrolled": true
   },
   "outputs": [
    {
     "data": {
      "text/html": [
       "<div>\n",
       "<style scoped>\n",
       "    .dataframe tbody tr th:only-of-type {\n",
       "        vertical-align: middle;\n",
       "    }\n",
       "\n",
       "    .dataframe tbody tr th {\n",
       "        vertical-align: top;\n",
       "    }\n",
       "\n",
       "    .dataframe thead th {\n",
       "        text-align: right;\n",
       "    }\n",
       "</style>\n",
       "<table border=\"1\" class=\"dataframe\">\n",
       "  <thead>\n",
       "    <tr style=\"text-align: right;\">\n",
       "      <th></th>\n",
       "      <th>city_hospital</th>\n",
       "      <th>age</th>\n",
       "      <th>male</th>\n",
       "      <th>heart_rate</th>\n",
       "      <th>resp_rate</th>\n",
       "      <th>sys_press</th>\n",
       "      <th>dias_press</th>\n",
       "      <th>mean_press</th>\n",
       "      <th>temp</th>\n",
       "      <th>hemoglobin</th>\n",
       "      <th>platelets</th>\n",
       "      <th>hematocrit</th>\n",
       "      <th>red_cells_count</th>\n",
       "      <th>hcm</th>\n",
       "      <th>rdw</th>\n",
       "      <th>mcv</th>\n",
       "      <th>leukocytes</th>\n",
       "      <th>neutrophil</th>\n",
       "      <th>lymphocytes</th>\n",
       "      <th>basophils</th>\n",
       "      <th>eosinophils</th>\n",
       "      <th>monocytes</th>\n",
       "      <th>crp</th>\n",
       "      <th>region</th>\n",
       "      <th>state</th>\n",
       "    </tr>\n",
       "  </thead>\n",
       "  <tbody>\n",
       "    <tr>\n",
       "      <th>1</th>\n",
       "      <td>AMAZONAS_HUGV</td>\n",
       "      <td>61.000</td>\n",
       "      <td>1.000</td>\n",
       "      <td>86.000</td>\n",
       "      <td>18.000</td>\n",
       "      <td>172.000</td>\n",
       "      <td>75.000</td>\n",
       "      <td>107.301</td>\n",
       "      <td>34.800</td>\n",
       "      <td>11.600</td>\n",
       "      <td>110900.000</td>\n",
       "      <td>35.960</td>\n",
       "      <td>4.370</td>\n",
       "      <td>26.660</td>\n",
       "      <td>11.790</td>\n",
       "      <td>82.250</td>\n",
       "      <td>12710.000</td>\n",
       "      <td>12201.000</td>\n",
       "      <td>381.000</td>\n",
       "      <td>0.000</td>\n",
       "      <td>0.000</td>\n",
       "      <td>127.000</td>\n",
       "      <td>15.100</td>\n",
       "      <td>NORTE</td>\n",
       "      <td>AM</td>\n",
       "    </tr>\n",
       "    <tr>\n",
       "      <th>32</th>\n",
       "      <td>AMAZONAS_HUGV</td>\n",
       "      <td>45.000</td>\n",
       "      <td>1.000</td>\n",
       "      <td>114.000</td>\n",
       "      <td>24.000</td>\n",
       "      <td>130.000</td>\n",
       "      <td>80.000</td>\n",
       "      <td>96.650</td>\n",
       "      <td>36.200</td>\n",
       "      <td>16.000</td>\n",
       "      <td>197600.000</td>\n",
       "      <td>47.890</td>\n",
       "      <td>5.570</td>\n",
       "      <td>28.700</td>\n",
       "      <td>11.750</td>\n",
       "      <td>85.920</td>\n",
       "      <td>10290.000</td>\n",
       "      <td>9299.000</td>\n",
       "      <td>566.000</td>\n",
       "      <td>43.000</td>\n",
       "      <td>0.000</td>\n",
       "      <td>381.000</td>\n",
       "      <td>226.200</td>\n",
       "      <td>NORTE</td>\n",
       "      <td>AM</td>\n",
       "    </tr>\n",
       "    <tr>\n",
       "      <th>21</th>\n",
       "      <td>AMAZONAS_HUGV</td>\n",
       "      <td>66.000</td>\n",
       "      <td>0.000</td>\n",
       "      <td>NaN</td>\n",
       "      <td>NaN</td>\n",
       "      <td>NaN</td>\n",
       "      <td>NaN</td>\n",
       "      <td>NaN</td>\n",
       "      <td>NaN</td>\n",
       "      <td>11.750</td>\n",
       "      <td>453800.000</td>\n",
       "      <td>36.890</td>\n",
       "      <td>4.110</td>\n",
       "      <td>28.550</td>\n",
       "      <td>11.680</td>\n",
       "      <td>89.620</td>\n",
       "      <td>8242.000</td>\n",
       "      <td>5114.000</td>\n",
       "      <td>1534.000</td>\n",
       "      <td>53.000</td>\n",
       "      <td>198.000</td>\n",
       "      <td>1340.000</td>\n",
       "      <td>20.900</td>\n",
       "      <td>NORTE</td>\n",
       "      <td>AM</td>\n",
       "    </tr>\n",
       "    <tr>\n",
       "      <th>25</th>\n",
       "      <td>AMAZONAS_HUGV</td>\n",
       "      <td>60.000</td>\n",
       "      <td>0.000</td>\n",
       "      <td>85.000</td>\n",
       "      <td>28.000</td>\n",
       "      <td>125.000</td>\n",
       "      <td>71.000</td>\n",
       "      <td>88.982</td>\n",
       "      <td>35.800</td>\n",
       "      <td>11.810</td>\n",
       "      <td>413400.000</td>\n",
       "      <td>35.090</td>\n",
       "      <td>4.050</td>\n",
       "      <td>29.110</td>\n",
       "      <td>11.900</td>\n",
       "      <td>86.460</td>\n",
       "      <td>8184.000</td>\n",
       "      <td>7179.000</td>\n",
       "      <td>741.000</td>\n",
       "      <td>49.000</td>\n",
       "      <td>1.000</td>\n",
       "      <td>212.000</td>\n",
       "      <td>35.700</td>\n",
       "      <td>NORTE</td>\n",
       "      <td>AM</td>\n",
       "    </tr>\n",
       "    <tr>\n",
       "      <th>31</th>\n",
       "      <td>AMAZONAS_HUGV</td>\n",
       "      <td>66.000</td>\n",
       "      <td>0.000</td>\n",
       "      <td>89.000</td>\n",
       "      <td>28.000</td>\n",
       "      <td>130.000</td>\n",
       "      <td>69.000</td>\n",
       "      <td>89.313</td>\n",
       "      <td>37.500</td>\n",
       "      <td>11.160</td>\n",
       "      <td>296500.000</td>\n",
       "      <td>34.720</td>\n",
       "      <td>4.400</td>\n",
       "      <td>29.520</td>\n",
       "      <td>13.000</td>\n",
       "      <td>91.870</td>\n",
       "      <td>17060.000</td>\n",
       "      <td>14212.000</td>\n",
       "      <td>1023.000</td>\n",
       "      <td>124.000</td>\n",
       "      <td>0.000</td>\n",
       "      <td>1699.000</td>\n",
       "      <td>94.000</td>\n",
       "      <td>NORTE</td>\n",
       "      <td>AM</td>\n",
       "    </tr>\n",
       "  </tbody>\n",
       "</table>\n",
       "</div>"
      ],
      "text/plain": [
       "    city_hospital    age  male  heart_rate  resp_rate  sys_press  dias_press  \\\n",
       "1   AMAZONAS_HUGV 61.000 1.000      86.000     18.000    172.000      75.000   \n",
       "32  AMAZONAS_HUGV 45.000 1.000     114.000     24.000    130.000      80.000   \n",
       "21  AMAZONAS_HUGV 66.000 0.000         NaN        NaN        NaN         NaN   \n",
       "25  AMAZONAS_HUGV 60.000 0.000      85.000     28.000    125.000      71.000   \n",
       "31  AMAZONAS_HUGV 66.000 0.000      89.000     28.000    130.000      69.000   \n",
       "\n",
       "    mean_press   temp  hemoglobin  platelets  hematocrit  red_cells_count  \\\n",
       "1      107.301 34.800      11.600 110900.000      35.960            4.370   \n",
       "32      96.650 36.200      16.000 197600.000      47.890            5.570   \n",
       "21         NaN    NaN      11.750 453800.000      36.890            4.110   \n",
       "25      88.982 35.800      11.810 413400.000      35.090            4.050   \n",
       "31      89.313 37.500      11.160 296500.000      34.720            4.400   \n",
       "\n",
       "      hcm    rdw    mcv  leukocytes  neutrophil  lymphocytes  basophils  \\\n",
       "1  26.660 11.790 82.250   12710.000   12201.000      381.000      0.000   \n",
       "32 28.700 11.750 85.920   10290.000    9299.000      566.000     43.000   \n",
       "21 28.550 11.680 89.620    8242.000    5114.000     1534.000     53.000   \n",
       "25 29.110 11.900 86.460    8184.000    7179.000      741.000     49.000   \n",
       "31 29.520 13.000 91.870   17060.000   14212.000     1023.000    124.000   \n",
       "\n",
       "    eosinophils  monocytes     crp region state  \n",
       "1         0.000    127.000  15.100  NORTE    AM  \n",
       "32        0.000    381.000 226.200  NORTE    AM  \n",
       "21      198.000   1340.000  20.900  NORTE    AM  \n",
       "25        1.000    212.000  35.700  NORTE    AM  \n",
       "31        0.000   1699.000  94.000  NORTE    AM  "
      ]
     },
     "execution_count": 1281,
     "metadata": {},
     "output_type": "execute_result"
    }
   ],
   "source": [
    "pd.set_option('display.max_columns', None)\n",
    "X_test_single.head()"
   ]
  },
  {
   "cell_type": "code",
   "execution_count": 1282,
   "metadata": {},
   "outputs": [],
   "source": [
    "X_test_single[\"class\"] = y_test_single"
   ]
  },
  {
   "cell_type": "code",
   "execution_count": 1283,
   "metadata": {},
   "outputs": [
    {
     "data": {
      "text/plain": [
       "Index(['city_hospital', 'age', 'male', 'heart_rate', 'resp_rate', 'sys_press',\n",
       "       'dias_press', 'mean_press', 'temp', 'hemoglobin', 'platelets',\n",
       "       'hematocrit', 'red_cells_count', 'hcm', 'rdw', 'mcv', 'leukocytes',\n",
       "       'neutrophil', 'lymphocytes', 'basophils', 'eosinophils', 'monocytes',\n",
       "       'crp', 'region', 'state', 'class'],\n",
       "      dtype='object')"
      ]
     },
     "execution_count": 1283,
     "metadata": {},
     "output_type": "execute_result"
    }
   ],
   "source": [
    "X_test_single.columns"
   ]
  },
  {
   "cell_type": "code",
   "execution_count": 1284,
   "metadata": {},
   "outputs": [],
   "source": [
    "X_test_single = X_test_single.drop(['city_hospital'],axis=1)\n",
    "X_test_single = X_test_single.drop(['region'],axis=1)\n",
    "X_test_single = X_test_single.drop(['state'],axis=1)"
   ]
  },
  {
   "cell_type": "code",
   "execution_count": 1285,
   "metadata": {},
   "outputs": [
    {
     "data": {
      "application/vnd.jupyter.widget-view+json": {
       "model_id": "c514903e730145cfb72e8a2b2460647d",
       "version_major": 2,
       "version_minor": 0
      },
      "text/plain": [
       "Text(value=\"Following data types have been inferred automatically, if they are correct press enter to continue…"
      ]
     },
     "metadata": {},
     "output_type": "display_data"
    },
    {
     "data": {
      "text/html": [
       "<div>\n",
       "<style scoped>\n",
       "    .dataframe tbody tr th:only-of-type {\n",
       "        vertical-align: middle;\n",
       "    }\n",
       "\n",
       "    .dataframe tbody tr th {\n",
       "        vertical-align: top;\n",
       "    }\n",
       "\n",
       "    .dataframe thead th {\n",
       "        text-align: right;\n",
       "    }\n",
       "</style>\n",
       "<table border=\"1\" class=\"dataframe\">\n",
       "  <thead>\n",
       "    <tr style=\"text-align: right;\">\n",
       "      <th></th>\n",
       "      <th>Data Type</th>\n",
       "    </tr>\n",
       "  </thead>\n",
       "  <tbody>\n",
       "    <tr>\n",
       "      <th>age</th>\n",
       "      <td>Numeric</td>\n",
       "    </tr>\n",
       "    <tr>\n",
       "      <th>male</th>\n",
       "      <td>Categorical</td>\n",
       "    </tr>\n",
       "    <tr>\n",
       "      <th>heart_rate</th>\n",
       "      <td>Categorical</td>\n",
       "    </tr>\n",
       "    <tr>\n",
       "      <th>resp_rate</th>\n",
       "      <td>Numeric</td>\n",
       "    </tr>\n",
       "    <tr>\n",
       "      <th>sys_press</th>\n",
       "      <td>Categorical</td>\n",
       "    </tr>\n",
       "    <tr>\n",
       "      <th>dias_press</th>\n",
       "      <td>Categorical</td>\n",
       "    </tr>\n",
       "    <tr>\n",
       "      <th>mean_press</th>\n",
       "      <td>Numeric</td>\n",
       "    </tr>\n",
       "    <tr>\n",
       "      <th>temp</th>\n",
       "      <td>Numeric</td>\n",
       "    </tr>\n",
       "    <tr>\n",
       "      <th>hemoglobin</th>\n",
       "      <td>Numeric</td>\n",
       "    </tr>\n",
       "    <tr>\n",
       "      <th>platelets</th>\n",
       "      <td>Numeric</td>\n",
       "    </tr>\n",
       "    <tr>\n",
       "      <th>hematocrit</th>\n",
       "      <td>Numeric</td>\n",
       "    </tr>\n",
       "    <tr>\n",
       "      <th>red_cells_count</th>\n",
       "      <td>Numeric</td>\n",
       "    </tr>\n",
       "    <tr>\n",
       "      <th>hcm</th>\n",
       "      <td>Numeric</td>\n",
       "    </tr>\n",
       "    <tr>\n",
       "      <th>rdw</th>\n",
       "      <td>Numeric</td>\n",
       "    </tr>\n",
       "    <tr>\n",
       "      <th>mcv</th>\n",
       "      <td>Numeric</td>\n",
       "    </tr>\n",
       "    <tr>\n",
       "      <th>leukocytes</th>\n",
       "      <td>Numeric</td>\n",
       "    </tr>\n",
       "    <tr>\n",
       "      <th>neutrophil</th>\n",
       "      <td>Numeric</td>\n",
       "    </tr>\n",
       "    <tr>\n",
       "      <th>lymphocytes</th>\n",
       "      <td>Categorical</td>\n",
       "    </tr>\n",
       "    <tr>\n",
       "      <th>basophils</th>\n",
       "      <td>Numeric</td>\n",
       "    </tr>\n",
       "    <tr>\n",
       "      <th>eosinophils</th>\n",
       "      <td>Numeric</td>\n",
       "    </tr>\n",
       "    <tr>\n",
       "      <th>monocytes</th>\n",
       "      <td>Numeric</td>\n",
       "    </tr>\n",
       "    <tr>\n",
       "      <th>crp</th>\n",
       "      <td>Numeric</td>\n",
       "    </tr>\n",
       "    <tr>\n",
       "      <th>class</th>\n",
       "      <td>Label</td>\n",
       "    </tr>\n",
       "  </tbody>\n",
       "</table>\n",
       "</div>"
      ],
      "text/plain": [
       "                   Data Type\n",
       "age                  Numeric\n",
       "male             Categorical\n",
       "heart_rate       Categorical\n",
       "resp_rate            Numeric\n",
       "sys_press        Categorical\n",
       "dias_press       Categorical\n",
       "mean_press           Numeric\n",
       "temp                 Numeric\n",
       "hemoglobin           Numeric\n",
       "platelets            Numeric\n",
       "hematocrit           Numeric\n",
       "red_cells_count      Numeric\n",
       "hcm                  Numeric\n",
       "rdw                  Numeric\n",
       "mcv                  Numeric\n",
       "leukocytes           Numeric\n",
       "neutrophil           Numeric\n",
       "lymphocytes      Categorical\n",
       "basophils            Numeric\n",
       "eosinophils          Numeric\n",
       "monocytes            Numeric\n",
       "crp                  Numeric\n",
       "class                  Label"
      ]
     },
     "metadata": {},
     "output_type": "display_data"
    },
    {
     "name": "stdin",
     "output_type": "stream",
     "text": [
      " \n"
     ]
    },
    {
     "data": {
      "text/html": [
       "<div>\n",
       "<style scoped>\n",
       "    .dataframe tbody tr th:only-of-type {\n",
       "        vertical-align: middle;\n",
       "    }\n",
       "\n",
       "    .dataframe tbody tr th {\n",
       "        vertical-align: top;\n",
       "    }\n",
       "\n",
       "    .dataframe thead th {\n",
       "        text-align: right;\n",
       "    }\n",
       "</style>\n",
       "<table border=\"1\" class=\"dataframe\">\n",
       "  <thead>\n",
       "    <tr style=\"text-align: right;\">\n",
       "      <th></th>\n",
       "      <th>class</th>\n",
       "      <th>age</th>\n",
       "      <th>heart_rate</th>\n",
       "      <th>resp_rate</th>\n",
       "      <th>sys_press</th>\n",
       "      <th>dias_press</th>\n",
       "      <th>mean_press</th>\n",
       "      <th>temp</th>\n",
       "      <th>hemoglobin</th>\n",
       "      <th>platelets</th>\n",
       "      <th>hematocrit</th>\n",
       "      <th>red_cells_count</th>\n",
       "      <th>hcm</th>\n",
       "      <th>rdw</th>\n",
       "      <th>mcv</th>\n",
       "      <th>leukocytes</th>\n",
       "      <th>neutrophil</th>\n",
       "      <th>lymphocytes</th>\n",
       "      <th>basophils</th>\n",
       "      <th>eosinophils</th>\n",
       "      <th>monocytes</th>\n",
       "      <th>crp</th>\n",
       "      <th>male_1.0</th>\n",
       "    </tr>\n",
       "  </thead>\n",
       "  <tbody>\n",
       "    <tr>\n",
       "      <th>1</th>\n",
       "      <td>1</td>\n",
       "      <td>0.325</td>\n",
       "      <td>-0.369</td>\n",
       "      <td>-1.853</td>\n",
       "      <td>1.470</td>\n",
       "      <td>-0.308</td>\n",
       "      <td>0.988</td>\n",
       "      <td>-1.836</td>\n",
       "      <td>-0.137</td>\n",
       "      <td>-1.838</td>\n",
       "      <td>-0.433</td>\n",
       "      <td>-0.243</td>\n",
       "      <td>-1.084</td>\n",
       "      <td>-0.213</td>\n",
       "      <td>-0.775</td>\n",
       "      <td>0.100</td>\n",
       "      <td>0.497</td>\n",
       "      <td>-1.036</td>\n",
       "      <td>-1.519</td>\n",
       "      <td>-0.806</td>\n",
       "      <td>-1.275</td>\n",
       "      <td>-0.716</td>\n",
       "      <td>1.000</td>\n",
       "    </tr>\n",
       "    <tr>\n",
       "      <th>32</th>\n",
       "      <td>1</td>\n",
       "      <td>-1.146</td>\n",
       "      <td>1.443</td>\n",
       "      <td>-0.309</td>\n",
       "      <td>-0.321</td>\n",
       "      <td>0.084</td>\n",
       "      <td>0.088</td>\n",
       "      <td>-0.067</td>\n",
       "      <td>1.301</td>\n",
       "      <td>-0.924</td>\n",
       "      <td>1.659</td>\n",
       "      <td>1.964</td>\n",
       "      <td>0.279</td>\n",
       "      <td>-0.230</td>\n",
       "      <td>0.084</td>\n",
       "      <td>-0.408</td>\n",
       "      <td>-0.121</td>\n",
       "      <td>-0.763</td>\n",
       "      <td>-0.158</td>\n",
       "      <td>-0.806</td>\n",
       "      <td>-0.737</td>\n",
       "      <td>2.145</td>\n",
       "      <td>1.000</td>\n",
       "    </tr>\n",
       "    <tr>\n",
       "      <th>21</th>\n",
       "      <td>0</td>\n",
       "      <td>0.785</td>\n",
       "      <td>-0.272</td>\n",
       "      <td>-0.309</td>\n",
       "      <td>-0.321</td>\n",
       "      <td>-0.073</td>\n",
       "      <td>0.088</td>\n",
       "      <td>-0.194</td>\n",
       "      <td>-0.088</td>\n",
       "      <td>1.779</td>\n",
       "      <td>-0.270</td>\n",
       "      <td>-0.721</td>\n",
       "      <td>0.179</td>\n",
       "      <td>-0.260</td>\n",
       "      <td>0.949</td>\n",
       "      <td>-0.839</td>\n",
       "      <td>-1.012</td>\n",
       "      <td>0.666</td>\n",
       "      <td>0.158</td>\n",
       "      <td>2.725</td>\n",
       "      <td>1.297</td>\n",
       "      <td>-0.638</td>\n",
       "      <td>0.000</td>\n",
       "    </tr>\n",
       "    <tr>\n",
       "      <th>25</th>\n",
       "      <td>0</td>\n",
       "      <td>0.233</td>\n",
       "      <td>-0.434</td>\n",
       "      <td>0.721</td>\n",
       "      <td>-0.535</td>\n",
       "      <td>-0.622</td>\n",
       "      <td>-0.560</td>\n",
       "      <td>-0.573</td>\n",
       "      <td>-0.068</td>\n",
       "      <td>1.353</td>\n",
       "      <td>-0.586</td>\n",
       "      <td>-0.831</td>\n",
       "      <td>0.552</td>\n",
       "      <td>-0.167</td>\n",
       "      <td>0.210</td>\n",
       "      <td>-0.851</td>\n",
       "      <td>-0.572</td>\n",
       "      <td>-0.505</td>\n",
       "      <td>0.032</td>\n",
       "      <td>-0.788</td>\n",
       "      <td>-1.095</td>\n",
       "      <td>-0.437</td>\n",
       "      <td>0.000</td>\n",
       "    </tr>\n",
       "    <tr>\n",
       "      <th>31</th>\n",
       "      <td>1</td>\n",
       "      <td>0.785</td>\n",
       "      <td>-0.175</td>\n",
       "      <td>0.721</td>\n",
       "      <td>-0.321</td>\n",
       "      <td>-0.779</td>\n",
       "      <td>-0.532</td>\n",
       "      <td>1.575</td>\n",
       "      <td>-0.281</td>\n",
       "      <td>0.120</td>\n",
       "      <td>-0.651</td>\n",
       "      <td>-0.188</td>\n",
       "      <td>0.826</td>\n",
       "      <td>0.297</td>\n",
       "      <td>1.476</td>\n",
       "      <td>1.014</td>\n",
       "      <td>0.925</td>\n",
       "      <td>-0.088</td>\n",
       "      <td>2.406</td>\n",
       "      <td>-0.806</td>\n",
       "      <td>2.058</td>\n",
       "      <td>0.353</td>\n",
       "      <td>0.000</td>\n",
       "    </tr>\n",
       "  </tbody>\n",
       "</table>\n",
       "</div>"
      ],
      "text/plain": [
       "    class    age  heart_rate  resp_rate  sys_press  dias_press  mean_press  \\\n",
       "1       1  0.325      -0.369     -1.853      1.470      -0.308       0.988   \n",
       "32      1 -1.146       1.443     -0.309     -0.321       0.084       0.088   \n",
       "21      0  0.785      -0.272     -0.309     -0.321      -0.073       0.088   \n",
       "25      0  0.233      -0.434      0.721     -0.535      -0.622      -0.560   \n",
       "31      1  0.785      -0.175      0.721     -0.321      -0.779      -0.532   \n",
       "\n",
       "     temp  hemoglobin  platelets  hematocrit  red_cells_count    hcm    rdw  \\\n",
       "1  -1.836      -0.137     -1.838      -0.433           -0.243 -1.084 -0.213   \n",
       "32 -0.067       1.301     -0.924       1.659            1.964  0.279 -0.230   \n",
       "21 -0.194      -0.088      1.779      -0.270           -0.721  0.179 -0.260   \n",
       "25 -0.573      -0.068      1.353      -0.586           -0.831  0.552 -0.167   \n",
       "31  1.575      -0.281      0.120      -0.651           -0.188  0.826  0.297   \n",
       "\n",
       "      mcv  leukocytes  neutrophil  lymphocytes  basophils  eosinophils  \\\n",
       "1  -0.775       0.100       0.497       -1.036     -1.519       -0.806   \n",
       "32  0.084      -0.408      -0.121       -0.763     -0.158       -0.806   \n",
       "21  0.949      -0.839      -1.012        0.666      0.158        2.725   \n",
       "25  0.210      -0.851      -0.572       -0.505      0.032       -0.788   \n",
       "31  1.476       1.014       0.925       -0.088      2.406       -0.806   \n",
       "\n",
       "    monocytes    crp  male_1.0  \n",
       "1      -1.275 -0.716     1.000  \n",
       "32     -0.737  2.145     1.000  \n",
       "21      1.297 -0.638     0.000  \n",
       "25     -1.095 -0.437     0.000  \n",
       "31      2.058  0.353     0.000  "
      ]
     },
     "execution_count": 1285,
     "metadata": {},
     "output_type": "execute_result"
    }
   ],
   "source": [
    "X_test_single_transformed = prep_pipe_same_region_abs_number.fit_transform(X_test_single)\n",
    "X_test_single_transformed.head()"
   ]
  },
  {
   "cell_type": "code",
   "execution_count": 1286,
   "metadata": {},
   "outputs": [],
   "source": [
    "X_test_single_transformed = X_test_single_transformed.drop(['class'],axis=1)"
   ]
  },
  {
   "cell_type": "code",
   "execution_count": 1287,
   "metadata": {},
   "outputs": [
    {
     "data": {
      "text/plain": [
       "(15, 22)"
      ]
     },
     "execution_count": 1287,
     "metadata": {},
     "output_type": "execute_result"
    }
   ],
   "source": [
    "X_test_single_transformed.shape"
   ]
  },
  {
   "cell_type": "code",
   "execution_count": 1288,
   "metadata": {},
   "outputs": [
    {
     "data": {
      "text/plain": [
       "Index(['age', 'heart_rate', 'resp_rate', 'sys_press', 'dias_press',\n",
       "       'mean_press', 'temp', 'hemoglobin', 'platelets', 'hematocrit',\n",
       "       'red_cells_count', 'hcm', 'rdw', 'mcv', 'leukocytes', 'neutrophil',\n",
       "       'lymphocytes', 'basophils', 'eosinophils', 'monocytes', 'crp',\n",
       "       'male_0.0'],\n",
       "      dtype='object')"
      ]
     },
     "execution_count": 1288,
     "metadata": {},
     "output_type": "execute_result"
    }
   ],
   "source": [
    "X_test.columns"
   ]
  },
  {
   "cell_type": "code",
   "execution_count": 1289,
   "metadata": {},
   "outputs": [
    {
     "data": {
      "text/plain": [
       "Index(['age', 'heart_rate', 'resp_rate', 'sys_press', 'dias_press',\n",
       "       'mean_press', 'temp', 'hemoglobin', 'platelets', 'hematocrit',\n",
       "       'red_cells_count', 'hcm', 'rdw', 'mcv', 'leukocytes', 'neutrophil',\n",
       "       'lymphocytes', 'basophils', 'eosinophils', 'monocytes', 'crp',\n",
       "       'male_1.0'],\n",
       "      dtype='object')"
      ]
     },
     "execution_count": 1289,
     "metadata": {},
     "output_type": "execute_result"
    }
   ],
   "source": [
    "X_test_single_transformed.columns"
   ]
  },
  {
   "cell_type": "code",
   "execution_count": 1290,
   "metadata": {},
   "outputs": [
    {
     "data": {
      "text/plain": [
       "['male_0.0']"
      ]
     },
     "execution_count": 1290,
     "metadata": {},
     "output_type": "execute_result"
    }
   ],
   "source": [
    "#Show distinct columns\n",
    "distinct_columns = X_test[X_test.columns.difference(X_test_single_transformed.columns)].columns.tolist()\n",
    "distinct_columns"
   ]
  },
  {
   "cell_type": "markdown",
   "metadata": {},
   "source": [
    "### Add missing columns to some hospitals that didn't collect all columns\n",
    "e.g. HC_USP (missing: red_cells_count and eosinophils)"
   ]
  },
  {
   "cell_type": "code",
   "execution_count": 1291,
   "metadata": {},
   "outputs": [],
   "source": [
    "for column in distinct_columns:\n",
    "    if(column=='male_0.0'):\n",
    "        X_test_single_transformed['male_0.0'] = X_test_single_transformed['male_1.0'].apply(lambda x: 1.0 if x==0.0 else 0.0)\n",
    "        X_test_single_transformed = X_test_single_transformed.drop('male_1.0', axis=1)\n",
    "    elif(column=='male_1.0'):\n",
    "        X_test_single_transformed['male_1.0'] = X_test_single_transformed['male_0.0'].apply(lambda x: 1.0 if x==0.0 else 0.0)\n",
    "        X_test_single_transformed = X_test_single_transformed.drop('male_0.0', axis=1)\n",
    "    else:\n",
    "        X_test_single_transformed[column]=np.NaN"
   ]
  },
  {
   "cell_type": "code",
   "execution_count": 1292,
   "metadata": {},
   "outputs": [],
   "source": [
    "# X_test_single_transformed['male_1.0'] = X_test_single_transformed['male_0.0'].apply(lambda x: 1.0 if x==0.0 else 0.0)"
   ]
  },
  {
   "cell_type": "code",
   "execution_count": 1293,
   "metadata": {},
   "outputs": [
    {
     "data": {
      "text/plain": [
       "Index(['age', 'heart_rate', 'resp_rate', 'sys_press', 'dias_press',\n",
       "       'mean_press', 'temp', 'hemoglobin', 'platelets', 'hematocrit',\n",
       "       'red_cells_count', 'hcm', 'rdw', 'mcv', 'leukocytes', 'neutrophil',\n",
       "       'lymphocytes', 'basophils', 'eosinophils', 'monocytes', 'crp',\n",
       "       'male_0.0'],\n",
       "      dtype='object')"
      ]
     },
     "execution_count": 1293,
     "metadata": {},
     "output_type": "execute_result"
    }
   ],
   "source": [
    "X_test_single_transformed.columns"
   ]
  },
  {
   "cell_type": "code",
   "execution_count": 1294,
   "metadata": {},
   "outputs": [
    {
     "data": {
      "text/plain": [
       "(15, 22)"
      ]
     },
     "execution_count": 1294,
     "metadata": {},
     "output_type": "execute_result"
    }
   ],
   "source": [
    "X_test_single_transformed.shape"
   ]
  },
  {
   "cell_type": "code",
   "execution_count": 1295,
   "metadata": {},
   "outputs": [
    {
     "data": {
      "text/plain": [
       "Index(['age', 'heart_rate', 'resp_rate', 'sys_press', 'dias_press',\n",
       "       'mean_press', 'temp', 'hemoglobin', 'platelets', 'hematocrit',\n",
       "       'red_cells_count', 'hcm', 'rdw', 'mcv', 'leukocytes', 'neutrophil',\n",
       "       'lymphocytes', 'basophils', 'eosinophils', 'monocytes', 'crp',\n",
       "       'male_0.0'],\n",
       "      dtype='object')"
      ]
     },
     "execution_count": 1295,
     "metadata": {},
     "output_type": "execute_result"
    }
   ],
   "source": [
    "X_test.columns"
   ]
  },
  {
   "cell_type": "code",
   "execution_count": 1296,
   "metadata": {},
   "outputs": [
    {
     "data": {
      "text/plain": [
       "Index(['age', 'heart_rate', 'resp_rate', 'sys_press', 'dias_press',\n",
       "       'mean_press', 'temp', 'hemoglobin', 'platelets', 'hematocrit',\n",
       "       'red_cells_count', 'hcm', 'rdw', 'mcv', 'leukocytes', 'neutrophil',\n",
       "       'lymphocytes', 'basophils', 'eosinophils', 'monocytes', 'crp',\n",
       "       'male_0.0'],\n",
       "      dtype='object')"
      ]
     },
     "execution_count": 1296,
     "metadata": {},
     "output_type": "execute_result"
    }
   ],
   "source": [
    "X_test_single_transformed.columns"
   ]
  },
  {
   "cell_type": "markdown",
   "metadata": {},
   "source": [
    "**Reorder columns**"
   ]
  },
  {
   "cell_type": "code",
   "execution_count": 1297,
   "metadata": {},
   "outputs": [],
   "source": [
    "# X_test_single_transformed['male_1.0'] = X_test_single_transformed['male_0.0'].apply(lambda x: 1.0 if x==0.0 else 0.0)"
   ]
  },
  {
   "cell_type": "code",
   "execution_count": 1298,
   "metadata": {},
   "outputs": [
    {
     "data": {
      "text/plain": [
       "(15, 22)"
      ]
     },
     "execution_count": 1298,
     "metadata": {},
     "output_type": "execute_result"
    }
   ],
   "source": [
    "# Reorder columns\n",
    "X_test_single_transformed = X_test_single_transformed[X_test.columns]\n",
    "X_test_single_transformed.shape"
   ]
  },
  {
   "cell_type": "code",
   "execution_count": 1299,
   "metadata": {},
   "outputs": [
    {
     "data": {
      "text/plain": [
       "'X_test_same_region_absolute_vs_one_transformed_NORTE_AM_AMAZONAS_HUGV.csv'"
      ]
     },
     "execution_count": 1299,
     "metadata": {},
     "output_type": "execute_result"
    }
   ],
   "source": [
    "X_test_same_region_absolute_vs_one_name = 'X_test_same_region_absolute_vs_one_transformed_' + X_test_specific.region.iloc[0]  \\\n",
    "                        + '_' + X_test_specific.state.iloc[0]  \\\n",
    "                        + '_' + X_test_specific.city_hospital.iloc[0] +  \".csv\"\n",
    "X_test_same_region_absolute_vs_one_name"
   ]
  },
  {
   "cell_type": "code",
   "execution_count": 1300,
   "metadata": {},
   "outputs": [],
   "source": [
    "X_test_single_transformed.to_csv(X_test_same_region_absolute_vs_one_name, sep=';')"
   ]
  },
  {
   "cell_type": "code",
   "execution_count": 1301,
   "metadata": {},
   "outputs": [
    {
     "name": "stdout",
     "output_type": "stream",
     "text": [
      "0.5\n"
     ]
    },
    {
     "data": {
      "text/plain": [
       "[<matplotlib.lines.Line2D at 0x253a95532e0>]"
      ]
     },
     "execution_count": 1301,
     "metadata": {},
     "output_type": "execute_result"
    },
    {
     "data": {
      "image/png": "[encoded data removed]",
      "text/plain": [
       "<Figure size 640x480 with 1 Axes>"
      ]
     },
     "metadata": {},
     "output_type": "display_data"
    }
   ],
   "source": [
    "#Vejo a curva ROC do modelo INDIVIDUAL e confirmo o valor da AUC\n",
    "from sklearn.metrics import (roc_curve,auc)\n",
    "\n",
    "y_pred_prob1 = same_region_abs_number_model.predict_proba(X_test_single_transformed)[:,1]\n",
    "fpr1 , tpr1, thresholds1 = roc_curve(y_test_single, y_pred_prob1)\n",
    "\n",
    "auc_ind = auc(fpr1, tpr1)\n",
    "print(auc_ind)\n",
    "plt.plot(fpr1, tpr1, label= \"Single Model - best model - AUC \" +  str(auc_ind), color=\"yellow\")"
   ]
  },
  {
   "cell_type": "code",
   "execution_count": 1302,
   "metadata": {},
   "outputs": [
    {
     "data": {
      "text/plain": [
       "(15,)"
      ]
     },
     "execution_count": 1302,
     "metadata": {},
     "output_type": "execute_result"
    }
   ],
   "source": [
    "y_pred_prob1.shape"
   ]
  },
  {
   "cell_type": "code",
   "execution_count": 1303,
   "metadata": {},
   "outputs": [],
   "source": [
    "y_pred = same_region_abs_number_model.predict(X_test_single_transformed)"
   ]
  },
  {
   "cell_type": "code",
   "execution_count": 1304,
   "metadata": {},
   "outputs": [
    {
     "ename": "ZeroDivisionError",
     "evalue": "division by zero",
     "output_type": "error",
     "traceback": [
      "\u001b[1;31m---------------------------------------------------------------------------\u001b[0m",
      "\u001b[1;31mZeroDivisionError\u001b[0m                         Traceback (most recent call last)",
      "Cell \u001b[1;32mIn[1304], line 2\u001b[0m\n\u001b[0;32m      1\u001b[0m \u001b[38;5;28;01mimport\u001b[39;00m \u001b[38;5;21;01mMLFlow_Utils\u001b[39;00m\n\u001b[1;32m----> 2\u001b[0m \u001b[43mbinary_classification_metrics\u001b[49m\u001b[43m(\u001b[49m\u001b[43my_test_single\u001b[49m\u001b[43m,\u001b[49m\u001b[43m \u001b[49m\u001b[43my_pred\u001b[49m\u001b[43m,\u001b[49m\u001b[43m \u001b[49m\u001b[43mpd\u001b[49m\u001b[38;5;241;43m.\u001b[39;49m\u001b[43mSeries\u001b[49m\u001b[43m(\u001b[49m\u001b[43my_pred_prob1\u001b[49m\u001b[43m)\u001b[49m\u001b[43m)\u001b[49m\n",
      "File \u001b[1;32m~\\OneDrive\\Documents\\carine\\A_POS_DOC\\iacovpy10\\MLFlow_Utils.py:576\u001b[0m, in \u001b[0;36mbinary_classification_metrics\u001b[1;34m(ground_truth, prediction, prediction_proba, show_results)\u001b[0m\n\u001b[0;32m    566\u001b[0m warnings\u001b[38;5;241m.\u001b[39mfilterwarnings(\u001b[38;5;124m\"\u001b[39m\u001b[38;5;124mignore\u001b[39m\u001b[38;5;124m\"\u001b[39m)\n\u001b[0;32m    568\u001b[0m fprate, tprate, thresholds \u001b[38;5;241m=\u001b[39m roc_curve(ground_truth, prediction_proba, pos_label\u001b[38;5;241m=\u001b[39m\u001b[38;5;241m1\u001b[39m)\n\u001b[0;32m    570\u001b[0m monitor \u001b[38;5;241m=\u001b[39m pd\u001b[38;5;241m.\u001b[39mDataFrame(\n\u001b[0;32m    571\u001b[0m     [\n\u001b[0;32m    572\u001b[0m         [\u001b[38;5;124m\"\u001b[39m\u001b[38;5;124mGround Truth Prevalence\u001b[39m\u001b[38;5;124m\"\u001b[39m, \u001b[38;5;124m\"\u001b[39m\u001b[38;5;124m. . . \u001b[39m\u001b[38;5;124m\"\u001b[39m, prevalence(ground_truth)],\n\u001b[0;32m    573\u001b[0m         [\u001b[38;5;124m\"\u001b[39m\u001b[38;5;124mTest set Prevalence\u001b[39m\u001b[38;5;124m\"\u001b[39m, \u001b[38;5;124m\"\u001b[39m\u001b[38;5;124m. . . \u001b[39m\u001b[38;5;124m\"\u001b[39m, prevalence(prediction)],\n\u001b[0;32m    574\u001b[0m         [\u001b[38;5;124m\"\u001b[39m\u001b[38;5;124mTrue positive rate (recall)\u001b[39m\u001b[38;5;124m\"\u001b[39m, \u001b[38;5;124m\"\u001b[39m\u001b[38;5;124m. . . \u001b[39m\u001b[38;5;124m\"\u001b[39m, tpr(ground_truth, prediction)],\n\u001b[0;32m    575\u001b[0m         [\u001b[38;5;124m\"\u001b[39m\u001b[38;5;124mFalse positive rate\u001b[39m\u001b[38;5;124m\"\u001b[39m, \u001b[38;5;124m\"\u001b[39m\u001b[38;5;124m. . . \u001b[39m\u001b[38;5;124m\"\u001b[39m, fpr(ground_truth, prediction)],\n\u001b[1;32m--> 576\u001b[0m         [\u001b[38;5;124m\"\u001b[39m\u001b[38;5;124mPositive predictive value (precision)\u001b[39m\u001b[38;5;124m\"\u001b[39m, \u001b[38;5;124m\"\u001b[39m\u001b[38;5;124m. . . \u001b[39m\u001b[38;5;124m\"\u001b[39m, \u001b[43mppv\u001b[49m\u001b[43m(\u001b[49m\u001b[43mground_truth\u001b[49m\u001b[43m,\u001b[49m\u001b[43m \u001b[49m\u001b[43mprediction\u001b[49m\u001b[43m)\u001b[49m],\n\u001b[0;32m    577\u001b[0m         [\u001b[38;5;124m\"\u001b[39m\u001b[38;5;124mTrue negative rate (specificity)\u001b[39m\u001b[38;5;124m\"\u001b[39m, \u001b[38;5;124m\"\u001b[39m\u001b[38;5;124m. . . \u001b[39m\u001b[38;5;124m\"\u001b[39m, tnr(ground_truth, prediction)],\n\u001b[0;32m    578\u001b[0m         [\u001b[38;5;124m\"\u001b[39m\u001b[38;5;124mFalse negative rate\u001b[39m\u001b[38;5;124m\"\u001b[39m, \u001b[38;5;124m\"\u001b[39m\u001b[38;5;124m. . . \u001b[39m\u001b[38;5;124m\"\u001b[39m, fnr(ground_truth, prediction)],\n\u001b[0;32m    579\u001b[0m         [\u001b[38;5;124m\"\u001b[39m\u001b[38;5;124mNegative predictive value\u001b[39m\u001b[38;5;124m\"\u001b[39m, \u001b[38;5;124m\"\u001b[39m\u001b[38;5;124m. . . \u001b[39m\u001b[38;5;124m\"\u001b[39m, npv(ground_truth, prediction)],\n\u001b[0;32m    580\u001b[0m         [\u001b[38;5;124m\"\u001b[39m\u001b[38;5;124mPositive likelihood ratio (bigger is better)\u001b[39m\u001b[38;5;124m\"\u001b[39m, \u001b[38;5;124m\"\u001b[39m\u001b[38;5;124m. . . \u001b[39m\u001b[38;5;124m\"\u001b[39m, plr(ground_truth, prediction)],\n\u001b[0;32m    581\u001b[0m         [\u001b[38;5;124m\"\u001b[39m\u001b[38;5;124mNegative likelihood ratio (smaller is better)\u001b[39m\u001b[38;5;124m\"\u001b[39m, \u001b[38;5;124m\"\u001b[39m\u001b[38;5;124m. . . \u001b[39m\u001b[38;5;124m\"\u001b[39m, nlr(ground_truth, prediction)],\n\u001b[0;32m    582\u001b[0m         [\u001b[38;5;124m\"\u001b[39m\u001b[38;5;124mDiagnostic odds ratio\u001b[39m\u001b[38;5;124m\"\u001b[39m, \u001b[38;5;124m\"\u001b[39m\u001b[38;5;124m. . . \u001b[39m\u001b[38;5;124m\"\u001b[39m, dor(ground_truth, prediction)],\n\u001b[0;32m    583\u001b[0m         [\u001b[38;5;124m\"\u001b[39m\u001b[38;5;124mAccuracy\u001b[39m\u001b[38;5;124m\"\u001b[39m, \u001b[38;5;124m\"\u001b[39m\u001b[38;5;124m. . . \u001b[39m\u001b[38;5;124m\"\u001b[39m, accuracy(ground_truth, prediction)],\n\u001b[0;32m    584\u001b[0m         [\u001b[38;5;124m\"\u001b[39m\u001b[38;5;124mF1 score\u001b[39m\u001b[38;5;124m\"\u001b[39m, \u001b[38;5;124m\"\u001b[39m\u001b[38;5;124m. . . \u001b[39m\u001b[38;5;124m\"\u001b[39m, f1_score(ground_truth, prediction)],\n\u001b[0;32m    585\u001b[0m         [\u001b[38;5;124m\"\u001b[39m\u001b[38;5;124mAccuracy\u001b[39m\u001b[38;5;124m\"\u001b[39m, \u001b[38;5;124m\"\u001b[39m\u001b[38;5;124m. . . \u001b[39m\u001b[38;5;124m\"\u001b[39m, accuracy(ground_truth, prediction)],\n\u001b[0;32m    586\u001b[0m         [\u001b[38;5;124m\"\u001b[39m\u001b[38;5;124mROC AUC\u001b[39m\u001b[38;5;124m\"\u001b[39m, \u001b[38;5;124m\"\u001b[39m\u001b[38;5;124m. . . \u001b[39m\u001b[38;5;124m\"\u001b[39m, auc(fprate, tprate)],\n\u001b[0;32m    587\u001b[0m         [\u001b[38;5;124m\"\u001b[39m\u001b[38;5;124mROC AUC (95\u001b[39m\u001b[38;5;124m%\u001b[39m\u001b[38;5;124m CI)\u001b[39m\u001b[38;5;124m\"\u001b[39m, \u001b[38;5;124m\"\u001b[39m\u001b[38;5;124m. . . \u001b[39m\u001b[38;5;124m\"\u001b[39m, [\u001b[38;5;124m\"\u001b[39m\u001b[38;5;132;01m{0:0.2f}\u001b[39;00m\u001b[38;5;124m\"\u001b[39m\u001b[38;5;241m.\u001b[39mformat(i) \u001b[38;5;28;01mfor\u001b[39;00m i \u001b[38;5;129;01min\u001b[39;00m AUC_CI(ground_truth, prediction_proba\u001b[38;5;241m.\u001b[39m_values)]],\n\u001b[0;32m    588\u001b[0m         [\u001b[38;5;124m\"\u001b[39m\u001b[38;5;124mScaled Brier Score\u001b[39m\u001b[38;5;124m\"\u001b[39m, \u001b[38;5;124m\"\u001b[39m\u001b[38;5;124m. . . \u001b[39m\u001b[38;5;124m\"\u001b[39m, scaled_brier_score(ground_truth, prediction_proba)],\n\u001b[0;32m    589\u001b[0m         [\u001b[38;5;124m\"\u001b[39m\u001b[38;5;124mHosmer_Lemeshow p-value\u001b[39m\u001b[38;5;124m\"\u001b[39m, \u001b[38;5;124m\"\u001b[39m\u001b[38;5;124m. . . \u001b[39m\u001b[38;5;124m\"\u001b[39m, hosmer_lemeshow(ground_truth, prediction_proba)],\n\u001b[0;32m    590\u001b[0m         [\u001b[38;5;124m\"\u001b[39m\u001b[38;5;124mSpiegelhalter p-value\u001b[39m\u001b[38;5;124m\"\u001b[39m, \u001b[38;5;124m\"\u001b[39m\u001b[38;5;124m. . . \u001b[39m\u001b[38;5;124m\"\u001b[39m, spiegelhalter(ground_truth, prediction_proba)],\n\u001b[0;32m    591\u001b[0m \n\u001b[0;32m    592\u001b[0m     ],\n\u001b[0;32m    593\u001b[0m     columns\u001b[38;5;241m=\u001b[39m[\u001b[38;5;124m\"\u001b[39m\u001b[38;5;124m\"\u001b[39m, \u001b[38;5;124m\"\u001b[39m\u001b[38;5;124m \u001b[39m\u001b[38;5;124m\"\u001b[39m, \u001b[38;5;124m\"\u001b[39m\u001b[38;5;124m   \u001b[39m\u001b[38;5;124m\"\u001b[39m],\n\u001b[0;32m    594\u001b[0m )\u001b[38;5;241m.\u001b[39mset_index(\u001b[38;5;124m\"\u001b[39m\u001b[38;5;124m\"\u001b[39m)\n\u001b[0;32m    595\u001b[0m \u001b[38;5;28;01mif\u001b[39;00m show_results:\n\u001b[0;32m    596\u001b[0m     display(monitor)\n",
      "File \u001b[1;32m~\\OneDrive\\Documents\\carine\\A_POS_DOC\\iacovpy10\\MLFlow_Utils.py:283\u001b[0m, in \u001b[0;36mpositive_predictive_value\u001b[1;34m(ground_truth, predicted)\u001b[0m\n\u001b[0;32m    275\u001b[0m \u001b[38;5;28;01mdef\u001b[39;00m \u001b[38;5;21mpositive_predictive_value\u001b[39m(ground_truth, predicted):\n\u001b[0;32m    276\u001b[0m \u001b[38;5;250m    \u001b[39m\u001b[38;5;124;03m\"\"\"\u001b[39;00m\n\u001b[0;32m    277\u001b[0m \u001b[38;5;124;03m    This function measures the positive predictive value\u001b[39;00m\n\u001b[0;32m    278\u001b[0m \u001b[38;5;124;03m    (also called \"precision\" or \"thanks for removing the cyst and not my brain\")\u001b[39;00m\n\u001b[1;32m   (...)\u001b[0m\n\u001b[0;32m    281\u001b[0m \u001b[38;5;124;03m    note that this number can be greater than 1, thus the word 'value'\u001b[39;00m\n\u001b[0;32m    282\u001b[0m \u001b[38;5;124;03m    \"\"\"\u001b[39;00m\n\u001b[1;32m--> 283\u001b[0m     \u001b[38;5;28;01mreturn\u001b[39;00m (\u001b[43mtrue_positive\u001b[49m\u001b[43m(\u001b[49m\u001b[43mground_truth\u001b[49m\u001b[43m,\u001b[49m\u001b[43m \u001b[49m\u001b[43mpredicted\u001b[49m\u001b[43m)\u001b[49m\u001b[43m \u001b[49m\u001b[38;5;241;43m/\u001b[39;49m\n\u001b[0;32m    284\u001b[0m \u001b[43m            \u001b[49m\u001b[43m(\u001b[49m\u001b[43mtrue_positive\u001b[49m\u001b[43m(\u001b[49m\u001b[43mground_truth\u001b[49m\u001b[43m,\u001b[49m\u001b[43m \u001b[49m\u001b[43mpredicted\u001b[49m\u001b[43m)\u001b[49m\u001b[43m \u001b[49m\u001b[38;5;241;43m+\u001b[39;49m\u001b[43m \u001b[49m\u001b[43mfalse_positive\u001b[49m\u001b[43m(\u001b[49m\u001b[43mground_truth\u001b[49m\u001b[43m,\u001b[49m\u001b[43m \u001b[49m\u001b[43mpredicted\u001b[49m\u001b[43m)\u001b[49m\u001b[43m)\u001b[49m)\n",
      "\u001b[1;31mZeroDivisionError\u001b[0m: division by zero"
     ]
    }
   ],
   "source": [
    "import MLFlow_Utils\n",
    "binary_classification_metrics(y_test_single, y_pred, pd.Series(y_pred_prob1))"
   ]
  },
  {
   "cell_type": "code",
   "execution_count": 1305,
   "metadata": {},
   "outputs": [
    {
     "data": {
      "text/plain": [
       "0.5"
      ]
     },
     "execution_count": 1305,
     "metadata": {},
     "output_type": "execute_result"
    }
   ],
   "source": [
    "fprate, tprate, thresholds = roc_curve(y_test_single, y_pred_prob1, pos_label=1)\n",
    "auc(fprate, tprate)"
   ]
  },
  {
   "cell_type": "code",
   "execution_count": 1306,
   "metadata": {},
   "outputs": [
    {
     "data": {
      "text/plain": [
       "['0.16', '0.84']"
      ]
     },
     "execution_count": 1306,
     "metadata": {},
     "output_type": "execute_result"
    }
   ],
   "source": [
    "#ROC_AUC\n",
    "[\"{0:0.2f}\".format(i) for i in AUC_CI(y_test_single, y_pred_prob1)]"
   ]
  },
  {
   "cell_type": "code",
   "execution_count": 1307,
   "metadata": {},
   "outputs": [
    {
     "data": {
      "text/plain": [
       "0.0"
      ]
     },
     "execution_count": 1307,
     "metadata": {},
     "output_type": "execute_result"
    }
   ],
   "source": [
    "#recall\n",
    "tpr(y_test_single, y_pred)"
   ]
  },
  {
   "cell_type": "code",
   "execution_count": 1308,
   "metadata": {},
   "outputs": [
    {
     "data": {
      "text/plain": [
       "1.0"
      ]
     },
     "execution_count": 1308,
     "metadata": {},
     "output_type": "execute_result"
    }
   ],
   "source": [
    "#specificidade\n",
    "tnr(y_test_single, pd.Series(y_pred))"
   ]
  },
  {
   "cell_type": "code",
   "execution_count": 1309,
   "metadata": {},
   "outputs": [
    {
     "data": {
      "text/plain": [
       "0.4"
      ]
     },
     "execution_count": 1309,
     "metadata": {},
     "output_type": "execute_result"
    }
   ],
   "source": [
    "#accuracy\n",
    "accuracy(y_test_single, y_pred)"
   ]
  },
  {
   "cell_type": "code",
   "execution_count": 1310,
   "metadata": {},
   "outputs": [
    {
     "ename": "ZeroDivisionError",
     "evalue": "division by zero",
     "output_type": "error",
     "traceback": [
      "\u001b[1;31m---------------------------------------------------------------------------\u001b[0m",
      "\u001b[1;31mZeroDivisionError\u001b[0m                         Traceback (most recent call last)",
      "Cell \u001b[1;32mIn[1310], line 1\u001b[0m\n\u001b[1;32m----> 1\u001b[0m \u001b[43mppv\u001b[49m\u001b[43m(\u001b[49m\u001b[43my_test_single\u001b[49m\u001b[43m,\u001b[49m\u001b[43m \u001b[49m\u001b[43my_pred\u001b[49m\u001b[43m)\u001b[49m\n",
      "File \u001b[1;32m~\\OneDrive\\Documents\\carine\\A_POS_DOC\\iacovpy10\\MLFlow_Utils.py:283\u001b[0m, in \u001b[0;36mpositive_predictive_value\u001b[1;34m(ground_truth, predicted)\u001b[0m\n\u001b[0;32m    275\u001b[0m \u001b[38;5;28;01mdef\u001b[39;00m \u001b[38;5;21mpositive_predictive_value\u001b[39m(ground_truth, predicted):\n\u001b[0;32m    276\u001b[0m \u001b[38;5;250m    \u001b[39m\u001b[38;5;124;03m\"\"\"\u001b[39;00m\n\u001b[0;32m    277\u001b[0m \u001b[38;5;124;03m    This function measures the positive predictive value\u001b[39;00m\n\u001b[0;32m    278\u001b[0m \u001b[38;5;124;03m    (also called \"precision\" or \"thanks for removing the cyst and not my brain\")\u001b[39;00m\n\u001b[1;32m   (...)\u001b[0m\n\u001b[0;32m    281\u001b[0m \u001b[38;5;124;03m    note that this number can be greater than 1, thus the word 'value'\u001b[39;00m\n\u001b[0;32m    282\u001b[0m \u001b[38;5;124;03m    \"\"\"\u001b[39;00m\n\u001b[1;32m--> 283\u001b[0m     \u001b[38;5;28;01mreturn\u001b[39;00m (\u001b[43mtrue_positive\u001b[49m\u001b[43m(\u001b[49m\u001b[43mground_truth\u001b[49m\u001b[43m,\u001b[49m\u001b[43m \u001b[49m\u001b[43mpredicted\u001b[49m\u001b[43m)\u001b[49m\u001b[43m \u001b[49m\u001b[38;5;241;43m/\u001b[39;49m\n\u001b[0;32m    284\u001b[0m \u001b[43m            \u001b[49m\u001b[43m(\u001b[49m\u001b[43mtrue_positive\u001b[49m\u001b[43m(\u001b[49m\u001b[43mground_truth\u001b[49m\u001b[43m,\u001b[49m\u001b[43m \u001b[49m\u001b[43mpredicted\u001b[49m\u001b[43m)\u001b[49m\u001b[43m \u001b[49m\u001b[38;5;241;43m+\u001b[39;49m\u001b[43m \u001b[49m\u001b[43mfalse_positive\u001b[49m\u001b[43m(\u001b[49m\u001b[43mground_truth\u001b[49m\u001b[43m,\u001b[49m\u001b[43m \u001b[49m\u001b[43mpredicted\u001b[49m\u001b[43m)\u001b[49m\u001b[43m)\u001b[49m)\n",
      "\u001b[1;31mZeroDivisionError\u001b[0m: division by zero"
     ]
    }
   ],
   "source": [
    "ppv(y_test_single, y_pred)"
   ]
  },
  {
   "cell_type": "code",
   "execution_count": 1311,
   "metadata": {},
   "outputs": [
    {
     "data": {
      "text/plain": [
       "0.4"
      ]
     },
     "execution_count": 1311,
     "metadata": {},
     "output_type": "execute_result"
    }
   ],
   "source": [
    "npv(y_test_single, y_pred)"
   ]
  },
  {
   "cell_type": "markdown",
   "metadata": {},
   "source": [
    "# End of File"
   ]
  },
  {
   "cell_type": "code",
   "execution_count": null,
   "metadata": {},
   "outputs": [],
   "source": []
  },
  {
   "cell_type": "code",
   "execution_count": null,
   "metadata": {},
   "outputs": [],
   "source": []
  }
 ],
 "metadata": {
  "kernelspec": {
   "display_name": "Python 3 (ipykernel)",
   "language": "python",
   "name": "python3"
  },
  "language_info": {
   "codemirror_mode": {
    "name": "ipython",
    "version": 3
   },
   "file_extension": ".py",
   "mimetype": "text/x-python",
   "name": "python",
   "nbconvert_exporter": "python",
   "pygments_lexer": "ipython3",
   "version": "3.10.0"
  }
 },
 "nbformat": 4,
 "nbformat_minor": 4
}
