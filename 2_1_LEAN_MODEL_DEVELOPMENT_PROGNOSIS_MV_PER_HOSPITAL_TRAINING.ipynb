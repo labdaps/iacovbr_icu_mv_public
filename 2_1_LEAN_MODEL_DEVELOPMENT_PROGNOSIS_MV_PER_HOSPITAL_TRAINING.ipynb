{
 "cells": [
  {
   "cell_type": "markdown",
   "metadata": {},
   "source": [
    "# IACOV - Model Development for Prognosis - MV\n",
    "## Strategy 1) Training using one hospital data and testing with 30% of the same hospital"
   ]
  },
  {
   "cell_type": "markdown",
   "metadata": {},
   "source": [
    "First we import the required libraries"
   ]
  },
  {
   "cell_type": "code",
   "execution_count": 1,
   "metadata": {},
   "outputs": [
    {
     "name": "stderr",
     "output_type": "stream",
     "text": [
      "C:\\Users\\carin\\AppData\\Local\\Temp\\ipykernel_23348\\2463766658.py:1: DeprecationWarning: \n",
      "Pyarrow will become a required dependency of pandas in the next major release of pandas (pandas 3.0),\n",
      "(to allow more performant data types, such as the Arrow string type, and better interoperability with other libraries)\n",
      "but was not found to be installed on your system.\n",
      "If this would cause problems for you,\n",
      "please provide us feedback at https://github.com/pandas-dev/pandas/issues/54466\n",
      "        \n",
      "  import pandas as pd\n"
     ]
    }
   ],
   "source": [
    "import pandas as pd\n",
    "import matplotlib.pyplot as plt\n",
    "import seaborn as sns\n",
    "import os\n",
    "import numpy as np\n",
    "import warnings\n",
    "warnings.filterwarnings(\"ignore\")\n",
    "\n",
    "# para evitarmos a exibição dos dados em notacao científica\n",
    "pd.set_option('display.float_format', lambda x: '%.3f' % x)\n",
    "\n",
    "#comment next line to not use MLFlow for cleaning data\n",
    "from MLFlow_Classification import *\n",
    "from MLFlow_Utils import *"
   ]
  },
  {
   "cell_type": "markdown",
   "metadata": {},
   "source": [
    "### This code uses just 14 hospitals, since ICU or MV has no variation for 4 hospitals\n",
    "#### - The code that prepares the data to run all strategies for ICU and MV is: PREPARING_DATA_TO_UCI_MV_ANALYSES\n",
    "#### - df_iacov_en.csv (used for death) was replaced here by df_iacov_model_lean_14hosp.csv\n",
    "#### - put df_iacov_model_lean_14hosp.csv in same folder as this notebook"
   ]
  },
  {
   "cell_type": "code",
   "execution_count": 2,
   "metadata": {},
   "outputs": [
    {
     "data": {
      "text/plain": [
       "(6046, 30)"
      ]
     },
     "execution_count": 2,
     "metadata": {},
     "output_type": "execute_result"
    }
   ],
   "source": [
    "#Put csv in same folder as this notebook - for ICU we called df_iacov_model_lean_14hosp isntead of df_iacov_en.csv\n",
    "dataset = pd.read_csv(\"df_iacov_model_lean_14hosp.csv\", delimiter=\";\")\n",
    "df_iacov_model = pd.DataFrame(dataset)\n",
    "df_iacov_model.shape"
   ]
  },
  {
   "cell_type": "code",
   "execution_count": 3,
   "metadata": {},
   "outputs": [
    {
     "data": {
      "text/plain": [
       "Index(['city_hospital', 'age', 'male', 'race', 'heart_rate', 'resp_rate',\n",
       "       'sys_press', 'dias_press', 'mean_press', 'temp', 'hemoglobin',\n",
       "       'platelets', 'hematocrit', 'red_cells_count', 'hcm', 'rdw', 'mcv',\n",
       "       'leukocytes', 'neutrophil', 'lymphocytes', 'basophils', 'eosinophils',\n",
       "       'monocytes', 'crp', 'death', 'icu', 'mv', 'state', 'region', 'excluir'],\n",
       "      dtype='object')"
      ]
     },
     "execution_count": 3,
     "metadata": {},
     "output_type": "execute_result"
    }
   ],
   "source": [
    "df_iacov_model.columns"
   ]
  },
  {
   "cell_type": "markdown",
   "metadata": {},
   "source": [
    "## 2.1) Assign binary outcome MV to be predicted"
   ]
  },
  {
   "cell_type": "markdown",
   "metadata": {},
   "source": [
    "### 2.1.1) Maintain essential variables (LEAN Model)"
   ]
  },
  {
   "cell_type": "code",
   "execution_count": 4,
   "metadata": {},
   "outputs": [
    {
     "data": {
      "text/plain": [
       "(6046, 24)"
      ]
     },
     "execution_count": 4,
     "metadata": {},
     "output_type": "execute_result"
    }
   ],
   "source": [
    "#22 predictors + outcome MV\n",
    "df_iacov_model_lean = df_iacov_model[['city_hospital'\n",
    "                                      ,'age'\n",
    "                                      ,'male'\n",
    "                                      ,'heart_rate'\n",
    "                                      ,'resp_rate'\n",
    "                                      ,'sys_press'\n",
    "                                      ,'dias_press'\n",
    "                                      ,'mean_press'\n",
    "                                      ,'temp'\n",
    "                                      ,'hemoglobin'\n",
    "                                      ,'platelets'\n",
    "                                      ,'hematocrit'\n",
    "                                      ,'red_cells_count'\n",
    "                                      ,'hcm'\n",
    "                                      ,'rdw'\n",
    "                                      ,'mcv'\n",
    "                                      ,'leukocytes'\n",
    "                                      ,'neutrophil'\n",
    "                                      ,'lymphocytes'\n",
    "                                      ,'basophils'\n",
    "                                      ,'eosinophils'\n",
    "                                      ,'monocytes'\n",
    "                                      ,'crp'\n",
    "                                      ,'mv']]\n",
    "df_iacov_model_lean.shape"
   ]
  },
  {
   "cell_type": "code",
   "execution_count": 5,
   "metadata": {},
   "outputs": [],
   "source": [
    "df_iacov_model_lean.to_csv('df_iacov_model_lean.csv', sep=';', index=False)"
   ]
  },
  {
   "cell_type": "markdown",
   "metadata": {},
   "source": [
    "### 2.1.2) Filter a specific hospital"
   ]
  },
  {
   "cell_type": "code",
   "execution_count": 6,
   "metadata": {},
   "outputs": [
    {
     "data": {
      "text/plain": [
       "(6046, 24)"
      ]
     },
     "execution_count": 6,
     "metadata": {},
     "output_type": "execute_result"
    }
   ],
   "source": [
    "#Put csv in same folder as this notebook\n",
    "df_all_hospitals = pd.read_csv(\"df_iacov_model_lean.csv\", delimiter=\";\", decimal=\".\")\n",
    "df_all_hospitals.shape"
   ]
  },
  {
   "cell_type": "code",
   "execution_count": 7,
   "metadata": {},
   "outputs": [
    {
     "data": {
      "text/html": [
       "<div>\n",
       "<style scoped>\n",
       "    .dataframe tbody tr th:only-of-type {\n",
       "        vertical-align: middle;\n",
       "    }\n",
       "\n",
       "    .dataframe tbody tr th {\n",
       "        vertical-align: top;\n",
       "    }\n",
       "\n",
       "    .dataframe thead th {\n",
       "        text-align: right;\n",
       "    }\n",
       "</style>\n",
       "<table border=\"1\" class=\"dataframe\">\n",
       "  <thead>\n",
       "    <tr style=\"text-align: right;\">\n",
       "      <th></th>\n",
       "      <th>Missing Values</th>\n",
       "      <th>% missing of Total Values</th>\n",
       "      <th># Unique Values</th>\n",
       "      <th># Values as [0]</th>\n",
       "      <th>datatype</th>\n",
       "      <th>skew</th>\n",
       "      <th>count</th>\n",
       "      <th>mean</th>\n",
       "      <th>std</th>\n",
       "      <th>min</th>\n",
       "      <th>25%</th>\n",
       "      <th>50%</th>\n",
       "      <th>75%</th>\n",
       "      <th>max</th>\n",
       "    </tr>\n",
       "  </thead>\n",
       "  <tbody>\n",
       "    <tr>\n",
       "      <th>city_hospital</th>\n",
       "      <td>0</td>\n",
       "      <td>0.000</td>\n",
       "      <td>14</td>\n",
       "      <td>0</td>\n",
       "      <td>object</td>\n",
       "      <td>NaN</td>\n",
       "      <td>NaN</td>\n",
       "      <td>NaN</td>\n",
       "      <td>NaN</td>\n",
       "      <td>NaN</td>\n",
       "      <td>NaN</td>\n",
       "      <td>NaN</td>\n",
       "      <td>NaN</td>\n",
       "      <td>NaN</td>\n",
       "    </tr>\n",
       "    <tr>\n",
       "      <th>age</th>\n",
       "      <td>0</td>\n",
       "      <td>0.000</td>\n",
       "      <td>98</td>\n",
       "      <td>0</td>\n",
       "      <td>float64</td>\n",
       "      <td>-0.060</td>\n",
       "      <td>6046.000</td>\n",
       "      <td>57.521</td>\n",
       "      <td>17.869</td>\n",
       "      <td>18.000</td>\n",
       "      <td>44.000</td>\n",
       "      <td>58.000</td>\n",
       "      <td>71.000</td>\n",
       "      <td>105.000</td>\n",
       "    </tr>\n",
       "    <tr>\n",
       "      <th>male</th>\n",
       "      <td>0</td>\n",
       "      <td>0.000</td>\n",
       "      <td>2</td>\n",
       "      <td>2790</td>\n",
       "      <td>float64</td>\n",
       "      <td>-0.155</td>\n",
       "      <td>6046.000</td>\n",
       "      <td>0.539</td>\n",
       "      <td>0.499</td>\n",
       "      <td>0.000</td>\n",
       "      <td>0.000</td>\n",
       "      <td>1.000</td>\n",
       "      <td>1.000</td>\n",
       "      <td>1.000</td>\n",
       "    </tr>\n",
       "    <tr>\n",
       "      <th>heart_rate</th>\n",
       "      <td>809</td>\n",
       "      <td>13.381</td>\n",
       "      <td>183</td>\n",
       "      <td>0</td>\n",
       "      <td>float64</td>\n",
       "      <td>0.611</td>\n",
       "      <td>5237.000</td>\n",
       "      <td>85.689</td>\n",
       "      <td>17.209</td>\n",
       "      <td>13.000</td>\n",
       "      <td>75.000</td>\n",
       "      <td>85.000</td>\n",
       "      <td>96.000</td>\n",
       "      <td>233.000</td>\n",
       "    </tr>\n",
       "    <tr>\n",
       "      <th>resp_rate</th>\n",
       "      <td>1457</td>\n",
       "      <td>24.099</td>\n",
       "      <td>69</td>\n",
       "      <td>1</td>\n",
       "      <td>float64</td>\n",
       "      <td>2.897</td>\n",
       "      <td>4589.000</td>\n",
       "      <td>21.881</td>\n",
       "      <td>6.380</td>\n",
       "      <td>0.000</td>\n",
       "      <td>18.000</td>\n",
       "      <td>20.000</td>\n",
       "      <td>24.000</td>\n",
       "      <td>108.000</td>\n",
       "    </tr>\n",
       "    <tr>\n",
       "      <th>sys_press</th>\n",
       "      <td>1336</td>\n",
       "      <td>22.097</td>\n",
       "      <td>215</td>\n",
       "      <td>0</td>\n",
       "      <td>float64</td>\n",
       "      <td>-0.279</td>\n",
       "      <td>4710.000</td>\n",
       "      <td>124.054</td>\n",
       "      <td>22.791</td>\n",
       "      <td>10.000</td>\n",
       "      <td>110.000</td>\n",
       "      <td>122.000</td>\n",
       "      <td>138.000</td>\n",
       "      <td>242.000</td>\n",
       "    </tr>\n",
       "    <tr>\n",
       "      <th>dias_press</th>\n",
       "      <td>1325</td>\n",
       "      <td>21.915</td>\n",
       "      <td>150</td>\n",
       "      <td>0</td>\n",
       "      <td>float64</td>\n",
       "      <td>-0.361</td>\n",
       "      <td>4721.000</td>\n",
       "      <td>74.608</td>\n",
       "      <td>14.626</td>\n",
       "      <td>6.000</td>\n",
       "      <td>67.000</td>\n",
       "      <td>76.000</td>\n",
       "      <td>81.000</td>\n",
       "      <td>141.000</td>\n",
       "    </tr>\n",
       "    <tr>\n",
       "      <th>mean_press</th>\n",
       "      <td>1366</td>\n",
       "      <td>22.593</td>\n",
       "      <td>1452</td>\n",
       "      <td>326</td>\n",
       "      <td>float64</td>\n",
       "      <td>-1.751</td>\n",
       "      <td>4680.000</td>\n",
       "      <td>83.731</td>\n",
       "      <td>28.475</td>\n",
       "      <td>0.000</td>\n",
       "      <td>78.981</td>\n",
       "      <td>90.000</td>\n",
       "      <td>98.648</td>\n",
       "      <td>166.000</td>\n",
       "    </tr>\n",
       "    <tr>\n",
       "      <th>temp</th>\n",
       "      <td>1173</td>\n",
       "      <td>19.401</td>\n",
       "      <td>128</td>\n",
       "      <td>1</td>\n",
       "      <td>float64</td>\n",
       "      <td>62.972</td>\n",
       "      <td>4873.000</td>\n",
       "      <td>36.430</td>\n",
       "      <td>4.976</td>\n",
       "      <td>0.000</td>\n",
       "      <td>36.000</td>\n",
       "      <td>36.300</td>\n",
       "      <td>36.800</td>\n",
       "      <td>372.000</td>\n",
       "    </tr>\n",
       "    <tr>\n",
       "      <th>hemoglobin</th>\n",
       "      <td>1904</td>\n",
       "      <td>31.492</td>\n",
       "      <td>226</td>\n",
       "      <td>0</td>\n",
       "      <td>float64</td>\n",
       "      <td>-0.628</td>\n",
       "      <td>4142.000</td>\n",
       "      <td>12.752</td>\n",
       "      <td>2.189</td>\n",
       "      <td>1.400</td>\n",
       "      <td>11.692</td>\n",
       "      <td>13.000</td>\n",
       "      <td>14.200</td>\n",
       "      <td>30.600</td>\n",
       "    </tr>\n",
       "    <tr>\n",
       "      <th>platelets</th>\n",
       "      <td>744</td>\n",
       "      <td>12.306</td>\n",
       "      <td>1036</td>\n",
       "      <td>0</td>\n",
       "      <td>float64</td>\n",
       "      <td>0.395</td>\n",
       "      <td>5302.000</td>\n",
       "      <td>235701.617</td>\n",
       "      <td>143771.202</td>\n",
       "      <td>7.000</td>\n",
       "      <td>148000.000</td>\n",
       "      <td>217000.000</td>\n",
       "      <td>321750.000</td>\n",
       "      <td>992000.000</td>\n",
       "    </tr>\n",
       "    <tr>\n",
       "      <th>hematocrit</th>\n",
       "      <td>2350</td>\n",
       "      <td>38.869</td>\n",
       "      <td>475</td>\n",
       "      <td>0</td>\n",
       "      <td>float64</td>\n",
       "      <td>-0.539</td>\n",
       "      <td>3696.000</td>\n",
       "      <td>38.436</td>\n",
       "      <td>6.402</td>\n",
       "      <td>1.000</td>\n",
       "      <td>35.100</td>\n",
       "      <td>39.200</td>\n",
       "      <td>42.500</td>\n",
       "      <td>77.000</td>\n",
       "    </tr>\n",
       "    <tr>\n",
       "      <th>red_cells_count</th>\n",
       "      <td>2684</td>\n",
       "      <td>44.393</td>\n",
       "      <td>578</td>\n",
       "      <td>0</td>\n",
       "      <td>float64</td>\n",
       "      <td>-0.274</td>\n",
       "      <td>3362.000</td>\n",
       "      <td>3.915</td>\n",
       "      <td>1.168</td>\n",
       "      <td>0.290</td>\n",
       "      <td>3.250</td>\n",
       "      <td>4.210</td>\n",
       "      <td>4.717</td>\n",
       "      <td>14.500</td>\n",
       "    </tr>\n",
       "    <tr>\n",
       "      <th>hcm</th>\n",
       "      <td>1191</td>\n",
       "      <td>19.699</td>\n",
       "      <td>689</td>\n",
       "      <td>0</td>\n",
       "      <td>float64</td>\n",
       "      <td>3.528</td>\n",
       "      <td>4855.000</td>\n",
       "      <td>29.095</td>\n",
       "      <td>2.939</td>\n",
       "      <td>10.000</td>\n",
       "      <td>27.800</td>\n",
       "      <td>29.200</td>\n",
       "      <td>30.500</td>\n",
       "      <td>88.100</td>\n",
       "    </tr>\n",
       "    <tr>\n",
       "      <th>rdw</th>\n",
       "      <td>1192</td>\n",
       "      <td>19.716</td>\n",
       "      <td>227</td>\n",
       "      <td>0</td>\n",
       "      <td>float64</td>\n",
       "      <td>11.869</td>\n",
       "      <td>4854.000</td>\n",
       "      <td>13.837</td>\n",
       "      <td>2.407</td>\n",
       "      <td>3.000</td>\n",
       "      <td>12.700</td>\n",
       "      <td>13.500</td>\n",
       "      <td>14.400</td>\n",
       "      <td>86.100</td>\n",
       "    </tr>\n",
       "    <tr>\n",
       "      <th>mcv</th>\n",
       "      <td>1185</td>\n",
       "      <td>19.600</td>\n",
       "      <td>1029</td>\n",
       "      <td>0</td>\n",
       "      <td>float64</td>\n",
       "      <td>0.227</td>\n",
       "      <td>4861.000</td>\n",
       "      <td>87.665</td>\n",
       "      <td>7.667</td>\n",
       "      <td>8.150</td>\n",
       "      <td>83.700</td>\n",
       "      <td>87.600</td>\n",
       "      <td>91.600</td>\n",
       "      <td>201.400</td>\n",
       "    </tr>\n",
       "    <tr>\n",
       "      <th>leukocytes</th>\n",
       "      <td>741</td>\n",
       "      <td>12.256</td>\n",
       "      <td>2268</td>\n",
       "      <td>0</td>\n",
       "      <td>float64</td>\n",
       "      <td>20.605</td>\n",
       "      <td>5305.000</td>\n",
       "      <td>7035.747</td>\n",
       "      <td>9241.209</td>\n",
       "      <td>0.760</td>\n",
       "      <td>3680.000</td>\n",
       "      <td>6210.000</td>\n",
       "      <td>9233.000</td>\n",
       "      <td>365920.000</td>\n",
       "    </tr>\n",
       "    <tr>\n",
       "      <th>neutrophil</th>\n",
       "      <td>2074</td>\n",
       "      <td>34.304</td>\n",
       "      <td>2403</td>\n",
       "      <td>3</td>\n",
       "      <td>float64</td>\n",
       "      <td>1.830</td>\n",
       "      <td>3972.000</td>\n",
       "      <td>6143.968</td>\n",
       "      <td>4259.737</td>\n",
       "      <td>0.000</td>\n",
       "      <td>3180.000</td>\n",
       "      <td>5200.000</td>\n",
       "      <td>8060.000</td>\n",
       "      <td>47636.000</td>\n",
       "    </tr>\n",
       "    <tr>\n",
       "      <th>lymphocytes</th>\n",
       "      <td>1404</td>\n",
       "      <td>23.222</td>\n",
       "      <td>1865</td>\n",
       "      <td>5</td>\n",
       "      <td>float64</td>\n",
       "      <td>15.570</td>\n",
       "      <td>4642.000</td>\n",
       "      <td>1031.263</td>\n",
       "      <td>1028.587</td>\n",
       "      <td>0.000</td>\n",
       "      <td>529.250</td>\n",
       "      <td>900.000</td>\n",
       "      <td>1378.250</td>\n",
       "      <td>42120.000</td>\n",
       "    </tr>\n",
       "    <tr>\n",
       "      <th>basophils</th>\n",
       "      <td>1120</td>\n",
       "      <td>18.525</td>\n",
       "      <td>252</td>\n",
       "      <td>2087</td>\n",
       "      <td>float64</td>\n",
       "      <td>5.342</td>\n",
       "      <td>4926.000</td>\n",
       "      <td>7.509</td>\n",
       "      <td>18.532</td>\n",
       "      <td>0.000</td>\n",
       "      <td>0.000</td>\n",
       "      <td>0.010</td>\n",
       "      <td>10.000</td>\n",
       "      <td>259.200</td>\n",
       "    </tr>\n",
       "    <tr>\n",
       "      <th>eosinophils</th>\n",
       "      <td>2367</td>\n",
       "      <td>39.150</td>\n",
       "      <td>495</td>\n",
       "      <td>1487</td>\n",
       "      <td>float64</td>\n",
       "      <td>14.977</td>\n",
       "      <td>3679.000</td>\n",
       "      <td>43.517</td>\n",
       "      <td>127.479</td>\n",
       "      <td>0.000</td>\n",
       "      <td>0.000</td>\n",
       "      <td>1.000</td>\n",
       "      <td>46.000</td>\n",
       "      <td>4450.000</td>\n",
       "    </tr>\n",
       "    <tr>\n",
       "      <th>monocytes</th>\n",
       "      <td>841</td>\n",
       "      <td>13.910</td>\n",
       "      <td>1450</td>\n",
       "      <td>14</td>\n",
       "      <td>float64</td>\n",
       "      <td>2.534</td>\n",
       "      <td>5205.000</td>\n",
       "      <td>354.765</td>\n",
       "      <td>375.844</td>\n",
       "      <td>0.000</td>\n",
       "      <td>0.930</td>\n",
       "      <td>310.000</td>\n",
       "      <td>584.000</td>\n",
       "      <td>7243.000</td>\n",
       "    </tr>\n",
       "    <tr>\n",
       "      <th>crp</th>\n",
       "      <td>1383</td>\n",
       "      <td>22.875</td>\n",
       "      <td>2986</td>\n",
       "      <td>0</td>\n",
       "      <td>float64</td>\n",
       "      <td>3.137</td>\n",
       "      <td>4663.000</td>\n",
       "      <td>36.696</td>\n",
       "      <td>71.738</td>\n",
       "      <td>0.015</td>\n",
       "      <td>1.911</td>\n",
       "      <td>7.800</td>\n",
       "      <td>28.100</td>\n",
       "      <td>708.300</td>\n",
       "    </tr>\n",
       "    <tr>\n",
       "      <th>mv</th>\n",
       "      <td>0</td>\n",
       "      <td>0.000</td>\n",
       "      <td>2</td>\n",
       "      <td>4343</td>\n",
       "      <td>int64</td>\n",
       "      <td>0.971</td>\n",
       "      <td>6046.000</td>\n",
       "      <td>0.282</td>\n",
       "      <td>0.450</td>\n",
       "      <td>0.000</td>\n",
       "      <td>0.000</td>\n",
       "      <td>0.000</td>\n",
       "      <td>1.000</td>\n",
       "      <td>1.000</td>\n",
       "    </tr>\n",
       "  </tbody>\n",
       "</table>\n",
       "</div>"
      ],
      "text/plain": [
       "                 Missing Values  % missing of Total Values  # Unique Values  \\\n",
       "city_hospital                 0                      0.000               14   \n",
       "age                           0                      0.000               98   \n",
       "male                          0                      0.000                2   \n",
       "heart_rate                  809                     13.381              183   \n",
       "resp_rate                  1457                     24.099               69   \n",
       "sys_press                  1336                     22.097              215   \n",
       "dias_press                 1325                     21.915              150   \n",
       "mean_press                 1366                     22.593             1452   \n",
       "temp                       1173                     19.401              128   \n",
       "hemoglobin                 1904                     31.492              226   \n",
       "platelets                   744                     12.306             1036   \n",
       "hematocrit                 2350                     38.869              475   \n",
       "red_cells_count            2684                     44.393              578   \n",
       "hcm                        1191                     19.699              689   \n",
       "rdw                        1192                     19.716              227   \n",
       "mcv                        1185                     19.600             1029   \n",
       "leukocytes                  741                     12.256             2268   \n",
       "neutrophil                 2074                     34.304             2403   \n",
       "lymphocytes                1404                     23.222             1865   \n",
       "basophils                  1120                     18.525              252   \n",
       "eosinophils                2367                     39.150              495   \n",
       "monocytes                   841                     13.910             1450   \n",
       "crp                        1383                     22.875             2986   \n",
       "mv                            0                      0.000                2   \n",
       "\n",
       "                 # Values as [0] datatype   skew    count       mean  \\\n",
       "city_hospital                  0   object    NaN      NaN        NaN   \n",
       "age                            0  float64 -0.060 6046.000     57.521   \n",
       "male                        2790  float64 -0.155 6046.000      0.539   \n",
       "heart_rate                     0  float64  0.611 5237.000     85.689   \n",
       "resp_rate                      1  float64  2.897 4589.000     21.881   \n",
       "sys_press                      0  float64 -0.279 4710.000    124.054   \n",
       "dias_press                     0  float64 -0.361 4721.000     74.608   \n",
       "mean_press                   326  float64 -1.751 4680.000     83.731   \n",
       "temp                           1  float64 62.972 4873.000     36.430   \n",
       "hemoglobin                     0  float64 -0.628 4142.000     12.752   \n",
       "platelets                      0  float64  0.395 5302.000 235701.617   \n",
       "hematocrit                     0  float64 -0.539 3696.000     38.436   \n",
       "red_cells_count                0  float64 -0.274 3362.000      3.915   \n",
       "hcm                            0  float64  3.528 4855.000     29.095   \n",
       "rdw                            0  float64 11.869 4854.000     13.837   \n",
       "mcv                            0  float64  0.227 4861.000     87.665   \n",
       "leukocytes                     0  float64 20.605 5305.000   7035.747   \n",
       "neutrophil                     3  float64  1.830 3972.000   6143.968   \n",
       "lymphocytes                    5  float64 15.570 4642.000   1031.263   \n",
       "basophils                   2087  float64  5.342 4926.000      7.509   \n",
       "eosinophils                 1487  float64 14.977 3679.000     43.517   \n",
       "monocytes                     14  float64  2.534 5205.000    354.765   \n",
       "crp                            0  float64  3.137 4663.000     36.696   \n",
       "mv                          4343    int64  0.971 6046.000      0.282   \n",
       "\n",
       "                       std    min        25%        50%        75%        max  \n",
       "city_hospital          NaN    NaN        NaN        NaN        NaN        NaN  \n",
       "age                 17.869 18.000     44.000     58.000     71.000    105.000  \n",
       "male                 0.499  0.000      0.000      1.000      1.000      1.000  \n",
       "heart_rate          17.209 13.000     75.000     85.000     96.000    233.000  \n",
       "resp_rate            6.380  0.000     18.000     20.000     24.000    108.000  \n",
       "sys_press           22.791 10.000    110.000    122.000    138.000    242.000  \n",
       "dias_press          14.626  6.000     67.000     76.000     81.000    141.000  \n",
       "mean_press          28.475  0.000     78.981     90.000     98.648    166.000  \n",
       "temp                 4.976  0.000     36.000     36.300     36.800    372.000  \n",
       "hemoglobin           2.189  1.400     11.692     13.000     14.200     30.600  \n",
       "platelets       143771.202  7.000 148000.000 217000.000 321750.000 992000.000  \n",
       "hematocrit           6.402  1.000     35.100     39.200     42.500     77.000  \n",
       "red_cells_count      1.168  0.290      3.250      4.210      4.717     14.500  \n",
       "hcm                  2.939 10.000     27.800     29.200     30.500     88.100  \n",
       "rdw                  2.407  3.000     12.700     13.500     14.400     86.100  \n",
       "mcv                  7.667  8.150     83.700     87.600     91.600    201.400  \n",
       "leukocytes        9241.209  0.760   3680.000   6210.000   9233.000 365920.000  \n",
       "neutrophil        4259.737  0.000   3180.000   5200.000   8060.000  47636.000  \n",
       "lymphocytes       1028.587  0.000    529.250    900.000   1378.250  42120.000  \n",
       "basophils           18.532  0.000      0.000      0.010     10.000    259.200  \n",
       "eosinophils        127.479  0.000      0.000      1.000     46.000   4450.000  \n",
       "monocytes          375.844  0.000      0.930    310.000    584.000   7243.000  \n",
       "crp                 71.738  0.015      1.911      7.800     28.100    708.300  \n",
       "mv                   0.450  0.000      0.000      0.000      1.000      1.000  "
      ]
     },
     "execution_count": 7,
     "metadata": {},
     "output_type": "execute_result"
    }
   ],
   "source": [
    "column_summaries(df_all_hospitals)"
   ]
  },
  {
   "cell_type": "code",
   "execution_count": 8,
   "metadata": {},
   "outputs": [],
   "source": [
    "import ipywidgets as widgets\n",
    "from IPython.display import clear_output"
   ]
  },
  {
   "cell_type": "code",
   "execution_count": 9,
   "metadata": {},
   "outputs": [
    {
     "data": {
      "text/plain": [
       "city_hospital\n",
       "HC_USP                        1500\n",
       "HOSPPORTUGUES_SALVADOR        1359\n",
       "CEARA_UNIMED                   845\n",
       "HRL_2021_02                    539\n",
       "HMV_POA_02                     456\n",
       "RIO_DE_JANEIRO_UNIMED          449\n",
       "HOSPSANTAJULIA_MANAUS          247\n",
       "HOSPSANTACATARINABLUMENAU      148\n",
       "HOSPSAOFRANCISCO_MOGIGUACU     124\n",
       "PERNAMBUCO_FULL                112\n",
       "PELOTAS                         91\n",
       "CEARA_HUWC                      73\n",
       "HEVV                            56\n",
       "AMAZONAS_HUGV                   47\n",
       "Name: count, dtype: int64"
      ]
     },
     "execution_count": 9,
     "metadata": {},
     "output_type": "execute_result"
    }
   ],
   "source": [
    "df_all_hospitals.city_hospital.value_counts()"
   ]
  },
  {
   "cell_type": "code",
   "execution_count": 10,
   "metadata": {},
   "outputs": [],
   "source": [
    "# Hospitals excluded for ICU and MV analyses: 'HOSPSANTACASASP_FULL', 'HOSPGRUPOSANTA', 'HUTRIN_2021_02', 'RIO_DE_JANEIRO_HUCFF'\n",
    "dropdown_hospital = widgets.Dropdown(options = ['Choose a hospital ...'\n",
    "                                                ,'HC_USP'                     #SP\n",
    "                                                ,'HOSPPORTUGUES_SALVADOR'     #BA\n",
    "                                                ,'CEARA_UNIMED'               #CE\n",
    "                                                ,'HRL_2021_02'                #GO - Luiziania\n",
    "                                                ,'HMV_POA_02'                 #RS - Moinhos de Vento\n",
    "                                                ,'RIO_DE_JANEIRO_UNIMED'      #RJ\n",
    "                                                ,'HOSPSANTAJULIA_MANAUS'      #AM\n",
    "                                                ,'HOSPSANTACATARINABLUMENAU'  #SC\n",
    "                                                ,'HOSPSAOFRANCISCO_MOGIGUACU' #SP\n",
    "                                                ,'PERNAMBUCO_FULL'            #PE\n",
    "                                                ,'PELOTAS'                    #RS\n",
    "                                                ,'CEARA_HUWC'                 #CE\n",
    "                                                ,'HEVV'                       #ES - Vila Velha\n",
    "                                                ,'AMAZONAS_HUGV'              #AM\n",
    "#                                                 ,'GHC_02'                     #RS\n",
    "                                               ])"
   ]
  },
  {
   "cell_type": "code",
   "execution_count": 11,
   "metadata": {},
   "outputs": [],
   "source": [
    "specific_hospital = 'Choose a hospital ...'\n",
    "df_iacov_model_lean = df_all_hospitals\n",
    "\n",
    "def dropdown_hospital_eventhandler(change):\n",
    "    global specific_hospital \n",
    "    specific_hospital = change.new\n",
    "    dropdown_hospital.observe(dropdown_hospital_eventhandler, names='value')\n",
    "\n",
    "# df_iacov_model_lean[df_iacov_model_lean.city_hospital == specific_hospital].shape"
   ]
  },
  {
   "cell_type": "code",
   "execution_count": 12,
   "metadata": {},
   "outputs": [],
   "source": [
    "dropdown_hospital.observe(dropdown_hospital_eventhandler, names='value')"
   ]
  },
  {
   "cell_type": "markdown",
   "metadata": {},
   "source": [
    "**Select Hospital to train**"
   ]
  },
  {
   "cell_type": "code",
   "execution_count": 14,
   "metadata": {
    "scrolled": true
   },
   "outputs": [
    {
     "data": {
      "application/vnd.jupyter.widget-view+json": {
       "model_id": "c481f02895be4de8846c1c0d7d2edb39",
       "version_major": 2,
       "version_minor": 0
      },
      "text/plain": [
       "Dropdown(index=1, options=('Choose a hospital ...', 'HC_USP', 'HOSPPORTUGUES_SALVADOR', 'CEARA_UNIMED', 'HRL_2…"
      ]
     },
     "metadata": {},
     "output_type": "display_data"
    }
   ],
   "source": [
    "display(dropdown_hospital)"
   ]
  },
  {
   "cell_type": "markdown",
   "metadata": {},
   "source": [
    "### df_single_hospital is the data of hospital selected"
   ]
  },
  {
   "cell_type": "code",
   "execution_count": 15,
   "metadata": {},
   "outputs": [
    {
     "data": {
      "text/plain": [
       "(1500, 24)"
      ]
     },
     "execution_count": 15,
     "metadata": {},
     "output_type": "execute_result"
    }
   ],
   "source": [
    "df_single_hospital = df_all_hospitals[df_all_hospitals.city_hospital == specific_hospital]\n",
    "df_single_hospital.shape"
   ]
  },
  {
   "cell_type": "code",
   "execution_count": 16,
   "metadata": {},
   "outputs": [
    {
     "data": {
      "text/html": [
       "<div>\n",
       "<style scoped>\n",
       "    .dataframe tbody tr th:only-of-type {\n",
       "        vertical-align: middle;\n",
       "    }\n",
       "\n",
       "    .dataframe tbody tr th {\n",
       "        vertical-align: top;\n",
       "    }\n",
       "\n",
       "    .dataframe thead th {\n",
       "        text-align: right;\n",
       "    }\n",
       "</style>\n",
       "<table border=\"1\" class=\"dataframe\">\n",
       "  <thead>\n",
       "    <tr style=\"text-align: right;\">\n",
       "      <th></th>\n",
       "      <th>Missing Values</th>\n",
       "      <th>% missing of Total Values</th>\n",
       "      <th># Unique Values</th>\n",
       "      <th># Values as [0]</th>\n",
       "      <th>datatype</th>\n",
       "      <th>skew</th>\n",
       "      <th>count</th>\n",
       "      <th>mean</th>\n",
       "      <th>std</th>\n",
       "      <th>min</th>\n",
       "      <th>25%</th>\n",
       "      <th>50%</th>\n",
       "      <th>75%</th>\n",
       "      <th>max</th>\n",
       "    </tr>\n",
       "  </thead>\n",
       "  <tbody>\n",
       "    <tr>\n",
       "      <th>city_hospital</th>\n",
       "      <td>0</td>\n",
       "      <td>0.000</td>\n",
       "      <td>1</td>\n",
       "      <td>0</td>\n",
       "      <td>object</td>\n",
       "      <td>NaN</td>\n",
       "      <td>NaN</td>\n",
       "      <td>NaN</td>\n",
       "      <td>NaN</td>\n",
       "      <td>NaN</td>\n",
       "      <td>NaN</td>\n",
       "      <td>NaN</td>\n",
       "      <td>NaN</td>\n",
       "      <td>NaN</td>\n",
       "    </tr>\n",
       "    <tr>\n",
       "      <th>age</th>\n",
       "      <td>0</td>\n",
       "      <td>0.000</td>\n",
       "      <td>79</td>\n",
       "      <td>0</td>\n",
       "      <td>float64</td>\n",
       "      <td>-0.295</td>\n",
       "      <td>1500.000</td>\n",
       "      <td>59.305</td>\n",
       "      <td>15.995</td>\n",
       "      <td>18.000</td>\n",
       "      <td>48.000</td>\n",
       "      <td>61.000</td>\n",
       "      <td>71.000</td>\n",
       "      <td>98.000</td>\n",
       "    </tr>\n",
       "    <tr>\n",
       "      <th>male</th>\n",
       "      <td>0</td>\n",
       "      <td>0.000</td>\n",
       "      <td>2</td>\n",
       "      <td>663</td>\n",
       "      <td>float64</td>\n",
       "      <td>-0.234</td>\n",
       "      <td>1500.000</td>\n",
       "      <td>0.558</td>\n",
       "      <td>0.497</td>\n",
       "      <td>0.000</td>\n",
       "      <td>0.000</td>\n",
       "      <td>1.000</td>\n",
       "      <td>1.000</td>\n",
       "      <td>1.000</td>\n",
       "    </tr>\n",
       "    <tr>\n",
       "      <th>heart_rate</th>\n",
       "      <td>7</td>\n",
       "      <td>0.467</td>\n",
       "      <td>106</td>\n",
       "      <td>0</td>\n",
       "      <td>float64</td>\n",
       "      <td>0.320</td>\n",
       "      <td>1493.000</td>\n",
       "      <td>87.086</td>\n",
       "      <td>18.503</td>\n",
       "      <td>13.000</td>\n",
       "      <td>74.000</td>\n",
       "      <td>86.000</td>\n",
       "      <td>98.000</td>\n",
       "      <td>191.000</td>\n",
       "    </tr>\n",
       "    <tr>\n",
       "      <th>resp_rate</th>\n",
       "      <td>37</td>\n",
       "      <td>2.467</td>\n",
       "      <td>44</td>\n",
       "      <td>0</td>\n",
       "      <td>float64</td>\n",
       "      <td>3.055</td>\n",
       "      <td>1463.000</td>\n",
       "      <td>24.476</td>\n",
       "      <td>7.383</td>\n",
       "      <td>11.000</td>\n",
       "      <td>20.000</td>\n",
       "      <td>23.000</td>\n",
       "      <td>28.000</td>\n",
       "      <td>108.000</td>\n",
       "    </tr>\n",
       "    <tr>\n",
       "      <th>sys_press</th>\n",
       "      <td>11</td>\n",
       "      <td>0.733</td>\n",
       "      <td>123</td>\n",
       "      <td>0</td>\n",
       "      <td>float64</td>\n",
       "      <td>-0.417</td>\n",
       "      <td>1489.000</td>\n",
       "      <td>119.400</td>\n",
       "      <td>22.559</td>\n",
       "      <td>10.000</td>\n",
       "      <td>106.000</td>\n",
       "      <td>120.000</td>\n",
       "      <td>132.000</td>\n",
       "      <td>200.000</td>\n",
       "    </tr>\n",
       "    <tr>\n",
       "      <th>dias_press</th>\n",
       "      <td>10</td>\n",
       "      <td>0.667</td>\n",
       "      <td>89</td>\n",
       "      <td>0</td>\n",
       "      <td>float64</td>\n",
       "      <td>-0.184</td>\n",
       "      <td>1490.000</td>\n",
       "      <td>71.702</td>\n",
       "      <td>14.456</td>\n",
       "      <td>6.000</td>\n",
       "      <td>61.000</td>\n",
       "      <td>70.000</td>\n",
       "      <td>80.000</td>\n",
       "      <td>129.000</td>\n",
       "    </tr>\n",
       "    <tr>\n",
       "      <th>mean_press</th>\n",
       "      <td>11</td>\n",
       "      <td>0.733</td>\n",
       "      <td>948</td>\n",
       "      <td>0</td>\n",
       "      <td>float64</td>\n",
       "      <td>-0.331</td>\n",
       "      <td>1489.000</td>\n",
       "      <td>87.549</td>\n",
       "      <td>15.570</td>\n",
       "      <td>7.665</td>\n",
       "      <td>77.649</td>\n",
       "      <td>86.980</td>\n",
       "      <td>96.650</td>\n",
       "      <td>141.654</td>\n",
       "    </tr>\n",
       "    <tr>\n",
       "      <th>temp</th>\n",
       "      <td>7</td>\n",
       "      <td>0.467</td>\n",
       "      <td>60</td>\n",
       "      <td>0</td>\n",
       "      <td>float64</td>\n",
       "      <td>-0.111</td>\n",
       "      <td>1493.000</td>\n",
       "      <td>36.366</td>\n",
       "      <td>0.888</td>\n",
       "      <td>32.400</td>\n",
       "      <td>35.900</td>\n",
       "      <td>36.400</td>\n",
       "      <td>36.900</td>\n",
       "      <td>39.100</td>\n",
       "    </tr>\n",
       "    <tr>\n",
       "      <th>hemoglobin</th>\n",
       "      <td>1287</td>\n",
       "      <td>85.800</td>\n",
       "      <td>31</td>\n",
       "      <td>0</td>\n",
       "      <td>float64</td>\n",
       "      <td>-0.137</td>\n",
       "      <td>213.000</td>\n",
       "      <td>12.340</td>\n",
       "      <td>2.538</td>\n",
       "      <td>5.000</td>\n",
       "      <td>11.000</td>\n",
       "      <td>13.000</td>\n",
       "      <td>14.000</td>\n",
       "      <td>19.000</td>\n",
       "    </tr>\n",
       "    <tr>\n",
       "      <th>platelets</th>\n",
       "      <td>110</td>\n",
       "      <td>7.333</td>\n",
       "      <td>409</td>\n",
       "      <td>0</td>\n",
       "      <td>float64</td>\n",
       "      <td>1.200</td>\n",
       "      <td>1390.000</td>\n",
       "      <td>234923.741</td>\n",
       "      <td>104514.476</td>\n",
       "      <td>6000.000</td>\n",
       "      <td>166000.000</td>\n",
       "      <td>217000.000</td>\n",
       "      <td>288750.000</td>\n",
       "      <td>992000.000</td>\n",
       "    </tr>\n",
       "    <tr>\n",
       "      <th>hematocrit</th>\n",
       "      <td>1286</td>\n",
       "      <td>85.733</td>\n",
       "      <td>57</td>\n",
       "      <td>0</td>\n",
       "      <td>float64</td>\n",
       "      <td>-0.551</td>\n",
       "      <td>214.000</td>\n",
       "      <td>37.683</td>\n",
       "      <td>8.062</td>\n",
       "      <td>1.000</td>\n",
       "      <td>33.000</td>\n",
       "      <td>39.000</td>\n",
       "      <td>43.000</td>\n",
       "      <td>58.000</td>\n",
       "    </tr>\n",
       "    <tr>\n",
       "      <th>red_cells_count</th>\n",
       "      <td>1500</td>\n",
       "      <td>100.000</td>\n",
       "      <td>0</td>\n",
       "      <td>0</td>\n",
       "      <td>float64</td>\n",
       "      <td>NaN</td>\n",
       "      <td>0.000</td>\n",
       "      <td>NaN</td>\n",
       "      <td>NaN</td>\n",
       "      <td>NaN</td>\n",
       "      <td>NaN</td>\n",
       "      <td>NaN</td>\n",
       "      <td>NaN</td>\n",
       "      <td>NaN</td>\n",
       "    </tr>\n",
       "    <tr>\n",
       "      <th>hcm</th>\n",
       "      <td>108</td>\n",
       "      <td>7.200</td>\n",
       "      <td>140</td>\n",
       "      <td>0</td>\n",
       "      <td>float64</td>\n",
       "      <td>-0.243</td>\n",
       "      <td>1392.000</td>\n",
       "      <td>28.843</td>\n",
       "      <td>2.380</td>\n",
       "      <td>16.900</td>\n",
       "      <td>27.600</td>\n",
       "      <td>29.000</td>\n",
       "      <td>30.300</td>\n",
       "      <td>46.900</td>\n",
       "    </tr>\n",
       "    <tr>\n",
       "      <th>rdw</th>\n",
       "      <td>109</td>\n",
       "      <td>7.267</td>\n",
       "      <td>116</td>\n",
       "      <td>0</td>\n",
       "      <td>float64</td>\n",
       "      <td>2.536</td>\n",
       "      <td>1391.000</td>\n",
       "      <td>14.216</td>\n",
       "      <td>2.168</td>\n",
       "      <td>11.100</td>\n",
       "      <td>12.900</td>\n",
       "      <td>13.700</td>\n",
       "      <td>14.700</td>\n",
       "      <td>28.200</td>\n",
       "    </tr>\n",
       "    <tr>\n",
       "      <th>mcv</th>\n",
       "      <td>108</td>\n",
       "      <td>7.200</td>\n",
       "      <td>285</td>\n",
       "      <td>0</td>\n",
       "      <td>float64</td>\n",
       "      <td>0.161</td>\n",
       "      <td>1392.000</td>\n",
       "      <td>85.803</td>\n",
       "      <td>6.311</td>\n",
       "      <td>56.900</td>\n",
       "      <td>82.400</td>\n",
       "      <td>85.800</td>\n",
       "      <td>89.400</td>\n",
       "      <td>128.200</td>\n",
       "    </tr>\n",
       "    <tr>\n",
       "      <th>leukocytes</th>\n",
       "      <td>108</td>\n",
       "      <td>7.200</td>\n",
       "      <td>917</td>\n",
       "      <td>0</td>\n",
       "      <td>float64</td>\n",
       "      <td>25.570</td>\n",
       "      <td>1392.000</td>\n",
       "      <td>9782.917</td>\n",
       "      <td>10866.328</td>\n",
       "      <td>290.000</td>\n",
       "      <td>6100.000</td>\n",
       "      <td>8555.000</td>\n",
       "      <td>11962.500</td>\n",
       "      <td>365920.000</td>\n",
       "    </tr>\n",
       "    <tr>\n",
       "      <th>neutrophil</th>\n",
       "      <td>110</td>\n",
       "      <td>7.333</td>\n",
       "      <td>906</td>\n",
       "      <td>0</td>\n",
       "      <td>float64</td>\n",
       "      <td>1.416</td>\n",
       "      <td>1390.000</td>\n",
       "      <td>7977.892</td>\n",
       "      <td>4711.526</td>\n",
       "      <td>240.000</td>\n",
       "      <td>4682.500</td>\n",
       "      <td>7060.000</td>\n",
       "      <td>10220.000</td>\n",
       "      <td>36170.000</td>\n",
       "    </tr>\n",
       "    <tr>\n",
       "      <th>lymphocytes</th>\n",
       "      <td>111</td>\n",
       "      <td>7.400</td>\n",
       "      <td>237</td>\n",
       "      <td>0</td>\n",
       "      <td>float64</td>\n",
       "      <td>23.628</td>\n",
       "      <td>1389.000</td>\n",
       "      <td>997.984</td>\n",
       "      <td>1314.463</td>\n",
       "      <td>30.000</td>\n",
       "      <td>560.000</td>\n",
       "      <td>840.000</td>\n",
       "      <td>1240.000</td>\n",
       "      <td>42120.000</td>\n",
       "    </tr>\n",
       "    <tr>\n",
       "      <th>basophils</th>\n",
       "      <td>110</td>\n",
       "      <td>7.333</td>\n",
       "      <td>24</td>\n",
       "      <td>341</td>\n",
       "      <td>float64</td>\n",
       "      <td>30.882</td>\n",
       "      <td>1390.000</td>\n",
       "      <td>0.022</td>\n",
       "      <td>0.081</td>\n",
       "      <td>0.000</td>\n",
       "      <td>0.010</td>\n",
       "      <td>0.010</td>\n",
       "      <td>0.020</td>\n",
       "      <td>2.860</td>\n",
       "    </tr>\n",
       "    <tr>\n",
       "      <th>eosinophils</th>\n",
       "      <td>1500</td>\n",
       "      <td>100.000</td>\n",
       "      <td>0</td>\n",
       "      <td>0</td>\n",
       "      <td>float64</td>\n",
       "      <td>NaN</td>\n",
       "      <td>0.000</td>\n",
       "      <td>NaN</td>\n",
       "      <td>NaN</td>\n",
       "      <td>NaN</td>\n",
       "      <td>NaN</td>\n",
       "      <td>NaN</td>\n",
       "      <td>NaN</td>\n",
       "      <td>NaN</td>\n",
       "    </tr>\n",
       "    <tr>\n",
       "      <th>monocytes</th>\n",
       "      <td>110</td>\n",
       "      <td>7.333</td>\n",
       "      <td>155</td>\n",
       "      <td>3</td>\n",
       "      <td>float64</td>\n",
       "      <td>10.093</td>\n",
       "      <td>1390.000</td>\n",
       "      <td>0.510</td>\n",
       "      <td>0.453</td>\n",
       "      <td>0.000</td>\n",
       "      <td>0.270</td>\n",
       "      <td>0.420</td>\n",
       "      <td>0.640</td>\n",
       "      <td>10.980</td>\n",
       "    </tr>\n",
       "    <tr>\n",
       "      <th>crp</th>\n",
       "      <td>319</td>\n",
       "      <td>21.267</td>\n",
       "      <td>995</td>\n",
       "      <td>0</td>\n",
       "      <td>float64</td>\n",
       "      <td>0.866</td>\n",
       "      <td>1181.000</td>\n",
       "      <td>1.553</td>\n",
       "      <td>1.126</td>\n",
       "      <td>0.015</td>\n",
       "      <td>0.655</td>\n",
       "      <td>1.268</td>\n",
       "      <td>2.276</td>\n",
       "      <td>6.432</td>\n",
       "    </tr>\n",
       "    <tr>\n",
       "      <th>mv</th>\n",
       "      <td>0</td>\n",
       "      <td>0.000</td>\n",
       "      <td>2</td>\n",
       "      <td>835</td>\n",
       "      <td>int64</td>\n",
       "      <td>0.228</td>\n",
       "      <td>1500.000</td>\n",
       "      <td>0.443</td>\n",
       "      <td>0.497</td>\n",
       "      <td>0.000</td>\n",
       "      <td>0.000</td>\n",
       "      <td>0.000</td>\n",
       "      <td>1.000</td>\n",
       "      <td>1.000</td>\n",
       "    </tr>\n",
       "  </tbody>\n",
       "</table>\n",
       "</div>"
      ],
      "text/plain": [
       "                 Missing Values  % missing of Total Values  # Unique Values  \\\n",
       "city_hospital                 0                      0.000                1   \n",
       "age                           0                      0.000               79   \n",
       "male                          0                      0.000                2   \n",
       "heart_rate                    7                      0.467              106   \n",
       "resp_rate                    37                      2.467               44   \n",
       "sys_press                    11                      0.733              123   \n",
       "dias_press                   10                      0.667               89   \n",
       "mean_press                   11                      0.733              948   \n",
       "temp                          7                      0.467               60   \n",
       "hemoglobin                 1287                     85.800               31   \n",
       "platelets                   110                      7.333              409   \n",
       "hematocrit                 1286                     85.733               57   \n",
       "red_cells_count            1500                    100.000                0   \n",
       "hcm                         108                      7.200              140   \n",
       "rdw                         109                      7.267              116   \n",
       "mcv                         108                      7.200              285   \n",
       "leukocytes                  108                      7.200              917   \n",
       "neutrophil                  110                      7.333              906   \n",
       "lymphocytes                 111                      7.400              237   \n",
       "basophils                   110                      7.333               24   \n",
       "eosinophils                1500                    100.000                0   \n",
       "monocytes                   110                      7.333              155   \n",
       "crp                         319                     21.267              995   \n",
       "mv                            0                      0.000                2   \n",
       "\n",
       "                 # Values as [0] datatype   skew    count       mean  \\\n",
       "city_hospital                  0   object    NaN      NaN        NaN   \n",
       "age                            0  float64 -0.295 1500.000     59.305   \n",
       "male                         663  float64 -0.234 1500.000      0.558   \n",
       "heart_rate                     0  float64  0.320 1493.000     87.086   \n",
       "resp_rate                      0  float64  3.055 1463.000     24.476   \n",
       "sys_press                      0  float64 -0.417 1489.000    119.400   \n",
       "dias_press                     0  float64 -0.184 1490.000     71.702   \n",
       "mean_press                     0  float64 -0.331 1489.000     87.549   \n",
       "temp                           0  float64 -0.111 1493.000     36.366   \n",
       "hemoglobin                     0  float64 -0.137  213.000     12.340   \n",
       "platelets                      0  float64  1.200 1390.000 234923.741   \n",
       "hematocrit                     0  float64 -0.551  214.000     37.683   \n",
       "red_cells_count                0  float64    NaN    0.000        NaN   \n",
       "hcm                            0  float64 -0.243 1392.000     28.843   \n",
       "rdw                            0  float64  2.536 1391.000     14.216   \n",
       "mcv                            0  float64  0.161 1392.000     85.803   \n",
       "leukocytes                     0  float64 25.570 1392.000   9782.917   \n",
       "neutrophil                     0  float64  1.416 1390.000   7977.892   \n",
       "lymphocytes                    0  float64 23.628 1389.000    997.984   \n",
       "basophils                    341  float64 30.882 1390.000      0.022   \n",
       "eosinophils                    0  float64    NaN    0.000        NaN   \n",
       "monocytes                      3  float64 10.093 1390.000      0.510   \n",
       "crp                            0  float64  0.866 1181.000      1.553   \n",
       "mv                           835    int64  0.228 1500.000      0.443   \n",
       "\n",
       "                       std      min        25%        50%        75%  \\\n",
       "city_hospital          NaN      NaN        NaN        NaN        NaN   \n",
       "age                 15.995   18.000     48.000     61.000     71.000   \n",
       "male                 0.497    0.000      0.000      1.000      1.000   \n",
       "heart_rate          18.503   13.000     74.000     86.000     98.000   \n",
       "resp_rate            7.383   11.000     20.000     23.000     28.000   \n",
       "sys_press           22.559   10.000    106.000    120.000    132.000   \n",
       "dias_press          14.456    6.000     61.000     70.000     80.000   \n",
       "mean_press          15.570    7.665     77.649     86.980     96.650   \n",
       "temp                 0.888   32.400     35.900     36.400     36.900   \n",
       "hemoglobin           2.538    5.000     11.000     13.000     14.000   \n",
       "platelets       104514.476 6000.000 166000.000 217000.000 288750.000   \n",
       "hematocrit           8.062    1.000     33.000     39.000     43.000   \n",
       "red_cells_count        NaN      NaN        NaN        NaN        NaN   \n",
       "hcm                  2.380   16.900     27.600     29.000     30.300   \n",
       "rdw                  2.168   11.100     12.900     13.700     14.700   \n",
       "mcv                  6.311   56.900     82.400     85.800     89.400   \n",
       "leukocytes       10866.328  290.000   6100.000   8555.000  11962.500   \n",
       "neutrophil        4711.526  240.000   4682.500   7060.000  10220.000   \n",
       "lymphocytes       1314.463   30.000    560.000    840.000   1240.000   \n",
       "basophils            0.081    0.000      0.010      0.010      0.020   \n",
       "eosinophils            NaN      NaN        NaN        NaN        NaN   \n",
       "monocytes            0.453    0.000      0.270      0.420      0.640   \n",
       "crp                  1.126    0.015      0.655      1.268      2.276   \n",
       "mv                   0.497    0.000      0.000      0.000      1.000   \n",
       "\n",
       "                       max  \n",
       "city_hospital          NaN  \n",
       "age                 98.000  \n",
       "male                 1.000  \n",
       "heart_rate         191.000  \n",
       "resp_rate          108.000  \n",
       "sys_press          200.000  \n",
       "dias_press         129.000  \n",
       "mean_press         141.654  \n",
       "temp                39.100  \n",
       "hemoglobin          19.000  \n",
       "platelets       992000.000  \n",
       "hematocrit          58.000  \n",
       "red_cells_count        NaN  \n",
       "hcm                 46.900  \n",
       "rdw                 28.200  \n",
       "mcv                128.200  \n",
       "leukocytes      365920.000  \n",
       "neutrophil       36170.000  \n",
       "lymphocytes      42120.000  \n",
       "basophils            2.860  \n",
       "eosinophils            NaN  \n",
       "monocytes           10.980  \n",
       "crp                  6.432  \n",
       "mv                   1.000  "
      ]
     },
     "execution_count": 16,
     "metadata": {},
     "output_type": "execute_result"
    }
   ],
   "source": [
    "column_summaries(df_single_hospital)"
   ]
  },
  {
   "cell_type": "markdown",
   "metadata": {},
   "source": [
    "### 2.1.3) Dropping unused variables - city_hospital"
   ]
  },
  {
   "cell_type": "code",
   "execution_count": 17,
   "metadata": {},
   "outputs": [
    {
     "data": {
      "text/plain": [
       "(1500, 23)"
      ]
     },
     "execution_count": 17,
     "metadata": {},
     "output_type": "execute_result"
    }
   ],
   "source": [
    "df_single_hospital = df_single_hospital.drop(['city_hospital'],axis=1)\n",
    "df_single_hospital.shape"
   ]
  },
  {
   "cell_type": "code",
   "execution_count": 18,
   "metadata": {
    "scrolled": true
   },
   "outputs": [
    {
     "data": {
      "text/plain": [
       "mv\n",
       "0    835\n",
       "1    665\n",
       "Name: count, dtype: int64"
      ]
     },
     "execution_count": 18,
     "metadata": {},
     "output_type": "execute_result"
    }
   ],
   "source": [
    "#Preencho NAs com 0 \n",
    "df_single_hospital['mv'] = df_single_hospital['mv'].fillna(0)\n",
    "df_single_hospital.mv.value_counts()"
   ]
  },
  {
   "cell_type": "code",
   "execution_count": 19,
   "metadata": {
    "scrolled": true
   },
   "outputs": [
    {
     "data": {
      "text/plain": [
       "mv\n",
       "0   55.667\n",
       "1   44.333\n",
       "Name: count, dtype: float64"
      ]
     },
     "execution_count": 19,
     "metadata": {},
     "output_type": "execute_result"
    }
   ],
   "source": [
    "(df_single_hospital.mv.value_counts()/len(df_single_hospital))*100"
   ]
  },
  {
   "cell_type": "markdown",
   "metadata": {},
   "source": [
    "### From now on the outcome will call CLASS"
   ]
  },
  {
   "cell_type": "code",
   "execution_count": 20,
   "metadata": {},
   "outputs": [],
   "source": [
    "df_single_hospital['class'] = df_single_hospital['mv'].astype('int')\n",
    "df_single_hospital = df_single_hospital.drop(['mv'],axis=1)"
   ]
  },
  {
   "cell_type": "markdown",
   "metadata": {},
   "source": [
    "### 2.1.4) Recalculating null mean_press"
   ]
  },
  {
   "cell_type": "code",
   "execution_count": 21,
   "metadata": {},
   "outputs": [],
   "source": [
    "def isNullMeanPressure(row):\n",
    "\n",
    "    if pd.isnull(row['mean_press']):\n",
    "    \n",
    "        if pd.notnull(row['sys_press']) and pd.notnull(row['dias_press']):\n",
    "            return (row['sys_press']+row['dias_press'])/2\n",
    "        else:\n",
    "            return row['mean_press']\n",
    "    else:\n",
    "        return row['mean_press']"
   ]
  },
  {
   "cell_type": "code",
   "execution_count": 22,
   "metadata": {},
   "outputs": [],
   "source": [
    "#Check mean_press missing before recalculating\n",
    "#column_summaries(df_single_hospital)"
   ]
  },
  {
   "cell_type": "code",
   "execution_count": 23,
   "metadata": {},
   "outputs": [],
   "source": [
    "df_single_hospital['mean_press'] = df_single_hospital.apply(isNullMeanPressure, axis=1)"
   ]
  },
  {
   "cell_type": "code",
   "execution_count": 24,
   "metadata": {},
   "outputs": [],
   "source": [
    "#Check mean_press missing after recalculating\n",
    "#column_summaries(df_single_hospital)"
   ]
  },
  {
   "cell_type": "markdown",
   "metadata": {},
   "source": [
    "## 2.2) Prepare Experiment"
   ]
  },
  {
   "cell_type": "markdown",
   "metadata": {},
   "source": [
    "1. First, create your experiment "
   ]
  },
  {
   "cell_type": "code",
   "execution_count": 25,
   "metadata": {},
   "outputs": [
    {
     "data": {
      "text/plain": [
       "(1500, 23)"
      ]
     },
     "execution_count": 25,
     "metadata": {},
     "output_type": "execute_result"
    }
   ],
   "source": [
    "df_single_hospital.shape"
   ]
  },
  {
   "cell_type": "code",
   "execution_count": 26,
   "metadata": {},
   "outputs": [],
   "source": [
    "#import inspect\n",
    "#inspect.getsource(setup)"
   ]
  },
  {
   "cell_type": "markdown",
   "metadata": {},
   "source": [
    "__Atention!__: If any Dtype is bool, cast to int32, otherwise experiment will fail"
   ]
  },
  {
   "cell_type": "code",
   "execution_count": 27,
   "metadata": {},
   "outputs": [
    {
     "name": "stdout",
     "output_type": "stream",
     "text": [
      "<class 'pandas.core.frame.DataFrame'>\n",
      "Index: 1500 entries, 1021 to 2520\n",
      "Data columns (total 23 columns):\n",
      " #   Column           Non-Null Count  Dtype  \n",
      "---  ------           --------------  -----  \n",
      " 0   age              1500 non-null   float64\n",
      " 1   male             1500 non-null   float64\n",
      " 2   heart_rate       1493 non-null   float64\n",
      " 3   resp_rate        1463 non-null   float64\n",
      " 4   sys_press        1489 non-null   float64\n",
      " 5   dias_press       1490 non-null   float64\n",
      " 6   mean_press       1489 non-null   float64\n",
      " 7   temp             1493 non-null   float64\n",
      " 8   hemoglobin       213 non-null    float64\n",
      " 9   platelets        1390 non-null   float64\n",
      " 10  hematocrit       214 non-null    float64\n",
      " 11  red_cells_count  0 non-null      float64\n",
      " 12  hcm              1392 non-null   float64\n",
      " 13  rdw              1391 non-null   float64\n",
      " 14  mcv              1392 non-null   float64\n",
      " 15  leukocytes       1392 non-null   float64\n",
      " 16  neutrophil       1390 non-null   float64\n",
      " 17  lymphocytes      1389 non-null   float64\n",
      " 18  basophils        1390 non-null   float64\n",
      " 19  eosinophils      0 non-null      float64\n",
      " 20  monocytes        1390 non-null   float64\n",
      " 21  crp              1181 non-null   float64\n",
      " 22  class            1500 non-null   int32  \n",
      "dtypes: float64(22), int32(1)\n",
      "memory usage: 275.4 KB\n"
     ]
    }
   ],
   "source": [
    "df_single_hospital.info()"
   ]
  },
  {
   "cell_type": "code",
   "execution_count": 28,
   "metadata": {},
   "outputs": [],
   "source": [
    "# from sklearn.model_selection import train_test_split\n",
    "# X_train_specific, X_test_specific, y_train_specific, y_test_specific = train_test_split(df_iacov_model_lean.loc[:, df_iacov_model_lean.columns != 'class'], df_iacov_model_lean['class'], test_size=0.30, random_state=42, stratify=df_iacov_model_lean['class'])\n",
    "# X_test_specific.shape"
   ]
  },
  {
   "cell_type": "code",
   "execution_count": 29,
   "metadata": {},
   "outputs": [],
   "source": [
    "#!pip install --upgrade scikit-learn"
   ]
  },
  {
   "cell_type": "code",
   "execution_count": 30,
   "metadata": {},
   "outputs": [],
   "source": [
    "#import sklearn\n",
    "#print(sklearn.__version__)"
   ]
  },
  {
   "cell_type": "code",
   "execution_count": 31,
   "metadata": {},
   "outputs": [],
   "source": [
    "#import sys\n",
    "#print(sys.path)"
   ]
  },
  {
   "cell_type": "markdown",
   "metadata": {},
   "source": [
    "**Instalar bibliotecas a seguir caso dê erro no setup do experimento**\n",
    "* Atualizar o pacote de imbalanced-Learn e reiniciar o kernel\n",
    "* Instalar demais bibliotecas"
   ]
  },
  {
   "cell_type": "code",
   "execution_count": 32,
   "metadata": {},
   "outputs": [],
   "source": [
    "#!pip install -U imbalanced-learn"
   ]
  },
  {
   "cell_type": "code",
   "execution_count": 33,
   "metadata": {},
   "outputs": [],
   "source": [
    "#!pip install datefinder"
   ]
  },
  {
   "cell_type": "code",
   "execution_count": 34,
   "metadata": {},
   "outputs": [],
   "source": [
    "#!pip install cufflinks"
   ]
  },
  {
   "cell_type": "code",
   "execution_count": 35,
   "metadata": {},
   "outputs": [],
   "source": [
    "#!pip install lightgbm"
   ]
  },
  {
   "cell_type": "code",
   "execution_count": 36,
   "metadata": {},
   "outputs": [],
   "source": [
    "#!pip install xgboost"
   ]
  },
  {
   "cell_type": "code",
   "execution_count": 37,
   "metadata": {},
   "outputs": [],
   "source": [
    "#!pip install pyod"
   ]
  },
  {
   "cell_type": "code",
   "execution_count": 38,
   "metadata": {},
   "outputs": [],
   "source": [
    "#!pip install catboost"
   ]
  },
  {
   "cell_type": "code",
   "execution_count": 39,
   "metadata": {},
   "outputs": [],
   "source": [
    "#!pip install hyperopt"
   ]
  },
  {
   "cell_type": "code",
   "execution_count": 40,
   "metadata": {},
   "outputs": [],
   "source": [
    "#!pip install shap"
   ]
  },
  {
   "cell_type": "code",
   "execution_count": 41,
   "metadata": {},
   "outputs": [],
   "source": [
    "#import pyod"
   ]
  },
  {
   "cell_type": "code",
   "execution_count": 42,
   "metadata": {},
   "outputs": [
    {
     "name": "stdout",
     "output_type": "stream",
     "text": [
      " \n",
      "Setup Succesfully Completed!\n"
     ]
    },
    {
     "data": {
      "text/html": [
       "<style type=\"text/css\">\n",
       "#T_ce06b_row4_col1, #T_ce06b_row15_col1, #T_ce06b_row42_col1 {\n",
       "  background-color: lightgreen;\n",
       "}\n",
       "</style>\n",
       "<table id=\"T_ce06b\">\n",
       "  <thead>\n",
       "    <tr>\n",
       "      <th class=\"blank level0\" >&nbsp;</th>\n",
       "      <th id=\"T_ce06b_level0_col0\" class=\"col_heading level0 col0\" >Description</th>\n",
       "      <th id=\"T_ce06b_level0_col1\" class=\"col_heading level0 col1\" >Value</th>\n",
       "    </tr>\n",
       "  </thead>\n",
       "  <tbody>\n",
       "    <tr>\n",
       "      <th id=\"T_ce06b_level0_row0\" class=\"row_heading level0 row0\" >0</th>\n",
       "      <td id=\"T_ce06b_row0_col0\" class=\"data row0 col0\" >session_id</td>\n",
       "      <td id=\"T_ce06b_row0_col1\" class=\"data row0 col1\" >42</td>\n",
       "    </tr>\n",
       "    <tr>\n",
       "      <th id=\"T_ce06b_level0_row1\" class=\"row_heading level0 row1\" >1</th>\n",
       "      <td id=\"T_ce06b_row1_col0\" class=\"data row1 col0\" >Target Type</td>\n",
       "      <td id=\"T_ce06b_row1_col1\" class=\"data row1 col1\" >Binary</td>\n",
       "    </tr>\n",
       "    <tr>\n",
       "      <th id=\"T_ce06b_level0_row2\" class=\"row_heading level0 row2\" >2</th>\n",
       "      <td id=\"T_ce06b_row2_col0\" class=\"data row2 col0\" >Label Encoded</td>\n",
       "      <td id=\"T_ce06b_row2_col1\" class=\"data row2 col1\" >None</td>\n",
       "    </tr>\n",
       "    <tr>\n",
       "      <th id=\"T_ce06b_level0_row3\" class=\"row_heading level0 row3\" >3</th>\n",
       "      <td id=\"T_ce06b_row3_col0\" class=\"data row3 col0\" >Original Data</td>\n",
       "      <td id=\"T_ce06b_row3_col1\" class=\"data row3 col1\" >(1500, 23)</td>\n",
       "    </tr>\n",
       "    <tr>\n",
       "      <th id=\"T_ce06b_level0_row4\" class=\"row_heading level0 row4\" >4</th>\n",
       "      <td id=\"T_ce06b_row4_col0\" class=\"data row4 col0\" >Missing Values </td>\n",
       "      <td id=\"T_ce06b_row4_col1\" class=\"data row4 col1\" >True</td>\n",
       "    </tr>\n",
       "    <tr>\n",
       "      <th id=\"T_ce06b_level0_row5\" class=\"row_heading level0 row5\" >5</th>\n",
       "      <td id=\"T_ce06b_row5_col0\" class=\"data row5 col0\" >Numeric Features </td>\n",
       "      <td id=\"T_ce06b_row5_col1\" class=\"data row5 col1\" >21</td>\n",
       "    </tr>\n",
       "    <tr>\n",
       "      <th id=\"T_ce06b_level0_row6\" class=\"row_heading level0 row6\" >6</th>\n",
       "      <td id=\"T_ce06b_row6_col0\" class=\"data row6 col0\" >Categorical Features </td>\n",
       "      <td id=\"T_ce06b_row6_col1\" class=\"data row6 col1\" >1</td>\n",
       "    </tr>\n",
       "    <tr>\n",
       "      <th id=\"T_ce06b_level0_row7\" class=\"row_heading level0 row7\" >7</th>\n",
       "      <td id=\"T_ce06b_row7_col0\" class=\"data row7 col0\" >Ordinal Features </td>\n",
       "      <td id=\"T_ce06b_row7_col1\" class=\"data row7 col1\" >False</td>\n",
       "    </tr>\n",
       "    <tr>\n",
       "      <th id=\"T_ce06b_level0_row8\" class=\"row_heading level0 row8\" >8</th>\n",
       "      <td id=\"T_ce06b_row8_col0\" class=\"data row8 col0\" >High Cardinality Features </td>\n",
       "      <td id=\"T_ce06b_row8_col1\" class=\"data row8 col1\" >False</td>\n",
       "    </tr>\n",
       "    <tr>\n",
       "      <th id=\"T_ce06b_level0_row9\" class=\"row_heading level0 row9\" >9</th>\n",
       "      <td id=\"T_ce06b_row9_col0\" class=\"data row9 col0\" >High Cardinality Method </td>\n",
       "      <td id=\"T_ce06b_row9_col1\" class=\"data row9 col1\" >None</td>\n",
       "    </tr>\n",
       "    <tr>\n",
       "      <th id=\"T_ce06b_level0_row10\" class=\"row_heading level0 row10\" >10</th>\n",
       "      <td id=\"T_ce06b_row10_col0\" class=\"data row10 col0\" >Sampled Data</td>\n",
       "      <td id=\"T_ce06b_row10_col1\" class=\"data row10 col1\" >(1619, 23)</td>\n",
       "    </tr>\n",
       "    <tr>\n",
       "      <th id=\"T_ce06b_level0_row11\" class=\"row_heading level0 row11\" >11</th>\n",
       "      <td id=\"T_ce06b_row11_col0\" class=\"data row11 col0\" >Transformed Train Set</td>\n",
       "      <td id=\"T_ce06b_row11_col1\" class=\"data row11 col1\" >(1168, 20)</td>\n",
       "    </tr>\n",
       "    <tr>\n",
       "      <th id=\"T_ce06b_level0_row12\" class=\"row_heading level0 row12\" >12</th>\n",
       "      <td id=\"T_ce06b_row12_col0\" class=\"data row12 col0\" >Transformed Test Set</td>\n",
       "      <td id=\"T_ce06b_row12_col1\" class=\"data row12 col1\" >(451, 20)</td>\n",
       "    </tr>\n",
       "    <tr>\n",
       "      <th id=\"T_ce06b_level0_row13\" class=\"row_heading level0 row13\" >13</th>\n",
       "      <td id=\"T_ce06b_row13_col0\" class=\"data row13 col0\" >Numeric Imputer </td>\n",
       "      <td id=\"T_ce06b_row13_col1\" class=\"data row13 col1\" >median</td>\n",
       "    </tr>\n",
       "    <tr>\n",
       "      <th id=\"T_ce06b_level0_row14\" class=\"row_heading level0 row14\" >14</th>\n",
       "      <td id=\"T_ce06b_row14_col0\" class=\"data row14 col0\" >Categorical Imputer </td>\n",
       "      <td id=\"T_ce06b_row14_col1\" class=\"data row14 col1\" >constant</td>\n",
       "    </tr>\n",
       "    <tr>\n",
       "      <th id=\"T_ce06b_level0_row15\" class=\"row_heading level0 row15\" >15</th>\n",
       "      <td id=\"T_ce06b_row15_col0\" class=\"data row15 col0\" >Normalize </td>\n",
       "      <td id=\"T_ce06b_row15_col1\" class=\"data row15 col1\" >True</td>\n",
       "    </tr>\n",
       "    <tr>\n",
       "      <th id=\"T_ce06b_level0_row16\" class=\"row_heading level0 row16\" >16</th>\n",
       "      <td id=\"T_ce06b_row16_col0\" class=\"data row16 col0\" >Normalize Method </td>\n",
       "      <td id=\"T_ce06b_row16_col1\" class=\"data row16 col1\" >zscore</td>\n",
       "    </tr>\n",
       "    <tr>\n",
       "      <th id=\"T_ce06b_level0_row17\" class=\"row_heading level0 row17\" >17</th>\n",
       "      <td id=\"T_ce06b_row17_col0\" class=\"data row17 col0\" >Transformation </td>\n",
       "      <td id=\"T_ce06b_row17_col1\" class=\"data row17 col1\" >False</td>\n",
       "    </tr>\n",
       "    <tr>\n",
       "      <th id=\"T_ce06b_level0_row18\" class=\"row_heading level0 row18\" >18</th>\n",
       "      <td id=\"T_ce06b_row18_col0\" class=\"data row18 col0\" >Transformation Method </td>\n",
       "      <td id=\"T_ce06b_row18_col1\" class=\"data row18 col1\" >None</td>\n",
       "    </tr>\n",
       "    <tr>\n",
       "      <th id=\"T_ce06b_level0_row19\" class=\"row_heading level0 row19\" >19</th>\n",
       "      <td id=\"T_ce06b_row19_col0\" class=\"data row19 col0\" >PCA </td>\n",
       "      <td id=\"T_ce06b_row19_col1\" class=\"data row19 col1\" >False</td>\n",
       "    </tr>\n",
       "    <tr>\n",
       "      <th id=\"T_ce06b_level0_row20\" class=\"row_heading level0 row20\" >20</th>\n",
       "      <td id=\"T_ce06b_row20_col0\" class=\"data row20 col0\" >PCA Method </td>\n",
       "      <td id=\"T_ce06b_row20_col1\" class=\"data row20 col1\" >None</td>\n",
       "    </tr>\n",
       "    <tr>\n",
       "      <th id=\"T_ce06b_level0_row21\" class=\"row_heading level0 row21\" >21</th>\n",
       "      <td id=\"T_ce06b_row21_col0\" class=\"data row21 col0\" >PCA Components </td>\n",
       "      <td id=\"T_ce06b_row21_col1\" class=\"data row21 col1\" >None</td>\n",
       "    </tr>\n",
       "    <tr>\n",
       "      <th id=\"T_ce06b_level0_row22\" class=\"row_heading level0 row22\" >22</th>\n",
       "      <td id=\"T_ce06b_row22_col0\" class=\"data row22 col0\" >Ignore Low Variance </td>\n",
       "      <td id=\"T_ce06b_row22_col1\" class=\"data row22 col1\" >False</td>\n",
       "    </tr>\n",
       "    <tr>\n",
       "      <th id=\"T_ce06b_level0_row23\" class=\"row_heading level0 row23\" >23</th>\n",
       "      <td id=\"T_ce06b_row23_col0\" class=\"data row23 col0\" >Combine Rare Levels </td>\n",
       "      <td id=\"T_ce06b_row23_col1\" class=\"data row23 col1\" >False</td>\n",
       "    </tr>\n",
       "    <tr>\n",
       "      <th id=\"T_ce06b_level0_row24\" class=\"row_heading level0 row24\" >24</th>\n",
       "      <td id=\"T_ce06b_row24_col0\" class=\"data row24 col0\" >Rare Level Threshold </td>\n",
       "      <td id=\"T_ce06b_row24_col1\" class=\"data row24 col1\" >None</td>\n",
       "    </tr>\n",
       "    <tr>\n",
       "      <th id=\"T_ce06b_level0_row25\" class=\"row_heading level0 row25\" >25</th>\n",
       "      <td id=\"T_ce06b_row25_col0\" class=\"data row25 col0\" >Numeric Binning </td>\n",
       "      <td id=\"T_ce06b_row25_col1\" class=\"data row25 col1\" >False</td>\n",
       "    </tr>\n",
       "    <tr>\n",
       "      <th id=\"T_ce06b_level0_row26\" class=\"row_heading level0 row26\" >26</th>\n",
       "      <td id=\"T_ce06b_row26_col0\" class=\"data row26 col0\" >Remove Outliers </td>\n",
       "      <td id=\"T_ce06b_row26_col1\" class=\"data row26 col1\" >False</td>\n",
       "    </tr>\n",
       "    <tr>\n",
       "      <th id=\"T_ce06b_level0_row27\" class=\"row_heading level0 row27\" >27</th>\n",
       "      <td id=\"T_ce06b_row27_col0\" class=\"data row27 col0\" >Outliers Threshold </td>\n",
       "      <td id=\"T_ce06b_row27_col1\" class=\"data row27 col1\" >None</td>\n",
       "    </tr>\n",
       "    <tr>\n",
       "      <th id=\"T_ce06b_level0_row28\" class=\"row_heading level0 row28\" >28</th>\n",
       "      <td id=\"T_ce06b_row28_col0\" class=\"data row28 col0\" >Remove Multicollinearity </td>\n",
       "      <td id=\"T_ce06b_row28_col1\" class=\"data row28 col1\" >False</td>\n",
       "    </tr>\n",
       "    <tr>\n",
       "      <th id=\"T_ce06b_level0_row29\" class=\"row_heading level0 row29\" >29</th>\n",
       "      <td id=\"T_ce06b_row29_col0\" class=\"data row29 col0\" >Multicollinearity Threshold </td>\n",
       "      <td id=\"T_ce06b_row29_col1\" class=\"data row29 col1\" >None</td>\n",
       "    </tr>\n",
       "    <tr>\n",
       "      <th id=\"T_ce06b_level0_row30\" class=\"row_heading level0 row30\" >30</th>\n",
       "      <td id=\"T_ce06b_row30_col0\" class=\"data row30 col0\" >Clustering </td>\n",
       "      <td id=\"T_ce06b_row30_col1\" class=\"data row30 col1\" >False</td>\n",
       "    </tr>\n",
       "    <tr>\n",
       "      <th id=\"T_ce06b_level0_row31\" class=\"row_heading level0 row31\" >31</th>\n",
       "      <td id=\"T_ce06b_row31_col0\" class=\"data row31 col0\" >Clustering Iteration </td>\n",
       "      <td id=\"T_ce06b_row31_col1\" class=\"data row31 col1\" >None</td>\n",
       "    </tr>\n",
       "    <tr>\n",
       "      <th id=\"T_ce06b_level0_row32\" class=\"row_heading level0 row32\" >32</th>\n",
       "      <td id=\"T_ce06b_row32_col0\" class=\"data row32 col0\" >Polynomial Features </td>\n",
       "      <td id=\"T_ce06b_row32_col1\" class=\"data row32 col1\" >False</td>\n",
       "    </tr>\n",
       "    <tr>\n",
       "      <th id=\"T_ce06b_level0_row33\" class=\"row_heading level0 row33\" >33</th>\n",
       "      <td id=\"T_ce06b_row33_col0\" class=\"data row33 col0\" >Polynomial Degree </td>\n",
       "      <td id=\"T_ce06b_row33_col1\" class=\"data row33 col1\" >None</td>\n",
       "    </tr>\n",
       "    <tr>\n",
       "      <th id=\"T_ce06b_level0_row34\" class=\"row_heading level0 row34\" >34</th>\n",
       "      <td id=\"T_ce06b_row34_col0\" class=\"data row34 col0\" >Trignometry Features </td>\n",
       "      <td id=\"T_ce06b_row34_col1\" class=\"data row34 col1\" >False</td>\n",
       "    </tr>\n",
       "    <tr>\n",
       "      <th id=\"T_ce06b_level0_row35\" class=\"row_heading level0 row35\" >35</th>\n",
       "      <td id=\"T_ce06b_row35_col0\" class=\"data row35 col0\" >Polynomial Threshold </td>\n",
       "      <td id=\"T_ce06b_row35_col1\" class=\"data row35 col1\" >None</td>\n",
       "    </tr>\n",
       "    <tr>\n",
       "      <th id=\"T_ce06b_level0_row36\" class=\"row_heading level0 row36\" >36</th>\n",
       "      <td id=\"T_ce06b_row36_col0\" class=\"data row36 col0\" >Group Features </td>\n",
       "      <td id=\"T_ce06b_row36_col1\" class=\"data row36 col1\" >False</td>\n",
       "    </tr>\n",
       "    <tr>\n",
       "      <th id=\"T_ce06b_level0_row37\" class=\"row_heading level0 row37\" >37</th>\n",
       "      <td id=\"T_ce06b_row37_col0\" class=\"data row37 col0\" >Feature Selection </td>\n",
       "      <td id=\"T_ce06b_row37_col1\" class=\"data row37 col1\" >False</td>\n",
       "    </tr>\n",
       "    <tr>\n",
       "      <th id=\"T_ce06b_level0_row38\" class=\"row_heading level0 row38\" >38</th>\n",
       "      <td id=\"T_ce06b_row38_col0\" class=\"data row38 col0\" >Features Selection Threshold </td>\n",
       "      <td id=\"T_ce06b_row38_col1\" class=\"data row38 col1\" >None</td>\n",
       "    </tr>\n",
       "    <tr>\n",
       "      <th id=\"T_ce06b_level0_row39\" class=\"row_heading level0 row39\" >39</th>\n",
       "      <td id=\"T_ce06b_row39_col0\" class=\"data row39 col0\" >Feature Interaction </td>\n",
       "      <td id=\"T_ce06b_row39_col1\" class=\"data row39 col1\" >False</td>\n",
       "    </tr>\n",
       "    <tr>\n",
       "      <th id=\"T_ce06b_level0_row40\" class=\"row_heading level0 row40\" >40</th>\n",
       "      <td id=\"T_ce06b_row40_col0\" class=\"data row40 col0\" >Feature Ratio </td>\n",
       "      <td id=\"T_ce06b_row40_col1\" class=\"data row40 col1\" >False</td>\n",
       "    </tr>\n",
       "    <tr>\n",
       "      <th id=\"T_ce06b_level0_row41\" class=\"row_heading level0 row41\" >41</th>\n",
       "      <td id=\"T_ce06b_row41_col0\" class=\"data row41 col0\" >Interaction Threshold </td>\n",
       "      <td id=\"T_ce06b_row41_col1\" class=\"data row41 col1\" >None</td>\n",
       "    </tr>\n",
       "    <tr>\n",
       "      <th id=\"T_ce06b_level0_row42\" class=\"row_heading level0 row42\" >42</th>\n",
       "      <td id=\"T_ce06b_row42_col0\" class=\"data row42 col0\" >Resample Train Data </td>\n",
       "      <td id=\"T_ce06b_row42_col1\" class=\"data row42 col1\" >True</td>\n",
       "    </tr>\n",
       "    <tr>\n",
       "      <th id=\"T_ce06b_level0_row43\" class=\"row_heading level0 row43\" >43</th>\n",
       "      <td id=\"T_ce06b_row43_col0\" class=\"data row43 col0\" >Resample Method</td>\n",
       "      <td id=\"T_ce06b_row43_col1\" class=\"data row43 col1\" >random_over</td>\n",
       "    </tr>\n",
       "  </tbody>\n",
       "</table>\n"
      ],
      "text/plain": [
       "<pandas.io.formats.style.Styler at 0x1cf720a1ea0>"
      ]
     },
     "metadata": {},
     "output_type": "display_data"
    }
   ],
   "source": [
    "from imblearn.under_sampling import EditedNearestNeighbours\n",
    "\n",
    "exp = setup(df_single_hospital, target='class'\n",
    "            , categorical_features = ['male']\n",
    "            , numeric_features = ['crp','basophils','eosinophils','red_cells_count','monocytes','hemoglobin','resp_rate','neutrophil','hematocrit','heart_rate','resp_rate','sys_press','dias_press','mean_press','temp']\n",
    "            , normalize=True\n",
    "            #, remove_multicollinearity=True\n",
    "            ,numeric_imputation='median'\n",
    "#             ,numeric_imputation='ignore'\n",
    "            #,multicollinearity_thresho\\ld=0.9\n",
    "            , resample=True\n",
    "            , resample_method='random_over'\n",
    "#             , train_size = 0.70 #Default: 0.70\n",
    "           )"
   ]
  },
  {
   "cell_type": "code",
   "execution_count": 43,
   "metadata": {},
   "outputs": [],
   "source": [
    "X, y, X_train, X_test, y_train, y_test, seed, prep_pipe, _ = exp"
   ]
  },
  {
   "cell_type": "code",
   "execution_count": 44,
   "metadata": {},
   "outputs": [
    {
     "data": {
      "text/plain": [
       "(1168, 20)"
      ]
     },
     "execution_count": 44,
     "metadata": {},
     "output_type": "execute_result"
    }
   ],
   "source": [
    "X_train.shape"
   ]
  },
  {
   "cell_type": "code",
   "execution_count": 45,
   "metadata": {},
   "outputs": [
    {
     "data": {
      "text/plain": [
       "(451, 20)"
      ]
     },
     "execution_count": 45,
     "metadata": {},
     "output_type": "execute_result"
    }
   ],
   "source": [
    "X_test.shape"
   ]
  },
  {
   "cell_type": "code",
   "execution_count": 46,
   "metadata": {},
   "outputs": [
    {
     "data": {
      "text/plain": [
       "'HC_USP'"
      ]
     },
     "execution_count": 46,
     "metadata": {},
     "output_type": "execute_result"
    }
   ],
   "source": [
    "specific_hospital"
   ]
  },
  {
   "cell_type": "markdown",
   "metadata": {},
   "source": [
    "### Put X_test and y_test in separate files"
   ]
  },
  {
   "cell_type": "code",
   "execution_count": 47,
   "metadata": {},
   "outputs": [
    {
     "data": {
      "text/plain": [
       "'X_test_baseline_HC_USP.csv'"
      ]
     },
     "execution_count": 47,
     "metadata": {},
     "output_type": "execute_result"
    }
   ],
   "source": [
    "x_test_specific_name = 'X_test_' + 'baseline_' + specific_hospital +  \".csv\"\n",
    "x_test_specific_name"
   ]
  },
  {
   "cell_type": "code",
   "execution_count": 48,
   "metadata": {},
   "outputs": [
    {
     "data": {
      "text/plain": [
       "'y_mv_baseline_HC_USP.csv'"
      ]
     },
     "execution_count": 48,
     "metadata": {},
     "output_type": "execute_result"
    }
   ],
   "source": [
    "y_test_specific_name = 'y_mv_' + 'baseline_' + specific_hospital + \".csv\"\n",
    "y_test_specific_name"
   ]
  },
  {
   "cell_type": "code",
   "execution_count": 49,
   "metadata": {},
   "outputs": [],
   "source": [
    "X_test.to_csv(x_test_specific_name, sep=';')"
   ]
  },
  {
   "cell_type": "code",
   "execution_count": 50,
   "metadata": {},
   "outputs": [],
   "source": [
    "y_test.to_csv(y_test_specific_name, sep=';')"
   ]
  },
  {
   "cell_type": "markdown",
   "metadata": {},
   "source": [
    "### Filtering only 5 pre-selected models (Check training metrics)"
   ]
  },
  {
   "cell_type": "code",
   "execution_count": 51,
   "metadata": {},
   "outputs": [
    {
     "data": {
      "text/plain": [
       "42"
      ]
     },
     "execution_count": 51,
     "metadata": {},
     "output_type": "execute_result"
    }
   ],
   "source": [
    "seed"
   ]
  },
  {
   "cell_type": "code",
   "execution_count": 52,
   "metadata": {},
   "outputs": [
    {
     "data": {
      "text/html": [
       "<style type=\"text/css\">\n",
       "#T_7ab75 th {\n",
       "  text-align: left;\n",
       "}\n",
       "#T_7ab75_row0_col0, #T_7ab75_row0_col8, #T_7ab75_row0_col9, #T_7ab75_row1_col0, #T_7ab75_row1_col1, #T_7ab75_row1_col2, #T_7ab75_row1_col3, #T_7ab75_row1_col4, #T_7ab75_row1_col5, #T_7ab75_row1_col6, #T_7ab75_row1_col7, #T_7ab75_row1_col8, #T_7ab75_row1_col9, #T_7ab75_row1_col10, #T_7ab75_row2_col0, #T_7ab75_row2_col1, #T_7ab75_row2_col2, #T_7ab75_row2_col3, #T_7ab75_row2_col4, #T_7ab75_row2_col5, #T_7ab75_row2_col6, #T_7ab75_row2_col7, #T_7ab75_row2_col10 {\n",
       "  text-align: left;\n",
       "}\n",
       "#T_7ab75_row0_col1, #T_7ab75_row0_col2, #T_7ab75_row0_col3, #T_7ab75_row0_col4, #T_7ab75_row0_col5, #T_7ab75_row0_col6, #T_7ab75_row0_col7, #T_7ab75_row0_col10, #T_7ab75_row2_col8, #T_7ab75_row2_col9 {\n",
       "  background-color: yellow;\n",
       "  text-align: left;\n",
       "}\n",
       "</style>\n",
       "<table id=\"T_7ab75\">\n",
       "  <thead>\n",
       "    <tr>\n",
       "      <th class=\"blank level0\" >&nbsp;</th>\n",
       "      <th id=\"T_7ab75_level0_col0\" class=\"col_heading level0 col0\" >Model</th>\n",
       "      <th id=\"T_7ab75_level0_col1\" class=\"col_heading level0 col1\" >Accuracy</th>\n",
       "      <th id=\"T_7ab75_level0_col2\" class=\"col_heading level0 col2\" >AUC</th>\n",
       "      <th id=\"T_7ab75_level0_col3\" class=\"col_heading level0 col3\" >Recall</th>\n",
       "      <th id=\"T_7ab75_level0_col4\" class=\"col_heading level0 col4\" >Specificity</th>\n",
       "      <th id=\"T_7ab75_level0_col5\" class=\"col_heading level0 col5\" >Prec.</th>\n",
       "      <th id=\"T_7ab75_level0_col6\" class=\"col_heading level0 col6\" >F1</th>\n",
       "      <th id=\"T_7ab75_level0_col7\" class=\"col_heading level0 col7\" >Kappa</th>\n",
       "      <th id=\"T_7ab75_level0_col8\" class=\"col_heading level0 col8\" >Hosmer_lemeshow</th>\n",
       "      <th id=\"T_7ab75_level0_col9\" class=\"col_heading level0 col9\" >Spiegelhalter</th>\n",
       "      <th id=\"T_7ab75_level0_col10\" class=\"col_heading level0 col10\" >Scaled_brier</th>\n",
       "    </tr>\n",
       "  </thead>\n",
       "  <tbody>\n",
       "    <tr>\n",
       "      <th id=\"T_7ab75_level0_row0\" class=\"row_heading level0 row0\" >0</th>\n",
       "      <td id=\"T_7ab75_row0_col0\" class=\"data row0 col0\" >Light Gradient Boosting Machine</td>\n",
       "      <td id=\"T_7ab75_row0_col1\" class=\"data row0 col1\" >0.769700</td>\n",
       "      <td id=\"T_7ab75_row0_col2\" class=\"data row0 col2\" >0.839200</td>\n",
       "      <td id=\"T_7ab75_row0_col3\" class=\"data row0 col3\" >0.789800</td>\n",
       "      <td id=\"T_7ab75_row0_col4\" class=\"data row0 col4\" >0.750000</td>\n",
       "      <td id=\"T_7ab75_row0_col5\" class=\"data row0 col5\" >0.759800</td>\n",
       "      <td id=\"T_7ab75_row0_col6\" class=\"data row0 col6\" >0.772400</td>\n",
       "      <td id=\"T_7ab75_row0_col7\" class=\"data row0 col7\" >0.539600</td>\n",
       "      <td id=\"T_7ab75_row0_col8\" class=\"data row0 col8\" >0.000300</td>\n",
       "      <td id=\"T_7ab75_row0_col9\" class=\"data row0 col9\" >0.021700</td>\n",
       "      <td id=\"T_7ab75_row0_col10\" class=\"data row0 col10\" >0.313600</td>\n",
       "    </tr>\n",
       "    <tr>\n",
       "      <th id=\"T_7ab75_level0_row1\" class=\"row_heading level0 row1\" >1</th>\n",
       "      <td id=\"T_7ab75_row1_col0\" class=\"data row1 col0\" >Extreme Gradient Boosting</td>\n",
       "      <td id=\"T_7ab75_row1_col1\" class=\"data row1 col1\" >0.751700</td>\n",
       "      <td id=\"T_7ab75_row1_col2\" class=\"data row1 col2\" >0.835600</td>\n",
       "      <td id=\"T_7ab75_row1_col3\" class=\"data row1 col3\" >0.779500</td>\n",
       "      <td id=\"T_7ab75_row1_col4\" class=\"data row1 col4\" >0.724300</td>\n",
       "      <td id=\"T_7ab75_row1_col5\" class=\"data row1 col5\" >0.741700</td>\n",
       "      <td id=\"T_7ab75_row1_col6\" class=\"data row1 col6\" >0.757700</td>\n",
       "      <td id=\"T_7ab75_row1_col7\" class=\"data row1 col7\" >0.503600</td>\n",
       "      <td id=\"T_7ab75_row1_col8\" class=\"data row1 col8\" >0.000000</td>\n",
       "      <td id=\"T_7ab75_row1_col9\" class=\"data row1 col9\" >0.000100</td>\n",
       "      <td id=\"T_7ab75_row1_col10\" class=\"data row1 col10\" >0.272600</td>\n",
       "    </tr>\n",
       "    <tr>\n",
       "      <th id=\"T_7ab75_level0_row2\" class=\"row_heading level0 row2\" >2</th>\n",
       "      <td id=\"T_7ab75_row2_col0\" class=\"data row2 col0\" >CatBoost Classifier</td>\n",
       "      <td id=\"T_7ab75_row2_col1\" class=\"data row2 col1\" >0.746600</td>\n",
       "      <td id=\"T_7ab75_row2_col2\" class=\"data row2 col2\" >0.822300</td>\n",
       "      <td id=\"T_7ab75_row2_col3\" class=\"data row2 col3\" >0.762300</td>\n",
       "      <td id=\"T_7ab75_row2_col4\" class=\"data row2 col4\" >0.731200</td>\n",
       "      <td id=\"T_7ab75_row2_col5\" class=\"data row2 col5\" >0.741900</td>\n",
       "      <td id=\"T_7ab75_row2_col6\" class=\"data row2 col6\" >0.749900</td>\n",
       "      <td id=\"T_7ab75_row2_col7\" class=\"data row2 col7\" >0.493300</td>\n",
       "      <td id=\"T_7ab75_row2_col8\" class=\"data row2 col8\" >0.500500</td>\n",
       "      <td id=\"T_7ab75_row2_col9\" class=\"data row2 col9\" >0.652300</td>\n",
       "      <td id=\"T_7ab75_row2_col10\" class=\"data row2 col10\" >0.310000</td>\n",
       "    </tr>\n",
       "  </tbody>\n",
       "</table>\n"
      ],
      "text/plain": [
       "<pandas.io.formats.style.Styler at 0x1cedfe00220>"
      ]
     },
     "execution_count": 52,
     "metadata": {},
     "output_type": "execute_result"
    }
   ],
   "source": [
    "#Modelos que suportam missing (1) - Modelos pre-selecionados(2)\n",
    "compare_models(blacklist = [\"lr\",\"knn\",\"nb\",\"dt\",\"svm\",\"rbfsvm\",\"gpc\",\"ridge\",\"qda\",\"ada\",\"gbc\",\"lda\",\"et\",\"mlp\",\"rf\"] , turbo = False)"
   ]
  },
  {
   "cell_type": "markdown",
   "metadata": {},
   "source": [
    "### Tune selected models by AUC (and hyperopt bayesian optimization) to use on test data"
   ]
  },
  {
   "cell_type": "code",
   "execution_count": 53,
   "metadata": {},
   "outputs": [],
   "source": [
    "rstate = np.random.RandomState(42)"
   ]
  },
  {
   "cell_type": "code",
   "execution_count": 54,
   "metadata": {},
   "outputs": [],
   "source": [
    "rstate = np.random.default_rng(42)"
   ]
  },
  {
   "cell_type": "code",
   "execution_count": 55,
   "metadata": {},
   "outputs": [],
   "source": [
    "from hyperopt import fmin"
   ]
  },
  {
   "cell_type": "code",
   "execution_count": 56,
   "metadata": {},
   "outputs": [
    {
     "name": "stdout",
     "output_type": "stream",
     "text": [
      "2.2.0\n"
     ]
    }
   ],
   "source": [
    "print(pd. __version__)"
   ]
  },
  {
   "cell_type": "code",
   "execution_count": 57,
   "metadata": {
    "scrolled": true
   },
   "outputs": [
    {
     "data": {
      "text/html": [
       "<div>\n",
       "<style scoped>\n",
       "    .dataframe tbody tr th:only-of-type {\n",
       "        vertical-align: middle;\n",
       "    }\n",
       "\n",
       "    .dataframe tbody tr th {\n",
       "        vertical-align: top;\n",
       "    }\n",
       "\n",
       "    .dataframe thead th {\n",
       "        text-align: right;\n",
       "    }\n",
       "</style>\n",
       "<table border=\"1\" class=\"dataframe\">\n",
       "  <thead>\n",
       "    <tr style=\"text-align: right;\">\n",
       "      <th></th>\n",
       "      <th>Accuracy</th>\n",
       "      <th>AUC</th>\n",
       "      <th>Recall</th>\n",
       "      <th>Specificity</th>\n",
       "      <th>Prec.</th>\n",
       "      <th>F1</th>\n",
       "      <th>Kappa</th>\n",
       "      <th>Hosmer_lemeshow</th>\n",
       "      <th>Spiegelhalter</th>\n",
       "      <th>Scaled_brier</th>\n",
       "    </tr>\n",
       "  </thead>\n",
       "  <tbody>\n",
       "    <tr>\n",
       "      <th>0</th>\n",
       "      <td>0.795</td>\n",
       "      <td>0.887</td>\n",
       "      <td>0.759</td>\n",
       "      <td>0.831</td>\n",
       "      <td>0.815</td>\n",
       "      <td>0.786</td>\n",
       "      <td>0.590</td>\n",
       "      <td>0.575</td>\n",
       "      <td>0.081</td>\n",
       "      <td>0.440</td>\n",
       "    </tr>\n",
       "    <tr>\n",
       "      <th>1</th>\n",
       "      <td>0.709</td>\n",
       "      <td>0.757</td>\n",
       "      <td>0.724</td>\n",
       "      <td>0.695</td>\n",
       "      <td>0.700</td>\n",
       "      <td>0.712</td>\n",
       "      <td>0.419</td>\n",
       "      <td>0.190</td>\n",
       "      <td>0.383</td>\n",
       "      <td>0.197</td>\n",
       "    </tr>\n",
       "    <tr>\n",
       "      <th>2</th>\n",
       "      <td>0.803</td>\n",
       "      <td>0.882</td>\n",
       "      <td>0.862</td>\n",
       "      <td>0.746</td>\n",
       "      <td>0.769</td>\n",
       "      <td>0.813</td>\n",
       "      <td>0.607</td>\n",
       "      <td>0.270</td>\n",
       "      <td>0.108</td>\n",
       "      <td>0.416</td>\n",
       "    </tr>\n",
       "    <tr>\n",
       "      <th>3</th>\n",
       "      <td>0.752</td>\n",
       "      <td>0.843</td>\n",
       "      <td>0.845</td>\n",
       "      <td>0.661</td>\n",
       "      <td>0.710</td>\n",
       "      <td>0.772</td>\n",
       "      <td>0.505</td>\n",
       "      <td>0.349</td>\n",
       "      <td>0.345</td>\n",
       "      <td>0.333</td>\n",
       "    </tr>\n",
       "    <tr>\n",
       "      <th>4</th>\n",
       "      <td>0.718</td>\n",
       "      <td>0.798</td>\n",
       "      <td>0.678</td>\n",
       "      <td>0.759</td>\n",
       "      <td>0.741</td>\n",
       "      <td>0.708</td>\n",
       "      <td>0.436</td>\n",
       "      <td>0.405</td>\n",
       "      <td>0.808</td>\n",
       "      <td>0.261</td>\n",
       "    </tr>\n",
       "    <tr>\n",
       "      <th>5</th>\n",
       "      <td>0.718</td>\n",
       "      <td>0.790</td>\n",
       "      <td>0.729</td>\n",
       "      <td>0.707</td>\n",
       "      <td>0.717</td>\n",
       "      <td>0.723</td>\n",
       "      <td>0.436</td>\n",
       "      <td>0.179</td>\n",
       "      <td>0.541</td>\n",
       "      <td>0.245</td>\n",
       "    </tr>\n",
       "    <tr>\n",
       "      <th>6</th>\n",
       "      <td>0.761</td>\n",
       "      <td>0.830</td>\n",
       "      <td>0.780</td>\n",
       "      <td>0.741</td>\n",
       "      <td>0.754</td>\n",
       "      <td>0.767</td>\n",
       "      <td>0.521</td>\n",
       "      <td>0.741</td>\n",
       "      <td>0.549</td>\n",
       "      <td>0.321</td>\n",
       "    </tr>\n",
       "    <tr>\n",
       "      <th>7</th>\n",
       "      <td>0.744</td>\n",
       "      <td>0.813</td>\n",
       "      <td>0.729</td>\n",
       "      <td>0.759</td>\n",
       "      <td>0.754</td>\n",
       "      <td>0.741</td>\n",
       "      <td>0.487</td>\n",
       "      <td>0.911</td>\n",
       "      <td>0.554</td>\n",
       "      <td>0.290</td>\n",
       "    </tr>\n",
       "    <tr>\n",
       "      <th>8</th>\n",
       "      <td>0.759</td>\n",
       "      <td>0.847</td>\n",
       "      <td>0.810</td>\n",
       "      <td>0.707</td>\n",
       "      <td>0.734</td>\n",
       "      <td>0.770</td>\n",
       "      <td>0.517</td>\n",
       "      <td>0.037</td>\n",
       "      <td>0.569</td>\n",
       "      <td>0.341</td>\n",
       "    </tr>\n",
       "    <tr>\n",
       "      <th>9</th>\n",
       "      <td>0.767</td>\n",
       "      <td>0.829</td>\n",
       "      <td>0.845</td>\n",
       "      <td>0.690</td>\n",
       "      <td>0.731</td>\n",
       "      <td>0.784</td>\n",
       "      <td>0.534</td>\n",
       "      <td>0.062</td>\n",
       "      <td>0.520</td>\n",
       "      <td>0.330</td>\n",
       "    </tr>\n",
       "    <tr>\n",
       "      <th>Mean</th>\n",
       "      <td>0.753</td>\n",
       "      <td>0.827</td>\n",
       "      <td>0.776</td>\n",
       "      <td>0.729</td>\n",
       "      <td>0.743</td>\n",
       "      <td>0.757</td>\n",
       "      <td>0.505</td>\n",
       "      <td>0.372</td>\n",
       "      <td>0.446</td>\n",
       "      <td>0.318</td>\n",
       "    </tr>\n",
       "    <tr>\n",
       "      <th>SD</th>\n",
       "      <td>0.030</td>\n",
       "      <td>0.038</td>\n",
       "      <td>0.059</td>\n",
       "      <td>0.046</td>\n",
       "      <td>0.032</td>\n",
       "      <td>0.033</td>\n",
       "      <td>0.060</td>\n",
       "      <td>0.372</td>\n",
       "      <td>0.446</td>\n",
       "      <td>0.318</td>\n",
       "    </tr>\n",
       "  </tbody>\n",
       "</table>\n",
       "</div>"
      ],
      "text/plain": [
       "      Accuracy   AUC  Recall  Specificity  Prec.    F1  Kappa  \\\n",
       "0        0.795 0.887   0.759        0.831  0.815 0.786  0.590   \n",
       "1        0.709 0.757   0.724        0.695  0.700 0.712  0.419   \n",
       "2        0.803 0.882   0.862        0.746  0.769 0.813  0.607   \n",
       "3        0.752 0.843   0.845        0.661  0.710 0.772  0.505   \n",
       "4        0.718 0.798   0.678        0.759  0.741 0.708  0.436   \n",
       "5        0.718 0.790   0.729        0.707  0.717 0.723  0.436   \n",
       "6        0.761 0.830   0.780        0.741  0.754 0.767  0.521   \n",
       "7        0.744 0.813   0.729        0.759  0.754 0.741  0.487   \n",
       "8        0.759 0.847   0.810        0.707  0.734 0.770  0.517   \n",
       "9        0.767 0.829   0.845        0.690  0.731 0.784  0.534   \n",
       "Mean     0.753 0.827   0.776        0.729  0.743 0.757  0.505   \n",
       "SD       0.030 0.038   0.059        0.046  0.032 0.033  0.060   \n",
       "\n",
       "      Hosmer_lemeshow  Spiegelhalter  Scaled_brier  \n",
       "0               0.575          0.081         0.440  \n",
       "1               0.190          0.383         0.197  \n",
       "2               0.270          0.108         0.416  \n",
       "3               0.349          0.345         0.333  \n",
       "4               0.405          0.808         0.261  \n",
       "5               0.179          0.541         0.245  \n",
       "6               0.741          0.549         0.321  \n",
       "7               0.911          0.554         0.290  \n",
       "8               0.037          0.569         0.341  \n",
       "9               0.062          0.520         0.330  \n",
       "Mean            0.372          0.446         0.318  \n",
       "SD              0.372          0.446         0.318  "
      ]
     },
     "metadata": {},
     "output_type": "display_data"
    }
   ],
   "source": [
    "cattuned = tune_model('catboost', optimize='AUC', n_iter=20)"
   ]
  },
  {
   "cell_type": "code",
   "execution_count": 58,
   "metadata": {},
   "outputs": [
    {
     "data": {
      "text/html": [
       "<div>\n",
       "<style scoped>\n",
       "    .dataframe tbody tr th:only-of-type {\n",
       "        vertical-align: middle;\n",
       "    }\n",
       "\n",
       "    .dataframe tbody tr th {\n",
       "        vertical-align: top;\n",
       "    }\n",
       "\n",
       "    .dataframe thead th {\n",
       "        text-align: right;\n",
       "    }\n",
       "</style>\n",
       "<table border=\"1\" class=\"dataframe\">\n",
       "  <thead>\n",
       "    <tr style=\"text-align: right;\">\n",
       "      <th></th>\n",
       "      <th>Accuracy</th>\n",
       "      <th>AUC</th>\n",
       "      <th>Recall</th>\n",
       "      <th>Specificity</th>\n",
       "      <th>Prec.</th>\n",
       "      <th>F1</th>\n",
       "      <th>Kappa</th>\n",
       "      <th>Hosmer_lemeshow</th>\n",
       "      <th>Spiegelhalter</th>\n",
       "      <th>Scaled_brier</th>\n",
       "    </tr>\n",
       "  </thead>\n",
       "  <tbody>\n",
       "    <tr>\n",
       "      <th>0</th>\n",
       "      <td>0.761</td>\n",
       "      <td>0.875</td>\n",
       "      <td>0.828</td>\n",
       "      <td>0.695</td>\n",
       "      <td>0.727</td>\n",
       "      <td>0.774</td>\n",
       "      <td>0.522</td>\n",
       "      <td>0.000</td>\n",
       "      <td>0.000</td>\n",
       "      <td>0.382</td>\n",
       "    </tr>\n",
       "    <tr>\n",
       "      <th>1</th>\n",
       "      <td>0.692</td>\n",
       "      <td>0.778</td>\n",
       "      <td>0.862</td>\n",
       "      <td>0.525</td>\n",
       "      <td>0.641</td>\n",
       "      <td>0.735</td>\n",
       "      <td>0.386</td>\n",
       "      <td>0.000</td>\n",
       "      <td>0.000</td>\n",
       "      <td>0.095</td>\n",
       "    </tr>\n",
       "    <tr>\n",
       "      <th>2</th>\n",
       "      <td>0.735</td>\n",
       "      <td>0.865</td>\n",
       "      <td>0.879</td>\n",
       "      <td>0.593</td>\n",
       "      <td>0.680</td>\n",
       "      <td>0.767</td>\n",
       "      <td>0.471</td>\n",
       "      <td>0.000</td>\n",
       "      <td>0.000</td>\n",
       "      <td>0.243</td>\n",
       "    </tr>\n",
       "    <tr>\n",
       "      <th>3</th>\n",
       "      <td>0.727</td>\n",
       "      <td>0.868</td>\n",
       "      <td>0.879</td>\n",
       "      <td>0.576</td>\n",
       "      <td>0.671</td>\n",
       "      <td>0.761</td>\n",
       "      <td>0.454</td>\n",
       "      <td>0.000</td>\n",
       "      <td>0.000</td>\n",
       "      <td>0.251</td>\n",
       "    </tr>\n",
       "    <tr>\n",
       "      <th>4</th>\n",
       "      <td>0.658</td>\n",
       "      <td>0.779</td>\n",
       "      <td>0.678</td>\n",
       "      <td>0.638</td>\n",
       "      <td>0.656</td>\n",
       "      <td>0.667</td>\n",
       "      <td>0.316</td>\n",
       "      <td>0.000</td>\n",
       "      <td>0.000</td>\n",
       "      <td>0.098</td>\n",
       "    </tr>\n",
       "    <tr>\n",
       "      <th>5</th>\n",
       "      <td>0.718</td>\n",
       "      <td>0.819</td>\n",
       "      <td>0.831</td>\n",
       "      <td>0.603</td>\n",
       "      <td>0.681</td>\n",
       "      <td>0.748</td>\n",
       "      <td>0.435</td>\n",
       "      <td>0.000</td>\n",
       "      <td>0.000</td>\n",
       "      <td>0.191</td>\n",
       "    </tr>\n",
       "    <tr>\n",
       "      <th>6</th>\n",
       "      <td>0.735</td>\n",
       "      <td>0.854</td>\n",
       "      <td>0.881</td>\n",
       "      <td>0.586</td>\n",
       "      <td>0.684</td>\n",
       "      <td>0.770</td>\n",
       "      <td>0.469</td>\n",
       "      <td>0.000</td>\n",
       "      <td>0.000</td>\n",
       "      <td>0.251</td>\n",
       "    </tr>\n",
       "    <tr>\n",
       "      <th>7</th>\n",
       "      <td>0.709</td>\n",
       "      <td>0.821</td>\n",
       "      <td>0.814</td>\n",
       "      <td>0.603</td>\n",
       "      <td>0.676</td>\n",
       "      <td>0.739</td>\n",
       "      <td>0.418</td>\n",
       "      <td>0.000</td>\n",
       "      <td>0.000</td>\n",
       "      <td>0.193</td>\n",
       "    </tr>\n",
       "    <tr>\n",
       "      <th>8</th>\n",
       "      <td>0.733</td>\n",
       "      <td>0.858</td>\n",
       "      <td>0.828</td>\n",
       "      <td>0.638</td>\n",
       "      <td>0.696</td>\n",
       "      <td>0.756</td>\n",
       "      <td>0.466</td>\n",
       "      <td>0.000</td>\n",
       "      <td>0.000</td>\n",
       "      <td>0.294</td>\n",
       "    </tr>\n",
       "    <tr>\n",
       "      <th>9</th>\n",
       "      <td>0.716</td>\n",
       "      <td>0.848</td>\n",
       "      <td>0.914</td>\n",
       "      <td>0.517</td>\n",
       "      <td>0.654</td>\n",
       "      <td>0.763</td>\n",
       "      <td>0.431</td>\n",
       "      <td>0.000</td>\n",
       "      <td>0.000</td>\n",
       "      <td>0.150</td>\n",
       "    </tr>\n",
       "    <tr>\n",
       "      <th>Mean</th>\n",
       "      <td>0.718</td>\n",
       "      <td>0.836</td>\n",
       "      <td>0.839</td>\n",
       "      <td>0.598</td>\n",
       "      <td>0.677</td>\n",
       "      <td>0.748</td>\n",
       "      <td>0.437</td>\n",
       "      <td>0.000</td>\n",
       "      <td>0.000</td>\n",
       "      <td>0.215</td>\n",
       "    </tr>\n",
       "    <tr>\n",
       "      <th>SD</th>\n",
       "      <td>0.026</td>\n",
       "      <td>0.034</td>\n",
       "      <td>0.062</td>\n",
       "      <td>0.050</td>\n",
       "      <td>0.023</td>\n",
       "      <td>0.030</td>\n",
       "      <td>0.053</td>\n",
       "      <td>0.000</td>\n",
       "      <td>0.000</td>\n",
       "      <td>0.215</td>\n",
       "    </tr>\n",
       "  </tbody>\n",
       "</table>\n",
       "</div>"
      ],
      "text/plain": [
       "      Accuracy   AUC  Recall  Specificity  Prec.    F1  Kappa  \\\n",
       "0        0.761 0.875   0.828        0.695  0.727 0.774  0.522   \n",
       "1        0.692 0.778   0.862        0.525  0.641 0.735  0.386   \n",
       "2        0.735 0.865   0.879        0.593  0.680 0.767  0.471   \n",
       "3        0.727 0.868   0.879        0.576  0.671 0.761  0.454   \n",
       "4        0.658 0.779   0.678        0.638  0.656 0.667  0.316   \n",
       "5        0.718 0.819   0.831        0.603  0.681 0.748  0.435   \n",
       "6        0.735 0.854   0.881        0.586  0.684 0.770  0.469   \n",
       "7        0.709 0.821   0.814        0.603  0.676 0.739  0.418   \n",
       "8        0.733 0.858   0.828        0.638  0.696 0.756  0.466   \n",
       "9        0.716 0.848   0.914        0.517  0.654 0.763  0.431   \n",
       "Mean     0.718 0.836   0.839        0.598  0.677 0.748  0.437   \n",
       "SD       0.026 0.034   0.062        0.050  0.023 0.030  0.053   \n",
       "\n",
       "      Hosmer_lemeshow  Spiegelhalter  Scaled_brier  \n",
       "0               0.000          0.000         0.382  \n",
       "1               0.000          0.000         0.095  \n",
       "2               0.000          0.000         0.243  \n",
       "3               0.000          0.000         0.251  \n",
       "4               0.000          0.000         0.098  \n",
       "5               0.000          0.000         0.191  \n",
       "6               0.000          0.000         0.251  \n",
       "7               0.000          0.000         0.193  \n",
       "8               0.000          0.000         0.294  \n",
       "9               0.000          0.000         0.150  \n",
       "Mean            0.000          0.000         0.215  \n",
       "SD              0.000          0.000         0.215  "
      ]
     },
     "metadata": {},
     "output_type": "display_data"
    }
   ],
   "source": [
    "lgbmtuned = tune_model('lightgbm', optimize='AUC', n_iter=20)"
   ]
  },
  {
   "cell_type": "code",
   "execution_count": 61,
   "metadata": {
    "scrolled": true
   },
   "outputs": [
    {
     "data": {
      "text/html": [
       "<div>\n",
       "<style scoped>\n",
       "    .dataframe tbody tr th:only-of-type {\n",
       "        vertical-align: middle;\n",
       "    }\n",
       "\n",
       "    .dataframe tbody tr th {\n",
       "        vertical-align: top;\n",
       "    }\n",
       "\n",
       "    .dataframe thead th {\n",
       "        text-align: right;\n",
       "    }\n",
       "</style>\n",
       "<table border=\"1\" class=\"dataframe\">\n",
       "  <thead>\n",
       "    <tr style=\"text-align: right;\">\n",
       "      <th></th>\n",
       "      <th>Accuracy</th>\n",
       "      <th>AUC</th>\n",
       "      <th>Recall</th>\n",
       "      <th>Specificity</th>\n",
       "      <th>Prec.</th>\n",
       "      <th>F1</th>\n",
       "      <th>Kappa</th>\n",
       "      <th>Hosmer_lemeshow</th>\n",
       "      <th>Spiegelhalter</th>\n",
       "      <th>Scaled_brier</th>\n",
       "    </tr>\n",
       "  </thead>\n",
       "  <tbody>\n",
       "    <tr>\n",
       "      <th>0</th>\n",
       "      <td>0.821</td>\n",
       "      <td>0.878</td>\n",
       "      <td>0.914</td>\n",
       "      <td>0.729</td>\n",
       "      <td>0.768</td>\n",
       "      <td>0.835</td>\n",
       "      <td>0.642</td>\n",
       "      <td>0.002</td>\n",
       "      <td>0.312</td>\n",
       "      <td>0.440</td>\n",
       "    </tr>\n",
       "    <tr>\n",
       "      <th>1</th>\n",
       "      <td>0.692</td>\n",
       "      <td>0.744</td>\n",
       "      <td>0.828</td>\n",
       "      <td>0.559</td>\n",
       "      <td>0.649</td>\n",
       "      <td>0.727</td>\n",
       "      <td>0.386</td>\n",
       "      <td>0.000</td>\n",
       "      <td>0.000</td>\n",
       "      <td>0.044</td>\n",
       "    </tr>\n",
       "    <tr>\n",
       "      <th>2</th>\n",
       "      <td>0.709</td>\n",
       "      <td>0.838</td>\n",
       "      <td>0.862</td>\n",
       "      <td>0.559</td>\n",
       "      <td>0.658</td>\n",
       "      <td>0.746</td>\n",
       "      <td>0.420</td>\n",
       "      <td>0.000</td>\n",
       "      <td>0.000</td>\n",
       "      <td>0.220</td>\n",
       "    </tr>\n",
       "    <tr>\n",
       "      <th>3</th>\n",
       "      <td>0.744</td>\n",
       "      <td>0.843</td>\n",
       "      <td>0.879</td>\n",
       "      <td>0.610</td>\n",
       "      <td>0.689</td>\n",
       "      <td>0.773</td>\n",
       "      <td>0.488</td>\n",
       "      <td>0.000</td>\n",
       "      <td>0.003</td>\n",
       "      <td>0.272</td>\n",
       "    </tr>\n",
       "    <tr>\n",
       "      <th>4</th>\n",
       "      <td>0.718</td>\n",
       "      <td>0.792</td>\n",
       "      <td>0.763</td>\n",
       "      <td>0.672</td>\n",
       "      <td>0.703</td>\n",
       "      <td>0.732</td>\n",
       "      <td>0.435</td>\n",
       "      <td>0.003</td>\n",
       "      <td>0.001</td>\n",
       "      <td>0.215</td>\n",
       "    </tr>\n",
       "    <tr>\n",
       "      <th>5</th>\n",
       "      <td>0.727</td>\n",
       "      <td>0.802</td>\n",
       "      <td>0.814</td>\n",
       "      <td>0.638</td>\n",
       "      <td>0.696</td>\n",
       "      <td>0.750</td>\n",
       "      <td>0.452</td>\n",
       "      <td>0.000</td>\n",
       "      <td>0.000</td>\n",
       "      <td>0.198</td>\n",
       "    </tr>\n",
       "    <tr>\n",
       "      <th>6</th>\n",
       "      <td>0.684</td>\n",
       "      <td>0.799</td>\n",
       "      <td>0.881</td>\n",
       "      <td>0.483</td>\n",
       "      <td>0.634</td>\n",
       "      <td>0.738</td>\n",
       "      <td>0.365</td>\n",
       "      <td>0.000</td>\n",
       "      <td>0.000</td>\n",
       "      <td>0.163</td>\n",
       "    </tr>\n",
       "    <tr>\n",
       "      <th>7</th>\n",
       "      <td>0.667</td>\n",
       "      <td>0.794</td>\n",
       "      <td>0.797</td>\n",
       "      <td>0.534</td>\n",
       "      <td>0.635</td>\n",
       "      <td>0.707</td>\n",
       "      <td>0.332</td>\n",
       "      <td>0.000</td>\n",
       "      <td>0.001</td>\n",
       "      <td>0.205</td>\n",
       "    </tr>\n",
       "    <tr>\n",
       "      <th>8</th>\n",
       "      <td>0.750</td>\n",
       "      <td>0.836</td>\n",
       "      <td>0.879</td>\n",
       "      <td>0.621</td>\n",
       "      <td>0.699</td>\n",
       "      <td>0.779</td>\n",
       "      <td>0.500</td>\n",
       "      <td>0.000</td>\n",
       "      <td>0.002</td>\n",
       "      <td>0.272</td>\n",
       "    </tr>\n",
       "    <tr>\n",
       "      <th>9</th>\n",
       "      <td>0.707</td>\n",
       "      <td>0.843</td>\n",
       "      <td>0.931</td>\n",
       "      <td>0.483</td>\n",
       "      <td>0.643</td>\n",
       "      <td>0.761</td>\n",
       "      <td>0.414</td>\n",
       "      <td>0.000</td>\n",
       "      <td>0.000</td>\n",
       "      <td>0.161</td>\n",
       "    </tr>\n",
       "    <tr>\n",
       "      <th>Mean</th>\n",
       "      <td>0.722</td>\n",
       "      <td>0.817</td>\n",
       "      <td>0.855</td>\n",
       "      <td>0.589</td>\n",
       "      <td>0.677</td>\n",
       "      <td>0.755</td>\n",
       "      <td>0.444</td>\n",
       "      <td>0.001</td>\n",
       "      <td>0.032</td>\n",
       "      <td>0.219</td>\n",
       "    </tr>\n",
       "    <tr>\n",
       "      <th>SD</th>\n",
       "      <td>0.041</td>\n",
       "      <td>0.036</td>\n",
       "      <td>0.051</td>\n",
       "      <td>0.076</td>\n",
       "      <td>0.040</td>\n",
       "      <td>0.034</td>\n",
       "      <td>0.082</td>\n",
       "      <td>0.001</td>\n",
       "      <td>0.032</td>\n",
       "      <td>0.219</td>\n",
       "    </tr>\n",
       "  </tbody>\n",
       "</table>\n",
       "</div>"
      ],
      "text/plain": [
       "      Accuracy   AUC  Recall  Specificity  Prec.    F1  Kappa  \\\n",
       "0        0.821 0.878   0.914        0.729  0.768 0.835  0.642   \n",
       "1        0.692 0.744   0.828        0.559  0.649 0.727  0.386   \n",
       "2        0.709 0.838   0.862        0.559  0.658 0.746  0.420   \n",
       "3        0.744 0.843   0.879        0.610  0.689 0.773  0.488   \n",
       "4        0.718 0.792   0.763        0.672  0.703 0.732  0.435   \n",
       "5        0.727 0.802   0.814        0.638  0.696 0.750  0.452   \n",
       "6        0.684 0.799   0.881        0.483  0.634 0.738  0.365   \n",
       "7        0.667 0.794   0.797        0.534  0.635 0.707  0.332   \n",
       "8        0.750 0.836   0.879        0.621  0.699 0.779  0.500   \n",
       "9        0.707 0.843   0.931        0.483  0.643 0.761  0.414   \n",
       "Mean     0.722 0.817   0.855        0.589  0.677 0.755  0.444   \n",
       "SD       0.041 0.036   0.051        0.076  0.040 0.034  0.082   \n",
       "\n",
       "      Hosmer_lemeshow  Spiegelhalter  Scaled_brier  \n",
       "0               0.002          0.312         0.440  \n",
       "1               0.000          0.000         0.044  \n",
       "2               0.000          0.000         0.220  \n",
       "3               0.000          0.003         0.272  \n",
       "4               0.003          0.001         0.215  \n",
       "5               0.000          0.000         0.198  \n",
       "6               0.000          0.000         0.163  \n",
       "7               0.000          0.001         0.205  \n",
       "8               0.000          0.002         0.272  \n",
       "9               0.000          0.000         0.161  \n",
       "Mean            0.001          0.032         0.219  \n",
       "SD              0.001          0.032         0.219  "
      ]
     },
     "metadata": {},
     "output_type": "display_data"
    }
   ],
   "source": [
    "xgbtuned = tune_model('xgboost', optimize='AUC', n_iter=20)"
   ]
  },
  {
   "cell_type": "markdown",
   "metadata": {},
   "source": [
    "### Select best algorithm based on AUC in test \n",
    "##### In previous code (death) this title was indicating that this selection was being done in test data, however it seems that it is based on training"
   ]
  },
  {
   "cell_type": "code",
   "execution_count": 62,
   "metadata": {},
   "outputs": [
    {
     "data": {
      "text/html": [
       "<div>\n",
       "<style scoped>\n",
       "    .dataframe tbody tr th:only-of-type {\n",
       "        vertical-align: middle;\n",
       "    }\n",
       "\n",
       "    .dataframe tbody tr th {\n",
       "        vertical-align: top;\n",
       "    }\n",
       "\n",
       "    .dataframe thead th {\n",
       "        text-align: right;\n",
       "    }\n",
       "</style>\n",
       "<table border=\"1\" class=\"dataframe\">\n",
       "  <thead>\n",
       "    <tr style=\"text-align: right;\">\n",
       "      <th></th>\n",
       "      <th>Model</th>\n",
       "      <th>Accuracy</th>\n",
       "      <th>AUC</th>\n",
       "      <th>Recall</th>\n",
       "      <th>Specificity</th>\n",
       "      <th>Prec.</th>\n",
       "      <th>F1</th>\n",
       "      <th>Kappa</th>\n",
       "      <th>Hosmer_lemeshow</th>\n",
       "      <th>Spiegelhalter</th>\n",
       "      <th>Scaled_brier</th>\n",
       "    </tr>\n",
       "  </thead>\n",
       "  <tbody>\n",
       "    <tr>\n",
       "      <th>0</th>\n",
       "      <td>CatBoost Classifier</td>\n",
       "      <td>0.692</td>\n",
       "      <td>0.747</td>\n",
       "      <td>0.630</td>\n",
       "      <td>0.741</td>\n",
       "      <td>0.660</td>\n",
       "      <td>0.644</td>\n",
       "      <td>0.373</td>\n",
       "      <td>0.787</td>\n",
       "      <td>0.235</td>\n",
       "      <td>0.179</td>\n",
       "    </tr>\n",
       "  </tbody>\n",
       "</table>\n",
       "</div>"
      ],
      "text/plain": [
       "                 Model  Accuracy   AUC  Recall  Specificity  Prec.    F1  \\\n",
       "0  CatBoost Classifier     0.692 0.747   0.630        0.741  0.660 0.644   \n",
       "\n",
       "   Kappa  Hosmer_lemeshow  Spiegelhalter  Scaled_brier  \n",
       "0  0.373            0.787          0.235         0.179  "
      ]
     },
     "metadata": {},
     "output_type": "display_data"
    }
   ],
   "source": [
    "preds_cat = predict_model(cattuned)"
   ]
  },
  {
   "cell_type": "code",
   "execution_count": 63,
   "metadata": {},
   "outputs": [
    {
     "data": {
      "text/html": [
       "<div>\n",
       "<style scoped>\n",
       "    .dataframe tbody tr th:only-of-type {\n",
       "        vertical-align: middle;\n",
       "    }\n",
       "\n",
       "    .dataframe tbody tr th {\n",
       "        vertical-align: top;\n",
       "    }\n",
       "\n",
       "    .dataframe thead th {\n",
       "        text-align: right;\n",
       "    }\n",
       "</style>\n",
       "<table border=\"1\" class=\"dataframe\">\n",
       "  <thead>\n",
       "    <tr style=\"text-align: right;\">\n",
       "      <th></th>\n",
       "      <th>Model</th>\n",
       "      <th>Accuracy</th>\n",
       "      <th>AUC</th>\n",
       "      <th>Recall</th>\n",
       "      <th>Specificity</th>\n",
       "      <th>Prec.</th>\n",
       "      <th>F1</th>\n",
       "      <th>Kappa</th>\n",
       "      <th>Hosmer_lemeshow</th>\n",
       "      <th>Spiegelhalter</th>\n",
       "      <th>Scaled_brier</th>\n",
       "    </tr>\n",
       "  </thead>\n",
       "  <tbody>\n",
       "    <tr>\n",
       "      <th>0</th>\n",
       "      <td>Light Gradient Boosting Machine</td>\n",
       "      <td>0.678</td>\n",
       "      <td>0.754</td>\n",
       "      <td>0.755</td>\n",
       "      <td>0.618</td>\n",
       "      <td>0.611</td>\n",
       "      <td>0.676</td>\n",
       "      <td>0.364</td>\n",
       "      <td>0.000</td>\n",
       "      <td>0.000</td>\n",
       "      <td>0.072</td>\n",
       "    </tr>\n",
       "  </tbody>\n",
       "</table>\n",
       "</div>"
      ],
      "text/plain": [
       "                             Model  Accuracy   AUC  Recall  Specificity  \\\n",
       "0  Light Gradient Boosting Machine     0.678 0.754   0.755        0.618   \n",
       "\n",
       "   Prec.    F1  Kappa  Hosmer_lemeshow  Spiegelhalter  Scaled_brier  \n",
       "0  0.611 0.676  0.364            0.000          0.000         0.072  "
      ]
     },
     "metadata": {},
     "output_type": "display_data"
    }
   ],
   "source": [
    "preds_lgb = predict_model(lgbmtuned)"
   ]
  },
  {
   "cell_type": "code",
   "execution_count": 64,
   "metadata": {},
   "outputs": [
    {
     "data": {
      "text/html": [
       "<div>\n",
       "<style scoped>\n",
       "    .dataframe tbody tr th:only-of-type {\n",
       "        vertical-align: middle;\n",
       "    }\n",
       "\n",
       "    .dataframe tbody tr th {\n",
       "        vertical-align: top;\n",
       "    }\n",
       "\n",
       "    .dataframe thead th {\n",
       "        text-align: right;\n",
       "    }\n",
       "</style>\n",
       "<table border=\"1\" class=\"dataframe\">\n",
       "  <thead>\n",
       "    <tr style=\"text-align: right;\">\n",
       "      <th></th>\n",
       "      <th>Model</th>\n",
       "      <th>Accuracy</th>\n",
       "      <th>AUC</th>\n",
       "      <th>Recall</th>\n",
       "      <th>Specificity</th>\n",
       "      <th>Prec.</th>\n",
       "      <th>F1</th>\n",
       "      <th>Kappa</th>\n",
       "      <th>Hosmer_lemeshow</th>\n",
       "      <th>Spiegelhalter</th>\n",
       "      <th>Scaled_brier</th>\n",
       "    </tr>\n",
       "  </thead>\n",
       "  <tbody>\n",
       "    <tr>\n",
       "      <th>0</th>\n",
       "      <td>Extreme Gradient Boosting</td>\n",
       "      <td>0.672</td>\n",
       "      <td>0.746</td>\n",
       "      <td>0.725</td>\n",
       "      <td>0.629</td>\n",
       "      <td>0.609</td>\n",
       "      <td>0.662</td>\n",
       "      <td>0.348</td>\n",
       "      <td>0.000</td>\n",
       "      <td>0.000</td>\n",
       "      <td>0.098</td>\n",
       "    </tr>\n",
       "  </tbody>\n",
       "</table>\n",
       "</div>"
      ],
      "text/plain": [
       "                       Model  Accuracy   AUC  Recall  Specificity  Prec.  \\\n",
       "0  Extreme Gradient Boosting     0.672 0.746   0.725        0.629  0.609   \n",
       "\n",
       "     F1  Kappa  Hosmer_lemeshow  Spiegelhalter  Scaled_brier  \n",
       "0 0.662  0.348            0.000          0.000         0.098  "
      ]
     },
     "metadata": {},
     "output_type": "display_data"
    }
   ],
   "source": [
    "preds_xgb = predict_model(xgbtuned)"
   ]
  },
  {
   "cell_type": "markdown",
   "metadata": {},
   "source": [
    "### Understand best algorithm features and results\n",
    "#### Put in PREDS the best algorithm chosen in the previous lines"
   ]
  },
  {
   "cell_type": "code",
   "execution_count": 65,
   "metadata": {},
   "outputs": [],
   "source": [
    "# Put in PREDS the best algorithm chosen in the previous lines: preds_cat OR preds_lgb OR preds_xgb\n",
    "\n",
    "#preds = preds_cat\n",
    "preds = preds_lgb\n",
    "#preds = preds_xgb\n",
    "\n",
    "#binary_classification_metrics(y_test, preds['Label'], preds['Score'])"
   ]
  },
  {
   "cell_type": "code",
   "execution_count": 66,
   "metadata": {},
   "outputs": [
    {
     "data": {
      "text/plain": [
       "['0.71', '0.80']"
      ]
     },
     "execution_count": 66,
     "metadata": {},
     "output_type": "execute_result"
    }
   ],
   "source": [
    "#ROC AUC (INTERVALO)\n",
    "[\"{0:0.2f}\".format(i) for i in AUC_CI(y_test, preds['Score']._values)]"
   ]
  },
  {
   "cell_type": "code",
   "execution_count": 67,
   "metadata": {},
   "outputs": [
    {
     "data": {
      "text/plain": [
       "0.7598039215686274"
      ]
     },
     "execution_count": 67,
     "metadata": {},
     "output_type": "execute_result"
    }
   ],
   "source": [
    "npv(y_test, preds['Label'])"
   ]
  },
  {
   "cell_type": "code",
   "execution_count": 68,
   "metadata": {},
   "outputs": [
    {
     "data": {
      "text/plain": [
       "0.611336032388664"
      ]
     },
     "execution_count": 68,
     "metadata": {},
     "output_type": "execute_result"
    }
   ],
   "source": [
    "ppv(y_test, preds['Label'])"
   ]
  },
  {
   "cell_type": "code",
   "execution_count": 69,
   "metadata": {},
   "outputs": [],
   "source": [
    "# evaluate_model(xgbtuned)"
   ]
  },
  {
   "cell_type": "code",
   "execution_count": 70,
   "metadata": {},
   "outputs": [],
   "source": [
    "#!pip install shap"
   ]
  },
  {
   "cell_type": "markdown",
   "metadata": {},
   "source": [
    "#### Run INTERPRETE_MODEL only for the best algorithm chosen in the previous lines"
   ]
  },
  {
   "cell_type": "code",
   "execution_count": 71,
   "metadata": {},
   "outputs": [
    {
     "data": {
      "image/png": "[encoded data removed]",
      "text/plain": [
       "<Figure size 800x950 with 2 Axes>"
      ]
     },
     "metadata": {},
     "output_type": "display_data"
    }
   ],
   "source": [
    "#interpret_model(cattuned)\n",
    "interpret_model(lgbmtuned)\n",
    "#interpret_model(xgbtuned)"
   ]
  },
  {
   "cell_type": "code",
   "execution_count": 72,
   "metadata": {},
   "outputs": [],
   "source": [
    "# plot_model(xgbtuned, plot='ktops')"
   ]
  },
  {
   "cell_type": "markdown",
   "metadata": {},
   "source": [
    "### 2.3.1) Build a model with all data\n",
    "#### Run FINALIZE MODEL only for the best algorithm chosen in the previous lines"
   ]
  },
  {
   "cell_type": "code",
   "execution_count": 82,
   "metadata": {},
   "outputs": [
    {
     "name": "stdout",
     "output_type": "stream",
     "text": [
      "[LightGBM] [Info] Number of positive: 665, number of negative: 835\n",
      "[LightGBM] [Info] Auto-choosing col-wise multi-threading, the overhead of testing was 0.000401 seconds.\n",
      "You can set `force_col_wise=true` to remove the overhead.\n",
      "[LightGBM] [Info] Total Bins 2491\n",
      "[LightGBM] [Info] Number of data points in the train set: 1500, number of used features: 20\n",
      "[LightGBM] [Info] [binary:BoostFromScore]: pavg=0.443333 -> initscore=-0.227645\n",
      "[LightGBM] [Info] Start training from score -0.227645\n",
      "[LightGBM] [Warning] No further splits with positive gain, best gain: -inf\n"
     ]
    }
   ],
   "source": [
    "#final_model = finalize_model(cattuned)\n",
    "final_model = finalize_model(lgbmtuned)\n",
    "#final_model = finalize_model(xgbtuned)"
   ]
  },
  {
   "cell_type": "markdown",
   "metadata": {},
   "source": [
    "### 2.3.2) Using model to predict unseen outcome"
   ]
  },
  {
   "cell_type": "code",
   "execution_count": 83,
   "metadata": {},
   "outputs": [
    {
     "data": {
      "text/plain": [
       "'LGBMClassifier'"
      ]
     },
     "execution_count": 83,
     "metadata": {},
     "output_type": "execute_result"
    }
   ],
   "source": [
    "str(final_model.__class__.__name__)"
   ]
  },
  {
   "cell_type": "code",
   "execution_count": 84,
   "metadata": {},
   "outputs": [
    {
     "data": {
      "text/plain": [
       "'LGBMClassifier_tuned_baseline_HC_USP'"
      ]
     },
     "execution_count": 84,
     "metadata": {},
     "output_type": "execute_result"
    }
   ],
   "source": [
    "tuned_model_name = str(final_model.__class__.__name__) + '_' + 'tuned' + '_baseline_' + specific_hospital\n",
    "tuned_model_name"
   ]
  },
  {
   "cell_type": "code",
   "execution_count": 85,
   "metadata": {},
   "outputs": [
    {
     "data": {
      "text/plain": [
       "'LGBMClassifier_baseline_HC_USP'"
      ]
     },
     "execution_count": 85,
     "metadata": {},
     "output_type": "execute_result"
    }
   ],
   "source": [
    "final_model_name = str(final_model.__class__.__name__) + '_baseline_' \\\n",
    "                    + specific_hospital\n",
    "final_model_name"
   ]
  },
  {
   "cell_type": "code",
   "execution_count": 86,
   "metadata": {},
   "outputs": [
    {
     "name": "stdout",
     "output_type": "stream",
     "text": [
      "Transformation Pipeline and Model Succesfully Saved\n"
     ]
    }
   ],
   "source": [
    "save_model(final_model, final_model_name ,verbose=True)"
   ]
  },
  {
   "cell_type": "code",
   "execution_count": 87,
   "metadata": {
    "scrolled": true
   },
   "outputs": [
    {
     "ename": "AttributeError",
     "evalue": "'LGBMClassifier' object has no attribute 'get_all_params'",
     "output_type": "error",
     "traceback": [
      "\u001b[1;31m---------------------------------------------------------------------------\u001b[0m",
      "\u001b[1;31mAttributeError\u001b[0m                            Traceback (most recent call last)",
      "Cell \u001b[1;32mIn[87], line 2\u001b[0m\n\u001b[0;32m      1\u001b[0m \u001b[38;5;66;03m#final_model\u001b[39;00m\n\u001b[1;32m----> 2\u001b[0m \u001b[43mfinal_model\u001b[49m\u001b[38;5;241;43m.\u001b[39;49m\u001b[43mget_all_params\u001b[49m()\n",
      "\u001b[1;31mAttributeError\u001b[0m: 'LGBMClassifier' object has no attribute 'get_all_params'"
     ]
    }
   ],
   "source": [
    "#final_model\n",
    "final_model.get_all_params()"
   ]
  },
  {
   "cell_type": "markdown",
   "metadata": {},
   "source": [
    "# Use the tuned saved model to predict on specific hospital\n",
    "PS: I don't finalize the model only in this strategy, because otherwise, it would be trained with the same data that it would be tested, resulting in false better performance"
   ]
  },
  {
   "cell_type": "code",
   "execution_count": 88,
   "metadata": {},
   "outputs": [
    {
     "ename": "FileNotFoundError",
     "evalue": "[Errno 2] No such file or directory: 'LGBMClassifier_tuned_baseline_HC_USP.pkl'",
     "output_type": "error",
     "traceback": [
      "\u001b[1;31m---------------------------------------------------------------------------\u001b[0m",
      "\u001b[1;31mFileNotFoundError\u001b[0m                         Traceback (most recent call last)",
      "Cell \u001b[1;32mIn[88], line 6\u001b[0m\n\u001b[0;32m      3\u001b[0m \u001b[38;5;28;01mfrom\u001b[39;00m \u001b[38;5;21;01msklearn\u001b[39;00m\u001b[38;5;21;01m.\u001b[39;00m\u001b[38;5;21;01mmetrics\u001b[39;00m \u001b[38;5;28;01mimport\u001b[39;00m (roc_curve, auc)\n\u001b[0;32m      5\u001b[0m baseline_pkl \u001b[38;5;241m=\u001b[39m tuned_model_name \u001b[38;5;241m+\u001b[39m \u001b[38;5;124m\"\u001b[39m\u001b[38;5;124m.pkl\u001b[39m\u001b[38;5;124m\"\u001b[39m\n\u001b[1;32m----> 6\u001b[0m prep_pipe_baseline, baseline \u001b[38;5;241m=\u001b[39m \u001b[43mjoblib\u001b[49m\u001b[38;5;241;43m.\u001b[39;49m\u001b[43mload\u001b[49m\u001b[43m(\u001b[49m\u001b[43mbaseline_pkl\u001b[49m\u001b[43m)\u001b[49m\n\u001b[0;32m      8\u001b[0m X_test_baseline \u001b[38;5;241m=\u001b[39m pd\u001b[38;5;241m.\u001b[39mread_csv(x_test_specific_name, delimiter\u001b[38;5;241m=\u001b[39m\u001b[38;5;124m\"\u001b[39m\u001b[38;5;124m;\u001b[39m\u001b[38;5;124m\"\u001b[39m,index_col\u001b[38;5;241m=\u001b[39m\u001b[38;5;241m0\u001b[39m)\n\u001b[0;32m     10\u001b[0m y_test_baseline \u001b[38;5;241m=\u001b[39m pd\u001b[38;5;241m.\u001b[39mread_csv(y_test_specific_name, delimiter\u001b[38;5;241m=\u001b[39m\u001b[38;5;124m\"\u001b[39m\u001b[38;5;124m;\u001b[39m\u001b[38;5;124m\"\u001b[39m,index_col\u001b[38;5;241m=\u001b[39m\u001b[38;5;241m0\u001b[39m)\n",
      "File \u001b[1;32m~\\OneDrive\\Documents\\carine\\A_POS_DOC\\iacovpy10\\lib\\site-packages\\joblib\\numpy_pickle.py:650\u001b[0m, in \u001b[0;36mload\u001b[1;34m(filename, mmap_mode)\u001b[0m\n\u001b[0;32m    648\u001b[0m         obj \u001b[38;5;241m=\u001b[39m _unpickle(fobj)\n\u001b[0;32m    649\u001b[0m \u001b[38;5;28;01melse\u001b[39;00m:\n\u001b[1;32m--> 650\u001b[0m     \u001b[38;5;28;01mwith\u001b[39;00m \u001b[38;5;28;43mopen\u001b[39;49m\u001b[43m(\u001b[49m\u001b[43mfilename\u001b[49m\u001b[43m,\u001b[49m\u001b[43m \u001b[49m\u001b[38;5;124;43m'\u001b[39;49m\u001b[38;5;124;43mrb\u001b[39;49m\u001b[38;5;124;43m'\u001b[39;49m\u001b[43m)\u001b[49m \u001b[38;5;28;01mas\u001b[39;00m f:\n\u001b[0;32m    651\u001b[0m         \u001b[38;5;28;01mwith\u001b[39;00m _read_fileobject(f, filename, mmap_mode) \u001b[38;5;28;01mas\u001b[39;00m fobj:\n\u001b[0;32m    652\u001b[0m             \u001b[38;5;28;01mif\u001b[39;00m \u001b[38;5;28misinstance\u001b[39m(fobj, \u001b[38;5;28mstr\u001b[39m):\n\u001b[0;32m    653\u001b[0m                 \u001b[38;5;66;03m# if the returned file object is a string, this means we\u001b[39;00m\n\u001b[0;32m    654\u001b[0m                 \u001b[38;5;66;03m# try to load a pickle file generated with an version of\u001b[39;00m\n\u001b[0;32m    655\u001b[0m                 \u001b[38;5;66;03m# Joblib so we load it with joblib compatibility function.\u001b[39;00m\n",
      "\u001b[1;31mFileNotFoundError\u001b[0m: [Errno 2] No such file or directory: 'LGBMClassifier_tuned_baseline_HC_USP.pkl'"
     ]
    }
   ],
   "source": [
    "import pickle\n",
    "import joblib\n",
    "from sklearn.metrics import (roc_curve, auc)\n",
    "\n",
    "baseline_pkl = tuned_model_name + \".pkl\"\n",
    "prep_pipe_baseline, baseline = joblib.load(baseline_pkl)\n",
    "\n",
    "X_test_baseline = pd.read_csv(x_test_specific_name, delimiter=\";\",index_col=0)\n",
    "\n",
    "y_test_baseline = pd.read_csv(y_test_specific_name, delimiter=\";\",index_col=0)\n",
    "\n",
    "y_pred_prob_baseline = baseline.predict_proba(X_test_baseline)[:,1]\n",
    "fpr_baseline , tpr_baseline, thresholds_baseline = roc_curve(y_test_baseline, y_pred_prob_baseline)\n",
    "auc_baseline = auc(fpr_baseline, tpr_baseline)\n",
    "auc_baseline"
   ]
  },
  {
   "cell_type": "code",
   "execution_count": 89,
   "metadata": {},
   "outputs": [
    {
     "data": {
      "text/plain": [
       "Text(0, 0.5, 'TPR')"
      ]
     },
     "execution_count": 89,
     "metadata": {},
     "output_type": "execute_result"
    },
    {
     "data": {
      "image/png": "[encoded data removed]",
      "text/plain": [
       "<Figure size 800x600 with 1 Axes>"
      ]
     },
     "metadata": {},
     "output_type": "display_data"
    }
   ],
   "source": [
    "fig, (ax1) = plt.subplots(1, 1,figsize=(8,6))\n",
    "# fig.suptitle('Receiver Operating Characteristic')\n",
    "\n",
    "#############################################\n",
    "## General VS Specific\n",
    "#############################################\n",
    "\n",
    "# ICU AGREGADO E SIMPLES\n",
    "ax1.set_facecolor('xkcd:white')\n",
    "ax1.spines['left'].set_color('#000000')\n",
    "ax1.spines['bottom'].set_color('#000000')\n",
    "ax1.spines['top'].set_color('#000000')\n",
    "ax1.spines['right'].set_color('#000000')\n",
    "# ax1.grid(color='grey', linestyle='solid',alpha=0.3)\n",
    "ax1.plot([0,1],[0,1], 'k--')\n",
    "\n",
    "n = 1\n",
    "#using plasma cmap for each axis\n",
    "colors = plt.cm.rainbow(np.linspace(0, 1, n))\n",
    "\n",
    "ci_baseline = AUC_CI(y_test_baseline[\"class\"], y_pred_prob_baseline)\n",
    "\n",
    "# for i in range(n):\n",
    "\n",
    "ax1.plot(fpr_baseline, tpr_baseline, label= \"Baseline Model - AUC \" + str(np.around(ci_baseline,2))\n",
    "         , color=colors[0], linewidth=2, linestyle=\":\")\n",
    "\n",
    "ax1.legend(frameon=True, shadow=True, borderpad=1, facecolor=\"white\")\n",
    "ax1.set_xlabel(\"FPR\")\n",
    "ax1.set_ylabel(\"TPR\")\n",
    "\n",
    "# plt.savefig(\"sup_fig1.svg\")"
   ]
  },
  {
   "cell_type": "code",
   "execution_count": null,
   "metadata": {},
   "outputs": [],
   "source": []
  },
  {
   "cell_type": "code",
   "execution_count": null,
   "metadata": {},
   "outputs": [],
   "source": []
  },
  {
   "cell_type": "code",
   "execution_count": null,
   "metadata": {},
   "outputs": [],
   "source": []
  },
  {
   "cell_type": "code",
   "execution_count": null,
   "metadata": {},
   "outputs": [],
   "source": []
  }
 ],
 "metadata": {
  "kernelspec": {
   "display_name": "Python 3 (ipykernel)",
   "language": "python",
   "name": "python3"
  },
  "language_info": {
   "codemirror_mode": {
    "name": "ipython",
    "version": 3
   },
   "file_extension": ".py",
   "mimetype": "text/x-python",
   "name": "python",
   "nbconvert_exporter": "python",
   "pygments_lexer": "ipython3",
   "version": "3.10.0"
  }
 },
 "nbformat": 4,
 "nbformat_minor": 4
}
