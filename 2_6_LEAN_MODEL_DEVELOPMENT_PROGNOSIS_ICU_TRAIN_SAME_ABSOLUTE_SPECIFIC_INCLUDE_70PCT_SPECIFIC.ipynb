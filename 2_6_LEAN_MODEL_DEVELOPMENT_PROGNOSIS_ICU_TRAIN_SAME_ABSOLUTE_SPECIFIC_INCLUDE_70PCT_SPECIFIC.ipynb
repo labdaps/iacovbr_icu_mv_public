{
 "cells": [
  {
   "cell_type": "markdown",
   "metadata": {},
   "source": [
    "# 2) IACOV - Model Development for Prognosis - ICU\n",
    "## Strategy 6) Training on 70% of a specific hospital plus same absolute number of all other hospitals"
   ]
  },
  {
   "cell_type": "code",
   "execution_count": 1,
   "metadata": {},
   "outputs": [],
   "source": [
    "# !pip install npm nodejs"
   ]
  },
  {
   "cell_type": "code",
   "execution_count": 2,
   "metadata": {},
   "outputs": [],
   "source": [
    "# !jupyter lab clean\n",
    "# !jupyter lab build"
   ]
  },
  {
   "cell_type": "code",
   "execution_count": 3,
   "metadata": {},
   "outputs": [
    {
     "name": "stderr",
     "output_type": "stream",
     "text": [
      "C:\\Users\\carin\\AppData\\Local\\Temp\\ipykernel_19620\\2017038996.py:1: DeprecationWarning: \n",
      "Pyarrow will become a required dependency of pandas in the next major release of pandas (pandas 3.0),\n",
      "(to allow more performant data types, such as the Arrow string type, and better interoperability with other libraries)\n",
      "but was not found to be installed on your system.\n",
      "If this would cause problems for you,\n",
      "please provide us feedback at https://github.com/pandas-dev/pandas/issues/54466\n",
      "        \n",
      "  import pandas as pd\n"
     ]
    }
   ],
   "source": [
    "import pandas as pd\n",
    "import matplotlib.pyplot as plt\n",
    "import seaborn as sns\n",
    "import os\n",
    "import numpy as np\n",
    "\n",
    "import warnings\n",
    "warnings.filterwarnings(\"ignore\")\n",
    "\n",
    "# para evitarmos a exibição dos dados em notacao científica\n",
    "pd.set_option('display.float_format', lambda x: '%.3f' % x)\n",
    "\n",
    "#comment next line to not use MLFlow for cleaning data\n",
    "from MLFlow_Classification import *\n",
    "from MLFlow_Utils import *"
   ]
  },
  {
   "cell_type": "markdown",
   "metadata": {},
   "source": [
    "### This code uses just 14 hospitals, since ICU or MV has no variation for 4 hospitals\n",
    "#### - The code that prepares the data to run all strategies for ICU and MV is: PREPARING_DATA_TO_UCI_MV_ANALYSES\n",
    "#### - df_iacov_en.csv (used for death) was replaced here by df_iacov_model_lean_14hosp.csv\n",
    "#### - put df_iacov_model_lean_14hosp.csv in same folder as this notebook"
   ]
  },
  {
   "cell_type": "code",
   "execution_count": 4,
   "metadata": {},
   "outputs": [
    {
     "data": {
      "text/plain": [
       "(6046, 30)"
      ]
     },
     "execution_count": 4,
     "metadata": {},
     "output_type": "execute_result"
    }
   ],
   "source": [
    "#Put csv in same folder as this notebook\n",
    "dataset = pd.read_csv(\"df_iacov_model_lean_14hosp.csv\", delimiter=\";\")\n",
    "df_iacov_model = pd.DataFrame(dataset)\n",
    "df_iacov_model.shape"
   ]
  },
  {
   "cell_type": "code",
   "execution_count": 5,
   "metadata": {},
   "outputs": [
    {
     "data": {
      "text/plain": [
       "Index(['city_hospital', 'age', 'male', 'race', 'heart_rate', 'resp_rate',\n",
       "       'sys_press', 'dias_press', 'mean_press', 'temp', 'hemoglobin',\n",
       "       'platelets', 'hematocrit', 'red_cells_count', 'hcm', 'rdw', 'mcv',\n",
       "       'leukocytes', 'neutrophil', 'lymphocytes', 'basophils', 'eosinophils',\n",
       "       'monocytes', 'crp', 'death', 'icu', 'mv', 'state', 'region', 'excluir'],\n",
       "      dtype='object')"
      ]
     },
     "execution_count": 5,
     "metadata": {},
     "output_type": "execute_result"
    }
   ],
   "source": [
    "df_iacov_model.columns"
   ]
  },
  {
   "cell_type": "markdown",
   "metadata": {},
   "source": [
    "## 2.1) Assign binary outcome ICU to be predicted"
   ]
  },
  {
   "cell_type": "markdown",
   "metadata": {},
   "source": [
    "### 2.1.1) Maintain essential variables (LEAN Model)"
   ]
  },
  {
   "cell_type": "code",
   "execution_count": 6,
   "metadata": {},
   "outputs": [
    {
     "data": {
      "text/plain": [
       "(6046, 26)"
      ]
     },
     "execution_count": 6,
     "metadata": {},
     "output_type": "execute_result"
    }
   ],
   "source": [
    "#22 predictors + outcome + Region/State\n",
    "df_iacov_model_lean = df_iacov_model[['city_hospital'\n",
    "                                      ,'age'\n",
    "                                      ,'male'\n",
    "                                      ,'heart_rate'\n",
    "                                      ,'resp_rate'\n",
    "                                      ,'sys_press'\n",
    "                                      ,'dias_press'\n",
    "                                      ,'mean_press'\n",
    "                                      ,'temp'\n",
    "                                      ,'hemoglobin'\n",
    "                                      ,'platelets'\n",
    "                                      ,'hematocrit'\n",
    "                                      ,'red_cells_count'\n",
    "                                      ,'hcm'\n",
    "                                      ,'rdw'\n",
    "                                      ,'mcv'\n",
    "                                      ,'leukocytes'\n",
    "                                      ,'neutrophil'\n",
    "                                      ,'lymphocytes'\n",
    "                                      ,'basophils'\n",
    "                                      ,'eosinophils'\n",
    "                                      ,'monocytes'\n",
    "                                      ,'crp'\n",
    "                                      ,'icu'\n",
    "                                      ,'region' #for filtering purposes\n",
    "                                      ,'state' #for filtering purposes\n",
    "                                     ]]\n",
    "df_iacov_model_lean.shape"
   ]
  },
  {
   "cell_type": "code",
   "execution_count": 7,
   "metadata": {},
   "outputs": [
    {
     "data": {
      "text/plain": [
       "city_hospital\n",
       "HC_USP                        1500\n",
       "HOSPPORTUGUES_SALVADOR        1359\n",
       "CEARA_UNIMED                   845\n",
       "HRL_2021_02                    539\n",
       "HMV_POA_02                     456\n",
       "RIO_DE_JANEIRO_UNIMED          449\n",
       "HOSPSANTAJULIA_MANAUS          247\n",
       "HOSPSANTACATARINABLUMENAU      148\n",
       "HOSPSAOFRANCISCO_MOGIGUACU     124\n",
       "PERNAMBUCO_FULL                112\n",
       "PELOTAS                         91\n",
       "CEARA_HUWC                      73\n",
       "HEVV                            56\n",
       "AMAZONAS_HUGV                   47\n",
       "Name: count, dtype: int64"
      ]
     },
     "execution_count": 7,
     "metadata": {},
     "output_type": "execute_result"
    }
   ],
   "source": [
    "df_iacov_model_lean.city_hospital.value_counts()"
   ]
  },
  {
   "cell_type": "code",
   "execution_count": 8,
   "metadata": {},
   "outputs": [],
   "source": [
    "df_iacov_model_lean.to_csv('df_iacov_model_lean.csv', sep=';', index=False)"
   ]
  },
  {
   "cell_type": "markdown",
   "metadata": {},
   "source": [
    "### 2.1.2) Filter a specific hospital"
   ]
  },
  {
   "cell_type": "code",
   "execution_count": 9,
   "metadata": {},
   "outputs": [
    {
     "data": {
      "text/plain": [
       "(6046, 26)"
      ]
     },
     "execution_count": 9,
     "metadata": {},
     "output_type": "execute_result"
    }
   ],
   "source": [
    "#Put csv in same folder as this notebook\n",
    "df_all_hospitals = pd.read_csv(\"df_iacov_model_lean.csv\", delimiter=\";\", decimal=\".\")\n",
    "df_all_hospitals.shape"
   ]
  },
  {
   "cell_type": "code",
   "execution_count": 10,
   "metadata": {},
   "outputs": [
    {
     "data": {
      "text/plain": [
       "Index(['city_hospital', 'age', 'male', 'heart_rate', 'resp_rate', 'sys_press',\n",
       "       'dias_press', 'mean_press', 'temp', 'hemoglobin', 'platelets',\n",
       "       'hematocrit', 'red_cells_count', 'hcm', 'rdw', 'mcv', 'leukocytes',\n",
       "       'neutrophil', 'lymphocytes', 'basophils', 'eosinophils', 'monocytes',\n",
       "       'crp', 'icu', 'region', 'state'],\n",
       "      dtype='object')"
      ]
     },
     "execution_count": 10,
     "metadata": {},
     "output_type": "execute_result"
    }
   ],
   "source": [
    "df_all_hospitals.columns"
   ]
  },
  {
   "cell_type": "code",
   "execution_count": 11,
   "metadata": {},
   "outputs": [
    {
     "data": {
      "text/plain": [
       "region\n",
       "NORDESTE       2389\n",
       "SUDESTE        2129\n",
       "SUL             695\n",
       "CENTROOESTE     539\n",
       "NORTE           294\n",
       "Name: count, dtype: int64"
      ]
     },
     "execution_count": 11,
     "metadata": {},
     "output_type": "execute_result"
    }
   ],
   "source": [
    "df_all_hospitals.region.value_counts()"
   ]
  },
  {
   "cell_type": "code",
   "execution_count": 12,
   "metadata": {},
   "outputs": [
    {
     "data": {
      "text/html": [
       "<div>\n",
       "<style scoped>\n",
       "    .dataframe tbody tr th:only-of-type {\n",
       "        vertical-align: middle;\n",
       "    }\n",
       "\n",
       "    .dataframe tbody tr th {\n",
       "        vertical-align: top;\n",
       "    }\n",
       "\n",
       "    .dataframe thead th {\n",
       "        text-align: right;\n",
       "    }\n",
       "</style>\n",
       "<table border=\"1\" class=\"dataframe\">\n",
       "  <thead>\n",
       "    <tr style=\"text-align: right;\">\n",
       "      <th></th>\n",
       "      <th>Missing Values</th>\n",
       "      <th>% missing of Total Values</th>\n",
       "      <th># Unique Values</th>\n",
       "      <th># Values as [0]</th>\n",
       "      <th>datatype</th>\n",
       "      <th>skew</th>\n",
       "      <th>count</th>\n",
       "      <th>mean</th>\n",
       "      <th>std</th>\n",
       "      <th>min</th>\n",
       "      <th>25%</th>\n",
       "      <th>50%</th>\n",
       "      <th>75%</th>\n",
       "      <th>max</th>\n",
       "    </tr>\n",
       "  </thead>\n",
       "  <tbody>\n",
       "    <tr>\n",
       "      <th>city_hospital</th>\n",
       "      <td>0</td>\n",
       "      <td>0.000</td>\n",
       "      <td>14</td>\n",
       "      <td>0</td>\n",
       "      <td>object</td>\n",
       "      <td>NaN</td>\n",
       "      <td>NaN</td>\n",
       "      <td>NaN</td>\n",
       "      <td>NaN</td>\n",
       "      <td>NaN</td>\n",
       "      <td>NaN</td>\n",
       "      <td>NaN</td>\n",
       "      <td>NaN</td>\n",
       "      <td>NaN</td>\n",
       "    </tr>\n",
       "    <tr>\n",
       "      <th>age</th>\n",
       "      <td>0</td>\n",
       "      <td>0.000</td>\n",
       "      <td>98</td>\n",
       "      <td>0</td>\n",
       "      <td>float64</td>\n",
       "      <td>-0.060</td>\n",
       "      <td>6046.000</td>\n",
       "      <td>57.521</td>\n",
       "      <td>17.869</td>\n",
       "      <td>18.000</td>\n",
       "      <td>44.000</td>\n",
       "      <td>58.000</td>\n",
       "      <td>71.000</td>\n",
       "      <td>105.000</td>\n",
       "    </tr>\n",
       "    <tr>\n",
       "      <th>male</th>\n",
       "      <td>0</td>\n",
       "      <td>0.000</td>\n",
       "      <td>2</td>\n",
       "      <td>2790</td>\n",
       "      <td>float64</td>\n",
       "      <td>-0.155</td>\n",
       "      <td>6046.000</td>\n",
       "      <td>0.539</td>\n",
       "      <td>0.499</td>\n",
       "      <td>0.000</td>\n",
       "      <td>0.000</td>\n",
       "      <td>1.000</td>\n",
       "      <td>1.000</td>\n",
       "      <td>1.000</td>\n",
       "    </tr>\n",
       "    <tr>\n",
       "      <th>heart_rate</th>\n",
       "      <td>809</td>\n",
       "      <td>13.381</td>\n",
       "      <td>183</td>\n",
       "      <td>0</td>\n",
       "      <td>float64</td>\n",
       "      <td>0.611</td>\n",
       "      <td>5237.000</td>\n",
       "      <td>85.689</td>\n",
       "      <td>17.209</td>\n",
       "      <td>13.000</td>\n",
       "      <td>75.000</td>\n",
       "      <td>85.000</td>\n",
       "      <td>96.000</td>\n",
       "      <td>233.000</td>\n",
       "    </tr>\n",
       "    <tr>\n",
       "      <th>resp_rate</th>\n",
       "      <td>1457</td>\n",
       "      <td>24.099</td>\n",
       "      <td>69</td>\n",
       "      <td>1</td>\n",
       "      <td>float64</td>\n",
       "      <td>2.897</td>\n",
       "      <td>4589.000</td>\n",
       "      <td>21.881</td>\n",
       "      <td>6.380</td>\n",
       "      <td>0.000</td>\n",
       "      <td>18.000</td>\n",
       "      <td>20.000</td>\n",
       "      <td>24.000</td>\n",
       "      <td>108.000</td>\n",
       "    </tr>\n",
       "    <tr>\n",
       "      <th>sys_press</th>\n",
       "      <td>1336</td>\n",
       "      <td>22.097</td>\n",
       "      <td>215</td>\n",
       "      <td>0</td>\n",
       "      <td>float64</td>\n",
       "      <td>-0.279</td>\n",
       "      <td>4710.000</td>\n",
       "      <td>124.054</td>\n",
       "      <td>22.791</td>\n",
       "      <td>10.000</td>\n",
       "      <td>110.000</td>\n",
       "      <td>122.000</td>\n",
       "      <td>138.000</td>\n",
       "      <td>242.000</td>\n",
       "    </tr>\n",
       "    <tr>\n",
       "      <th>dias_press</th>\n",
       "      <td>1325</td>\n",
       "      <td>21.915</td>\n",
       "      <td>150</td>\n",
       "      <td>0</td>\n",
       "      <td>float64</td>\n",
       "      <td>-0.361</td>\n",
       "      <td>4721.000</td>\n",
       "      <td>74.608</td>\n",
       "      <td>14.626</td>\n",
       "      <td>6.000</td>\n",
       "      <td>67.000</td>\n",
       "      <td>76.000</td>\n",
       "      <td>81.000</td>\n",
       "      <td>141.000</td>\n",
       "    </tr>\n",
       "    <tr>\n",
       "      <th>mean_press</th>\n",
       "      <td>1366</td>\n",
       "      <td>22.593</td>\n",
       "      <td>1452</td>\n",
       "      <td>326</td>\n",
       "      <td>float64</td>\n",
       "      <td>-1.751</td>\n",
       "      <td>4680.000</td>\n",
       "      <td>83.731</td>\n",
       "      <td>28.475</td>\n",
       "      <td>0.000</td>\n",
       "      <td>78.981</td>\n",
       "      <td>90.000</td>\n",
       "      <td>98.648</td>\n",
       "      <td>166.000</td>\n",
       "    </tr>\n",
       "    <tr>\n",
       "      <th>temp</th>\n",
       "      <td>1173</td>\n",
       "      <td>19.401</td>\n",
       "      <td>128</td>\n",
       "      <td>1</td>\n",
       "      <td>float64</td>\n",
       "      <td>62.972</td>\n",
       "      <td>4873.000</td>\n",
       "      <td>36.430</td>\n",
       "      <td>4.976</td>\n",
       "      <td>0.000</td>\n",
       "      <td>36.000</td>\n",
       "      <td>36.300</td>\n",
       "      <td>36.800</td>\n",
       "      <td>372.000</td>\n",
       "    </tr>\n",
       "    <tr>\n",
       "      <th>hemoglobin</th>\n",
       "      <td>1904</td>\n",
       "      <td>31.492</td>\n",
       "      <td>226</td>\n",
       "      <td>0</td>\n",
       "      <td>float64</td>\n",
       "      <td>-0.628</td>\n",
       "      <td>4142.000</td>\n",
       "      <td>12.752</td>\n",
       "      <td>2.189</td>\n",
       "      <td>1.400</td>\n",
       "      <td>11.692</td>\n",
       "      <td>13.000</td>\n",
       "      <td>14.200</td>\n",
       "      <td>30.600</td>\n",
       "    </tr>\n",
       "    <tr>\n",
       "      <th>platelets</th>\n",
       "      <td>744</td>\n",
       "      <td>12.306</td>\n",
       "      <td>1036</td>\n",
       "      <td>0</td>\n",
       "      <td>float64</td>\n",
       "      <td>0.395</td>\n",
       "      <td>5302.000</td>\n",
       "      <td>235701.617</td>\n",
       "      <td>143771.202</td>\n",
       "      <td>7.000</td>\n",
       "      <td>148000.000</td>\n",
       "      <td>217000.000</td>\n",
       "      <td>321750.000</td>\n",
       "      <td>992000.000</td>\n",
       "    </tr>\n",
       "    <tr>\n",
       "      <th>hematocrit</th>\n",
       "      <td>2350</td>\n",
       "      <td>38.869</td>\n",
       "      <td>475</td>\n",
       "      <td>0</td>\n",
       "      <td>float64</td>\n",
       "      <td>-0.539</td>\n",
       "      <td>3696.000</td>\n",
       "      <td>38.436</td>\n",
       "      <td>6.402</td>\n",
       "      <td>1.000</td>\n",
       "      <td>35.100</td>\n",
       "      <td>39.200</td>\n",
       "      <td>42.500</td>\n",
       "      <td>77.000</td>\n",
       "    </tr>\n",
       "    <tr>\n",
       "      <th>red_cells_count</th>\n",
       "      <td>2684</td>\n",
       "      <td>44.393</td>\n",
       "      <td>578</td>\n",
       "      <td>0</td>\n",
       "      <td>float64</td>\n",
       "      <td>-0.274</td>\n",
       "      <td>3362.000</td>\n",
       "      <td>3.915</td>\n",
       "      <td>1.168</td>\n",
       "      <td>0.290</td>\n",
       "      <td>3.250</td>\n",
       "      <td>4.210</td>\n",
       "      <td>4.717</td>\n",
       "      <td>14.500</td>\n",
       "    </tr>\n",
       "    <tr>\n",
       "      <th>hcm</th>\n",
       "      <td>1191</td>\n",
       "      <td>19.699</td>\n",
       "      <td>689</td>\n",
       "      <td>0</td>\n",
       "      <td>float64</td>\n",
       "      <td>3.528</td>\n",
       "      <td>4855.000</td>\n",
       "      <td>29.095</td>\n",
       "      <td>2.939</td>\n",
       "      <td>10.000</td>\n",
       "      <td>27.800</td>\n",
       "      <td>29.200</td>\n",
       "      <td>30.500</td>\n",
       "      <td>88.100</td>\n",
       "    </tr>\n",
       "    <tr>\n",
       "      <th>rdw</th>\n",
       "      <td>1192</td>\n",
       "      <td>19.716</td>\n",
       "      <td>227</td>\n",
       "      <td>0</td>\n",
       "      <td>float64</td>\n",
       "      <td>11.869</td>\n",
       "      <td>4854.000</td>\n",
       "      <td>13.837</td>\n",
       "      <td>2.407</td>\n",
       "      <td>3.000</td>\n",
       "      <td>12.700</td>\n",
       "      <td>13.500</td>\n",
       "      <td>14.400</td>\n",
       "      <td>86.100</td>\n",
       "    </tr>\n",
       "    <tr>\n",
       "      <th>mcv</th>\n",
       "      <td>1185</td>\n",
       "      <td>19.600</td>\n",
       "      <td>1029</td>\n",
       "      <td>0</td>\n",
       "      <td>float64</td>\n",
       "      <td>0.227</td>\n",
       "      <td>4861.000</td>\n",
       "      <td>87.665</td>\n",
       "      <td>7.667</td>\n",
       "      <td>8.150</td>\n",
       "      <td>83.700</td>\n",
       "      <td>87.600</td>\n",
       "      <td>91.600</td>\n",
       "      <td>201.400</td>\n",
       "    </tr>\n",
       "    <tr>\n",
       "      <th>leukocytes</th>\n",
       "      <td>741</td>\n",
       "      <td>12.256</td>\n",
       "      <td>2268</td>\n",
       "      <td>0</td>\n",
       "      <td>float64</td>\n",
       "      <td>20.605</td>\n",
       "      <td>5305.000</td>\n",
       "      <td>7035.747</td>\n",
       "      <td>9241.209</td>\n",
       "      <td>0.760</td>\n",
       "      <td>3680.000</td>\n",
       "      <td>6210.000</td>\n",
       "      <td>9233.000</td>\n",
       "      <td>365920.000</td>\n",
       "    </tr>\n",
       "    <tr>\n",
       "      <th>neutrophil</th>\n",
       "      <td>2074</td>\n",
       "      <td>34.304</td>\n",
       "      <td>2403</td>\n",
       "      <td>3</td>\n",
       "      <td>float64</td>\n",
       "      <td>1.830</td>\n",
       "      <td>3972.000</td>\n",
       "      <td>6143.968</td>\n",
       "      <td>4259.737</td>\n",
       "      <td>0.000</td>\n",
       "      <td>3180.000</td>\n",
       "      <td>5200.000</td>\n",
       "      <td>8060.000</td>\n",
       "      <td>47636.000</td>\n",
       "    </tr>\n",
       "    <tr>\n",
       "      <th>lymphocytes</th>\n",
       "      <td>1404</td>\n",
       "      <td>23.222</td>\n",
       "      <td>1865</td>\n",
       "      <td>5</td>\n",
       "      <td>float64</td>\n",
       "      <td>15.570</td>\n",
       "      <td>4642.000</td>\n",
       "      <td>1031.263</td>\n",
       "      <td>1028.587</td>\n",
       "      <td>0.000</td>\n",
       "      <td>529.250</td>\n",
       "      <td>900.000</td>\n",
       "      <td>1378.250</td>\n",
       "      <td>42120.000</td>\n",
       "    </tr>\n",
       "    <tr>\n",
       "      <th>basophils</th>\n",
       "      <td>1120</td>\n",
       "      <td>18.525</td>\n",
       "      <td>252</td>\n",
       "      <td>2087</td>\n",
       "      <td>float64</td>\n",
       "      <td>5.342</td>\n",
       "      <td>4926.000</td>\n",
       "      <td>7.509</td>\n",
       "      <td>18.532</td>\n",
       "      <td>0.000</td>\n",
       "      <td>0.000</td>\n",
       "      <td>0.010</td>\n",
       "      <td>10.000</td>\n",
       "      <td>259.200</td>\n",
       "    </tr>\n",
       "    <tr>\n",
       "      <th>eosinophils</th>\n",
       "      <td>2367</td>\n",
       "      <td>39.150</td>\n",
       "      <td>495</td>\n",
       "      <td>1487</td>\n",
       "      <td>float64</td>\n",
       "      <td>14.977</td>\n",
       "      <td>3679.000</td>\n",
       "      <td>43.517</td>\n",
       "      <td>127.479</td>\n",
       "      <td>0.000</td>\n",
       "      <td>0.000</td>\n",
       "      <td>1.000</td>\n",
       "      <td>46.000</td>\n",
       "      <td>4450.000</td>\n",
       "    </tr>\n",
       "    <tr>\n",
       "      <th>monocytes</th>\n",
       "      <td>841</td>\n",
       "      <td>13.910</td>\n",
       "      <td>1450</td>\n",
       "      <td>14</td>\n",
       "      <td>float64</td>\n",
       "      <td>2.534</td>\n",
       "      <td>5205.000</td>\n",
       "      <td>354.765</td>\n",
       "      <td>375.844</td>\n",
       "      <td>0.000</td>\n",
       "      <td>0.930</td>\n",
       "      <td>310.000</td>\n",
       "      <td>584.000</td>\n",
       "      <td>7243.000</td>\n",
       "    </tr>\n",
       "    <tr>\n",
       "      <th>crp</th>\n",
       "      <td>1383</td>\n",
       "      <td>22.875</td>\n",
       "      <td>2986</td>\n",
       "      <td>0</td>\n",
       "      <td>float64</td>\n",
       "      <td>3.137</td>\n",
       "      <td>4663.000</td>\n",
       "      <td>36.696</td>\n",
       "      <td>71.738</td>\n",
       "      <td>0.015</td>\n",
       "      <td>1.911</td>\n",
       "      <td>7.800</td>\n",
       "      <td>28.100</td>\n",
       "      <td>708.300</td>\n",
       "    </tr>\n",
       "    <tr>\n",
       "      <th>icu</th>\n",
       "      <td>0</td>\n",
       "      <td>0.000</td>\n",
       "      <td>2</td>\n",
       "      <td>3290</td>\n",
       "      <td>int64</td>\n",
       "      <td>0.177</td>\n",
       "      <td>6046.000</td>\n",
       "      <td>0.456</td>\n",
       "      <td>0.498</td>\n",
       "      <td>0.000</td>\n",
       "      <td>0.000</td>\n",
       "      <td>0.000</td>\n",
       "      <td>1.000</td>\n",
       "      <td>1.000</td>\n",
       "    </tr>\n",
       "    <tr>\n",
       "      <th>region</th>\n",
       "      <td>0</td>\n",
       "      <td>0.000</td>\n",
       "      <td>5</td>\n",
       "      <td>0</td>\n",
       "      <td>object</td>\n",
       "      <td>NaN</td>\n",
       "      <td>NaN</td>\n",
       "      <td>NaN</td>\n",
       "      <td>NaN</td>\n",
       "      <td>NaN</td>\n",
       "      <td>NaN</td>\n",
       "      <td>NaN</td>\n",
       "      <td>NaN</td>\n",
       "      <td>NaN</td>\n",
       "    </tr>\n",
       "    <tr>\n",
       "      <th>state</th>\n",
       "      <td>0</td>\n",
       "      <td>0.000</td>\n",
       "      <td>10</td>\n",
       "      <td>0</td>\n",
       "      <td>object</td>\n",
       "      <td>NaN</td>\n",
       "      <td>NaN</td>\n",
       "      <td>NaN</td>\n",
       "      <td>NaN</td>\n",
       "      <td>NaN</td>\n",
       "      <td>NaN</td>\n",
       "      <td>NaN</td>\n",
       "      <td>NaN</td>\n",
       "      <td>NaN</td>\n",
       "    </tr>\n",
       "  </tbody>\n",
       "</table>\n",
       "</div>"
      ],
      "text/plain": [
       "                 Missing Values  % missing of Total Values  # Unique Values  \\\n",
       "city_hospital                 0                      0.000               14   \n",
       "age                           0                      0.000               98   \n",
       "male                          0                      0.000                2   \n",
       "heart_rate                  809                     13.381              183   \n",
       "resp_rate                  1457                     24.099               69   \n",
       "sys_press                  1336                     22.097              215   \n",
       "dias_press                 1325                     21.915              150   \n",
       "mean_press                 1366                     22.593             1452   \n",
       "temp                       1173                     19.401              128   \n",
       "hemoglobin                 1904                     31.492              226   \n",
       "platelets                   744                     12.306             1036   \n",
       "hematocrit                 2350                     38.869              475   \n",
       "red_cells_count            2684                     44.393              578   \n",
       "hcm                        1191                     19.699              689   \n",
       "rdw                        1192                     19.716              227   \n",
       "mcv                        1185                     19.600             1029   \n",
       "leukocytes                  741                     12.256             2268   \n",
       "neutrophil                 2074                     34.304             2403   \n",
       "lymphocytes                1404                     23.222             1865   \n",
       "basophils                  1120                     18.525              252   \n",
       "eosinophils                2367                     39.150              495   \n",
       "monocytes                   841                     13.910             1450   \n",
       "crp                        1383                     22.875             2986   \n",
       "icu                           0                      0.000                2   \n",
       "region                        0                      0.000                5   \n",
       "state                         0                      0.000               10   \n",
       "\n",
       "                 # Values as [0] datatype   skew    count       mean  \\\n",
       "city_hospital                  0   object    NaN      NaN        NaN   \n",
       "age                            0  float64 -0.060 6046.000     57.521   \n",
       "male                        2790  float64 -0.155 6046.000      0.539   \n",
       "heart_rate                     0  float64  0.611 5237.000     85.689   \n",
       "resp_rate                      1  float64  2.897 4589.000     21.881   \n",
       "sys_press                      0  float64 -0.279 4710.000    124.054   \n",
       "dias_press                     0  float64 -0.361 4721.000     74.608   \n",
       "mean_press                   326  float64 -1.751 4680.000     83.731   \n",
       "temp                           1  float64 62.972 4873.000     36.430   \n",
       "hemoglobin                     0  float64 -0.628 4142.000     12.752   \n",
       "platelets                      0  float64  0.395 5302.000 235701.617   \n",
       "hematocrit                     0  float64 -0.539 3696.000     38.436   \n",
       "red_cells_count                0  float64 -0.274 3362.000      3.915   \n",
       "hcm                            0  float64  3.528 4855.000     29.095   \n",
       "rdw                            0  float64 11.869 4854.000     13.837   \n",
       "mcv                            0  float64  0.227 4861.000     87.665   \n",
       "leukocytes                     0  float64 20.605 5305.000   7035.747   \n",
       "neutrophil                     3  float64  1.830 3972.000   6143.968   \n",
       "lymphocytes                    5  float64 15.570 4642.000   1031.263   \n",
       "basophils                   2087  float64  5.342 4926.000      7.509   \n",
       "eosinophils                 1487  float64 14.977 3679.000     43.517   \n",
       "monocytes                     14  float64  2.534 5205.000    354.765   \n",
       "crp                            0  float64  3.137 4663.000     36.696   \n",
       "icu                         3290    int64  0.177 6046.000      0.456   \n",
       "region                         0   object    NaN      NaN        NaN   \n",
       "state                          0   object    NaN      NaN        NaN   \n",
       "\n",
       "                       std    min        25%        50%        75%        max  \n",
       "city_hospital          NaN    NaN        NaN        NaN        NaN        NaN  \n",
       "age                 17.869 18.000     44.000     58.000     71.000    105.000  \n",
       "male                 0.499  0.000      0.000      1.000      1.000      1.000  \n",
       "heart_rate          17.209 13.000     75.000     85.000     96.000    233.000  \n",
       "resp_rate            6.380  0.000     18.000     20.000     24.000    108.000  \n",
       "sys_press           22.791 10.000    110.000    122.000    138.000    242.000  \n",
       "dias_press          14.626  6.000     67.000     76.000     81.000    141.000  \n",
       "mean_press          28.475  0.000     78.981     90.000     98.648    166.000  \n",
       "temp                 4.976  0.000     36.000     36.300     36.800    372.000  \n",
       "hemoglobin           2.189  1.400     11.692     13.000     14.200     30.600  \n",
       "platelets       143771.202  7.000 148000.000 217000.000 321750.000 992000.000  \n",
       "hematocrit           6.402  1.000     35.100     39.200     42.500     77.000  \n",
       "red_cells_count      1.168  0.290      3.250      4.210      4.717     14.500  \n",
       "hcm                  2.939 10.000     27.800     29.200     30.500     88.100  \n",
       "rdw                  2.407  3.000     12.700     13.500     14.400     86.100  \n",
       "mcv                  7.667  8.150     83.700     87.600     91.600    201.400  \n",
       "leukocytes        9241.209  0.760   3680.000   6210.000   9233.000 365920.000  \n",
       "neutrophil        4259.737  0.000   3180.000   5200.000   8060.000  47636.000  \n",
       "lymphocytes       1028.587  0.000    529.250    900.000   1378.250  42120.000  \n",
       "basophils           18.532  0.000      0.000      0.010     10.000    259.200  \n",
       "eosinophils        127.479  0.000      0.000      1.000     46.000   4450.000  \n",
       "monocytes          375.844  0.000      0.930    310.000    584.000   7243.000  \n",
       "crp                 71.738  0.015      1.911      7.800     28.100    708.300  \n",
       "icu                  0.498  0.000      0.000      0.000      1.000      1.000  \n",
       "region                 NaN    NaN        NaN        NaN        NaN        NaN  \n",
       "state                  NaN    NaN        NaN        NaN        NaN        NaN  "
      ]
     },
     "execution_count": 12,
     "metadata": {},
     "output_type": "execute_result"
    }
   ],
   "source": [
    "column_summaries(df_all_hospitals)"
   ]
  },
  {
   "cell_type": "code",
   "execution_count": 13,
   "metadata": {},
   "outputs": [],
   "source": [
    "import ipywidgets as widgets\n",
    "from IPython.display import clear_output"
   ]
  },
  {
   "cell_type": "code",
   "execution_count": 14,
   "metadata": {},
   "outputs": [
    {
     "data": {
      "text/plain": [
       "city_hospital\n",
       "HC_USP                        1500\n",
       "HOSPPORTUGUES_SALVADOR        1359\n",
       "CEARA_UNIMED                   845\n",
       "HRL_2021_02                    539\n",
       "HMV_POA_02                     456\n",
       "RIO_DE_JANEIRO_UNIMED          449\n",
       "HOSPSANTAJULIA_MANAUS          247\n",
       "HOSPSANTACATARINABLUMENAU      148\n",
       "HOSPSAOFRANCISCO_MOGIGUACU     124\n",
       "PERNAMBUCO_FULL                112\n",
       "PELOTAS                         91\n",
       "CEARA_HUWC                      73\n",
       "HEVV                            56\n",
       "AMAZONAS_HUGV                   47\n",
       "Name: count, dtype: int64"
      ]
     },
     "execution_count": 14,
     "metadata": {},
     "output_type": "execute_result"
    }
   ],
   "source": [
    "df_all_hospitals.city_hospital.value_counts()"
   ]
  },
  {
   "cell_type": "code",
   "execution_count": 15,
   "metadata": {},
   "outputs": [],
   "source": [
    "# Hospitals excluded for ICU and MV analyses: 'HOSPSANTACASASP_FULL', 'HOSPGRUPOSANTA', 'HUTRIN_2021_02', 'RIO_DE_JANEIRO_HUCFF'\n",
    "dropdown_hospital = widgets.Dropdown(options = ['Choose a hospital ...'\n",
    "                                                ,'HC_USP'                     #SP\n",
    "                                                ,'HOSPPORTUGUES_SALVADOR'     #BA\n",
    "                                                ,'CEARA_UNIMED'               #CE\n",
    "                                                ,'HRL_2021_02'                #GO - Luiziania\n",
    "                                                ,'HMV_POA_02'                 #RS - Moinhos de Vento\n",
    "                                                ,'RIO_DE_JANEIRO_UNIMED'      #RJ\n",
    "                                                ,'HOSPSANTAJULIA_MANAUS'      #AM\n",
    "                                                ,'HOSPSANTACATARINABLUMENAU'  #SC\n",
    "                                                ,'HOSPSAOFRANCISCO_MOGIGUACU' #SP\n",
    "                                                ,'PERNAMBUCO_FULL'            #PE\n",
    "                                                ,'PELOTAS'                    #RS\n",
    "                                                ,'CEARA_HUWC'                 #CE\n",
    "                                                ,'HEVV'                       #ES - Vila Velha\n",
    "                                                ,'AMAZONAS_HUGV'              #AM\n",
    "#                                                 ,'GHC_02'                     #RS \n",
    "                                               ])"
   ]
  },
  {
   "cell_type": "code",
   "execution_count": 16,
   "metadata": {},
   "outputs": [],
   "source": [
    "specific_hospital = 'Choose a hospital'\n",
    "df_iacov_model_lean = df_all_hospitals\n",
    "\n",
    "def dropdown_hospital_eventhandler(change):\n",
    "    global specific_hospital \n",
    "    specific_hospital = change.new\n",
    "    dropdown_hospital.observe(dropdown_hospital_eventhandler, names='value')"
   ]
  },
  {
   "cell_type": "code",
   "execution_count": 17,
   "metadata": {},
   "outputs": [],
   "source": [
    "dropdown_hospital.observe(dropdown_hospital_eventhandler, names='value')"
   ]
  },
  {
   "cell_type": "markdown",
   "metadata": {},
   "source": [
    "**Select Hospital to train**"
   ]
  },
  {
   "cell_type": "code",
   "execution_count": 18,
   "metadata": {},
   "outputs": [],
   "source": [
    "# !pip install ipywidgets"
   ]
  },
  {
   "cell_type": "code",
   "execution_count": 19,
   "metadata": {},
   "outputs": [],
   "source": [
    "# !jupyter nbextension enable --py widgetsnbextension"
   ]
  },
  {
   "cell_type": "code",
   "execution_count": 20,
   "metadata": {},
   "outputs": [],
   "source": [
    "# !jupyter labextension install @jupyter-widgets/jupyterlab-manager"
   ]
  },
  {
   "cell_type": "code",
   "execution_count": 23,
   "metadata": {},
   "outputs": [
    {
     "data": {
      "application/vnd.jupyter.widget-view+json": {
       "model_id": "c76e86b80ca34db18fd1d09e1762c415",
       "version_major": 2,
       "version_minor": 0
      },
      "text/plain": [
       "Dropdown(index=1, options=('Choose a hospital ...', 'HC_USP', 'HOSPPORTUGUES_SALVADOR', 'CEARA_UNIMED', 'HRL_2…"
      ]
     },
     "metadata": {},
     "output_type": "display_data"
    }
   ],
   "source": [
    "display(dropdown_hospital)"
   ]
  },
  {
   "cell_type": "markdown",
   "metadata": {},
   "source": [
    "**Filter all hospitals except the selected above**"
   ]
  },
  {
   "cell_type": "code",
   "execution_count": 24,
   "metadata": {},
   "outputs": [
    {
     "data": {
      "text/plain": [
       "region\n",
       "NORDESTE       2389\n",
       "SUDESTE        2129\n",
       "SUL             695\n",
       "CENTROOESTE     539\n",
       "NORTE           294\n",
       "Name: count, dtype: int64"
      ]
     },
     "execution_count": 24,
     "metadata": {},
     "output_type": "execute_result"
    }
   ],
   "source": [
    "df_all_hospitals.region.value_counts()"
   ]
  },
  {
   "cell_type": "markdown",
   "metadata": {},
   "source": [
    "**Split train/test of specific Hospital**"
   ]
  },
  {
   "cell_type": "code",
   "execution_count": 25,
   "metadata": {},
   "outputs": [],
   "source": [
    "from sklearn.model_selection import train_test_split"
   ]
  },
  {
   "cell_type": "code",
   "execution_count": 26,
   "metadata": {},
   "outputs": [
    {
     "data": {
      "text/plain": [
       "(1500, 26)"
      ]
     },
     "execution_count": 26,
     "metadata": {},
     "output_type": "execute_result"
    }
   ],
   "source": [
    "#Filter the specific hospital\n",
    "df_iacov_model_lean_specific = df_all_hospitals[df_all_hospitals.city_hospital == specific_hospital]\n",
    "df_iacov_model_lean_specific.shape"
   ]
  },
  {
   "cell_type": "code",
   "execution_count": 27,
   "metadata": {},
   "outputs": [
    {
     "data": {
      "text/plain": [
       "(1500, 25)"
      ]
     },
     "execution_count": 27,
     "metadata": {},
     "output_type": "execute_result"
    }
   ],
   "source": [
    "X_specific = df_iacov_model_lean_specific.drop(['icu'],axis=1)\n",
    "X_specific.shape"
   ]
  },
  {
   "cell_type": "code",
   "execution_count": 28,
   "metadata": {},
   "outputs": [
    {
     "data": {
      "text/plain": [
       "(1500,)"
      ]
     },
     "execution_count": 28,
     "metadata": {},
     "output_type": "execute_result"
    }
   ],
   "source": [
    "y_specific = df_iacov_model_lean_specific['icu']\n",
    "y_specific.shape"
   ]
  },
  {
   "cell_type": "code",
   "execution_count": 29,
   "metadata": {},
   "outputs": [],
   "source": [
    "X_train_specific, X_test_specific, y_train_specific, y_test_specific = train_test_split(X_specific, y_specific, test_size=0.30, random_state=42, stratify=y_specific)"
   ]
  },
  {
   "cell_type": "code",
   "execution_count": 30,
   "metadata": {},
   "outputs": [
    {
     "data": {
      "text/plain": [
       "(1050, 25)"
      ]
     },
     "execution_count": 30,
     "metadata": {},
     "output_type": "execute_result"
    }
   ],
   "source": [
    "X_train_specific.shape"
   ]
  },
  {
   "cell_type": "code",
   "execution_count": 31,
   "metadata": {},
   "outputs": [
    {
     "data": {
      "text/plain": [
       "(450, 25)"
      ]
     },
     "execution_count": 31,
     "metadata": {},
     "output_type": "execute_result"
    }
   ],
   "source": [
    "X_test_specific.shape"
   ]
  },
  {
   "cell_type": "markdown",
   "metadata": {},
   "source": [
    "**Filter same absolute number of specific hospital from all hospitals**\n",
    "\n",
    "PS: Also removed GHC hospital due to very low positive cases"
   ]
  },
  {
   "cell_type": "code",
   "execution_count": 32,
   "metadata": {},
   "outputs": [
    {
     "data": {
      "text/plain": [
       "(1050, 26)"
      ]
     },
     "execution_count": 32,
     "metadata": {},
     "output_type": "execute_result"
    }
   ],
   "source": [
    "from random import sample\n",
    "\n",
    "#Sample all hospitals except specific hospital\n",
    "df_all_hospitals_except_specific = df_all_hospitals[ (~df_all_hospitals.index.isin(X_specific.index)) & \n",
    "                                                     (df_all_hospitals.city_hospital != 'GHC_02')]\n",
    "\n",
    "#Then, sample all hospital data with same absolute number as specific train data\n",
    "df_iacov_model_lean = df_all_hospitals_except_specific.sample(X_train_specific.shape[0], random_state=42)\n",
    "df_iacov_model_lean.shape"
   ]
  },
  {
   "cell_type": "code",
   "execution_count": 33,
   "metadata": {},
   "outputs": [
    {
     "data": {
      "text/plain": [
       "city_hospital\n",
       "HOSPPORTUGUES_SALVADOR        325\n",
       "CEARA_UNIMED                  206\n",
       "HMV_POA_02                    111\n",
       "HRL_2021_02                   108\n",
       "RIO_DE_JANEIRO_UNIMED          99\n",
       "HOSPSANTAJULIA_MANAUS          55\n",
       "HOSPSANTACATARINABLUMENAU      37\n",
       "PERNAMBUCO_FULL                29\n",
       "HOSPSAOFRANCISCO_MOGIGUACU     26\n",
       "PELOTAS                        18\n",
       "CEARA_HUWC                     14\n",
       "AMAZONAS_HUGV                  12\n",
       "HEVV                           10\n",
       "Name: count, dtype: int64"
      ]
     },
     "execution_count": 33,
     "metadata": {},
     "output_type": "execute_result"
    }
   ],
   "source": [
    "#check data without specific\n",
    "df_iacov_model_lean.city_hospital.value_counts()"
   ]
  },
  {
   "cell_type": "markdown",
   "metadata": {},
   "source": [
    "**Append 70% data of specific hospital**"
   ]
  },
  {
   "cell_type": "code",
   "execution_count": 34,
   "metadata": {},
   "outputs": [
    {
     "data": {
      "text/plain": [
       "(2100, 26)"
      ]
     },
     "execution_count": 34,
     "metadata": {},
     "output_type": "execute_result"
    }
   ],
   "source": [
    "df_iacov_model_lean = pd.concat([df_iacov_model_lean, X_train_specific], axis=0)\n",
    "df_iacov_model_lean.shape"
   ]
  },
  {
   "cell_type": "code",
   "execution_count": 35,
   "metadata": {},
   "outputs": [
    {
     "data": {
      "text/plain": [
       "city_hospital\n",
       "HC_USP                        1050\n",
       "HOSPPORTUGUES_SALVADOR         325\n",
       "CEARA_UNIMED                   206\n",
       "HMV_POA_02                     111\n",
       "HRL_2021_02                    108\n",
       "RIO_DE_JANEIRO_UNIMED           99\n",
       "HOSPSANTAJULIA_MANAUS           55\n",
       "HOSPSANTACATARINABLUMENAU       37\n",
       "PERNAMBUCO_FULL                 29\n",
       "HOSPSAOFRANCISCO_MOGIGUACU      26\n",
       "PELOTAS                         18\n",
       "CEARA_HUWC                      14\n",
       "AMAZONAS_HUGV                   12\n",
       "HEVV                            10\n",
       "Name: count, dtype: int64"
      ]
     },
     "execution_count": 35,
     "metadata": {},
     "output_type": "execute_result"
    }
   ],
   "source": [
    "#Check after apending data of specific hospital\n",
    "df_iacov_model_lean.city_hospital.value_counts()"
   ]
  },
  {
   "cell_type": "code",
   "execution_count": 36,
   "metadata": {},
   "outputs": [
    {
     "name": "stdout",
     "output_type": "stream",
     "text": [
      "Specific: HC_USP\n",
      "(training - all regions - same absolute number) dataset: (2100, 26)\n",
      "\n",
      "(training - specific) dataset: (1050, 25)\n",
      "\n",
      "(test - specific) dataset: (450, 25)\n"
     ]
    }
   ],
   "source": [
    "print(\"Specific: \" + specific_hospital )\n",
    "print(\"(training - all regions - same absolute number) dataset: \" + str(df_iacov_model_lean.shape))\n",
    "\n",
    "print(\"\\n(training - specific) dataset: {}\".format(X_train_specific.shape))\n",
    "\n",
    "print(\"\\n(test - specific) dataset: {}\".format(X_test_specific.shape))"
   ]
  },
  {
   "cell_type": "markdown",
   "metadata": {},
   "source": [
    "### 2.1.3) Dropping unused variables (All hospitals)"
   ]
  },
  {
   "cell_type": "code",
   "execution_count": 37,
   "metadata": {},
   "outputs": [
    {
     "data": {
      "text/plain": [
       "(2100, 25)"
      ]
     },
     "execution_count": 37,
     "metadata": {},
     "output_type": "execute_result"
    }
   ],
   "source": [
    "df_iacov_model_lean = df_iacov_model_lean.drop(['city_hospital'],axis=1)\n",
    "df_iacov_model_lean.shape"
   ]
  },
  {
   "cell_type": "code",
   "execution_count": 38,
   "metadata": {},
   "outputs": [
    {
     "data": {
      "text/plain": [
       "icu\n",
       "0.000    1698\n",
       "1.000     402\n",
       "Name: count, dtype: int64"
      ]
     },
     "execution_count": 38,
     "metadata": {},
     "output_type": "execute_result"
    }
   ],
   "source": [
    "#Preencho NAs com 0 \n",
    "df_iacov_model_lean['icu'] = df_iacov_model_lean['icu'].fillna(0)\n",
    "df_iacov_model_lean.icu.value_counts()"
   ]
  },
  {
   "cell_type": "code",
   "execution_count": 39,
   "metadata": {},
   "outputs": [
    {
     "data": {
      "text/plain": [
       "icu\n",
       "0.000   80.857\n",
       "1.000   19.143\n",
       "Name: count, dtype: float64"
      ]
     },
     "execution_count": 39,
     "metadata": {},
     "output_type": "execute_result"
    }
   ],
   "source": [
    "(df_iacov_model_lean.icu.value_counts()/len(df_iacov_model_lean.icu))*100"
   ]
  },
  {
   "cell_type": "markdown",
   "metadata": {},
   "source": [
    "### From now on the outcome will call CLASS"
   ]
  },
  {
   "cell_type": "code",
   "execution_count": 40,
   "metadata": {},
   "outputs": [],
   "source": [
    "df_iacov_model_lean['class'] = df_iacov_model_lean['icu'].astype('int')\n",
    "df_iacov_model_lean = df_iacov_model_lean.drop(['icu'],axis=1)"
   ]
  },
  {
   "cell_type": "markdown",
   "metadata": {},
   "source": [
    "### 2.1.4) Recalculating null mean_press"
   ]
  },
  {
   "cell_type": "code",
   "execution_count": 41,
   "metadata": {},
   "outputs": [],
   "source": [
    "def isNullMeanPressure(row):\n",
    "\n",
    "    if pd.isnull(row['mean_press']):\n",
    "    \n",
    "        if pd.notnull(row['sys_press']) and pd.notnull(row['dias_press']):\n",
    "            return (row['sys_press']+row['dias_press'])/2\n",
    "        else:\n",
    "            return row['mean_press']\n",
    "    else:\n",
    "        return row['mean_press']"
   ]
  },
  {
   "cell_type": "code",
   "execution_count": 42,
   "metadata": {},
   "outputs": [
    {
     "data": {
      "text/html": [
       "<div>\n",
       "<style scoped>\n",
       "    .dataframe tbody tr th:only-of-type {\n",
       "        vertical-align: middle;\n",
       "    }\n",
       "\n",
       "    .dataframe tbody tr th {\n",
       "        vertical-align: top;\n",
       "    }\n",
       "\n",
       "    .dataframe thead th {\n",
       "        text-align: right;\n",
       "    }\n",
       "</style>\n",
       "<table border=\"1\" class=\"dataframe\">\n",
       "  <thead>\n",
       "    <tr style=\"text-align: right;\">\n",
       "      <th></th>\n",
       "      <th>Missing Values</th>\n",
       "      <th>% missing of Total Values</th>\n",
       "      <th># Unique Values</th>\n",
       "      <th># Values as [0]</th>\n",
       "      <th>datatype</th>\n",
       "      <th>skew</th>\n",
       "      <th>count</th>\n",
       "      <th>mean</th>\n",
       "      <th>std</th>\n",
       "      <th>min</th>\n",
       "      <th>25%</th>\n",
       "      <th>50%</th>\n",
       "      <th>75%</th>\n",
       "      <th>max</th>\n",
       "    </tr>\n",
       "  </thead>\n",
       "  <tbody>\n",
       "    <tr>\n",
       "      <th>age</th>\n",
       "      <td>0</td>\n",
       "      <td>0.000</td>\n",
       "      <td>87</td>\n",
       "      <td>0</td>\n",
       "      <td>float64</td>\n",
       "      <td>-0.125</td>\n",
       "      <td>2100.000</td>\n",
       "      <td>58.333</td>\n",
       "      <td>17.253</td>\n",
       "      <td>18.000</td>\n",
       "      <td>45.000</td>\n",
       "      <td>59.000</td>\n",
       "      <td>71.000</td>\n",
       "      <td>105.000</td>\n",
       "    </tr>\n",
       "    <tr>\n",
       "      <th>male</th>\n",
       "      <td>0</td>\n",
       "      <td>0.000</td>\n",
       "      <td>2</td>\n",
       "      <td>969</td>\n",
       "      <td>float64</td>\n",
       "      <td>-0.155</td>\n",
       "      <td>2100.000</td>\n",
       "      <td>0.539</td>\n",
       "      <td>0.499</td>\n",
       "      <td>0.000</td>\n",
       "      <td>0.000</td>\n",
       "      <td>1.000</td>\n",
       "      <td>1.000</td>\n",
       "      <td>1.000</td>\n",
       "    </tr>\n",
       "    <tr>\n",
       "      <th>heart_rate</th>\n",
       "      <td>201</td>\n",
       "      <td>9.571</td>\n",
       "      <td>135</td>\n",
       "      <td>0</td>\n",
       "      <td>float64</td>\n",
       "      <td>0.615</td>\n",
       "      <td>1899.000</td>\n",
       "      <td>86.481</td>\n",
       "      <td>18.269</td>\n",
       "      <td>13.000</td>\n",
       "      <td>74.000</td>\n",
       "      <td>85.000</td>\n",
       "      <td>97.500</td>\n",
       "      <td>191.000</td>\n",
       "    </tr>\n",
       "    <tr>\n",
       "      <th>resp_rate</th>\n",
       "      <td>356</td>\n",
       "      <td>16.952</td>\n",
       "      <td>51</td>\n",
       "      <td>1</td>\n",
       "      <td>float64</td>\n",
       "      <td>2.125</td>\n",
       "      <td>1744.000</td>\n",
       "      <td>22.790</td>\n",
       "      <td>6.539</td>\n",
       "      <td>0.000</td>\n",
       "      <td>18.000</td>\n",
       "      <td>21.000</td>\n",
       "      <td>26.000</td>\n",
       "      <td>97.000</td>\n",
       "    </tr>\n",
       "    <tr>\n",
       "      <th>sys_press</th>\n",
       "      <td>320</td>\n",
       "      <td>15.238</td>\n",
       "      <td>144</td>\n",
       "      <td>0</td>\n",
       "      <td>float64</td>\n",
       "      <td>-0.348</td>\n",
       "      <td>1780.000</td>\n",
       "      <td>122.326</td>\n",
       "      <td>23.022</td>\n",
       "      <td>10.000</td>\n",
       "      <td>110.000</td>\n",
       "      <td>120.000</td>\n",
       "      <td>136.000</td>\n",
       "      <td>214.000</td>\n",
       "    </tr>\n",
       "    <tr>\n",
       "      <th>dias_press</th>\n",
       "      <td>317</td>\n",
       "      <td>15.095</td>\n",
       "      <td>119</td>\n",
       "      <td>0</td>\n",
       "      <td>float64</td>\n",
       "      <td>-0.201</td>\n",
       "      <td>1783.000</td>\n",
       "      <td>73.248</td>\n",
       "      <td>14.905</td>\n",
       "      <td>6.000</td>\n",
       "      <td>64.000</td>\n",
       "      <td>73.000</td>\n",
       "      <td>80.000</td>\n",
       "      <td>131.000</td>\n",
       "    </tr>\n",
       "    <tr>\n",
       "      <th>mean_press</th>\n",
       "      <td>327</td>\n",
       "      <td>15.571</td>\n",
       "      <td>895</td>\n",
       "      <td>77</td>\n",
       "      <td>float64</td>\n",
       "      <td>-1.852</td>\n",
       "      <td>1773.000</td>\n",
       "      <td>85.150</td>\n",
       "      <td>24.399</td>\n",
       "      <td>0.000</td>\n",
       "      <td>77.654</td>\n",
       "      <td>89.000</td>\n",
       "      <td>98.000</td>\n",
       "      <td>153.000</td>\n",
       "    </tr>\n",
       "    <tr>\n",
       "      <th>temp</th>\n",
       "      <td>283</td>\n",
       "      <td>13.476</td>\n",
       "      <td>83</td>\n",
       "      <td>1</td>\n",
       "      <td>float64</td>\n",
       "      <td>41.121</td>\n",
       "      <td>1817.000</td>\n",
       "      <td>36.541</td>\n",
       "      <td>7.966</td>\n",
       "      <td>0.000</td>\n",
       "      <td>35.900</td>\n",
       "      <td>36.300</td>\n",
       "      <td>36.900</td>\n",
       "      <td>372.000</td>\n",
       "    </tr>\n",
       "    <tr>\n",
       "      <th>hemoglobin</th>\n",
       "      <td>1030</td>\n",
       "      <td>49.048</td>\n",
       "      <td>147</td>\n",
       "      <td>0</td>\n",
       "      <td>float64</td>\n",
       "      <td>-0.663</td>\n",
       "      <td>1070.000</td>\n",
       "      <td>12.648</td>\n",
       "      <td>2.208</td>\n",
       "      <td>3.300</td>\n",
       "      <td>11.400</td>\n",
       "      <td>13.000</td>\n",
       "      <td>14.075</td>\n",
       "      <td>19.000</td>\n",
       "    </tr>\n",
       "    <tr>\n",
       "      <th>platelets</th>\n",
       "      <td>201</td>\n",
       "      <td>9.571</td>\n",
       "      <td>613</td>\n",
       "      <td>0</td>\n",
       "      <td>float64</td>\n",
       "      <td>0.506</td>\n",
       "      <td>1899.000</td>\n",
       "      <td>239390.796</td>\n",
       "      <td>130429.151</td>\n",
       "      <td>25.000</td>\n",
       "      <td>157000.000</td>\n",
       "      <td>220000.000</td>\n",
       "      <td>309500.000</td>\n",
       "      <td>826600.000</td>\n",
       "    </tr>\n",
       "    <tr>\n",
       "      <th>hematocrit</th>\n",
       "      <td>1128</td>\n",
       "      <td>53.714</td>\n",
       "      <td>294</td>\n",
       "      <td>0</td>\n",
       "      <td>float64</td>\n",
       "      <td>-0.845</td>\n",
       "      <td>972.000</td>\n",
       "      <td>38.079</td>\n",
       "      <td>6.599</td>\n",
       "      <td>1.000</td>\n",
       "      <td>34.775</td>\n",
       "      <td>39.000</td>\n",
       "      <td>42.200</td>\n",
       "      <td>57.000</td>\n",
       "    </tr>\n",
       "    <tr>\n",
       "      <th>red_cells_count</th>\n",
       "      <td>1314</td>\n",
       "      <td>62.571</td>\n",
       "      <td>356</td>\n",
       "      <td>0</td>\n",
       "      <td>float64</td>\n",
       "      <td>0.059</td>\n",
       "      <td>786.000</td>\n",
       "      <td>3.870</td>\n",
       "      <td>1.207</td>\n",
       "      <td>0.290</td>\n",
       "      <td>3.200</td>\n",
       "      <td>4.165</td>\n",
       "      <td>4.660</td>\n",
       "      <td>13.900</td>\n",
       "    </tr>\n",
       "    <tr>\n",
       "      <th>hcm</th>\n",
       "      <td>318</td>\n",
       "      <td>15.143</td>\n",
       "      <td>291</td>\n",
       "      <td>0</td>\n",
       "      <td>float64</td>\n",
       "      <td>-0.793</td>\n",
       "      <td>1782.000</td>\n",
       "      <td>28.912</td>\n",
       "      <td>2.519</td>\n",
       "      <td>13.100</td>\n",
       "      <td>27.600</td>\n",
       "      <td>29.000</td>\n",
       "      <td>30.400</td>\n",
       "      <td>42.820</td>\n",
       "    </tr>\n",
       "    <tr>\n",
       "      <th>rdw</th>\n",
       "      <td>317</td>\n",
       "      <td>15.095</td>\n",
       "      <td>153</td>\n",
       "      <td>0</td>\n",
       "      <td>float64</td>\n",
       "      <td>2.510</td>\n",
       "      <td>1783.000</td>\n",
       "      <td>13.998</td>\n",
       "      <td>2.113</td>\n",
       "      <td>3.000</td>\n",
       "      <td>12.800</td>\n",
       "      <td>13.500</td>\n",
       "      <td>14.600</td>\n",
       "      <td>32.300</td>\n",
       "    </tr>\n",
       "    <tr>\n",
       "      <th>mcv</th>\n",
       "      <td>315</td>\n",
       "      <td>15.000</td>\n",
       "      <td>461</td>\n",
       "      <td>0</td>\n",
       "      <td>float64</td>\n",
       "      <td>-0.258</td>\n",
       "      <td>1785.000</td>\n",
       "      <td>86.747</td>\n",
       "      <td>6.534</td>\n",
       "      <td>56.900</td>\n",
       "      <td>83.100</td>\n",
       "      <td>86.800</td>\n",
       "      <td>90.800</td>\n",
       "      <td>111.300</td>\n",
       "    </tr>\n",
       "    <tr>\n",
       "      <th>leukocytes</th>\n",
       "      <td>201</td>\n",
       "      <td>9.571</td>\n",
       "      <td>1189</td>\n",
       "      <td>0</td>\n",
       "      <td>float64</td>\n",
       "      <td>20.551</td>\n",
       "      <td>1899.000</td>\n",
       "      <td>7959.917</td>\n",
       "      <td>8287.152</td>\n",
       "      <td>1.400</td>\n",
       "      <td>4590.000</td>\n",
       "      <td>7140.000</td>\n",
       "      <td>10380.000</td>\n",
       "      <td>287000.000</td>\n",
       "    </tr>\n",
       "    <tr>\n",
       "      <th>neutrophil</th>\n",
       "      <td>506</td>\n",
       "      <td>24.095</td>\n",
       "      <td>1132</td>\n",
       "      <td>1</td>\n",
       "      <td>float64</td>\n",
       "      <td>1.451</td>\n",
       "      <td>1594.000</td>\n",
       "      <td>6933.147</td>\n",
       "      <td>4486.316</td>\n",
       "      <td>0.000</td>\n",
       "      <td>3770.000</td>\n",
       "      <td>5932.000</td>\n",
       "      <td>8962.500</td>\n",
       "      <td>31830.000</td>\n",
       "    </tr>\n",
       "    <tr>\n",
       "      <th>lymphocytes</th>\n",
       "      <td>367</td>\n",
       "      <td>17.476</td>\n",
       "      <td>693</td>\n",
       "      <td>0</td>\n",
       "      <td>float64</td>\n",
       "      <td>20.943</td>\n",
       "      <td>1733.000</td>\n",
       "      <td>1036.192</td>\n",
       "      <td>1273.313</td>\n",
       "      <td>0.684</td>\n",
       "      <td>560.000</td>\n",
       "      <td>882.000</td>\n",
       "      <td>1321.000</td>\n",
       "      <td>42120.000</td>\n",
       "    </tr>\n",
       "    <tr>\n",
       "      <th>basophils</th>\n",
       "      <td>294</td>\n",
       "      <td>14.000</td>\n",
       "      <td>122</td>\n",
       "      <td>631</td>\n",
       "      <td>float64</td>\n",
       "      <td>8.466</td>\n",
       "      <td>1806.000</td>\n",
       "      <td>4.760</td>\n",
       "      <td>16.317</td>\n",
       "      <td>0.000</td>\n",
       "      <td>0.000</td>\n",
       "      <td>0.010</td>\n",
       "      <td>0.060</td>\n",
       "      <td>259.200</td>\n",
       "    </tr>\n",
       "    <tr>\n",
       "      <th>eosinophils</th>\n",
       "      <td>1244</td>\n",
       "      <td>59.238</td>\n",
       "      <td>228</td>\n",
       "      <td>325</td>\n",
       "      <td>float64</td>\n",
       "      <td>4.737</td>\n",
       "      <td>856.000</td>\n",
       "      <td>40.417</td>\n",
       "      <td>91.456</td>\n",
       "      <td>0.000</td>\n",
       "      <td>0.000</td>\n",
       "      <td>1.000</td>\n",
       "      <td>46.025</td>\n",
       "      <td>914.000</td>\n",
       "    </tr>\n",
       "    <tr>\n",
       "      <th>monocytes</th>\n",
       "      <td>230</td>\n",
       "      <td>10.952</td>\n",
       "      <td>683</td>\n",
       "      <td>4</td>\n",
       "      <td>float64</td>\n",
       "      <td>1.533</td>\n",
       "      <td>1870.000</td>\n",
       "      <td>227.536</td>\n",
       "      <td>326.212</td>\n",
       "      <td>0.000</td>\n",
       "      <td>0.400</td>\n",
       "      <td>1.030</td>\n",
       "      <td>429.750</td>\n",
       "      <td>2300.000</td>\n",
       "    </tr>\n",
       "    <tr>\n",
       "      <th>crp</th>\n",
       "      <td>465</td>\n",
       "      <td>22.143</td>\n",
       "      <td>1394</td>\n",
       "      <td>0</td>\n",
       "      <td>float64</td>\n",
       "      <td>3.949</td>\n",
       "      <td>1635.000</td>\n",
       "      <td>24.791</td>\n",
       "      <td>60.762</td>\n",
       "      <td>0.015</td>\n",
       "      <td>1.075</td>\n",
       "      <td>2.850</td>\n",
       "      <td>14.515</td>\n",
       "      <td>523.800</td>\n",
       "    </tr>\n",
       "    <tr>\n",
       "      <th>region</th>\n",
       "      <td>0</td>\n",
       "      <td>0.000</td>\n",
       "      <td>5</td>\n",
       "      <td>0</td>\n",
       "      <td>object</td>\n",
       "      <td>NaN</td>\n",
       "      <td>NaN</td>\n",
       "      <td>NaN</td>\n",
       "      <td>NaN</td>\n",
       "      <td>NaN</td>\n",
       "      <td>NaN</td>\n",
       "      <td>NaN</td>\n",
       "      <td>NaN</td>\n",
       "      <td>NaN</td>\n",
       "    </tr>\n",
       "    <tr>\n",
       "      <th>state</th>\n",
       "      <td>0</td>\n",
       "      <td>0.000</td>\n",
       "      <td>10</td>\n",
       "      <td>0</td>\n",
       "      <td>object</td>\n",
       "      <td>NaN</td>\n",
       "      <td>NaN</td>\n",
       "      <td>NaN</td>\n",
       "      <td>NaN</td>\n",
       "      <td>NaN</td>\n",
       "      <td>NaN</td>\n",
       "      <td>NaN</td>\n",
       "      <td>NaN</td>\n",
       "      <td>NaN</td>\n",
       "    </tr>\n",
       "    <tr>\n",
       "      <th>class</th>\n",
       "      <td>0</td>\n",
       "      <td>0.000</td>\n",
       "      <td>2</td>\n",
       "      <td>1698</td>\n",
       "      <td>int32</td>\n",
       "      <td>1.570</td>\n",
       "      <td>2100.000</td>\n",
       "      <td>0.191</td>\n",
       "      <td>0.394</td>\n",
       "      <td>0.000</td>\n",
       "      <td>0.000</td>\n",
       "      <td>0.000</td>\n",
       "      <td>0.000</td>\n",
       "      <td>1.000</td>\n",
       "    </tr>\n",
       "  </tbody>\n",
       "</table>\n",
       "</div>"
      ],
      "text/plain": [
       "                 Missing Values  % missing of Total Values  # Unique Values  \\\n",
       "age                           0                      0.000               87   \n",
       "male                          0                      0.000                2   \n",
       "heart_rate                  201                      9.571              135   \n",
       "resp_rate                   356                     16.952               51   \n",
       "sys_press                   320                     15.238              144   \n",
       "dias_press                  317                     15.095              119   \n",
       "mean_press                  327                     15.571              895   \n",
       "temp                        283                     13.476               83   \n",
       "hemoglobin                 1030                     49.048              147   \n",
       "platelets                   201                      9.571              613   \n",
       "hematocrit                 1128                     53.714              294   \n",
       "red_cells_count            1314                     62.571              356   \n",
       "hcm                         318                     15.143              291   \n",
       "rdw                         317                     15.095              153   \n",
       "mcv                         315                     15.000              461   \n",
       "leukocytes                  201                      9.571             1189   \n",
       "neutrophil                  506                     24.095             1132   \n",
       "lymphocytes                 367                     17.476              693   \n",
       "basophils                   294                     14.000              122   \n",
       "eosinophils                1244                     59.238              228   \n",
       "monocytes                   230                     10.952              683   \n",
       "crp                         465                     22.143             1394   \n",
       "region                        0                      0.000                5   \n",
       "state                         0                      0.000               10   \n",
       "class                         0                      0.000                2   \n",
       "\n",
       "                 # Values as [0] datatype   skew    count       mean  \\\n",
       "age                            0  float64 -0.125 2100.000     58.333   \n",
       "male                         969  float64 -0.155 2100.000      0.539   \n",
       "heart_rate                     0  float64  0.615 1899.000     86.481   \n",
       "resp_rate                      1  float64  2.125 1744.000     22.790   \n",
       "sys_press                      0  float64 -0.348 1780.000    122.326   \n",
       "dias_press                     0  float64 -0.201 1783.000     73.248   \n",
       "mean_press                    77  float64 -1.852 1773.000     85.150   \n",
       "temp                           1  float64 41.121 1817.000     36.541   \n",
       "hemoglobin                     0  float64 -0.663 1070.000     12.648   \n",
       "platelets                      0  float64  0.506 1899.000 239390.796   \n",
       "hematocrit                     0  float64 -0.845  972.000     38.079   \n",
       "red_cells_count                0  float64  0.059  786.000      3.870   \n",
       "hcm                            0  float64 -0.793 1782.000     28.912   \n",
       "rdw                            0  float64  2.510 1783.000     13.998   \n",
       "mcv                            0  float64 -0.258 1785.000     86.747   \n",
       "leukocytes                     0  float64 20.551 1899.000   7959.917   \n",
       "neutrophil                     1  float64  1.451 1594.000   6933.147   \n",
       "lymphocytes                    0  float64 20.943 1733.000   1036.192   \n",
       "basophils                    631  float64  8.466 1806.000      4.760   \n",
       "eosinophils                  325  float64  4.737  856.000     40.417   \n",
       "monocytes                      4  float64  1.533 1870.000    227.536   \n",
       "crp                            0  float64  3.949 1635.000     24.791   \n",
       "region                         0   object    NaN      NaN        NaN   \n",
       "state                          0   object    NaN      NaN        NaN   \n",
       "class                       1698    int32  1.570 2100.000      0.191   \n",
       "\n",
       "                       std    min        25%        50%        75%        max  \n",
       "age                 17.253 18.000     45.000     59.000     71.000    105.000  \n",
       "male                 0.499  0.000      0.000      1.000      1.000      1.000  \n",
       "heart_rate          18.269 13.000     74.000     85.000     97.500    191.000  \n",
       "resp_rate            6.539  0.000     18.000     21.000     26.000     97.000  \n",
       "sys_press           23.022 10.000    110.000    120.000    136.000    214.000  \n",
       "dias_press          14.905  6.000     64.000     73.000     80.000    131.000  \n",
       "mean_press          24.399  0.000     77.654     89.000     98.000    153.000  \n",
       "temp                 7.966  0.000     35.900     36.300     36.900    372.000  \n",
       "hemoglobin           2.208  3.300     11.400     13.000     14.075     19.000  \n",
       "platelets       130429.151 25.000 157000.000 220000.000 309500.000 826600.000  \n",
       "hematocrit           6.599  1.000     34.775     39.000     42.200     57.000  \n",
       "red_cells_count      1.207  0.290      3.200      4.165      4.660     13.900  \n",
       "hcm                  2.519 13.100     27.600     29.000     30.400     42.820  \n",
       "rdw                  2.113  3.000     12.800     13.500     14.600     32.300  \n",
       "mcv                  6.534 56.900     83.100     86.800     90.800    111.300  \n",
       "leukocytes        8287.152  1.400   4590.000   7140.000  10380.000 287000.000  \n",
       "neutrophil        4486.316  0.000   3770.000   5932.000   8962.500  31830.000  \n",
       "lymphocytes       1273.313  0.684    560.000    882.000   1321.000  42120.000  \n",
       "basophils           16.317  0.000      0.000      0.010      0.060    259.200  \n",
       "eosinophils         91.456  0.000      0.000      1.000     46.025    914.000  \n",
       "monocytes          326.212  0.000      0.400      1.030    429.750   2300.000  \n",
       "crp                 60.762  0.015      1.075      2.850     14.515    523.800  \n",
       "region                 NaN    NaN        NaN        NaN        NaN        NaN  \n",
       "state                  NaN    NaN        NaN        NaN        NaN        NaN  \n",
       "class                0.394  0.000      0.000      0.000      0.000      1.000  "
      ]
     },
     "execution_count": 42,
     "metadata": {},
     "output_type": "execute_result"
    }
   ],
   "source": [
    "#Check mean_press missing before recalculating\n",
    "column_summaries(df_iacov_model_lean)"
   ]
  },
  {
   "cell_type": "code",
   "execution_count": 43,
   "metadata": {},
   "outputs": [],
   "source": [
    "df_iacov_model_lean['mean_press'] = df_iacov_model_lean.apply(isNullMeanPressure, axis=1)"
   ]
  },
  {
   "cell_type": "code",
   "execution_count": 44,
   "metadata": {},
   "outputs": [],
   "source": [
    "#Check mean_press missing after recalculating\n",
    "#column_summaries(df_iacov_model_lean)"
   ]
  },
  {
   "cell_type": "code",
   "execution_count": 45,
   "metadata": {},
   "outputs": [],
   "source": [
    "X_test_specific['mean_press'] = X_test_specific.apply(isNullMeanPressure, axis=1)"
   ]
  },
  {
   "cell_type": "code",
   "execution_count": 46,
   "metadata": {},
   "outputs": [],
   "source": [
    "#column_summaries(X_test_specific)"
   ]
  },
  {
   "cell_type": "markdown",
   "metadata": {},
   "source": [
    "### Put X_test and y_test in separate files"
   ]
  },
  {
   "cell_type": "code",
   "execution_count": 47,
   "metadata": {},
   "outputs": [
    {
     "data": {
      "text/plain": [
       "'X_test_all_regions_abs_number_SUDESTE_SP_HC_USP.csv'"
      ]
     },
     "execution_count": 47,
     "metadata": {},
     "output_type": "execute_result"
    }
   ],
   "source": [
    "x_test_specific_name = 'X_test_all_regions_abs_number_' + X_test_specific.region.iloc[0]  \\\n",
    "                        + '_' + X_test_specific.state.iloc[0]  \\\n",
    "                        + '_' + X_test_specific.city_hospital.iloc[0] +  \".csv\"\n",
    "x_test_specific_name"
   ]
  },
  {
   "cell_type": "code",
   "execution_count": 48,
   "metadata": {},
   "outputs": [
    {
     "data": {
      "text/plain": [
       "'y_icu_all_regions_abs_number_SUDESTE_SP_HC_USP.csv'"
      ]
     },
     "execution_count": 48,
     "metadata": {},
     "output_type": "execute_result"
    }
   ],
   "source": [
    "y_test_specific_name = 'y_icu_all_regions_abs_number_' + X_test_specific.region.iloc[0]  \\\n",
    "                        + '_' + X_test_specific.state.iloc[0]  \\\n",
    "                        + '_' + X_test_specific.city_hospital.iloc[0] +  \".csv\"\n",
    "y_test_specific_name"
   ]
  },
  {
   "cell_type": "code",
   "execution_count": 49,
   "metadata": {},
   "outputs": [
    {
     "data": {
      "text/plain": [
       "(450, 25)"
      ]
     },
     "execution_count": 49,
     "metadata": {},
     "output_type": "execute_result"
    }
   ],
   "source": [
    "X_test_specific.to_csv(x_test_specific_name, sep=';')\n",
    "X_test_specific.shape"
   ]
  },
  {
   "cell_type": "code",
   "execution_count": 50,
   "metadata": {},
   "outputs": [
    {
     "data": {
      "text/plain": [
       "(450,)"
      ]
     },
     "execution_count": 50,
     "metadata": {},
     "output_type": "execute_result"
    }
   ],
   "source": [
    "y_test_specific.to_csv(y_test_specific_name, sep=';')\n",
    "y_test_specific.shape"
   ]
  },
  {
   "cell_type": "markdown",
   "metadata": {},
   "source": [
    "## 2.2) Prepare Experiment \n",
    "\n",
    "### All hospitals except specific"
   ]
  },
  {
   "cell_type": "code",
   "execution_count": 51,
   "metadata": {},
   "outputs": [
    {
     "data": {
      "text/plain": [
       "(2100, 25)"
      ]
     },
     "execution_count": 51,
     "metadata": {},
     "output_type": "execute_result"
    }
   ],
   "source": [
    "df_iacov_model_lean.shape"
   ]
  },
  {
   "cell_type": "code",
   "execution_count": 52,
   "metadata": {},
   "outputs": [],
   "source": [
    "df_iacov_model_train = df_iacov_model_lean"
   ]
  },
  {
   "cell_type": "code",
   "execution_count": 53,
   "metadata": {},
   "outputs": [
    {
     "data": {
      "text/plain": [
       "Index(['age', 'male', 'heart_rate', 'resp_rate', 'sys_press', 'dias_press',\n",
       "       'mean_press', 'temp', 'hemoglobin', 'platelets', 'hematocrit',\n",
       "       'red_cells_count', 'hcm', 'rdw', 'mcv', 'leukocytes', 'neutrophil',\n",
       "       'lymphocytes', 'basophils', 'eosinophils', 'monocytes', 'crp', 'class'],\n",
       "      dtype='object')"
      ]
     },
     "execution_count": 53,
     "metadata": {},
     "output_type": "execute_result"
    }
   ],
   "source": [
    "df_iacov_model_train = df_iacov_model_train.drop(['region'],axis=1)\n",
    "df_iacov_model_train = df_iacov_model_train.drop(['state'],axis=1)\n",
    "df_iacov_model_train.columns"
   ]
  },
  {
   "cell_type": "code",
   "execution_count": 54,
   "metadata": {},
   "outputs": [
    {
     "name": "stdout",
     "output_type": "stream",
     "text": [
      "<class 'pandas.core.frame.DataFrame'>\n",
      "Index: 2100 entries, 471 to 1864\n",
      "Data columns (total 23 columns):\n",
      " #   Column           Non-Null Count  Dtype  \n",
      "---  ------           --------------  -----  \n",
      " 0   age              2100 non-null   float64\n",
      " 1   male             2100 non-null   float64\n",
      " 2   heart_rate       1899 non-null   float64\n",
      " 3   resp_rate        1744 non-null   float64\n",
      " 4   sys_press        1780 non-null   float64\n",
      " 5   dias_press       1783 non-null   float64\n",
      " 6   mean_press       1859 non-null   float64\n",
      " 7   temp             1817 non-null   float64\n",
      " 8   hemoglobin       1070 non-null   float64\n",
      " 9   platelets        1899 non-null   float64\n",
      " 10  hematocrit       972 non-null    float64\n",
      " 11  red_cells_count  786 non-null    float64\n",
      " 12  hcm              1782 non-null   float64\n",
      " 13  rdw              1783 non-null   float64\n",
      " 14  mcv              1785 non-null   float64\n",
      " 15  leukocytes       1899 non-null   float64\n",
      " 16  neutrophil       1594 non-null   float64\n",
      " 17  lymphocytes      1733 non-null   float64\n",
      " 18  basophils        1806 non-null   float64\n",
      " 19  eosinophils      856 non-null    float64\n",
      " 20  monocytes        1870 non-null   float64\n",
      " 21  crp              1635 non-null   float64\n",
      " 22  class            2100 non-null   int32  \n",
      "dtypes: float64(22), int32(1)\n",
      "memory usage: 385.5 KB\n"
     ]
    }
   ],
   "source": [
    "df_iacov_model_train.info()"
   ]
  },
  {
   "cell_type": "code",
   "execution_count": 55,
   "metadata": {},
   "outputs": [
    {
     "name": "stdout",
     "output_type": "stream",
     "text": [
      " \n",
      "Setup Succesfully Completed!\n"
     ]
    },
    {
     "data": {
      "text/html": [
       "<style type=\"text/css\">\n",
       "#T_79f0e_row4_col1, #T_79f0e_row15_col1, #T_79f0e_row42_col1 {\n",
       "  background-color: lightgreen;\n",
       "}\n",
       "</style>\n",
       "<table id=\"T_79f0e\">\n",
       "  <thead>\n",
       "    <tr>\n",
       "      <th class=\"blank level0\" >&nbsp;</th>\n",
       "      <th id=\"T_79f0e_level0_col0\" class=\"col_heading level0 col0\" >Description</th>\n",
       "      <th id=\"T_79f0e_level0_col1\" class=\"col_heading level0 col1\" >Value</th>\n",
       "    </tr>\n",
       "  </thead>\n",
       "  <tbody>\n",
       "    <tr>\n",
       "      <th id=\"T_79f0e_level0_row0\" class=\"row_heading level0 row0\" >0</th>\n",
       "      <td id=\"T_79f0e_row0_col0\" class=\"data row0 col0\" >session_id</td>\n",
       "      <td id=\"T_79f0e_row0_col1\" class=\"data row0 col1\" >42</td>\n",
       "    </tr>\n",
       "    <tr>\n",
       "      <th id=\"T_79f0e_level0_row1\" class=\"row_heading level0 row1\" >1</th>\n",
       "      <td id=\"T_79f0e_row1_col0\" class=\"data row1 col0\" >Target Type</td>\n",
       "      <td id=\"T_79f0e_row1_col1\" class=\"data row1 col1\" >Binary</td>\n",
       "    </tr>\n",
       "    <tr>\n",
       "      <th id=\"T_79f0e_level0_row2\" class=\"row_heading level0 row2\" >2</th>\n",
       "      <td id=\"T_79f0e_row2_col0\" class=\"data row2 col0\" >Label Encoded</td>\n",
       "      <td id=\"T_79f0e_row2_col1\" class=\"data row2 col1\" >None</td>\n",
       "    </tr>\n",
       "    <tr>\n",
       "      <th id=\"T_79f0e_level0_row3\" class=\"row_heading level0 row3\" >3</th>\n",
       "      <td id=\"T_79f0e_row3_col0\" class=\"data row3 col0\" >Original Data</td>\n",
       "      <td id=\"T_79f0e_row3_col1\" class=\"data row3 col1\" >(2100, 23)</td>\n",
       "    </tr>\n",
       "    <tr>\n",
       "      <th id=\"T_79f0e_level0_row4\" class=\"row_heading level0 row4\" >4</th>\n",
       "      <td id=\"T_79f0e_row4_col0\" class=\"data row4 col0\" >Missing Values </td>\n",
       "      <td id=\"T_79f0e_row4_col1\" class=\"data row4 col1\" >True</td>\n",
       "    </tr>\n",
       "    <tr>\n",
       "      <th id=\"T_79f0e_level0_row5\" class=\"row_heading level0 row5\" >5</th>\n",
       "      <td id=\"T_79f0e_row5_col0\" class=\"data row5 col0\" >Numeric Features </td>\n",
       "      <td id=\"T_79f0e_row5_col1\" class=\"data row5 col1\" >21</td>\n",
       "    </tr>\n",
       "    <tr>\n",
       "      <th id=\"T_79f0e_level0_row6\" class=\"row_heading level0 row6\" >6</th>\n",
       "      <td id=\"T_79f0e_row6_col0\" class=\"data row6 col0\" >Categorical Features </td>\n",
       "      <td id=\"T_79f0e_row6_col1\" class=\"data row6 col1\" >1</td>\n",
       "    </tr>\n",
       "    <tr>\n",
       "      <th id=\"T_79f0e_level0_row7\" class=\"row_heading level0 row7\" >7</th>\n",
       "      <td id=\"T_79f0e_row7_col0\" class=\"data row7 col0\" >Ordinal Features </td>\n",
       "      <td id=\"T_79f0e_row7_col1\" class=\"data row7 col1\" >False</td>\n",
       "    </tr>\n",
       "    <tr>\n",
       "      <th id=\"T_79f0e_level0_row8\" class=\"row_heading level0 row8\" >8</th>\n",
       "      <td id=\"T_79f0e_row8_col0\" class=\"data row8 col0\" >High Cardinality Features </td>\n",
       "      <td id=\"T_79f0e_row8_col1\" class=\"data row8 col1\" >False</td>\n",
       "    </tr>\n",
       "    <tr>\n",
       "      <th id=\"T_79f0e_level0_row9\" class=\"row_heading level0 row9\" >9</th>\n",
       "      <td id=\"T_79f0e_row9_col0\" class=\"data row9 col0\" >High Cardinality Method </td>\n",
       "      <td id=\"T_79f0e_row9_col1\" class=\"data row9 col1\" >None</td>\n",
       "    </tr>\n",
       "    <tr>\n",
       "      <th id=\"T_79f0e_level0_row10\" class=\"row_heading level0 row10\" >10</th>\n",
       "      <td id=\"T_79f0e_row10_col0\" class=\"data row10 col0\" >Sampled Data</td>\n",
       "      <td id=\"T_79f0e_row10_col1\" class=\"data row10 col1\" >(3007, 23)</td>\n",
       "    </tr>\n",
       "    <tr>\n",
       "      <th id=\"T_79f0e_level0_row11\" class=\"row_heading level0 row11\" >11</th>\n",
       "      <td id=\"T_79f0e_row11_col0\" class=\"data row11 col0\" >Transformed Train Set</td>\n",
       "      <td id=\"T_79f0e_row11_col1\" class=\"data row11 col1\" >(2376, 22)</td>\n",
       "    </tr>\n",
       "    <tr>\n",
       "      <th id=\"T_79f0e_level0_row12\" class=\"row_heading level0 row12\" >12</th>\n",
       "      <td id=\"T_79f0e_row12_col0\" class=\"data row12 col0\" >Transformed Test Set</td>\n",
       "      <td id=\"T_79f0e_row12_col1\" class=\"data row12 col1\" >(631, 22)</td>\n",
       "    </tr>\n",
       "    <tr>\n",
       "      <th id=\"T_79f0e_level0_row13\" class=\"row_heading level0 row13\" >13</th>\n",
       "      <td id=\"T_79f0e_row13_col0\" class=\"data row13 col0\" >Numeric Imputer </td>\n",
       "      <td id=\"T_79f0e_row13_col1\" class=\"data row13 col1\" >median</td>\n",
       "    </tr>\n",
       "    <tr>\n",
       "      <th id=\"T_79f0e_level0_row14\" class=\"row_heading level0 row14\" >14</th>\n",
       "      <td id=\"T_79f0e_row14_col0\" class=\"data row14 col0\" >Categorical Imputer </td>\n",
       "      <td id=\"T_79f0e_row14_col1\" class=\"data row14 col1\" >constant</td>\n",
       "    </tr>\n",
       "    <tr>\n",
       "      <th id=\"T_79f0e_level0_row15\" class=\"row_heading level0 row15\" >15</th>\n",
       "      <td id=\"T_79f0e_row15_col0\" class=\"data row15 col0\" >Normalize </td>\n",
       "      <td id=\"T_79f0e_row15_col1\" class=\"data row15 col1\" >True</td>\n",
       "    </tr>\n",
       "    <tr>\n",
       "      <th id=\"T_79f0e_level0_row16\" class=\"row_heading level0 row16\" >16</th>\n",
       "      <td id=\"T_79f0e_row16_col0\" class=\"data row16 col0\" >Normalize Method </td>\n",
       "      <td id=\"T_79f0e_row16_col1\" class=\"data row16 col1\" >zscore</td>\n",
       "    </tr>\n",
       "    <tr>\n",
       "      <th id=\"T_79f0e_level0_row17\" class=\"row_heading level0 row17\" >17</th>\n",
       "      <td id=\"T_79f0e_row17_col0\" class=\"data row17 col0\" >Transformation </td>\n",
       "      <td id=\"T_79f0e_row17_col1\" class=\"data row17 col1\" >False</td>\n",
       "    </tr>\n",
       "    <tr>\n",
       "      <th id=\"T_79f0e_level0_row18\" class=\"row_heading level0 row18\" >18</th>\n",
       "      <td id=\"T_79f0e_row18_col0\" class=\"data row18 col0\" >Transformation Method </td>\n",
       "      <td id=\"T_79f0e_row18_col1\" class=\"data row18 col1\" >None</td>\n",
       "    </tr>\n",
       "    <tr>\n",
       "      <th id=\"T_79f0e_level0_row19\" class=\"row_heading level0 row19\" >19</th>\n",
       "      <td id=\"T_79f0e_row19_col0\" class=\"data row19 col0\" >PCA </td>\n",
       "      <td id=\"T_79f0e_row19_col1\" class=\"data row19 col1\" >False</td>\n",
       "    </tr>\n",
       "    <tr>\n",
       "      <th id=\"T_79f0e_level0_row20\" class=\"row_heading level0 row20\" >20</th>\n",
       "      <td id=\"T_79f0e_row20_col0\" class=\"data row20 col0\" >PCA Method </td>\n",
       "      <td id=\"T_79f0e_row20_col1\" class=\"data row20 col1\" >None</td>\n",
       "    </tr>\n",
       "    <tr>\n",
       "      <th id=\"T_79f0e_level0_row21\" class=\"row_heading level0 row21\" >21</th>\n",
       "      <td id=\"T_79f0e_row21_col0\" class=\"data row21 col0\" >PCA Components </td>\n",
       "      <td id=\"T_79f0e_row21_col1\" class=\"data row21 col1\" >None</td>\n",
       "    </tr>\n",
       "    <tr>\n",
       "      <th id=\"T_79f0e_level0_row22\" class=\"row_heading level0 row22\" >22</th>\n",
       "      <td id=\"T_79f0e_row22_col0\" class=\"data row22 col0\" >Ignore Low Variance </td>\n",
       "      <td id=\"T_79f0e_row22_col1\" class=\"data row22 col1\" >False</td>\n",
       "    </tr>\n",
       "    <tr>\n",
       "      <th id=\"T_79f0e_level0_row23\" class=\"row_heading level0 row23\" >23</th>\n",
       "      <td id=\"T_79f0e_row23_col0\" class=\"data row23 col0\" >Combine Rare Levels </td>\n",
       "      <td id=\"T_79f0e_row23_col1\" class=\"data row23 col1\" >False</td>\n",
       "    </tr>\n",
       "    <tr>\n",
       "      <th id=\"T_79f0e_level0_row24\" class=\"row_heading level0 row24\" >24</th>\n",
       "      <td id=\"T_79f0e_row24_col0\" class=\"data row24 col0\" >Rare Level Threshold </td>\n",
       "      <td id=\"T_79f0e_row24_col1\" class=\"data row24 col1\" >None</td>\n",
       "    </tr>\n",
       "    <tr>\n",
       "      <th id=\"T_79f0e_level0_row25\" class=\"row_heading level0 row25\" >25</th>\n",
       "      <td id=\"T_79f0e_row25_col0\" class=\"data row25 col0\" >Numeric Binning </td>\n",
       "      <td id=\"T_79f0e_row25_col1\" class=\"data row25 col1\" >False</td>\n",
       "    </tr>\n",
       "    <tr>\n",
       "      <th id=\"T_79f0e_level0_row26\" class=\"row_heading level0 row26\" >26</th>\n",
       "      <td id=\"T_79f0e_row26_col0\" class=\"data row26 col0\" >Remove Outliers </td>\n",
       "      <td id=\"T_79f0e_row26_col1\" class=\"data row26 col1\" >False</td>\n",
       "    </tr>\n",
       "    <tr>\n",
       "      <th id=\"T_79f0e_level0_row27\" class=\"row_heading level0 row27\" >27</th>\n",
       "      <td id=\"T_79f0e_row27_col0\" class=\"data row27 col0\" >Outliers Threshold </td>\n",
       "      <td id=\"T_79f0e_row27_col1\" class=\"data row27 col1\" >None</td>\n",
       "    </tr>\n",
       "    <tr>\n",
       "      <th id=\"T_79f0e_level0_row28\" class=\"row_heading level0 row28\" >28</th>\n",
       "      <td id=\"T_79f0e_row28_col0\" class=\"data row28 col0\" >Remove Multicollinearity </td>\n",
       "      <td id=\"T_79f0e_row28_col1\" class=\"data row28 col1\" >False</td>\n",
       "    </tr>\n",
       "    <tr>\n",
       "      <th id=\"T_79f0e_level0_row29\" class=\"row_heading level0 row29\" >29</th>\n",
       "      <td id=\"T_79f0e_row29_col0\" class=\"data row29 col0\" >Multicollinearity Threshold </td>\n",
       "      <td id=\"T_79f0e_row29_col1\" class=\"data row29 col1\" >None</td>\n",
       "    </tr>\n",
       "    <tr>\n",
       "      <th id=\"T_79f0e_level0_row30\" class=\"row_heading level0 row30\" >30</th>\n",
       "      <td id=\"T_79f0e_row30_col0\" class=\"data row30 col0\" >Clustering </td>\n",
       "      <td id=\"T_79f0e_row30_col1\" class=\"data row30 col1\" >False</td>\n",
       "    </tr>\n",
       "    <tr>\n",
       "      <th id=\"T_79f0e_level0_row31\" class=\"row_heading level0 row31\" >31</th>\n",
       "      <td id=\"T_79f0e_row31_col0\" class=\"data row31 col0\" >Clustering Iteration </td>\n",
       "      <td id=\"T_79f0e_row31_col1\" class=\"data row31 col1\" >None</td>\n",
       "    </tr>\n",
       "    <tr>\n",
       "      <th id=\"T_79f0e_level0_row32\" class=\"row_heading level0 row32\" >32</th>\n",
       "      <td id=\"T_79f0e_row32_col0\" class=\"data row32 col0\" >Polynomial Features </td>\n",
       "      <td id=\"T_79f0e_row32_col1\" class=\"data row32 col1\" >False</td>\n",
       "    </tr>\n",
       "    <tr>\n",
       "      <th id=\"T_79f0e_level0_row33\" class=\"row_heading level0 row33\" >33</th>\n",
       "      <td id=\"T_79f0e_row33_col0\" class=\"data row33 col0\" >Polynomial Degree </td>\n",
       "      <td id=\"T_79f0e_row33_col1\" class=\"data row33 col1\" >None</td>\n",
       "    </tr>\n",
       "    <tr>\n",
       "      <th id=\"T_79f0e_level0_row34\" class=\"row_heading level0 row34\" >34</th>\n",
       "      <td id=\"T_79f0e_row34_col0\" class=\"data row34 col0\" >Trignometry Features </td>\n",
       "      <td id=\"T_79f0e_row34_col1\" class=\"data row34 col1\" >False</td>\n",
       "    </tr>\n",
       "    <tr>\n",
       "      <th id=\"T_79f0e_level0_row35\" class=\"row_heading level0 row35\" >35</th>\n",
       "      <td id=\"T_79f0e_row35_col0\" class=\"data row35 col0\" >Polynomial Threshold </td>\n",
       "      <td id=\"T_79f0e_row35_col1\" class=\"data row35 col1\" >None</td>\n",
       "    </tr>\n",
       "    <tr>\n",
       "      <th id=\"T_79f0e_level0_row36\" class=\"row_heading level0 row36\" >36</th>\n",
       "      <td id=\"T_79f0e_row36_col0\" class=\"data row36 col0\" >Group Features </td>\n",
       "      <td id=\"T_79f0e_row36_col1\" class=\"data row36 col1\" >False</td>\n",
       "    </tr>\n",
       "    <tr>\n",
       "      <th id=\"T_79f0e_level0_row37\" class=\"row_heading level0 row37\" >37</th>\n",
       "      <td id=\"T_79f0e_row37_col0\" class=\"data row37 col0\" >Feature Selection </td>\n",
       "      <td id=\"T_79f0e_row37_col1\" class=\"data row37 col1\" >False</td>\n",
       "    </tr>\n",
       "    <tr>\n",
       "      <th id=\"T_79f0e_level0_row38\" class=\"row_heading level0 row38\" >38</th>\n",
       "      <td id=\"T_79f0e_row38_col0\" class=\"data row38 col0\" >Features Selection Threshold </td>\n",
       "      <td id=\"T_79f0e_row38_col1\" class=\"data row38 col1\" >None</td>\n",
       "    </tr>\n",
       "    <tr>\n",
       "      <th id=\"T_79f0e_level0_row39\" class=\"row_heading level0 row39\" >39</th>\n",
       "      <td id=\"T_79f0e_row39_col0\" class=\"data row39 col0\" >Feature Interaction </td>\n",
       "      <td id=\"T_79f0e_row39_col1\" class=\"data row39 col1\" >False</td>\n",
       "    </tr>\n",
       "    <tr>\n",
       "      <th id=\"T_79f0e_level0_row40\" class=\"row_heading level0 row40\" >40</th>\n",
       "      <td id=\"T_79f0e_row40_col0\" class=\"data row40 col0\" >Feature Ratio </td>\n",
       "      <td id=\"T_79f0e_row40_col1\" class=\"data row40 col1\" >False</td>\n",
       "    </tr>\n",
       "    <tr>\n",
       "      <th id=\"T_79f0e_level0_row41\" class=\"row_heading level0 row41\" >41</th>\n",
       "      <td id=\"T_79f0e_row41_col0\" class=\"data row41 col0\" >Interaction Threshold </td>\n",
       "      <td id=\"T_79f0e_row41_col1\" class=\"data row41 col1\" >None</td>\n",
       "    </tr>\n",
       "    <tr>\n",
       "      <th id=\"T_79f0e_level0_row42\" class=\"row_heading level0 row42\" >42</th>\n",
       "      <td id=\"T_79f0e_row42_col0\" class=\"data row42 col0\" >Resample Train Data </td>\n",
       "      <td id=\"T_79f0e_row42_col1\" class=\"data row42 col1\" >True</td>\n",
       "    </tr>\n",
       "    <tr>\n",
       "      <th id=\"T_79f0e_level0_row43\" class=\"row_heading level0 row43\" >43</th>\n",
       "      <td id=\"T_79f0e_row43_col0\" class=\"data row43 col0\" >Resample Method</td>\n",
       "      <td id=\"T_79f0e_row43_col1\" class=\"data row43 col1\" >random_over</td>\n",
       "    </tr>\n",
       "  </tbody>\n",
       "</table>\n"
      ],
      "text/plain": [
       "<pandas.io.formats.style.Styler at 0x1f5f06a35e0>"
      ]
     },
     "metadata": {},
     "output_type": "display_data"
    }
   ],
   "source": [
    "exp = setup(df_iacov_model_train\n",
    "            , target='class'\n",
    "            , categorical_features = ['male']\n",
    "            , numeric_features = ['crp','basophils','eosinophils','red_cells_count','monocytes','hemoglobin','resp_rate','neutrophil','hematocrit']\n",
    "            , normalize=True\n",
    "            #, remove_multicollinearity=True\n",
    "            ,numeric_imputation='median'\n",
    "#             ,numeric_imputation='ignore'\n",
    "            #,multicollinearity_threshold=0.9\n",
    "            , resample=True\n",
    "            , resample_method='random_over'\n",
    "#             , train_size = 1.0 #100pct for training\n",
    "           )"
   ]
  },
  {
   "cell_type": "code",
   "execution_count": 57,
   "metadata": {},
   "outputs": [],
   "source": [
    "X, y, X_train, X_test, y_train, y_test, seed, prep_pipe, _ = exp"
   ]
  },
  {
   "cell_type": "code",
   "execution_count": 58,
   "metadata": {},
   "outputs": [
    {
     "data": {
      "text/plain": [
       "(2376, 22)"
      ]
     },
     "execution_count": 58,
     "metadata": {},
     "output_type": "execute_result"
    }
   ],
   "source": [
    "X_train.shape"
   ]
  },
  {
   "cell_type": "code",
   "execution_count": 59,
   "metadata": {},
   "outputs": [
    {
     "data": {
      "text/plain": [
       "(631, 22)"
      ]
     },
     "execution_count": 59,
     "metadata": {},
     "output_type": "execute_result"
    }
   ],
   "source": [
    "X_test.shape"
   ]
  },
  {
   "cell_type": "code",
   "execution_count": 60,
   "metadata": {},
   "outputs": [
    {
     "data": {
      "text/plain": [
       "Index(['age', 'heart_rate', 'resp_rate', 'sys_press', 'dias_press',\n",
       "       'mean_press', 'temp', 'hemoglobin', 'platelets', 'hematocrit',\n",
       "       'red_cells_count', 'hcm', 'rdw', 'mcv', 'leukocytes', 'neutrophil',\n",
       "       'lymphocytes', 'basophils', 'eosinophils', 'monocytes', 'crp',\n",
       "       'male_0.0'],\n",
       "      dtype='object')"
      ]
     },
     "execution_count": 60,
     "metadata": {},
     "output_type": "execute_result"
    }
   ],
   "source": [
    "X_test.columns"
   ]
  },
  {
   "cell_type": "code",
   "execution_count": 61,
   "metadata": {},
   "outputs": [
    {
     "data": {
      "text/plain": [
       "42"
      ]
     },
     "execution_count": 61,
     "metadata": {},
     "output_type": "execute_result"
    }
   ],
   "source": [
    "seed"
   ]
  },
  {
   "cell_type": "code",
   "execution_count": 62,
   "metadata": {},
   "outputs": [],
   "source": [
    "# Xtrain.head()"
   ]
  },
  {
   "cell_type": "markdown",
   "metadata": {},
   "source": [
    "### Filtering only 5 pre-selected models"
   ]
  },
  {
   "cell_type": "code",
   "execution_count": 63,
   "metadata": {},
   "outputs": [],
   "source": [
    "# print(inspect.getsource(compare_models))"
   ]
  },
  {
   "cell_type": "code",
   "execution_count": 64,
   "metadata": {},
   "outputs": [
    {
     "data": {
      "text/html": [
       "<style type=\"text/css\">\n",
       "#T_fca5a th {\n",
       "  text-align: left;\n",
       "}\n",
       "#T_fca5a_row0_col0, #T_fca5a_row0_col8, #T_fca5a_row0_col9, #T_fca5a_row1_col0, #T_fca5a_row1_col1, #T_fca5a_row1_col2, #T_fca5a_row1_col3, #T_fca5a_row1_col4, #T_fca5a_row1_col5, #T_fca5a_row1_col6, #T_fca5a_row1_col7, #T_fca5a_row1_col8, #T_fca5a_row1_col10, #T_fca5a_row2_col0, #T_fca5a_row2_col1, #T_fca5a_row2_col2, #T_fca5a_row2_col3, #T_fca5a_row2_col4, #T_fca5a_row2_col5, #T_fca5a_row2_col6, #T_fca5a_row2_col7, #T_fca5a_row2_col9, #T_fca5a_row2_col10 {\n",
       "  text-align: left;\n",
       "}\n",
       "#T_fca5a_row0_col1, #T_fca5a_row0_col2, #T_fca5a_row0_col3, #T_fca5a_row0_col4, #T_fca5a_row0_col5, #T_fca5a_row0_col6, #T_fca5a_row0_col7, #T_fca5a_row0_col10, #T_fca5a_row1_col9, #T_fca5a_row2_col8 {\n",
       "  background-color: yellow;\n",
       "  text-align: left;\n",
       "}\n",
       "</style>\n",
       "<table id=\"T_fca5a\">\n",
       "  <thead>\n",
       "    <tr>\n",
       "      <th class=\"blank level0\" >&nbsp;</th>\n",
       "      <th id=\"T_fca5a_level0_col0\" class=\"col_heading level0 col0\" >Model</th>\n",
       "      <th id=\"T_fca5a_level0_col1\" class=\"col_heading level0 col1\" >Accuracy</th>\n",
       "      <th id=\"T_fca5a_level0_col2\" class=\"col_heading level0 col2\" >AUC</th>\n",
       "      <th id=\"T_fca5a_level0_col3\" class=\"col_heading level0 col3\" >Recall</th>\n",
       "      <th id=\"T_fca5a_level0_col4\" class=\"col_heading level0 col4\" >Specificity</th>\n",
       "      <th id=\"T_fca5a_level0_col5\" class=\"col_heading level0 col5\" >Prec.</th>\n",
       "      <th id=\"T_fca5a_level0_col6\" class=\"col_heading level0 col6\" >F1</th>\n",
       "      <th id=\"T_fca5a_level0_col7\" class=\"col_heading level0 col7\" >Kappa</th>\n",
       "      <th id=\"T_fca5a_level0_col8\" class=\"col_heading level0 col8\" >Hosmer_lemeshow</th>\n",
       "      <th id=\"T_fca5a_level0_col9\" class=\"col_heading level0 col9\" >Spiegelhalter</th>\n",
       "      <th id=\"T_fca5a_level0_col10\" class=\"col_heading level0 col10\" >Scaled_brier</th>\n",
       "    </tr>\n",
       "  </thead>\n",
       "  <tbody>\n",
       "    <tr>\n",
       "      <th id=\"T_fca5a_level0_row0\" class=\"row_heading level0 row0\" >0</th>\n",
       "      <td id=\"T_fca5a_row0_col0\" class=\"data row0 col0\" >Light Gradient Boosting Machine</td>\n",
       "      <td id=\"T_fca5a_row0_col1\" class=\"data row0 col1\" >0.964200</td>\n",
       "      <td id=\"T_fca5a_row0_col2\" class=\"data row0 col2\" >0.996600</td>\n",
       "      <td id=\"T_fca5a_row0_col3\" class=\"data row0 col3\" >0.994100</td>\n",
       "      <td id=\"T_fca5a_row0_col4\" class=\"data row0 col4\" >0.934300</td>\n",
       "      <td id=\"T_fca5a_row0_col5\" class=\"data row0 col5\" >0.938500</td>\n",
       "      <td id=\"T_fca5a_row0_col6\" class=\"data row0 col6\" >0.965400</td>\n",
       "      <td id=\"T_fca5a_row0_col7\" class=\"data row0 col7\" >0.928400</td>\n",
       "      <td id=\"T_fca5a_row0_col8\" class=\"data row0 col8\" >0.065000</td>\n",
       "      <td id=\"T_fca5a_row0_col9\" class=\"data row0 col9\" >0.257500</td>\n",
       "      <td id=\"T_fca5a_row0_col10\" class=\"data row0 col10\" >0.895200</td>\n",
       "    </tr>\n",
       "    <tr>\n",
       "      <th id=\"T_fca5a_level0_row1\" class=\"row_heading level0 row1\" >1</th>\n",
       "      <td id=\"T_fca5a_row1_col0\" class=\"data row1 col0\" >Extreme Gradient Boosting</td>\n",
       "      <td id=\"T_fca5a_row1_col1\" class=\"data row1 col1\" >0.960800</td>\n",
       "      <td id=\"T_fca5a_row1_col2\" class=\"data row1 col2\" >0.995500</td>\n",
       "      <td id=\"T_fca5a_row1_col3\" class=\"data row1 col3\" >0.992400</td>\n",
       "      <td id=\"T_fca5a_row1_col4\" class=\"data row1 col4\" >0.929200</td>\n",
       "      <td id=\"T_fca5a_row1_col5\" class=\"data row1 col5\" >0.934100</td>\n",
       "      <td id=\"T_fca5a_row1_col6\" class=\"data row1 col6\" >0.962200</td>\n",
       "      <td id=\"T_fca5a_row1_col7\" class=\"data row1 col7\" >0.921700</td>\n",
       "      <td id=\"T_fca5a_row1_col8\" class=\"data row1 col8\" >0.128600</td>\n",
       "      <td id=\"T_fca5a_row1_col9\" class=\"data row1 col9\" >0.300300</td>\n",
       "      <td id=\"T_fca5a_row1_col10\" class=\"data row1 col10\" >0.886200</td>\n",
       "    </tr>\n",
       "    <tr>\n",
       "      <th id=\"T_fca5a_level0_row2\" class=\"row_heading level0 row2\" >2</th>\n",
       "      <td id=\"T_fca5a_row2_col0\" class=\"data row2 col0\" >CatBoost Classifier</td>\n",
       "      <td id=\"T_fca5a_row2_col1\" class=\"data row2 col1\" >0.955800</td>\n",
       "      <td id=\"T_fca5a_row2_col2\" class=\"data row2 col2\" >0.994200</td>\n",
       "      <td id=\"T_fca5a_row2_col3\" class=\"data row2 col3\" >0.990700</td>\n",
       "      <td id=\"T_fca5a_row2_col4\" class=\"data row2 col4\" >0.920900</td>\n",
       "      <td id=\"T_fca5a_row2_col5\" class=\"data row2 col5\" >0.926600</td>\n",
       "      <td id=\"T_fca5a_row2_col6\" class=\"data row2 col6\" >0.957400</td>\n",
       "      <td id=\"T_fca5a_row2_col7\" class=\"data row2 col7\" >0.911600</td>\n",
       "      <td id=\"T_fca5a_row2_col8\" class=\"data row2 col8\" >0.222300</td>\n",
       "      <td id=\"T_fca5a_row2_col9\" class=\"data row2 col9\" >0.176200</td>\n",
       "      <td id=\"T_fca5a_row2_col10\" class=\"data row2 col10\" >0.873200</td>\n",
       "    </tr>\n",
       "  </tbody>\n",
       "</table>\n"
      ],
      "text/plain": [
       "<pandas.io.formats.style.Styler at 0x1f672d79990>"
      ]
     },
     "execution_count": 64,
     "metadata": {},
     "output_type": "execute_result"
    }
   ],
   "source": [
    "#Modelos que suportam missing (1) - Modelos pre-selecionados(2)\n",
    "compare_models(blacklist = [\"lr\",\"knn\",\"nb\",\"dt\",\"svm\",\"rbfsvm\",\"gpc\",\"ridge\",\"qda\",\"ada\",\"gbc\",\"lda\",\"et\",\"mlp\",\"rf\"] , turbo = False)"
   ]
  },
  {
   "cell_type": "markdown",
   "metadata": {},
   "source": [
    "### Tune selected models by AUC (and hyperopt bayesian optimization) to use on test data"
   ]
  },
  {
   "cell_type": "code",
   "execution_count": 65,
   "metadata": {
    "scrolled": true
   },
   "outputs": [
    {
     "data": {
      "text/html": [
       "<div>\n",
       "<style scoped>\n",
       "    .dataframe tbody tr th:only-of-type {\n",
       "        vertical-align: middle;\n",
       "    }\n",
       "\n",
       "    .dataframe tbody tr th {\n",
       "        vertical-align: top;\n",
       "    }\n",
       "\n",
       "    .dataframe thead th {\n",
       "        text-align: right;\n",
       "    }\n",
       "</style>\n",
       "<table border=\"1\" class=\"dataframe\">\n",
       "  <thead>\n",
       "    <tr style=\"text-align: right;\">\n",
       "      <th></th>\n",
       "      <th>Accuracy</th>\n",
       "      <th>AUC</th>\n",
       "      <th>Recall</th>\n",
       "      <th>Specificity</th>\n",
       "      <th>Prec.</th>\n",
       "      <th>F1</th>\n",
       "      <th>Kappa</th>\n",
       "      <th>Hosmer_lemeshow</th>\n",
       "      <th>Spiegelhalter</th>\n",
       "      <th>Scaled_brier</th>\n",
       "    </tr>\n",
       "  </thead>\n",
       "  <tbody>\n",
       "    <tr>\n",
       "      <th>0</th>\n",
       "      <td>0.937</td>\n",
       "      <td>0.999</td>\n",
       "      <td>0.992</td>\n",
       "      <td>0.882</td>\n",
       "      <td>0.894</td>\n",
       "      <td>0.940</td>\n",
       "      <td>0.874</td>\n",
       "      <td>0.006</td>\n",
       "      <td>0.523</td>\n",
       "      <td>0.855</td>\n",
       "    </tr>\n",
       "    <tr>\n",
       "      <th>1</th>\n",
       "      <td>0.962</td>\n",
       "      <td>0.997</td>\n",
       "      <td>0.992</td>\n",
       "      <td>0.933</td>\n",
       "      <td>0.936</td>\n",
       "      <td>0.963</td>\n",
       "      <td>0.924</td>\n",
       "      <td>0.282</td>\n",
       "      <td>0.877</td>\n",
       "      <td>0.884</td>\n",
       "    </tr>\n",
       "    <tr>\n",
       "      <th>2</th>\n",
       "      <td>0.975</td>\n",
       "      <td>1.000</td>\n",
       "      <td>1.000</td>\n",
       "      <td>0.950</td>\n",
       "      <td>0.952</td>\n",
       "      <td>0.975</td>\n",
       "      <td>0.950</td>\n",
       "      <td>0.154</td>\n",
       "      <td>0.127</td>\n",
       "      <td>0.924</td>\n",
       "    </tr>\n",
       "    <tr>\n",
       "      <th>3</th>\n",
       "      <td>0.971</td>\n",
       "      <td>0.998</td>\n",
       "      <td>0.992</td>\n",
       "      <td>0.950</td>\n",
       "      <td>0.952</td>\n",
       "      <td>0.971</td>\n",
       "      <td>0.941</td>\n",
       "      <td>0.056</td>\n",
       "      <td>0.990</td>\n",
       "      <td>0.884</td>\n",
       "    </tr>\n",
       "    <tr>\n",
       "      <th>4</th>\n",
       "      <td>0.971</td>\n",
       "      <td>1.000</td>\n",
       "      <td>1.000</td>\n",
       "      <td>0.941</td>\n",
       "      <td>0.944</td>\n",
       "      <td>0.971</td>\n",
       "      <td>0.941</td>\n",
       "      <td>0.047</td>\n",
       "      <td>0.523</td>\n",
       "      <td>0.902</td>\n",
       "    </tr>\n",
       "    <tr>\n",
       "      <th>5</th>\n",
       "      <td>0.983</td>\n",
       "      <td>1.000</td>\n",
       "      <td>1.000</td>\n",
       "      <td>0.966</td>\n",
       "      <td>0.968</td>\n",
       "      <td>0.984</td>\n",
       "      <td>0.966</td>\n",
       "      <td>0.050</td>\n",
       "      <td>0.108</td>\n",
       "      <td>0.932</td>\n",
       "    </tr>\n",
       "    <tr>\n",
       "      <th>6</th>\n",
       "      <td>0.949</td>\n",
       "      <td>1.000</td>\n",
       "      <td>1.000</td>\n",
       "      <td>0.899</td>\n",
       "      <td>0.908</td>\n",
       "      <td>0.952</td>\n",
       "      <td>0.899</td>\n",
       "      <td>0.004</td>\n",
       "      <td>0.836</td>\n",
       "      <td>0.880</td>\n",
       "    </tr>\n",
       "    <tr>\n",
       "      <th>7</th>\n",
       "      <td>0.979</td>\n",
       "      <td>0.998</td>\n",
       "      <td>1.000</td>\n",
       "      <td>0.958</td>\n",
       "      <td>0.959</td>\n",
       "      <td>0.979</td>\n",
       "      <td>0.958</td>\n",
       "      <td>0.133</td>\n",
       "      <td>0.078</td>\n",
       "      <td>0.934</td>\n",
       "    </tr>\n",
       "    <tr>\n",
       "      <th>8</th>\n",
       "      <td>0.962</td>\n",
       "      <td>0.998</td>\n",
       "      <td>0.983</td>\n",
       "      <td>0.941</td>\n",
       "      <td>0.944</td>\n",
       "      <td>0.963</td>\n",
       "      <td>0.924</td>\n",
       "      <td>0.211</td>\n",
       "      <td>0.992</td>\n",
       "      <td>0.890</td>\n",
       "    </tr>\n",
       "    <tr>\n",
       "      <th>9</th>\n",
       "      <td>0.971</td>\n",
       "      <td>0.999</td>\n",
       "      <td>0.992</td>\n",
       "      <td>0.949</td>\n",
       "      <td>0.952</td>\n",
       "      <td>0.971</td>\n",
       "      <td>0.941</td>\n",
       "      <td>0.073</td>\n",
       "      <td>0.492</td>\n",
       "      <td>0.893</td>\n",
       "    </tr>\n",
       "    <tr>\n",
       "      <th>Mean</th>\n",
       "      <td>0.966</td>\n",
       "      <td>0.999</td>\n",
       "      <td>0.995</td>\n",
       "      <td>0.937</td>\n",
       "      <td>0.941</td>\n",
       "      <td>0.967</td>\n",
       "      <td>0.932</td>\n",
       "      <td>0.102</td>\n",
       "      <td>0.554</td>\n",
       "      <td>0.898</td>\n",
       "    </tr>\n",
       "    <tr>\n",
       "      <th>SD</th>\n",
       "      <td>0.013</td>\n",
       "      <td>0.001</td>\n",
       "      <td>0.006</td>\n",
       "      <td>0.025</td>\n",
       "      <td>0.022</td>\n",
       "      <td>0.012</td>\n",
       "      <td>0.026</td>\n",
       "      <td>0.102</td>\n",
       "      <td>0.554</td>\n",
       "      <td>0.898</td>\n",
       "    </tr>\n",
       "  </tbody>\n",
       "</table>\n",
       "</div>"
      ],
      "text/plain": [
       "      Accuracy   AUC  Recall  Specificity  Prec.    F1  Kappa  \\\n",
       "0        0.937 0.999   0.992        0.882  0.894 0.940  0.874   \n",
       "1        0.962 0.997   0.992        0.933  0.936 0.963  0.924   \n",
       "2        0.975 1.000   1.000        0.950  0.952 0.975  0.950   \n",
       "3        0.971 0.998   0.992        0.950  0.952 0.971  0.941   \n",
       "4        0.971 1.000   1.000        0.941  0.944 0.971  0.941   \n",
       "5        0.983 1.000   1.000        0.966  0.968 0.984  0.966   \n",
       "6        0.949 1.000   1.000        0.899  0.908 0.952  0.899   \n",
       "7        0.979 0.998   1.000        0.958  0.959 0.979  0.958   \n",
       "8        0.962 0.998   0.983        0.941  0.944 0.963  0.924   \n",
       "9        0.971 0.999   0.992        0.949  0.952 0.971  0.941   \n",
       "Mean     0.966 0.999   0.995        0.937  0.941 0.967  0.932   \n",
       "SD       0.013 0.001   0.006        0.025  0.022 0.012  0.026   \n",
       "\n",
       "      Hosmer_lemeshow  Spiegelhalter  Scaled_brier  \n",
       "0               0.006          0.523         0.855  \n",
       "1               0.282          0.877         0.884  \n",
       "2               0.154          0.127         0.924  \n",
       "3               0.056          0.990         0.884  \n",
       "4               0.047          0.523         0.902  \n",
       "5               0.050          0.108         0.932  \n",
       "6               0.004          0.836         0.880  \n",
       "7               0.133          0.078         0.934  \n",
       "8               0.211          0.992         0.890  \n",
       "9               0.073          0.492         0.893  \n",
       "Mean            0.102          0.554         0.898  \n",
       "SD              0.102          0.554         0.898  "
      ]
     },
     "metadata": {},
     "output_type": "display_data"
    }
   ],
   "source": [
    "cattuned = tune_model('catboost', optimize='AUC', n_iter=20)"
   ]
  },
  {
   "cell_type": "code",
   "execution_count": 66,
   "metadata": {},
   "outputs": [
    {
     "data": {
      "text/html": [
       "<div>\n",
       "<style scoped>\n",
       "    .dataframe tbody tr th:only-of-type {\n",
       "        vertical-align: middle;\n",
       "    }\n",
       "\n",
       "    .dataframe tbody tr th {\n",
       "        vertical-align: top;\n",
       "    }\n",
       "\n",
       "    .dataframe thead th {\n",
       "        text-align: right;\n",
       "    }\n",
       "</style>\n",
       "<table border=\"1\" class=\"dataframe\">\n",
       "  <thead>\n",
       "    <tr style=\"text-align: right;\">\n",
       "      <th></th>\n",
       "      <th>Accuracy</th>\n",
       "      <th>AUC</th>\n",
       "      <th>Recall</th>\n",
       "      <th>Specificity</th>\n",
       "      <th>Prec.</th>\n",
       "      <th>F1</th>\n",
       "      <th>Kappa</th>\n",
       "      <th>Hosmer_lemeshow</th>\n",
       "      <th>Spiegelhalter</th>\n",
       "      <th>Scaled_brier</th>\n",
       "    </tr>\n",
       "  </thead>\n",
       "  <tbody>\n",
       "    <tr>\n",
       "      <th>0</th>\n",
       "      <td>0.937</td>\n",
       "      <td>0.998</td>\n",
       "      <td>0.992</td>\n",
       "      <td>0.882</td>\n",
       "      <td>0.894</td>\n",
       "      <td>0.940</td>\n",
       "      <td>0.874</td>\n",
       "      <td>0.000</td>\n",
       "      <td>0.000</td>\n",
       "      <td>0.787</td>\n",
       "    </tr>\n",
       "    <tr>\n",
       "      <th>1</th>\n",
       "      <td>0.954</td>\n",
       "      <td>0.994</td>\n",
       "      <td>0.992</td>\n",
       "      <td>0.916</td>\n",
       "      <td>0.922</td>\n",
       "      <td>0.956</td>\n",
       "      <td>0.908</td>\n",
       "      <td>0.000</td>\n",
       "      <td>0.000</td>\n",
       "      <td>0.869</td>\n",
       "    </tr>\n",
       "    <tr>\n",
       "      <th>2</th>\n",
       "      <td>0.971</td>\n",
       "      <td>1.000</td>\n",
       "      <td>1.000</td>\n",
       "      <td>0.941</td>\n",
       "      <td>0.944</td>\n",
       "      <td>0.971</td>\n",
       "      <td>0.941</td>\n",
       "      <td>0.001</td>\n",
       "      <td>0.001</td>\n",
       "      <td>0.893</td>\n",
       "    </tr>\n",
       "    <tr>\n",
       "      <th>3</th>\n",
       "      <td>0.950</td>\n",
       "      <td>0.997</td>\n",
       "      <td>0.992</td>\n",
       "      <td>0.908</td>\n",
       "      <td>0.915</td>\n",
       "      <td>0.952</td>\n",
       "      <td>0.899</td>\n",
       "      <td>0.000</td>\n",
       "      <td>0.000</td>\n",
       "      <td>0.851</td>\n",
       "    </tr>\n",
       "    <tr>\n",
       "      <th>4</th>\n",
       "      <td>0.950</td>\n",
       "      <td>1.000</td>\n",
       "      <td>1.000</td>\n",
       "      <td>0.899</td>\n",
       "      <td>0.908</td>\n",
       "      <td>0.952</td>\n",
       "      <td>0.899</td>\n",
       "      <td>0.003</td>\n",
       "      <td>0.000</td>\n",
       "      <td>0.860</td>\n",
       "    </tr>\n",
       "    <tr>\n",
       "      <th>5</th>\n",
       "      <td>0.975</td>\n",
       "      <td>0.998</td>\n",
       "      <td>1.000</td>\n",
       "      <td>0.950</td>\n",
       "      <td>0.952</td>\n",
       "      <td>0.975</td>\n",
       "      <td>0.950</td>\n",
       "      <td>0.001</td>\n",
       "      <td>0.018</td>\n",
       "      <td>0.905</td>\n",
       "    </tr>\n",
       "    <tr>\n",
       "      <th>6</th>\n",
       "      <td>0.924</td>\n",
       "      <td>1.000</td>\n",
       "      <td>1.000</td>\n",
       "      <td>0.849</td>\n",
       "      <td>0.868</td>\n",
       "      <td>0.929</td>\n",
       "      <td>0.848</td>\n",
       "      <td>0.000</td>\n",
       "      <td>0.000</td>\n",
       "      <td>0.758</td>\n",
       "    </tr>\n",
       "    <tr>\n",
       "      <th>7</th>\n",
       "      <td>0.966</td>\n",
       "      <td>0.992</td>\n",
       "      <td>0.992</td>\n",
       "      <td>0.941</td>\n",
       "      <td>0.944</td>\n",
       "      <td>0.967</td>\n",
       "      <td>0.932</td>\n",
       "      <td>0.000</td>\n",
       "      <td>0.102</td>\n",
       "      <td>0.902</td>\n",
       "    </tr>\n",
       "    <tr>\n",
       "      <th>8</th>\n",
       "      <td>0.949</td>\n",
       "      <td>0.999</td>\n",
       "      <td>1.000</td>\n",
       "      <td>0.898</td>\n",
       "      <td>0.908</td>\n",
       "      <td>0.952</td>\n",
       "      <td>0.899</td>\n",
       "      <td>0.000</td>\n",
       "      <td>0.000</td>\n",
       "      <td>0.834</td>\n",
       "    </tr>\n",
       "    <tr>\n",
       "      <th>9</th>\n",
       "      <td>0.962</td>\n",
       "      <td>0.998</td>\n",
       "      <td>1.000</td>\n",
       "      <td>0.924</td>\n",
       "      <td>0.930</td>\n",
       "      <td>0.964</td>\n",
       "      <td>0.924</td>\n",
       "      <td>0.000</td>\n",
       "      <td>0.000</td>\n",
       "      <td>0.856</td>\n",
       "    </tr>\n",
       "    <tr>\n",
       "      <th>Mean</th>\n",
       "      <td>0.954</td>\n",
       "      <td>0.997</td>\n",
       "      <td>0.997</td>\n",
       "      <td>0.911</td>\n",
       "      <td>0.918</td>\n",
       "      <td>0.956</td>\n",
       "      <td>0.907</td>\n",
       "      <td>0.001</td>\n",
       "      <td>0.012</td>\n",
       "      <td>0.852</td>\n",
       "    </tr>\n",
       "    <tr>\n",
       "      <th>SD</th>\n",
       "      <td>0.015</td>\n",
       "      <td>0.003</td>\n",
       "      <td>0.004</td>\n",
       "      <td>0.029</td>\n",
       "      <td>0.024</td>\n",
       "      <td>0.013</td>\n",
       "      <td>0.029</td>\n",
       "      <td>0.001</td>\n",
       "      <td>0.012</td>\n",
       "      <td>0.852</td>\n",
       "    </tr>\n",
       "  </tbody>\n",
       "</table>\n",
       "</div>"
      ],
      "text/plain": [
       "      Accuracy   AUC  Recall  Specificity  Prec.    F1  Kappa  \\\n",
       "0        0.937 0.998   0.992        0.882  0.894 0.940  0.874   \n",
       "1        0.954 0.994   0.992        0.916  0.922 0.956  0.908   \n",
       "2        0.971 1.000   1.000        0.941  0.944 0.971  0.941   \n",
       "3        0.950 0.997   0.992        0.908  0.915 0.952  0.899   \n",
       "4        0.950 1.000   1.000        0.899  0.908 0.952  0.899   \n",
       "5        0.975 0.998   1.000        0.950  0.952 0.975  0.950   \n",
       "6        0.924 1.000   1.000        0.849  0.868 0.929  0.848   \n",
       "7        0.966 0.992   0.992        0.941  0.944 0.967  0.932   \n",
       "8        0.949 0.999   1.000        0.898  0.908 0.952  0.899   \n",
       "9        0.962 0.998   1.000        0.924  0.930 0.964  0.924   \n",
       "Mean     0.954 0.997   0.997        0.911  0.918 0.956  0.907   \n",
       "SD       0.015 0.003   0.004        0.029  0.024 0.013  0.029   \n",
       "\n",
       "      Hosmer_lemeshow  Spiegelhalter  Scaled_brier  \n",
       "0               0.000          0.000         0.787  \n",
       "1               0.000          0.000         0.869  \n",
       "2               0.001          0.001         0.893  \n",
       "3               0.000          0.000         0.851  \n",
       "4               0.003          0.000         0.860  \n",
       "5               0.001          0.018         0.905  \n",
       "6               0.000          0.000         0.758  \n",
       "7               0.000          0.102         0.902  \n",
       "8               0.000          0.000         0.834  \n",
       "9               0.000          0.000         0.856  \n",
       "Mean            0.001          0.012         0.852  \n",
       "SD              0.001          0.012         0.852  "
      ]
     },
     "metadata": {},
     "output_type": "display_data"
    }
   ],
   "source": [
    "lgbmtuned = tune_model('lightgbm', optimize='AUC', n_iter=20)"
   ]
  },
  {
   "cell_type": "code",
   "execution_count": 67,
   "metadata": {},
   "outputs": [
    {
     "data": {
      "text/html": [
       "<div>\n",
       "<style scoped>\n",
       "    .dataframe tbody tr th:only-of-type {\n",
       "        vertical-align: middle;\n",
       "    }\n",
       "\n",
       "    .dataframe tbody tr th {\n",
       "        vertical-align: top;\n",
       "    }\n",
       "\n",
       "    .dataframe thead th {\n",
       "        text-align: right;\n",
       "    }\n",
       "</style>\n",
       "<table border=\"1\" class=\"dataframe\">\n",
       "  <thead>\n",
       "    <tr style=\"text-align: right;\">\n",
       "      <th></th>\n",
       "      <th>Accuracy</th>\n",
       "      <th>AUC</th>\n",
       "      <th>Recall</th>\n",
       "      <th>Specificity</th>\n",
       "      <th>Prec.</th>\n",
       "      <th>F1</th>\n",
       "      <th>Kappa</th>\n",
       "      <th>Hosmer_lemeshow</th>\n",
       "      <th>Spiegelhalter</th>\n",
       "      <th>Scaled_brier</th>\n",
       "    </tr>\n",
       "  </thead>\n",
       "  <tbody>\n",
       "    <tr>\n",
       "      <th>0</th>\n",
       "      <td>0.937</td>\n",
       "      <td>0.986</td>\n",
       "      <td>0.992</td>\n",
       "      <td>0.882</td>\n",
       "      <td>0.894</td>\n",
       "      <td>0.940</td>\n",
       "      <td>0.874</td>\n",
       "      <td>0.255</td>\n",
       "      <td>0.986</td>\n",
       "      <td>0.800</td>\n",
       "    </tr>\n",
       "    <tr>\n",
       "      <th>1</th>\n",
       "      <td>0.958</td>\n",
       "      <td>0.989</td>\n",
       "      <td>0.975</td>\n",
       "      <td>0.941</td>\n",
       "      <td>0.943</td>\n",
       "      <td>0.959</td>\n",
       "      <td>0.916</td>\n",
       "      <td>0.917</td>\n",
       "      <td>0.212</td>\n",
       "      <td>0.864</td>\n",
       "    </tr>\n",
       "    <tr>\n",
       "      <th>2</th>\n",
       "      <td>0.971</td>\n",
       "      <td>0.997</td>\n",
       "      <td>1.000</td>\n",
       "      <td>0.941</td>\n",
       "      <td>0.944</td>\n",
       "      <td>0.971</td>\n",
       "      <td>0.941</td>\n",
       "      <td>0.217</td>\n",
       "      <td>0.026</td>\n",
       "      <td>0.913</td>\n",
       "    </tr>\n",
       "    <tr>\n",
       "      <th>3</th>\n",
       "      <td>0.958</td>\n",
       "      <td>0.990</td>\n",
       "      <td>0.992</td>\n",
       "      <td>0.924</td>\n",
       "      <td>0.929</td>\n",
       "      <td>0.959</td>\n",
       "      <td>0.916</td>\n",
       "      <td>0.139</td>\n",
       "      <td>0.100</td>\n",
       "      <td>0.876</td>\n",
       "    </tr>\n",
       "    <tr>\n",
       "      <th>4</th>\n",
       "      <td>0.958</td>\n",
       "      <td>0.987</td>\n",
       "      <td>1.000</td>\n",
       "      <td>0.916</td>\n",
       "      <td>0.922</td>\n",
       "      <td>0.960</td>\n",
       "      <td>0.916</td>\n",
       "      <td>0.327</td>\n",
       "      <td>0.645</td>\n",
       "      <td>0.848</td>\n",
       "    </tr>\n",
       "    <tr>\n",
       "      <th>5</th>\n",
       "      <td>0.962</td>\n",
       "      <td>0.991</td>\n",
       "      <td>0.983</td>\n",
       "      <td>0.941</td>\n",
       "      <td>0.944</td>\n",
       "      <td>0.963</td>\n",
       "      <td>0.924</td>\n",
       "      <td>0.418</td>\n",
       "      <td>0.105</td>\n",
       "      <td>0.891</td>\n",
       "    </tr>\n",
       "    <tr>\n",
       "      <th>6</th>\n",
       "      <td>0.941</td>\n",
       "      <td>0.993</td>\n",
       "      <td>1.000</td>\n",
       "      <td>0.882</td>\n",
       "      <td>0.894</td>\n",
       "      <td>0.944</td>\n",
       "      <td>0.882</td>\n",
       "      <td>0.015</td>\n",
       "      <td>0.481</td>\n",
       "      <td>0.834</td>\n",
       "    </tr>\n",
       "    <tr>\n",
       "      <th>7</th>\n",
       "      <td>0.958</td>\n",
       "      <td>0.989</td>\n",
       "      <td>0.975</td>\n",
       "      <td>0.941</td>\n",
       "      <td>0.943</td>\n",
       "      <td>0.958</td>\n",
       "      <td>0.916</td>\n",
       "      <td>0.072</td>\n",
       "      <td>0.090</td>\n",
       "      <td>0.886</td>\n",
       "    </tr>\n",
       "    <tr>\n",
       "      <th>8</th>\n",
       "      <td>0.945</td>\n",
       "      <td>0.993</td>\n",
       "      <td>0.992</td>\n",
       "      <td>0.898</td>\n",
       "      <td>0.908</td>\n",
       "      <td>0.948</td>\n",
       "      <td>0.890</td>\n",
       "      <td>0.225</td>\n",
       "      <td>0.995</td>\n",
       "      <td>0.846</td>\n",
       "    </tr>\n",
       "    <tr>\n",
       "      <th>9</th>\n",
       "      <td>0.966</td>\n",
       "      <td>0.989</td>\n",
       "      <td>0.992</td>\n",
       "      <td>0.941</td>\n",
       "      <td>0.944</td>\n",
       "      <td>0.967</td>\n",
       "      <td>0.932</td>\n",
       "      <td>0.492</td>\n",
       "      <td>0.226</td>\n",
       "      <td>0.879</td>\n",
       "    </tr>\n",
       "    <tr>\n",
       "      <th>Mean</th>\n",
       "      <td>0.955</td>\n",
       "      <td>0.990</td>\n",
       "      <td>0.990</td>\n",
       "      <td>0.921</td>\n",
       "      <td>0.926</td>\n",
       "      <td>0.957</td>\n",
       "      <td>0.911</td>\n",
       "      <td>0.308</td>\n",
       "      <td>0.387</td>\n",
       "      <td>0.864</td>\n",
       "    </tr>\n",
       "    <tr>\n",
       "      <th>SD</th>\n",
       "      <td>0.010</td>\n",
       "      <td>0.003</td>\n",
       "      <td>0.009</td>\n",
       "      <td>0.024</td>\n",
       "      <td>0.020</td>\n",
       "      <td>0.009</td>\n",
       "      <td>0.021</td>\n",
       "      <td>0.308</td>\n",
       "      <td>0.387</td>\n",
       "      <td>0.864</td>\n",
       "    </tr>\n",
       "  </tbody>\n",
       "</table>\n",
       "</div>"
      ],
      "text/plain": [
       "      Accuracy   AUC  Recall  Specificity  Prec.    F1  Kappa  \\\n",
       "0        0.937 0.986   0.992        0.882  0.894 0.940  0.874   \n",
       "1        0.958 0.989   0.975        0.941  0.943 0.959  0.916   \n",
       "2        0.971 0.997   1.000        0.941  0.944 0.971  0.941   \n",
       "3        0.958 0.990   0.992        0.924  0.929 0.959  0.916   \n",
       "4        0.958 0.987   1.000        0.916  0.922 0.960  0.916   \n",
       "5        0.962 0.991   0.983        0.941  0.944 0.963  0.924   \n",
       "6        0.941 0.993   1.000        0.882  0.894 0.944  0.882   \n",
       "7        0.958 0.989   0.975        0.941  0.943 0.958  0.916   \n",
       "8        0.945 0.993   0.992        0.898  0.908 0.948  0.890   \n",
       "9        0.966 0.989   0.992        0.941  0.944 0.967  0.932   \n",
       "Mean     0.955 0.990   0.990        0.921  0.926 0.957  0.911   \n",
       "SD       0.010 0.003   0.009        0.024  0.020 0.009  0.021   \n",
       "\n",
       "      Hosmer_lemeshow  Spiegelhalter  Scaled_brier  \n",
       "0               0.255          0.986         0.800  \n",
       "1               0.917          0.212         0.864  \n",
       "2               0.217          0.026         0.913  \n",
       "3               0.139          0.100         0.876  \n",
       "4               0.327          0.645         0.848  \n",
       "5               0.418          0.105         0.891  \n",
       "6               0.015          0.481         0.834  \n",
       "7               0.072          0.090         0.886  \n",
       "8               0.225          0.995         0.846  \n",
       "9               0.492          0.226         0.879  \n",
       "Mean            0.308          0.387         0.864  \n",
       "SD              0.308          0.387         0.864  "
      ]
     },
     "metadata": {},
     "output_type": "display_data"
    }
   ],
   "source": [
    "xgbtuned = tune_model('xgboost', optimize='AUC', n_iter=20)"
   ]
  },
  {
   "cell_type": "markdown",
   "metadata": {},
   "source": [
    "### Select best algorithm based on AUC in predicts"
   ]
  },
  {
   "cell_type": "code",
   "execution_count": 68,
   "metadata": {},
   "outputs": [
    {
     "data": {
      "text/html": [
       "<div>\n",
       "<style scoped>\n",
       "    .dataframe tbody tr th:only-of-type {\n",
       "        vertical-align: middle;\n",
       "    }\n",
       "\n",
       "    .dataframe tbody tr th {\n",
       "        vertical-align: top;\n",
       "    }\n",
       "\n",
       "    .dataframe thead th {\n",
       "        text-align: right;\n",
       "    }\n",
       "</style>\n",
       "<table border=\"1\" class=\"dataframe\">\n",
       "  <thead>\n",
       "    <tr style=\"text-align: right;\">\n",
       "      <th></th>\n",
       "      <th>Model</th>\n",
       "      <th>Accuracy</th>\n",
       "      <th>AUC</th>\n",
       "      <th>Recall</th>\n",
       "      <th>Specificity</th>\n",
       "      <th>Prec.</th>\n",
       "      <th>F1</th>\n",
       "      <th>Kappa</th>\n",
       "      <th>Hosmer_lemeshow</th>\n",
       "      <th>Spiegelhalter</th>\n",
       "      <th>Scaled_brier</th>\n",
       "    </tr>\n",
       "  </thead>\n",
       "  <tbody>\n",
       "    <tr>\n",
       "      <th>0</th>\n",
       "      <td>CatBoost Classifier</td>\n",
       "      <td>0.887</td>\n",
       "      <td>0.951</td>\n",
       "      <td>0.653</td>\n",
       "      <td>0.943</td>\n",
       "      <td>0.732</td>\n",
       "      <td>0.690</td>\n",
       "      <td>0.622</td>\n",
       "      <td>0.051</td>\n",
       "      <td>0.001</td>\n",
       "      <td>0.530</td>\n",
       "    </tr>\n",
       "  </tbody>\n",
       "</table>\n",
       "</div>"
      ],
      "text/plain": [
       "                 Model  Accuracy   AUC  Recall  Specificity  Prec.    F1  \\\n",
       "0  CatBoost Classifier     0.887 0.951   0.653        0.943  0.732 0.690   \n",
       "\n",
       "   Kappa  Hosmer_lemeshow  Spiegelhalter  Scaled_brier  \n",
       "0  0.622            0.051          0.001         0.530  "
      ]
     },
     "metadata": {},
     "output_type": "display_data"
    }
   ],
   "source": [
    "preds_cat = predict_model(cattuned)"
   ]
  },
  {
   "cell_type": "code",
   "execution_count": 69,
   "metadata": {},
   "outputs": [
    {
     "data": {
      "text/html": [
       "<div>\n",
       "<style scoped>\n",
       "    .dataframe tbody tr th:only-of-type {\n",
       "        vertical-align: middle;\n",
       "    }\n",
       "\n",
       "    .dataframe tbody tr th {\n",
       "        vertical-align: top;\n",
       "    }\n",
       "\n",
       "    .dataframe thead th {\n",
       "        text-align: right;\n",
       "    }\n",
       "</style>\n",
       "<table border=\"1\" class=\"dataframe\">\n",
       "  <thead>\n",
       "    <tr style=\"text-align: right;\">\n",
       "      <th></th>\n",
       "      <th>Model</th>\n",
       "      <th>Accuracy</th>\n",
       "      <th>AUC</th>\n",
       "      <th>Recall</th>\n",
       "      <th>Specificity</th>\n",
       "      <th>Prec.</th>\n",
       "      <th>F1</th>\n",
       "      <th>Kappa</th>\n",
       "      <th>Hosmer_lemeshow</th>\n",
       "      <th>Spiegelhalter</th>\n",
       "      <th>Scaled_brier</th>\n",
       "    </tr>\n",
       "  </thead>\n",
       "  <tbody>\n",
       "    <tr>\n",
       "      <th>0</th>\n",
       "      <td>Light Gradient Boosting Machine</td>\n",
       "      <td>0.891</td>\n",
       "      <td>0.951</td>\n",
       "      <td>0.785</td>\n",
       "      <td>0.916</td>\n",
       "      <td>0.688</td>\n",
       "      <td>0.734</td>\n",
       "      <td>0.665</td>\n",
       "      <td>0.000</td>\n",
       "      <td>0.000</td>\n",
       "      <td>0.462</td>\n",
       "    </tr>\n",
       "  </tbody>\n",
       "</table>\n",
       "</div>"
      ],
      "text/plain": [
       "                             Model  Accuracy   AUC  Recall  Specificity  \\\n",
       "0  Light Gradient Boosting Machine     0.891 0.951   0.785        0.916   \n",
       "\n",
       "   Prec.    F1  Kappa  Hosmer_lemeshow  Spiegelhalter  Scaled_brier  \n",
       "0  0.688 0.734  0.665            0.000          0.000         0.462  "
      ]
     },
     "metadata": {},
     "output_type": "display_data"
    }
   ],
   "source": [
    "preds_lgb = predict_model(lgbmtuned)"
   ]
  },
  {
   "cell_type": "code",
   "execution_count": 70,
   "metadata": {},
   "outputs": [
    {
     "data": {
      "text/html": [
       "<div>\n",
       "<style scoped>\n",
       "    .dataframe tbody tr th:only-of-type {\n",
       "        vertical-align: middle;\n",
       "    }\n",
       "\n",
       "    .dataframe tbody tr th {\n",
       "        vertical-align: top;\n",
       "    }\n",
       "\n",
       "    .dataframe thead th {\n",
       "        text-align: right;\n",
       "    }\n",
       "</style>\n",
       "<table border=\"1\" class=\"dataframe\">\n",
       "  <thead>\n",
       "    <tr style=\"text-align: right;\">\n",
       "      <th></th>\n",
       "      <th>Model</th>\n",
       "      <th>Accuracy</th>\n",
       "      <th>AUC</th>\n",
       "      <th>Recall</th>\n",
       "      <th>Specificity</th>\n",
       "      <th>Prec.</th>\n",
       "      <th>F1</th>\n",
       "      <th>Kappa</th>\n",
       "      <th>Hosmer_lemeshow</th>\n",
       "      <th>Spiegelhalter</th>\n",
       "      <th>Scaled_brier</th>\n",
       "    </tr>\n",
       "  </thead>\n",
       "  <tbody>\n",
       "    <tr>\n",
       "      <th>0</th>\n",
       "      <td>Extreme Gradient Boosting</td>\n",
       "      <td>0.894</td>\n",
       "      <td>0.954</td>\n",
       "      <td>0.777</td>\n",
       "      <td>0.922</td>\n",
       "      <td>0.702</td>\n",
       "      <td>0.737</td>\n",
       "      <td>0.671</td>\n",
       "      <td>0.061</td>\n",
       "      <td>0.004</td>\n",
       "      <td>0.540</td>\n",
       "    </tr>\n",
       "  </tbody>\n",
       "</table>\n",
       "</div>"
      ],
      "text/plain": [
       "                       Model  Accuracy   AUC  Recall  Specificity  Prec.  \\\n",
       "0  Extreme Gradient Boosting     0.894 0.954   0.777        0.922  0.702   \n",
       "\n",
       "     F1  Kappa  Hosmer_lemeshow  Spiegelhalter  Scaled_brier  \n",
       "0 0.737  0.671            0.061          0.004         0.540  "
      ]
     },
     "metadata": {},
     "output_type": "display_data"
    }
   ],
   "source": [
    "preds_xgb = predict_model(xgbtuned)"
   ]
  },
  {
   "cell_type": "code",
   "execution_count": 71,
   "metadata": {},
   "outputs": [],
   "source": [
    "# Put in PREDS the best algorithm chosen in the previous lines: preds_cat OR preds_lgb OR preds_xgb\n",
    "#preds = preds_cat\n",
    "#preds = preds_lgb\n",
    "preds = preds_xgb"
   ]
  },
  {
   "cell_type": "markdown",
   "metadata": {},
   "source": [
    "### Best model"
   ]
  },
  {
   "cell_type": "code",
   "execution_count": 72,
   "metadata": {},
   "outputs": [
    {
     "data": {
      "text/plain": [
       "0.9456740442655935"
      ]
     },
     "execution_count": 72,
     "metadata": {},
     "output_type": "execute_result"
    }
   ],
   "source": [
    "npv(y_test, preds['Label'])"
   ]
  },
  {
   "cell_type": "code",
   "execution_count": 73,
   "metadata": {},
   "outputs": [
    {
     "data": {
      "text/plain": [
       "['0.94', '0.97']"
      ]
     },
     "execution_count": 73,
     "metadata": {},
     "output_type": "execute_result"
    }
   ],
   "source": [
    "#ROC AUC (INTERVALO)\n",
    "[\"{0:0.2f}\".format(i) for i in AUC_CI(y_test, preds['Score'].values)]"
   ]
  },
  {
   "cell_type": "code",
   "execution_count": 74,
   "metadata": {},
   "outputs": [
    {
     "data": {
      "text/html": [
       "<div>\n",
       "<style scoped>\n",
       "    .dataframe tbody tr th:only-of-type {\n",
       "        vertical-align: middle;\n",
       "    }\n",
       "\n",
       "    .dataframe tbody tr th {\n",
       "        vertical-align: top;\n",
       "    }\n",
       "\n",
       "    .dataframe thead th {\n",
       "        text-align: right;\n",
       "    }\n",
       "</style>\n",
       "<table border=\"1\" class=\"dataframe\">\n",
       "  <thead>\n",
       "    <tr style=\"text-align: right;\">\n",
       "      <th></th>\n",
       "      <th></th>\n",
       "      <th></th>\n",
       "    </tr>\n",
       "    <tr>\n",
       "      <th></th>\n",
       "      <th></th>\n",
       "      <th></th>\n",
       "    </tr>\n",
       "  </thead>\n",
       "  <tbody>\n",
       "    <tr>\n",
       "      <th>Ground Truth Prevalence</th>\n",
       "      <td>. . .</td>\n",
       "      <td>0.192</td>\n",
       "    </tr>\n",
       "    <tr>\n",
       "      <th>Test set Prevalence</th>\n",
       "      <td>. . .</td>\n",
       "      <td>0.212</td>\n",
       "    </tr>\n",
       "    <tr>\n",
       "      <th>True positive rate (recall)</th>\n",
       "      <td>. . .</td>\n",
       "      <td>0.777</td>\n",
       "    </tr>\n",
       "    <tr>\n",
       "      <th>False positive rate</th>\n",
       "      <td>. . .</td>\n",
       "      <td>0.078</td>\n",
       "    </tr>\n",
       "    <tr>\n",
       "      <th>Positive predictive value (precision)</th>\n",
       "      <td>. . .</td>\n",
       "      <td>0.701</td>\n",
       "    </tr>\n",
       "    <tr>\n",
       "      <th>True negative rate (specificity)</th>\n",
       "      <td>. . .</td>\n",
       "      <td>0.922</td>\n",
       "    </tr>\n",
       "    <tr>\n",
       "      <th>False negative rate</th>\n",
       "      <td>. . .</td>\n",
       "      <td>0.223</td>\n",
       "    </tr>\n",
       "    <tr>\n",
       "      <th>Negative predictive value</th>\n",
       "      <td>. . .</td>\n",
       "      <td>0.946</td>\n",
       "    </tr>\n",
       "    <tr>\n",
       "      <th>Positive likelihood ratio (bigger is better)</th>\n",
       "      <td>. . .</td>\n",
       "      <td>9.905</td>\n",
       "    </tr>\n",
       "    <tr>\n",
       "      <th>Negative likelihood ratio (smaller is better)</th>\n",
       "      <td>. . .</td>\n",
       "      <td>0.242</td>\n",
       "    </tr>\n",
       "    <tr>\n",
       "      <th>Diagnostic odds ratio</th>\n",
       "      <td>. . .</td>\n",
       "      <td>40.907</td>\n",
       "    </tr>\n",
       "    <tr>\n",
       "      <th>Accuracy</th>\n",
       "      <td>. . .</td>\n",
       "      <td>0.894</td>\n",
       "    </tr>\n",
       "    <tr>\n",
       "      <th>F1 score</th>\n",
       "      <td>. . .</td>\n",
       "      <td>0.737</td>\n",
       "    </tr>\n",
       "    <tr>\n",
       "      <th>Accuracy</th>\n",
       "      <td>. . .</td>\n",
       "      <td>0.894</td>\n",
       "    </tr>\n",
       "    <tr>\n",
       "      <th>ROC AUC</th>\n",
       "      <td>. . .</td>\n",
       "      <td>0.954</td>\n",
       "    </tr>\n",
       "    <tr>\n",
       "      <th>ROC AUC (95% CI)</th>\n",
       "      <td>. . .</td>\n",
       "      <td>[0.94, 0.97]</td>\n",
       "    </tr>\n",
       "    <tr>\n",
       "      <th>Scaled Brier Score</th>\n",
       "      <td>. . .</td>\n",
       "      <td>0.540</td>\n",
       "    </tr>\n",
       "    <tr>\n",
       "      <th>Hosmer_Lemeshow p-value</th>\n",
       "      <td>. . .</td>\n",
       "      <td>0.061</td>\n",
       "    </tr>\n",
       "    <tr>\n",
       "      <th>Spiegelhalter p-value</th>\n",
       "      <td>. . .</td>\n",
       "      <td>0.004</td>\n",
       "    </tr>\n",
       "  </tbody>\n",
       "</table>\n",
       "</div>"
      ],
      "text/plain": [
       "                                                                   \n",
       "                                                                   \n",
       "Ground Truth Prevalence                        . . .          0.192\n",
       "Test set Prevalence                            . . .          0.212\n",
       "True positive rate (recall)                    . . .          0.777\n",
       "False positive rate                            . . .          0.078\n",
       "Positive predictive value (precision)          . . .          0.701\n",
       "True negative rate (specificity)               . . .          0.922\n",
       "False negative rate                            . . .          0.223\n",
       "Negative predictive value                      . . .          0.946\n",
       "Positive likelihood ratio (bigger is better)   . . .          9.905\n",
       "Negative likelihood ratio (smaller is better)  . . .          0.242\n",
       "Diagnostic odds ratio                          . . .         40.907\n",
       "Accuracy                                       . . .          0.894\n",
       "F1 score                                       . . .          0.737\n",
       "Accuracy                                       . . .          0.894\n",
       "ROC AUC                                        . . .          0.954\n",
       "ROC AUC (95% CI)                               . . .   [0.94, 0.97]\n",
       "Scaled Brier Score                             . . .          0.540\n",
       "Hosmer_Lemeshow p-value                        . . .          0.061\n",
       "Spiegelhalter p-value                          . . .          0.004"
      ]
     },
     "metadata": {},
     "output_type": "display_data"
    },
    {
     "data": {
      "image/png": "[encoded data removed]",
      "text/plain": [
       "<Figure size 1500x2000 with 5 Axes>"
      ]
     },
     "metadata": {},
     "output_type": "display_data"
    },
    {
     "data": {
      "image/png": "[encoded data removed]",
      "text/plain": [
       "<Figure size 640x480 with 1 Axes>"
      ]
     },
     "metadata": {},
     "output_type": "display_data"
    },
    {
     "data": {
      "text/html": [
       "<div>\n",
       "<style scoped>\n",
       "    .dataframe tbody tr th:only-of-type {\n",
       "        vertical-align: middle;\n",
       "    }\n",
       "\n",
       "    .dataframe tbody tr th {\n",
       "        vertical-align: top;\n",
       "    }\n",
       "\n",
       "    .dataframe thead th {\n",
       "        text-align: right;\n",
       "    }\n",
       "</style>\n",
       "<table border=\"1\" class=\"dataframe\">\n",
       "  <thead>\n",
       "    <tr style=\"text-align: right;\">\n",
       "      <th></th>\n",
       "      <th></th>\n",
       "      <th></th>\n",
       "    </tr>\n",
       "    <tr>\n",
       "      <th></th>\n",
       "      <th></th>\n",
       "      <th></th>\n",
       "    </tr>\n",
       "  </thead>\n",
       "  <tbody>\n",
       "    <tr>\n",
       "      <th>Ground Truth Prevalence</th>\n",
       "      <td>. . .</td>\n",
       "      <td>0.192</td>\n",
       "    </tr>\n",
       "    <tr>\n",
       "      <th>Test set Prevalence</th>\n",
       "      <td>. . .</td>\n",
       "      <td>0.212</td>\n",
       "    </tr>\n",
       "    <tr>\n",
       "      <th>True positive rate (recall)</th>\n",
       "      <td>. . .</td>\n",
       "      <td>0.777</td>\n",
       "    </tr>\n",
       "    <tr>\n",
       "      <th>False positive rate</th>\n",
       "      <td>. . .</td>\n",
       "      <td>0.078</td>\n",
       "    </tr>\n",
       "    <tr>\n",
       "      <th>Positive predictive value (precision)</th>\n",
       "      <td>. . .</td>\n",
       "      <td>0.701</td>\n",
       "    </tr>\n",
       "    <tr>\n",
       "      <th>True negative rate (specificity)</th>\n",
       "      <td>. . .</td>\n",
       "      <td>0.922</td>\n",
       "    </tr>\n",
       "    <tr>\n",
       "      <th>False negative rate</th>\n",
       "      <td>. . .</td>\n",
       "      <td>0.223</td>\n",
       "    </tr>\n",
       "    <tr>\n",
       "      <th>Negative predictive value</th>\n",
       "      <td>. . .</td>\n",
       "      <td>0.946</td>\n",
       "    </tr>\n",
       "    <tr>\n",
       "      <th>Positive likelihood ratio (bigger is better)</th>\n",
       "      <td>. . .</td>\n",
       "      <td>9.905</td>\n",
       "    </tr>\n",
       "    <tr>\n",
       "      <th>Negative likelihood ratio (smaller is better)</th>\n",
       "      <td>. . .</td>\n",
       "      <td>0.242</td>\n",
       "    </tr>\n",
       "    <tr>\n",
       "      <th>Diagnostic odds ratio</th>\n",
       "      <td>. . .</td>\n",
       "      <td>40.907</td>\n",
       "    </tr>\n",
       "    <tr>\n",
       "      <th>Accuracy</th>\n",
       "      <td>. . .</td>\n",
       "      <td>0.894</td>\n",
       "    </tr>\n",
       "    <tr>\n",
       "      <th>F1 score</th>\n",
       "      <td>. . .</td>\n",
       "      <td>0.737</td>\n",
       "    </tr>\n",
       "    <tr>\n",
       "      <th>Accuracy</th>\n",
       "      <td>. . .</td>\n",
       "      <td>0.894</td>\n",
       "    </tr>\n",
       "    <tr>\n",
       "      <th>ROC AUC</th>\n",
       "      <td>. . .</td>\n",
       "      <td>0.954</td>\n",
       "    </tr>\n",
       "    <tr>\n",
       "      <th>ROC AUC (95% CI)</th>\n",
       "      <td>. . .</td>\n",
       "      <td>[0.94, 0.97]</td>\n",
       "    </tr>\n",
       "    <tr>\n",
       "      <th>Scaled Brier Score</th>\n",
       "      <td>. . .</td>\n",
       "      <td>0.540</td>\n",
       "    </tr>\n",
       "    <tr>\n",
       "      <th>Hosmer_Lemeshow p-value</th>\n",
       "      <td>. . .</td>\n",
       "      <td>0.061</td>\n",
       "    </tr>\n",
       "    <tr>\n",
       "      <th>Spiegelhalter p-value</th>\n",
       "      <td>. . .</td>\n",
       "      <td>0.004</td>\n",
       "    </tr>\n",
       "  </tbody>\n",
       "</table>\n",
       "</div>"
      ],
      "text/plain": [
       "                                                                   \n",
       "                                                                   \n",
       "Ground Truth Prevalence                        . . .          0.192\n",
       "Test set Prevalence                            . . .          0.212\n",
       "True positive rate (recall)                    . . .          0.777\n",
       "False positive rate                            . . .          0.078\n",
       "Positive predictive value (precision)          . . .          0.701\n",
       "True negative rate (specificity)               . . .          0.922\n",
       "False negative rate                            . . .          0.223\n",
       "Negative predictive value                      . . .          0.946\n",
       "Positive likelihood ratio (bigger is better)   . . .          9.905\n",
       "Negative likelihood ratio (smaller is better)  . . .          0.242\n",
       "Diagnostic odds ratio                          . . .         40.907\n",
       "Accuracy                                       . . .          0.894\n",
       "F1 score                                       . . .          0.737\n",
       "Accuracy                                       . . .          0.894\n",
       "ROC AUC                                        . . .          0.954\n",
       "ROC AUC (95% CI)                               . . .   [0.94, 0.97]\n",
       "Scaled Brier Score                             . . .          0.540\n",
       "Hosmer_Lemeshow p-value                        . . .          0.061\n",
       "Spiegelhalter p-value                          . . .          0.004"
      ]
     },
     "execution_count": 74,
     "metadata": {},
     "output_type": "execute_result"
    }
   ],
   "source": [
    "import MLFlow_Utils\n",
    "binary_classification_metrics(y_test, preds[\"Label\"], preds[\"Score\"])"
   ]
  },
  {
   "cell_type": "markdown",
   "metadata": {},
   "source": [
    "### Understand best algorithm features and results\n",
    "#### Run INTERPRETE_MODEL only for the best algorithm chosen in the previous lines"
   ]
  },
  {
   "cell_type": "code",
   "execution_count": 75,
   "metadata": {},
   "outputs": [],
   "source": [
    "#evaluate_model(lgbmtuned)"
   ]
  },
  {
   "cell_type": "code",
   "execution_count": 76,
   "metadata": {},
   "outputs": [
    {
     "data": {
      "image/png": "[encoded data removed]",
      "text/plain": [
       "<Figure size 800x950 with 2 Axes>"
      ]
     },
     "metadata": {},
     "output_type": "display_data"
    }
   ],
   "source": [
    "#interpret_model(cattuned)\n",
    "#interpret_model(lgbmtuned)\n",
    "interpret_model(xgbtuned)"
   ]
  },
  {
   "cell_type": "code",
   "execution_count": 77,
   "metadata": {},
   "outputs": [],
   "source": [
    "#plot_model(lgbmtuned, plot='ktops')"
   ]
  },
  {
   "cell_type": "markdown",
   "metadata": {},
   "source": [
    "### 2.3.1) Build a model with all data\n",
    "#### Run FINALIZE MODEL only for the best algorithm chosen in the previous lines"
   ]
  },
  {
   "cell_type": "code",
   "execution_count": 78,
   "metadata": {},
   "outputs": [],
   "source": [
    "#final_model = finalize_model(cattuned)\n",
    "#final_model = finalize_model(lgbmtuned)\n",
    "final_model = finalize_model(xgbtuned)"
   ]
  },
  {
   "cell_type": "code",
   "execution_count": 79,
   "metadata": {},
   "outputs": [
    {
     "data": {
      "text/plain": [
       "'XGBClassifier'"
      ]
     },
     "execution_count": 79,
     "metadata": {},
     "output_type": "execute_result"
    }
   ],
   "source": [
    "str(final_model.__class__.__name__)"
   ]
  },
  {
   "cell_type": "code",
   "execution_count": 80,
   "metadata": {},
   "outputs": [
    {
     "data": {
      "text/plain": [
       "'XGBClassifier_all_regions_abs_number_SUDESTE_SP_HC_USP'"
      ]
     },
     "execution_count": 80,
     "metadata": {},
     "output_type": "execute_result"
    }
   ],
   "source": [
    "final_model_name = str(final_model.__class__.__name__) + '_all_regions_abs_number_' \\\n",
    "                    + X_test_specific.region.iloc[0]  \\\n",
    "                    + '_' + X_test_specific.state.iloc[0]  \\\n",
    "                    + '_' + X_test_specific.city_hospital.iloc[0]\n",
    "final_model_name"
   ]
  },
  {
   "cell_type": "code",
   "execution_count": 81,
   "metadata": {},
   "outputs": [
    {
     "name": "stdout",
     "output_type": "stream",
     "text": [
      "Transformation Pipeline and Model Succesfully Saved\n"
     ]
    }
   ],
   "source": [
    "save_model(final_model, final_model_name ,verbose=True)"
   ]
  },
  {
   "cell_type": "code",
   "execution_count": 82,
   "metadata": {},
   "outputs": [
    {
     "data": {
      "text/html": [
       "<style>#sk-container-id-1 {\n",
       "  /* Definition of color scheme common for light and dark mode */\n",
       "  --sklearn-color-text: black;\n",
       "  --sklearn-color-line: gray;\n",
       "  /* Definition of color scheme for unfitted estimators */\n",
       "  --sklearn-color-unfitted-level-0: #fff5e6;\n",
       "  --sklearn-color-unfitted-level-1: #f6e4d2;\n",
       "  --sklearn-color-unfitted-level-2: #ffe0b3;\n",
       "  --sklearn-color-unfitted-level-3: chocolate;\n",
       "  /* Definition of color scheme for fitted estimators */\n",
       "  --sklearn-color-fitted-level-0: #f0f8ff;\n",
       "  --sklearn-color-fitted-level-1: #d4ebff;\n",
       "  --sklearn-color-fitted-level-2: #b3dbfd;\n",
       "  --sklearn-color-fitted-level-3: cornflowerblue;\n",
       "\n",
       "  /* Specific color for light theme */\n",
       "  --sklearn-color-text-on-default-background: var(--sg-text-color, var(--theme-code-foreground, var(--jp-content-font-color1, black)));\n",
       "  --sklearn-color-background: var(--sg-background-color, var(--theme-background, var(--jp-layout-color0, white)));\n",
       "  --sklearn-color-border-box: var(--sg-text-color, var(--theme-code-foreground, var(--jp-content-font-color1, black)));\n",
       "  --sklearn-color-icon: #696969;\n",
       "\n",
       "  @media (prefers-color-scheme: dark) {\n",
       "    /* Redefinition of color scheme for dark theme */\n",
       "    --sklearn-color-text-on-default-background: var(--sg-text-color, var(--theme-code-foreground, var(--jp-content-font-color1, white)));\n",
       "    --sklearn-color-background: var(--sg-background-color, var(--theme-background, var(--jp-layout-color0, #111)));\n",
       "    --sklearn-color-border-box: var(--sg-text-color, var(--theme-code-foreground, var(--jp-content-font-color1, white)));\n",
       "    --sklearn-color-icon: #878787;\n",
       "  }\n",
       "}\n",
       "\n",
       "#sk-container-id-1 {\n",
       "  color: var(--sklearn-color-text);\n",
       "}\n",
       "\n",
       "#sk-container-id-1 pre {\n",
       "  padding: 0;\n",
       "}\n",
       "\n",
       "#sk-container-id-1 input.sk-hidden--visually {\n",
       "  border: 0;\n",
       "  clip: rect(1px 1px 1px 1px);\n",
       "  clip: rect(1px, 1px, 1px, 1px);\n",
       "  height: 1px;\n",
       "  margin: -1px;\n",
       "  overflow: hidden;\n",
       "  padding: 0;\n",
       "  position: absolute;\n",
       "  width: 1px;\n",
       "}\n",
       "\n",
       "#sk-container-id-1 div.sk-dashed-wrapped {\n",
       "  border: 1px dashed var(--sklearn-color-line);\n",
       "  margin: 0 0.4em 0.5em 0.4em;\n",
       "  box-sizing: border-box;\n",
       "  padding-bottom: 0.4em;\n",
       "  background-color: var(--sklearn-color-background);\n",
       "}\n",
       "\n",
       "#sk-container-id-1 div.sk-container {\n",
       "  /* jupyter's `normalize.less` sets `[hidden] { display: none; }`\n",
       "     but bootstrap.min.css set `[hidden] { display: none !important; }`\n",
       "     so we also need the `!important` here to be able to override the\n",
       "     default hidden behavior on the sphinx rendered scikit-learn.org.\n",
       "     See: https://github.com/scikit-learn/scikit-learn/issues/21755 */\n",
       "  display: inline-block !important;\n",
       "  position: relative;\n",
       "}\n",
       "\n",
       "#sk-container-id-1 div.sk-text-repr-fallback {\n",
       "  display: none;\n",
       "}\n",
       "\n",
       "div.sk-parallel-item,\n",
       "div.sk-serial,\n",
       "div.sk-item {\n",
       "  /* draw centered vertical line to link estimators */\n",
       "  background-image: linear-gradient(var(--sklearn-color-text-on-default-background), var(--sklearn-color-text-on-default-background));\n",
       "  background-size: 2px 100%;\n",
       "  background-repeat: no-repeat;\n",
       "  background-position: center center;\n",
       "}\n",
       "\n",
       "/* Parallel-specific style estimator block */\n",
       "\n",
       "#sk-container-id-1 div.sk-parallel-item::after {\n",
       "  content: \"\";\n",
       "  width: 100%;\n",
       "  border-bottom: 2px solid var(--sklearn-color-text-on-default-background);\n",
       "  flex-grow: 1;\n",
       "}\n",
       "\n",
       "#sk-container-id-1 div.sk-parallel {\n",
       "  display: flex;\n",
       "  align-items: stretch;\n",
       "  justify-content: center;\n",
       "  background-color: var(--sklearn-color-background);\n",
       "  position: relative;\n",
       "}\n",
       "\n",
       "#sk-container-id-1 div.sk-parallel-item {\n",
       "  display: flex;\n",
       "  flex-direction: column;\n",
       "}\n",
       "\n",
       "#sk-container-id-1 div.sk-parallel-item:first-child::after {\n",
       "  align-self: flex-end;\n",
       "  width: 50%;\n",
       "}\n",
       "\n",
       "#sk-container-id-1 div.sk-parallel-item:last-child::after {\n",
       "  align-self: flex-start;\n",
       "  width: 50%;\n",
       "}\n",
       "\n",
       "#sk-container-id-1 div.sk-parallel-item:only-child::after {\n",
       "  width: 0;\n",
       "}\n",
       "\n",
       "/* Serial-specific style estimator block */\n",
       "\n",
       "#sk-container-id-1 div.sk-serial {\n",
       "  display: flex;\n",
       "  flex-direction: column;\n",
       "  align-items: center;\n",
       "  background-color: var(--sklearn-color-background);\n",
       "  padding-right: 1em;\n",
       "  padding-left: 1em;\n",
       "}\n",
       "\n",
       "\n",
       "/* Toggleable style: style used for estimator/Pipeline/ColumnTransformer box that is\n",
       "clickable and can be expanded/collapsed.\n",
       "- Pipeline and ColumnTransformer use this feature and define the default style\n",
       "- Estimators will overwrite some part of the style using the `sk-estimator` class\n",
       "*/\n",
       "\n",
       "/* Pipeline and ColumnTransformer style (default) */\n",
       "\n",
       "#sk-container-id-1 div.sk-toggleable {\n",
       "  /* Default theme specific background. It is overwritten whether we have a\n",
       "  specific estimator or a Pipeline/ColumnTransformer */\n",
       "  background-color: var(--sklearn-color-background);\n",
       "}\n",
       "\n",
       "/* Toggleable label */\n",
       "#sk-container-id-1 label.sk-toggleable__label {\n",
       "  cursor: pointer;\n",
       "  display: block;\n",
       "  width: 100%;\n",
       "  margin-bottom: 0;\n",
       "  padding: 0.5em;\n",
       "  box-sizing: border-box;\n",
       "  text-align: center;\n",
       "}\n",
       "\n",
       "#sk-container-id-1 label.sk-toggleable__label-arrow:before {\n",
       "  /* Arrow on the left of the label */\n",
       "  content: \"▸\";\n",
       "  float: left;\n",
       "  margin-right: 0.25em;\n",
       "  color: var(--sklearn-color-icon);\n",
       "}\n",
       "\n",
       "#sk-container-id-1 label.sk-toggleable__label-arrow:hover:before {\n",
       "  color: var(--sklearn-color-text);\n",
       "}\n",
       "\n",
       "/* Toggleable content - dropdown */\n",
       "\n",
       "#sk-container-id-1 div.sk-toggleable__content {\n",
       "  max-height: 0;\n",
       "  max-width: 0;\n",
       "  overflow: hidden;\n",
       "  text-align: left;\n",
       "  /* unfitted */\n",
       "  background-color: var(--sklearn-color-unfitted-level-0);\n",
       "}\n",
       "\n",
       "#sk-container-id-1 div.sk-toggleable__content.fitted {\n",
       "  /* fitted */\n",
       "  background-color: var(--sklearn-color-fitted-level-0);\n",
       "}\n",
       "\n",
       "#sk-container-id-1 div.sk-toggleable__content pre {\n",
       "  margin: 0.2em;\n",
       "  border-radius: 0.25em;\n",
       "  color: var(--sklearn-color-text);\n",
       "  /* unfitted */\n",
       "  background-color: var(--sklearn-color-unfitted-level-0);\n",
       "}\n",
       "\n",
       "#sk-container-id-1 div.sk-toggleable__content.fitted pre {\n",
       "  /* unfitted */\n",
       "  background-color: var(--sklearn-color-fitted-level-0);\n",
       "}\n",
       "\n",
       "#sk-container-id-1 input.sk-toggleable__control:checked~div.sk-toggleable__content {\n",
       "  /* Expand drop-down */\n",
       "  max-height: 200px;\n",
       "  max-width: 100%;\n",
       "  overflow: auto;\n",
       "}\n",
       "\n",
       "#sk-container-id-1 input.sk-toggleable__control:checked~label.sk-toggleable__label-arrow:before {\n",
       "  content: \"▾\";\n",
       "}\n",
       "\n",
       "/* Pipeline/ColumnTransformer-specific style */\n",
       "\n",
       "#sk-container-id-1 div.sk-label input.sk-toggleable__control:checked~label.sk-toggleable__label {\n",
       "  color: var(--sklearn-color-text);\n",
       "  background-color: var(--sklearn-color-unfitted-level-2);\n",
       "}\n",
       "\n",
       "#sk-container-id-1 div.sk-label.fitted input.sk-toggleable__control:checked~label.sk-toggleable__label {\n",
       "  background-color: var(--sklearn-color-fitted-level-2);\n",
       "}\n",
       "\n",
       "/* Estimator-specific style */\n",
       "\n",
       "/* Colorize estimator box */\n",
       "#sk-container-id-1 div.sk-estimator input.sk-toggleable__control:checked~label.sk-toggleable__label {\n",
       "  /* unfitted */\n",
       "  background-color: var(--sklearn-color-unfitted-level-2);\n",
       "}\n",
       "\n",
       "#sk-container-id-1 div.sk-estimator.fitted input.sk-toggleable__control:checked~label.sk-toggleable__label {\n",
       "  /* fitted */\n",
       "  background-color: var(--sklearn-color-fitted-level-2);\n",
       "}\n",
       "\n",
       "#sk-container-id-1 div.sk-label label.sk-toggleable__label,\n",
       "#sk-container-id-1 div.sk-label label {\n",
       "  /* The background is the default theme color */\n",
       "  color: var(--sklearn-color-text-on-default-background);\n",
       "}\n",
       "\n",
       "/* On hover, darken the color of the background */\n",
       "#sk-container-id-1 div.sk-label:hover label.sk-toggleable__label {\n",
       "  color: var(--sklearn-color-text);\n",
       "  background-color: var(--sklearn-color-unfitted-level-2);\n",
       "}\n",
       "\n",
       "/* Label box, darken color on hover, fitted */\n",
       "#sk-container-id-1 div.sk-label.fitted:hover label.sk-toggleable__label.fitted {\n",
       "  color: var(--sklearn-color-text);\n",
       "  background-color: var(--sklearn-color-fitted-level-2);\n",
       "}\n",
       "\n",
       "/* Estimator label */\n",
       "\n",
       "#sk-container-id-1 div.sk-label label {\n",
       "  font-family: monospace;\n",
       "  font-weight: bold;\n",
       "  display: inline-block;\n",
       "  line-height: 1.2em;\n",
       "}\n",
       "\n",
       "#sk-container-id-1 div.sk-label-container {\n",
       "  text-align: center;\n",
       "}\n",
       "\n",
       "/* Estimator-specific */\n",
       "#sk-container-id-1 div.sk-estimator {\n",
       "  font-family: monospace;\n",
       "  border: 1px dotted var(--sklearn-color-border-box);\n",
       "  border-radius: 0.25em;\n",
       "  box-sizing: border-box;\n",
       "  margin-bottom: 0.5em;\n",
       "  /* unfitted */\n",
       "  background-color: var(--sklearn-color-unfitted-level-0);\n",
       "}\n",
       "\n",
       "#sk-container-id-1 div.sk-estimator.fitted {\n",
       "  /* fitted */\n",
       "  background-color: var(--sklearn-color-fitted-level-0);\n",
       "}\n",
       "\n",
       "/* on hover */\n",
       "#sk-container-id-1 div.sk-estimator:hover {\n",
       "  /* unfitted */\n",
       "  background-color: var(--sklearn-color-unfitted-level-2);\n",
       "}\n",
       "\n",
       "#sk-container-id-1 div.sk-estimator.fitted:hover {\n",
       "  /* fitted */\n",
       "  background-color: var(--sklearn-color-fitted-level-2);\n",
       "}\n",
       "\n",
       "/* Specification for estimator info (e.g. \"i\" and \"?\") */\n",
       "\n",
       "/* Common style for \"i\" and \"?\" */\n",
       "\n",
       ".sk-estimator-doc-link,\n",
       "a:link.sk-estimator-doc-link,\n",
       "a:visited.sk-estimator-doc-link {\n",
       "  float: right;\n",
       "  font-size: smaller;\n",
       "  line-height: 1em;\n",
       "  font-family: monospace;\n",
       "  background-color: var(--sklearn-color-background);\n",
       "  border-radius: 1em;\n",
       "  height: 1em;\n",
       "  width: 1em;\n",
       "  text-decoration: none !important;\n",
       "  margin-left: 1ex;\n",
       "  /* unfitted */\n",
       "  border: var(--sklearn-color-unfitted-level-1) 1pt solid;\n",
       "  color: var(--sklearn-color-unfitted-level-1);\n",
       "}\n",
       "\n",
       ".sk-estimator-doc-link.fitted,\n",
       "a:link.sk-estimator-doc-link.fitted,\n",
       "a:visited.sk-estimator-doc-link.fitted {\n",
       "  /* fitted */\n",
       "  border: var(--sklearn-color-fitted-level-1) 1pt solid;\n",
       "  color: var(--sklearn-color-fitted-level-1);\n",
       "}\n",
       "\n",
       "/* On hover */\n",
       "div.sk-estimator:hover .sk-estimator-doc-link:hover,\n",
       ".sk-estimator-doc-link:hover,\n",
       "div.sk-label-container:hover .sk-estimator-doc-link:hover,\n",
       ".sk-estimator-doc-link:hover {\n",
       "  /* unfitted */\n",
       "  background-color: var(--sklearn-color-unfitted-level-3);\n",
       "  color: var(--sklearn-color-background);\n",
       "  text-decoration: none;\n",
       "}\n",
       "\n",
       "div.sk-estimator.fitted:hover .sk-estimator-doc-link.fitted:hover,\n",
       ".sk-estimator-doc-link.fitted:hover,\n",
       "div.sk-label-container:hover .sk-estimator-doc-link.fitted:hover,\n",
       ".sk-estimator-doc-link.fitted:hover {\n",
       "  /* fitted */\n",
       "  background-color: var(--sklearn-color-fitted-level-3);\n",
       "  color: var(--sklearn-color-background);\n",
       "  text-decoration: none;\n",
       "}\n",
       "\n",
       "/* Span, style for the box shown on hovering the info icon */\n",
       ".sk-estimator-doc-link span {\n",
       "  display: none;\n",
       "  z-index: 9999;\n",
       "  position: relative;\n",
       "  font-weight: normal;\n",
       "  right: .2ex;\n",
       "  padding: .5ex;\n",
       "  margin: .5ex;\n",
       "  width: min-content;\n",
       "  min-width: 20ex;\n",
       "  max-width: 50ex;\n",
       "  color: var(--sklearn-color-text);\n",
       "  box-shadow: 2pt 2pt 4pt #999;\n",
       "  /* unfitted */\n",
       "  background: var(--sklearn-color-unfitted-level-0);\n",
       "  border: .5pt solid var(--sklearn-color-unfitted-level-3);\n",
       "}\n",
       "\n",
       ".sk-estimator-doc-link.fitted span {\n",
       "  /* fitted */\n",
       "  background: var(--sklearn-color-fitted-level-0);\n",
       "  border: var(--sklearn-color-fitted-level-3);\n",
       "}\n",
       "\n",
       ".sk-estimator-doc-link:hover span {\n",
       "  display: block;\n",
       "}\n",
       "\n",
       "/* \"?\"-specific style due to the `<a>` HTML tag */\n",
       "\n",
       "#sk-container-id-1 a.estimator_doc_link {\n",
       "  float: right;\n",
       "  font-size: 1rem;\n",
       "  line-height: 1em;\n",
       "  font-family: monospace;\n",
       "  background-color: var(--sklearn-color-background);\n",
       "  border-radius: 1rem;\n",
       "  height: 1rem;\n",
       "  width: 1rem;\n",
       "  text-decoration: none;\n",
       "  /* unfitted */\n",
       "  color: var(--sklearn-color-unfitted-level-1);\n",
       "  border: var(--sklearn-color-unfitted-level-1) 1pt solid;\n",
       "}\n",
       "\n",
       "#sk-container-id-1 a.estimator_doc_link.fitted {\n",
       "  /* fitted */\n",
       "  border: var(--sklearn-color-fitted-level-1) 1pt solid;\n",
       "  color: var(--sklearn-color-fitted-level-1);\n",
       "}\n",
       "\n",
       "/* On hover */\n",
       "#sk-container-id-1 a.estimator_doc_link:hover {\n",
       "  /* unfitted */\n",
       "  background-color: var(--sklearn-color-unfitted-level-3);\n",
       "  color: var(--sklearn-color-background);\n",
       "  text-decoration: none;\n",
       "}\n",
       "\n",
       "#sk-container-id-1 a.estimator_doc_link.fitted:hover {\n",
       "  /* fitted */\n",
       "  background-color: var(--sklearn-color-fitted-level-3);\n",
       "}\n",
       "</style><div id=\"sk-container-id-1\" class=\"sk-top-container\"><div class=\"sk-text-repr-fallback\"><pre>XGBClassifier(base_score=None, booster=None, callbacks=None,\n",
       "              colsample_bylevel=None, colsample_bynode=None,\n",
       "              colsample_bytree=0.6, device=None, early_stopping_rounds=None,\n",
       "              enable_categorical=False, eval_metric=None, feature_types=None,\n",
       "              gamma=0.55, grow_policy=None, importance_type=None,\n",
       "              interaction_constraints=None, learning_rate=0.295, max_bin=None,\n",
       "              max_cat_threshold=None, max_cat_to_onehot=None,\n",
       "              max_delta_step=None, max_depth=7, max_leaves=None,\n",
       "              min_child_weight=1.0, missing=nan, monotone_constraints=None,\n",
       "              multi_strategy=None, n_estimators=275, n_jobs=-2,\n",
       "              num_parallel_tree=None, random_state=42, ...)</pre><b>In a Jupyter environment, please rerun this cell to show the HTML representation or trust the notebook. <br />On GitHub, the HTML representation is unable to render, please try loading this page with nbviewer.org.</b></div><div class=\"sk-container\" hidden><div class=\"sk-item\"><div class=\"sk-estimator fitted sk-toggleable\"><input class=\"sk-toggleable__control sk-hidden--visually\" id=\"sk-estimator-id-1\" type=\"checkbox\" checked><label for=\"sk-estimator-id-1\" class=\"sk-toggleable__label fitted sk-toggleable__label-arrow fitted\">&nbsp;XGBClassifier<span class=\"sk-estimator-doc-link fitted\">i<span>Fitted</span></span></label><div class=\"sk-toggleable__content fitted\"><pre>XGBClassifier(base_score=None, booster=None, callbacks=None,\n",
       "              colsample_bylevel=None, colsample_bynode=None,\n",
       "              colsample_bytree=0.6, device=None, early_stopping_rounds=None,\n",
       "              enable_categorical=False, eval_metric=None, feature_types=None,\n",
       "              gamma=0.55, grow_policy=None, importance_type=None,\n",
       "              interaction_constraints=None, learning_rate=0.295, max_bin=None,\n",
       "              max_cat_threshold=None, max_cat_to_onehot=None,\n",
       "              max_delta_step=None, max_depth=7, max_leaves=None,\n",
       "              min_child_weight=1.0, missing=nan, monotone_constraints=None,\n",
       "              multi_strategy=None, n_estimators=275, n_jobs=-2,\n",
       "              num_parallel_tree=None, random_state=42, ...)</pre></div> </div></div></div></div>"
      ],
      "text/plain": [
       "XGBClassifier(base_score=None, booster=None, callbacks=None,\n",
       "              colsample_bylevel=None, colsample_bynode=None,\n",
       "              colsample_bytree=0.6, device=None, early_stopping_rounds=None,\n",
       "              enable_categorical=False, eval_metric=None, feature_types=None,\n",
       "              gamma=0.55, grow_policy=None, importance_type=None,\n",
       "              interaction_constraints=None, learning_rate=0.295, max_bin=None,\n",
       "              max_cat_threshold=None, max_cat_to_onehot=None,\n",
       "              max_delta_step=None, max_depth=7, max_leaves=None,\n",
       "              min_child_weight=1.0, missing=nan, monotone_constraints=None,\n",
       "              multi_strategy=None, n_estimators=275, n_jobs=-2,\n",
       "              num_parallel_tree=None, random_state=42, ...)"
      ]
     },
     "execution_count": 82,
     "metadata": {},
     "output_type": "execute_result"
    }
   ],
   "source": [
    "#final_model.get_all_params()\n",
    "final_model"
   ]
  },
  {
   "cell_type": "markdown",
   "metadata": {},
   "source": [
    "# Use the saved model to predict on specific hospital\n",
    "## ALL_REGIONS_ABS_NUMBER"
   ]
  },
  {
   "cell_type": "code",
   "execution_count": 83,
   "metadata": {},
   "outputs": [
    {
     "name": "stdout",
     "output_type": "stream",
     "text": [
      "loaded: XGBClassifier_all_regions_abs_number_SUDESTE_SP_HC_USP\n"
     ]
    }
   ],
   "source": [
    "import pickle\n",
    "import joblib\n",
    "\n",
    "#Carrego o modelo unico\n",
    "print('loaded: ' + final_model_name)\n",
    "all_regions_abs_number_model_pkl = final_model_name + \".pkl\"\n",
    "prep_pipe_all_regions_abs_number, all_regions_abs_number_model = joblib.load(all_regions_abs_number_model_pkl)"
   ]
  },
  {
   "cell_type": "code",
   "execution_count": 84,
   "metadata": {},
   "outputs": [
    {
     "data": {
      "text/plain": [
       "'XGBClassifier'"
      ]
     },
     "execution_count": 84,
     "metadata": {},
     "output_type": "execute_result"
    }
   ],
   "source": [
    "all_regions_abs_number_model.__class__.__name__"
   ]
  },
  {
   "cell_type": "code",
   "execution_count": 85,
   "metadata": {},
   "outputs": [
    {
     "data": {
      "text/plain": [
       "'X_test_all_regions_abs_number_SUDESTE_SP_HC_USP.csv'"
      ]
     },
     "execution_count": 85,
     "metadata": {},
     "output_type": "execute_result"
    }
   ],
   "source": [
    "x_test_specific_name"
   ]
  },
  {
   "cell_type": "code",
   "execution_count": 86,
   "metadata": {},
   "outputs": [
    {
     "data": {
      "text/plain": [
       "(450, 25)"
      ]
     },
     "execution_count": 86,
     "metadata": {},
     "output_type": "execute_result"
    }
   ],
   "source": [
    "#Carrego o X_test do modelo único\n",
    "X_test_single = pd.read_csv(x_test_specific_name, delimiter=\";\",index_col=0)\n",
    "X_test_single.shape"
   ]
  },
  {
   "cell_type": "code",
   "execution_count": 87,
   "metadata": {},
   "outputs": [
    {
     "data": {
      "text/plain": [
       "Index(['city_hospital', 'age', 'male', 'heart_rate', 'resp_rate', 'sys_press',\n",
       "       'dias_press', 'mean_press', 'temp', 'hemoglobin', 'platelets',\n",
       "       'hematocrit', 'red_cells_count', 'hcm', 'rdw', 'mcv', 'leukocytes',\n",
       "       'neutrophil', 'lymphocytes', 'basophils', 'eosinophils', 'monocytes',\n",
       "       'crp', 'region', 'state'],\n",
       "      dtype='object')"
      ]
     },
     "execution_count": 87,
     "metadata": {},
     "output_type": "execute_result"
    }
   ],
   "source": [
    "X_test_single.columns"
   ]
  },
  {
   "cell_type": "code",
   "execution_count": 88,
   "metadata": {},
   "outputs": [
    {
     "data": {
      "text/plain": [
       "(450,)"
      ]
     },
     "execution_count": 88,
     "metadata": {},
     "output_type": "execute_result"
    }
   ],
   "source": [
    "#Carrego o Y_test do modelo único\n",
    "y_test_single = pd.read_csv(y_test_specific_name, delimiter=\";\",index_col=0)\n",
    "y_test_single = y_test_single[\"icu\"]\n",
    "y_test_single.shape"
   ]
  },
  {
   "cell_type": "code",
   "execution_count": 89,
   "metadata": {},
   "outputs": [
    {
     "data": {
      "text/html": [
       "<div>\n",
       "<style scoped>\n",
       "    .dataframe tbody tr th:only-of-type {\n",
       "        vertical-align: middle;\n",
       "    }\n",
       "\n",
       "    .dataframe tbody tr th {\n",
       "        vertical-align: top;\n",
       "    }\n",
       "\n",
       "    .dataframe thead th {\n",
       "        text-align: right;\n",
       "    }\n",
       "</style>\n",
       "<table border=\"1\" class=\"dataframe\">\n",
       "  <thead>\n",
       "    <tr style=\"text-align: right;\">\n",
       "      <th></th>\n",
       "      <th>city_hospital</th>\n",
       "      <th>age</th>\n",
       "      <th>male</th>\n",
       "      <th>heart_rate</th>\n",
       "      <th>resp_rate</th>\n",
       "      <th>sys_press</th>\n",
       "      <th>dias_press</th>\n",
       "      <th>mean_press</th>\n",
       "      <th>temp</th>\n",
       "      <th>hemoglobin</th>\n",
       "      <th>platelets</th>\n",
       "      <th>hematocrit</th>\n",
       "      <th>red_cells_count</th>\n",
       "      <th>hcm</th>\n",
       "      <th>rdw</th>\n",
       "      <th>mcv</th>\n",
       "      <th>leukocytes</th>\n",
       "      <th>neutrophil</th>\n",
       "      <th>lymphocytes</th>\n",
       "      <th>basophils</th>\n",
       "      <th>eosinophils</th>\n",
       "      <th>monocytes</th>\n",
       "      <th>crp</th>\n",
       "      <th>region</th>\n",
       "      <th>state</th>\n",
       "    </tr>\n",
       "  </thead>\n",
       "  <tbody>\n",
       "    <tr>\n",
       "      <th>2326</th>\n",
       "      <td>HC_USP</td>\n",
       "      <td>71.000</td>\n",
       "      <td>0.000</td>\n",
       "      <td>70.000</td>\n",
       "      <td>25.000</td>\n",
       "      <td>97.000</td>\n",
       "      <td>52.000</td>\n",
       "      <td>66.985</td>\n",
       "      <td>36.500</td>\n",
       "      <td>11.000</td>\n",
       "      <td>311000.000</td>\n",
       "      <td>35.000</td>\n",
       "      <td>NaN</td>\n",
       "      <td>27.700</td>\n",
       "      <td>13.900</td>\n",
       "      <td>87.300</td>\n",
       "      <td>15670.000</td>\n",
       "      <td>14180.000</td>\n",
       "      <td>1110.000</td>\n",
       "      <td>0.010</td>\n",
       "      <td>NaN</td>\n",
       "      <td>0.370</td>\n",
       "      <td>1.492</td>\n",
       "      <td>SUDESTE</td>\n",
       "      <td>SP</td>\n",
       "    </tr>\n",
       "    <tr>\n",
       "      <th>1933</th>\n",
       "      <td>HC_USP</td>\n",
       "      <td>21.000</td>\n",
       "      <td>0.000</td>\n",
       "      <td>106.000</td>\n",
       "      <td>22.000</td>\n",
       "      <td>117.000</td>\n",
       "      <td>71.000</td>\n",
       "      <td>86.318</td>\n",
       "      <td>36.000</td>\n",
       "      <td>NaN</td>\n",
       "      <td>159000.000</td>\n",
       "      <td>NaN</td>\n",
       "      <td>NaN</td>\n",
       "      <td>29.300</td>\n",
       "      <td>13.400</td>\n",
       "      <td>83.600</td>\n",
       "      <td>8980.000</td>\n",
       "      <td>8350.000</td>\n",
       "      <td>270.000</td>\n",
       "      <td>0.090</td>\n",
       "      <td>NaN</td>\n",
       "      <td>0.270</td>\n",
       "      <td>2.664</td>\n",
       "      <td>SUDESTE</td>\n",
       "      <td>SP</td>\n",
       "    </tr>\n",
       "    <tr>\n",
       "      <th>1267</th>\n",
       "      <td>HC_USP</td>\n",
       "      <td>49.000</td>\n",
       "      <td>1.000</td>\n",
       "      <td>79.000</td>\n",
       "      <td>36.000</td>\n",
       "      <td>103.000</td>\n",
       "      <td>61.000</td>\n",
       "      <td>74.986</td>\n",
       "      <td>37.700</td>\n",
       "      <td>NaN</td>\n",
       "      <td>337000.000</td>\n",
       "      <td>NaN</td>\n",
       "      <td>NaN</td>\n",
       "      <td>28.500</td>\n",
       "      <td>14.600</td>\n",
       "      <td>87.500</td>\n",
       "      <td>8410.000</td>\n",
       "      <td>6810.000</td>\n",
       "      <td>1220.000</td>\n",
       "      <td>0.010</td>\n",
       "      <td>NaN</td>\n",
       "      <td>0.370</td>\n",
       "      <td>3.107</td>\n",
       "      <td>SUDESTE</td>\n",
       "      <td>SP</td>\n",
       "    </tr>\n",
       "    <tr>\n",
       "      <th>1877</th>\n",
       "      <td>HC_USP</td>\n",
       "      <td>52.000</td>\n",
       "      <td>0.000</td>\n",
       "      <td>141.000</td>\n",
       "      <td>25.000</td>\n",
       "      <td>166.000</td>\n",
       "      <td>102.000</td>\n",
       "      <td>123.312</td>\n",
       "      <td>37.400</td>\n",
       "      <td>NaN</td>\n",
       "      <td>NaN</td>\n",
       "      <td>NaN</td>\n",
       "      <td>NaN</td>\n",
       "      <td>NaN</td>\n",
       "      <td>NaN</td>\n",
       "      <td>NaN</td>\n",
       "      <td>NaN</td>\n",
       "      <td>NaN</td>\n",
       "      <td>NaN</td>\n",
       "      <td>NaN</td>\n",
       "      <td>NaN</td>\n",
       "      <td>NaN</td>\n",
       "      <td>NaN</td>\n",
       "      <td>SUDESTE</td>\n",
       "      <td>SP</td>\n",
       "    </tr>\n",
       "    <tr>\n",
       "      <th>1031</th>\n",
       "      <td>HC_USP</td>\n",
       "      <td>75.000</td>\n",
       "      <td>1.000</td>\n",
       "      <td>74.000</td>\n",
       "      <td>28.000</td>\n",
       "      <td>120.000</td>\n",
       "      <td>70.000</td>\n",
       "      <td>86.650</td>\n",
       "      <td>33.600</td>\n",
       "      <td>NaN</td>\n",
       "      <td>117000.000</td>\n",
       "      <td>NaN</td>\n",
       "      <td>NaN</td>\n",
       "      <td>29.700</td>\n",
       "      <td>15.700</td>\n",
       "      <td>83.400</td>\n",
       "      <td>8110.000</td>\n",
       "      <td>7100.000</td>\n",
       "      <td>470.000</td>\n",
       "      <td>0.000</td>\n",
       "      <td>NaN</td>\n",
       "      <td>0.540</td>\n",
       "      <td>NaN</td>\n",
       "      <td>SUDESTE</td>\n",
       "      <td>SP</td>\n",
       "    </tr>\n",
       "  </tbody>\n",
       "</table>\n",
       "</div>"
      ],
      "text/plain": [
       "     city_hospital    age  male  heart_rate  resp_rate  sys_press  dias_press  \\\n",
       "2326        HC_USP 71.000 0.000      70.000     25.000     97.000      52.000   \n",
       "1933        HC_USP 21.000 0.000     106.000     22.000    117.000      71.000   \n",
       "1267        HC_USP 49.000 1.000      79.000     36.000    103.000      61.000   \n",
       "1877        HC_USP 52.000 0.000     141.000     25.000    166.000     102.000   \n",
       "1031        HC_USP 75.000 1.000      74.000     28.000    120.000      70.000   \n",
       "\n",
       "      mean_press   temp  hemoglobin  platelets  hematocrit  red_cells_count  \\\n",
       "2326      66.985 36.500      11.000 311000.000      35.000              NaN   \n",
       "1933      86.318 36.000         NaN 159000.000         NaN              NaN   \n",
       "1267      74.986 37.700         NaN 337000.000         NaN              NaN   \n",
       "1877     123.312 37.400         NaN        NaN         NaN              NaN   \n",
       "1031      86.650 33.600         NaN 117000.000         NaN              NaN   \n",
       "\n",
       "        hcm    rdw    mcv  leukocytes  neutrophil  lymphocytes  basophils  \\\n",
       "2326 27.700 13.900 87.300   15670.000   14180.000     1110.000      0.010   \n",
       "1933 29.300 13.400 83.600    8980.000    8350.000      270.000      0.090   \n",
       "1267 28.500 14.600 87.500    8410.000    6810.000     1220.000      0.010   \n",
       "1877    NaN    NaN    NaN         NaN         NaN          NaN        NaN   \n",
       "1031 29.700 15.700 83.400    8110.000    7100.000      470.000      0.000   \n",
       "\n",
       "      eosinophils  monocytes   crp   region state  \n",
       "2326          NaN      0.370 1.492  SUDESTE    SP  \n",
       "1933          NaN      0.270 2.664  SUDESTE    SP  \n",
       "1267          NaN      0.370 3.107  SUDESTE    SP  \n",
       "1877          NaN        NaN   NaN  SUDESTE    SP  \n",
       "1031          NaN      0.540   NaN  SUDESTE    SP  "
      ]
     },
     "execution_count": 89,
     "metadata": {},
     "output_type": "execute_result"
    }
   ],
   "source": [
    "pd.set_option('display.max_columns', None)\n",
    "X_test_single.head()"
   ]
  },
  {
   "cell_type": "code",
   "execution_count": 90,
   "metadata": {},
   "outputs": [],
   "source": [
    "X_test_single[\"class\"] = y_test_single"
   ]
  },
  {
   "cell_type": "code",
   "execution_count": 91,
   "metadata": {},
   "outputs": [
    {
     "data": {
      "text/plain": [
       "Index(['city_hospital', 'age', 'male', 'heart_rate', 'resp_rate', 'sys_press',\n",
       "       'dias_press', 'mean_press', 'temp', 'hemoglobin', 'platelets',\n",
       "       'hematocrit', 'red_cells_count', 'hcm', 'rdw', 'mcv', 'leukocytes',\n",
       "       'neutrophil', 'lymphocytes', 'basophils', 'eosinophils', 'monocytes',\n",
       "       'crp', 'region', 'state', 'class'],\n",
       "      dtype='object')"
      ]
     },
     "execution_count": 91,
     "metadata": {},
     "output_type": "execute_result"
    }
   ],
   "source": [
    "X_test_single.columns"
   ]
  },
  {
   "cell_type": "code",
   "execution_count": 92,
   "metadata": {},
   "outputs": [],
   "source": [
    "X_test_single = X_test_single.drop(['city_hospital'],axis=1)\n",
    "X_test_single = X_test_single.drop(['region'],axis=1)\n",
    "X_test_single = X_test_single.drop(['state'],axis=1)"
   ]
  },
  {
   "cell_type": "code",
   "execution_count": 93,
   "metadata": {},
   "outputs": [
    {
     "data": {
      "application/vnd.jupyter.widget-view+json": {
       "model_id": "4b4b646633054e29baf77e80cb32f40d",
       "version_major": 2,
       "version_minor": 0
      },
      "text/plain": [
       "Text(value=\"Following data types have been inferred automatically, if they are correct press enter to continue…"
      ]
     },
     "metadata": {},
     "output_type": "display_data"
    },
    {
     "data": {
      "text/html": [
       "<div>\n",
       "<style scoped>\n",
       "    .dataframe tbody tr th:only-of-type {\n",
       "        vertical-align: middle;\n",
       "    }\n",
       "\n",
       "    .dataframe tbody tr th {\n",
       "        vertical-align: top;\n",
       "    }\n",
       "\n",
       "    .dataframe thead th {\n",
       "        text-align: right;\n",
       "    }\n",
       "</style>\n",
       "<table border=\"1\" class=\"dataframe\">\n",
       "  <thead>\n",
       "    <tr style=\"text-align: right;\">\n",
       "      <th></th>\n",
       "      <th>Data Type</th>\n",
       "    </tr>\n",
       "  </thead>\n",
       "  <tbody>\n",
       "    <tr>\n",
       "      <th>age</th>\n",
       "      <td>Numeric</td>\n",
       "    </tr>\n",
       "    <tr>\n",
       "      <th>male</th>\n",
       "      <td>Categorical</td>\n",
       "    </tr>\n",
       "    <tr>\n",
       "      <th>heart_rate</th>\n",
       "      <td>Numeric</td>\n",
       "    </tr>\n",
       "    <tr>\n",
       "      <th>resp_rate</th>\n",
       "      <td>Numeric</td>\n",
       "    </tr>\n",
       "    <tr>\n",
       "      <th>sys_press</th>\n",
       "      <td>Numeric</td>\n",
       "    </tr>\n",
       "    <tr>\n",
       "      <th>dias_press</th>\n",
       "      <td>Numeric</td>\n",
       "    </tr>\n",
       "    <tr>\n",
       "      <th>mean_press</th>\n",
       "      <td>Numeric</td>\n",
       "    </tr>\n",
       "    <tr>\n",
       "      <th>temp</th>\n",
       "      <td>Numeric</td>\n",
       "    </tr>\n",
       "    <tr>\n",
       "      <th>hemoglobin</th>\n",
       "      <td>Numeric</td>\n",
       "    </tr>\n",
       "    <tr>\n",
       "      <th>platelets</th>\n",
       "      <td>Numeric</td>\n",
       "    </tr>\n",
       "    <tr>\n",
       "      <th>hematocrit</th>\n",
       "      <td>Numeric</td>\n",
       "    </tr>\n",
       "    <tr>\n",
       "      <th>red_cells_count</th>\n",
       "      <td>Numeric</td>\n",
       "    </tr>\n",
       "    <tr>\n",
       "      <th>hcm</th>\n",
       "      <td>Numeric</td>\n",
       "    </tr>\n",
       "    <tr>\n",
       "      <th>rdw</th>\n",
       "      <td>Numeric</td>\n",
       "    </tr>\n",
       "    <tr>\n",
       "      <th>mcv</th>\n",
       "      <td>Numeric</td>\n",
       "    </tr>\n",
       "    <tr>\n",
       "      <th>leukocytes</th>\n",
       "      <td>Numeric</td>\n",
       "    </tr>\n",
       "    <tr>\n",
       "      <th>neutrophil</th>\n",
       "      <td>Numeric</td>\n",
       "    </tr>\n",
       "    <tr>\n",
       "      <th>lymphocytes</th>\n",
       "      <td>Numeric</td>\n",
       "    </tr>\n",
       "    <tr>\n",
       "      <th>basophils</th>\n",
       "      <td>Numeric</td>\n",
       "    </tr>\n",
       "    <tr>\n",
       "      <th>eosinophils</th>\n",
       "      <td>Numeric</td>\n",
       "    </tr>\n",
       "    <tr>\n",
       "      <th>monocytes</th>\n",
       "      <td>Numeric</td>\n",
       "    </tr>\n",
       "    <tr>\n",
       "      <th>crp</th>\n",
       "      <td>Numeric</td>\n",
       "    </tr>\n",
       "    <tr>\n",
       "      <th>class</th>\n",
       "      <td>Label</td>\n",
       "    </tr>\n",
       "  </tbody>\n",
       "</table>\n",
       "</div>"
      ],
      "text/plain": [
       "                   Data Type\n",
       "age                  Numeric\n",
       "male             Categorical\n",
       "heart_rate           Numeric\n",
       "resp_rate            Numeric\n",
       "sys_press            Numeric\n",
       "dias_press           Numeric\n",
       "mean_press           Numeric\n",
       "temp                 Numeric\n",
       "hemoglobin           Numeric\n",
       "platelets            Numeric\n",
       "hematocrit           Numeric\n",
       "red_cells_count      Numeric\n",
       "hcm                  Numeric\n",
       "rdw                  Numeric\n",
       "mcv                  Numeric\n",
       "leukocytes           Numeric\n",
       "neutrophil           Numeric\n",
       "lymphocytes          Numeric\n",
       "basophils            Numeric\n",
       "eosinophils          Numeric\n",
       "monocytes            Numeric\n",
       "crp                  Numeric\n",
       "class                  Label"
      ]
     },
     "metadata": {},
     "output_type": "display_data"
    },
    {
     "name": "stdin",
     "output_type": "stream",
     "text": [
      " \n"
     ]
    },
    {
     "data": {
      "text/html": [
       "<div>\n",
       "<style scoped>\n",
       "    .dataframe tbody tr th:only-of-type {\n",
       "        vertical-align: middle;\n",
       "    }\n",
       "\n",
       "    .dataframe tbody tr th {\n",
       "        vertical-align: top;\n",
       "    }\n",
       "\n",
       "    .dataframe thead th {\n",
       "        text-align: right;\n",
       "    }\n",
       "</style>\n",
       "<table border=\"1\" class=\"dataframe\">\n",
       "  <thead>\n",
       "    <tr style=\"text-align: right;\">\n",
       "      <th></th>\n",
       "      <th>class</th>\n",
       "      <th>age</th>\n",
       "      <th>heart_rate</th>\n",
       "      <th>resp_rate</th>\n",
       "      <th>sys_press</th>\n",
       "      <th>dias_press</th>\n",
       "      <th>mean_press</th>\n",
       "      <th>temp</th>\n",
       "      <th>hemoglobin</th>\n",
       "      <th>platelets</th>\n",
       "      <th>hematocrit</th>\n",
       "      <th>hcm</th>\n",
       "      <th>rdw</th>\n",
       "      <th>mcv</th>\n",
       "      <th>leukocytes</th>\n",
       "      <th>neutrophil</th>\n",
       "      <th>lymphocytes</th>\n",
       "      <th>basophils</th>\n",
       "      <th>monocytes</th>\n",
       "      <th>crp</th>\n",
       "      <th>male_1.0</th>\n",
       "    </tr>\n",
       "  </thead>\n",
       "  <tbody>\n",
       "    <tr>\n",
       "      <th>2326</th>\n",
       "      <td>1</td>\n",
       "      <td>0.759</td>\n",
       "      <td>-0.942</td>\n",
       "      <td>0.092</td>\n",
       "      <td>-0.994</td>\n",
       "      <td>-1.440</td>\n",
       "      <td>-1.348</td>\n",
       "      <td>0.117</td>\n",
       "      <td>-2.736</td>\n",
       "      <td>0.798</td>\n",
       "      <td>-1.915</td>\n",
       "      <td>-0.524</td>\n",
       "      <td>-0.112</td>\n",
       "      <td>0.213</td>\n",
       "      <td>0.328</td>\n",
       "      <td>1.378</td>\n",
       "      <td>0.362</td>\n",
       "      <td>-0.108</td>\n",
       "      <td>-0.249</td>\n",
       "      <td>0.044</td>\n",
       "      <td>0.000</td>\n",
       "    </tr>\n",
       "    <tr>\n",
       "      <th>1933</th>\n",
       "      <td>1</td>\n",
       "      <td>-2.268</td>\n",
       "      <td>1.067</td>\n",
       "      <td>-0.278</td>\n",
       "      <td>-0.127</td>\n",
       "      <td>-0.109</td>\n",
       "      <td>-0.120</td>\n",
       "      <td>-0.425</td>\n",
       "      <td>-0.020</td>\n",
       "      <td>-0.656</td>\n",
       "      <td>-0.068</td>\n",
       "      <td>0.182</td>\n",
       "      <td>-0.351</td>\n",
       "      <td>-0.374</td>\n",
       "      <td>-0.054</td>\n",
       "      <td>0.143</td>\n",
       "      <td>-1.314</td>\n",
       "      <td>0.481</td>\n",
       "      <td>-0.413</td>\n",
       "      <td>1.208</td>\n",
       "      <td>0.000</td>\n",
       "    </tr>\n",
       "    <tr>\n",
       "      <th>1267</th>\n",
       "      <td>1</td>\n",
       "      <td>-0.573</td>\n",
       "      <td>-0.440</td>\n",
       "      <td>1.449</td>\n",
       "      <td>-0.734</td>\n",
       "      <td>-0.810</td>\n",
       "      <td>-0.840</td>\n",
       "      <td>1.417</td>\n",
       "      <td>-0.020</td>\n",
       "      <td>1.047</td>\n",
       "      <td>-0.068</td>\n",
       "      <td>-0.171</td>\n",
       "      <td>0.222</td>\n",
       "      <td>0.245</td>\n",
       "      <td>-0.087</td>\n",
       "      <td>-0.184</td>\n",
       "      <td>0.582</td>\n",
       "      <td>-0.108</td>\n",
       "      <td>-0.249</td>\n",
       "      <td>1.648</td>\n",
       "      <td>1.000</td>\n",
       "    </tr>\n",
       "    <tr>\n",
       "      <th>1877</th>\n",
       "      <td>1</td>\n",
       "      <td>-0.391</td>\n",
       "      <td>3.020</td>\n",
       "      <td>0.092</td>\n",
       "      <td>1.997</td>\n",
       "      <td>2.062</td>\n",
       "      <td>2.230</td>\n",
       "      <td>1.092</td>\n",
       "      <td>-0.020</td>\n",
       "      <td>-0.206</td>\n",
       "      <td>-0.068</td>\n",
       "      <td>0.006</td>\n",
       "      <td>-0.208</td>\n",
       "      <td>-0.041</td>\n",
       "      <td>-0.091</td>\n",
       "      <td>-0.183</td>\n",
       "      <td>-0.216</td>\n",
       "      <td>-0.108</td>\n",
       "      <td>-0.191</td>\n",
       "      <td>-0.213</td>\n",
       "      <td>0.000</td>\n",
       "    </tr>\n",
       "    <tr>\n",
       "      <th>1031</th>\n",
       "      <td>1</td>\n",
       "      <td>1.001</td>\n",
       "      <td>-0.719</td>\n",
       "      <td>0.462</td>\n",
       "      <td>0.003</td>\n",
       "      <td>-0.179</td>\n",
       "      <td>-0.099</td>\n",
       "      <td>-3.027</td>\n",
       "      <td>-0.020</td>\n",
       "      <td>-1.058</td>\n",
       "      <td>-0.068</td>\n",
       "      <td>0.359</td>\n",
       "      <td>0.747</td>\n",
       "      <td>-0.406</td>\n",
       "      <td>-0.104</td>\n",
       "      <td>-0.122</td>\n",
       "      <td>-0.915</td>\n",
       "      <td>-0.182</td>\n",
       "      <td>0.030</td>\n",
       "      <td>-0.213</td>\n",
       "      <td>1.000</td>\n",
       "    </tr>\n",
       "  </tbody>\n",
       "</table>\n",
       "</div>"
      ],
      "text/plain": [
       "      class    age  heart_rate  resp_rate  sys_press  dias_press  mean_press  \\\n",
       "2326      1  0.759      -0.942      0.092     -0.994      -1.440      -1.348   \n",
       "1933      1 -2.268       1.067     -0.278     -0.127      -0.109      -0.120   \n",
       "1267      1 -0.573      -0.440      1.449     -0.734      -0.810      -0.840   \n",
       "1877      1 -0.391       3.020      0.092      1.997       2.062       2.230   \n",
       "1031      1  1.001      -0.719      0.462      0.003      -0.179      -0.099   \n",
       "\n",
       "       temp  hemoglobin  platelets  hematocrit    hcm    rdw    mcv  \\\n",
       "2326  0.117      -2.736      0.798      -1.915 -0.524 -0.112  0.213   \n",
       "1933 -0.425      -0.020     -0.656      -0.068  0.182 -0.351 -0.374   \n",
       "1267  1.417      -0.020      1.047      -0.068 -0.171  0.222  0.245   \n",
       "1877  1.092      -0.020     -0.206      -0.068  0.006 -0.208 -0.041   \n",
       "1031 -3.027      -0.020     -1.058      -0.068  0.359  0.747 -0.406   \n",
       "\n",
       "      leukocytes  neutrophil  lymphocytes  basophils  monocytes    crp  \\\n",
       "2326       0.328       1.378        0.362     -0.108     -0.249  0.044   \n",
       "1933      -0.054       0.143       -1.314      0.481     -0.413  1.208   \n",
       "1267      -0.087      -0.184        0.582     -0.108     -0.249  1.648   \n",
       "1877      -0.091      -0.183       -0.216     -0.108     -0.191 -0.213   \n",
       "1031      -0.104      -0.122       -0.915     -0.182      0.030 -0.213   \n",
       "\n",
       "      male_1.0  \n",
       "2326     0.000  \n",
       "1933     0.000  \n",
       "1267     1.000  \n",
       "1877     0.000  \n",
       "1031     1.000  "
      ]
     },
     "execution_count": 93,
     "metadata": {},
     "output_type": "execute_result"
    }
   ],
   "source": [
    "X_test_single_transformed = prep_pipe_all_regions_abs_number.fit_transform(X_test_single)\n",
    "X_test_single_transformed.head()"
   ]
  },
  {
   "cell_type": "code",
   "execution_count": 94,
   "metadata": {},
   "outputs": [],
   "source": [
    "X_test_single_transformed = X_test_single_transformed.drop(['class'],axis=1)"
   ]
  },
  {
   "cell_type": "code",
   "execution_count": 95,
   "metadata": {},
   "outputs": [
    {
     "data": {
      "text/plain": [
       "Index(['age', 'heart_rate', 'resp_rate', 'sys_press', 'dias_press',\n",
       "       'mean_press', 'temp', 'hemoglobin', 'platelets', 'hematocrit',\n",
       "       'red_cells_count', 'hcm', 'rdw', 'mcv', 'leukocytes', 'neutrophil',\n",
       "       'lymphocytes', 'basophils', 'eosinophils', 'monocytes', 'crp',\n",
       "       'male_0.0'],\n",
       "      dtype='object')"
      ]
     },
     "execution_count": 95,
     "metadata": {},
     "output_type": "execute_result"
    }
   ],
   "source": [
    "X_test.columns"
   ]
  },
  {
   "cell_type": "code",
   "execution_count": 96,
   "metadata": {},
   "outputs": [
    {
     "data": {
      "text/plain": [
       "Index(['age', 'heart_rate', 'resp_rate', 'sys_press', 'dias_press',\n",
       "       'mean_press', 'temp', 'hemoglobin', 'platelets', 'hematocrit', 'hcm',\n",
       "       'rdw', 'mcv', 'leukocytes', 'neutrophil', 'lymphocytes', 'basophils',\n",
       "       'monocytes', 'crp', 'male_1.0'],\n",
       "      dtype='object')"
      ]
     },
     "execution_count": 96,
     "metadata": {},
     "output_type": "execute_result"
    }
   ],
   "source": [
    "X_test_single_transformed.columns"
   ]
  },
  {
   "cell_type": "code",
   "execution_count": 97,
   "metadata": {},
   "outputs": [
    {
     "data": {
      "text/plain": [
       "Index(['age', 'heart_rate', 'resp_rate', 'sys_press', 'dias_press',\n",
       "       'mean_press', 'temp', 'hemoglobin', 'platelets', 'hematocrit',\n",
       "       'red_cells_count', 'hcm', 'rdw', 'mcv', 'leukocytes', 'neutrophil',\n",
       "       'lymphocytes', 'basophils', 'eosinophils', 'monocytes', 'crp',\n",
       "       'male_0.0'],\n",
       "      dtype='object')"
      ]
     },
     "execution_count": 97,
     "metadata": {},
     "output_type": "execute_result"
    }
   ],
   "source": [
    "X_test.columns"
   ]
  },
  {
   "cell_type": "code",
   "execution_count": 98,
   "metadata": {},
   "outputs": [
    {
     "data": {
      "text/plain": [
       "['eosinophils', 'male_0.0', 'red_cells_count']"
      ]
     },
     "execution_count": 98,
     "metadata": {},
     "output_type": "execute_result"
    }
   ],
   "source": [
    "#Show distinct columns\n",
    "distinct_columns = X_test[X_test.columns.difference(X_test_single_transformed.columns)].columns.tolist()\n",
    "distinct_columns"
   ]
  },
  {
   "cell_type": "markdown",
   "metadata": {},
   "source": [
    "### Add missing columns to some hospitals that didn't collect all columns\n",
    "e.g. HC_USP (missing: red_cells_count and eosinophils)"
   ]
  },
  {
   "cell_type": "code",
   "execution_count": 99,
   "metadata": {},
   "outputs": [],
   "source": [
    "for column in distinct_columns:\n",
    "    if(column=='male_0.0'):\n",
    "        X_test_single_transformed['male_0.0'] = X_test_single_transformed['male_1.0'].apply(lambda x: 1.0 if x==0.0 else 0.0)\n",
    "        X_test_single_transformed = X_test_single_transformed.drop('male_1.0', axis=1)\n",
    "    elif(column=='male_1.0'):\n",
    "        X_test_single_transformed['male_1.0'] = X_test_single_transformed['male_0.0'].apply(lambda x: 1.0 if x==0.0 else 0.0)\n",
    "        X_test_single_transformed = X_test_single_transformed.drop('male_0.0', axis=1)\n",
    "    else:\n",
    "        X_test_single_transformed[column]=np.NaN"
   ]
  },
  {
   "cell_type": "code",
   "execution_count": 100,
   "metadata": {},
   "outputs": [],
   "source": [
    "# X_test_single_transformed['male_1.0'] = X_test_single_transformed['male_0.0'].apply(lambda x: 1.0 if x==0.0 else 0.0)"
   ]
  },
  {
   "cell_type": "code",
   "execution_count": 101,
   "metadata": {},
   "outputs": [
    {
     "data": {
      "text/plain": [
       "Index(['age', 'heart_rate', 'resp_rate', 'sys_press', 'dias_press',\n",
       "       'mean_press', 'temp', 'hemoglobin', 'platelets', 'hematocrit', 'hcm',\n",
       "       'rdw', 'mcv', 'leukocytes', 'neutrophil', 'lymphocytes', 'basophils',\n",
       "       'monocytes', 'crp', 'eosinophils', 'male_0.0', 'red_cells_count'],\n",
       "      dtype='object')"
      ]
     },
     "execution_count": 101,
     "metadata": {},
     "output_type": "execute_result"
    }
   ],
   "source": [
    "X_test_single_transformed.columns"
   ]
  },
  {
   "cell_type": "code",
   "execution_count": 102,
   "metadata": {},
   "outputs": [
    {
     "data": {
      "text/plain": [
       "(450, 22)"
      ]
     },
     "execution_count": 102,
     "metadata": {},
     "output_type": "execute_result"
    }
   ],
   "source": [
    "X_test_single_transformed.shape"
   ]
  },
  {
   "cell_type": "code",
   "execution_count": 103,
   "metadata": {},
   "outputs": [
    {
     "data": {
      "text/plain": [
       "(450, 22)"
      ]
     },
     "execution_count": 103,
     "metadata": {},
     "output_type": "execute_result"
    }
   ],
   "source": [
    "X_test_single_transformed.shape"
   ]
  },
  {
   "cell_type": "code",
   "execution_count": 104,
   "metadata": {},
   "outputs": [
    {
     "data": {
      "text/plain": [
       "Index(['age', 'heart_rate', 'resp_rate', 'sys_press', 'dias_press',\n",
       "       'mean_press', 'temp', 'hemoglobin', 'platelets', 'hematocrit',\n",
       "       'red_cells_count', 'hcm', 'rdw', 'mcv', 'leukocytes', 'neutrophil',\n",
       "       'lymphocytes', 'basophils', 'eosinophils', 'monocytes', 'crp',\n",
       "       'male_0.0'],\n",
       "      dtype='object')"
      ]
     },
     "execution_count": 104,
     "metadata": {},
     "output_type": "execute_result"
    }
   ],
   "source": [
    "X_test.columns"
   ]
  },
  {
   "cell_type": "code",
   "execution_count": 105,
   "metadata": {},
   "outputs": [
    {
     "data": {
      "text/plain": [
       "Index(['age', 'heart_rate', 'resp_rate', 'sys_press', 'dias_press',\n",
       "       'mean_press', 'temp', 'hemoglobin', 'platelets', 'hematocrit', 'hcm',\n",
       "       'rdw', 'mcv', 'leukocytes', 'neutrophil', 'lymphocytes', 'basophils',\n",
       "       'monocytes', 'crp', 'eosinophils', 'male_0.0', 'red_cells_count'],\n",
       "      dtype='object')"
      ]
     },
     "execution_count": 105,
     "metadata": {},
     "output_type": "execute_result"
    }
   ],
   "source": [
    "X_test_single_transformed.columns"
   ]
  },
  {
   "cell_type": "markdown",
   "metadata": {},
   "source": [
    "**Reorder columns**"
   ]
  },
  {
   "cell_type": "code",
   "execution_count": 106,
   "metadata": {},
   "outputs": [
    {
     "data": {
      "text/plain": [
       "(450, 22)"
      ]
     },
     "execution_count": 106,
     "metadata": {},
     "output_type": "execute_result"
    }
   ],
   "source": [
    "# Reorder columns\n",
    "X_test_single_transformed = X_test_single_transformed[X_test.columns]\n",
    "X_test_single_transformed.shape"
   ]
  },
  {
   "cell_type": "code",
   "execution_count": 107,
   "metadata": {},
   "outputs": [
    {
     "name": "stdout",
     "output_type": "stream",
     "text": [
      "0.6818565005620083\n"
     ]
    },
    {
     "data": {
      "text/plain": [
       "[<matplotlib.lines.Line2D at 0x1f679d98d90>]"
      ]
     },
     "execution_count": 107,
     "metadata": {},
     "output_type": "execute_result"
    },
    {
     "data": {
      "image/png": "[encoded data removed]",
      "text/plain": [
       "<Figure size 640x480 with 1 Axes>"
      ]
     },
     "metadata": {},
     "output_type": "display_data"
    }
   ],
   "source": [
    "#Vejo a curva ROC do modelo INDIVIDUAL e confirmo o valor da AUC\n",
    "from sklearn.metrics import (roc_curve,auc)\n",
    "\n",
    "y_pred_prob1 = all_regions_abs_number_model.predict_proba(X_test_single_transformed)[:,1]\n",
    "fpr1 , tpr1, thresholds1 = roc_curve(y_test_single, y_pred_prob1)\n",
    "\n",
    "auc_ind = auc(fpr1, tpr1)\n",
    "print(auc_ind)\n",
    "plt.plot(fpr1, tpr1, label= \"Single Model - best model - AUC \" +  str(auc_ind), color=\"yellow\")"
   ]
  },
  {
   "cell_type": "code",
   "execution_count": 108,
   "metadata": {},
   "outputs": [
    {
     "data": {
      "text/plain": [
       "(450,)"
      ]
     },
     "execution_count": 108,
     "metadata": {},
     "output_type": "execute_result"
    }
   ],
   "source": [
    "y_pred_prob1.shape"
   ]
  },
  {
   "cell_type": "code",
   "execution_count": 109,
   "metadata": {},
   "outputs": [],
   "source": [
    "y_pred = all_regions_abs_number_model.predict(X_test_single_transformed)"
   ]
  },
  {
   "cell_type": "code",
   "execution_count": 110,
   "metadata": {},
   "outputs": [
    {
     "data": {
      "text/html": [
       "<div>\n",
       "<style scoped>\n",
       "    .dataframe tbody tr th:only-of-type {\n",
       "        vertical-align: middle;\n",
       "    }\n",
       "\n",
       "    .dataframe tbody tr th {\n",
       "        vertical-align: top;\n",
       "    }\n",
       "\n",
       "    .dataframe thead th {\n",
       "        text-align: right;\n",
       "    }\n",
       "</style>\n",
       "<table border=\"1\" class=\"dataframe\">\n",
       "  <thead>\n",
       "    <tr style=\"text-align: right;\">\n",
       "      <th></th>\n",
       "      <th></th>\n",
       "      <th></th>\n",
       "    </tr>\n",
       "    <tr>\n",
       "      <th></th>\n",
       "      <th></th>\n",
       "      <th></th>\n",
       "    </tr>\n",
       "  </thead>\n",
       "  <tbody>\n",
       "    <tr>\n",
       "      <th>Ground Truth Prevalence</th>\n",
       "      <td>. . .</td>\n",
       "      <td>0.698</td>\n",
       "    </tr>\n",
       "    <tr>\n",
       "      <th>Test set Prevalence</th>\n",
       "      <td>. . .</td>\n",
       "      <td>0.296</td>\n",
       "    </tr>\n",
       "    <tr>\n",
       "      <th>True positive rate (recall)</th>\n",
       "      <td>. . .</td>\n",
       "      <td>0.373</td>\n",
       "    </tr>\n",
       "    <tr>\n",
       "      <th>False positive rate</th>\n",
       "      <td>. . .</td>\n",
       "      <td>0.118</td>\n",
       "    </tr>\n",
       "    <tr>\n",
       "      <th>Positive predictive value (precision)</th>\n",
       "      <td>. . .</td>\n",
       "      <td>0.880</td>\n",
       "    </tr>\n",
       "    <tr>\n",
       "      <th>True negative rate (specificity)</th>\n",
       "      <td>. . .</td>\n",
       "      <td>0.882</td>\n",
       "    </tr>\n",
       "    <tr>\n",
       "      <th>False negative rate</th>\n",
       "      <td>. . .</td>\n",
       "      <td>0.627</td>\n",
       "    </tr>\n",
       "    <tr>\n",
       "      <th>Negative predictive value</th>\n",
       "      <td>. . .</td>\n",
       "      <td>0.379</td>\n",
       "    </tr>\n",
       "    <tr>\n",
       "      <th>Positive likelihood ratio (bigger is better)</th>\n",
       "      <td>. . .</td>\n",
       "      <td>3.167</td>\n",
       "    </tr>\n",
       "    <tr>\n",
       "      <th>Negative likelihood ratio (smaller is better)</th>\n",
       "      <td>. . .</td>\n",
       "      <td>0.711</td>\n",
       "    </tr>\n",
       "    <tr>\n",
       "      <th>Diagnostic odds ratio</th>\n",
       "      <td>. . .</td>\n",
       "      <td>4.454</td>\n",
       "    </tr>\n",
       "    <tr>\n",
       "      <th>Accuracy</th>\n",
       "      <td>. . .</td>\n",
       "      <td>0.527</td>\n",
       "    </tr>\n",
       "    <tr>\n",
       "      <th>F1 score</th>\n",
       "      <td>. . .</td>\n",
       "      <td>0.523</td>\n",
       "    </tr>\n",
       "    <tr>\n",
       "      <th>Accuracy</th>\n",
       "      <td>. . .</td>\n",
       "      <td>0.527</td>\n",
       "    </tr>\n",
       "    <tr>\n",
       "      <th>ROC AUC</th>\n",
       "      <td>. . .</td>\n",
       "      <td>0.682</td>\n",
       "    </tr>\n",
       "    <tr>\n",
       "      <th>ROC AUC (95% CI)</th>\n",
       "      <td>. . .</td>\n",
       "      <td>[0.63, 0.73]</td>\n",
       "    </tr>\n",
       "    <tr>\n",
       "      <th>Scaled Brier Score</th>\n",
       "      <td>. . .</td>\n",
       "      <td>-0.825</td>\n",
       "    </tr>\n",
       "    <tr>\n",
       "      <th>Hosmer_Lemeshow p-value</th>\n",
       "      <td>. . .</td>\n",
       "      <td>0.000</td>\n",
       "    </tr>\n",
       "    <tr>\n",
       "      <th>Spiegelhalter p-value</th>\n",
       "      <td>. . .</td>\n",
       "      <td>0.000</td>\n",
       "    </tr>\n",
       "  </tbody>\n",
       "</table>\n",
       "</div>"
      ],
      "text/plain": [
       "                                                                   \n",
       "                                                                   \n",
       "Ground Truth Prevalence                        . . .          0.698\n",
       "Test set Prevalence                            . . .          0.296\n",
       "True positive rate (recall)                    . . .          0.373\n",
       "False positive rate                            . . .          0.118\n",
       "Positive predictive value (precision)          . . .          0.880\n",
       "True negative rate (specificity)               . . .          0.882\n",
       "False negative rate                            . . .          0.627\n",
       "Negative predictive value                      . . .          0.379\n",
       "Positive likelihood ratio (bigger is better)   . . .          3.167\n",
       "Negative likelihood ratio (smaller is better)  . . .          0.711\n",
       "Diagnostic odds ratio                          . . .          4.454\n",
       "Accuracy                                       . . .          0.527\n",
       "F1 score                                       . . .          0.523\n",
       "Accuracy                                       . . .          0.527\n",
       "ROC AUC                                        . . .          0.682\n",
       "ROC AUC (95% CI)                               . . .   [0.63, 0.73]\n",
       "Scaled Brier Score                             . . .         -0.825\n",
       "Hosmer_Lemeshow p-value                        . . .          0.000\n",
       "Spiegelhalter p-value                          . . .          0.000"
      ]
     },
     "metadata": {},
     "output_type": "display_data"
    },
    {
     "data": {
      "image/png": "[encoded data removed]",
      "text/plain": [
       "<Figure size 1500x2000 with 5 Axes>"
      ]
     },
     "metadata": {},
     "output_type": "display_data"
    },
    {
     "data": {
      "image/png": "[encoded data removed]",
      "text/plain": [
       "<Figure size 640x480 with 1 Axes>"
      ]
     },
     "metadata": {},
     "output_type": "display_data"
    },
    {
     "data": {
      "text/html": [
       "<div>\n",
       "<style scoped>\n",
       "    .dataframe tbody tr th:only-of-type {\n",
       "        vertical-align: middle;\n",
       "    }\n",
       "\n",
       "    .dataframe tbody tr th {\n",
       "        vertical-align: top;\n",
       "    }\n",
       "\n",
       "    .dataframe thead th {\n",
       "        text-align: right;\n",
       "    }\n",
       "</style>\n",
       "<table border=\"1\" class=\"dataframe\">\n",
       "  <thead>\n",
       "    <tr style=\"text-align: right;\">\n",
       "      <th></th>\n",
       "      <th></th>\n",
       "      <th></th>\n",
       "    </tr>\n",
       "    <tr>\n",
       "      <th></th>\n",
       "      <th></th>\n",
       "      <th></th>\n",
       "    </tr>\n",
       "  </thead>\n",
       "  <tbody>\n",
       "    <tr>\n",
       "      <th>Ground Truth Prevalence</th>\n",
       "      <td>. . .</td>\n",
       "      <td>0.698</td>\n",
       "    </tr>\n",
       "    <tr>\n",
       "      <th>Test set Prevalence</th>\n",
       "      <td>. . .</td>\n",
       "      <td>0.296</td>\n",
       "    </tr>\n",
       "    <tr>\n",
       "      <th>True positive rate (recall)</th>\n",
       "      <td>. . .</td>\n",
       "      <td>0.373</td>\n",
       "    </tr>\n",
       "    <tr>\n",
       "      <th>False positive rate</th>\n",
       "      <td>. . .</td>\n",
       "      <td>0.118</td>\n",
       "    </tr>\n",
       "    <tr>\n",
       "      <th>Positive predictive value (precision)</th>\n",
       "      <td>. . .</td>\n",
       "      <td>0.880</td>\n",
       "    </tr>\n",
       "    <tr>\n",
       "      <th>True negative rate (specificity)</th>\n",
       "      <td>. . .</td>\n",
       "      <td>0.882</td>\n",
       "    </tr>\n",
       "    <tr>\n",
       "      <th>False negative rate</th>\n",
       "      <td>. . .</td>\n",
       "      <td>0.627</td>\n",
       "    </tr>\n",
       "    <tr>\n",
       "      <th>Negative predictive value</th>\n",
       "      <td>. . .</td>\n",
       "      <td>0.379</td>\n",
       "    </tr>\n",
       "    <tr>\n",
       "      <th>Positive likelihood ratio (bigger is better)</th>\n",
       "      <td>. . .</td>\n",
       "      <td>3.167</td>\n",
       "    </tr>\n",
       "    <tr>\n",
       "      <th>Negative likelihood ratio (smaller is better)</th>\n",
       "      <td>. . .</td>\n",
       "      <td>0.711</td>\n",
       "    </tr>\n",
       "    <tr>\n",
       "      <th>Diagnostic odds ratio</th>\n",
       "      <td>. . .</td>\n",
       "      <td>4.454</td>\n",
       "    </tr>\n",
       "    <tr>\n",
       "      <th>Accuracy</th>\n",
       "      <td>. . .</td>\n",
       "      <td>0.527</td>\n",
       "    </tr>\n",
       "    <tr>\n",
       "      <th>F1 score</th>\n",
       "      <td>. . .</td>\n",
       "      <td>0.523</td>\n",
       "    </tr>\n",
       "    <tr>\n",
       "      <th>Accuracy</th>\n",
       "      <td>. . .</td>\n",
       "      <td>0.527</td>\n",
       "    </tr>\n",
       "    <tr>\n",
       "      <th>ROC AUC</th>\n",
       "      <td>. . .</td>\n",
       "      <td>0.682</td>\n",
       "    </tr>\n",
       "    <tr>\n",
       "      <th>ROC AUC (95% CI)</th>\n",
       "      <td>. . .</td>\n",
       "      <td>[0.63, 0.73]</td>\n",
       "    </tr>\n",
       "    <tr>\n",
       "      <th>Scaled Brier Score</th>\n",
       "      <td>. . .</td>\n",
       "      <td>-0.825</td>\n",
       "    </tr>\n",
       "    <tr>\n",
       "      <th>Hosmer_Lemeshow p-value</th>\n",
       "      <td>. . .</td>\n",
       "      <td>0.000</td>\n",
       "    </tr>\n",
       "    <tr>\n",
       "      <th>Spiegelhalter p-value</th>\n",
       "      <td>. . .</td>\n",
       "      <td>0.000</td>\n",
       "    </tr>\n",
       "  </tbody>\n",
       "</table>\n",
       "</div>"
      ],
      "text/plain": [
       "                                                                   \n",
       "                                                                   \n",
       "Ground Truth Prevalence                        . . .          0.698\n",
       "Test set Prevalence                            . . .          0.296\n",
       "True positive rate (recall)                    . . .          0.373\n",
       "False positive rate                            . . .          0.118\n",
       "Positive predictive value (precision)          . . .          0.880\n",
       "True negative rate (specificity)               . . .          0.882\n",
       "False negative rate                            . . .          0.627\n",
       "Negative predictive value                      . . .          0.379\n",
       "Positive likelihood ratio (bigger is better)   . . .          3.167\n",
       "Negative likelihood ratio (smaller is better)  . . .          0.711\n",
       "Diagnostic odds ratio                          . . .          4.454\n",
       "Accuracy                                       . . .          0.527\n",
       "F1 score                                       . . .          0.523\n",
       "Accuracy                                       . . .          0.527\n",
       "ROC AUC                                        . . .          0.682\n",
       "ROC AUC (95% CI)                               . . .   [0.63, 0.73]\n",
       "Scaled Brier Score                             . . .         -0.825\n",
       "Hosmer_Lemeshow p-value                        . . .          0.000\n",
       "Spiegelhalter p-value                          . . .          0.000"
      ]
     },
     "execution_count": 110,
     "metadata": {},
     "output_type": "execute_result"
    }
   ],
   "source": [
    "import MLFlow_Utils\n",
    "binary_classification_metrics(y_test_single, y_pred, pd.Series(y_pred_prob1))"
   ]
  },
  {
   "cell_type": "code",
   "execution_count": 111,
   "metadata": {},
   "outputs": [
    {
     "data": {
      "text/plain": [
       "0.6818565005620083"
      ]
     },
     "execution_count": 111,
     "metadata": {},
     "output_type": "execute_result"
    }
   ],
   "source": [
    "fprate, tprate, thresholds = roc_curve(y_test_single, y_pred_prob1, pos_label=1)\n",
    "auc(fprate, tprate)"
   ]
  },
  {
   "cell_type": "code",
   "execution_count": 112,
   "metadata": {},
   "outputs": [
    {
     "data": {
      "text/plain": [
       "['0.63', '0.73']"
      ]
     },
     "execution_count": 112,
     "metadata": {},
     "output_type": "execute_result"
    }
   ],
   "source": [
    "#ROC_AUC\n",
    "[\"{0:0.2f}\".format(i) for i in AUC_CI(y_test_single, y_pred_prob1)]"
   ]
  },
  {
   "cell_type": "code",
   "execution_count": 113,
   "metadata": {},
   "outputs": [
    {
     "data": {
      "text/plain": [
       "0.37261146496815284"
      ]
     },
     "execution_count": 113,
     "metadata": {},
     "output_type": "execute_result"
    }
   ],
   "source": [
    "#recall\n",
    "tpr(y_test_single, y_pred)"
   ]
  },
  {
   "cell_type": "code",
   "execution_count": 114,
   "metadata": {},
   "outputs": [
    {
     "data": {
      "text/plain": [
       "0.8823529411764706"
      ]
     },
     "execution_count": 114,
     "metadata": {},
     "output_type": "execute_result"
    }
   ],
   "source": [
    "#specificity\n",
    "tnr(y_test_single, pd.Series(y_pred))"
   ]
  },
  {
   "cell_type": "code",
   "execution_count": 115,
   "metadata": {},
   "outputs": [
    {
     "data": {
      "text/plain": [
       "0.5266666666666666"
      ]
     },
     "execution_count": 115,
     "metadata": {},
     "output_type": "execute_result"
    }
   ],
   "source": [
    "#accuracy\n",
    "accuracy(y_test_single, y_pred)"
   ]
  },
  {
   "cell_type": "code",
   "execution_count": 116,
   "metadata": {},
   "outputs": [
    {
     "data": {
      "text/plain": [
       "0.8796992481203008"
      ]
     },
     "execution_count": 116,
     "metadata": {},
     "output_type": "execute_result"
    }
   ],
   "source": [
    "ppv(y_test_single, y_pred)"
   ]
  },
  {
   "cell_type": "code",
   "execution_count": 117,
   "metadata": {},
   "outputs": [
    {
     "data": {
      "text/plain": [
       "0.3785488958990536"
      ]
     },
     "execution_count": 117,
     "metadata": {},
     "output_type": "execute_result"
    }
   ],
   "source": [
    "npv(y_test_single, y_pred)"
   ]
  },
  {
   "cell_type": "markdown",
   "metadata": {},
   "source": [
    "# End of File"
   ]
  },
  {
   "cell_type": "code",
   "execution_count": null,
   "metadata": {},
   "outputs": [],
   "source": []
  }
 ],
 "metadata": {
  "kernelspec": {
   "display_name": "Python 3 (ipykernel)",
   "language": "python",
   "name": "python3"
  },
  "language_info": {
   "codemirror_mode": {
    "name": "ipython",
    "version": 3
   },
   "file_extension": ".py",
   "mimetype": "text/x-python",
   "name": "python",
   "nbconvert_exporter": "python",
   "pygments_lexer": "ipython3",
   "version": "3.10.0"
  }
 },
 "nbformat": 4,
 "nbformat_minor": 4
}
