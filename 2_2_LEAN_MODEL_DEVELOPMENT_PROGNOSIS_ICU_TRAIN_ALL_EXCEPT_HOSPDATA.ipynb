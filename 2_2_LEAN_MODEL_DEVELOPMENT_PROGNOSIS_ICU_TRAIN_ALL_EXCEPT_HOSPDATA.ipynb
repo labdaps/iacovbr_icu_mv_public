{
 "cells": [
  {
   "cell_type": "markdown",
   "metadata": {},
   "source": [
    "# 2) IACOV - Model Development for Prognosis - ICU\n",
    "## Strategy 2) Training using all hospitals except specific and testing with 30% of the specific hospital\n"
   ]
  },
  {
   "cell_type": "markdown",
   "metadata": {},
   "source": [
    "Code below to import libraries when running this point forward"
   ]
  },
  {
   "cell_type": "code",
   "execution_count": 1,
   "metadata": {},
   "outputs": [],
   "source": [
    "# !pip install npm nodejs"
   ]
  },
  {
   "cell_type": "code",
   "execution_count": 2,
   "metadata": {},
   "outputs": [],
   "source": [
    "# !jupyter lab clean\n",
    "# !jupyter lab build"
   ]
  },
  {
   "cell_type": "code",
   "execution_count": 3,
   "metadata": {},
   "outputs": [
    {
     "name": "stderr",
     "output_type": "stream",
     "text": [
      "C:\\Users\\carin\\AppData\\Local\\Temp\\ipykernel_1364\\2017038996.py:1: DeprecationWarning: \n",
      "Pyarrow will become a required dependency of pandas in the next major release of pandas (pandas 3.0),\n",
      "(to allow more performant data types, such as the Arrow string type, and better interoperability with other libraries)\n",
      "but was not found to be installed on your system.\n",
      "If this would cause problems for you,\n",
      "please provide us feedback at https://github.com/pandas-dev/pandas/issues/54466\n",
      "        \n",
      "  import pandas as pd\n"
     ]
    }
   ],
   "source": [
    "import pandas as pd\n",
    "import matplotlib.pyplot as plt\n",
    "import seaborn as sns\n",
    "import os\n",
    "import numpy as np\n",
    "\n",
    "import warnings\n",
    "warnings.filterwarnings(\"ignore\")\n",
    "\n",
    "# para evitarmos a exibição dos dados em notacao científica\n",
    "pd.set_option('display.float_format', lambda x: '%.3f' % x)\n",
    "\n",
    "#comment next line to not use MLFlow for cleaning data\n",
    "from MLFlow_Classification import *\n",
    "from MLFlow_Utils import *"
   ]
  },
  {
   "cell_type": "markdown",
   "metadata": {},
   "source": [
    "### This code uses just 14 hospitals, since ICU or MV has no variation for 4 hospitals\n",
    "#### - The code that prepares the data to run all strategies for ICU and MV is: PREPARING_DATA_TO_UCI_MV_ANALYSES\n",
    "#### - df_iacov_en.csv (used for death) was replaced here by df_iacov_model_lean_14hosp.csv\n",
    "#### - put df_iacov_model_lean_14hosp.csv in same folder as this notebook"
   ]
  },
  {
   "cell_type": "code",
   "execution_count": 4,
   "metadata": {},
   "outputs": [
    {
     "data": {
      "text/plain": [
       "(6046, 30)"
      ]
     },
     "execution_count": 4,
     "metadata": {},
     "output_type": "execute_result"
    }
   ],
   "source": [
    "dataset = pd.read_csv(\"df_iacov_model_lean_14hosp.csv\", delimiter=\";\")\n",
    "df_iacov_model = pd.DataFrame(dataset)\n",
    "df_iacov_model.shape"
   ]
  },
  {
   "cell_type": "code",
   "execution_count": 5,
   "metadata": {},
   "outputs": [
    {
     "data": {
      "text/plain": [
       "Index(['city_hospital', 'age', 'male', 'race', 'heart_rate', 'resp_rate',\n",
       "       'sys_press', 'dias_press', 'mean_press', 'temp', 'hemoglobin',\n",
       "       'platelets', 'hematocrit', 'red_cells_count', 'hcm', 'rdw', 'mcv',\n",
       "       'leukocytes', 'neutrophil', 'lymphocytes', 'basophils', 'eosinophils',\n",
       "       'monocytes', 'crp', 'death', 'icu', 'mv', 'state', 'region', 'excluir'],\n",
       "      dtype='object')"
      ]
     },
     "execution_count": 5,
     "metadata": {},
     "output_type": "execute_result"
    }
   ],
   "source": [
    "df_iacov_model.columns"
   ]
  },
  {
   "cell_type": "markdown",
   "metadata": {},
   "source": [
    "## 2.1) Assign binary outcome ICU to be predicted"
   ]
  },
  {
   "cell_type": "markdown",
   "metadata": {},
   "source": [
    "### 2.1.1) Maintain essential variables (LEAN Model)"
   ]
  },
  {
   "cell_type": "code",
   "execution_count": 6,
   "metadata": {},
   "outputs": [
    {
     "data": {
      "text/plain": [
       "(6046, 26)"
      ]
     },
     "execution_count": 6,
     "metadata": {},
     "output_type": "execute_result"
    }
   ],
   "source": [
    "#22 predictors + outcome ICU + Region/State\n",
    "df_iacov_model_lean = df_iacov_model[['city_hospital'\n",
    "                                      ,'age'\n",
    "                                      ,'male'\n",
    "                                      ,'heart_rate'\n",
    "                                      ,'resp_rate'\n",
    "                                      ,'sys_press'\n",
    "                                      ,'dias_press'\n",
    "                                      ,'mean_press'\n",
    "                                      ,'temp'\n",
    "                                      ,'hemoglobin'\n",
    "                                      ,'platelets'\n",
    "                                      ,'hematocrit'\n",
    "                                      ,'red_cells_count'\n",
    "                                      ,'hcm'\n",
    "                                      ,'rdw'\n",
    "                                      ,'mcv'\n",
    "                                      ,'leukocytes'\n",
    "                                      ,'neutrophil'\n",
    "                                      ,'lymphocytes'\n",
    "                                      ,'basophils'\n",
    "                                      ,'eosinophils'\n",
    "                                      ,'monocytes'\n",
    "                                      ,'crp'\n",
    "                                      ,'icu'\n",
    "                                      ,'region' #for filtering purposes\n",
    "                                      ,'state' #for filtering purposes\n",
    "                                     ]]\n",
    "df_iacov_model_lean.shape"
   ]
  },
  {
   "cell_type": "code",
   "execution_count": 7,
   "metadata": {},
   "outputs": [],
   "source": [
    "df_iacov_model_lean.to_csv('df_iacov_model_lean.csv', sep=';', index=False)"
   ]
  },
  {
   "cell_type": "markdown",
   "metadata": {},
   "source": [
    "### 2.1.2) Filter a specific hospital"
   ]
  },
  {
   "cell_type": "code",
   "execution_count": 8,
   "metadata": {},
   "outputs": [
    {
     "data": {
      "text/plain": [
       "(6046, 26)"
      ]
     },
     "execution_count": 8,
     "metadata": {},
     "output_type": "execute_result"
    }
   ],
   "source": [
    "#Put csv in same folder as this notebook\n",
    "df_all_hospitals = pd.read_csv(\"df_iacov_model_lean.csv\", delimiter=\";\", decimal=\".\")\n",
    "df_all_hospitals.shape"
   ]
  },
  {
   "cell_type": "code",
   "execution_count": 9,
   "metadata": {},
   "outputs": [
    {
     "data": {
      "text/html": [
       "<div>\n",
       "<style scoped>\n",
       "    .dataframe tbody tr th:only-of-type {\n",
       "        vertical-align: middle;\n",
       "    }\n",
       "\n",
       "    .dataframe tbody tr th {\n",
       "        vertical-align: top;\n",
       "    }\n",
       "\n",
       "    .dataframe thead th {\n",
       "        text-align: right;\n",
       "    }\n",
       "</style>\n",
       "<table border=\"1\" class=\"dataframe\">\n",
       "  <thead>\n",
       "    <tr style=\"text-align: right;\">\n",
       "      <th></th>\n",
       "      <th>Missing Values</th>\n",
       "      <th>% missing of Total Values</th>\n",
       "      <th># Unique Values</th>\n",
       "      <th># Values as [0]</th>\n",
       "      <th>datatype</th>\n",
       "      <th>skew</th>\n",
       "      <th>count</th>\n",
       "      <th>mean</th>\n",
       "      <th>std</th>\n",
       "      <th>min</th>\n",
       "      <th>25%</th>\n",
       "      <th>50%</th>\n",
       "      <th>75%</th>\n",
       "      <th>max</th>\n",
       "    </tr>\n",
       "  </thead>\n",
       "  <tbody>\n",
       "    <tr>\n",
       "      <th>city_hospital</th>\n",
       "      <td>0</td>\n",
       "      <td>0.000</td>\n",
       "      <td>14</td>\n",
       "      <td>0</td>\n",
       "      <td>object</td>\n",
       "      <td>NaN</td>\n",
       "      <td>NaN</td>\n",
       "      <td>NaN</td>\n",
       "      <td>NaN</td>\n",
       "      <td>NaN</td>\n",
       "      <td>NaN</td>\n",
       "      <td>NaN</td>\n",
       "      <td>NaN</td>\n",
       "      <td>NaN</td>\n",
       "    </tr>\n",
       "    <tr>\n",
       "      <th>age</th>\n",
       "      <td>0</td>\n",
       "      <td>0.000</td>\n",
       "      <td>98</td>\n",
       "      <td>0</td>\n",
       "      <td>float64</td>\n",
       "      <td>-0.060</td>\n",
       "      <td>6046.000</td>\n",
       "      <td>57.521</td>\n",
       "      <td>17.869</td>\n",
       "      <td>18.000</td>\n",
       "      <td>44.000</td>\n",
       "      <td>58.000</td>\n",
       "      <td>71.000</td>\n",
       "      <td>105.000</td>\n",
       "    </tr>\n",
       "    <tr>\n",
       "      <th>male</th>\n",
       "      <td>0</td>\n",
       "      <td>0.000</td>\n",
       "      <td>2</td>\n",
       "      <td>2790</td>\n",
       "      <td>float64</td>\n",
       "      <td>-0.155</td>\n",
       "      <td>6046.000</td>\n",
       "      <td>0.539</td>\n",
       "      <td>0.499</td>\n",
       "      <td>0.000</td>\n",
       "      <td>0.000</td>\n",
       "      <td>1.000</td>\n",
       "      <td>1.000</td>\n",
       "      <td>1.000</td>\n",
       "    </tr>\n",
       "    <tr>\n",
       "      <th>heart_rate</th>\n",
       "      <td>809</td>\n",
       "      <td>13.381</td>\n",
       "      <td>183</td>\n",
       "      <td>0</td>\n",
       "      <td>float64</td>\n",
       "      <td>0.611</td>\n",
       "      <td>5237.000</td>\n",
       "      <td>85.689</td>\n",
       "      <td>17.209</td>\n",
       "      <td>13.000</td>\n",
       "      <td>75.000</td>\n",
       "      <td>85.000</td>\n",
       "      <td>96.000</td>\n",
       "      <td>233.000</td>\n",
       "    </tr>\n",
       "    <tr>\n",
       "      <th>resp_rate</th>\n",
       "      <td>1457</td>\n",
       "      <td>24.099</td>\n",
       "      <td>69</td>\n",
       "      <td>1</td>\n",
       "      <td>float64</td>\n",
       "      <td>2.897</td>\n",
       "      <td>4589.000</td>\n",
       "      <td>21.881</td>\n",
       "      <td>6.380</td>\n",
       "      <td>0.000</td>\n",
       "      <td>18.000</td>\n",
       "      <td>20.000</td>\n",
       "      <td>24.000</td>\n",
       "      <td>108.000</td>\n",
       "    </tr>\n",
       "    <tr>\n",
       "      <th>sys_press</th>\n",
       "      <td>1336</td>\n",
       "      <td>22.097</td>\n",
       "      <td>215</td>\n",
       "      <td>0</td>\n",
       "      <td>float64</td>\n",
       "      <td>-0.279</td>\n",
       "      <td>4710.000</td>\n",
       "      <td>124.054</td>\n",
       "      <td>22.791</td>\n",
       "      <td>10.000</td>\n",
       "      <td>110.000</td>\n",
       "      <td>122.000</td>\n",
       "      <td>138.000</td>\n",
       "      <td>242.000</td>\n",
       "    </tr>\n",
       "    <tr>\n",
       "      <th>dias_press</th>\n",
       "      <td>1325</td>\n",
       "      <td>21.915</td>\n",
       "      <td>150</td>\n",
       "      <td>0</td>\n",
       "      <td>float64</td>\n",
       "      <td>-0.361</td>\n",
       "      <td>4721.000</td>\n",
       "      <td>74.608</td>\n",
       "      <td>14.626</td>\n",
       "      <td>6.000</td>\n",
       "      <td>67.000</td>\n",
       "      <td>76.000</td>\n",
       "      <td>81.000</td>\n",
       "      <td>141.000</td>\n",
       "    </tr>\n",
       "    <tr>\n",
       "      <th>mean_press</th>\n",
       "      <td>1366</td>\n",
       "      <td>22.593</td>\n",
       "      <td>1452</td>\n",
       "      <td>326</td>\n",
       "      <td>float64</td>\n",
       "      <td>-1.751</td>\n",
       "      <td>4680.000</td>\n",
       "      <td>83.731</td>\n",
       "      <td>28.475</td>\n",
       "      <td>0.000</td>\n",
       "      <td>78.981</td>\n",
       "      <td>90.000</td>\n",
       "      <td>98.648</td>\n",
       "      <td>166.000</td>\n",
       "    </tr>\n",
       "    <tr>\n",
       "      <th>temp</th>\n",
       "      <td>1173</td>\n",
       "      <td>19.401</td>\n",
       "      <td>128</td>\n",
       "      <td>1</td>\n",
       "      <td>float64</td>\n",
       "      <td>62.972</td>\n",
       "      <td>4873.000</td>\n",
       "      <td>36.430</td>\n",
       "      <td>4.976</td>\n",
       "      <td>0.000</td>\n",
       "      <td>36.000</td>\n",
       "      <td>36.300</td>\n",
       "      <td>36.800</td>\n",
       "      <td>372.000</td>\n",
       "    </tr>\n",
       "    <tr>\n",
       "      <th>hemoglobin</th>\n",
       "      <td>1904</td>\n",
       "      <td>31.492</td>\n",
       "      <td>226</td>\n",
       "      <td>0</td>\n",
       "      <td>float64</td>\n",
       "      <td>-0.628</td>\n",
       "      <td>4142.000</td>\n",
       "      <td>12.752</td>\n",
       "      <td>2.189</td>\n",
       "      <td>1.400</td>\n",
       "      <td>11.692</td>\n",
       "      <td>13.000</td>\n",
       "      <td>14.200</td>\n",
       "      <td>30.600</td>\n",
       "    </tr>\n",
       "    <tr>\n",
       "      <th>platelets</th>\n",
       "      <td>744</td>\n",
       "      <td>12.306</td>\n",
       "      <td>1036</td>\n",
       "      <td>0</td>\n",
       "      <td>float64</td>\n",
       "      <td>0.395</td>\n",
       "      <td>5302.000</td>\n",
       "      <td>235701.617</td>\n",
       "      <td>143771.202</td>\n",
       "      <td>7.000</td>\n",
       "      <td>148000.000</td>\n",
       "      <td>217000.000</td>\n",
       "      <td>321750.000</td>\n",
       "      <td>992000.000</td>\n",
       "    </tr>\n",
       "    <tr>\n",
       "      <th>hematocrit</th>\n",
       "      <td>2350</td>\n",
       "      <td>38.869</td>\n",
       "      <td>475</td>\n",
       "      <td>0</td>\n",
       "      <td>float64</td>\n",
       "      <td>-0.539</td>\n",
       "      <td>3696.000</td>\n",
       "      <td>38.436</td>\n",
       "      <td>6.402</td>\n",
       "      <td>1.000</td>\n",
       "      <td>35.100</td>\n",
       "      <td>39.200</td>\n",
       "      <td>42.500</td>\n",
       "      <td>77.000</td>\n",
       "    </tr>\n",
       "    <tr>\n",
       "      <th>red_cells_count</th>\n",
       "      <td>2684</td>\n",
       "      <td>44.393</td>\n",
       "      <td>578</td>\n",
       "      <td>0</td>\n",
       "      <td>float64</td>\n",
       "      <td>-0.274</td>\n",
       "      <td>3362.000</td>\n",
       "      <td>3.915</td>\n",
       "      <td>1.168</td>\n",
       "      <td>0.290</td>\n",
       "      <td>3.250</td>\n",
       "      <td>4.210</td>\n",
       "      <td>4.717</td>\n",
       "      <td>14.500</td>\n",
       "    </tr>\n",
       "    <tr>\n",
       "      <th>hcm</th>\n",
       "      <td>1191</td>\n",
       "      <td>19.699</td>\n",
       "      <td>689</td>\n",
       "      <td>0</td>\n",
       "      <td>float64</td>\n",
       "      <td>3.528</td>\n",
       "      <td>4855.000</td>\n",
       "      <td>29.095</td>\n",
       "      <td>2.939</td>\n",
       "      <td>10.000</td>\n",
       "      <td>27.800</td>\n",
       "      <td>29.200</td>\n",
       "      <td>30.500</td>\n",
       "      <td>88.100</td>\n",
       "    </tr>\n",
       "    <tr>\n",
       "      <th>rdw</th>\n",
       "      <td>1192</td>\n",
       "      <td>19.716</td>\n",
       "      <td>227</td>\n",
       "      <td>0</td>\n",
       "      <td>float64</td>\n",
       "      <td>11.869</td>\n",
       "      <td>4854.000</td>\n",
       "      <td>13.837</td>\n",
       "      <td>2.407</td>\n",
       "      <td>3.000</td>\n",
       "      <td>12.700</td>\n",
       "      <td>13.500</td>\n",
       "      <td>14.400</td>\n",
       "      <td>86.100</td>\n",
       "    </tr>\n",
       "    <tr>\n",
       "      <th>mcv</th>\n",
       "      <td>1185</td>\n",
       "      <td>19.600</td>\n",
       "      <td>1029</td>\n",
       "      <td>0</td>\n",
       "      <td>float64</td>\n",
       "      <td>0.227</td>\n",
       "      <td>4861.000</td>\n",
       "      <td>87.665</td>\n",
       "      <td>7.667</td>\n",
       "      <td>8.150</td>\n",
       "      <td>83.700</td>\n",
       "      <td>87.600</td>\n",
       "      <td>91.600</td>\n",
       "      <td>201.400</td>\n",
       "    </tr>\n",
       "    <tr>\n",
       "      <th>leukocytes</th>\n",
       "      <td>741</td>\n",
       "      <td>12.256</td>\n",
       "      <td>2268</td>\n",
       "      <td>0</td>\n",
       "      <td>float64</td>\n",
       "      <td>20.605</td>\n",
       "      <td>5305.000</td>\n",
       "      <td>7035.747</td>\n",
       "      <td>9241.209</td>\n",
       "      <td>0.760</td>\n",
       "      <td>3680.000</td>\n",
       "      <td>6210.000</td>\n",
       "      <td>9233.000</td>\n",
       "      <td>365920.000</td>\n",
       "    </tr>\n",
       "    <tr>\n",
       "      <th>neutrophil</th>\n",
       "      <td>2074</td>\n",
       "      <td>34.304</td>\n",
       "      <td>2403</td>\n",
       "      <td>3</td>\n",
       "      <td>float64</td>\n",
       "      <td>1.830</td>\n",
       "      <td>3972.000</td>\n",
       "      <td>6143.968</td>\n",
       "      <td>4259.737</td>\n",
       "      <td>0.000</td>\n",
       "      <td>3180.000</td>\n",
       "      <td>5200.000</td>\n",
       "      <td>8060.000</td>\n",
       "      <td>47636.000</td>\n",
       "    </tr>\n",
       "    <tr>\n",
       "      <th>lymphocytes</th>\n",
       "      <td>1404</td>\n",
       "      <td>23.222</td>\n",
       "      <td>1865</td>\n",
       "      <td>5</td>\n",
       "      <td>float64</td>\n",
       "      <td>15.570</td>\n",
       "      <td>4642.000</td>\n",
       "      <td>1031.263</td>\n",
       "      <td>1028.587</td>\n",
       "      <td>0.000</td>\n",
       "      <td>529.250</td>\n",
       "      <td>900.000</td>\n",
       "      <td>1378.250</td>\n",
       "      <td>42120.000</td>\n",
       "    </tr>\n",
       "    <tr>\n",
       "      <th>basophils</th>\n",
       "      <td>1120</td>\n",
       "      <td>18.525</td>\n",
       "      <td>252</td>\n",
       "      <td>2087</td>\n",
       "      <td>float64</td>\n",
       "      <td>5.342</td>\n",
       "      <td>4926.000</td>\n",
       "      <td>7.509</td>\n",
       "      <td>18.532</td>\n",
       "      <td>0.000</td>\n",
       "      <td>0.000</td>\n",
       "      <td>0.010</td>\n",
       "      <td>10.000</td>\n",
       "      <td>259.200</td>\n",
       "    </tr>\n",
       "    <tr>\n",
       "      <th>eosinophils</th>\n",
       "      <td>2367</td>\n",
       "      <td>39.150</td>\n",
       "      <td>495</td>\n",
       "      <td>1487</td>\n",
       "      <td>float64</td>\n",
       "      <td>14.977</td>\n",
       "      <td>3679.000</td>\n",
       "      <td>43.517</td>\n",
       "      <td>127.479</td>\n",
       "      <td>0.000</td>\n",
       "      <td>0.000</td>\n",
       "      <td>1.000</td>\n",
       "      <td>46.000</td>\n",
       "      <td>4450.000</td>\n",
       "    </tr>\n",
       "    <tr>\n",
       "      <th>monocytes</th>\n",
       "      <td>841</td>\n",
       "      <td>13.910</td>\n",
       "      <td>1450</td>\n",
       "      <td>14</td>\n",
       "      <td>float64</td>\n",
       "      <td>2.534</td>\n",
       "      <td>5205.000</td>\n",
       "      <td>354.765</td>\n",
       "      <td>375.844</td>\n",
       "      <td>0.000</td>\n",
       "      <td>0.930</td>\n",
       "      <td>310.000</td>\n",
       "      <td>584.000</td>\n",
       "      <td>7243.000</td>\n",
       "    </tr>\n",
       "    <tr>\n",
       "      <th>crp</th>\n",
       "      <td>1383</td>\n",
       "      <td>22.875</td>\n",
       "      <td>2986</td>\n",
       "      <td>0</td>\n",
       "      <td>float64</td>\n",
       "      <td>3.137</td>\n",
       "      <td>4663.000</td>\n",
       "      <td>36.696</td>\n",
       "      <td>71.738</td>\n",
       "      <td>0.015</td>\n",
       "      <td>1.911</td>\n",
       "      <td>7.800</td>\n",
       "      <td>28.100</td>\n",
       "      <td>708.300</td>\n",
       "    </tr>\n",
       "    <tr>\n",
       "      <th>icu</th>\n",
       "      <td>0</td>\n",
       "      <td>0.000</td>\n",
       "      <td>2</td>\n",
       "      <td>3290</td>\n",
       "      <td>int64</td>\n",
       "      <td>0.177</td>\n",
       "      <td>6046.000</td>\n",
       "      <td>0.456</td>\n",
       "      <td>0.498</td>\n",
       "      <td>0.000</td>\n",
       "      <td>0.000</td>\n",
       "      <td>0.000</td>\n",
       "      <td>1.000</td>\n",
       "      <td>1.000</td>\n",
       "    </tr>\n",
       "    <tr>\n",
       "      <th>region</th>\n",
       "      <td>0</td>\n",
       "      <td>0.000</td>\n",
       "      <td>5</td>\n",
       "      <td>0</td>\n",
       "      <td>object</td>\n",
       "      <td>NaN</td>\n",
       "      <td>NaN</td>\n",
       "      <td>NaN</td>\n",
       "      <td>NaN</td>\n",
       "      <td>NaN</td>\n",
       "      <td>NaN</td>\n",
       "      <td>NaN</td>\n",
       "      <td>NaN</td>\n",
       "      <td>NaN</td>\n",
       "    </tr>\n",
       "    <tr>\n",
       "      <th>state</th>\n",
       "      <td>0</td>\n",
       "      <td>0.000</td>\n",
       "      <td>10</td>\n",
       "      <td>0</td>\n",
       "      <td>object</td>\n",
       "      <td>NaN</td>\n",
       "      <td>NaN</td>\n",
       "      <td>NaN</td>\n",
       "      <td>NaN</td>\n",
       "      <td>NaN</td>\n",
       "      <td>NaN</td>\n",
       "      <td>NaN</td>\n",
       "      <td>NaN</td>\n",
       "      <td>NaN</td>\n",
       "    </tr>\n",
       "  </tbody>\n",
       "</table>\n",
       "</div>"
      ],
      "text/plain": [
       "                 Missing Values  % missing of Total Values  # Unique Values  \\\n",
       "city_hospital                 0                      0.000               14   \n",
       "age                           0                      0.000               98   \n",
       "male                          0                      0.000                2   \n",
       "heart_rate                  809                     13.381              183   \n",
       "resp_rate                  1457                     24.099               69   \n",
       "sys_press                  1336                     22.097              215   \n",
       "dias_press                 1325                     21.915              150   \n",
       "mean_press                 1366                     22.593             1452   \n",
       "temp                       1173                     19.401              128   \n",
       "hemoglobin                 1904                     31.492              226   \n",
       "platelets                   744                     12.306             1036   \n",
       "hematocrit                 2350                     38.869              475   \n",
       "red_cells_count            2684                     44.393              578   \n",
       "hcm                        1191                     19.699              689   \n",
       "rdw                        1192                     19.716              227   \n",
       "mcv                        1185                     19.600             1029   \n",
       "leukocytes                  741                     12.256             2268   \n",
       "neutrophil                 2074                     34.304             2403   \n",
       "lymphocytes                1404                     23.222             1865   \n",
       "basophils                  1120                     18.525              252   \n",
       "eosinophils                2367                     39.150              495   \n",
       "monocytes                   841                     13.910             1450   \n",
       "crp                        1383                     22.875             2986   \n",
       "icu                           0                      0.000                2   \n",
       "region                        0                      0.000                5   \n",
       "state                         0                      0.000               10   \n",
       "\n",
       "                 # Values as [0] datatype   skew    count       mean  \\\n",
       "city_hospital                  0   object    NaN      NaN        NaN   \n",
       "age                            0  float64 -0.060 6046.000     57.521   \n",
       "male                        2790  float64 -0.155 6046.000      0.539   \n",
       "heart_rate                     0  float64  0.611 5237.000     85.689   \n",
       "resp_rate                      1  float64  2.897 4589.000     21.881   \n",
       "sys_press                      0  float64 -0.279 4710.000    124.054   \n",
       "dias_press                     0  float64 -0.361 4721.000     74.608   \n",
       "mean_press                   326  float64 -1.751 4680.000     83.731   \n",
       "temp                           1  float64 62.972 4873.000     36.430   \n",
       "hemoglobin                     0  float64 -0.628 4142.000     12.752   \n",
       "platelets                      0  float64  0.395 5302.000 235701.617   \n",
       "hematocrit                     0  float64 -0.539 3696.000     38.436   \n",
       "red_cells_count                0  float64 -0.274 3362.000      3.915   \n",
       "hcm                            0  float64  3.528 4855.000     29.095   \n",
       "rdw                            0  float64 11.869 4854.000     13.837   \n",
       "mcv                            0  float64  0.227 4861.000     87.665   \n",
       "leukocytes                     0  float64 20.605 5305.000   7035.747   \n",
       "neutrophil                     3  float64  1.830 3972.000   6143.968   \n",
       "lymphocytes                    5  float64 15.570 4642.000   1031.263   \n",
       "basophils                   2087  float64  5.342 4926.000      7.509   \n",
       "eosinophils                 1487  float64 14.977 3679.000     43.517   \n",
       "monocytes                     14  float64  2.534 5205.000    354.765   \n",
       "crp                            0  float64  3.137 4663.000     36.696   \n",
       "icu                         3290    int64  0.177 6046.000      0.456   \n",
       "region                         0   object    NaN      NaN        NaN   \n",
       "state                          0   object    NaN      NaN        NaN   \n",
       "\n",
       "                       std    min        25%        50%        75%        max  \n",
       "city_hospital          NaN    NaN        NaN        NaN        NaN        NaN  \n",
       "age                 17.869 18.000     44.000     58.000     71.000    105.000  \n",
       "male                 0.499  0.000      0.000      1.000      1.000      1.000  \n",
       "heart_rate          17.209 13.000     75.000     85.000     96.000    233.000  \n",
       "resp_rate            6.380  0.000     18.000     20.000     24.000    108.000  \n",
       "sys_press           22.791 10.000    110.000    122.000    138.000    242.000  \n",
       "dias_press          14.626  6.000     67.000     76.000     81.000    141.000  \n",
       "mean_press          28.475  0.000     78.981     90.000     98.648    166.000  \n",
       "temp                 4.976  0.000     36.000     36.300     36.800    372.000  \n",
       "hemoglobin           2.189  1.400     11.692     13.000     14.200     30.600  \n",
       "platelets       143771.202  7.000 148000.000 217000.000 321750.000 992000.000  \n",
       "hematocrit           6.402  1.000     35.100     39.200     42.500     77.000  \n",
       "red_cells_count      1.168  0.290      3.250      4.210      4.717     14.500  \n",
       "hcm                  2.939 10.000     27.800     29.200     30.500     88.100  \n",
       "rdw                  2.407  3.000     12.700     13.500     14.400     86.100  \n",
       "mcv                  7.667  8.150     83.700     87.600     91.600    201.400  \n",
       "leukocytes        9241.209  0.760   3680.000   6210.000   9233.000 365920.000  \n",
       "neutrophil        4259.737  0.000   3180.000   5200.000   8060.000  47636.000  \n",
       "lymphocytes       1028.587  0.000    529.250    900.000   1378.250  42120.000  \n",
       "basophils           18.532  0.000      0.000      0.010     10.000    259.200  \n",
       "eosinophils        127.479  0.000      0.000      1.000     46.000   4450.000  \n",
       "monocytes          375.844  0.000      0.930    310.000    584.000   7243.000  \n",
       "crp                 71.738  0.015      1.911      7.800     28.100    708.300  \n",
       "icu                  0.498  0.000      0.000      0.000      1.000      1.000  \n",
       "region                 NaN    NaN        NaN        NaN        NaN        NaN  \n",
       "state                  NaN    NaN        NaN        NaN        NaN        NaN  "
      ]
     },
     "execution_count": 9,
     "metadata": {},
     "output_type": "execute_result"
    }
   ],
   "source": [
    "column_summaries(df_all_hospitals)"
   ]
  },
  {
   "cell_type": "code",
   "execution_count": 10,
   "metadata": {},
   "outputs": [],
   "source": [
    "import ipywidgets as widgets\n",
    "from IPython.display import clear_output"
   ]
  },
  {
   "cell_type": "code",
   "execution_count": 11,
   "metadata": {},
   "outputs": [
    {
     "data": {
      "text/plain": [
       "city_hospital\n",
       "HC_USP                        1500\n",
       "HOSPPORTUGUES_SALVADOR        1359\n",
       "CEARA_UNIMED                   845\n",
       "HRL_2021_02                    539\n",
       "HMV_POA_02                     456\n",
       "RIO_DE_JANEIRO_UNIMED          449\n",
       "HOSPSANTAJULIA_MANAUS          247\n",
       "HOSPSANTACATARINABLUMENAU      148\n",
       "HOSPSAOFRANCISCO_MOGIGUACU     124\n",
       "PERNAMBUCO_FULL                112\n",
       "PELOTAS                         91\n",
       "CEARA_HUWC                      73\n",
       "HEVV                            56\n",
       "AMAZONAS_HUGV                   47\n",
       "Name: count, dtype: int64"
      ]
     },
     "execution_count": 11,
     "metadata": {},
     "output_type": "execute_result"
    }
   ],
   "source": [
    "df_all_hospitals.city_hospital.value_counts()"
   ]
  },
  {
   "cell_type": "code",
   "execution_count": 12,
   "metadata": {},
   "outputs": [],
   "source": [
    "# Hospitals excluded for ICU and MV analyses: 'HOSPSANTACASASP_FULL', 'HOSPGRUPOSANTA', 'HUTRIN_2021_02', 'RIO_DE_JANEIRO_HUCFF'\n",
    "dropdown_hospital = widgets.Dropdown(options = ['Choose a hospital ...'\n",
    "                                                ,'HC_USP'                     #SP\n",
    "                                                ,'HOSPPORTUGUES_SALVADOR'     #BA\n",
    "                                                ,'CEARA_UNIMED'               #CE\n",
    "                                                ,'HRL_2021_02'                #GO - Luiziania\n",
    "                                                ,'HMV_POA_02'                 #RS - Moinhos de Vento\n",
    "                                                ,'RIO_DE_JANEIRO_UNIMED'      #RJ\n",
    "                                                ,'HOSPSANTAJULIA_MANAUS'      #AM\n",
    "                                                ,'HOSPSANTACATARINABLUMENAU'  #SC\n",
    "                                                ,'HOSPSAOFRANCISCO_MOGIGUACU' #SP\n",
    "                                                ,'PERNAMBUCO_FULL'            #PE                                                \n",
    "                                                ,'PELOTAS'                    #RS\n",
    "                                                ,'CEARA_HUWC'                 #CE\n",
    "                                                ,'HEVV'                       #ES - Vila Velha\n",
    "                                                ,'AMAZONAS_HUGV'              #AM\n",
    "#                                                 ,'GHC_02'\n",
    "                                               ])"
   ]
  },
  {
   "cell_type": "code",
   "execution_count": 13,
   "metadata": {},
   "outputs": [],
   "source": [
    "specific_hospital = 'Choose a hospital'\n",
    "df_iacov_model_lean = df_all_hospitals\n",
    "\n",
    "def dropdown_hospital_eventhandler(change):\n",
    "    global specific_hospital \n",
    "    specific_hospital = change.new\n",
    "    dropdown_hospital.observe(dropdown_hospital_eventhandler, names='value')"
   ]
  },
  {
   "cell_type": "code",
   "execution_count": 14,
   "metadata": {},
   "outputs": [],
   "source": [
    "dropdown_hospital.observe(dropdown_hospital_eventhandler, names='value')"
   ]
  },
  {
   "cell_type": "markdown",
   "metadata": {},
   "source": [
    "**Select Specific Hospital**"
   ]
  },
  {
   "cell_type": "code",
   "execution_count": 15,
   "metadata": {},
   "outputs": [],
   "source": [
    "# !pip install ipywidgets"
   ]
  },
  {
   "cell_type": "code",
   "execution_count": 16,
   "metadata": {},
   "outputs": [],
   "source": [
    "# !jupyter nbextension enable --py widgetsnbextension"
   ]
  },
  {
   "cell_type": "code",
   "execution_count": 17,
   "metadata": {},
   "outputs": [],
   "source": [
    "# !jupyter labextension install @jupyter-widgets/jupyterlab-manager"
   ]
  },
  {
   "cell_type": "code",
   "execution_count": 1059,
   "metadata": {},
   "outputs": [
    {
     "data": {
      "application/vnd.jupyter.widget-view+json": {
       "model_id": "179ef1b11cdf4a41a2028e3275c47bde",
       "version_major": 2,
       "version_minor": 0
      },
      "text/plain": [
       "Dropdown(index=14, options=('Choose a hospital ...', 'HC_USP', 'HOSPPORTUGUES_SALVADOR', 'CEARA_UNIMED', 'HRL_…"
      ]
     },
     "metadata": {},
     "output_type": "display_data"
    }
   ],
   "source": [
    "display(dropdown_hospital)"
   ]
  },
  {
   "cell_type": "code",
   "execution_count": 1060,
   "metadata": {},
   "outputs": [
    {
     "data": {
      "text/plain": [
       "region\n",
       "NORDESTE       2389\n",
       "SUDESTE        2129\n",
       "SUL             695\n",
       "CENTROOESTE     539\n",
       "NORTE           294\n",
       "Name: count, dtype: int64"
      ]
     },
     "execution_count": 1060,
     "metadata": {},
     "output_type": "execute_result"
    }
   ],
   "source": [
    "df_all_hospitals.region.value_counts()"
   ]
  },
  {
   "cell_type": "markdown",
   "metadata": {},
   "source": [
    "**Split train/test of specific Hospital**"
   ]
  },
  {
   "cell_type": "code",
   "execution_count": 1061,
   "metadata": {},
   "outputs": [],
   "source": [
    "from sklearn.model_selection import train_test_split"
   ]
  },
  {
   "cell_type": "code",
   "execution_count": 1062,
   "metadata": {},
   "outputs": [
    {
     "data": {
      "text/plain": [
       "(47, 26)"
      ]
     },
     "execution_count": 1062,
     "metadata": {},
     "output_type": "execute_result"
    }
   ],
   "source": [
    "#Filter the specific hospital\n",
    "df_iacov_model_lean_specific = df_all_hospitals[df_all_hospitals.city_hospital == specific_hospital]\n",
    "df_iacov_model_lean_specific.shape"
   ]
  },
  {
   "cell_type": "code",
   "execution_count": 1063,
   "metadata": {},
   "outputs": [
    {
     "data": {
      "text/plain": [
       "(47, 25)"
      ]
     },
     "execution_count": 1063,
     "metadata": {},
     "output_type": "execute_result"
    }
   ],
   "source": [
    "X_specific = df_iacov_model_lean_specific.drop(['icu'],axis=1)\n",
    "X_specific.shape"
   ]
  },
  {
   "cell_type": "code",
   "execution_count": 1064,
   "metadata": {},
   "outputs": [
    {
     "data": {
      "text/plain": [
       "(47,)"
      ]
     },
     "execution_count": 1064,
     "metadata": {},
     "output_type": "execute_result"
    }
   ],
   "source": [
    "y_specific = df_iacov_model_lean_specific['icu']\n",
    "y_specific.shape"
   ]
  },
  {
   "cell_type": "code",
   "execution_count": 1065,
   "metadata": {},
   "outputs": [],
   "source": [
    "X_train_specific, X_test_specific, y_train_specific, y_test_specific = train_test_split(X_specific, y_specific, test_size=0.30, random_state=42, stratify=y_specific)"
   ]
  },
  {
   "cell_type": "code",
   "execution_count": 1066,
   "metadata": {},
   "outputs": [
    {
     "data": {
      "text/plain": [
       "(32, 25)"
      ]
     },
     "execution_count": 1066,
     "metadata": {},
     "output_type": "execute_result"
    }
   ],
   "source": [
    "X_train_specific.shape"
   ]
  },
  {
   "cell_type": "code",
   "execution_count": 1067,
   "metadata": {},
   "outputs": [
    {
     "data": {
      "text/plain": [
       "(15, 25)"
      ]
     },
     "execution_count": 1067,
     "metadata": {},
     "output_type": "execute_result"
    }
   ],
   "source": [
    "X_test_specific.shape"
   ]
  },
  {
   "cell_type": "markdown",
   "metadata": {},
   "source": [
    "**Filter all hospitals except the selected above**\n",
    "\n",
    "PS: Also removed GHC hospital due to very low positive cases"
   ]
  },
  {
   "cell_type": "code",
   "execution_count": 1068,
   "metadata": {},
   "outputs": [
    {
     "data": {
      "text/plain": [
       "(5999, 26)"
      ]
     },
     "execution_count": 1068,
     "metadata": {},
     "output_type": "execute_result"
    }
   ],
   "source": [
    "df_iacov_model_lean = df_all_hospitals[ (df_all_hospitals.city_hospital != specific_hospital) & (df_all_hospitals.city_hospital != 'GHC_02')]\n",
    "df_iacov_model_lean.shape"
   ]
  },
  {
   "cell_type": "code",
   "execution_count": 1069,
   "metadata": {},
   "outputs": [
    {
     "data": {
      "text/plain": [
       "city_hospital\n",
       "HC_USP                        1500\n",
       "HOSPPORTUGUES_SALVADOR        1359\n",
       "CEARA_UNIMED                   845\n",
       "HRL_2021_02                    539\n",
       "HMV_POA_02                     456\n",
       "RIO_DE_JANEIRO_UNIMED          449\n",
       "HOSPSANTAJULIA_MANAUS          247\n",
       "HOSPSANTACATARINABLUMENAU      148\n",
       "HOSPSAOFRANCISCO_MOGIGUACU     124\n",
       "PERNAMBUCO_FULL                112\n",
       "PELOTAS                         91\n",
       "CEARA_HUWC                      73\n",
       "HEVV                            56\n",
       "Name: count, dtype: int64"
      ]
     },
     "execution_count": 1069,
     "metadata": {},
     "output_type": "execute_result"
    }
   ],
   "source": [
    "#check data without specific\n",
    "df_iacov_model_lean.city_hospital.value_counts()"
   ]
  },
  {
   "cell_type": "code",
   "execution_count": 1070,
   "metadata": {
    "scrolled": true
   },
   "outputs": [
    {
     "name": "stdout",
     "output_type": "stream",
     "text": [
      "Specific: AMAZONAS_HUGV\n",
      "(training - all hospitals) dataset: (5999, 26)\n",
      "\n",
      "(training - specific) dataset: (32, 25)\n",
      "\n",
      "(test - specific) dataset: (15, 25)\n"
     ]
    }
   ],
   "source": [
    "print(\"Specific: \" + specific_hospital )\n",
    "print(\"(training - all hospitals) dataset: \" + str(df_iacov_model_lean.shape))\n",
    "\n",
    "print(\"\\n(training - specific) dataset: {}\".format(X_train_specific.shape))\n",
    "\n",
    "print(\"\\n(test - specific) dataset: {}\".format(X_test_specific.shape))"
   ]
  },
  {
   "cell_type": "markdown",
   "metadata": {},
   "source": [
    "### 2.1.3) Dropping unused variables - city_hospital (All hospitals)"
   ]
  },
  {
   "cell_type": "code",
   "execution_count": 1071,
   "metadata": {},
   "outputs": [
    {
     "data": {
      "text/plain": [
       "(5999, 25)"
      ]
     },
     "execution_count": 1071,
     "metadata": {},
     "output_type": "execute_result"
    }
   ],
   "source": [
    "df_iacov_model_lean = df_iacov_model_lean.drop(['city_hospital'],axis=1)\n",
    "df_iacov_model_lean.shape"
   ]
  },
  {
   "cell_type": "code",
   "execution_count": 1072,
   "metadata": {},
   "outputs": [
    {
     "data": {
      "text/plain": [
       "icu\n",
       "0    3277\n",
       "1    2722\n",
       "Name: count, dtype: int64"
      ]
     },
     "execution_count": 1072,
     "metadata": {},
     "output_type": "execute_result"
    }
   ],
   "source": [
    "#Preencho NAs com 0 \n",
    "df_iacov_model_lean['icu'] = df_iacov_model_lean['icu'].fillna(0)\n",
    "df_iacov_model_lean.icu.value_counts()"
   ]
  },
  {
   "cell_type": "code",
   "execution_count": 1073,
   "metadata": {},
   "outputs": [
    {
     "data": {
      "text/plain": [
       "icu\n",
       "0   54.626\n",
       "1   45.374\n",
       "Name: count, dtype: float64"
      ]
     },
     "execution_count": 1073,
     "metadata": {},
     "output_type": "execute_result"
    }
   ],
   "source": [
    "#Check proportion of ICU on training data \n",
    "(df_iacov_model_lean.icu.value_counts()/len(df_iacov_model_lean.icu))*100"
   ]
  },
  {
   "cell_type": "markdown",
   "metadata": {},
   "source": [
    "### From now on the outcome will call CLASS"
   ]
  },
  {
   "cell_type": "code",
   "execution_count": 1074,
   "metadata": {},
   "outputs": [],
   "source": [
    "df_iacov_model_lean['class'] = df_iacov_model_lean['icu'].astype('int')\n",
    "df_iacov_model_lean = df_iacov_model_lean.drop(['icu'],axis=1)"
   ]
  },
  {
   "cell_type": "markdown",
   "metadata": {},
   "source": [
    "### 2.1.4) Recalculating null mean_press"
   ]
  },
  {
   "cell_type": "code",
   "execution_count": 1075,
   "metadata": {},
   "outputs": [],
   "source": [
    "# filtered_df.loc[1158,'sys_press'] = 50\n",
    "# filtered_df.loc[1158,'dias_press'] = 100"
   ]
  },
  {
   "cell_type": "code",
   "execution_count": 1076,
   "metadata": {},
   "outputs": [],
   "source": [
    "def isNullMeanPressure(row):\n",
    "\n",
    "    if pd.isnull(row['mean_press']):\n",
    "    \n",
    "        if pd.notnull(row['sys_press']) and pd.notnull(row['dias_press']):\n",
    "            return (row['sys_press']+row['dias_press'])/2\n",
    "        else:\n",
    "            return row['mean_press']\n",
    "    else:\n",
    "        return row['mean_press']"
   ]
  },
  {
   "cell_type": "code",
   "execution_count": 1077,
   "metadata": {},
   "outputs": [],
   "source": [
    "#Check mean_press missing before recalculating\n",
    "#column_summaries(df_iacov_model_lean)"
   ]
  },
  {
   "cell_type": "code",
   "execution_count": 1078,
   "metadata": {},
   "outputs": [],
   "source": [
    "df_iacov_model_lean['mean_press'] = df_iacov_model_lean.apply(isNullMeanPressure, axis=1)"
   ]
  },
  {
   "cell_type": "code",
   "execution_count": 1079,
   "metadata": {},
   "outputs": [],
   "source": [
    "#Check mean_press missing after recalculating\n",
    "#column_summaries(df_iacov_model_lean)"
   ]
  },
  {
   "cell_type": "code",
   "execution_count": 1080,
   "metadata": {},
   "outputs": [],
   "source": [
    "#column_summaries(df_iacov_model_lean_specific)"
   ]
  },
  {
   "cell_type": "code",
   "execution_count": 1081,
   "metadata": {},
   "outputs": [],
   "source": [
    "X_test_specific['mean_press'] = X_test_specific.apply(isNullMeanPressure, axis=1)"
   ]
  },
  {
   "cell_type": "code",
   "execution_count": 1082,
   "metadata": {},
   "outputs": [],
   "source": [
    "#column_summaries(X_test_specific)"
   ]
  },
  {
   "cell_type": "markdown",
   "metadata": {},
   "source": [
    "### Put X_test and y_test in separate files"
   ]
  },
  {
   "cell_type": "code",
   "execution_count": 1083,
   "metadata": {},
   "outputs": [
    {
     "data": {
      "text/plain": [
       "'X_test_NORTE_AM_AMAZONAS_HUGV.csv'"
      ]
     },
     "execution_count": 1083,
     "metadata": {},
     "output_type": "execute_result"
    }
   ],
   "source": [
    "x_test_specific_name = 'X_test_' + X_test_specific.region.iloc[0]  \\\n",
    "                        + '_' + X_test_specific.state.iloc[0]  \\\n",
    "                        + '_' + X_test_specific.city_hospital.iloc[0] +  \".csv\"\n",
    "x_test_specific_name"
   ]
  },
  {
   "cell_type": "code",
   "execution_count": 1084,
   "metadata": {},
   "outputs": [
    {
     "data": {
      "text/plain": [
       "'y_icu_NORTE_AM_AMAZONAS_HUGV.csv'"
      ]
     },
     "execution_count": 1084,
     "metadata": {},
     "output_type": "execute_result"
    }
   ],
   "source": [
    "y_test_specific_name = 'y_icu_' + X_test_specific.region.iloc[0]  \\\n",
    "                        + '_' + X_test_specific.state.iloc[0]  \\\n",
    "                        + '_' + X_test_specific.city_hospital.iloc[0] +  \".csv\"\n",
    "y_test_specific_name"
   ]
  },
  {
   "cell_type": "code",
   "execution_count": 1085,
   "metadata": {},
   "outputs": [
    {
     "data": {
      "text/plain": [
       "(15, 25)"
      ]
     },
     "execution_count": 1085,
     "metadata": {},
     "output_type": "execute_result"
    }
   ],
   "source": [
    "X_test_specific.to_csv(x_test_specific_name, sep=';')\n",
    "X_test_specific.shape"
   ]
  },
  {
   "cell_type": "code",
   "execution_count": 1086,
   "metadata": {},
   "outputs": [
    {
     "data": {
      "text/plain": [
       "(15,)"
      ]
     },
     "execution_count": 1086,
     "metadata": {},
     "output_type": "execute_result"
    }
   ],
   "source": [
    "y_test_specific.to_csv(y_test_specific_name, sep=';')\n",
    "y_test_specific.shape"
   ]
  },
  {
   "cell_type": "markdown",
   "metadata": {},
   "source": [
    "## 2.2) Prepare Experiment \n",
    "\n",
    "### All hospitals except specific"
   ]
  },
  {
   "cell_type": "code",
   "execution_count": 1087,
   "metadata": {},
   "outputs": [
    {
     "data": {
      "text/plain": [
       "(5999, 25)"
      ]
     },
     "execution_count": 1087,
     "metadata": {},
     "output_type": "execute_result"
    }
   ],
   "source": [
    "df_iacov_model_lean.shape"
   ]
  },
  {
   "cell_type": "code",
   "execution_count": 1088,
   "metadata": {},
   "outputs": [],
   "source": [
    "df_iacov_model_train = df_iacov_model_lean"
   ]
  },
  {
   "cell_type": "code",
   "execution_count": 1089,
   "metadata": {},
   "outputs": [],
   "source": [
    "df_iacov_model_train = df_iacov_model_train.drop(['region'],axis=1)\n",
    "df_iacov_model_train = df_iacov_model_train.drop(['state'],axis=1)"
   ]
  },
  {
   "cell_type": "code",
   "execution_count": 1090,
   "metadata": {},
   "outputs": [],
   "source": [
    "#import inspect\n",
    "#inspect.getsource(setup)"
   ]
  },
  {
   "cell_type": "markdown",
   "metadata": {},
   "source": [
    "__Atention!__: If any Dtype is bool, cast to int32, otherwise experiment will fail"
   ]
  },
  {
   "cell_type": "code",
   "execution_count": 1091,
   "metadata": {},
   "outputs": [
    {
     "name": "stdout",
     "output_type": "stream",
     "text": [
      "<class 'pandas.core.frame.DataFrame'>\n",
      "Index: 5999 entries, 47 to 6045\n",
      "Data columns (total 23 columns):\n",
      " #   Column           Non-Null Count  Dtype  \n",
      "---  ------           --------------  -----  \n",
      " 0   age              5999 non-null   float64\n",
      " 1   male             5999 non-null   float64\n",
      " 2   heart_rate       5192 non-null   float64\n",
      " 3   resp_rate        4548 non-null   float64\n",
      " 4   sys_press        4666 non-null   float64\n",
      " 5   dias_press       4677 non-null   float64\n",
      " 6   mean_press       5006 non-null   float64\n",
      " 7   temp             4838 non-null   float64\n",
      " 8   hemoglobin       4096 non-null   float64\n",
      " 9   platelets        5257 non-null   float64\n",
      " 10  hematocrit       3650 non-null   float64\n",
      " 11  red_cells_count  3318 non-null   float64\n",
      " 12  hcm              4812 non-null   float64\n",
      " 13  rdw              4810 non-null   float64\n",
      " 14  mcv              4817 non-null   float64\n",
      " 15  leukocytes       5259 non-null   float64\n",
      " 16  neutrophil       3928 non-null   float64\n",
      " 17  lymphocytes      4598 non-null   float64\n",
      " 18  basophils        4882 non-null   float64\n",
      " 19  eosinophils      3635 non-null   float64\n",
      " 20  monocytes        5161 non-null   float64\n",
      " 21  crp              4627 non-null   float64\n",
      " 22  class            5999 non-null   int32  \n",
      "dtypes: float64(22), int32(1)\n",
      "memory usage: 1.1 MB\n"
     ]
    }
   ],
   "source": [
    "df_iacov_model_train.info()"
   ]
  },
  {
   "cell_type": "code",
   "execution_count": 1092,
   "metadata": {},
   "outputs": [
    {
     "name": "stdout",
     "output_type": "stream",
     "text": [
      " \n",
      "Setup Succesfully Completed!\n"
     ]
    },
    {
     "data": {
      "text/html": [
       "<style type=\"text/css\">\n",
       "#T_93b31_row4_col1, #T_93b31_row15_col1, #T_93b31_row42_col1 {\n",
       "  background-color: lightgreen;\n",
       "}\n",
       "</style>\n",
       "<table id=\"T_93b31\">\n",
       "  <thead>\n",
       "    <tr>\n",
       "      <th class=\"blank level0\" >&nbsp;</th>\n",
       "      <th id=\"T_93b31_level0_col0\" class=\"col_heading level0 col0\" >Description</th>\n",
       "      <th id=\"T_93b31_level0_col1\" class=\"col_heading level0 col1\" >Value</th>\n",
       "    </tr>\n",
       "  </thead>\n",
       "  <tbody>\n",
       "    <tr>\n",
       "      <th id=\"T_93b31_level0_row0\" class=\"row_heading level0 row0\" >0</th>\n",
       "      <td id=\"T_93b31_row0_col0\" class=\"data row0 col0\" >session_id</td>\n",
       "      <td id=\"T_93b31_row0_col1\" class=\"data row0 col1\" >42</td>\n",
       "    </tr>\n",
       "    <tr>\n",
       "      <th id=\"T_93b31_level0_row1\" class=\"row_heading level0 row1\" >1</th>\n",
       "      <td id=\"T_93b31_row1_col0\" class=\"data row1 col0\" >Target Type</td>\n",
       "      <td id=\"T_93b31_row1_col1\" class=\"data row1 col1\" >Binary</td>\n",
       "    </tr>\n",
       "    <tr>\n",
       "      <th id=\"T_93b31_level0_row2\" class=\"row_heading level0 row2\" >2</th>\n",
       "      <td id=\"T_93b31_row2_col0\" class=\"data row2 col0\" >Label Encoded</td>\n",
       "      <td id=\"T_93b31_row2_col1\" class=\"data row2 col1\" >None</td>\n",
       "    </tr>\n",
       "    <tr>\n",
       "      <th id=\"T_93b31_level0_row3\" class=\"row_heading level0 row3\" >3</th>\n",
       "      <td id=\"T_93b31_row3_col0\" class=\"data row3 col0\" >Original Data</td>\n",
       "      <td id=\"T_93b31_row3_col1\" class=\"data row3 col1\" >(5999, 23)</td>\n",
       "    </tr>\n",
       "    <tr>\n",
       "      <th id=\"T_93b31_level0_row4\" class=\"row_heading level0 row4\" >4</th>\n",
       "      <td id=\"T_93b31_row4_col0\" class=\"data row4 col0\" >Missing Values </td>\n",
       "      <td id=\"T_93b31_row4_col1\" class=\"data row4 col1\" >True</td>\n",
       "    </tr>\n",
       "    <tr>\n",
       "      <th id=\"T_93b31_level0_row5\" class=\"row_heading level0 row5\" >5</th>\n",
       "      <td id=\"T_93b31_row5_col0\" class=\"data row5 col0\" >Numeric Features </td>\n",
       "      <td id=\"T_93b31_row5_col1\" class=\"data row5 col1\" >21</td>\n",
       "    </tr>\n",
       "    <tr>\n",
       "      <th id=\"T_93b31_level0_row6\" class=\"row_heading level0 row6\" >6</th>\n",
       "      <td id=\"T_93b31_row6_col0\" class=\"data row6 col0\" >Categorical Features </td>\n",
       "      <td id=\"T_93b31_row6_col1\" class=\"data row6 col1\" >1</td>\n",
       "    </tr>\n",
       "    <tr>\n",
       "      <th id=\"T_93b31_level0_row7\" class=\"row_heading level0 row7\" >7</th>\n",
       "      <td id=\"T_93b31_row7_col0\" class=\"data row7 col0\" >Ordinal Features </td>\n",
       "      <td id=\"T_93b31_row7_col1\" class=\"data row7 col1\" >False</td>\n",
       "    </tr>\n",
       "    <tr>\n",
       "      <th id=\"T_93b31_level0_row8\" class=\"row_heading level0 row8\" >8</th>\n",
       "      <td id=\"T_93b31_row8_col0\" class=\"data row8 col0\" >High Cardinality Features </td>\n",
       "      <td id=\"T_93b31_row8_col1\" class=\"data row8 col1\" >False</td>\n",
       "    </tr>\n",
       "    <tr>\n",
       "      <th id=\"T_93b31_level0_row9\" class=\"row_heading level0 row9\" >9</th>\n",
       "      <td id=\"T_93b31_row9_col0\" class=\"data row9 col0\" >High Cardinality Method </td>\n",
       "      <td id=\"T_93b31_row9_col1\" class=\"data row9 col1\" >None</td>\n",
       "    </tr>\n",
       "    <tr>\n",
       "      <th id=\"T_93b31_level0_row10\" class=\"row_heading level0 row10\" >10</th>\n",
       "      <td id=\"T_93b31_row10_col0\" class=\"data row10 col0\" >Sampled Data</td>\n",
       "      <td id=\"T_93b31_row10_col1\" class=\"data row10 col1\" >(6388, 23)</td>\n",
       "    </tr>\n",
       "    <tr>\n",
       "      <th id=\"T_93b31_level0_row11\" class=\"row_heading level0 row11\" >11</th>\n",
       "      <td id=\"T_93b31_row11_col0\" class=\"data row11 col0\" >Transformed Train Set</td>\n",
       "      <td id=\"T_93b31_row11_col1\" class=\"data row11 col1\" >(4588, 22)</td>\n",
       "    </tr>\n",
       "    <tr>\n",
       "      <th id=\"T_93b31_level0_row12\" class=\"row_heading level0 row12\" >12</th>\n",
       "      <td id=\"T_93b31_row12_col0\" class=\"data row12 col0\" >Transformed Test Set</td>\n",
       "      <td id=\"T_93b31_row12_col1\" class=\"data row12 col1\" >(1800, 22)</td>\n",
       "    </tr>\n",
       "    <tr>\n",
       "      <th id=\"T_93b31_level0_row13\" class=\"row_heading level0 row13\" >13</th>\n",
       "      <td id=\"T_93b31_row13_col0\" class=\"data row13 col0\" >Numeric Imputer </td>\n",
       "      <td id=\"T_93b31_row13_col1\" class=\"data row13 col1\" >median</td>\n",
       "    </tr>\n",
       "    <tr>\n",
       "      <th id=\"T_93b31_level0_row14\" class=\"row_heading level0 row14\" >14</th>\n",
       "      <td id=\"T_93b31_row14_col0\" class=\"data row14 col0\" >Categorical Imputer </td>\n",
       "      <td id=\"T_93b31_row14_col1\" class=\"data row14 col1\" >constant</td>\n",
       "    </tr>\n",
       "    <tr>\n",
       "      <th id=\"T_93b31_level0_row15\" class=\"row_heading level0 row15\" >15</th>\n",
       "      <td id=\"T_93b31_row15_col0\" class=\"data row15 col0\" >Normalize </td>\n",
       "      <td id=\"T_93b31_row15_col1\" class=\"data row15 col1\" >True</td>\n",
       "    </tr>\n",
       "    <tr>\n",
       "      <th id=\"T_93b31_level0_row16\" class=\"row_heading level0 row16\" >16</th>\n",
       "      <td id=\"T_93b31_row16_col0\" class=\"data row16 col0\" >Normalize Method </td>\n",
       "      <td id=\"T_93b31_row16_col1\" class=\"data row16 col1\" >zscore</td>\n",
       "    </tr>\n",
       "    <tr>\n",
       "      <th id=\"T_93b31_level0_row17\" class=\"row_heading level0 row17\" >17</th>\n",
       "      <td id=\"T_93b31_row17_col0\" class=\"data row17 col0\" >Transformation </td>\n",
       "      <td id=\"T_93b31_row17_col1\" class=\"data row17 col1\" >False</td>\n",
       "    </tr>\n",
       "    <tr>\n",
       "      <th id=\"T_93b31_level0_row18\" class=\"row_heading level0 row18\" >18</th>\n",
       "      <td id=\"T_93b31_row18_col0\" class=\"data row18 col0\" >Transformation Method </td>\n",
       "      <td id=\"T_93b31_row18_col1\" class=\"data row18 col1\" >None</td>\n",
       "    </tr>\n",
       "    <tr>\n",
       "      <th id=\"T_93b31_level0_row19\" class=\"row_heading level0 row19\" >19</th>\n",
       "      <td id=\"T_93b31_row19_col0\" class=\"data row19 col0\" >PCA </td>\n",
       "      <td id=\"T_93b31_row19_col1\" class=\"data row19 col1\" >False</td>\n",
       "    </tr>\n",
       "    <tr>\n",
       "      <th id=\"T_93b31_level0_row20\" class=\"row_heading level0 row20\" >20</th>\n",
       "      <td id=\"T_93b31_row20_col0\" class=\"data row20 col0\" >PCA Method </td>\n",
       "      <td id=\"T_93b31_row20_col1\" class=\"data row20 col1\" >None</td>\n",
       "    </tr>\n",
       "    <tr>\n",
       "      <th id=\"T_93b31_level0_row21\" class=\"row_heading level0 row21\" >21</th>\n",
       "      <td id=\"T_93b31_row21_col0\" class=\"data row21 col0\" >PCA Components </td>\n",
       "      <td id=\"T_93b31_row21_col1\" class=\"data row21 col1\" >None</td>\n",
       "    </tr>\n",
       "    <tr>\n",
       "      <th id=\"T_93b31_level0_row22\" class=\"row_heading level0 row22\" >22</th>\n",
       "      <td id=\"T_93b31_row22_col0\" class=\"data row22 col0\" >Ignore Low Variance </td>\n",
       "      <td id=\"T_93b31_row22_col1\" class=\"data row22 col1\" >False</td>\n",
       "    </tr>\n",
       "    <tr>\n",
       "      <th id=\"T_93b31_level0_row23\" class=\"row_heading level0 row23\" >23</th>\n",
       "      <td id=\"T_93b31_row23_col0\" class=\"data row23 col0\" >Combine Rare Levels </td>\n",
       "      <td id=\"T_93b31_row23_col1\" class=\"data row23 col1\" >False</td>\n",
       "    </tr>\n",
       "    <tr>\n",
       "      <th id=\"T_93b31_level0_row24\" class=\"row_heading level0 row24\" >24</th>\n",
       "      <td id=\"T_93b31_row24_col0\" class=\"data row24 col0\" >Rare Level Threshold </td>\n",
       "      <td id=\"T_93b31_row24_col1\" class=\"data row24 col1\" >None</td>\n",
       "    </tr>\n",
       "    <tr>\n",
       "      <th id=\"T_93b31_level0_row25\" class=\"row_heading level0 row25\" >25</th>\n",
       "      <td id=\"T_93b31_row25_col0\" class=\"data row25 col0\" >Numeric Binning </td>\n",
       "      <td id=\"T_93b31_row25_col1\" class=\"data row25 col1\" >False</td>\n",
       "    </tr>\n",
       "    <tr>\n",
       "      <th id=\"T_93b31_level0_row26\" class=\"row_heading level0 row26\" >26</th>\n",
       "      <td id=\"T_93b31_row26_col0\" class=\"data row26 col0\" >Remove Outliers </td>\n",
       "      <td id=\"T_93b31_row26_col1\" class=\"data row26 col1\" >False</td>\n",
       "    </tr>\n",
       "    <tr>\n",
       "      <th id=\"T_93b31_level0_row27\" class=\"row_heading level0 row27\" >27</th>\n",
       "      <td id=\"T_93b31_row27_col0\" class=\"data row27 col0\" >Outliers Threshold </td>\n",
       "      <td id=\"T_93b31_row27_col1\" class=\"data row27 col1\" >None</td>\n",
       "    </tr>\n",
       "    <tr>\n",
       "      <th id=\"T_93b31_level0_row28\" class=\"row_heading level0 row28\" >28</th>\n",
       "      <td id=\"T_93b31_row28_col0\" class=\"data row28 col0\" >Remove Multicollinearity </td>\n",
       "      <td id=\"T_93b31_row28_col1\" class=\"data row28 col1\" >False</td>\n",
       "    </tr>\n",
       "    <tr>\n",
       "      <th id=\"T_93b31_level0_row29\" class=\"row_heading level0 row29\" >29</th>\n",
       "      <td id=\"T_93b31_row29_col0\" class=\"data row29 col0\" >Multicollinearity Threshold </td>\n",
       "      <td id=\"T_93b31_row29_col1\" class=\"data row29 col1\" >None</td>\n",
       "    </tr>\n",
       "    <tr>\n",
       "      <th id=\"T_93b31_level0_row30\" class=\"row_heading level0 row30\" >30</th>\n",
       "      <td id=\"T_93b31_row30_col0\" class=\"data row30 col0\" >Clustering </td>\n",
       "      <td id=\"T_93b31_row30_col1\" class=\"data row30 col1\" >False</td>\n",
       "    </tr>\n",
       "    <tr>\n",
       "      <th id=\"T_93b31_level0_row31\" class=\"row_heading level0 row31\" >31</th>\n",
       "      <td id=\"T_93b31_row31_col0\" class=\"data row31 col0\" >Clustering Iteration </td>\n",
       "      <td id=\"T_93b31_row31_col1\" class=\"data row31 col1\" >None</td>\n",
       "    </tr>\n",
       "    <tr>\n",
       "      <th id=\"T_93b31_level0_row32\" class=\"row_heading level0 row32\" >32</th>\n",
       "      <td id=\"T_93b31_row32_col0\" class=\"data row32 col0\" >Polynomial Features </td>\n",
       "      <td id=\"T_93b31_row32_col1\" class=\"data row32 col1\" >False</td>\n",
       "    </tr>\n",
       "    <tr>\n",
       "      <th id=\"T_93b31_level0_row33\" class=\"row_heading level0 row33\" >33</th>\n",
       "      <td id=\"T_93b31_row33_col0\" class=\"data row33 col0\" >Polynomial Degree </td>\n",
       "      <td id=\"T_93b31_row33_col1\" class=\"data row33 col1\" >None</td>\n",
       "    </tr>\n",
       "    <tr>\n",
       "      <th id=\"T_93b31_level0_row34\" class=\"row_heading level0 row34\" >34</th>\n",
       "      <td id=\"T_93b31_row34_col0\" class=\"data row34 col0\" >Trignometry Features </td>\n",
       "      <td id=\"T_93b31_row34_col1\" class=\"data row34 col1\" >False</td>\n",
       "    </tr>\n",
       "    <tr>\n",
       "      <th id=\"T_93b31_level0_row35\" class=\"row_heading level0 row35\" >35</th>\n",
       "      <td id=\"T_93b31_row35_col0\" class=\"data row35 col0\" >Polynomial Threshold </td>\n",
       "      <td id=\"T_93b31_row35_col1\" class=\"data row35 col1\" >None</td>\n",
       "    </tr>\n",
       "    <tr>\n",
       "      <th id=\"T_93b31_level0_row36\" class=\"row_heading level0 row36\" >36</th>\n",
       "      <td id=\"T_93b31_row36_col0\" class=\"data row36 col0\" >Group Features </td>\n",
       "      <td id=\"T_93b31_row36_col1\" class=\"data row36 col1\" >False</td>\n",
       "    </tr>\n",
       "    <tr>\n",
       "      <th id=\"T_93b31_level0_row37\" class=\"row_heading level0 row37\" >37</th>\n",
       "      <td id=\"T_93b31_row37_col0\" class=\"data row37 col0\" >Feature Selection </td>\n",
       "      <td id=\"T_93b31_row37_col1\" class=\"data row37 col1\" >False</td>\n",
       "    </tr>\n",
       "    <tr>\n",
       "      <th id=\"T_93b31_level0_row38\" class=\"row_heading level0 row38\" >38</th>\n",
       "      <td id=\"T_93b31_row38_col0\" class=\"data row38 col0\" >Features Selection Threshold </td>\n",
       "      <td id=\"T_93b31_row38_col1\" class=\"data row38 col1\" >None</td>\n",
       "    </tr>\n",
       "    <tr>\n",
       "      <th id=\"T_93b31_level0_row39\" class=\"row_heading level0 row39\" >39</th>\n",
       "      <td id=\"T_93b31_row39_col0\" class=\"data row39 col0\" >Feature Interaction </td>\n",
       "      <td id=\"T_93b31_row39_col1\" class=\"data row39 col1\" >False</td>\n",
       "    </tr>\n",
       "    <tr>\n",
       "      <th id=\"T_93b31_level0_row40\" class=\"row_heading level0 row40\" >40</th>\n",
       "      <td id=\"T_93b31_row40_col0\" class=\"data row40 col0\" >Feature Ratio </td>\n",
       "      <td id=\"T_93b31_row40_col1\" class=\"data row40 col1\" >False</td>\n",
       "    </tr>\n",
       "    <tr>\n",
       "      <th id=\"T_93b31_level0_row41\" class=\"row_heading level0 row41\" >41</th>\n",
       "      <td id=\"T_93b31_row41_col0\" class=\"data row41 col0\" >Interaction Threshold </td>\n",
       "      <td id=\"T_93b31_row41_col1\" class=\"data row41 col1\" >None</td>\n",
       "    </tr>\n",
       "    <tr>\n",
       "      <th id=\"T_93b31_level0_row42\" class=\"row_heading level0 row42\" >42</th>\n",
       "      <td id=\"T_93b31_row42_col0\" class=\"data row42 col0\" >Resample Train Data </td>\n",
       "      <td id=\"T_93b31_row42_col1\" class=\"data row42 col1\" >True</td>\n",
       "    </tr>\n",
       "    <tr>\n",
       "      <th id=\"T_93b31_level0_row43\" class=\"row_heading level0 row43\" >43</th>\n",
       "      <td id=\"T_93b31_row43_col0\" class=\"data row43 col0\" >Resample Method</td>\n",
       "      <td id=\"T_93b31_row43_col1\" class=\"data row43 col1\" >random_over</td>\n",
       "    </tr>\n",
       "  </tbody>\n",
       "</table>\n"
      ],
      "text/plain": [
       "<pandas.io.formats.style.Styler at 0x1a9f69d8340>"
      ]
     },
     "metadata": {},
     "output_type": "display_data"
    }
   ],
   "source": [
    "exp = setup(df_iacov_model_train\n",
    "            , target='class'\n",
    "            , categorical_features = ['male']\n",
    "            , numeric_features = ['crp','basophils','eosinophils','red_cells_count','monocytes','hemoglobin','resp_rate','neutrophil','hematocrit']\n",
    "            , normalize=True\n",
    "            #, remove_multicollinearity=True\n",
    "            ,numeric_imputation='median'\n",
    "#             ,numeric_imputation='ignore'\n",
    "            #,multicollinearity_threshold=0.9\n",
    "            , resample=True\n",
    "            , resample_method='random_over'\n",
    "#             , train_size = 1.0 #100pct for training\n",
    "           )"
   ]
  },
  {
   "cell_type": "code",
   "execution_count": 1093,
   "metadata": {},
   "outputs": [],
   "source": [
    "X, y, X_train, X_test, y_train, y_test, seed, prep_pipe, _ = exp"
   ]
  },
  {
   "cell_type": "code",
   "execution_count": 1094,
   "metadata": {},
   "outputs": [
    {
     "data": {
      "text/plain": [
       "(4588, 22)"
      ]
     },
     "execution_count": 1094,
     "metadata": {},
     "output_type": "execute_result"
    }
   ],
   "source": [
    "X_train.shape"
   ]
  },
  {
   "cell_type": "code",
   "execution_count": 1095,
   "metadata": {},
   "outputs": [
    {
     "data": {
      "text/plain": [
       "(1800, 22)"
      ]
     },
     "execution_count": 1095,
     "metadata": {},
     "output_type": "execute_result"
    }
   ],
   "source": [
    "X_test.shape"
   ]
  },
  {
   "cell_type": "code",
   "execution_count": 1096,
   "metadata": {},
   "outputs": [
    {
     "data": {
      "text/plain": [
       "Index(['age', 'heart_rate', 'resp_rate', 'sys_press', 'dias_press',\n",
       "       'mean_press', 'temp', 'hemoglobin', 'platelets', 'hematocrit',\n",
       "       'red_cells_count', 'hcm', 'rdw', 'mcv', 'leukocytes', 'neutrophil',\n",
       "       'lymphocytes', 'basophils', 'eosinophils', 'monocytes', 'crp',\n",
       "       'male_1.0'],\n",
       "      dtype='object')"
      ]
     },
     "execution_count": 1096,
     "metadata": {},
     "output_type": "execute_result"
    }
   ],
   "source": [
    "X_test.columns"
   ]
  },
  {
   "cell_type": "code",
   "execution_count": 1097,
   "metadata": {},
   "outputs": [
    {
     "data": {
      "text/plain": [
       "42"
      ]
     },
     "execution_count": 1097,
     "metadata": {},
     "output_type": "execute_result"
    }
   ],
   "source": [
    "seed"
   ]
  },
  {
   "cell_type": "markdown",
   "metadata": {},
   "source": [
    "### Filtering only 5 pre-selected models"
   ]
  },
  {
   "cell_type": "code",
   "execution_count": 1098,
   "metadata": {},
   "outputs": [],
   "source": [
    "# print(inspect.getsource(compare_models))"
   ]
  },
  {
   "cell_type": "code",
   "execution_count": 1099,
   "metadata": {},
   "outputs": [
    {
     "data": {
      "text/html": [
       "<style type=\"text/css\">\n",
       "#T_96e88 th {\n",
       "  text-align: left;\n",
       "}\n",
       "#T_96e88_row0_col0, #T_96e88_row0_col4, #T_96e88_row0_col5, #T_96e88_row0_col8, #T_96e88_row0_col9, #T_96e88_row0_col10, #T_96e88_row1_col0, #T_96e88_row1_col2, #T_96e88_row1_col3, #T_96e88_row1_col6, #T_96e88_row2_col0, #T_96e88_row2_col1, #T_96e88_row2_col2, #T_96e88_row2_col3, #T_96e88_row2_col4, #T_96e88_row2_col5, #T_96e88_row2_col6, #T_96e88_row2_col7, #T_96e88_row2_col8, #T_96e88_row2_col9, #T_96e88_row2_col10 {\n",
       "  text-align: left;\n",
       "}\n",
       "#T_96e88_row0_col1, #T_96e88_row0_col2, #T_96e88_row0_col3, #T_96e88_row0_col6, #T_96e88_row0_col7, #T_96e88_row1_col1, #T_96e88_row1_col4, #T_96e88_row1_col5, #T_96e88_row1_col7, #T_96e88_row1_col8, #T_96e88_row1_col9, #T_96e88_row1_col10 {\n",
       "  background-color: yellow;\n",
       "  text-align: left;\n",
       "}\n",
       "</style>\n",
       "<table id=\"T_96e88\">\n",
       "  <thead>\n",
       "    <tr>\n",
       "      <th class=\"blank level0\" >&nbsp;</th>\n",
       "      <th id=\"T_96e88_level0_col0\" class=\"col_heading level0 col0\" >Model</th>\n",
       "      <th id=\"T_96e88_level0_col1\" class=\"col_heading level0 col1\" >Accuracy</th>\n",
       "      <th id=\"T_96e88_level0_col2\" class=\"col_heading level0 col2\" >AUC</th>\n",
       "      <th id=\"T_96e88_level0_col3\" class=\"col_heading level0 col3\" >Recall</th>\n",
       "      <th id=\"T_96e88_level0_col4\" class=\"col_heading level0 col4\" >Specificity</th>\n",
       "      <th id=\"T_96e88_level0_col5\" class=\"col_heading level0 col5\" >Prec.</th>\n",
       "      <th id=\"T_96e88_level0_col6\" class=\"col_heading level0 col6\" >F1</th>\n",
       "      <th id=\"T_96e88_level0_col7\" class=\"col_heading level0 col7\" >Kappa</th>\n",
       "      <th id=\"T_96e88_level0_col8\" class=\"col_heading level0 col8\" >Hosmer_lemeshow</th>\n",
       "      <th id=\"T_96e88_level0_col9\" class=\"col_heading level0 col9\" >Spiegelhalter</th>\n",
       "      <th id=\"T_96e88_level0_col10\" class=\"col_heading level0 col10\" >Scaled_brier</th>\n",
       "    </tr>\n",
       "  </thead>\n",
       "  <tbody>\n",
       "    <tr>\n",
       "      <th id=\"T_96e88_level0_row0\" class=\"row_heading level0 row0\" >0</th>\n",
       "      <td id=\"T_96e88_row0_col0\" class=\"data row0 col0\" >Extreme Gradient Boosting</td>\n",
       "      <td id=\"T_96e88_row0_col1\" class=\"data row0 col1\" >0.834100</td>\n",
       "      <td id=\"T_96e88_row0_col2\" class=\"data row0 col2\" >0.915700</td>\n",
       "      <td id=\"T_96e88_row0_col3\" class=\"data row0 col3\" >0.848700</td>\n",
       "      <td id=\"T_96e88_row0_col4\" class=\"data row0 col4\" >0.819500</td>\n",
       "      <td id=\"T_96e88_row0_col5\" class=\"data row0 col5\" >0.824900</td>\n",
       "      <td id=\"T_96e88_row0_col6\" class=\"data row0 col6\" >0.836500</td>\n",
       "      <td id=\"T_96e88_row0_col7\" class=\"data row0 col7\" >0.668300</td>\n",
       "      <td id=\"T_96e88_row0_col8\" class=\"data row0 col8\" >0.000000</td>\n",
       "      <td id=\"T_96e88_row0_col9\" class=\"data row0 col9\" >0.000000</td>\n",
       "      <td id=\"T_96e88_row0_col10\" class=\"data row0 col10\" >0.513000</td>\n",
       "    </tr>\n",
       "    <tr>\n",
       "      <th id=\"T_96e88_level0_row1\" class=\"row_heading level0 row1\" >1</th>\n",
       "      <td id=\"T_96e88_row1_col0\" class=\"data row1 col0\" >CatBoost Classifier</td>\n",
       "      <td id=\"T_96e88_row1_col1\" class=\"data row1 col1\" >0.834100</td>\n",
       "      <td id=\"T_96e88_row1_col2\" class=\"data row1 col2\" >0.914900</td>\n",
       "      <td id=\"T_96e88_row1_col3\" class=\"data row1 col3\" >0.839200</td>\n",
       "      <td id=\"T_96e88_row1_col4\" class=\"data row1 col4\" >0.829100</td>\n",
       "      <td id=\"T_96e88_row1_col5\" class=\"data row1 col5\" >0.831000</td>\n",
       "      <td id=\"T_96e88_row1_col6\" class=\"data row1 col6\" >0.834900</td>\n",
       "      <td id=\"T_96e88_row1_col7\" class=\"data row1 col7\" >0.668300</td>\n",
       "      <td id=\"T_96e88_row1_col8\" class=\"data row1 col8\" >0.385300</td>\n",
       "      <td id=\"T_96e88_row1_col9\" class=\"data row1 col9\" >0.541600</td>\n",
       "      <td id=\"T_96e88_row1_col10\" class=\"data row1 col10\" >0.527600</td>\n",
       "    </tr>\n",
       "    <tr>\n",
       "      <th id=\"T_96e88_level0_row2\" class=\"row_heading level0 row2\" >2</th>\n",
       "      <td id=\"T_96e88_row2_col0\" class=\"data row2 col0\" >Light Gradient Boosting Machine</td>\n",
       "      <td id=\"T_96e88_row2_col1\" class=\"data row2 col1\" >0.830900</td>\n",
       "      <td id=\"T_96e88_row2_col2\" class=\"data row2 col2\" >0.914600</td>\n",
       "      <td id=\"T_96e88_row2_col3\" class=\"data row2 col3\" >0.846100</td>\n",
       "      <td id=\"T_96e88_row2_col4\" class=\"data row2 col4\" >0.815600</td>\n",
       "      <td id=\"T_96e88_row2_col5\" class=\"data row2 col5\" >0.821200</td>\n",
       "      <td id=\"T_96e88_row2_col6\" class=\"data row2 col6\" >0.833300</td>\n",
       "      <td id=\"T_96e88_row2_col7\" class=\"data row2 col7\" >0.661700</td>\n",
       "      <td id=\"T_96e88_row2_col8\" class=\"data row2 col8\" >0.152500</td>\n",
       "      <td id=\"T_96e88_row2_col9\" class=\"data row2 col9\" >0.183500</td>\n",
       "      <td id=\"T_96e88_row2_col10\" class=\"data row2 col10\" >0.522500</td>\n",
       "    </tr>\n",
       "  </tbody>\n",
       "</table>\n"
      ],
      "text/plain": [
       "<pandas.io.formats.style.Styler at 0x1a9f5e9a380>"
      ]
     },
     "execution_count": 1099,
     "metadata": {},
     "output_type": "execute_result"
    }
   ],
   "source": [
    "#Modelos que suportam missing (1) - Modelos pre-selecionados(2)\n",
    "compare_models(blacklist = [\"lr\",\"knn\",\"nb\",\"dt\",\"svm\",\"rbfsvm\",\"gpc\",\"ridge\",\"qda\",\"ada\",\"gbc\",\"lda\",\"et\",\"mlp\",\"rf\"] , turbo = False)"
   ]
  },
  {
   "cell_type": "markdown",
   "metadata": {},
   "source": [
    "### Tune selected models by AUC (and hyperopt bayesian optimization) to use on test data"
   ]
  },
  {
   "cell_type": "code",
   "execution_count": 1100,
   "metadata": {
    "scrolled": true
   },
   "outputs": [
    {
     "data": {
      "text/html": [
       "<div>\n",
       "<style scoped>\n",
       "    .dataframe tbody tr th:only-of-type {\n",
       "        vertical-align: middle;\n",
       "    }\n",
       "\n",
       "    .dataframe tbody tr th {\n",
       "        vertical-align: top;\n",
       "    }\n",
       "\n",
       "    .dataframe thead th {\n",
       "        text-align: right;\n",
       "    }\n",
       "</style>\n",
       "<table border=\"1\" class=\"dataframe\">\n",
       "  <thead>\n",
       "    <tr style=\"text-align: right;\">\n",
       "      <th></th>\n",
       "      <th>Accuracy</th>\n",
       "      <th>AUC</th>\n",
       "      <th>Recall</th>\n",
       "      <th>Specificity</th>\n",
       "      <th>Prec.</th>\n",
       "      <th>F1</th>\n",
       "      <th>Kappa</th>\n",
       "      <th>Hosmer_lemeshow</th>\n",
       "      <th>Spiegelhalter</th>\n",
       "      <th>Scaled_brier</th>\n",
       "    </tr>\n",
       "  </thead>\n",
       "  <tbody>\n",
       "    <tr>\n",
       "      <th>0</th>\n",
       "      <td>0.819</td>\n",
       "      <td>0.907</td>\n",
       "      <td>0.821</td>\n",
       "      <td>0.817</td>\n",
       "      <td>0.817</td>\n",
       "      <td>0.819</td>\n",
       "      <td>0.638</td>\n",
       "      <td>0.001</td>\n",
       "      <td>0.000</td>\n",
       "      <td>0.488</td>\n",
       "    </tr>\n",
       "    <tr>\n",
       "      <th>1</th>\n",
       "      <td>0.850</td>\n",
       "      <td>0.936</td>\n",
       "      <td>0.878</td>\n",
       "      <td>0.822</td>\n",
       "      <td>0.831</td>\n",
       "      <td>0.854</td>\n",
       "      <td>0.699</td>\n",
       "      <td>0.616</td>\n",
       "      <td>0.361</td>\n",
       "      <td>0.590</td>\n",
       "    </tr>\n",
       "    <tr>\n",
       "      <th>2</th>\n",
       "      <td>0.837</td>\n",
       "      <td>0.918</td>\n",
       "      <td>0.852</td>\n",
       "      <td>0.822</td>\n",
       "      <td>0.826</td>\n",
       "      <td>0.839</td>\n",
       "      <td>0.673</td>\n",
       "      <td>0.017</td>\n",
       "      <td>0.014</td>\n",
       "      <td>0.535</td>\n",
       "    </tr>\n",
       "    <tr>\n",
       "      <th>3</th>\n",
       "      <td>0.824</td>\n",
       "      <td>0.908</td>\n",
       "      <td>0.860</td>\n",
       "      <td>0.787</td>\n",
       "      <td>0.801</td>\n",
       "      <td>0.830</td>\n",
       "      <td>0.647</td>\n",
       "      <td>0.000</td>\n",
       "      <td>0.000</td>\n",
       "      <td>0.487</td>\n",
       "    </tr>\n",
       "    <tr>\n",
       "      <th>4</th>\n",
       "      <td>0.850</td>\n",
       "      <td>0.930</td>\n",
       "      <td>0.861</td>\n",
       "      <td>0.838</td>\n",
       "      <td>0.843</td>\n",
       "      <td>0.852</td>\n",
       "      <td>0.699</td>\n",
       "      <td>0.181</td>\n",
       "      <td>0.042</td>\n",
       "      <td>0.569</td>\n",
       "    </tr>\n",
       "    <tr>\n",
       "      <th>5</th>\n",
       "      <td>0.828</td>\n",
       "      <td>0.924</td>\n",
       "      <td>0.826</td>\n",
       "      <td>0.830</td>\n",
       "      <td>0.830</td>\n",
       "      <td>0.828</td>\n",
       "      <td>0.656</td>\n",
       "      <td>0.009</td>\n",
       "      <td>0.016</td>\n",
       "      <td>0.539</td>\n",
       "    </tr>\n",
       "    <tr>\n",
       "      <th>6</th>\n",
       "      <td>0.837</td>\n",
       "      <td>0.918</td>\n",
       "      <td>0.865</td>\n",
       "      <td>0.808</td>\n",
       "      <td>0.819</td>\n",
       "      <td>0.841</td>\n",
       "      <td>0.673</td>\n",
       "      <td>0.002</td>\n",
       "      <td>0.014</td>\n",
       "      <td>0.541</td>\n",
       "    </tr>\n",
       "    <tr>\n",
       "      <th>7</th>\n",
       "      <td>0.828</td>\n",
       "      <td>0.913</td>\n",
       "      <td>0.826</td>\n",
       "      <td>0.830</td>\n",
       "      <td>0.830</td>\n",
       "      <td>0.828</td>\n",
       "      <td>0.656</td>\n",
       "      <td>0.123</td>\n",
       "      <td>0.002</td>\n",
       "      <td>0.511</td>\n",
       "    </tr>\n",
       "    <tr>\n",
       "      <th>8</th>\n",
       "      <td>0.814</td>\n",
       "      <td>0.905</td>\n",
       "      <td>0.830</td>\n",
       "      <td>0.799</td>\n",
       "      <td>0.805</td>\n",
       "      <td>0.817</td>\n",
       "      <td>0.629</td>\n",
       "      <td>0.000</td>\n",
       "      <td>0.000</td>\n",
       "      <td>0.480</td>\n",
       "    </tr>\n",
       "    <tr>\n",
       "      <th>9</th>\n",
       "      <td>0.845</td>\n",
       "      <td>0.920</td>\n",
       "      <td>0.865</td>\n",
       "      <td>0.825</td>\n",
       "      <td>0.832</td>\n",
       "      <td>0.848</td>\n",
       "      <td>0.690</td>\n",
       "      <td>0.305</td>\n",
       "      <td>0.046</td>\n",
       "      <td>0.549</td>\n",
       "    </tr>\n",
       "    <tr>\n",
       "      <th>Mean</th>\n",
       "      <td>0.833</td>\n",
       "      <td>0.918</td>\n",
       "      <td>0.848</td>\n",
       "      <td>0.818</td>\n",
       "      <td>0.823</td>\n",
       "      <td>0.836</td>\n",
       "      <td>0.666</td>\n",
       "      <td>0.125</td>\n",
       "      <td>0.050</td>\n",
       "      <td>0.529</td>\n",
       "    </tr>\n",
       "    <tr>\n",
       "      <th>SD</th>\n",
       "      <td>0.012</td>\n",
       "      <td>0.010</td>\n",
       "      <td>0.019</td>\n",
       "      <td>0.015</td>\n",
       "      <td>0.012</td>\n",
       "      <td>0.012</td>\n",
       "      <td>0.024</td>\n",
       "      <td>0.125</td>\n",
       "      <td>0.050</td>\n",
       "      <td>0.529</td>\n",
       "    </tr>\n",
       "  </tbody>\n",
       "</table>\n",
       "</div>"
      ],
      "text/plain": [
       "      Accuracy   AUC  Recall  Specificity  Prec.    F1  Kappa  \\\n",
       "0        0.819 0.907   0.821        0.817  0.817 0.819  0.638   \n",
       "1        0.850 0.936   0.878        0.822  0.831 0.854  0.699   \n",
       "2        0.837 0.918   0.852        0.822  0.826 0.839  0.673   \n",
       "3        0.824 0.908   0.860        0.787  0.801 0.830  0.647   \n",
       "4        0.850 0.930   0.861        0.838  0.843 0.852  0.699   \n",
       "5        0.828 0.924   0.826        0.830  0.830 0.828  0.656   \n",
       "6        0.837 0.918   0.865        0.808  0.819 0.841  0.673   \n",
       "7        0.828 0.913   0.826        0.830  0.830 0.828  0.656   \n",
       "8        0.814 0.905   0.830        0.799  0.805 0.817  0.629   \n",
       "9        0.845 0.920   0.865        0.825  0.832 0.848  0.690   \n",
       "Mean     0.833 0.918   0.848        0.818  0.823 0.836  0.666   \n",
       "SD       0.012 0.010   0.019        0.015  0.012 0.012  0.024   \n",
       "\n",
       "      Hosmer_lemeshow  Spiegelhalter  Scaled_brier  \n",
       "0               0.001          0.000         0.488  \n",
       "1               0.616          0.361         0.590  \n",
       "2               0.017          0.014         0.535  \n",
       "3               0.000          0.000         0.487  \n",
       "4               0.181          0.042         0.569  \n",
       "5               0.009          0.016         0.539  \n",
       "6               0.002          0.014         0.541  \n",
       "7               0.123          0.002         0.511  \n",
       "8               0.000          0.000         0.480  \n",
       "9               0.305          0.046         0.549  \n",
       "Mean            0.125          0.050         0.529  \n",
       "SD              0.125          0.050         0.529  "
      ]
     },
     "metadata": {},
     "output_type": "display_data"
    }
   ],
   "source": [
    "cattuned = tune_model('catboost', optimize='AUC', n_iter=20)"
   ]
  },
  {
   "cell_type": "code",
   "execution_count": 1101,
   "metadata": {
    "scrolled": true
   },
   "outputs": [
    {
     "data": {
      "text/html": [
       "<div>\n",
       "<style scoped>\n",
       "    .dataframe tbody tr th:only-of-type {\n",
       "        vertical-align: middle;\n",
       "    }\n",
       "\n",
       "    .dataframe tbody tr th {\n",
       "        vertical-align: top;\n",
       "    }\n",
       "\n",
       "    .dataframe thead th {\n",
       "        text-align: right;\n",
       "    }\n",
       "</style>\n",
       "<table border=\"1\" class=\"dataframe\">\n",
       "  <thead>\n",
       "    <tr style=\"text-align: right;\">\n",
       "      <th></th>\n",
       "      <th>Accuracy</th>\n",
       "      <th>AUC</th>\n",
       "      <th>Recall</th>\n",
       "      <th>Specificity</th>\n",
       "      <th>Prec.</th>\n",
       "      <th>F1</th>\n",
       "      <th>Kappa</th>\n",
       "      <th>Hosmer_lemeshow</th>\n",
       "      <th>Spiegelhalter</th>\n",
       "      <th>Scaled_brier</th>\n",
       "    </tr>\n",
       "  </thead>\n",
       "  <tbody>\n",
       "    <tr>\n",
       "      <th>0</th>\n",
       "      <td>0.830</td>\n",
       "      <td>0.920</td>\n",
       "      <td>0.891</td>\n",
       "      <td>0.770</td>\n",
       "      <td>0.794</td>\n",
       "      <td>0.840</td>\n",
       "      <td>0.660</td>\n",
       "      <td>0.000</td>\n",
       "      <td>0.000</td>\n",
       "      <td>0.443</td>\n",
       "    </tr>\n",
       "    <tr>\n",
       "      <th>1</th>\n",
       "      <td>0.830</td>\n",
       "      <td>0.938</td>\n",
       "      <td>0.921</td>\n",
       "      <td>0.739</td>\n",
       "      <td>0.779</td>\n",
       "      <td>0.844</td>\n",
       "      <td>0.660</td>\n",
       "      <td>0.000</td>\n",
       "      <td>0.000</td>\n",
       "      <td>0.487</td>\n",
       "    </tr>\n",
       "    <tr>\n",
       "      <th>2</th>\n",
       "      <td>0.817</td>\n",
       "      <td>0.916</td>\n",
       "      <td>0.882</td>\n",
       "      <td>0.752</td>\n",
       "      <td>0.780</td>\n",
       "      <td>0.828</td>\n",
       "      <td>0.634</td>\n",
       "      <td>0.000</td>\n",
       "      <td>0.000</td>\n",
       "      <td>0.453</td>\n",
       "    </tr>\n",
       "    <tr>\n",
       "      <th>3</th>\n",
       "      <td>0.813</td>\n",
       "      <td>0.912</td>\n",
       "      <td>0.891</td>\n",
       "      <td>0.735</td>\n",
       "      <td>0.770</td>\n",
       "      <td>0.826</td>\n",
       "      <td>0.625</td>\n",
       "      <td>0.000</td>\n",
       "      <td>0.000</td>\n",
       "      <td>0.393</td>\n",
       "    </tr>\n",
       "    <tr>\n",
       "      <th>4</th>\n",
       "      <td>0.824</td>\n",
       "      <td>0.926</td>\n",
       "      <td>0.904</td>\n",
       "      <td>0.742</td>\n",
       "      <td>0.779</td>\n",
       "      <td>0.837</td>\n",
       "      <td>0.647</td>\n",
       "      <td>0.000</td>\n",
       "      <td>0.000</td>\n",
       "      <td>0.469</td>\n",
       "    </tr>\n",
       "    <tr>\n",
       "      <th>5</th>\n",
       "      <td>0.834</td>\n",
       "      <td>0.929</td>\n",
       "      <td>0.878</td>\n",
       "      <td>0.790</td>\n",
       "      <td>0.808</td>\n",
       "      <td>0.842</td>\n",
       "      <td>0.669</td>\n",
       "      <td>0.000</td>\n",
       "      <td>0.000</td>\n",
       "      <td>0.493</td>\n",
       "    </tr>\n",
       "    <tr>\n",
       "      <th>6</th>\n",
       "      <td>0.821</td>\n",
       "      <td>0.922</td>\n",
       "      <td>0.891</td>\n",
       "      <td>0.751</td>\n",
       "      <td>0.782</td>\n",
       "      <td>0.833</td>\n",
       "      <td>0.643</td>\n",
       "      <td>0.000</td>\n",
       "      <td>0.000</td>\n",
       "      <td>0.444</td>\n",
       "    </tr>\n",
       "    <tr>\n",
       "      <th>7</th>\n",
       "      <td>0.819</td>\n",
       "      <td>0.915</td>\n",
       "      <td>0.865</td>\n",
       "      <td>0.773</td>\n",
       "      <td>0.793</td>\n",
       "      <td>0.827</td>\n",
       "      <td>0.638</td>\n",
       "      <td>0.000</td>\n",
       "      <td>0.000</td>\n",
       "      <td>0.445</td>\n",
       "    </tr>\n",
       "    <tr>\n",
       "      <th>8</th>\n",
       "      <td>0.817</td>\n",
       "      <td>0.909</td>\n",
       "      <td>0.882</td>\n",
       "      <td>0.751</td>\n",
       "      <td>0.780</td>\n",
       "      <td>0.828</td>\n",
       "      <td>0.633</td>\n",
       "      <td>0.000</td>\n",
       "      <td>0.000</td>\n",
       "      <td>0.415</td>\n",
       "    </tr>\n",
       "    <tr>\n",
       "      <th>9</th>\n",
       "      <td>0.821</td>\n",
       "      <td>0.918</td>\n",
       "      <td>0.882</td>\n",
       "      <td>0.760</td>\n",
       "      <td>0.786</td>\n",
       "      <td>0.831</td>\n",
       "      <td>0.642</td>\n",
       "      <td>0.000</td>\n",
       "      <td>0.000</td>\n",
       "      <td>0.451</td>\n",
       "    </tr>\n",
       "    <tr>\n",
       "      <th>Mean</th>\n",
       "      <td>0.823</td>\n",
       "      <td>0.921</td>\n",
       "      <td>0.889</td>\n",
       "      <td>0.756</td>\n",
       "      <td>0.785</td>\n",
       "      <td>0.834</td>\n",
       "      <td>0.645</td>\n",
       "      <td>0.000</td>\n",
       "      <td>0.000</td>\n",
       "      <td>0.449</td>\n",
       "    </tr>\n",
       "    <tr>\n",
       "      <th>SD</th>\n",
       "      <td>0.007</td>\n",
       "      <td>0.008</td>\n",
       "      <td>0.015</td>\n",
       "      <td>0.016</td>\n",
       "      <td>0.010</td>\n",
       "      <td>0.006</td>\n",
       "      <td>0.013</td>\n",
       "      <td>0.000</td>\n",
       "      <td>0.000</td>\n",
       "      <td>0.449</td>\n",
       "    </tr>\n",
       "  </tbody>\n",
       "</table>\n",
       "</div>"
      ],
      "text/plain": [
       "      Accuracy   AUC  Recall  Specificity  Prec.    F1  Kappa  \\\n",
       "0        0.830 0.920   0.891        0.770  0.794 0.840  0.660   \n",
       "1        0.830 0.938   0.921        0.739  0.779 0.844  0.660   \n",
       "2        0.817 0.916   0.882        0.752  0.780 0.828  0.634   \n",
       "3        0.813 0.912   0.891        0.735  0.770 0.826  0.625   \n",
       "4        0.824 0.926   0.904        0.742  0.779 0.837  0.647   \n",
       "5        0.834 0.929   0.878        0.790  0.808 0.842  0.669   \n",
       "6        0.821 0.922   0.891        0.751  0.782 0.833  0.643   \n",
       "7        0.819 0.915   0.865        0.773  0.793 0.827  0.638   \n",
       "8        0.817 0.909   0.882        0.751  0.780 0.828  0.633   \n",
       "9        0.821 0.918   0.882        0.760  0.786 0.831  0.642   \n",
       "Mean     0.823 0.921   0.889        0.756  0.785 0.834  0.645   \n",
       "SD       0.007 0.008   0.015        0.016  0.010 0.006  0.013   \n",
       "\n",
       "      Hosmer_lemeshow  Spiegelhalter  Scaled_brier  \n",
       "0               0.000          0.000         0.443  \n",
       "1               0.000          0.000         0.487  \n",
       "2               0.000          0.000         0.453  \n",
       "3               0.000          0.000         0.393  \n",
       "4               0.000          0.000         0.469  \n",
       "5               0.000          0.000         0.493  \n",
       "6               0.000          0.000         0.444  \n",
       "7               0.000          0.000         0.445  \n",
       "8               0.000          0.000         0.415  \n",
       "9               0.000          0.000         0.451  \n",
       "Mean            0.000          0.000         0.449  \n",
       "SD              0.000          0.000         0.449  "
      ]
     },
     "metadata": {},
     "output_type": "display_data"
    }
   ],
   "source": [
    "lgbmtuned = tune_model('lightgbm', optimize='AUC', n_iter=20)"
   ]
  },
  {
   "cell_type": "code",
   "execution_count": 1102,
   "metadata": {},
   "outputs": [
    {
     "data": {
      "text/html": [
       "<div>\n",
       "<style scoped>\n",
       "    .dataframe tbody tr th:only-of-type {\n",
       "        vertical-align: middle;\n",
       "    }\n",
       "\n",
       "    .dataframe tbody tr th {\n",
       "        vertical-align: top;\n",
       "    }\n",
       "\n",
       "    .dataframe thead th {\n",
       "        text-align: right;\n",
       "    }\n",
       "</style>\n",
       "<table border=\"1\" class=\"dataframe\">\n",
       "  <thead>\n",
       "    <tr style=\"text-align: right;\">\n",
       "      <th></th>\n",
       "      <th>Accuracy</th>\n",
       "      <th>AUC</th>\n",
       "      <th>Recall</th>\n",
       "      <th>Specificity</th>\n",
       "      <th>Prec.</th>\n",
       "      <th>F1</th>\n",
       "      <th>Kappa</th>\n",
       "      <th>Hosmer_lemeshow</th>\n",
       "      <th>Spiegelhalter</th>\n",
       "      <th>Scaled_brier</th>\n",
       "    </tr>\n",
       "  </thead>\n",
       "  <tbody>\n",
       "    <tr>\n",
       "      <th>0</th>\n",
       "      <td>0.819</td>\n",
       "      <td>0.913</td>\n",
       "      <td>0.917</td>\n",
       "      <td>0.722</td>\n",
       "      <td>0.766</td>\n",
       "      <td>0.835</td>\n",
       "      <td>0.638</td>\n",
       "      <td>0.000</td>\n",
       "      <td>0.002</td>\n",
       "      <td>0.484</td>\n",
       "    </tr>\n",
       "    <tr>\n",
       "      <th>1</th>\n",
       "      <td>0.821</td>\n",
       "      <td>0.932</td>\n",
       "      <td>0.956</td>\n",
       "      <td>0.687</td>\n",
       "      <td>0.753</td>\n",
       "      <td>0.842</td>\n",
       "      <td>0.643</td>\n",
       "      <td>0.000</td>\n",
       "      <td>0.001</td>\n",
       "      <td>0.494</td>\n",
       "    </tr>\n",
       "    <tr>\n",
       "      <th>2</th>\n",
       "      <td>0.808</td>\n",
       "      <td>0.909</td>\n",
       "      <td>0.904</td>\n",
       "      <td>0.713</td>\n",
       "      <td>0.758</td>\n",
       "      <td>0.825</td>\n",
       "      <td>0.617</td>\n",
       "      <td>0.000</td>\n",
       "      <td>0.000</td>\n",
       "      <td>0.465</td>\n",
       "    </tr>\n",
       "    <tr>\n",
       "      <th>3</th>\n",
       "      <td>0.797</td>\n",
       "      <td>0.901</td>\n",
       "      <td>0.913</td>\n",
       "      <td>0.683</td>\n",
       "      <td>0.741</td>\n",
       "      <td>0.818</td>\n",
       "      <td>0.595</td>\n",
       "      <td>0.000</td>\n",
       "      <td>0.000</td>\n",
       "      <td>0.421</td>\n",
       "    </tr>\n",
       "    <tr>\n",
       "      <th>4</th>\n",
       "      <td>0.828</td>\n",
       "      <td>0.918</td>\n",
       "      <td>0.922</td>\n",
       "      <td>0.734</td>\n",
       "      <td>0.777</td>\n",
       "      <td>0.843</td>\n",
       "      <td>0.656</td>\n",
       "      <td>0.000</td>\n",
       "      <td>0.002</td>\n",
       "      <td>0.491</td>\n",
       "    </tr>\n",
       "    <tr>\n",
       "      <th>5</th>\n",
       "      <td>0.817</td>\n",
       "      <td>0.921</td>\n",
       "      <td>0.891</td>\n",
       "      <td>0.742</td>\n",
       "      <td>0.776</td>\n",
       "      <td>0.830</td>\n",
       "      <td>0.634</td>\n",
       "      <td>0.000</td>\n",
       "      <td>0.052</td>\n",
       "      <td>0.526</td>\n",
       "    </tr>\n",
       "    <tr>\n",
       "      <th>6</th>\n",
       "      <td>0.797</td>\n",
       "      <td>0.907</td>\n",
       "      <td>0.896</td>\n",
       "      <td>0.699</td>\n",
       "      <td>0.749</td>\n",
       "      <td>0.816</td>\n",
       "      <td>0.595</td>\n",
       "      <td>0.000</td>\n",
       "      <td>0.000</td>\n",
       "      <td>0.454</td>\n",
       "    </tr>\n",
       "    <tr>\n",
       "      <th>7</th>\n",
       "      <td>0.808</td>\n",
       "      <td>0.897</td>\n",
       "      <td>0.887</td>\n",
       "      <td>0.729</td>\n",
       "      <td>0.767</td>\n",
       "      <td>0.823</td>\n",
       "      <td>0.616</td>\n",
       "      <td>0.000</td>\n",
       "      <td>0.000</td>\n",
       "      <td>0.448</td>\n",
       "    </tr>\n",
       "    <tr>\n",
       "      <th>8</th>\n",
       "      <td>0.803</td>\n",
       "      <td>0.892</td>\n",
       "      <td>0.895</td>\n",
       "      <td>0.712</td>\n",
       "      <td>0.756</td>\n",
       "      <td>0.820</td>\n",
       "      <td>0.607</td>\n",
       "      <td>0.000</td>\n",
       "      <td>0.000</td>\n",
       "      <td>0.419</td>\n",
       "    </tr>\n",
       "    <tr>\n",
       "      <th>9</th>\n",
       "      <td>0.817</td>\n",
       "      <td>0.914</td>\n",
       "      <td>0.913</td>\n",
       "      <td>0.721</td>\n",
       "      <td>0.766</td>\n",
       "      <td>0.833</td>\n",
       "      <td>0.633</td>\n",
       "      <td>0.000</td>\n",
       "      <td>0.000</td>\n",
       "      <td>0.477</td>\n",
       "    </tr>\n",
       "    <tr>\n",
       "      <th>Mean</th>\n",
       "      <td>0.812</td>\n",
       "      <td>0.910</td>\n",
       "      <td>0.909</td>\n",
       "      <td>0.714</td>\n",
       "      <td>0.761</td>\n",
       "      <td>0.828</td>\n",
       "      <td>0.623</td>\n",
       "      <td>0.000</td>\n",
       "      <td>0.006</td>\n",
       "      <td>0.468</td>\n",
       "    </tr>\n",
       "    <tr>\n",
       "      <th>SD</th>\n",
       "      <td>0.010</td>\n",
       "      <td>0.011</td>\n",
       "      <td>0.019</td>\n",
       "      <td>0.019</td>\n",
       "      <td>0.011</td>\n",
       "      <td>0.009</td>\n",
       "      <td>0.020</td>\n",
       "      <td>0.000</td>\n",
       "      <td>0.006</td>\n",
       "      <td>0.468</td>\n",
       "    </tr>\n",
       "  </tbody>\n",
       "</table>\n",
       "</div>"
      ],
      "text/plain": [
       "      Accuracy   AUC  Recall  Specificity  Prec.    F1  Kappa  \\\n",
       "0        0.819 0.913   0.917        0.722  0.766 0.835  0.638   \n",
       "1        0.821 0.932   0.956        0.687  0.753 0.842  0.643   \n",
       "2        0.808 0.909   0.904        0.713  0.758 0.825  0.617   \n",
       "3        0.797 0.901   0.913        0.683  0.741 0.818  0.595   \n",
       "4        0.828 0.918   0.922        0.734  0.777 0.843  0.656   \n",
       "5        0.817 0.921   0.891        0.742  0.776 0.830  0.634   \n",
       "6        0.797 0.907   0.896        0.699  0.749 0.816  0.595   \n",
       "7        0.808 0.897   0.887        0.729  0.767 0.823  0.616   \n",
       "8        0.803 0.892   0.895        0.712  0.756 0.820  0.607   \n",
       "9        0.817 0.914   0.913        0.721  0.766 0.833  0.633   \n",
       "Mean     0.812 0.910   0.909        0.714  0.761 0.828  0.623   \n",
       "SD       0.010 0.011   0.019        0.019  0.011 0.009  0.020   \n",
       "\n",
       "      Hosmer_lemeshow  Spiegelhalter  Scaled_brier  \n",
       "0               0.000          0.002         0.484  \n",
       "1               0.000          0.001         0.494  \n",
       "2               0.000          0.000         0.465  \n",
       "3               0.000          0.000         0.421  \n",
       "4               0.000          0.002         0.491  \n",
       "5               0.000          0.052         0.526  \n",
       "6               0.000          0.000         0.454  \n",
       "7               0.000          0.000         0.448  \n",
       "8               0.000          0.000         0.419  \n",
       "9               0.000          0.000         0.477  \n",
       "Mean            0.000          0.006         0.468  \n",
       "SD              0.000          0.006         0.468  "
      ]
     },
     "metadata": {},
     "output_type": "display_data"
    }
   ],
   "source": [
    "xgbtuned = tune_model('xgboost', optimize='AUC', n_iter=20)"
   ]
  },
  {
   "cell_type": "markdown",
   "metadata": {},
   "source": [
    "### Select best algorithm based on AUC in predicts \n",
    "##### In previous code (death) this title was indicating that this selection was being done in test data, however it seems that it is based on training"
   ]
  },
  {
   "cell_type": "code",
   "execution_count": 1103,
   "metadata": {},
   "outputs": [
    {
     "data": {
      "text/html": [
       "<div>\n",
       "<style scoped>\n",
       "    .dataframe tbody tr th:only-of-type {\n",
       "        vertical-align: middle;\n",
       "    }\n",
       "\n",
       "    .dataframe tbody tr th {\n",
       "        vertical-align: top;\n",
       "    }\n",
       "\n",
       "    .dataframe thead th {\n",
       "        text-align: right;\n",
       "    }\n",
       "</style>\n",
       "<table border=\"1\" class=\"dataframe\">\n",
       "  <thead>\n",
       "    <tr style=\"text-align: right;\">\n",
       "      <th></th>\n",
       "      <th>Model</th>\n",
       "      <th>Accuracy</th>\n",
       "      <th>AUC</th>\n",
       "      <th>Recall</th>\n",
       "      <th>Specificity</th>\n",
       "      <th>Prec.</th>\n",
       "      <th>F1</th>\n",
       "      <th>Kappa</th>\n",
       "      <th>Hosmer_lemeshow</th>\n",
       "      <th>Spiegelhalter</th>\n",
       "      <th>Scaled_brier</th>\n",
       "    </tr>\n",
       "  </thead>\n",
       "  <tbody>\n",
       "    <tr>\n",
       "      <th>0</th>\n",
       "      <td>CatBoost Classifier</td>\n",
       "      <td>0.811</td>\n",
       "      <td>0.888</td>\n",
       "      <td>0.786</td>\n",
       "      <td>0.832</td>\n",
       "      <td>0.795</td>\n",
       "      <td>0.791</td>\n",
       "      <td>0.619</td>\n",
       "      <td>0.000</td>\n",
       "      <td>0.000</td>\n",
       "      <td>0.445</td>\n",
       "    </tr>\n",
       "  </tbody>\n",
       "</table>\n",
       "</div>"
      ],
      "text/plain": [
       "                 Model  Accuracy   AUC  Recall  Specificity  Prec.    F1  \\\n",
       "0  CatBoost Classifier     0.811 0.888   0.786        0.832  0.795 0.791   \n",
       "\n",
       "   Kappa  Hosmer_lemeshow  Spiegelhalter  Scaled_brier  \n",
       "0  0.619            0.000          0.000         0.445  "
      ]
     },
     "metadata": {},
     "output_type": "display_data"
    }
   ],
   "source": [
    "preds_cat = predict_model(cattuned)"
   ]
  },
  {
   "cell_type": "code",
   "execution_count": 1104,
   "metadata": {},
   "outputs": [
    {
     "data": {
      "text/html": [
       "<div>\n",
       "<style scoped>\n",
       "    .dataframe tbody tr th:only-of-type {\n",
       "        vertical-align: middle;\n",
       "    }\n",
       "\n",
       "    .dataframe tbody tr th {\n",
       "        vertical-align: top;\n",
       "    }\n",
       "\n",
       "    .dataframe thead th {\n",
       "        text-align: right;\n",
       "    }\n",
       "</style>\n",
       "<table border=\"1\" class=\"dataframe\">\n",
       "  <thead>\n",
       "    <tr style=\"text-align: right;\">\n",
       "      <th></th>\n",
       "      <th>Model</th>\n",
       "      <th>Accuracy</th>\n",
       "      <th>AUC</th>\n",
       "      <th>Recall</th>\n",
       "      <th>Specificity</th>\n",
       "      <th>Prec.</th>\n",
       "      <th>F1</th>\n",
       "      <th>Kappa</th>\n",
       "      <th>Hosmer_lemeshow</th>\n",
       "      <th>Spiegelhalter</th>\n",
       "      <th>Scaled_brier</th>\n",
       "    </tr>\n",
       "  </thead>\n",
       "  <tbody>\n",
       "    <tr>\n",
       "      <th>0</th>\n",
       "      <td>Light Gradient Boosting Machine</td>\n",
       "      <td>0.799</td>\n",
       "      <td>0.891</td>\n",
       "      <td>0.842</td>\n",
       "      <td>0.763</td>\n",
       "      <td>0.747</td>\n",
       "      <td>0.792</td>\n",
       "      <td>0.599</td>\n",
       "      <td>0.000</td>\n",
       "      <td>0.000</td>\n",
       "      <td>0.362</td>\n",
       "    </tr>\n",
       "  </tbody>\n",
       "</table>\n",
       "</div>"
      ],
      "text/plain": [
       "                             Model  Accuracy   AUC  Recall  Specificity  \\\n",
       "0  Light Gradient Boosting Machine     0.799 0.891   0.842        0.763   \n",
       "\n",
       "   Prec.    F1  Kappa  Hosmer_lemeshow  Spiegelhalter  Scaled_brier  \n",
       "0  0.747 0.792  0.599            0.000          0.000         0.362  "
      ]
     },
     "metadata": {},
     "output_type": "display_data"
    }
   ],
   "source": [
    "preds_lgb = predict_model(lgbmtuned)"
   ]
  },
  {
   "cell_type": "code",
   "execution_count": 1105,
   "metadata": {},
   "outputs": [
    {
     "data": {
      "text/html": [
       "<div>\n",
       "<style scoped>\n",
       "    .dataframe tbody tr th:only-of-type {\n",
       "        vertical-align: middle;\n",
       "    }\n",
       "\n",
       "    .dataframe tbody tr th {\n",
       "        vertical-align: top;\n",
       "    }\n",
       "\n",
       "    .dataframe thead th {\n",
       "        text-align: right;\n",
       "    }\n",
       "</style>\n",
       "<table border=\"1\" class=\"dataframe\">\n",
       "  <thead>\n",
       "    <tr style=\"text-align: right;\">\n",
       "      <th></th>\n",
       "      <th>Model</th>\n",
       "      <th>Accuracy</th>\n",
       "      <th>AUC</th>\n",
       "      <th>Recall</th>\n",
       "      <th>Specificity</th>\n",
       "      <th>Prec.</th>\n",
       "      <th>F1</th>\n",
       "      <th>Kappa</th>\n",
       "      <th>Hosmer_lemeshow</th>\n",
       "      <th>Spiegelhalter</th>\n",
       "      <th>Scaled_brier</th>\n",
       "    </tr>\n",
       "  </thead>\n",
       "  <tbody>\n",
       "    <tr>\n",
       "      <th>0</th>\n",
       "      <td>Extreme Gradient Boosting</td>\n",
       "      <td>0.787</td>\n",
       "      <td>0.892</td>\n",
       "      <td>0.863</td>\n",
       "      <td>0.724</td>\n",
       "      <td>0.722</td>\n",
       "      <td>0.786</td>\n",
       "      <td>0.578</td>\n",
       "      <td>0.000</td>\n",
       "      <td>0.000</td>\n",
       "      <td>0.404</td>\n",
       "    </tr>\n",
       "  </tbody>\n",
       "</table>\n",
       "</div>"
      ],
      "text/plain": [
       "                       Model  Accuracy   AUC  Recall  Specificity  Prec.  \\\n",
       "0  Extreme Gradient Boosting     0.787 0.892   0.863        0.724  0.722   \n",
       "\n",
       "     F1  Kappa  Hosmer_lemeshow  Spiegelhalter  Scaled_brier  \n",
       "0 0.786  0.578            0.000          0.000         0.404  "
      ]
     },
     "metadata": {},
     "output_type": "display_data"
    }
   ],
   "source": [
    "preds_xgb = predict_model(xgbtuned)"
   ]
  },
  {
   "cell_type": "markdown",
   "metadata": {},
   "source": [
    "### Best model"
   ]
  },
  {
   "cell_type": "code",
   "execution_count": 1106,
   "metadata": {},
   "outputs": [],
   "source": [
    "# Put in PREDS the best algorithm chosen in the previous lines: preds_cat OR preds_lgb OR preds_xgb\n",
    "#preds = preds_cat\n",
    "#preds = preds_lgb\n",
    "preds = preds_xgb"
   ]
  },
  {
   "cell_type": "code",
   "execution_count": 1107,
   "metadata": {},
   "outputs": [
    {
     "data": {
      "text/plain": [
       "0.8640776699029126"
      ]
     },
     "execution_count": 1107,
     "metadata": {},
     "output_type": "execute_result"
    }
   ],
   "source": [
    "npv(y_test, preds['Label'])"
   ]
  },
  {
   "cell_type": "code",
   "execution_count": 1108,
   "metadata": {},
   "outputs": [
    {
     "data": {
      "text/plain": [
       "['0.88', '0.91']"
      ]
     },
     "execution_count": 1108,
     "metadata": {},
     "output_type": "execute_result"
    }
   ],
   "source": [
    "#ROC AUC (INTERVALO)\n",
    "[\"{0:0.2f}\".format(i) for i in AUC_CI(y_test, preds['Score'].values)]"
   ]
  },
  {
   "cell_type": "code",
   "execution_count": 1109,
   "metadata": {},
   "outputs": [
    {
     "data": {
      "text/html": [
       "<div>\n",
       "<style scoped>\n",
       "    .dataframe tbody tr th:only-of-type {\n",
       "        vertical-align: middle;\n",
       "    }\n",
       "\n",
       "    .dataframe tbody tr th {\n",
       "        vertical-align: top;\n",
       "    }\n",
       "\n",
       "    .dataframe thead th {\n",
       "        text-align: right;\n",
       "    }\n",
       "</style>\n",
       "<table border=\"1\" class=\"dataframe\">\n",
       "  <thead>\n",
       "    <tr style=\"text-align: right;\">\n",
       "      <th></th>\n",
       "      <th></th>\n",
       "      <th></th>\n",
       "    </tr>\n",
       "    <tr>\n",
       "      <th></th>\n",
       "      <th></th>\n",
       "      <th></th>\n",
       "    </tr>\n",
       "  </thead>\n",
       "  <tbody>\n",
       "    <tr>\n",
       "      <th>Ground Truth Prevalence</th>\n",
       "      <td>. . .</td>\n",
       "      <td>0.454</td>\n",
       "    </tr>\n",
       "    <tr>\n",
       "      <th>Test set Prevalence</th>\n",
       "      <td>. . .</td>\n",
       "      <td>0.542</td>\n",
       "    </tr>\n",
       "    <tr>\n",
       "      <th>True positive rate (recall)</th>\n",
       "      <td>. . .</td>\n",
       "      <td>0.863</td>\n",
       "    </tr>\n",
       "    <tr>\n",
       "      <th>False positive rate</th>\n",
       "      <td>. . .</td>\n",
       "      <td>0.276</td>\n",
       "    </tr>\n",
       "    <tr>\n",
       "      <th>Positive predictive value (precision)</th>\n",
       "      <td>. . .</td>\n",
       "      <td>0.722</td>\n",
       "    </tr>\n",
       "    <tr>\n",
       "      <th>True negative rate (specificity)</th>\n",
       "      <td>. . .</td>\n",
       "      <td>0.724</td>\n",
       "    </tr>\n",
       "    <tr>\n",
       "      <th>False negative rate</th>\n",
       "      <td>. . .</td>\n",
       "      <td>0.137</td>\n",
       "    </tr>\n",
       "    <tr>\n",
       "      <th>Negative predictive value</th>\n",
       "      <td>. . .</td>\n",
       "      <td>0.864</td>\n",
       "    </tr>\n",
       "    <tr>\n",
       "      <th>Positive likelihood ratio (bigger is better)</th>\n",
       "      <td>. . .</td>\n",
       "      <td>3.130</td>\n",
       "    </tr>\n",
       "    <tr>\n",
       "      <th>Negative likelihood ratio (smaller is better)</th>\n",
       "      <td>. . .</td>\n",
       "      <td>0.189</td>\n",
       "    </tr>\n",
       "    <tr>\n",
       "      <th>Diagnostic odds ratio</th>\n",
       "      <td>. . .</td>\n",
       "      <td>16.538</td>\n",
       "    </tr>\n",
       "    <tr>\n",
       "      <th>Accuracy</th>\n",
       "      <td>. . .</td>\n",
       "      <td>0.787</td>\n",
       "    </tr>\n",
       "    <tr>\n",
       "      <th>F1 score</th>\n",
       "      <td>. . .</td>\n",
       "      <td>0.786</td>\n",
       "    </tr>\n",
       "    <tr>\n",
       "      <th>Accuracy</th>\n",
       "      <td>. . .</td>\n",
       "      <td>0.787</td>\n",
       "    </tr>\n",
       "    <tr>\n",
       "      <th>ROC AUC</th>\n",
       "      <td>. . .</td>\n",
       "      <td>0.892</td>\n",
       "    </tr>\n",
       "    <tr>\n",
       "      <th>ROC AUC (95% CI)</th>\n",
       "      <td>. . .</td>\n",
       "      <td>[0.88, 0.91]</td>\n",
       "    </tr>\n",
       "    <tr>\n",
       "      <th>Scaled Brier Score</th>\n",
       "      <td>. . .</td>\n",
       "      <td>0.404</td>\n",
       "    </tr>\n",
       "    <tr>\n",
       "      <th>Hosmer_Lemeshow p-value</th>\n",
       "      <td>. . .</td>\n",
       "      <td>0.000</td>\n",
       "    </tr>\n",
       "    <tr>\n",
       "      <th>Spiegelhalter p-value</th>\n",
       "      <td>. . .</td>\n",
       "      <td>0.000</td>\n",
       "    </tr>\n",
       "  </tbody>\n",
       "</table>\n",
       "</div>"
      ],
      "text/plain": [
       "                                                                   \n",
       "                                                                   \n",
       "Ground Truth Prevalence                        . . .          0.454\n",
       "Test set Prevalence                            . . .          0.542\n",
       "True positive rate (recall)                    . . .          0.863\n",
       "False positive rate                            . . .          0.276\n",
       "Positive predictive value (precision)          . . .          0.722\n",
       "True negative rate (specificity)               . . .          0.724\n",
       "False negative rate                            . . .          0.137\n",
       "Negative predictive value                      . . .          0.864\n",
       "Positive likelihood ratio (bigger is better)   . . .          3.130\n",
       "Negative likelihood ratio (smaller is better)  . . .          0.189\n",
       "Diagnostic odds ratio                          . . .         16.538\n",
       "Accuracy                                       . . .          0.787\n",
       "F1 score                                       . . .          0.786\n",
       "Accuracy                                       . . .          0.787\n",
       "ROC AUC                                        . . .          0.892\n",
       "ROC AUC (95% CI)                               . . .   [0.88, 0.91]\n",
       "Scaled Brier Score                             . . .          0.404\n",
       "Hosmer_Lemeshow p-value                        . . .          0.000\n",
       "Spiegelhalter p-value                          . . .          0.000"
      ]
     },
     "metadata": {},
     "output_type": "display_data"
    },
    {
     "data": {
      "image/png": "[encoded data removed]",
      "text/plain": [
       "<Figure size 1500x2000 with 5 Axes>"
      ]
     },
     "metadata": {},
     "output_type": "display_data"
    },
    {
     "data": {
      "image/png": "[encoded data removed]",
      "text/plain": [
       "<Figure size 640x480 with 1 Axes>"
      ]
     },
     "metadata": {},
     "output_type": "display_data"
    },
    {
     "data": {
      "text/html": [
       "<div>\n",
       "<style scoped>\n",
       "    .dataframe tbody tr th:only-of-type {\n",
       "        vertical-align: middle;\n",
       "    }\n",
       "\n",
       "    .dataframe tbody tr th {\n",
       "        vertical-align: top;\n",
       "    }\n",
       "\n",
       "    .dataframe thead th {\n",
       "        text-align: right;\n",
       "    }\n",
       "</style>\n",
       "<table border=\"1\" class=\"dataframe\">\n",
       "  <thead>\n",
       "    <tr style=\"text-align: right;\">\n",
       "      <th></th>\n",
       "      <th></th>\n",
       "      <th></th>\n",
       "    </tr>\n",
       "    <tr>\n",
       "      <th></th>\n",
       "      <th></th>\n",
       "      <th></th>\n",
       "    </tr>\n",
       "  </thead>\n",
       "  <tbody>\n",
       "    <tr>\n",
       "      <th>Ground Truth Prevalence</th>\n",
       "      <td>. . .</td>\n",
       "      <td>0.454</td>\n",
       "    </tr>\n",
       "    <tr>\n",
       "      <th>Test set Prevalence</th>\n",
       "      <td>. . .</td>\n",
       "      <td>0.542</td>\n",
       "    </tr>\n",
       "    <tr>\n",
       "      <th>True positive rate (recall)</th>\n",
       "      <td>. . .</td>\n",
       "      <td>0.863</td>\n",
       "    </tr>\n",
       "    <tr>\n",
       "      <th>False positive rate</th>\n",
       "      <td>. . .</td>\n",
       "      <td>0.276</td>\n",
       "    </tr>\n",
       "    <tr>\n",
       "      <th>Positive predictive value (precision)</th>\n",
       "      <td>. . .</td>\n",
       "      <td>0.722</td>\n",
       "    </tr>\n",
       "    <tr>\n",
       "      <th>True negative rate (specificity)</th>\n",
       "      <td>. . .</td>\n",
       "      <td>0.724</td>\n",
       "    </tr>\n",
       "    <tr>\n",
       "      <th>False negative rate</th>\n",
       "      <td>. . .</td>\n",
       "      <td>0.137</td>\n",
       "    </tr>\n",
       "    <tr>\n",
       "      <th>Negative predictive value</th>\n",
       "      <td>. . .</td>\n",
       "      <td>0.864</td>\n",
       "    </tr>\n",
       "    <tr>\n",
       "      <th>Positive likelihood ratio (bigger is better)</th>\n",
       "      <td>. . .</td>\n",
       "      <td>3.130</td>\n",
       "    </tr>\n",
       "    <tr>\n",
       "      <th>Negative likelihood ratio (smaller is better)</th>\n",
       "      <td>. . .</td>\n",
       "      <td>0.189</td>\n",
       "    </tr>\n",
       "    <tr>\n",
       "      <th>Diagnostic odds ratio</th>\n",
       "      <td>. . .</td>\n",
       "      <td>16.538</td>\n",
       "    </tr>\n",
       "    <tr>\n",
       "      <th>Accuracy</th>\n",
       "      <td>. . .</td>\n",
       "      <td>0.787</td>\n",
       "    </tr>\n",
       "    <tr>\n",
       "      <th>F1 score</th>\n",
       "      <td>. . .</td>\n",
       "      <td>0.786</td>\n",
       "    </tr>\n",
       "    <tr>\n",
       "      <th>Accuracy</th>\n",
       "      <td>. . .</td>\n",
       "      <td>0.787</td>\n",
       "    </tr>\n",
       "    <tr>\n",
       "      <th>ROC AUC</th>\n",
       "      <td>. . .</td>\n",
       "      <td>0.892</td>\n",
       "    </tr>\n",
       "    <tr>\n",
       "      <th>ROC AUC (95% CI)</th>\n",
       "      <td>. . .</td>\n",
       "      <td>[0.88, 0.91]</td>\n",
       "    </tr>\n",
       "    <tr>\n",
       "      <th>Scaled Brier Score</th>\n",
       "      <td>. . .</td>\n",
       "      <td>0.404</td>\n",
       "    </tr>\n",
       "    <tr>\n",
       "      <th>Hosmer_Lemeshow p-value</th>\n",
       "      <td>. . .</td>\n",
       "      <td>0.000</td>\n",
       "    </tr>\n",
       "    <tr>\n",
       "      <th>Spiegelhalter p-value</th>\n",
       "      <td>. . .</td>\n",
       "      <td>0.000</td>\n",
       "    </tr>\n",
       "  </tbody>\n",
       "</table>\n",
       "</div>"
      ],
      "text/plain": [
       "                                                                   \n",
       "                                                                   \n",
       "Ground Truth Prevalence                        . . .          0.454\n",
       "Test set Prevalence                            . . .          0.542\n",
       "True positive rate (recall)                    . . .          0.863\n",
       "False positive rate                            . . .          0.276\n",
       "Positive predictive value (precision)          . . .          0.722\n",
       "True negative rate (specificity)               . . .          0.724\n",
       "False negative rate                            . . .          0.137\n",
       "Negative predictive value                      . . .          0.864\n",
       "Positive likelihood ratio (bigger is better)   . . .          3.130\n",
       "Negative likelihood ratio (smaller is better)  . . .          0.189\n",
       "Diagnostic odds ratio                          . . .         16.538\n",
       "Accuracy                                       . . .          0.787\n",
       "F1 score                                       . . .          0.786\n",
       "Accuracy                                       . . .          0.787\n",
       "ROC AUC                                        . . .          0.892\n",
       "ROC AUC (95% CI)                               . . .   [0.88, 0.91]\n",
       "Scaled Brier Score                             . . .          0.404\n",
       "Hosmer_Lemeshow p-value                        . . .          0.000\n",
       "Spiegelhalter p-value                          . . .          0.000"
      ]
     },
     "execution_count": 1109,
     "metadata": {},
     "output_type": "execute_result"
    }
   ],
   "source": [
    "import MLFlow_Utils\n",
    "binary_classification_metrics(y_test, preds[\"Label\"], preds[\"Score\"])"
   ]
  },
  {
   "cell_type": "markdown",
   "metadata": {},
   "source": [
    "### Understand best algorithm features and results\n",
    "#### Run INTERPRETE_MODEL only for the best algorithm chosen in the previous lines"
   ]
  },
  {
   "cell_type": "code",
   "execution_count": 1111,
   "metadata": {},
   "outputs": [],
   "source": [
    "# evaluate_model(xgbtuned)"
   ]
  },
  {
   "cell_type": "code",
   "execution_count": 1112,
   "metadata": {},
   "outputs": [
    {
     "data": {
      "image/png": "[encoded data removed]",
      "text/plain": [
       "<Figure size 800x950 with 2 Axes>"
      ]
     },
     "metadata": {},
     "output_type": "display_data"
    }
   ],
   "source": [
    "#interpret_model(cattuned)\n",
    "#interpret_model(lgbmtuned)\n",
    "interpret_model(xgbtuned)"
   ]
  },
  {
   "cell_type": "code",
   "execution_count": 1113,
   "metadata": {},
   "outputs": [],
   "source": [
    "# plot_model(lgbmtuned, plot='ktops')"
   ]
  },
  {
   "cell_type": "markdown",
   "metadata": {},
   "source": [
    "### 2.3.1) Build a model with all data\n",
    "#### Run FINALIZE MODEL only for the best algorithm chosen in the previous lines"
   ]
  },
  {
   "cell_type": "code",
   "execution_count": 1114,
   "metadata": {},
   "outputs": [],
   "source": [
    "#final_model = finalize_model(cattuned)\n",
    "#final_model = finalize_model(lgbmtuned)\n",
    "final_model = finalize_model(xgbtuned)"
   ]
  },
  {
   "cell_type": "markdown",
   "metadata": {},
   "source": [
    "### 2.3.2) Using model to predict unseen outcome"
   ]
  },
  {
   "cell_type": "code",
   "execution_count": 1115,
   "metadata": {},
   "outputs": [
    {
     "data": {
      "text/plain": [
       "'XGBClassifier'"
      ]
     },
     "execution_count": 1115,
     "metadata": {},
     "output_type": "execute_result"
    }
   ],
   "source": [
    "str(final_model.__class__.__name__)"
   ]
  },
  {
   "cell_type": "code",
   "execution_count": 1116,
   "metadata": {},
   "outputs": [
    {
     "data": {
      "text/plain": [
       "'XGBClassifier_all_vs_one_NORTE_AM_AMAZONAS_HUGV'"
      ]
     },
     "execution_count": 1116,
     "metadata": {},
     "output_type": "execute_result"
    }
   ],
   "source": [
    "final_model_name = str(final_model.__class__.__name__) + '_all_vs_one_' \\\n",
    "                    + X_test_specific.region.iloc[0]  \\\n",
    "                    + '_' + X_test_specific.state.iloc[0]  \\\n",
    "                    + '_' + X_test_specific.city_hospital.iloc[0]\n",
    "final_model_name"
   ]
  },
  {
   "cell_type": "code",
   "execution_count": 1117,
   "metadata": {},
   "outputs": [
    {
     "name": "stdout",
     "output_type": "stream",
     "text": [
      "Transformation Pipeline and Model Succesfully Saved\n"
     ]
    }
   ],
   "source": [
    "save_model(final_model, final_model_name ,verbose=True)"
   ]
  },
  {
   "cell_type": "markdown",
   "metadata": {},
   "source": [
    "# Use the saved model to predict on specific hospital\n",
    "## ALL_EXCEPT_ONE is the name of this strategy"
   ]
  },
  {
   "cell_type": "code",
   "execution_count": 1119,
   "metadata": {},
   "outputs": [
    {
     "name": "stdout",
     "output_type": "stream",
     "text": [
      "loaded: XGBClassifier_all_vs_one_NORTE_AM_AMAZONAS_HUGV\n"
     ]
    }
   ],
   "source": [
    "import pickle\n",
    "import joblib\n",
    "\n",
    "#Carrego o modelo unico\n",
    "print('loaded: ' + final_model_name)\n",
    "all_except_one_model_pkl = final_model_name + \".pkl\"\n",
    "prep_pipe_all_except_one, all_except_one_model = joblib.load(all_except_one_model_pkl)"
   ]
  },
  {
   "cell_type": "code",
   "execution_count": 1120,
   "metadata": {},
   "outputs": [
    {
     "data": {
      "text/plain": [
       "(15, 25)"
      ]
     },
     "execution_count": 1120,
     "metadata": {},
     "output_type": "execute_result"
    }
   ],
   "source": [
    "#Carrego o X_test do modelo único\n",
    "X_test_single = pd.read_csv(x_test_specific_name, delimiter=\";\",index_col=0)\n",
    "X_test_single.shape"
   ]
  },
  {
   "cell_type": "code",
   "execution_count": 1121,
   "metadata": {},
   "outputs": [
    {
     "data": {
      "text/plain": [
       "(15,)"
      ]
     },
     "execution_count": 1121,
     "metadata": {},
     "output_type": "execute_result"
    }
   ],
   "source": [
    "#Carrego o Y_test do modelo único\n",
    "y_test_single = pd.read_csv(y_test_specific_name, delimiter=\";\",index_col=0)\n",
    "y_test_single = y_test_single[\"icu\"]\n",
    "y_test_single.shape"
   ]
  },
  {
   "cell_type": "code",
   "execution_count": 1122,
   "metadata": {},
   "outputs": [
    {
     "data": {
      "text/html": [
       "<div>\n",
       "<style scoped>\n",
       "    .dataframe tbody tr th:only-of-type {\n",
       "        vertical-align: middle;\n",
       "    }\n",
       "\n",
       "    .dataframe tbody tr th {\n",
       "        vertical-align: top;\n",
       "    }\n",
       "\n",
       "    .dataframe thead th {\n",
       "        text-align: right;\n",
       "    }\n",
       "</style>\n",
       "<table border=\"1\" class=\"dataframe\">\n",
       "  <thead>\n",
       "    <tr style=\"text-align: right;\">\n",
       "      <th></th>\n",
       "      <th>city_hospital</th>\n",
       "      <th>age</th>\n",
       "      <th>male</th>\n",
       "      <th>heart_rate</th>\n",
       "      <th>resp_rate</th>\n",
       "      <th>sys_press</th>\n",
       "      <th>dias_press</th>\n",
       "      <th>mean_press</th>\n",
       "      <th>temp</th>\n",
       "      <th>hemoglobin</th>\n",
       "      <th>platelets</th>\n",
       "      <th>hematocrit</th>\n",
       "      <th>red_cells_count</th>\n",
       "      <th>hcm</th>\n",
       "      <th>rdw</th>\n",
       "      <th>mcv</th>\n",
       "      <th>leukocytes</th>\n",
       "      <th>neutrophil</th>\n",
       "      <th>lymphocytes</th>\n",
       "      <th>basophils</th>\n",
       "      <th>eosinophils</th>\n",
       "      <th>monocytes</th>\n",
       "      <th>crp</th>\n",
       "      <th>region</th>\n",
       "      <th>state</th>\n",
       "    </tr>\n",
       "  </thead>\n",
       "  <tbody>\n",
       "    <tr>\n",
       "      <th>31</th>\n",
       "      <td>AMAZONAS_HUGV</td>\n",
       "      <td>66.000</td>\n",
       "      <td>0.000</td>\n",
       "      <td>89.000</td>\n",
       "      <td>28.000</td>\n",
       "      <td>130.000</td>\n",
       "      <td>69.000</td>\n",
       "      <td>89.313</td>\n",
       "      <td>37.500</td>\n",
       "      <td>11.160</td>\n",
       "      <td>296500.000</td>\n",
       "      <td>34.720</td>\n",
       "      <td>4.400</td>\n",
       "      <td>29.520</td>\n",
       "      <td>13.000</td>\n",
       "      <td>91.870</td>\n",
       "      <td>17060.000</td>\n",
       "      <td>14212.000</td>\n",
       "      <td>1023.000</td>\n",
       "      <td>124.000</td>\n",
       "      <td>0.000</td>\n",
       "      <td>1699.000</td>\n",
       "      <td>94.000</td>\n",
       "      <td>NORTE</td>\n",
       "      <td>AM</td>\n",
       "    </tr>\n",
       "    <tr>\n",
       "      <th>1</th>\n",
       "      <td>AMAZONAS_HUGV</td>\n",
       "      <td>61.000</td>\n",
       "      <td>1.000</td>\n",
       "      <td>86.000</td>\n",
       "      <td>18.000</td>\n",
       "      <td>172.000</td>\n",
       "      <td>75.000</td>\n",
       "      <td>107.301</td>\n",
       "      <td>34.800</td>\n",
       "      <td>11.600</td>\n",
       "      <td>110900.000</td>\n",
       "      <td>35.960</td>\n",
       "      <td>4.370</td>\n",
       "      <td>26.660</td>\n",
       "      <td>11.790</td>\n",
       "      <td>82.250</td>\n",
       "      <td>12710.000</td>\n",
       "      <td>12201.000</td>\n",
       "      <td>381.000</td>\n",
       "      <td>0.000</td>\n",
       "      <td>0.000</td>\n",
       "      <td>127.000</td>\n",
       "      <td>15.100</td>\n",
       "      <td>NORTE</td>\n",
       "      <td>AM</td>\n",
       "    </tr>\n",
       "    <tr>\n",
       "      <th>29</th>\n",
       "      <td>AMAZONAS_HUGV</td>\n",
       "      <td>75.000</td>\n",
       "      <td>0.000</td>\n",
       "      <td>82.000</td>\n",
       "      <td>24.000</td>\n",
       "      <td>128.000</td>\n",
       "      <td>80.000</td>\n",
       "      <td>95.984</td>\n",
       "      <td>36.400</td>\n",
       "      <td>12.010</td>\n",
       "      <td>198500.000</td>\n",
       "      <td>35.940</td>\n",
       "      <td>4.200</td>\n",
       "      <td>28.580</td>\n",
       "      <td>10.330</td>\n",
       "      <td>85.500</td>\n",
       "      <td>4270.000</td>\n",
       "      <td>3112.000</td>\n",
       "      <td>835.000</td>\n",
       "      <td>19.000</td>\n",
       "      <td>2.000</td>\n",
       "      <td>299.000</td>\n",
       "      <td>3.200</td>\n",
       "      <td>NORTE</td>\n",
       "      <td>AM</td>\n",
       "    </tr>\n",
       "    <tr>\n",
       "      <th>21</th>\n",
       "      <td>AMAZONAS_HUGV</td>\n",
       "      <td>66.000</td>\n",
       "      <td>0.000</td>\n",
       "      <td>NaN</td>\n",
       "      <td>NaN</td>\n",
       "      <td>NaN</td>\n",
       "      <td>NaN</td>\n",
       "      <td>NaN</td>\n",
       "      <td>NaN</td>\n",
       "      <td>11.750</td>\n",
       "      <td>453800.000</td>\n",
       "      <td>36.890</td>\n",
       "      <td>4.110</td>\n",
       "      <td>28.550</td>\n",
       "      <td>11.680</td>\n",
       "      <td>89.620</td>\n",
       "      <td>8242.000</td>\n",
       "      <td>5114.000</td>\n",
       "      <td>1534.000</td>\n",
       "      <td>53.000</td>\n",
       "      <td>198.000</td>\n",
       "      <td>1340.000</td>\n",
       "      <td>20.900</td>\n",
       "      <td>NORTE</td>\n",
       "      <td>AM</td>\n",
       "    </tr>\n",
       "    <tr>\n",
       "      <th>2</th>\n",
       "      <td>AMAZONAS_HUGV</td>\n",
       "      <td>28.000</td>\n",
       "      <td>1.000</td>\n",
       "      <td>80.000</td>\n",
       "      <td>30.000</td>\n",
       "      <td>117.000</td>\n",
       "      <td>56.000</td>\n",
       "      <td>76.313</td>\n",
       "      <td>37.400</td>\n",
       "      <td>6.400</td>\n",
       "      <td>237000.000</td>\n",
       "      <td>20.100</td>\n",
       "      <td>2.470</td>\n",
       "      <td>25.800</td>\n",
       "      <td>13.500</td>\n",
       "      <td>81.500</td>\n",
       "      <td>11400.000</td>\n",
       "      <td>9784.000</td>\n",
       "      <td>776.000</td>\n",
       "      <td>63.000</td>\n",
       "      <td>126.000</td>\n",
       "      <td>651.000</td>\n",
       "      <td>200.400</td>\n",
       "      <td>NORTE</td>\n",
       "      <td>AM</td>\n",
       "    </tr>\n",
       "  </tbody>\n",
       "</table>\n",
       "</div>"
      ],
      "text/plain": [
       "    city_hospital    age  male  heart_rate  resp_rate  sys_press  dias_press  \\\n",
       "31  AMAZONAS_HUGV 66.000 0.000      89.000     28.000    130.000      69.000   \n",
       "1   AMAZONAS_HUGV 61.000 1.000      86.000     18.000    172.000      75.000   \n",
       "29  AMAZONAS_HUGV 75.000 0.000      82.000     24.000    128.000      80.000   \n",
       "21  AMAZONAS_HUGV 66.000 0.000         NaN        NaN        NaN         NaN   \n",
       "2   AMAZONAS_HUGV 28.000 1.000      80.000     30.000    117.000      56.000   \n",
       "\n",
       "    mean_press   temp  hemoglobin  platelets  hematocrit  red_cells_count  \\\n",
       "31      89.313 37.500      11.160 296500.000      34.720            4.400   \n",
       "1      107.301 34.800      11.600 110900.000      35.960            4.370   \n",
       "29      95.984 36.400      12.010 198500.000      35.940            4.200   \n",
       "21         NaN    NaN      11.750 453800.000      36.890            4.110   \n",
       "2       76.313 37.400       6.400 237000.000      20.100            2.470   \n",
       "\n",
       "      hcm    rdw    mcv  leukocytes  neutrophil  lymphocytes  basophils  \\\n",
       "31 29.520 13.000 91.870   17060.000   14212.000     1023.000    124.000   \n",
       "1  26.660 11.790 82.250   12710.000   12201.000      381.000      0.000   \n",
       "29 28.580 10.330 85.500    4270.000    3112.000      835.000     19.000   \n",
       "21 28.550 11.680 89.620    8242.000    5114.000     1534.000     53.000   \n",
       "2  25.800 13.500 81.500   11400.000    9784.000      776.000     63.000   \n",
       "\n",
       "    eosinophils  monocytes     crp region state  \n",
       "31        0.000   1699.000  94.000  NORTE    AM  \n",
       "1         0.000    127.000  15.100  NORTE    AM  \n",
       "29        2.000    299.000   3.200  NORTE    AM  \n",
       "21      198.000   1340.000  20.900  NORTE    AM  \n",
       "2       126.000    651.000 200.400  NORTE    AM  "
      ]
     },
     "execution_count": 1122,
     "metadata": {},
     "output_type": "execute_result"
    }
   ],
   "source": [
    "pd.set_option('display.max_columns', None)\n",
    "X_test_single.head()"
   ]
  },
  {
   "cell_type": "code",
   "execution_count": 1123,
   "metadata": {},
   "outputs": [],
   "source": [
    "X_test_single[\"class\"] = y_test_single"
   ]
  },
  {
   "cell_type": "code",
   "execution_count": 1124,
   "metadata": {},
   "outputs": [],
   "source": [
    "X_test_single = X_test_single.drop(['city_hospital'],axis=1)\n",
    "X_test_single = X_test_single.drop(['region'],axis=1)\n",
    "X_test_single = X_test_single.drop(['state'],axis=1)"
   ]
  },
  {
   "cell_type": "code",
   "execution_count": 1125,
   "metadata": {},
   "outputs": [
    {
     "data": {
      "application/vnd.jupyter.widget-view+json": {
       "model_id": "9ab7029ca7d84215b41644282990edd5",
       "version_major": 2,
       "version_minor": 0
      },
      "text/plain": [
       "Text(value=\"Following data types have been inferred automatically, if they are correct press enter to continue…"
      ]
     },
     "metadata": {},
     "output_type": "display_data"
    },
    {
     "data": {
      "text/html": [
       "<div>\n",
       "<style scoped>\n",
       "    .dataframe tbody tr th:only-of-type {\n",
       "        vertical-align: middle;\n",
       "    }\n",
       "\n",
       "    .dataframe tbody tr th {\n",
       "        vertical-align: top;\n",
       "    }\n",
       "\n",
       "    .dataframe thead th {\n",
       "        text-align: right;\n",
       "    }\n",
       "</style>\n",
       "<table border=\"1\" class=\"dataframe\">\n",
       "  <thead>\n",
       "    <tr style=\"text-align: right;\">\n",
       "      <th></th>\n",
       "      <th>Data Type</th>\n",
       "    </tr>\n",
       "  </thead>\n",
       "  <tbody>\n",
       "    <tr>\n",
       "      <th>age</th>\n",
       "      <td>Numeric</td>\n",
       "    </tr>\n",
       "    <tr>\n",
       "      <th>male</th>\n",
       "      <td>Categorical</td>\n",
       "    </tr>\n",
       "    <tr>\n",
       "      <th>heart_rate</th>\n",
       "      <td>Categorical</td>\n",
       "    </tr>\n",
       "    <tr>\n",
       "      <th>resp_rate</th>\n",
       "      <td>Numeric</td>\n",
       "    </tr>\n",
       "    <tr>\n",
       "      <th>sys_press</th>\n",
       "      <td>Categorical</td>\n",
       "    </tr>\n",
       "    <tr>\n",
       "      <th>dias_press</th>\n",
       "      <td>Categorical</td>\n",
       "    </tr>\n",
       "    <tr>\n",
       "      <th>mean_press</th>\n",
       "      <td>Numeric</td>\n",
       "    </tr>\n",
       "    <tr>\n",
       "      <th>temp</th>\n",
       "      <td>Numeric</td>\n",
       "    </tr>\n",
       "    <tr>\n",
       "      <th>hemoglobin</th>\n",
       "      <td>Numeric</td>\n",
       "    </tr>\n",
       "    <tr>\n",
       "      <th>platelets</th>\n",
       "      <td>Categorical</td>\n",
       "    </tr>\n",
       "    <tr>\n",
       "      <th>hematocrit</th>\n",
       "      <td>Numeric</td>\n",
       "    </tr>\n",
       "    <tr>\n",
       "      <th>red_cells_count</th>\n",
       "      <td>Numeric</td>\n",
       "    </tr>\n",
       "    <tr>\n",
       "      <th>hcm</th>\n",
       "      <td>Numeric</td>\n",
       "    </tr>\n",
       "    <tr>\n",
       "      <th>rdw</th>\n",
       "      <td>Numeric</td>\n",
       "    </tr>\n",
       "    <tr>\n",
       "      <th>mcv</th>\n",
       "      <td>Numeric</td>\n",
       "    </tr>\n",
       "    <tr>\n",
       "      <th>leukocytes</th>\n",
       "      <td>Numeric</td>\n",
       "    </tr>\n",
       "    <tr>\n",
       "      <th>neutrophil</th>\n",
       "      <td>Numeric</td>\n",
       "    </tr>\n",
       "    <tr>\n",
       "      <th>lymphocytes</th>\n",
       "      <td>Numeric</td>\n",
       "    </tr>\n",
       "    <tr>\n",
       "      <th>basophils</th>\n",
       "      <td>Numeric</td>\n",
       "    </tr>\n",
       "    <tr>\n",
       "      <th>eosinophils</th>\n",
       "      <td>Numeric</td>\n",
       "    </tr>\n",
       "    <tr>\n",
       "      <th>monocytes</th>\n",
       "      <td>Numeric</td>\n",
       "    </tr>\n",
       "    <tr>\n",
       "      <th>crp</th>\n",
       "      <td>Numeric</td>\n",
       "    </tr>\n",
       "    <tr>\n",
       "      <th>class</th>\n",
       "      <td>Label</td>\n",
       "    </tr>\n",
       "  </tbody>\n",
       "</table>\n",
       "</div>"
      ],
      "text/plain": [
       "                   Data Type\n",
       "age                  Numeric\n",
       "male             Categorical\n",
       "heart_rate       Categorical\n",
       "resp_rate            Numeric\n",
       "sys_press        Categorical\n",
       "dias_press       Categorical\n",
       "mean_press           Numeric\n",
       "temp                 Numeric\n",
       "hemoglobin           Numeric\n",
       "platelets        Categorical\n",
       "hematocrit           Numeric\n",
       "red_cells_count      Numeric\n",
       "hcm                  Numeric\n",
       "rdw                  Numeric\n",
       "mcv                  Numeric\n",
       "leukocytes           Numeric\n",
       "neutrophil           Numeric\n",
       "lymphocytes          Numeric\n",
       "basophils            Numeric\n",
       "eosinophils          Numeric\n",
       "monocytes            Numeric\n",
       "crp                  Numeric\n",
       "class                  Label"
      ]
     },
     "metadata": {},
     "output_type": "display_data"
    },
    {
     "name": "stdin",
     "output_type": "stream",
     "text": [
      " \n"
     ]
    }
   ],
   "source": [
    "X_test_single_transformed = prep_pipe_all_except_one.fit_transform(X_test_single)"
   ]
  },
  {
   "cell_type": "code",
   "execution_count": 1126,
   "metadata": {},
   "outputs": [],
   "source": [
    "X_test_single_transformed = X_test_single_transformed.drop(['class'],axis=1)"
   ]
  },
  {
   "cell_type": "code",
   "execution_count": 1127,
   "metadata": {},
   "outputs": [
    {
     "data": {
      "text/plain": [
       "Index(['age', 'heart_rate', 'resp_rate', 'sys_press', 'dias_press',\n",
       "       'mean_press', 'temp', 'hemoglobin', 'platelets', 'hematocrit',\n",
       "       'red_cells_count', 'hcm', 'rdw', 'mcv', 'leukocytes', 'neutrophil',\n",
       "       'lymphocytes', 'basophils', 'eosinophils', 'monocytes', 'crp',\n",
       "       'male_1.0'],\n",
       "      dtype='object')"
      ]
     },
     "execution_count": 1127,
     "metadata": {},
     "output_type": "execute_result"
    }
   ],
   "source": [
    "X_test.columns"
   ]
  },
  {
   "cell_type": "code",
   "execution_count": 1128,
   "metadata": {},
   "outputs": [
    {
     "data": {
      "text/plain": [
       "Index(['age', 'heart_rate', 'resp_rate', 'sys_press', 'dias_press',\n",
       "       'mean_press', 'temp', 'hemoglobin', 'platelets', 'hematocrit',\n",
       "       'red_cells_count', 'hcm', 'rdw', 'mcv', 'leukocytes', 'neutrophil',\n",
       "       'lymphocytes', 'basophils', 'eosinophils', 'monocytes', 'crp',\n",
       "       'male_1.0'],\n",
       "      dtype='object')"
      ]
     },
     "execution_count": 1128,
     "metadata": {},
     "output_type": "execute_result"
    }
   ],
   "source": [
    "X_test_single_transformed.columns"
   ]
  },
  {
   "cell_type": "code",
   "execution_count": 1129,
   "metadata": {},
   "outputs": [
    {
     "data": {
      "text/plain": [
       "[]"
      ]
     },
     "execution_count": 1129,
     "metadata": {},
     "output_type": "execute_result"
    }
   ],
   "source": [
    "#Show distinct columns\n",
    "distinct_columns = X_test[X_test.columns.difference(X_test_single_transformed.columns)].columns.tolist()\n",
    "distinct_columns"
   ]
  },
  {
   "cell_type": "markdown",
   "metadata": {},
   "source": [
    "### Add missing columns to some hospitals that didn't collect all columns\n",
    "e.g. HC_USP (missing: red_cells_count and eosinophils)"
   ]
  },
  {
   "cell_type": "code",
   "execution_count": 1130,
   "metadata": {},
   "outputs": [],
   "source": [
    "for column in distinct_columns:\n",
    "    if(column=='male_0.0'):\n",
    "        X_test_single_transformed['male_0.0'] = X_test_single_transformed['male_1.0'].apply(lambda x: 1.0 if x==0.0 else 0.0)\n",
    "        X_test_single_transformed = X_test_single_transformed.drop('male_1.0', axis=1)\n",
    "    else:\n",
    "        X_test_single_transformed[column]=np.NaN"
   ]
  },
  {
   "cell_type": "code",
   "execution_count": 1131,
   "metadata": {},
   "outputs": [
    {
     "data": {
      "text/plain": [
       "Index(['age', 'heart_rate', 'resp_rate', 'sys_press', 'dias_press',\n",
       "       'mean_press', 'temp', 'hemoglobin', 'platelets', 'hematocrit',\n",
       "       'red_cells_count', 'hcm', 'rdw', 'mcv', 'leukocytes', 'neutrophil',\n",
       "       'lymphocytes', 'basophils', 'eosinophils', 'monocytes', 'crp',\n",
       "       'male_1.0'],\n",
       "      dtype='object')"
      ]
     },
     "execution_count": 1131,
     "metadata": {},
     "output_type": "execute_result"
    }
   ],
   "source": [
    "X_test_single_transformed.columns"
   ]
  },
  {
   "cell_type": "code",
   "execution_count": 1132,
   "metadata": {},
   "outputs": [
    {
     "data": {
      "text/plain": [
       "(15, 22)"
      ]
     },
     "execution_count": 1132,
     "metadata": {},
     "output_type": "execute_result"
    }
   ],
   "source": [
    "X_test_single_transformed.shape"
   ]
  },
  {
   "cell_type": "code",
   "execution_count": 1133,
   "metadata": {},
   "outputs": [
    {
     "data": {
      "text/plain": [
       "Index(['age', 'heart_rate', 'resp_rate', 'sys_press', 'dias_press',\n",
       "       'mean_press', 'temp', 'hemoglobin', 'platelets', 'hematocrit',\n",
       "       'red_cells_count', 'hcm', 'rdw', 'mcv', 'leukocytes', 'neutrophil',\n",
       "       'lymphocytes', 'basophils', 'eosinophils', 'monocytes', 'crp',\n",
       "       'male_1.0'],\n",
       "      dtype='object')"
      ]
     },
     "execution_count": 1133,
     "metadata": {},
     "output_type": "execute_result"
    }
   ],
   "source": [
    "X_test.columns"
   ]
  },
  {
   "cell_type": "markdown",
   "metadata": {},
   "source": [
    "**Reorder columns**"
   ]
  },
  {
   "cell_type": "code",
   "execution_count": 1134,
   "metadata": {},
   "outputs": [
    {
     "data": {
      "text/plain": [
       "(15, 22)"
      ]
     },
     "execution_count": 1134,
     "metadata": {},
     "output_type": "execute_result"
    }
   ],
   "source": [
    "# Reorder columns\n",
    "X_test_single_transformed = X_test_single_transformed[X_test.columns]\n",
    "X_test_single_transformed.shape"
   ]
  },
  {
   "cell_type": "code",
   "execution_count": 1135,
   "metadata": {},
   "outputs": [
    {
     "name": "stdout",
     "output_type": "stream",
     "text": [
      "0.7727272727272727\n"
     ]
    },
    {
     "data": {
      "text/plain": [
       "[<matplotlib.lines.Line2D at 0x1a9f5e85480>]"
      ]
     },
     "execution_count": 1135,
     "metadata": {},
     "output_type": "execute_result"
    },
    {
     "data": {
      "image/png": "[encoded data removed]",
      "text/plain": [
       "<Figure size 640x480 with 1 Axes>"
      ]
     },
     "metadata": {},
     "output_type": "display_data"
    }
   ],
   "source": [
    "#Vejo a curva ROC do modelo INDIVIDUAL e confirmo o valor da AUC\n",
    "from sklearn.metrics import (roc_curve,auc)\n",
    "\n",
    "y_pred_prob1 = all_except_one_model.predict_proba(X_test_single_transformed)[:,1]\n",
    "fpr1 , tpr1, thresholds1 = roc_curve(y_test_single, y_pred_prob1)\n",
    "\n",
    "auc_ind = auc(fpr1, tpr1)\n",
    "print(auc_ind)\n",
    "plt.plot(fpr1, tpr1, label= \"Single Model - LightGBM - AUC \" +  str(auc_ind), color=\"yellow\")"
   ]
  },
  {
   "cell_type": "code",
   "execution_count": 1136,
   "metadata": {},
   "outputs": [],
   "source": [
    "y_pred = all_except_one_model.predict(X_test_single_transformed)"
   ]
  },
  {
   "cell_type": "code",
   "execution_count": 1137,
   "metadata": {},
   "outputs": [
    {
     "data": {
      "text/plain": [
       "icu\n",
       "1    11\n",
       "0     4\n",
       "Name: count, dtype: int64"
      ]
     },
     "execution_count": 1137,
     "metadata": {},
     "output_type": "execute_result"
    }
   ],
   "source": [
    "y_test_single.value_counts()"
   ]
  },
  {
   "cell_type": "code",
   "execution_count": 1138,
   "metadata": {},
   "outputs": [
    {
     "data": {
      "text/html": [
       "<div>\n",
       "<style scoped>\n",
       "    .dataframe tbody tr th:only-of-type {\n",
       "        vertical-align: middle;\n",
       "    }\n",
       "\n",
       "    .dataframe tbody tr th {\n",
       "        vertical-align: top;\n",
       "    }\n",
       "\n",
       "    .dataframe thead th {\n",
       "        text-align: right;\n",
       "    }\n",
       "</style>\n",
       "<table border=\"1\" class=\"dataframe\">\n",
       "  <thead>\n",
       "    <tr style=\"text-align: right;\">\n",
       "      <th></th>\n",
       "      <th></th>\n",
       "      <th></th>\n",
       "    </tr>\n",
       "    <tr>\n",
       "      <th></th>\n",
       "      <th></th>\n",
       "      <th></th>\n",
       "    </tr>\n",
       "  </thead>\n",
       "  <tbody>\n",
       "    <tr>\n",
       "      <th>Ground Truth Prevalence</th>\n",
       "      <td>. . .</td>\n",
       "      <td>0.733</td>\n",
       "    </tr>\n",
       "    <tr>\n",
       "      <th>Test set Prevalence</th>\n",
       "      <td>. . .</td>\n",
       "      <td>0.667</td>\n",
       "    </tr>\n",
       "    <tr>\n",
       "      <th>True positive rate (recall)</th>\n",
       "      <td>. . .</td>\n",
       "      <td>0.727</td>\n",
       "    </tr>\n",
       "    <tr>\n",
       "      <th>False positive rate</th>\n",
       "      <td>. . .</td>\n",
       "      <td>0.500</td>\n",
       "    </tr>\n",
       "    <tr>\n",
       "      <th>Positive predictive value (precision)</th>\n",
       "      <td>. . .</td>\n",
       "      <td>0.800</td>\n",
       "    </tr>\n",
       "    <tr>\n",
       "      <th>True negative rate (specificity)</th>\n",
       "      <td>. . .</td>\n",
       "      <td>0.500</td>\n",
       "    </tr>\n",
       "    <tr>\n",
       "      <th>False negative rate</th>\n",
       "      <td>. . .</td>\n",
       "      <td>0.273</td>\n",
       "    </tr>\n",
       "    <tr>\n",
       "      <th>Negative predictive value</th>\n",
       "      <td>. . .</td>\n",
       "      <td>0.400</td>\n",
       "    </tr>\n",
       "    <tr>\n",
       "      <th>Positive likelihood ratio (bigger is better)</th>\n",
       "      <td>. . .</td>\n",
       "      <td>1.455</td>\n",
       "    </tr>\n",
       "    <tr>\n",
       "      <th>Negative likelihood ratio (smaller is better)</th>\n",
       "      <td>. . .</td>\n",
       "      <td>0.545</td>\n",
       "    </tr>\n",
       "    <tr>\n",
       "      <th>Diagnostic odds ratio</th>\n",
       "      <td>. . .</td>\n",
       "      <td>2.667</td>\n",
       "    </tr>\n",
       "    <tr>\n",
       "      <th>Accuracy</th>\n",
       "      <td>. . .</td>\n",
       "      <td>0.667</td>\n",
       "    </tr>\n",
       "    <tr>\n",
       "      <th>F1 score</th>\n",
       "      <td>. . .</td>\n",
       "      <td>0.762</td>\n",
       "    </tr>\n",
       "    <tr>\n",
       "      <th>Accuracy</th>\n",
       "      <td>. . .</td>\n",
       "      <td>0.667</td>\n",
       "    </tr>\n",
       "    <tr>\n",
       "      <th>ROC AUC</th>\n",
       "      <td>. . .</td>\n",
       "      <td>0.773</td>\n",
       "    </tr>\n",
       "    <tr>\n",
       "      <th>ROC AUC (95% CI)</th>\n",
       "      <td>. . .</td>\n",
       "      <td>[0.52, 1.00]</td>\n",
       "    </tr>\n",
       "    <tr>\n",
       "      <th>Scaled Brier Score</th>\n",
       "      <td>. . .</td>\n",
       "      <td>0.021</td>\n",
       "    </tr>\n",
       "    <tr>\n",
       "      <th>Hosmer_Lemeshow p-value</th>\n",
       "      <td>. . .</td>\n",
       "      <td>0.113</td>\n",
       "    </tr>\n",
       "    <tr>\n",
       "      <th>Spiegelhalter p-value</th>\n",
       "      <td>. . .</td>\n",
       "      <td>0.324</td>\n",
       "    </tr>\n",
       "  </tbody>\n",
       "</table>\n",
       "</div>"
      ],
      "text/plain": [
       "                                                                   \n",
       "                                                                   \n",
       "Ground Truth Prevalence                        . . .          0.733\n",
       "Test set Prevalence                            . . .          0.667\n",
       "True positive rate (recall)                    . . .          0.727\n",
       "False positive rate                            . . .          0.500\n",
       "Positive predictive value (precision)          . . .          0.800\n",
       "True negative rate (specificity)               . . .          0.500\n",
       "False negative rate                            . . .          0.273\n",
       "Negative predictive value                      . . .          0.400\n",
       "Positive likelihood ratio (bigger is better)   . . .          1.455\n",
       "Negative likelihood ratio (smaller is better)  . . .          0.545\n",
       "Diagnostic odds ratio                          . . .          2.667\n",
       "Accuracy                                       . . .          0.667\n",
       "F1 score                                       . . .          0.762\n",
       "Accuracy                                       . . .          0.667\n",
       "ROC AUC                                        . . .          0.773\n",
       "ROC AUC (95% CI)                               . . .   [0.52, 1.00]\n",
       "Scaled Brier Score                             . . .          0.021\n",
       "Hosmer_Lemeshow p-value                        . . .          0.113\n",
       "Spiegelhalter p-value                          . . .          0.324"
      ]
     },
     "metadata": {},
     "output_type": "display_data"
    },
    {
     "data": {
      "image/png": "[encoded data removed]",
      "text/plain": [
       "<Figure size 1500x2000 with 5 Axes>"
      ]
     },
     "metadata": {},
     "output_type": "display_data"
    },
    {
     "data": {
      "image/png": "[encoded data removed]",
      "text/plain": [
       "<Figure size 640x480 with 1 Axes>"
      ]
     },
     "metadata": {},
     "output_type": "display_data"
    },
    {
     "data": {
      "text/html": [
       "<div>\n",
       "<style scoped>\n",
       "    .dataframe tbody tr th:only-of-type {\n",
       "        vertical-align: middle;\n",
       "    }\n",
       "\n",
       "    .dataframe tbody tr th {\n",
       "        vertical-align: top;\n",
       "    }\n",
       "\n",
       "    .dataframe thead th {\n",
       "        text-align: right;\n",
       "    }\n",
       "</style>\n",
       "<table border=\"1\" class=\"dataframe\">\n",
       "  <thead>\n",
       "    <tr style=\"text-align: right;\">\n",
       "      <th></th>\n",
       "      <th></th>\n",
       "      <th></th>\n",
       "    </tr>\n",
       "    <tr>\n",
       "      <th></th>\n",
       "      <th></th>\n",
       "      <th></th>\n",
       "    </tr>\n",
       "  </thead>\n",
       "  <tbody>\n",
       "    <tr>\n",
       "      <th>Ground Truth Prevalence</th>\n",
       "      <td>. . .</td>\n",
       "      <td>0.733</td>\n",
       "    </tr>\n",
       "    <tr>\n",
       "      <th>Test set Prevalence</th>\n",
       "      <td>. . .</td>\n",
       "      <td>0.667</td>\n",
       "    </tr>\n",
       "    <tr>\n",
       "      <th>True positive rate (recall)</th>\n",
       "      <td>. . .</td>\n",
       "      <td>0.727</td>\n",
       "    </tr>\n",
       "    <tr>\n",
       "      <th>False positive rate</th>\n",
       "      <td>. . .</td>\n",
       "      <td>0.500</td>\n",
       "    </tr>\n",
       "    <tr>\n",
       "      <th>Positive predictive value (precision)</th>\n",
       "      <td>. . .</td>\n",
       "      <td>0.800</td>\n",
       "    </tr>\n",
       "    <tr>\n",
       "      <th>True negative rate (specificity)</th>\n",
       "      <td>. . .</td>\n",
       "      <td>0.500</td>\n",
       "    </tr>\n",
       "    <tr>\n",
       "      <th>False negative rate</th>\n",
       "      <td>. . .</td>\n",
       "      <td>0.273</td>\n",
       "    </tr>\n",
       "    <tr>\n",
       "      <th>Negative predictive value</th>\n",
       "      <td>. . .</td>\n",
       "      <td>0.400</td>\n",
       "    </tr>\n",
       "    <tr>\n",
       "      <th>Positive likelihood ratio (bigger is better)</th>\n",
       "      <td>. . .</td>\n",
       "      <td>1.455</td>\n",
       "    </tr>\n",
       "    <tr>\n",
       "      <th>Negative likelihood ratio (smaller is better)</th>\n",
       "      <td>. . .</td>\n",
       "      <td>0.545</td>\n",
       "    </tr>\n",
       "    <tr>\n",
       "      <th>Diagnostic odds ratio</th>\n",
       "      <td>. . .</td>\n",
       "      <td>2.667</td>\n",
       "    </tr>\n",
       "    <tr>\n",
       "      <th>Accuracy</th>\n",
       "      <td>. . .</td>\n",
       "      <td>0.667</td>\n",
       "    </tr>\n",
       "    <tr>\n",
       "      <th>F1 score</th>\n",
       "      <td>. . .</td>\n",
       "      <td>0.762</td>\n",
       "    </tr>\n",
       "    <tr>\n",
       "      <th>Accuracy</th>\n",
       "      <td>. . .</td>\n",
       "      <td>0.667</td>\n",
       "    </tr>\n",
       "    <tr>\n",
       "      <th>ROC AUC</th>\n",
       "      <td>. . .</td>\n",
       "      <td>0.773</td>\n",
       "    </tr>\n",
       "    <tr>\n",
       "      <th>ROC AUC (95% CI)</th>\n",
       "      <td>. . .</td>\n",
       "      <td>[0.52, 1.00]</td>\n",
       "    </tr>\n",
       "    <tr>\n",
       "      <th>Scaled Brier Score</th>\n",
       "      <td>. . .</td>\n",
       "      <td>0.021</td>\n",
       "    </tr>\n",
       "    <tr>\n",
       "      <th>Hosmer_Lemeshow p-value</th>\n",
       "      <td>. . .</td>\n",
       "      <td>0.113</td>\n",
       "    </tr>\n",
       "    <tr>\n",
       "      <th>Spiegelhalter p-value</th>\n",
       "      <td>. . .</td>\n",
       "      <td>0.324</td>\n",
       "    </tr>\n",
       "  </tbody>\n",
       "</table>\n",
       "</div>"
      ],
      "text/plain": [
       "                                                                   \n",
       "                                                                   \n",
       "Ground Truth Prevalence                        . . .          0.733\n",
       "Test set Prevalence                            . . .          0.667\n",
       "True positive rate (recall)                    . . .          0.727\n",
       "False positive rate                            . . .          0.500\n",
       "Positive predictive value (precision)          . . .          0.800\n",
       "True negative rate (specificity)               . . .          0.500\n",
       "False negative rate                            . . .          0.273\n",
       "Negative predictive value                      . . .          0.400\n",
       "Positive likelihood ratio (bigger is better)   . . .          1.455\n",
       "Negative likelihood ratio (smaller is better)  . . .          0.545\n",
       "Diagnostic odds ratio                          . . .          2.667\n",
       "Accuracy                                       . . .          0.667\n",
       "F1 score                                       . . .          0.762\n",
       "Accuracy                                       . . .          0.667\n",
       "ROC AUC                                        . . .          0.773\n",
       "ROC AUC (95% CI)                               . . .   [0.52, 1.00]\n",
       "Scaled Brier Score                             . . .          0.021\n",
       "Hosmer_Lemeshow p-value                        . . .          0.113\n",
       "Spiegelhalter p-value                          . . .          0.324"
      ]
     },
     "execution_count": 1138,
     "metadata": {},
     "output_type": "execute_result"
    }
   ],
   "source": [
    "import MLFlow_Utils\n",
    "binary_classification_metrics(y_test_single, y_pred, pd.Series(y_pred_prob1))"
   ]
  },
  {
   "cell_type": "code",
   "execution_count": 1139,
   "metadata": {},
   "outputs": [
    {
     "data": {
      "text/plain": [
       "0.7727272727272727"
      ]
     },
     "execution_count": 1139,
     "metadata": {},
     "output_type": "execute_result"
    }
   ],
   "source": [
    "fprate, tprate, thresholds = roc_curve(y_test_single, y_pred_prob1, pos_label=1)\n",
    "auc(fprate, tprate)"
   ]
  },
  {
   "cell_type": "code",
   "execution_count": 1140,
   "metadata": {},
   "outputs": [
    {
     "data": {
      "text/plain": [
       "['0.52', '1.00']"
      ]
     },
     "execution_count": 1140,
     "metadata": {},
     "output_type": "execute_result"
    }
   ],
   "source": [
    "#ROC_AUC\n",
    "[\"{0:0.2f}\".format(i) for i in AUC_CI(y_test_single, y_pred_prob1)]"
   ]
  },
  {
   "cell_type": "code",
   "execution_count": 1141,
   "metadata": {},
   "outputs": [
    {
     "data": {
      "text/plain": [
       "0.7272727272727273"
      ]
     },
     "execution_count": 1141,
     "metadata": {},
     "output_type": "execute_result"
    }
   ],
   "source": [
    "#recall\n",
    "tpr(y_test_single, y_pred)"
   ]
  },
  {
   "cell_type": "code",
   "execution_count": 1142,
   "metadata": {},
   "outputs": [
    {
     "data": {
      "text/plain": [
       "0.5"
      ]
     },
     "execution_count": 1142,
     "metadata": {},
     "output_type": "execute_result"
    }
   ],
   "source": [
    "#specificity\n",
    "tnr(y_test_single, pd.Series(y_pred))"
   ]
  },
  {
   "cell_type": "code",
   "execution_count": 1143,
   "metadata": {},
   "outputs": [
    {
     "data": {
      "text/plain": [
       "0.6666666666666666"
      ]
     },
     "execution_count": 1143,
     "metadata": {},
     "output_type": "execute_result"
    }
   ],
   "source": [
    "#accuracy\n",
    "accuracy(y_test_single, y_pred)"
   ]
  },
  {
   "cell_type": "code",
   "execution_count": 1144,
   "metadata": {},
   "outputs": [
    {
     "data": {
      "text/plain": [
       "0.8"
      ]
     },
     "execution_count": 1144,
     "metadata": {},
     "output_type": "execute_result"
    }
   ],
   "source": [
    "ppv(y_test_single, y_pred)"
   ]
  },
  {
   "cell_type": "code",
   "execution_count": 1145,
   "metadata": {},
   "outputs": [
    {
     "data": {
      "text/plain": [
       "0.4"
      ]
     },
     "execution_count": 1145,
     "metadata": {},
     "output_type": "execute_result"
    }
   ],
   "source": [
    "npv(y_test_single, y_pred)"
   ]
  },
  {
   "cell_type": "markdown",
   "metadata": {},
   "source": [
    "# End of File"
   ]
  },
  {
   "cell_type": "code",
   "execution_count": null,
   "metadata": {},
   "outputs": [],
   "source": []
  }
 ],
 "metadata": {
  "kernelspec": {
   "display_name": "Python 3 (ipykernel)",
   "language": "python",
   "name": "python3"
  },
  "language_info": {
   "codemirror_mode": {
    "name": "ipython",
    "version": 3
   },
   "file_extension": ".py",
   "mimetype": "text/x-python",
   "name": "python",
   "nbconvert_exporter": "python",
   "pygments_lexer": "ipython3",
   "version": "3.10.0"
  }
 },
 "nbformat": 4,
 "nbformat_minor": 4
}
