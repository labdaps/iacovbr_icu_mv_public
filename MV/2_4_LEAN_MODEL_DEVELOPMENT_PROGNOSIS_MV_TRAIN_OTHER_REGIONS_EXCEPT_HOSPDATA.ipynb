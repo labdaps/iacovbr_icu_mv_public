{
 "cells": [
  {
   "cell_type": "markdown",
   "metadata": {},
   "source": [
    "# 2) IACOV - Model Development for Prognosis - MV\n",
    "## Strategy 4) Training on hospitals of other regions and testing on 30% of a specific hospital"
   ]
  },
  {
   "cell_type": "code",
   "execution_count": 1,
   "metadata": {},
   "outputs": [],
   "source": [
    "# !pip install npm nodejs"
   ]
  },
  {
   "cell_type": "code",
   "execution_count": 2,
   "metadata": {},
   "outputs": [],
   "source": [
    "# !jupyter lab clean\n",
    "# !jupyter lab build"
   ]
  },
  {
   "cell_type": "code",
   "execution_count": 3,
   "metadata": {},
   "outputs": [
    {
     "name": "stderr",
     "output_type": "stream",
     "text": [
      "C:\\Users\\carin\\AppData\\Local\\Temp\\ipykernel_20872\\2017038996.py:1: DeprecationWarning: \n",
      "Pyarrow will become a required dependency of pandas in the next major release of pandas (pandas 3.0),\n",
      "(to allow more performant data types, such as the Arrow string type, and better interoperability with other libraries)\n",
      "but was not found to be installed on your system.\n",
      "If this would cause problems for you,\n",
      "please provide us feedback at https://github.com/pandas-dev/pandas/issues/54466\n",
      "        \n",
      "  import pandas as pd\n"
     ]
    }
   ],
   "source": [
    "import pandas as pd\n",
    "import matplotlib.pyplot as plt\n",
    "import seaborn as sns\n",
    "import os\n",
    "import numpy as np\n",
    "\n",
    "import warnings\n",
    "warnings.filterwarnings(\"ignore\")\n",
    "\n",
    "# para evitarmos a exibição dos dados em notacao científica\n",
    "pd.set_option('display.float_format', lambda x: '%.3f' % x)\n",
    "\n",
    "#comment next line to not use MLFlow for cleaning data\n",
    "from MLFlow_Classification import *\n",
    "from MLFlow_Utils import *"
   ]
  },
  {
   "cell_type": "markdown",
   "metadata": {},
   "source": [
    "### This code uses just 14 hospitals, since ICU or MV has no variation for 4 hospitals\n",
    "#### - The code that prepares the data to run all strategies for ICU and MV is: PREPARING_DATA_TO_UCI_MV_ANALYSES\n",
    "#### - df_iacov_en.csv (used for death) was replaced here by df_iacov_model_lean_14hosp.csv\n",
    "#### - put df_iacov_model_lean_14hosp.csv in same folder as this notebook"
   ]
  },
  {
   "cell_type": "code",
   "execution_count": 4,
   "metadata": {},
   "outputs": [
    {
     "data": {
      "text/plain": [
       "(6046, 30)"
      ]
     },
     "execution_count": 4,
     "metadata": {},
     "output_type": "execute_result"
    }
   ],
   "source": [
    "#Put csv in same folder as this notebook\n",
    "dataset = pd.read_csv(\"df_iacov_model_lean_14hosp.csv\", delimiter=\";\")\n",
    "df_iacov_model = pd.DataFrame(dataset)\n",
    "df_iacov_model.shape"
   ]
  },
  {
   "cell_type": "code",
   "execution_count": 5,
   "metadata": {},
   "outputs": [
    {
     "data": {
      "text/plain": [
       "Index(['city_hospital', 'age', 'male', 'race', 'heart_rate', 'resp_rate',\n",
       "       'sys_press', 'dias_press', 'mean_press', 'temp', 'hemoglobin',\n",
       "       'platelets', 'hematocrit', 'red_cells_count', 'hcm', 'rdw', 'mcv',\n",
       "       'leukocytes', 'neutrophil', 'lymphocytes', 'basophils', 'eosinophils',\n",
       "       'monocytes', 'crp', 'death', 'icu', 'mv', 'state', 'region', 'excluir'],\n",
       "      dtype='object')"
      ]
     },
     "execution_count": 5,
     "metadata": {},
     "output_type": "execute_result"
    }
   ],
   "source": [
    "df_iacov_model.columns"
   ]
  },
  {
   "cell_type": "markdown",
   "metadata": {},
   "source": [
    "## 2.1) Assign binary outcome ICU to be predicted"
   ]
  },
  {
   "cell_type": "markdown",
   "metadata": {},
   "source": [
    "### 2.1.1) Maintain essential variables (LEAN Model)"
   ]
  },
  {
   "cell_type": "code",
   "execution_count": 6,
   "metadata": {},
   "outputs": [
    {
     "data": {
      "text/plain": [
       "(6046, 26)"
      ]
     },
     "execution_count": 6,
     "metadata": {},
     "output_type": "execute_result"
    }
   ],
   "source": [
    "#22 predictors + outcome + Region/State\n",
    "df_iacov_model_lean = df_iacov_model[['city_hospital'\n",
    "                                      ,'age'\n",
    "                                      ,'male'\n",
    "                                      ,'heart_rate'\n",
    "                                      ,'resp_rate'\n",
    "                                      ,'sys_press'\n",
    "                                      ,'dias_press'\n",
    "                                      ,'mean_press'\n",
    "                                      ,'temp'\n",
    "                                      ,'hemoglobin'\n",
    "                                      ,'platelets'\n",
    "                                      ,'hematocrit'\n",
    "                                      ,'red_cells_count'\n",
    "                                      ,'hcm'\n",
    "                                      ,'rdw'\n",
    "                                      ,'mcv'\n",
    "                                      ,'leukocytes'\n",
    "                                      ,'neutrophil'\n",
    "                                      ,'lymphocytes'\n",
    "                                      ,'basophils'\n",
    "                                      ,'eosinophils'\n",
    "                                      ,'monocytes'\n",
    "                                      ,'crp'\n",
    "                                      ,'mv'\n",
    "                                      ,'region' #for filtering purposes\n",
    "                                      ,'state' #for filtering purposes\n",
    "                                     ]]\n",
    "df_iacov_model_lean.shape"
   ]
  },
  {
   "cell_type": "code",
   "execution_count": 7,
   "metadata": {},
   "outputs": [
    {
     "data": {
      "text/plain": [
       "city_hospital\n",
       "HC_USP                        1500\n",
       "HOSPPORTUGUES_SALVADOR        1359\n",
       "CEARA_UNIMED                   845\n",
       "HRL_2021_02                    539\n",
       "HMV_POA_02                     456\n",
       "RIO_DE_JANEIRO_UNIMED          449\n",
       "HOSPSANTAJULIA_MANAUS          247\n",
       "HOSPSANTACATARINABLUMENAU      148\n",
       "HOSPSAOFRANCISCO_MOGIGUACU     124\n",
       "PERNAMBUCO_FULL                112\n",
       "PELOTAS                         91\n",
       "CEARA_HUWC                      73\n",
       "HEVV                            56\n",
       "AMAZONAS_HUGV                   47\n",
       "Name: count, dtype: int64"
      ]
     },
     "execution_count": 7,
     "metadata": {},
     "output_type": "execute_result"
    }
   ],
   "source": [
    "df_iacov_model_lean.city_hospital.value_counts()"
   ]
  },
  {
   "cell_type": "code",
   "execution_count": 8,
   "metadata": {},
   "outputs": [],
   "source": [
    "df_iacov_model_lean.to_csv('df_iacov_model_lean.csv', sep=';', index=False)"
   ]
  },
  {
   "cell_type": "markdown",
   "metadata": {},
   "source": [
    "### 2.1.2) Filter a specific hospital"
   ]
  },
  {
   "cell_type": "code",
   "execution_count": 9,
   "metadata": {},
   "outputs": [
    {
     "data": {
      "text/plain": [
       "(6046, 26)"
      ]
     },
     "execution_count": 9,
     "metadata": {},
     "output_type": "execute_result"
    }
   ],
   "source": [
    "#Put csv in same folder as this notebook\n",
    "df_all_hospitals = pd.read_csv(\"df_iacov_model_lean.csv\", delimiter=\";\", decimal=\".\")\n",
    "df_all_hospitals.shape"
   ]
  },
  {
   "cell_type": "code",
   "execution_count": 10,
   "metadata": {},
   "outputs": [
    {
     "data": {
      "text/plain": [
       "Index(['city_hospital', 'age', 'male', 'heart_rate', 'resp_rate', 'sys_press',\n",
       "       'dias_press', 'mean_press', 'temp', 'hemoglobin', 'platelets',\n",
       "       'hematocrit', 'red_cells_count', 'hcm', 'rdw', 'mcv', 'leukocytes',\n",
       "       'neutrophil', 'lymphocytes', 'basophils', 'eosinophils', 'monocytes',\n",
       "       'crp', 'mv', 'region', 'state'],\n",
       "      dtype='object')"
      ]
     },
     "execution_count": 10,
     "metadata": {},
     "output_type": "execute_result"
    }
   ],
   "source": [
    "df_all_hospitals.columns"
   ]
  },
  {
   "cell_type": "code",
   "execution_count": 11,
   "metadata": {},
   "outputs": [
    {
     "data": {
      "text/plain": [
       "region\n",
       "NORDESTE       2389\n",
       "SUDESTE        2129\n",
       "SUL             695\n",
       "CENTROOESTE     539\n",
       "NORTE           294\n",
       "Name: count, dtype: int64"
      ]
     },
     "execution_count": 11,
     "metadata": {},
     "output_type": "execute_result"
    }
   ],
   "source": [
    "df_all_hospitals.region.value_counts()"
   ]
  },
  {
   "cell_type": "code",
   "execution_count": 12,
   "metadata": {},
   "outputs": [
    {
     "data": {
      "text/html": [
       "<div>\n",
       "<style scoped>\n",
       "    .dataframe tbody tr th:only-of-type {\n",
       "        vertical-align: middle;\n",
       "    }\n",
       "\n",
       "    .dataframe tbody tr th {\n",
       "        vertical-align: top;\n",
       "    }\n",
       "\n",
       "    .dataframe thead th {\n",
       "        text-align: right;\n",
       "    }\n",
       "</style>\n",
       "<table border=\"1\" class=\"dataframe\">\n",
       "  <thead>\n",
       "    <tr style=\"text-align: right;\">\n",
       "      <th></th>\n",
       "      <th>Missing Values</th>\n",
       "      <th>% missing of Total Values</th>\n",
       "      <th># Unique Values</th>\n",
       "      <th># Values as [0]</th>\n",
       "      <th>datatype</th>\n",
       "      <th>skew</th>\n",
       "      <th>count</th>\n",
       "      <th>mean</th>\n",
       "      <th>std</th>\n",
       "      <th>min</th>\n",
       "      <th>25%</th>\n",
       "      <th>50%</th>\n",
       "      <th>75%</th>\n",
       "      <th>max</th>\n",
       "    </tr>\n",
       "  </thead>\n",
       "  <tbody>\n",
       "    <tr>\n",
       "      <th>city_hospital</th>\n",
       "      <td>0</td>\n",
       "      <td>0.000</td>\n",
       "      <td>14</td>\n",
       "      <td>0</td>\n",
       "      <td>object</td>\n",
       "      <td>NaN</td>\n",
       "      <td>NaN</td>\n",
       "      <td>NaN</td>\n",
       "      <td>NaN</td>\n",
       "      <td>NaN</td>\n",
       "      <td>NaN</td>\n",
       "      <td>NaN</td>\n",
       "      <td>NaN</td>\n",
       "      <td>NaN</td>\n",
       "    </tr>\n",
       "    <tr>\n",
       "      <th>age</th>\n",
       "      <td>0</td>\n",
       "      <td>0.000</td>\n",
       "      <td>98</td>\n",
       "      <td>0</td>\n",
       "      <td>float64</td>\n",
       "      <td>-0.060</td>\n",
       "      <td>6046.000</td>\n",
       "      <td>57.521</td>\n",
       "      <td>17.869</td>\n",
       "      <td>18.000</td>\n",
       "      <td>44.000</td>\n",
       "      <td>58.000</td>\n",
       "      <td>71.000</td>\n",
       "      <td>105.000</td>\n",
       "    </tr>\n",
       "    <tr>\n",
       "      <th>male</th>\n",
       "      <td>0</td>\n",
       "      <td>0.000</td>\n",
       "      <td>2</td>\n",
       "      <td>2790</td>\n",
       "      <td>float64</td>\n",
       "      <td>-0.155</td>\n",
       "      <td>6046.000</td>\n",
       "      <td>0.539</td>\n",
       "      <td>0.499</td>\n",
       "      <td>0.000</td>\n",
       "      <td>0.000</td>\n",
       "      <td>1.000</td>\n",
       "      <td>1.000</td>\n",
       "      <td>1.000</td>\n",
       "    </tr>\n",
       "    <tr>\n",
       "      <th>heart_rate</th>\n",
       "      <td>809</td>\n",
       "      <td>13.381</td>\n",
       "      <td>183</td>\n",
       "      <td>0</td>\n",
       "      <td>float64</td>\n",
       "      <td>0.611</td>\n",
       "      <td>5237.000</td>\n",
       "      <td>85.689</td>\n",
       "      <td>17.209</td>\n",
       "      <td>13.000</td>\n",
       "      <td>75.000</td>\n",
       "      <td>85.000</td>\n",
       "      <td>96.000</td>\n",
       "      <td>233.000</td>\n",
       "    </tr>\n",
       "    <tr>\n",
       "      <th>resp_rate</th>\n",
       "      <td>1457</td>\n",
       "      <td>24.099</td>\n",
       "      <td>69</td>\n",
       "      <td>1</td>\n",
       "      <td>float64</td>\n",
       "      <td>2.897</td>\n",
       "      <td>4589.000</td>\n",
       "      <td>21.881</td>\n",
       "      <td>6.380</td>\n",
       "      <td>0.000</td>\n",
       "      <td>18.000</td>\n",
       "      <td>20.000</td>\n",
       "      <td>24.000</td>\n",
       "      <td>108.000</td>\n",
       "    </tr>\n",
       "    <tr>\n",
       "      <th>sys_press</th>\n",
       "      <td>1336</td>\n",
       "      <td>22.097</td>\n",
       "      <td>215</td>\n",
       "      <td>0</td>\n",
       "      <td>float64</td>\n",
       "      <td>-0.279</td>\n",
       "      <td>4710.000</td>\n",
       "      <td>124.054</td>\n",
       "      <td>22.791</td>\n",
       "      <td>10.000</td>\n",
       "      <td>110.000</td>\n",
       "      <td>122.000</td>\n",
       "      <td>138.000</td>\n",
       "      <td>242.000</td>\n",
       "    </tr>\n",
       "    <tr>\n",
       "      <th>dias_press</th>\n",
       "      <td>1325</td>\n",
       "      <td>21.915</td>\n",
       "      <td>150</td>\n",
       "      <td>0</td>\n",
       "      <td>float64</td>\n",
       "      <td>-0.361</td>\n",
       "      <td>4721.000</td>\n",
       "      <td>74.608</td>\n",
       "      <td>14.626</td>\n",
       "      <td>6.000</td>\n",
       "      <td>67.000</td>\n",
       "      <td>76.000</td>\n",
       "      <td>81.000</td>\n",
       "      <td>141.000</td>\n",
       "    </tr>\n",
       "    <tr>\n",
       "      <th>mean_press</th>\n",
       "      <td>1366</td>\n",
       "      <td>22.593</td>\n",
       "      <td>1452</td>\n",
       "      <td>326</td>\n",
       "      <td>float64</td>\n",
       "      <td>-1.751</td>\n",
       "      <td>4680.000</td>\n",
       "      <td>83.731</td>\n",
       "      <td>28.475</td>\n",
       "      <td>0.000</td>\n",
       "      <td>78.981</td>\n",
       "      <td>90.000</td>\n",
       "      <td>98.648</td>\n",
       "      <td>166.000</td>\n",
       "    </tr>\n",
       "    <tr>\n",
       "      <th>temp</th>\n",
       "      <td>1173</td>\n",
       "      <td>19.401</td>\n",
       "      <td>128</td>\n",
       "      <td>1</td>\n",
       "      <td>float64</td>\n",
       "      <td>62.972</td>\n",
       "      <td>4873.000</td>\n",
       "      <td>36.430</td>\n",
       "      <td>4.976</td>\n",
       "      <td>0.000</td>\n",
       "      <td>36.000</td>\n",
       "      <td>36.300</td>\n",
       "      <td>36.800</td>\n",
       "      <td>372.000</td>\n",
       "    </tr>\n",
       "    <tr>\n",
       "      <th>hemoglobin</th>\n",
       "      <td>1904</td>\n",
       "      <td>31.492</td>\n",
       "      <td>226</td>\n",
       "      <td>0</td>\n",
       "      <td>float64</td>\n",
       "      <td>-0.628</td>\n",
       "      <td>4142.000</td>\n",
       "      <td>12.752</td>\n",
       "      <td>2.189</td>\n",
       "      <td>1.400</td>\n",
       "      <td>11.692</td>\n",
       "      <td>13.000</td>\n",
       "      <td>14.200</td>\n",
       "      <td>30.600</td>\n",
       "    </tr>\n",
       "    <tr>\n",
       "      <th>platelets</th>\n",
       "      <td>744</td>\n",
       "      <td>12.306</td>\n",
       "      <td>1036</td>\n",
       "      <td>0</td>\n",
       "      <td>float64</td>\n",
       "      <td>0.395</td>\n",
       "      <td>5302.000</td>\n",
       "      <td>235701.617</td>\n",
       "      <td>143771.202</td>\n",
       "      <td>7.000</td>\n",
       "      <td>148000.000</td>\n",
       "      <td>217000.000</td>\n",
       "      <td>321750.000</td>\n",
       "      <td>992000.000</td>\n",
       "    </tr>\n",
       "    <tr>\n",
       "      <th>hematocrit</th>\n",
       "      <td>2350</td>\n",
       "      <td>38.869</td>\n",
       "      <td>475</td>\n",
       "      <td>0</td>\n",
       "      <td>float64</td>\n",
       "      <td>-0.539</td>\n",
       "      <td>3696.000</td>\n",
       "      <td>38.436</td>\n",
       "      <td>6.402</td>\n",
       "      <td>1.000</td>\n",
       "      <td>35.100</td>\n",
       "      <td>39.200</td>\n",
       "      <td>42.500</td>\n",
       "      <td>77.000</td>\n",
       "    </tr>\n",
       "    <tr>\n",
       "      <th>red_cells_count</th>\n",
       "      <td>2684</td>\n",
       "      <td>44.393</td>\n",
       "      <td>578</td>\n",
       "      <td>0</td>\n",
       "      <td>float64</td>\n",
       "      <td>-0.274</td>\n",
       "      <td>3362.000</td>\n",
       "      <td>3.915</td>\n",
       "      <td>1.168</td>\n",
       "      <td>0.290</td>\n",
       "      <td>3.250</td>\n",
       "      <td>4.210</td>\n",
       "      <td>4.717</td>\n",
       "      <td>14.500</td>\n",
       "    </tr>\n",
       "    <tr>\n",
       "      <th>hcm</th>\n",
       "      <td>1191</td>\n",
       "      <td>19.699</td>\n",
       "      <td>689</td>\n",
       "      <td>0</td>\n",
       "      <td>float64</td>\n",
       "      <td>3.528</td>\n",
       "      <td>4855.000</td>\n",
       "      <td>29.095</td>\n",
       "      <td>2.939</td>\n",
       "      <td>10.000</td>\n",
       "      <td>27.800</td>\n",
       "      <td>29.200</td>\n",
       "      <td>30.500</td>\n",
       "      <td>88.100</td>\n",
       "    </tr>\n",
       "    <tr>\n",
       "      <th>rdw</th>\n",
       "      <td>1192</td>\n",
       "      <td>19.716</td>\n",
       "      <td>227</td>\n",
       "      <td>0</td>\n",
       "      <td>float64</td>\n",
       "      <td>11.869</td>\n",
       "      <td>4854.000</td>\n",
       "      <td>13.837</td>\n",
       "      <td>2.407</td>\n",
       "      <td>3.000</td>\n",
       "      <td>12.700</td>\n",
       "      <td>13.500</td>\n",
       "      <td>14.400</td>\n",
       "      <td>86.100</td>\n",
       "    </tr>\n",
       "    <tr>\n",
       "      <th>mcv</th>\n",
       "      <td>1185</td>\n",
       "      <td>19.600</td>\n",
       "      <td>1029</td>\n",
       "      <td>0</td>\n",
       "      <td>float64</td>\n",
       "      <td>0.227</td>\n",
       "      <td>4861.000</td>\n",
       "      <td>87.665</td>\n",
       "      <td>7.667</td>\n",
       "      <td>8.150</td>\n",
       "      <td>83.700</td>\n",
       "      <td>87.600</td>\n",
       "      <td>91.600</td>\n",
       "      <td>201.400</td>\n",
       "    </tr>\n",
       "    <tr>\n",
       "      <th>leukocytes</th>\n",
       "      <td>741</td>\n",
       "      <td>12.256</td>\n",
       "      <td>2268</td>\n",
       "      <td>0</td>\n",
       "      <td>float64</td>\n",
       "      <td>20.605</td>\n",
       "      <td>5305.000</td>\n",
       "      <td>7035.747</td>\n",
       "      <td>9241.209</td>\n",
       "      <td>0.760</td>\n",
       "      <td>3680.000</td>\n",
       "      <td>6210.000</td>\n",
       "      <td>9233.000</td>\n",
       "      <td>365920.000</td>\n",
       "    </tr>\n",
       "    <tr>\n",
       "      <th>neutrophil</th>\n",
       "      <td>2074</td>\n",
       "      <td>34.304</td>\n",
       "      <td>2403</td>\n",
       "      <td>3</td>\n",
       "      <td>float64</td>\n",
       "      <td>1.830</td>\n",
       "      <td>3972.000</td>\n",
       "      <td>6143.968</td>\n",
       "      <td>4259.737</td>\n",
       "      <td>0.000</td>\n",
       "      <td>3180.000</td>\n",
       "      <td>5200.000</td>\n",
       "      <td>8060.000</td>\n",
       "      <td>47636.000</td>\n",
       "    </tr>\n",
       "    <tr>\n",
       "      <th>lymphocytes</th>\n",
       "      <td>1404</td>\n",
       "      <td>23.222</td>\n",
       "      <td>1865</td>\n",
       "      <td>5</td>\n",
       "      <td>float64</td>\n",
       "      <td>15.570</td>\n",
       "      <td>4642.000</td>\n",
       "      <td>1031.263</td>\n",
       "      <td>1028.587</td>\n",
       "      <td>0.000</td>\n",
       "      <td>529.250</td>\n",
       "      <td>900.000</td>\n",
       "      <td>1378.250</td>\n",
       "      <td>42120.000</td>\n",
       "    </tr>\n",
       "    <tr>\n",
       "      <th>basophils</th>\n",
       "      <td>1120</td>\n",
       "      <td>18.525</td>\n",
       "      <td>252</td>\n",
       "      <td>2087</td>\n",
       "      <td>float64</td>\n",
       "      <td>5.342</td>\n",
       "      <td>4926.000</td>\n",
       "      <td>7.509</td>\n",
       "      <td>18.532</td>\n",
       "      <td>0.000</td>\n",
       "      <td>0.000</td>\n",
       "      <td>0.010</td>\n",
       "      <td>10.000</td>\n",
       "      <td>259.200</td>\n",
       "    </tr>\n",
       "    <tr>\n",
       "      <th>eosinophils</th>\n",
       "      <td>2367</td>\n",
       "      <td>39.150</td>\n",
       "      <td>495</td>\n",
       "      <td>1487</td>\n",
       "      <td>float64</td>\n",
       "      <td>14.977</td>\n",
       "      <td>3679.000</td>\n",
       "      <td>43.517</td>\n",
       "      <td>127.479</td>\n",
       "      <td>0.000</td>\n",
       "      <td>0.000</td>\n",
       "      <td>1.000</td>\n",
       "      <td>46.000</td>\n",
       "      <td>4450.000</td>\n",
       "    </tr>\n",
       "    <tr>\n",
       "      <th>monocytes</th>\n",
       "      <td>841</td>\n",
       "      <td>13.910</td>\n",
       "      <td>1450</td>\n",
       "      <td>14</td>\n",
       "      <td>float64</td>\n",
       "      <td>2.534</td>\n",
       "      <td>5205.000</td>\n",
       "      <td>354.765</td>\n",
       "      <td>375.844</td>\n",
       "      <td>0.000</td>\n",
       "      <td>0.930</td>\n",
       "      <td>310.000</td>\n",
       "      <td>584.000</td>\n",
       "      <td>7243.000</td>\n",
       "    </tr>\n",
       "    <tr>\n",
       "      <th>crp</th>\n",
       "      <td>1383</td>\n",
       "      <td>22.875</td>\n",
       "      <td>2986</td>\n",
       "      <td>0</td>\n",
       "      <td>float64</td>\n",
       "      <td>3.137</td>\n",
       "      <td>4663.000</td>\n",
       "      <td>36.696</td>\n",
       "      <td>71.738</td>\n",
       "      <td>0.015</td>\n",
       "      <td>1.911</td>\n",
       "      <td>7.800</td>\n",
       "      <td>28.100</td>\n",
       "      <td>708.300</td>\n",
       "    </tr>\n",
       "    <tr>\n",
       "      <th>mv</th>\n",
       "      <td>0</td>\n",
       "      <td>0.000</td>\n",
       "      <td>2</td>\n",
       "      <td>4343</td>\n",
       "      <td>int64</td>\n",
       "      <td>0.971</td>\n",
       "      <td>6046.000</td>\n",
       "      <td>0.282</td>\n",
       "      <td>0.450</td>\n",
       "      <td>0.000</td>\n",
       "      <td>0.000</td>\n",
       "      <td>0.000</td>\n",
       "      <td>1.000</td>\n",
       "      <td>1.000</td>\n",
       "    </tr>\n",
       "    <tr>\n",
       "      <th>region</th>\n",
       "      <td>0</td>\n",
       "      <td>0.000</td>\n",
       "      <td>5</td>\n",
       "      <td>0</td>\n",
       "      <td>object</td>\n",
       "      <td>NaN</td>\n",
       "      <td>NaN</td>\n",
       "      <td>NaN</td>\n",
       "      <td>NaN</td>\n",
       "      <td>NaN</td>\n",
       "      <td>NaN</td>\n",
       "      <td>NaN</td>\n",
       "      <td>NaN</td>\n",
       "      <td>NaN</td>\n",
       "    </tr>\n",
       "    <tr>\n",
       "      <th>state</th>\n",
       "      <td>0</td>\n",
       "      <td>0.000</td>\n",
       "      <td>10</td>\n",
       "      <td>0</td>\n",
       "      <td>object</td>\n",
       "      <td>NaN</td>\n",
       "      <td>NaN</td>\n",
       "      <td>NaN</td>\n",
       "      <td>NaN</td>\n",
       "      <td>NaN</td>\n",
       "      <td>NaN</td>\n",
       "      <td>NaN</td>\n",
       "      <td>NaN</td>\n",
       "      <td>NaN</td>\n",
       "    </tr>\n",
       "  </tbody>\n",
       "</table>\n",
       "</div>"
      ],
      "text/plain": [
       "                 Missing Values  % missing of Total Values  # Unique Values  \\\n",
       "city_hospital                 0                      0.000               14   \n",
       "age                           0                      0.000               98   \n",
       "male                          0                      0.000                2   \n",
       "heart_rate                  809                     13.381              183   \n",
       "resp_rate                  1457                     24.099               69   \n",
       "sys_press                  1336                     22.097              215   \n",
       "dias_press                 1325                     21.915              150   \n",
       "mean_press                 1366                     22.593             1452   \n",
       "temp                       1173                     19.401              128   \n",
       "hemoglobin                 1904                     31.492              226   \n",
       "platelets                   744                     12.306             1036   \n",
       "hematocrit                 2350                     38.869              475   \n",
       "red_cells_count            2684                     44.393              578   \n",
       "hcm                        1191                     19.699              689   \n",
       "rdw                        1192                     19.716              227   \n",
       "mcv                        1185                     19.600             1029   \n",
       "leukocytes                  741                     12.256             2268   \n",
       "neutrophil                 2074                     34.304             2403   \n",
       "lymphocytes                1404                     23.222             1865   \n",
       "basophils                  1120                     18.525              252   \n",
       "eosinophils                2367                     39.150              495   \n",
       "monocytes                   841                     13.910             1450   \n",
       "crp                        1383                     22.875             2986   \n",
       "mv                            0                      0.000                2   \n",
       "region                        0                      0.000                5   \n",
       "state                         0                      0.000               10   \n",
       "\n",
       "                 # Values as [0] datatype   skew    count       mean  \\\n",
       "city_hospital                  0   object    NaN      NaN        NaN   \n",
       "age                            0  float64 -0.060 6046.000     57.521   \n",
       "male                        2790  float64 -0.155 6046.000      0.539   \n",
       "heart_rate                     0  float64  0.611 5237.000     85.689   \n",
       "resp_rate                      1  float64  2.897 4589.000     21.881   \n",
       "sys_press                      0  float64 -0.279 4710.000    124.054   \n",
       "dias_press                     0  float64 -0.361 4721.000     74.608   \n",
       "mean_press                   326  float64 -1.751 4680.000     83.731   \n",
       "temp                           1  float64 62.972 4873.000     36.430   \n",
       "hemoglobin                     0  float64 -0.628 4142.000     12.752   \n",
       "platelets                      0  float64  0.395 5302.000 235701.617   \n",
       "hematocrit                     0  float64 -0.539 3696.000     38.436   \n",
       "red_cells_count                0  float64 -0.274 3362.000      3.915   \n",
       "hcm                            0  float64  3.528 4855.000     29.095   \n",
       "rdw                            0  float64 11.869 4854.000     13.837   \n",
       "mcv                            0  float64  0.227 4861.000     87.665   \n",
       "leukocytes                     0  float64 20.605 5305.000   7035.747   \n",
       "neutrophil                     3  float64  1.830 3972.000   6143.968   \n",
       "lymphocytes                    5  float64 15.570 4642.000   1031.263   \n",
       "basophils                   2087  float64  5.342 4926.000      7.509   \n",
       "eosinophils                 1487  float64 14.977 3679.000     43.517   \n",
       "monocytes                     14  float64  2.534 5205.000    354.765   \n",
       "crp                            0  float64  3.137 4663.000     36.696   \n",
       "mv                          4343    int64  0.971 6046.000      0.282   \n",
       "region                         0   object    NaN      NaN        NaN   \n",
       "state                          0   object    NaN      NaN        NaN   \n",
       "\n",
       "                       std    min        25%        50%        75%        max  \n",
       "city_hospital          NaN    NaN        NaN        NaN        NaN        NaN  \n",
       "age                 17.869 18.000     44.000     58.000     71.000    105.000  \n",
       "male                 0.499  0.000      0.000      1.000      1.000      1.000  \n",
       "heart_rate          17.209 13.000     75.000     85.000     96.000    233.000  \n",
       "resp_rate            6.380  0.000     18.000     20.000     24.000    108.000  \n",
       "sys_press           22.791 10.000    110.000    122.000    138.000    242.000  \n",
       "dias_press          14.626  6.000     67.000     76.000     81.000    141.000  \n",
       "mean_press          28.475  0.000     78.981     90.000     98.648    166.000  \n",
       "temp                 4.976  0.000     36.000     36.300     36.800    372.000  \n",
       "hemoglobin           2.189  1.400     11.692     13.000     14.200     30.600  \n",
       "platelets       143771.202  7.000 148000.000 217000.000 321750.000 992000.000  \n",
       "hematocrit           6.402  1.000     35.100     39.200     42.500     77.000  \n",
       "red_cells_count      1.168  0.290      3.250      4.210      4.717     14.500  \n",
       "hcm                  2.939 10.000     27.800     29.200     30.500     88.100  \n",
       "rdw                  2.407  3.000     12.700     13.500     14.400     86.100  \n",
       "mcv                  7.667  8.150     83.700     87.600     91.600    201.400  \n",
       "leukocytes        9241.209  0.760   3680.000   6210.000   9233.000 365920.000  \n",
       "neutrophil        4259.737  0.000   3180.000   5200.000   8060.000  47636.000  \n",
       "lymphocytes       1028.587  0.000    529.250    900.000   1378.250  42120.000  \n",
       "basophils           18.532  0.000      0.000      0.010     10.000    259.200  \n",
       "eosinophils        127.479  0.000      0.000      1.000     46.000   4450.000  \n",
       "monocytes          375.844  0.000      0.930    310.000    584.000   7243.000  \n",
       "crp                 71.738  0.015      1.911      7.800     28.100    708.300  \n",
       "mv                   0.450  0.000      0.000      0.000      1.000      1.000  \n",
       "region                 NaN    NaN        NaN        NaN        NaN        NaN  \n",
       "state                  NaN    NaN        NaN        NaN        NaN        NaN  "
      ]
     },
     "execution_count": 12,
     "metadata": {},
     "output_type": "execute_result"
    }
   ],
   "source": [
    "column_summaries(df_all_hospitals)"
   ]
  },
  {
   "cell_type": "code",
   "execution_count": 13,
   "metadata": {},
   "outputs": [],
   "source": [
    "import ipywidgets as widgets\n",
    "from IPython.display import clear_output"
   ]
  },
  {
   "cell_type": "code",
   "execution_count": 14,
   "metadata": {},
   "outputs": [
    {
     "data": {
      "text/plain": [
       "city_hospital\n",
       "HC_USP                        1500\n",
       "HOSPPORTUGUES_SALVADOR        1359\n",
       "CEARA_UNIMED                   845\n",
       "HRL_2021_02                    539\n",
       "HMV_POA_02                     456\n",
       "RIO_DE_JANEIRO_UNIMED          449\n",
       "HOSPSANTAJULIA_MANAUS          247\n",
       "HOSPSANTACATARINABLUMENAU      148\n",
       "HOSPSAOFRANCISCO_MOGIGUACU     124\n",
       "PERNAMBUCO_FULL                112\n",
       "PELOTAS                         91\n",
       "CEARA_HUWC                      73\n",
       "HEVV                            56\n",
       "AMAZONAS_HUGV                   47\n",
       "Name: count, dtype: int64"
      ]
     },
     "execution_count": 14,
     "metadata": {},
     "output_type": "execute_result"
    }
   ],
   "source": [
    "df_all_hospitals.city_hospital.value_counts()"
   ]
  },
  {
   "cell_type": "code",
   "execution_count": 15,
   "metadata": {},
   "outputs": [],
   "source": [
    "# Hospitals excluded for ICU and MV analyses: 'HOSPSANTACASASP_FULL', 'HOSPGRUPOSANTA', 'HUTRIN_2021_02', 'RIO_DE_JANEIRO_HUCFF'\n",
    "dropdown_hospital = widgets.Dropdown(options = ['Choose a hospital ...'\n",
    "                                                ,'HC_USP'                     #SP\n",
    "                                                ,'HOSPPORTUGUES_SALVADOR'     #BA\n",
    "                                                ,'CEARA_UNIMED'               #CE\n",
    "                                                ,'HRL_2021_02'                #GO - Luiziania\n",
    "                                                ,'HMV_POA_02'                 #RS - Moinhos de Vento\n",
    "                                                ,'RIO_DE_JANEIRO_UNIMED'      #RJ\n",
    "                                                ,'HOSPSANTAJULIA_MANAUS'      #AM\n",
    "                                                ,'HOSPSANTACATARINABLUMENAU'  #SC\n",
    "                                                ,'HOSPSAOFRANCISCO_MOGIGUACU' #SP\n",
    "                                                ,'PERNAMBUCO_FULL'            #PE\n",
    "                                                ,'PELOTAS'                    #RS\n",
    "                                                ,'CEARA_HUWC'                 #CE\n",
    "                                                ,'HEVV'                       #ES - Vila Velha\n",
    "                                                ,'AMAZONAS_HUGV'              #AM\n",
    "#                                                 ,'GHC_02'                     #RS \n",
    "                                               ])"
   ]
  },
  {
   "cell_type": "code",
   "execution_count": 16,
   "metadata": {},
   "outputs": [],
   "source": [
    "specific_hospital = 'Choose a hospital'\n",
    "df_iacov_model_lean = df_all_hospitals\n",
    "\n",
    "def dropdown_hospital_eventhandler(change):\n",
    "    global specific_hospital \n",
    "    specific_hospital = change.new\n",
    "    dropdown_hospital.observe(dropdown_hospital_eventhandler, names='value')"
   ]
  },
  {
   "cell_type": "code",
   "execution_count": 17,
   "metadata": {},
   "outputs": [],
   "source": [
    "dropdown_hospital.observe(dropdown_hospital_eventhandler, names='value')"
   ]
  },
  {
   "cell_type": "markdown",
   "metadata": {},
   "source": [
    "**Select Hospital to train**"
   ]
  },
  {
   "cell_type": "code",
   "execution_count": 18,
   "metadata": {},
   "outputs": [],
   "source": [
    "# !pip install ipywidgets"
   ]
  },
  {
   "cell_type": "code",
   "execution_count": 19,
   "metadata": {},
   "outputs": [],
   "source": [
    "# !jupyter nbextension enable --py widgetsnbextension"
   ]
  },
  {
   "cell_type": "code",
   "execution_count": 20,
   "metadata": {},
   "outputs": [],
   "source": [
    "# !jupyter labextension install @jupyter-widgets/jupyterlab-manager"
   ]
  },
  {
   "cell_type": "code",
   "execution_count": 25,
   "metadata": {
    "scrolled": true
   },
   "outputs": [
    {
     "data": {
      "application/vnd.jupyter.widget-view+json": {
       "model_id": "085aa2a897e84a1cba5dbf2f288e3916",
       "version_major": 2,
       "version_minor": 0
      },
      "text/plain": [
       "Dropdown(index=1, options=('Choose a hospital ...', 'HC_USP', 'HOSPPORTUGUES_SALVADOR', 'CEARA_UNIMED', 'HRL_2…"
      ]
     },
     "metadata": {},
     "output_type": "display_data"
    }
   ],
   "source": [
    "display(dropdown_hospital)"
   ]
  },
  {
   "cell_type": "markdown",
   "metadata": {},
   "source": [
    "**Filter all hospitals except the selected above**"
   ]
  },
  {
   "cell_type": "code",
   "execution_count": 26,
   "metadata": {},
   "outputs": [
    {
     "data": {
      "text/plain": [
       "region\n",
       "NORDESTE       2389\n",
       "SUDESTE        2129\n",
       "SUL             695\n",
       "CENTROOESTE     539\n",
       "NORTE           294\n",
       "Name: count, dtype: int64"
      ]
     },
     "execution_count": 26,
     "metadata": {},
     "output_type": "execute_result"
    }
   ],
   "source": [
    "df_all_hospitals.region.value_counts()"
   ]
  },
  {
   "cell_type": "markdown",
   "metadata": {},
   "source": [
    "**Split train/test of specific Hospital**"
   ]
  },
  {
   "cell_type": "code",
   "execution_count": 27,
   "metadata": {},
   "outputs": [],
   "source": [
    "from sklearn.model_selection import train_test_split"
   ]
  },
  {
   "cell_type": "code",
   "execution_count": 28,
   "metadata": {},
   "outputs": [
    {
     "data": {
      "text/plain": [
       "(1500, 26)"
      ]
     },
     "execution_count": 28,
     "metadata": {},
     "output_type": "execute_result"
    }
   ],
   "source": [
    "#Filter the specific hospital\n",
    "df_iacov_model_lean_specific = df_all_hospitals[df_all_hospitals.city_hospital == specific_hospital]\n",
    "df_iacov_model_lean_specific.shape"
   ]
  },
  {
   "cell_type": "code",
   "execution_count": 29,
   "metadata": {},
   "outputs": [
    {
     "data": {
      "text/plain": [
       "(1500, 25)"
      ]
     },
     "execution_count": 29,
     "metadata": {},
     "output_type": "execute_result"
    }
   ],
   "source": [
    "X_specific = df_iacov_model_lean_specific.drop(['mv'],axis=1)\n",
    "X_specific.shape"
   ]
  },
  {
   "cell_type": "code",
   "execution_count": 30,
   "metadata": {},
   "outputs": [
    {
     "data": {
      "text/plain": [
       "(1500,)"
      ]
     },
     "execution_count": 30,
     "metadata": {},
     "output_type": "execute_result"
    }
   ],
   "source": [
    "y_specific = df_iacov_model_lean_specific['mv']\n",
    "y_specific.shape"
   ]
  },
  {
   "cell_type": "code",
   "execution_count": 31,
   "metadata": {},
   "outputs": [],
   "source": [
    "X_train_specific, X_test_specific, y_train_specific, y_test_specific = train_test_split(X_specific, y_specific, test_size=0.30, random_state=42, stratify=y_specific)"
   ]
  },
  {
   "cell_type": "code",
   "execution_count": 32,
   "metadata": {},
   "outputs": [
    {
     "data": {
      "text/plain": [
       "(1050, 25)"
      ]
     },
     "execution_count": 32,
     "metadata": {},
     "output_type": "execute_result"
    }
   ],
   "source": [
    "X_train_specific.shape"
   ]
  },
  {
   "cell_type": "code",
   "execution_count": 33,
   "metadata": {},
   "outputs": [
    {
     "data": {
      "text/plain": [
       "(450, 25)"
      ]
     },
     "execution_count": 33,
     "metadata": {},
     "output_type": "execute_result"
    }
   ],
   "source": [
    "X_test_specific.shape"
   ]
  },
  {
   "cell_type": "markdown",
   "metadata": {},
   "source": [
    "**Filter all hospitals on regions different as specific** \n",
    "\n",
    "PS: Also removed GHC hospital due to very low positive cases"
   ]
  },
  {
   "cell_type": "code",
   "execution_count": 34,
   "metadata": {},
   "outputs": [],
   "source": [
    "#Filter all hospitals from the \"O T H E R\" region of the left out hospital, except the left out hospital\n",
    "df_iacov_model_lean = df_all_hospitals[ (df_all_hospitals.region != df_all_hospitals[df_all_hospitals.city_hospital==specific_hospital].region.iloc[0]) &\n",
    "                                        (df_all_hospitals.city_hospital != specific_hospital) & (df_all_hospitals.city_hospital != 'GHC_02') ]"
   ]
  },
  {
   "cell_type": "code",
   "execution_count": 35,
   "metadata": {},
   "outputs": [
    {
     "data": {
      "text/plain": [
       "city_hospital\n",
       "HOSPPORTUGUES_SALVADOR       1359\n",
       "CEARA_UNIMED                  845\n",
       "HRL_2021_02                   539\n",
       "HMV_POA_02                    456\n",
       "HOSPSANTAJULIA_MANAUS         247\n",
       "HOSPSANTACATARINABLUMENAU     148\n",
       "PERNAMBUCO_FULL               112\n",
       "PELOTAS                        91\n",
       "CEARA_HUWC                     73\n",
       "AMAZONAS_HUGV                  47\n",
       "Name: count, dtype: int64"
      ]
     },
     "execution_count": 35,
     "metadata": {},
     "output_type": "execute_result"
    }
   ],
   "source": [
    "#check data without specific\n",
    "df_iacov_model_lean.city_hospital.value_counts()"
   ]
  },
  {
   "cell_type": "code",
   "execution_count": 36,
   "metadata": {},
   "outputs": [
    {
     "name": "stdout",
     "output_type": "stream",
     "text": [
      "Specific: HC_USP\n",
      "(training - other regions hospitals) dataset: (3917, 26)\n",
      "\n",
      "(training - specific) dataset: (1050, 25)\n",
      "\n",
      "(test - specific) dataset: (450, 25)\n"
     ]
    }
   ],
   "source": [
    "print(\"Specific: \" + specific_hospital )\n",
    "print(\"(training - other regions hospitals) dataset: \" + str(df_iacov_model_lean.shape))\n",
    "\n",
    "print(\"\\n(training - specific) dataset: {}\".format(X_train_specific.shape))\n",
    "\n",
    "print(\"\\n(test - specific) dataset: {}\".format(X_test_specific.shape))"
   ]
  },
  {
   "cell_type": "markdown",
   "metadata": {},
   "source": [
    "### 2.1.3) Dropping unused variables (All other region hospitals)"
   ]
  },
  {
   "cell_type": "code",
   "execution_count": 37,
   "metadata": {},
   "outputs": [
    {
     "data": {
      "text/plain": [
       "(3917, 25)"
      ]
     },
     "execution_count": 37,
     "metadata": {},
     "output_type": "execute_result"
    }
   ],
   "source": [
    "df_iacov_model_lean = df_iacov_model_lean.drop(['city_hospital'],axis=1)\n",
    "df_iacov_model_lean.shape"
   ]
  },
  {
   "cell_type": "code",
   "execution_count": 38,
   "metadata": {},
   "outputs": [
    {
     "data": {
      "text/plain": [
       "mv\n",
       "0    3076\n",
       "1     841\n",
       "Name: count, dtype: int64"
      ]
     },
     "execution_count": 38,
     "metadata": {},
     "output_type": "execute_result"
    }
   ],
   "source": [
    "#Preencho NAs com 0 \n",
    "df_iacov_model_lean['mv'] = df_iacov_model_lean['mv'].fillna(0)\n",
    "df_iacov_model_lean.mv.value_counts()"
   ]
  },
  {
   "cell_type": "code",
   "execution_count": 39,
   "metadata": {},
   "outputs": [
    {
     "data": {
      "text/plain": [
       "mv\n",
       "0   78.529\n",
       "1   21.471\n",
       "Name: count, dtype: float64"
      ]
     },
     "execution_count": 39,
     "metadata": {},
     "output_type": "execute_result"
    }
   ],
   "source": [
    "#Check proportion of deaths on training data \n",
    "(df_iacov_model_lean.mv.value_counts()/len(df_iacov_model_lean.mv))*100"
   ]
  },
  {
   "cell_type": "markdown",
   "metadata": {},
   "source": [
    "### From now on the outcome will call CLASS"
   ]
  },
  {
   "cell_type": "code",
   "execution_count": 40,
   "metadata": {},
   "outputs": [],
   "source": [
    "df_iacov_model_lean['class'] = df_iacov_model_lean['mv'].astype('int')\n",
    "df_iacov_model_lean = df_iacov_model_lean.drop(['mv'],axis=1)"
   ]
  },
  {
   "cell_type": "markdown",
   "metadata": {},
   "source": [
    "### 2.1.4) Recalculating null mean_press"
   ]
  },
  {
   "cell_type": "code",
   "execution_count": 41,
   "metadata": {},
   "outputs": [],
   "source": [
    "def isNullMeanPressure(row):\n",
    "\n",
    "    if pd.isnull(row['mean_press']):\n",
    "    \n",
    "        if pd.notnull(row['sys_press']) and pd.notnull(row['dias_press']):\n",
    "            return (row['sys_press']+row['dias_press'])/2\n",
    "        else:\n",
    "            return row['mean_press']\n",
    "    else:\n",
    "        return row['mean_press']"
   ]
  },
  {
   "cell_type": "code",
   "execution_count": 42,
   "metadata": {},
   "outputs": [
    {
     "data": {
      "text/html": [
       "<div>\n",
       "<style scoped>\n",
       "    .dataframe tbody tr th:only-of-type {\n",
       "        vertical-align: middle;\n",
       "    }\n",
       "\n",
       "    .dataframe tbody tr th {\n",
       "        vertical-align: top;\n",
       "    }\n",
       "\n",
       "    .dataframe thead th {\n",
       "        text-align: right;\n",
       "    }\n",
       "</style>\n",
       "<table border=\"1\" class=\"dataframe\">\n",
       "  <thead>\n",
       "    <tr style=\"text-align: right;\">\n",
       "      <th></th>\n",
       "      <th>Missing Values</th>\n",
       "      <th>% missing of Total Values</th>\n",
       "      <th># Unique Values</th>\n",
       "      <th># Values as [0]</th>\n",
       "      <th>datatype</th>\n",
       "      <th>skew</th>\n",
       "      <th>count</th>\n",
       "      <th>mean</th>\n",
       "      <th>std</th>\n",
       "      <th>min</th>\n",
       "      <th>25%</th>\n",
       "      <th>50%</th>\n",
       "      <th>75%</th>\n",
       "      <th>max</th>\n",
       "    </tr>\n",
       "  </thead>\n",
       "  <tbody>\n",
       "    <tr>\n",
       "      <th>age</th>\n",
       "      <td>0</td>\n",
       "      <td>0.000</td>\n",
       "      <td>84</td>\n",
       "      <td>0</td>\n",
       "      <td>float64</td>\n",
       "      <td>0.064</td>\n",
       "      <td>3917.000</td>\n",
       "      <td>55.845</td>\n",
       "      <td>18.312</td>\n",
       "      <td>18.000</td>\n",
       "      <td>41.000</td>\n",
       "      <td>56.000</td>\n",
       "      <td>70.000</td>\n",
       "      <td>105.000</td>\n",
       "    </tr>\n",
       "    <tr>\n",
       "      <th>male</th>\n",
       "      <td>0</td>\n",
       "      <td>0.000</td>\n",
       "      <td>2</td>\n",
       "      <td>1857</td>\n",
       "      <td>float64</td>\n",
       "      <td>-0.104</td>\n",
       "      <td>3917.000</td>\n",
       "      <td>0.526</td>\n",
       "      <td>0.499</td>\n",
       "      <td>0.000</td>\n",
       "      <td>0.000</td>\n",
       "      <td>1.000</td>\n",
       "      <td>1.000</td>\n",
       "      <td>1.000</td>\n",
       "    </tr>\n",
       "    <tr>\n",
       "      <th>heart_rate</th>\n",
       "      <td>782</td>\n",
       "      <td>19.964</td>\n",
       "      <td>172</td>\n",
       "      <td>0</td>\n",
       "      <td>float64</td>\n",
       "      <td>0.703</td>\n",
       "      <td>3135.000</td>\n",
       "      <td>85.302</td>\n",
       "      <td>16.912</td>\n",
       "      <td>20.000</td>\n",
       "      <td>75.000</td>\n",
       "      <td>84.000</td>\n",
       "      <td>96.000</td>\n",
       "      <td>233.000</td>\n",
       "    </tr>\n",
       "    <tr>\n",
       "      <th>resp_rate</th>\n",
       "      <td>1365</td>\n",
       "      <td>34.848</td>\n",
       "      <td>59</td>\n",
       "      <td>1</td>\n",
       "      <td>float64</td>\n",
       "      <td>2.582</td>\n",
       "      <td>2552.000</td>\n",
       "      <td>20.766</td>\n",
       "      <td>5.659</td>\n",
       "      <td>0.000</td>\n",
       "      <td>18.000</td>\n",
       "      <td>20.000</td>\n",
       "      <td>22.000</td>\n",
       "      <td>95.000</td>\n",
       "    </tr>\n",
       "    <tr>\n",
       "      <th>sys_press</th>\n",
       "      <td>1295</td>\n",
       "      <td>33.061</td>\n",
       "      <td>206</td>\n",
       "      <td>0</td>\n",
       "      <td>float64</td>\n",
       "      <td>-0.222</td>\n",
       "      <td>2622.000</td>\n",
       "      <td>125.332</td>\n",
       "      <td>22.935</td>\n",
       "      <td>13.800</td>\n",
       "      <td>113.000</td>\n",
       "      <td>124.000</td>\n",
       "      <td>139.000</td>\n",
       "      <td>242.000</td>\n",
       "    </tr>\n",
       "    <tr>\n",
       "      <th>dias_press</th>\n",
       "      <td>1285</td>\n",
       "      <td>32.806</td>\n",
       "      <td>143</td>\n",
       "      <td>0</td>\n",
       "      <td>float64</td>\n",
       "      <td>-0.516</td>\n",
       "      <td>2632.000</td>\n",
       "      <td>75.497</td>\n",
       "      <td>14.797</td>\n",
       "      <td>10.000</td>\n",
       "      <td>70.000</td>\n",
       "      <td>78.500</td>\n",
       "      <td>81.000</td>\n",
       "      <td>141.000</td>\n",
       "    </tr>\n",
       "    <tr>\n",
       "      <th>mean_press</th>\n",
       "      <td>1175</td>\n",
       "      <td>29.997</td>\n",
       "      <td>608</td>\n",
       "      <td>326</td>\n",
       "      <td>float64</td>\n",
       "      <td>-1.419</td>\n",
       "      <td>2742.000</td>\n",
       "      <td>79.755</td>\n",
       "      <td>34.278</td>\n",
       "      <td>0.000</td>\n",
       "      <td>77.079</td>\n",
       "      <td>90.150</td>\n",
       "      <td>98.000</td>\n",
       "      <td>166.000</td>\n",
       "    </tr>\n",
       "    <tr>\n",
       "      <th>temp</th>\n",
       "      <td>1109</td>\n",
       "      <td>28.312</td>\n",
       "      <td>121</td>\n",
       "      <td>1</td>\n",
       "      <td>float64</td>\n",
       "      <td>48.948</td>\n",
       "      <td>2808.000</td>\n",
       "      <td>36.469</td>\n",
       "      <td>6.504</td>\n",
       "      <td>0.000</td>\n",
       "      <td>36.000</td>\n",
       "      <td>36.300</td>\n",
       "      <td>36.700</td>\n",
       "      <td>372.000</td>\n",
       "    </tr>\n",
       "    <tr>\n",
       "      <th>hemoglobin</th>\n",
       "      <td>584</td>\n",
       "      <td>14.909</td>\n",
       "      <td>219</td>\n",
       "      <td>0</td>\n",
       "      <td>float64</td>\n",
       "      <td>-0.538</td>\n",
       "      <td>3333.000</td>\n",
       "      <td>12.797</td>\n",
       "      <td>2.134</td>\n",
       "      <td>3.200</td>\n",
       "      <td>11.700</td>\n",
       "      <td>13.100</td>\n",
       "      <td>14.300</td>\n",
       "      <td>30.600</td>\n",
       "    </tr>\n",
       "    <tr>\n",
       "      <th>platelets</th>\n",
       "      <td>602</td>\n",
       "      <td>15.369</td>\n",
       "      <td>975</td>\n",
       "      <td>0</td>\n",
       "      <td>float64</td>\n",
       "      <td>0.207</td>\n",
       "      <td>3315.000</td>\n",
       "      <td>243412.884</td>\n",
       "      <td>161573.195</td>\n",
       "      <td>12.000</td>\n",
       "      <td>141000.000</td>\n",
       "      <td>224000.000</td>\n",
       "      <td>375650.000</td>\n",
       "      <td>826600.000</td>\n",
       "    </tr>\n",
       "    <tr>\n",
       "      <th>hematocrit</th>\n",
       "      <td>588</td>\n",
       "      <td>15.011</td>\n",
       "      <td>451</td>\n",
       "      <td>0</td>\n",
       "      <td>float64</td>\n",
       "      <td>-0.441</td>\n",
       "      <td>3329.000</td>\n",
       "      <td>38.782</td>\n",
       "      <td>6.038</td>\n",
       "      <td>4.200</td>\n",
       "      <td>35.500</td>\n",
       "      <td>39.400</td>\n",
       "      <td>42.700</td>\n",
       "      <td>77.000</td>\n",
       "    </tr>\n",
       "    <tr>\n",
       "      <th>red_cells_count</th>\n",
       "      <td>1151</td>\n",
       "      <td>29.385</td>\n",
       "      <td>574</td>\n",
       "      <td>0</td>\n",
       "      <td>float64</td>\n",
       "      <td>-0.339</td>\n",
       "      <td>2766.000</td>\n",
       "      <td>3.838</td>\n",
       "      <td>1.216</td>\n",
       "      <td>0.290</td>\n",
       "      <td>2.962</td>\n",
       "      <td>4.170</td>\n",
       "      <td>4.720</td>\n",
       "      <td>14.500</td>\n",
       "    </tr>\n",
       "    <tr>\n",
       "      <th>hcm</th>\n",
       "      <td>1034</td>\n",
       "      <td>26.398</td>\n",
       "      <td>611</td>\n",
       "      <td>0</td>\n",
       "      <td>float64</td>\n",
       "      <td>1.636</td>\n",
       "      <td>2883.000</td>\n",
       "      <td>29.015</td>\n",
       "      <td>2.903</td>\n",
       "      <td>10.000</td>\n",
       "      <td>27.800</td>\n",
       "      <td>29.100</td>\n",
       "      <td>30.400</td>\n",
       "      <td>86.400</td>\n",
       "    </tr>\n",
       "    <tr>\n",
       "      <th>rdw</th>\n",
       "      <td>1034</td>\n",
       "      <td>26.398</td>\n",
       "      <td>199</td>\n",
       "      <td>0</td>\n",
       "      <td>float64</td>\n",
       "      <td>2.771</td>\n",
       "      <td>2883.000</td>\n",
       "      <td>13.751</td>\n",
       "      <td>1.770</td>\n",
       "      <td>3.000</td>\n",
       "      <td>12.750</td>\n",
       "      <td>13.500</td>\n",
       "      <td>14.350</td>\n",
       "      <td>33.000</td>\n",
       "    </tr>\n",
       "    <tr>\n",
       "      <th>mcv</th>\n",
       "      <td>1028</td>\n",
       "      <td>26.245</td>\n",
       "      <td>918</td>\n",
       "      <td>0</td>\n",
       "      <td>float64</td>\n",
       "      <td>1.365</td>\n",
       "      <td>2889.000</td>\n",
       "      <td>88.137</td>\n",
       "      <td>7.794</td>\n",
       "      <td>9.070</td>\n",
       "      <td>84.200</td>\n",
       "      <td>88.100</td>\n",
       "      <td>91.800</td>\n",
       "      <td>201.400</td>\n",
       "    </tr>\n",
       "    <tr>\n",
       "      <th>leukocytes</th>\n",
       "      <td>599</td>\n",
       "      <td>15.292</td>\n",
       "      <td>1765</td>\n",
       "      <td>0</td>\n",
       "      <td>float64</td>\n",
       "      <td>17.567</td>\n",
       "      <td>3318.000</td>\n",
       "      <td>6173.061</td>\n",
       "      <td>8814.210</td>\n",
       "      <td>1.400</td>\n",
       "      <td>2607.500</td>\n",
       "      <td>5480.000</td>\n",
       "      <td>8196.000</td>\n",
       "      <td>287000.000</td>\n",
       "    </tr>\n",
       "    <tr>\n",
       "      <th>neutrophil</th>\n",
       "      <td>1811</td>\n",
       "      <td>46.234</td>\n",
       "      <td>1650</td>\n",
       "      <td>2</td>\n",
       "      <td>float64</td>\n",
       "      <td>2.490</td>\n",
       "      <td>2106.000</td>\n",
       "      <td>5225.600</td>\n",
       "      <td>3545.040</td>\n",
       "      <td>0.000</td>\n",
       "      <td>2860.000</td>\n",
       "      <td>4396.500</td>\n",
       "      <td>7020.750</td>\n",
       "      <td>47636.000</td>\n",
       "    </tr>\n",
       "    <tr>\n",
       "      <th>lymphocytes</th>\n",
       "      <td>1227</td>\n",
       "      <td>31.325</td>\n",
       "      <td>1540</td>\n",
       "      <td>4</td>\n",
       "      <td>float64</td>\n",
       "      <td>2.031</td>\n",
       "      <td>2690.000</td>\n",
       "      <td>1074.350</td>\n",
       "      <td>891.505</td>\n",
       "      <td>0.000</td>\n",
       "      <td>510.250</td>\n",
       "      <td>956.750</td>\n",
       "      <td>1482.000</td>\n",
       "      <td>9400.000</td>\n",
       "    </tr>\n",
       "    <tr>\n",
       "      <th>basophils</th>\n",
       "      <td>822</td>\n",
       "      <td>20.985</td>\n",
       "      <td>231</td>\n",
       "      <td>1547</td>\n",
       "      <td>float64</td>\n",
       "      <td>4.393</td>\n",
       "      <td>3095.000</td>\n",
       "      <td>11.647</td>\n",
       "      <td>22.141</td>\n",
       "      <td>0.000</td>\n",
       "      <td>0.000</td>\n",
       "      <td>0.100</td>\n",
       "      <td>13.000</td>\n",
       "      <td>259.200</td>\n",
       "    </tr>\n",
       "    <tr>\n",
       "      <th>eosinophils</th>\n",
       "      <td>737</td>\n",
       "      <td>18.815</td>\n",
       "      <td>437</td>\n",
       "      <td>1348</td>\n",
       "      <td>float64</td>\n",
       "      <td>14.653</td>\n",
       "      <td>3180.000</td>\n",
       "      <td>48.421</td>\n",
       "      <td>134.091</td>\n",
       "      <td>0.000</td>\n",
       "      <td>0.000</td>\n",
       "      <td>3.000</td>\n",
       "      <td>54.000</td>\n",
       "      <td>4450.000</td>\n",
       "    </tr>\n",
       "    <tr>\n",
       "      <th>monocytes</th>\n",
       "      <td>667</td>\n",
       "      <td>17.028</td>\n",
       "      <td>1259</td>\n",
       "      <td>1</td>\n",
       "      <td>float64</td>\n",
       "      <td>3.235</td>\n",
       "      <td>3250.000</td>\n",
       "      <td>498.733</td>\n",
       "      <td>366.894</td>\n",
       "      <td>0.000</td>\n",
       "      <td>271.000</td>\n",
       "      <td>473.000</td>\n",
       "      <td>687.750</td>\n",
       "      <td>7243.000</td>\n",
       "    </tr>\n",
       "    <tr>\n",
       "      <th>crp</th>\n",
       "      <td>1028</td>\n",
       "      <td>26.245</td>\n",
       "      <td>1940</td>\n",
       "      <td>0</td>\n",
       "      <td>float64</td>\n",
       "      <td>2.464</td>\n",
       "      <td>2889.000</td>\n",
       "      <td>52.810</td>\n",
       "      <td>84.681</td>\n",
       "      <td>0.030</td>\n",
       "      <td>5.700</td>\n",
       "      <td>15.400</td>\n",
       "      <td>54.100</td>\n",
       "      <td>708.300</td>\n",
       "    </tr>\n",
       "    <tr>\n",
       "      <th>region</th>\n",
       "      <td>0</td>\n",
       "      <td>0.000</td>\n",
       "      <td>4</td>\n",
       "      <td>0</td>\n",
       "      <td>object</td>\n",
       "      <td>NaN</td>\n",
       "      <td>NaN</td>\n",
       "      <td>NaN</td>\n",
       "      <td>NaN</td>\n",
       "      <td>NaN</td>\n",
       "      <td>NaN</td>\n",
       "      <td>NaN</td>\n",
       "      <td>NaN</td>\n",
       "      <td>NaN</td>\n",
       "    </tr>\n",
       "    <tr>\n",
       "      <th>state</th>\n",
       "      <td>0</td>\n",
       "      <td>0.000</td>\n",
       "      <td>7</td>\n",
       "      <td>0</td>\n",
       "      <td>object</td>\n",
       "      <td>NaN</td>\n",
       "      <td>NaN</td>\n",
       "      <td>NaN</td>\n",
       "      <td>NaN</td>\n",
       "      <td>NaN</td>\n",
       "      <td>NaN</td>\n",
       "      <td>NaN</td>\n",
       "      <td>NaN</td>\n",
       "      <td>NaN</td>\n",
       "    </tr>\n",
       "    <tr>\n",
       "      <th>class</th>\n",
       "      <td>0</td>\n",
       "      <td>0.000</td>\n",
       "      <td>2</td>\n",
       "      <td>3076</td>\n",
       "      <td>int32</td>\n",
       "      <td>1.390</td>\n",
       "      <td>3917.000</td>\n",
       "      <td>0.215</td>\n",
       "      <td>0.411</td>\n",
       "      <td>0.000</td>\n",
       "      <td>0.000</td>\n",
       "      <td>0.000</td>\n",
       "      <td>0.000</td>\n",
       "      <td>1.000</td>\n",
       "    </tr>\n",
       "  </tbody>\n",
       "</table>\n",
       "</div>"
      ],
      "text/plain": [
       "                 Missing Values  % missing of Total Values  # Unique Values  \\\n",
       "age                           0                      0.000               84   \n",
       "male                          0                      0.000                2   \n",
       "heart_rate                  782                     19.964              172   \n",
       "resp_rate                  1365                     34.848               59   \n",
       "sys_press                  1295                     33.061              206   \n",
       "dias_press                 1285                     32.806              143   \n",
       "mean_press                 1175                     29.997              608   \n",
       "temp                       1109                     28.312              121   \n",
       "hemoglobin                  584                     14.909              219   \n",
       "platelets                   602                     15.369              975   \n",
       "hematocrit                  588                     15.011              451   \n",
       "red_cells_count            1151                     29.385              574   \n",
       "hcm                        1034                     26.398              611   \n",
       "rdw                        1034                     26.398              199   \n",
       "mcv                        1028                     26.245              918   \n",
       "leukocytes                  599                     15.292             1765   \n",
       "neutrophil                 1811                     46.234             1650   \n",
       "lymphocytes                1227                     31.325             1540   \n",
       "basophils                   822                     20.985              231   \n",
       "eosinophils                 737                     18.815              437   \n",
       "monocytes                   667                     17.028             1259   \n",
       "crp                        1028                     26.245             1940   \n",
       "region                        0                      0.000                4   \n",
       "state                         0                      0.000                7   \n",
       "class                         0                      0.000                2   \n",
       "\n",
       "                 # Values as [0] datatype   skew    count       mean  \\\n",
       "age                            0  float64  0.064 3917.000     55.845   \n",
       "male                        1857  float64 -0.104 3917.000      0.526   \n",
       "heart_rate                     0  float64  0.703 3135.000     85.302   \n",
       "resp_rate                      1  float64  2.582 2552.000     20.766   \n",
       "sys_press                      0  float64 -0.222 2622.000    125.332   \n",
       "dias_press                     0  float64 -0.516 2632.000     75.497   \n",
       "mean_press                   326  float64 -1.419 2742.000     79.755   \n",
       "temp                           1  float64 48.948 2808.000     36.469   \n",
       "hemoglobin                     0  float64 -0.538 3333.000     12.797   \n",
       "platelets                      0  float64  0.207 3315.000 243412.884   \n",
       "hematocrit                     0  float64 -0.441 3329.000     38.782   \n",
       "red_cells_count                0  float64 -0.339 2766.000      3.838   \n",
       "hcm                            0  float64  1.636 2883.000     29.015   \n",
       "rdw                            0  float64  2.771 2883.000     13.751   \n",
       "mcv                            0  float64  1.365 2889.000     88.137   \n",
       "leukocytes                     0  float64 17.567 3318.000   6173.061   \n",
       "neutrophil                     2  float64  2.490 2106.000   5225.600   \n",
       "lymphocytes                    4  float64  2.031 2690.000   1074.350   \n",
       "basophils                   1547  float64  4.393 3095.000     11.647   \n",
       "eosinophils                 1348  float64 14.653 3180.000     48.421   \n",
       "monocytes                      1  float64  3.235 3250.000    498.733   \n",
       "crp                            0  float64  2.464 2889.000     52.810   \n",
       "region                         0   object    NaN      NaN        NaN   \n",
       "state                          0   object    NaN      NaN        NaN   \n",
       "class                       3076    int32  1.390 3917.000      0.215   \n",
       "\n",
       "                       std    min        25%        50%        75%        max  \n",
       "age                 18.312 18.000     41.000     56.000     70.000    105.000  \n",
       "male                 0.499  0.000      0.000      1.000      1.000      1.000  \n",
       "heart_rate          16.912 20.000     75.000     84.000     96.000    233.000  \n",
       "resp_rate            5.659  0.000     18.000     20.000     22.000     95.000  \n",
       "sys_press           22.935 13.800    113.000    124.000    139.000    242.000  \n",
       "dias_press          14.797 10.000     70.000     78.500     81.000    141.000  \n",
       "mean_press          34.278  0.000     77.079     90.150     98.000    166.000  \n",
       "temp                 6.504  0.000     36.000     36.300     36.700    372.000  \n",
       "hemoglobin           2.134  3.200     11.700     13.100     14.300     30.600  \n",
       "platelets       161573.195 12.000 141000.000 224000.000 375650.000 826600.000  \n",
       "hematocrit           6.038  4.200     35.500     39.400     42.700     77.000  \n",
       "red_cells_count      1.216  0.290      2.962      4.170      4.720     14.500  \n",
       "hcm                  2.903 10.000     27.800     29.100     30.400     86.400  \n",
       "rdw                  1.770  3.000     12.750     13.500     14.350     33.000  \n",
       "mcv                  7.794  9.070     84.200     88.100     91.800    201.400  \n",
       "leukocytes        8814.210  1.400   2607.500   5480.000   8196.000 287000.000  \n",
       "neutrophil        3545.040  0.000   2860.000   4396.500   7020.750  47636.000  \n",
       "lymphocytes        891.505  0.000    510.250    956.750   1482.000   9400.000  \n",
       "basophils           22.141  0.000      0.000      0.100     13.000    259.200  \n",
       "eosinophils        134.091  0.000      0.000      3.000     54.000   4450.000  \n",
       "monocytes          366.894  0.000    271.000    473.000    687.750   7243.000  \n",
       "crp                 84.681  0.030      5.700     15.400     54.100    708.300  \n",
       "region                 NaN    NaN        NaN        NaN        NaN        NaN  \n",
       "state                  NaN    NaN        NaN        NaN        NaN        NaN  \n",
       "class                0.411  0.000      0.000      0.000      0.000      1.000  "
      ]
     },
     "execution_count": 42,
     "metadata": {},
     "output_type": "execute_result"
    }
   ],
   "source": [
    "#Check mean_press missing before recalculating\n",
    "column_summaries(df_iacov_model_lean)"
   ]
  },
  {
   "cell_type": "code",
   "execution_count": 43,
   "metadata": {},
   "outputs": [],
   "source": [
    "df_iacov_model_lean['mean_press'] = df_iacov_model_lean.apply(isNullMeanPressure, axis=1)"
   ]
  },
  {
   "cell_type": "code",
   "execution_count": 44,
   "metadata": {},
   "outputs": [],
   "source": [
    "#Check mean_press missing after recalculating\n",
    "#column_summaries(df_iacov_model_lean)"
   ]
  },
  {
   "cell_type": "code",
   "execution_count": 45,
   "metadata": {},
   "outputs": [],
   "source": [
    "X_test_specific['mean_press'] = X_test_specific.apply(isNullMeanPressure, axis=1)"
   ]
  },
  {
   "cell_type": "code",
   "execution_count": 46,
   "metadata": {},
   "outputs": [],
   "source": [
    "#column_summaries(X_test_specific)"
   ]
  },
  {
   "cell_type": "markdown",
   "metadata": {},
   "source": [
    "### Put X_test and y_test in separate files"
   ]
  },
  {
   "cell_type": "code",
   "execution_count": 47,
   "metadata": {},
   "outputs": [
    {
     "data": {
      "text/plain": [
       "'X_test_other_regions_vs_one_SUDESTE_SP_HC_USP.csv'"
      ]
     },
     "execution_count": 47,
     "metadata": {},
     "output_type": "execute_result"
    }
   ],
   "source": [
    "x_test_specific_name = 'X_test_other_regions_vs_one_' + X_test_specific.region.iloc[0]  \\\n",
    "                        + '_' + X_test_specific.state.iloc[0]  \\\n",
    "                        + '_' + X_test_specific.city_hospital.iloc[0] +  \".csv\"\n",
    "x_test_specific_name"
   ]
  },
  {
   "cell_type": "code",
   "execution_count": 48,
   "metadata": {},
   "outputs": [
    {
     "data": {
      "text/plain": [
       "'y_mv_other_regions_vs_one_SUDESTE_SP_HC_USP.csv'"
      ]
     },
     "execution_count": 48,
     "metadata": {},
     "output_type": "execute_result"
    }
   ],
   "source": [
    "y_test_specific_name = 'y_mv_other_regions_vs_one_' + X_test_specific.region.iloc[0]  \\\n",
    "                        + '_' + X_test_specific.state.iloc[0]  \\\n",
    "                        + '_' + X_test_specific.city_hospital.iloc[0] +  \".csv\"\n",
    "y_test_specific_name"
   ]
  },
  {
   "cell_type": "code",
   "execution_count": 49,
   "metadata": {},
   "outputs": [
    {
     "data": {
      "text/plain": [
       "(450, 25)"
      ]
     },
     "execution_count": 49,
     "metadata": {},
     "output_type": "execute_result"
    }
   ],
   "source": [
    "X_test_specific.to_csv(x_test_specific_name, sep=';')\n",
    "X_test_specific.shape"
   ]
  },
  {
   "cell_type": "code",
   "execution_count": 50,
   "metadata": {},
   "outputs": [
    {
     "data": {
      "text/plain": [
       "(450,)"
      ]
     },
     "execution_count": 50,
     "metadata": {},
     "output_type": "execute_result"
    }
   ],
   "source": [
    "y_test_specific.to_csv(y_test_specific_name, sep=';')\n",
    "y_test_specific.shape"
   ]
  },
  {
   "cell_type": "markdown",
   "metadata": {},
   "source": [
    "## 2.2) Prepare Experiment \n",
    "\n",
    "###  All hospitals on regions different of specific hospital "
   ]
  },
  {
   "cell_type": "code",
   "execution_count": 51,
   "metadata": {},
   "outputs": [
    {
     "data": {
      "text/plain": [
       "(3917, 25)"
      ]
     },
     "execution_count": 51,
     "metadata": {},
     "output_type": "execute_result"
    }
   ],
   "source": [
    "df_iacov_model_lean.shape"
   ]
  },
  {
   "cell_type": "code",
   "execution_count": 52,
   "metadata": {},
   "outputs": [],
   "source": [
    "df_iacov_model_train = df_iacov_model_lean"
   ]
  },
  {
   "cell_type": "code",
   "execution_count": 53,
   "metadata": {},
   "outputs": [
    {
     "data": {
      "text/plain": [
       "Index(['age', 'male', 'heart_rate', 'resp_rate', 'sys_press', 'dias_press',\n",
       "       'mean_press', 'temp', 'hemoglobin', 'platelets', 'hematocrit',\n",
       "       'red_cells_count', 'hcm', 'rdw', 'mcv', 'leukocytes', 'neutrophil',\n",
       "       'lymphocytes', 'basophils', 'eosinophils', 'monocytes', 'crp', 'class'],\n",
       "      dtype='object')"
      ]
     },
     "execution_count": 53,
     "metadata": {},
     "output_type": "execute_result"
    }
   ],
   "source": [
    "df_iacov_model_train = df_iacov_model_train.drop(['region'],axis=1)\n",
    "df_iacov_model_train = df_iacov_model_train.drop(['state'],axis=1)\n",
    "df_iacov_model_train.columns"
   ]
  },
  {
   "cell_type": "markdown",
   "metadata": {},
   "source": [
    "__Atention!__: If any Dtype is bool, cast to int32, otherwise experiment will fail"
   ]
  },
  {
   "cell_type": "code",
   "execution_count": 54,
   "metadata": {},
   "outputs": [
    {
     "name": "stdout",
     "output_type": "stream",
     "text": [
      "<class 'pandas.core.frame.DataFrame'>\n",
      "Index: 3917 entries, 0 to 6045\n",
      "Data columns (total 23 columns):\n",
      " #   Column           Non-Null Count  Dtype  \n",
      "---  ------           --------------  -----  \n",
      " 0   age              3917 non-null   float64\n",
      " 1   male             3917 non-null   float64\n",
      " 2   heart_rate       3135 non-null   float64\n",
      " 3   resp_rate        2552 non-null   float64\n",
      " 4   sys_press        2622 non-null   float64\n",
      " 5   dias_press       2632 non-null   float64\n",
      " 6   mean_press       2959 non-null   float64\n",
      " 7   temp             2808 non-null   float64\n",
      " 8   hemoglobin       3333 non-null   float64\n",
      " 9   platelets        3315 non-null   float64\n",
      " 10  hematocrit       3329 non-null   float64\n",
      " 11  red_cells_count  2766 non-null   float64\n",
      " 12  hcm              2883 non-null   float64\n",
      " 13  rdw              2883 non-null   float64\n",
      " 14  mcv              2889 non-null   float64\n",
      " 15  leukocytes       3318 non-null   float64\n",
      " 16  neutrophil       2106 non-null   float64\n",
      " 17  lymphocytes      2690 non-null   float64\n",
      " 18  basophils        3095 non-null   float64\n",
      " 19  eosinophils      3180 non-null   float64\n",
      " 20  monocytes        3250 non-null   float64\n",
      " 21  crp              2889 non-null   float64\n",
      " 22  class            3917 non-null   int32  \n",
      "dtypes: float64(22), int32(1)\n",
      "memory usage: 719.1 KB\n"
     ]
    }
   ],
   "source": [
    "df_iacov_model_train.info()"
   ]
  },
  {
   "cell_type": "code",
   "execution_count": 55,
   "metadata": {},
   "outputs": [
    {
     "name": "stdout",
     "output_type": "stream",
     "text": [
      " \n",
      "Setup Succesfully Completed!\n"
     ]
    },
    {
     "data": {
      "text/html": [
       "<style type=\"text/css\">\n",
       "#T_8168b_row4_col1, #T_8168b_row15_col1, #T_8168b_row42_col1 {\n",
       "  background-color: lightgreen;\n",
       "}\n",
       "</style>\n",
       "<table id=\"T_8168b\">\n",
       "  <thead>\n",
       "    <tr>\n",
       "      <th class=\"blank level0\" >&nbsp;</th>\n",
       "      <th id=\"T_8168b_level0_col0\" class=\"col_heading level0 col0\" >Description</th>\n",
       "      <th id=\"T_8168b_level0_col1\" class=\"col_heading level0 col1\" >Value</th>\n",
       "    </tr>\n",
       "  </thead>\n",
       "  <tbody>\n",
       "    <tr>\n",
       "      <th id=\"T_8168b_level0_row0\" class=\"row_heading level0 row0\" >0</th>\n",
       "      <td id=\"T_8168b_row0_col0\" class=\"data row0 col0\" >session_id</td>\n",
       "      <td id=\"T_8168b_row0_col1\" class=\"data row0 col1\" >42</td>\n",
       "    </tr>\n",
       "    <tr>\n",
       "      <th id=\"T_8168b_level0_row1\" class=\"row_heading level0 row1\" >1</th>\n",
       "      <td id=\"T_8168b_row1_col0\" class=\"data row1 col0\" >Target Type</td>\n",
       "      <td id=\"T_8168b_row1_col1\" class=\"data row1 col1\" >Binary</td>\n",
       "    </tr>\n",
       "    <tr>\n",
       "      <th id=\"T_8168b_level0_row2\" class=\"row_heading level0 row2\" >2</th>\n",
       "      <td id=\"T_8168b_row2_col0\" class=\"data row2 col0\" >Label Encoded</td>\n",
       "      <td id=\"T_8168b_row2_col1\" class=\"data row2 col1\" >None</td>\n",
       "    </tr>\n",
       "    <tr>\n",
       "      <th id=\"T_8168b_level0_row3\" class=\"row_heading level0 row3\" >3</th>\n",
       "      <td id=\"T_8168b_row3_col0\" class=\"data row3 col0\" >Original Data</td>\n",
       "      <td id=\"T_8168b_row3_col1\" class=\"data row3 col1\" >(3917, 23)</td>\n",
       "    </tr>\n",
       "    <tr>\n",
       "      <th id=\"T_8168b_level0_row4\" class=\"row_heading level0 row4\" >4</th>\n",
       "      <td id=\"T_8168b_row4_col0\" class=\"data row4 col0\" >Missing Values </td>\n",
       "      <td id=\"T_8168b_row4_col1\" class=\"data row4 col1\" >True</td>\n",
       "    </tr>\n",
       "    <tr>\n",
       "      <th id=\"T_8168b_level0_row5\" class=\"row_heading level0 row5\" >5</th>\n",
       "      <td id=\"T_8168b_row5_col0\" class=\"data row5 col0\" >Numeric Features </td>\n",
       "      <td id=\"T_8168b_row5_col1\" class=\"data row5 col1\" >21</td>\n",
       "    </tr>\n",
       "    <tr>\n",
       "      <th id=\"T_8168b_level0_row6\" class=\"row_heading level0 row6\" >6</th>\n",
       "      <td id=\"T_8168b_row6_col0\" class=\"data row6 col0\" >Categorical Features </td>\n",
       "      <td id=\"T_8168b_row6_col1\" class=\"data row6 col1\" >1</td>\n",
       "    </tr>\n",
       "    <tr>\n",
       "      <th id=\"T_8168b_level0_row7\" class=\"row_heading level0 row7\" >7</th>\n",
       "      <td id=\"T_8168b_row7_col0\" class=\"data row7 col0\" >Ordinal Features </td>\n",
       "      <td id=\"T_8168b_row7_col1\" class=\"data row7 col1\" >False</td>\n",
       "    </tr>\n",
       "    <tr>\n",
       "      <th id=\"T_8168b_level0_row8\" class=\"row_heading level0 row8\" >8</th>\n",
       "      <td id=\"T_8168b_row8_col0\" class=\"data row8 col0\" >High Cardinality Features </td>\n",
       "      <td id=\"T_8168b_row8_col1\" class=\"data row8 col1\" >False</td>\n",
       "    </tr>\n",
       "    <tr>\n",
       "      <th id=\"T_8168b_level0_row9\" class=\"row_heading level0 row9\" >9</th>\n",
       "      <td id=\"T_8168b_row9_col0\" class=\"data row9 col0\" >High Cardinality Method </td>\n",
       "      <td id=\"T_8168b_row9_col1\" class=\"data row9 col1\" >None</td>\n",
       "    </tr>\n",
       "    <tr>\n",
       "      <th id=\"T_8168b_level0_row10\" class=\"row_heading level0 row10\" >10</th>\n",
       "      <td id=\"T_8168b_row10_col0\" class=\"data row10 col0\" >Sampled Data</td>\n",
       "      <td id=\"T_8168b_row10_col1\" class=\"data row10 col1\" >(5480, 23)</td>\n",
       "    </tr>\n",
       "    <tr>\n",
       "      <th id=\"T_8168b_level0_row11\" class=\"row_heading level0 row11\" >11</th>\n",
       "      <td id=\"T_8168b_row11_col0\" class=\"data row11 col0\" >Transformed Train Set</td>\n",
       "      <td id=\"T_8168b_row11_col1\" class=\"data row11 col1\" >(4304, 22)</td>\n",
       "    </tr>\n",
       "    <tr>\n",
       "      <th id=\"T_8168b_level0_row12\" class=\"row_heading level0 row12\" >12</th>\n",
       "      <td id=\"T_8168b_row12_col0\" class=\"data row12 col0\" >Transformed Test Set</td>\n",
       "      <td id=\"T_8168b_row12_col1\" class=\"data row12 col1\" >(1176, 22)</td>\n",
       "    </tr>\n",
       "    <tr>\n",
       "      <th id=\"T_8168b_level0_row13\" class=\"row_heading level0 row13\" >13</th>\n",
       "      <td id=\"T_8168b_row13_col0\" class=\"data row13 col0\" >Numeric Imputer </td>\n",
       "      <td id=\"T_8168b_row13_col1\" class=\"data row13 col1\" >median</td>\n",
       "    </tr>\n",
       "    <tr>\n",
       "      <th id=\"T_8168b_level0_row14\" class=\"row_heading level0 row14\" >14</th>\n",
       "      <td id=\"T_8168b_row14_col0\" class=\"data row14 col0\" >Categorical Imputer </td>\n",
       "      <td id=\"T_8168b_row14_col1\" class=\"data row14 col1\" >constant</td>\n",
       "    </tr>\n",
       "    <tr>\n",
       "      <th id=\"T_8168b_level0_row15\" class=\"row_heading level0 row15\" >15</th>\n",
       "      <td id=\"T_8168b_row15_col0\" class=\"data row15 col0\" >Normalize </td>\n",
       "      <td id=\"T_8168b_row15_col1\" class=\"data row15 col1\" >True</td>\n",
       "    </tr>\n",
       "    <tr>\n",
       "      <th id=\"T_8168b_level0_row16\" class=\"row_heading level0 row16\" >16</th>\n",
       "      <td id=\"T_8168b_row16_col0\" class=\"data row16 col0\" >Normalize Method </td>\n",
       "      <td id=\"T_8168b_row16_col1\" class=\"data row16 col1\" >zscore</td>\n",
       "    </tr>\n",
       "    <tr>\n",
       "      <th id=\"T_8168b_level0_row17\" class=\"row_heading level0 row17\" >17</th>\n",
       "      <td id=\"T_8168b_row17_col0\" class=\"data row17 col0\" >Transformation </td>\n",
       "      <td id=\"T_8168b_row17_col1\" class=\"data row17 col1\" >False</td>\n",
       "    </tr>\n",
       "    <tr>\n",
       "      <th id=\"T_8168b_level0_row18\" class=\"row_heading level0 row18\" >18</th>\n",
       "      <td id=\"T_8168b_row18_col0\" class=\"data row18 col0\" >Transformation Method </td>\n",
       "      <td id=\"T_8168b_row18_col1\" class=\"data row18 col1\" >None</td>\n",
       "    </tr>\n",
       "    <tr>\n",
       "      <th id=\"T_8168b_level0_row19\" class=\"row_heading level0 row19\" >19</th>\n",
       "      <td id=\"T_8168b_row19_col0\" class=\"data row19 col0\" >PCA </td>\n",
       "      <td id=\"T_8168b_row19_col1\" class=\"data row19 col1\" >False</td>\n",
       "    </tr>\n",
       "    <tr>\n",
       "      <th id=\"T_8168b_level0_row20\" class=\"row_heading level0 row20\" >20</th>\n",
       "      <td id=\"T_8168b_row20_col0\" class=\"data row20 col0\" >PCA Method </td>\n",
       "      <td id=\"T_8168b_row20_col1\" class=\"data row20 col1\" >None</td>\n",
       "    </tr>\n",
       "    <tr>\n",
       "      <th id=\"T_8168b_level0_row21\" class=\"row_heading level0 row21\" >21</th>\n",
       "      <td id=\"T_8168b_row21_col0\" class=\"data row21 col0\" >PCA Components </td>\n",
       "      <td id=\"T_8168b_row21_col1\" class=\"data row21 col1\" >None</td>\n",
       "    </tr>\n",
       "    <tr>\n",
       "      <th id=\"T_8168b_level0_row22\" class=\"row_heading level0 row22\" >22</th>\n",
       "      <td id=\"T_8168b_row22_col0\" class=\"data row22 col0\" >Ignore Low Variance </td>\n",
       "      <td id=\"T_8168b_row22_col1\" class=\"data row22 col1\" >False</td>\n",
       "    </tr>\n",
       "    <tr>\n",
       "      <th id=\"T_8168b_level0_row23\" class=\"row_heading level0 row23\" >23</th>\n",
       "      <td id=\"T_8168b_row23_col0\" class=\"data row23 col0\" >Combine Rare Levels </td>\n",
       "      <td id=\"T_8168b_row23_col1\" class=\"data row23 col1\" >False</td>\n",
       "    </tr>\n",
       "    <tr>\n",
       "      <th id=\"T_8168b_level0_row24\" class=\"row_heading level0 row24\" >24</th>\n",
       "      <td id=\"T_8168b_row24_col0\" class=\"data row24 col0\" >Rare Level Threshold </td>\n",
       "      <td id=\"T_8168b_row24_col1\" class=\"data row24 col1\" >None</td>\n",
       "    </tr>\n",
       "    <tr>\n",
       "      <th id=\"T_8168b_level0_row25\" class=\"row_heading level0 row25\" >25</th>\n",
       "      <td id=\"T_8168b_row25_col0\" class=\"data row25 col0\" >Numeric Binning </td>\n",
       "      <td id=\"T_8168b_row25_col1\" class=\"data row25 col1\" >False</td>\n",
       "    </tr>\n",
       "    <tr>\n",
       "      <th id=\"T_8168b_level0_row26\" class=\"row_heading level0 row26\" >26</th>\n",
       "      <td id=\"T_8168b_row26_col0\" class=\"data row26 col0\" >Remove Outliers </td>\n",
       "      <td id=\"T_8168b_row26_col1\" class=\"data row26 col1\" >False</td>\n",
       "    </tr>\n",
       "    <tr>\n",
       "      <th id=\"T_8168b_level0_row27\" class=\"row_heading level0 row27\" >27</th>\n",
       "      <td id=\"T_8168b_row27_col0\" class=\"data row27 col0\" >Outliers Threshold </td>\n",
       "      <td id=\"T_8168b_row27_col1\" class=\"data row27 col1\" >None</td>\n",
       "    </tr>\n",
       "    <tr>\n",
       "      <th id=\"T_8168b_level0_row28\" class=\"row_heading level0 row28\" >28</th>\n",
       "      <td id=\"T_8168b_row28_col0\" class=\"data row28 col0\" >Remove Multicollinearity </td>\n",
       "      <td id=\"T_8168b_row28_col1\" class=\"data row28 col1\" >False</td>\n",
       "    </tr>\n",
       "    <tr>\n",
       "      <th id=\"T_8168b_level0_row29\" class=\"row_heading level0 row29\" >29</th>\n",
       "      <td id=\"T_8168b_row29_col0\" class=\"data row29 col0\" >Multicollinearity Threshold </td>\n",
       "      <td id=\"T_8168b_row29_col1\" class=\"data row29 col1\" >None</td>\n",
       "    </tr>\n",
       "    <tr>\n",
       "      <th id=\"T_8168b_level0_row30\" class=\"row_heading level0 row30\" >30</th>\n",
       "      <td id=\"T_8168b_row30_col0\" class=\"data row30 col0\" >Clustering </td>\n",
       "      <td id=\"T_8168b_row30_col1\" class=\"data row30 col1\" >False</td>\n",
       "    </tr>\n",
       "    <tr>\n",
       "      <th id=\"T_8168b_level0_row31\" class=\"row_heading level0 row31\" >31</th>\n",
       "      <td id=\"T_8168b_row31_col0\" class=\"data row31 col0\" >Clustering Iteration </td>\n",
       "      <td id=\"T_8168b_row31_col1\" class=\"data row31 col1\" >None</td>\n",
       "    </tr>\n",
       "    <tr>\n",
       "      <th id=\"T_8168b_level0_row32\" class=\"row_heading level0 row32\" >32</th>\n",
       "      <td id=\"T_8168b_row32_col0\" class=\"data row32 col0\" >Polynomial Features </td>\n",
       "      <td id=\"T_8168b_row32_col1\" class=\"data row32 col1\" >False</td>\n",
       "    </tr>\n",
       "    <tr>\n",
       "      <th id=\"T_8168b_level0_row33\" class=\"row_heading level0 row33\" >33</th>\n",
       "      <td id=\"T_8168b_row33_col0\" class=\"data row33 col0\" >Polynomial Degree </td>\n",
       "      <td id=\"T_8168b_row33_col1\" class=\"data row33 col1\" >None</td>\n",
       "    </tr>\n",
       "    <tr>\n",
       "      <th id=\"T_8168b_level0_row34\" class=\"row_heading level0 row34\" >34</th>\n",
       "      <td id=\"T_8168b_row34_col0\" class=\"data row34 col0\" >Trignometry Features </td>\n",
       "      <td id=\"T_8168b_row34_col1\" class=\"data row34 col1\" >False</td>\n",
       "    </tr>\n",
       "    <tr>\n",
       "      <th id=\"T_8168b_level0_row35\" class=\"row_heading level0 row35\" >35</th>\n",
       "      <td id=\"T_8168b_row35_col0\" class=\"data row35 col0\" >Polynomial Threshold </td>\n",
       "      <td id=\"T_8168b_row35_col1\" class=\"data row35 col1\" >None</td>\n",
       "    </tr>\n",
       "    <tr>\n",
       "      <th id=\"T_8168b_level0_row36\" class=\"row_heading level0 row36\" >36</th>\n",
       "      <td id=\"T_8168b_row36_col0\" class=\"data row36 col0\" >Group Features </td>\n",
       "      <td id=\"T_8168b_row36_col1\" class=\"data row36 col1\" >False</td>\n",
       "    </tr>\n",
       "    <tr>\n",
       "      <th id=\"T_8168b_level0_row37\" class=\"row_heading level0 row37\" >37</th>\n",
       "      <td id=\"T_8168b_row37_col0\" class=\"data row37 col0\" >Feature Selection </td>\n",
       "      <td id=\"T_8168b_row37_col1\" class=\"data row37 col1\" >False</td>\n",
       "    </tr>\n",
       "    <tr>\n",
       "      <th id=\"T_8168b_level0_row38\" class=\"row_heading level0 row38\" >38</th>\n",
       "      <td id=\"T_8168b_row38_col0\" class=\"data row38 col0\" >Features Selection Threshold </td>\n",
       "      <td id=\"T_8168b_row38_col1\" class=\"data row38 col1\" >None</td>\n",
       "    </tr>\n",
       "    <tr>\n",
       "      <th id=\"T_8168b_level0_row39\" class=\"row_heading level0 row39\" >39</th>\n",
       "      <td id=\"T_8168b_row39_col0\" class=\"data row39 col0\" >Feature Interaction </td>\n",
       "      <td id=\"T_8168b_row39_col1\" class=\"data row39 col1\" >False</td>\n",
       "    </tr>\n",
       "    <tr>\n",
       "      <th id=\"T_8168b_level0_row40\" class=\"row_heading level0 row40\" >40</th>\n",
       "      <td id=\"T_8168b_row40_col0\" class=\"data row40 col0\" >Feature Ratio </td>\n",
       "      <td id=\"T_8168b_row40_col1\" class=\"data row40 col1\" >False</td>\n",
       "    </tr>\n",
       "    <tr>\n",
       "      <th id=\"T_8168b_level0_row41\" class=\"row_heading level0 row41\" >41</th>\n",
       "      <td id=\"T_8168b_row41_col0\" class=\"data row41 col0\" >Interaction Threshold </td>\n",
       "      <td id=\"T_8168b_row41_col1\" class=\"data row41 col1\" >None</td>\n",
       "    </tr>\n",
       "    <tr>\n",
       "      <th id=\"T_8168b_level0_row42\" class=\"row_heading level0 row42\" >42</th>\n",
       "      <td id=\"T_8168b_row42_col0\" class=\"data row42 col0\" >Resample Train Data </td>\n",
       "      <td id=\"T_8168b_row42_col1\" class=\"data row42 col1\" >True</td>\n",
       "    </tr>\n",
       "    <tr>\n",
       "      <th id=\"T_8168b_level0_row43\" class=\"row_heading level0 row43\" >43</th>\n",
       "      <td id=\"T_8168b_row43_col0\" class=\"data row43 col0\" >Resample Method</td>\n",
       "      <td id=\"T_8168b_row43_col1\" class=\"data row43 col1\" >random_over</td>\n",
       "    </tr>\n",
       "  </tbody>\n",
       "</table>\n"
      ],
      "text/plain": [
       "<pandas.io.formats.style.Styler at 0x21e50e9ad10>"
      ]
     },
     "metadata": {},
     "output_type": "display_data"
    }
   ],
   "source": [
    "exp = setup(df_iacov_model_train\n",
    "            , target='class'\n",
    "            , categorical_features = ['male']\n",
    "            , numeric_features = ['crp','basophils','eosinophils','red_cells_count','monocytes','hemoglobin','resp_rate','neutrophil','hematocrit']\n",
    "            , normalize=True\n",
    "            #, remove_multicollinearity=True\n",
    "            ,numeric_imputation='median'\n",
    "#             ,numeric_imputation='ignore'\n",
    "            #,multicollinearity_threshold=0.9\n",
    "            , resample=True\n",
    "            , resample_method='random_over'\n",
    "#             , train_size = 1.0 #100pct for training\n",
    "           )"
   ]
  },
  {
   "cell_type": "code",
   "execution_count": 58,
   "metadata": {},
   "outputs": [],
   "source": [
    "X, y, X_train, X_test, y_train, y_test, seed, prep_pipe, _ = exp"
   ]
  },
  {
   "cell_type": "code",
   "execution_count": 59,
   "metadata": {},
   "outputs": [
    {
     "data": {
      "text/plain": [
       "(4304, 22)"
      ]
     },
     "execution_count": 59,
     "metadata": {},
     "output_type": "execute_result"
    }
   ],
   "source": [
    "X_train.shape"
   ]
  },
  {
   "cell_type": "code",
   "execution_count": 60,
   "metadata": {},
   "outputs": [
    {
     "data": {
      "text/plain": [
       "(1176, 22)"
      ]
     },
     "execution_count": 60,
     "metadata": {},
     "output_type": "execute_result"
    }
   ],
   "source": [
    "X_test.shape"
   ]
  },
  {
   "cell_type": "code",
   "execution_count": 61,
   "metadata": {},
   "outputs": [
    {
     "data": {
      "text/plain": [
       "Index(['age', 'heart_rate', 'resp_rate', 'sys_press', 'dias_press',\n",
       "       'mean_press', 'temp', 'hemoglobin', 'platelets', 'hematocrit',\n",
       "       'red_cells_count', 'hcm', 'rdw', 'mcv', 'leukocytes', 'neutrophil',\n",
       "       'lymphocytes', 'basophils', 'eosinophils', 'monocytes', 'crp',\n",
       "       'male_1.0'],\n",
       "      dtype='object')"
      ]
     },
     "execution_count": 61,
     "metadata": {},
     "output_type": "execute_result"
    }
   ],
   "source": [
    "X_test.columns"
   ]
  },
  {
   "cell_type": "code",
   "execution_count": 62,
   "metadata": {},
   "outputs": [
    {
     "data": {
      "text/plain": [
       "42"
      ]
     },
     "execution_count": 62,
     "metadata": {},
     "output_type": "execute_result"
    }
   ],
   "source": [
    "seed"
   ]
  },
  {
   "cell_type": "code",
   "execution_count": 63,
   "metadata": {},
   "outputs": [],
   "source": [
    "# Xtrain.head()"
   ]
  },
  {
   "cell_type": "markdown",
   "metadata": {},
   "source": [
    "### Filtering only 5 pre-selected models"
   ]
  },
  {
   "cell_type": "code",
   "execution_count": 64,
   "metadata": {},
   "outputs": [],
   "source": [
    "# print(inspect.getsource(compare_models))"
   ]
  },
  {
   "cell_type": "code",
   "execution_count": 65,
   "metadata": {},
   "outputs": [
    {
     "data": {
      "text/html": [
       "<style type=\"text/css\">\n",
       "#T_38abd th {\n",
       "  text-align: left;\n",
       "}\n",
       "#T_38abd_row0_col0, #T_38abd_row0_col8, #T_38abd_row1_col0, #T_38abd_row1_col1, #T_38abd_row1_col2, #T_38abd_row1_col3, #T_38abd_row1_col4, #T_38abd_row1_col5, #T_38abd_row1_col6, #T_38abd_row1_col7, #T_38abd_row1_col8, #T_38abd_row1_col9, #T_38abd_row1_col10, #T_38abd_row2_col0, #T_38abd_row2_col1, #T_38abd_row2_col2, #T_38abd_row2_col3, #T_38abd_row2_col4, #T_38abd_row2_col5, #T_38abd_row2_col6, #T_38abd_row2_col7, #T_38abd_row2_col9, #T_38abd_row2_col10 {\n",
       "  text-align: left;\n",
       "}\n",
       "#T_38abd_row0_col1, #T_38abd_row0_col2, #T_38abd_row0_col3, #T_38abd_row0_col4, #T_38abd_row0_col5, #T_38abd_row0_col6, #T_38abd_row0_col7, #T_38abd_row0_col9, #T_38abd_row0_col10, #T_38abd_row2_col8 {\n",
       "  background-color: yellow;\n",
       "  text-align: left;\n",
       "}\n",
       "</style>\n",
       "<table id=\"T_38abd\">\n",
       "  <thead>\n",
       "    <tr>\n",
       "      <th class=\"blank level0\" >&nbsp;</th>\n",
       "      <th id=\"T_38abd_level0_col0\" class=\"col_heading level0 col0\" >Model</th>\n",
       "      <th id=\"T_38abd_level0_col1\" class=\"col_heading level0 col1\" >Accuracy</th>\n",
       "      <th id=\"T_38abd_level0_col2\" class=\"col_heading level0 col2\" >AUC</th>\n",
       "      <th id=\"T_38abd_level0_col3\" class=\"col_heading level0 col3\" >Recall</th>\n",
       "      <th id=\"T_38abd_level0_col4\" class=\"col_heading level0 col4\" >Specificity</th>\n",
       "      <th id=\"T_38abd_level0_col5\" class=\"col_heading level0 col5\" >Prec.</th>\n",
       "      <th id=\"T_38abd_level0_col6\" class=\"col_heading level0 col6\" >F1</th>\n",
       "      <th id=\"T_38abd_level0_col7\" class=\"col_heading level0 col7\" >Kappa</th>\n",
       "      <th id=\"T_38abd_level0_col8\" class=\"col_heading level0 col8\" >Hosmer_lemeshow</th>\n",
       "      <th id=\"T_38abd_level0_col9\" class=\"col_heading level0 col9\" >Spiegelhalter</th>\n",
       "      <th id=\"T_38abd_level0_col10\" class=\"col_heading level0 col10\" >Scaled_brier</th>\n",
       "    </tr>\n",
       "  </thead>\n",
       "  <tbody>\n",
       "    <tr>\n",
       "      <th id=\"T_38abd_level0_row0\" class=\"row_heading level0 row0\" >0</th>\n",
       "      <td id=\"T_38abd_row0_col0\" class=\"data row0 col0\" >Extreme Gradient Boosting</td>\n",
       "      <td id=\"T_38abd_row0_col1\" class=\"data row0 col1\" >0.932800</td>\n",
       "      <td id=\"T_38abd_row0_col2\" class=\"data row0 col2\" >0.981000</td>\n",
       "      <td id=\"T_38abd_row0_col3\" class=\"data row0 col3\" >0.987000</td>\n",
       "      <td id=\"T_38abd_row0_col4\" class=\"data row0 col4\" >0.878700</td>\n",
       "      <td id=\"T_38abd_row0_col5\" class=\"data row0 col5\" >0.890800</td>\n",
       "      <td id=\"T_38abd_row0_col6\" class=\"data row0 col6\" >0.936400</td>\n",
       "      <td id=\"T_38abd_row0_col7\" class=\"data row0 col7\" >0.865700</td>\n",
       "      <td id=\"T_38abd_row0_col8\" class=\"data row0 col8\" >0.000800</td>\n",
       "      <td id=\"T_38abd_row0_col9\" class=\"data row0 col9\" >0.281300</td>\n",
       "      <td id=\"T_38abd_row0_col10\" class=\"data row0 col10\" >0.791900</td>\n",
       "    </tr>\n",
       "    <tr>\n",
       "      <th id=\"T_38abd_level0_row1\" class=\"row_heading level0 row1\" >1</th>\n",
       "      <td id=\"T_38abd_row1_col0\" class=\"data row1 col0\" >Light Gradient Boosting Machine</td>\n",
       "      <td id=\"T_38abd_row1_col1\" class=\"data row1 col1\" >0.924700</td>\n",
       "      <td id=\"T_38abd_row1_col2\" class=\"data row1 col2\" >0.975900</td>\n",
       "      <td id=\"T_38abd_row1_col3\" class=\"data row1 col3\" >0.978600</td>\n",
       "      <td id=\"T_38abd_row1_col4\" class=\"data row1 col4\" >0.870800</td>\n",
       "      <td id=\"T_38abd_row1_col5\" class=\"data row1 col5\" >0.883600</td>\n",
       "      <td id=\"T_38abd_row1_col6\" class=\"data row1 col6\" >0.928600</td>\n",
       "      <td id=\"T_38abd_row1_col7\" class=\"data row1 col7\" >0.849400</td>\n",
       "      <td id=\"T_38abd_row1_col8\" class=\"data row1 col8\" >0.024000</td>\n",
       "      <td id=\"T_38abd_row1_col9\" class=\"data row1 col9\" >0.145500</td>\n",
       "      <td id=\"T_38abd_row1_col10\" class=\"data row1 col10\" >0.763000</td>\n",
       "    </tr>\n",
       "    <tr>\n",
       "      <th id=\"T_38abd_level0_row2\" class=\"row_heading level0 row2\" >2</th>\n",
       "      <td id=\"T_38abd_row2_col0\" class=\"data row2 col0\" >CatBoost Classifier</td>\n",
       "      <td id=\"T_38abd_row2_col1\" class=\"data row2 col1\" >0.901500</td>\n",
       "      <td id=\"T_38abd_row2_col2\" class=\"data row2 col2\" >0.963300</td>\n",
       "      <td id=\"T_38abd_row2_col3\" class=\"data row2 col3\" >0.953100</td>\n",
       "      <td id=\"T_38abd_row2_col4\" class=\"data row2 col4\" >0.849900</td>\n",
       "      <td id=\"T_38abd_row2_col5\" class=\"data row2 col5\" >0.864200</td>\n",
       "      <td id=\"T_38abd_row2_col6\" class=\"data row2 col6\" >0.906400</td>\n",
       "      <td id=\"T_38abd_row2_col7\" class=\"data row2 col7\" >0.803000</td>\n",
       "      <td id=\"T_38abd_row2_col8\" class=\"data row2 col8\" >0.041100</td>\n",
       "      <td id=\"T_38abd_row2_col9\" class=\"data row2 col9\" >0.014700</td>\n",
       "      <td id=\"T_38abd_row2_col10\" class=\"data row2 col10\" >0.700400</td>\n",
       "    </tr>\n",
       "  </tbody>\n",
       "</table>\n"
      ],
      "text/plain": [
       "<pandas.io.formats.style.Styler at 0x21e53681fc0>"
      ]
     },
     "execution_count": 65,
     "metadata": {},
     "output_type": "execute_result"
    }
   ],
   "source": [
    "#Modelos que suportam missing (1) - Modelos pre-selecionados(2)\n",
    "compare_models(blacklist = [\"lr\",\"knn\",\"nb\",\"dt\",\"svm\",\"rbfsvm\",\"gpc\",\"ridge\",\"qda\",\"ada\",\"gbc\",\"lda\",\"et\",\"mlp\",\"rf\"] , turbo = False)"
   ]
  },
  {
   "cell_type": "markdown",
   "metadata": {},
   "source": [
    "### Tune selected models by AUC (and hyperopt bayesian optimization) to use on test data"
   ]
  },
  {
   "cell_type": "code",
   "execution_count": 66,
   "metadata": {
    "scrolled": true
   },
   "outputs": [
    {
     "data": {
      "text/html": [
       "<div>\n",
       "<style scoped>\n",
       "    .dataframe tbody tr th:only-of-type {\n",
       "        vertical-align: middle;\n",
       "    }\n",
       "\n",
       "    .dataframe tbody tr th {\n",
       "        vertical-align: top;\n",
       "    }\n",
       "\n",
       "    .dataframe thead th {\n",
       "        text-align: right;\n",
       "    }\n",
       "</style>\n",
       "<table border=\"1\" class=\"dataframe\">\n",
       "  <thead>\n",
       "    <tr style=\"text-align: right;\">\n",
       "      <th></th>\n",
       "      <th>Accuracy</th>\n",
       "      <th>AUC</th>\n",
       "      <th>Recall</th>\n",
       "      <th>Specificity</th>\n",
       "      <th>Prec.</th>\n",
       "      <th>F1</th>\n",
       "      <th>Kappa</th>\n",
       "      <th>Hosmer_lemeshow</th>\n",
       "      <th>Spiegelhalter</th>\n",
       "      <th>Scaled_brier</th>\n",
       "    </tr>\n",
       "  </thead>\n",
       "  <tbody>\n",
       "    <tr>\n",
       "      <th>0</th>\n",
       "      <td>0.958</td>\n",
       "      <td>0.993</td>\n",
       "      <td>0.986</td>\n",
       "      <td>0.931</td>\n",
       "      <td>0.934</td>\n",
       "      <td>0.959</td>\n",
       "      <td>0.916</td>\n",
       "      <td>0.000</td>\n",
       "      <td>0.114</td>\n",
       "      <td>0.859</td>\n",
       "    </tr>\n",
       "    <tr>\n",
       "      <th>1</th>\n",
       "      <td>0.940</td>\n",
       "      <td>0.996</td>\n",
       "      <td>0.986</td>\n",
       "      <td>0.893</td>\n",
       "      <td>0.902</td>\n",
       "      <td>0.942</td>\n",
       "      <td>0.879</td>\n",
       "      <td>0.000</td>\n",
       "      <td>0.001</td>\n",
       "      <td>0.826</td>\n",
       "    </tr>\n",
       "    <tr>\n",
       "      <th>2</th>\n",
       "      <td>0.933</td>\n",
       "      <td>0.995</td>\n",
       "      <td>0.982</td>\n",
       "      <td>0.884</td>\n",
       "      <td>0.894</td>\n",
       "      <td>0.936</td>\n",
       "      <td>0.865</td>\n",
       "      <td>0.000</td>\n",
       "      <td>0.019</td>\n",
       "      <td>0.820</td>\n",
       "    </tr>\n",
       "    <tr>\n",
       "      <th>3</th>\n",
       "      <td>0.956</td>\n",
       "      <td>0.999</td>\n",
       "      <td>0.995</td>\n",
       "      <td>0.916</td>\n",
       "      <td>0.923</td>\n",
       "      <td>0.958</td>\n",
       "      <td>0.912</td>\n",
       "      <td>0.000</td>\n",
       "      <td>0.534</td>\n",
       "      <td>0.864</td>\n",
       "    </tr>\n",
       "    <tr>\n",
       "      <th>4</th>\n",
       "      <td>0.930</td>\n",
       "      <td>0.993</td>\n",
       "      <td>0.981</td>\n",
       "      <td>0.879</td>\n",
       "      <td>0.890</td>\n",
       "      <td>0.934</td>\n",
       "      <td>0.861</td>\n",
       "      <td>0.000</td>\n",
       "      <td>0.011</td>\n",
       "      <td>0.815</td>\n",
       "    </tr>\n",
       "    <tr>\n",
       "      <th>5</th>\n",
       "      <td>0.935</td>\n",
       "      <td>0.992</td>\n",
       "      <td>0.977</td>\n",
       "      <td>0.893</td>\n",
       "      <td>0.901</td>\n",
       "      <td>0.938</td>\n",
       "      <td>0.870</td>\n",
       "      <td>0.000</td>\n",
       "      <td>0.014</td>\n",
       "      <td>0.823</td>\n",
       "    </tr>\n",
       "    <tr>\n",
       "      <th>6</th>\n",
       "      <td>0.930</td>\n",
       "      <td>0.991</td>\n",
       "      <td>0.977</td>\n",
       "      <td>0.884</td>\n",
       "      <td>0.894</td>\n",
       "      <td>0.933</td>\n",
       "      <td>0.861</td>\n",
       "      <td>0.000</td>\n",
       "      <td>0.005</td>\n",
       "      <td>0.791</td>\n",
       "    </tr>\n",
       "    <tr>\n",
       "      <th>7</th>\n",
       "      <td>0.956</td>\n",
       "      <td>0.997</td>\n",
       "      <td>0.991</td>\n",
       "      <td>0.921</td>\n",
       "      <td>0.926</td>\n",
       "      <td>0.957</td>\n",
       "      <td>0.912</td>\n",
       "      <td>0.000</td>\n",
       "      <td>0.382</td>\n",
       "      <td>0.859</td>\n",
       "    </tr>\n",
       "    <tr>\n",
       "      <th>8</th>\n",
       "      <td>0.956</td>\n",
       "      <td>0.995</td>\n",
       "      <td>0.991</td>\n",
       "      <td>0.921</td>\n",
       "      <td>0.926</td>\n",
       "      <td>0.957</td>\n",
       "      <td>0.912</td>\n",
       "      <td>0.000</td>\n",
       "      <td>0.593</td>\n",
       "      <td>0.849</td>\n",
       "    </tr>\n",
       "    <tr>\n",
       "      <th>9</th>\n",
       "      <td>0.937</td>\n",
       "      <td>0.993</td>\n",
       "      <td>0.981</td>\n",
       "      <td>0.893</td>\n",
       "      <td>0.902</td>\n",
       "      <td>0.940</td>\n",
       "      <td>0.874</td>\n",
       "      <td>0.000</td>\n",
       "      <td>0.015</td>\n",
       "      <td>0.828</td>\n",
       "    </tr>\n",
       "    <tr>\n",
       "      <th>Mean</th>\n",
       "      <td>0.943</td>\n",
       "      <td>0.994</td>\n",
       "      <td>0.985</td>\n",
       "      <td>0.901</td>\n",
       "      <td>0.909</td>\n",
       "      <td>0.945</td>\n",
       "      <td>0.886</td>\n",
       "      <td>0.000</td>\n",
       "      <td>0.169</td>\n",
       "      <td>0.833</td>\n",
       "    </tr>\n",
       "    <tr>\n",
       "      <th>SD</th>\n",
       "      <td>0.011</td>\n",
       "      <td>0.003</td>\n",
       "      <td>0.006</td>\n",
       "      <td>0.018</td>\n",
       "      <td>0.015</td>\n",
       "      <td>0.011</td>\n",
       "      <td>0.022</td>\n",
       "      <td>0.000</td>\n",
       "      <td>0.169</td>\n",
       "      <td>0.833</td>\n",
       "    </tr>\n",
       "  </tbody>\n",
       "</table>\n",
       "</div>"
      ],
      "text/plain": [
       "      Accuracy   AUC  Recall  Specificity  Prec.    F1  Kappa  \\\n",
       "0        0.958 0.993   0.986        0.931  0.934 0.959  0.916   \n",
       "1        0.940 0.996   0.986        0.893  0.902 0.942  0.879   \n",
       "2        0.933 0.995   0.982        0.884  0.894 0.936  0.865   \n",
       "3        0.956 0.999   0.995        0.916  0.923 0.958  0.912   \n",
       "4        0.930 0.993   0.981        0.879  0.890 0.934  0.861   \n",
       "5        0.935 0.992   0.977        0.893  0.901 0.938  0.870   \n",
       "6        0.930 0.991   0.977        0.884  0.894 0.933  0.861   \n",
       "7        0.956 0.997   0.991        0.921  0.926 0.957  0.912   \n",
       "8        0.956 0.995   0.991        0.921  0.926 0.957  0.912   \n",
       "9        0.937 0.993   0.981        0.893  0.902 0.940  0.874   \n",
       "Mean     0.943 0.994   0.985        0.901  0.909 0.945  0.886   \n",
       "SD       0.011 0.003   0.006        0.018  0.015 0.011  0.022   \n",
       "\n",
       "      Hosmer_lemeshow  Spiegelhalter  Scaled_brier  \n",
       "0               0.000          0.114         0.859  \n",
       "1               0.000          0.001         0.826  \n",
       "2               0.000          0.019         0.820  \n",
       "3               0.000          0.534         0.864  \n",
       "4               0.000          0.011         0.815  \n",
       "5               0.000          0.014         0.823  \n",
       "6               0.000          0.005         0.791  \n",
       "7               0.000          0.382         0.859  \n",
       "8               0.000          0.593         0.849  \n",
       "9               0.000          0.015         0.828  \n",
       "Mean            0.000          0.169         0.833  \n",
       "SD              0.000          0.169         0.833  "
      ]
     },
     "metadata": {},
     "output_type": "display_data"
    }
   ],
   "source": [
    "cattuned = tune_model('catboost', optimize='AUC', n_iter=20)"
   ]
  },
  {
   "cell_type": "code",
   "execution_count": 67,
   "metadata": {},
   "outputs": [
    {
     "data": {
      "text/html": [
       "<div>\n",
       "<style scoped>\n",
       "    .dataframe tbody tr th:only-of-type {\n",
       "        vertical-align: middle;\n",
       "    }\n",
       "\n",
       "    .dataframe tbody tr th {\n",
       "        vertical-align: top;\n",
       "    }\n",
       "\n",
       "    .dataframe thead th {\n",
       "        text-align: right;\n",
       "    }\n",
       "</style>\n",
       "<table border=\"1\" class=\"dataframe\">\n",
       "  <thead>\n",
       "    <tr style=\"text-align: right;\">\n",
       "      <th></th>\n",
       "      <th>Accuracy</th>\n",
       "      <th>AUC</th>\n",
       "      <th>Recall</th>\n",
       "      <th>Specificity</th>\n",
       "      <th>Prec.</th>\n",
       "      <th>F1</th>\n",
       "      <th>Kappa</th>\n",
       "      <th>Hosmer_lemeshow</th>\n",
       "      <th>Spiegelhalter</th>\n",
       "      <th>Scaled_brier</th>\n",
       "    </tr>\n",
       "  </thead>\n",
       "  <tbody>\n",
       "    <tr>\n",
       "      <th>0</th>\n",
       "      <td>0.947</td>\n",
       "      <td>0.996</td>\n",
       "      <td>0.991</td>\n",
       "      <td>0.903</td>\n",
       "      <td>0.910</td>\n",
       "      <td>0.949</td>\n",
       "      <td>0.893</td>\n",
       "      <td>0.000</td>\n",
       "      <td>0.000</td>\n",
       "      <td>0.835</td>\n",
       "    </tr>\n",
       "    <tr>\n",
       "      <th>1</th>\n",
       "      <td>0.933</td>\n",
       "      <td>0.991</td>\n",
       "      <td>0.991</td>\n",
       "      <td>0.875</td>\n",
       "      <td>0.887</td>\n",
       "      <td>0.936</td>\n",
       "      <td>0.866</td>\n",
       "      <td>0.000</td>\n",
       "      <td>0.000</td>\n",
       "      <td>0.775</td>\n",
       "    </tr>\n",
       "    <tr>\n",
       "      <th>2</th>\n",
       "      <td>0.914</td>\n",
       "      <td>0.986</td>\n",
       "      <td>0.991</td>\n",
       "      <td>0.837</td>\n",
       "      <td>0.859</td>\n",
       "      <td>0.920</td>\n",
       "      <td>0.828</td>\n",
       "      <td>0.000</td>\n",
       "      <td>0.000</td>\n",
       "      <td>0.732</td>\n",
       "    </tr>\n",
       "    <tr>\n",
       "      <th>3</th>\n",
       "      <td>0.947</td>\n",
       "      <td>1.000</td>\n",
       "      <td>0.995</td>\n",
       "      <td>0.898</td>\n",
       "      <td>0.907</td>\n",
       "      <td>0.949</td>\n",
       "      <td>0.893</td>\n",
       "      <td>0.000</td>\n",
       "      <td>0.000</td>\n",
       "      <td>0.831</td>\n",
       "    </tr>\n",
       "    <tr>\n",
       "      <th>4</th>\n",
       "      <td>0.928</td>\n",
       "      <td>0.994</td>\n",
       "      <td>0.981</td>\n",
       "      <td>0.874</td>\n",
       "      <td>0.887</td>\n",
       "      <td>0.932</td>\n",
       "      <td>0.856</td>\n",
       "      <td>0.000</td>\n",
       "      <td>0.000</td>\n",
       "      <td>0.761</td>\n",
       "    </tr>\n",
       "    <tr>\n",
       "      <th>5</th>\n",
       "      <td>0.921</td>\n",
       "      <td>0.990</td>\n",
       "      <td>0.986</td>\n",
       "      <td>0.856</td>\n",
       "      <td>0.872</td>\n",
       "      <td>0.926</td>\n",
       "      <td>0.842</td>\n",
       "      <td>0.000</td>\n",
       "      <td>0.000</td>\n",
       "      <td>0.744</td>\n",
       "    </tr>\n",
       "    <tr>\n",
       "      <th>6</th>\n",
       "      <td>0.923</td>\n",
       "      <td>0.989</td>\n",
       "      <td>0.991</td>\n",
       "      <td>0.856</td>\n",
       "      <td>0.873</td>\n",
       "      <td>0.928</td>\n",
       "      <td>0.847</td>\n",
       "      <td>0.000</td>\n",
       "      <td>0.000</td>\n",
       "      <td>0.760</td>\n",
       "    </tr>\n",
       "    <tr>\n",
       "      <th>7</th>\n",
       "      <td>0.930</td>\n",
       "      <td>0.993</td>\n",
       "      <td>0.991</td>\n",
       "      <td>0.870</td>\n",
       "      <td>0.884</td>\n",
       "      <td>0.934</td>\n",
       "      <td>0.861</td>\n",
       "      <td>0.000</td>\n",
       "      <td>0.000</td>\n",
       "      <td>0.779</td>\n",
       "    </tr>\n",
       "    <tr>\n",
       "      <th>8</th>\n",
       "      <td>0.933</td>\n",
       "      <td>0.988</td>\n",
       "      <td>0.981</td>\n",
       "      <td>0.884</td>\n",
       "      <td>0.894</td>\n",
       "      <td>0.936</td>\n",
       "      <td>0.865</td>\n",
       "      <td>0.000</td>\n",
       "      <td>0.000</td>\n",
       "      <td>0.787</td>\n",
       "    </tr>\n",
       "    <tr>\n",
       "      <th>9</th>\n",
       "      <td>0.935</td>\n",
       "      <td>0.994</td>\n",
       "      <td>0.986</td>\n",
       "      <td>0.884</td>\n",
       "      <td>0.894</td>\n",
       "      <td>0.938</td>\n",
       "      <td>0.870</td>\n",
       "      <td>0.000</td>\n",
       "      <td>0.000</td>\n",
       "      <td>0.803</td>\n",
       "    </tr>\n",
       "    <tr>\n",
       "      <th>Mean</th>\n",
       "      <td>0.931</td>\n",
       "      <td>0.992</td>\n",
       "      <td>0.988</td>\n",
       "      <td>0.874</td>\n",
       "      <td>0.887</td>\n",
       "      <td>0.935</td>\n",
       "      <td>0.862</td>\n",
       "      <td>0.000</td>\n",
       "      <td>0.000</td>\n",
       "      <td>0.781</td>\n",
       "    </tr>\n",
       "    <tr>\n",
       "      <th>SD</th>\n",
       "      <td>0.010</td>\n",
       "      <td>0.004</td>\n",
       "      <td>0.004</td>\n",
       "      <td>0.019</td>\n",
       "      <td>0.015</td>\n",
       "      <td>0.009</td>\n",
       "      <td>0.020</td>\n",
       "      <td>0.000</td>\n",
       "      <td>0.000</td>\n",
       "      <td>0.781</td>\n",
       "    </tr>\n",
       "  </tbody>\n",
       "</table>\n",
       "</div>"
      ],
      "text/plain": [
       "      Accuracy   AUC  Recall  Specificity  Prec.    F1  Kappa  \\\n",
       "0        0.947 0.996   0.991        0.903  0.910 0.949  0.893   \n",
       "1        0.933 0.991   0.991        0.875  0.887 0.936  0.866   \n",
       "2        0.914 0.986   0.991        0.837  0.859 0.920  0.828   \n",
       "3        0.947 1.000   0.995        0.898  0.907 0.949  0.893   \n",
       "4        0.928 0.994   0.981        0.874  0.887 0.932  0.856   \n",
       "5        0.921 0.990   0.986        0.856  0.872 0.926  0.842   \n",
       "6        0.923 0.989   0.991        0.856  0.873 0.928  0.847   \n",
       "7        0.930 0.993   0.991        0.870  0.884 0.934  0.861   \n",
       "8        0.933 0.988   0.981        0.884  0.894 0.936  0.865   \n",
       "9        0.935 0.994   0.986        0.884  0.894 0.938  0.870   \n",
       "Mean     0.931 0.992   0.988        0.874  0.887 0.935  0.862   \n",
       "SD       0.010 0.004   0.004        0.019  0.015 0.009  0.020   \n",
       "\n",
       "      Hosmer_lemeshow  Spiegelhalter  Scaled_brier  \n",
       "0               0.000          0.000         0.835  \n",
       "1               0.000          0.000         0.775  \n",
       "2               0.000          0.000         0.732  \n",
       "3               0.000          0.000         0.831  \n",
       "4               0.000          0.000         0.761  \n",
       "5               0.000          0.000         0.744  \n",
       "6               0.000          0.000         0.760  \n",
       "7               0.000          0.000         0.779  \n",
       "8               0.000          0.000         0.787  \n",
       "9               0.000          0.000         0.803  \n",
       "Mean            0.000          0.000         0.781  \n",
       "SD              0.000          0.000         0.781  "
      ]
     },
     "metadata": {},
     "output_type": "display_data"
    }
   ],
   "source": [
    "lgbmtuned = tune_model('lightgbm', optimize='AUC', n_iter=20)"
   ]
  },
  {
   "cell_type": "code",
   "execution_count": 68,
   "metadata": {},
   "outputs": [
    {
     "data": {
      "text/html": [
       "<div>\n",
       "<style scoped>\n",
       "    .dataframe tbody tr th:only-of-type {\n",
       "        vertical-align: middle;\n",
       "    }\n",
       "\n",
       "    .dataframe tbody tr th {\n",
       "        vertical-align: top;\n",
       "    }\n",
       "\n",
       "    .dataframe thead th {\n",
       "        text-align: right;\n",
       "    }\n",
       "</style>\n",
       "<table border=\"1\" class=\"dataframe\">\n",
       "  <thead>\n",
       "    <tr style=\"text-align: right;\">\n",
       "      <th></th>\n",
       "      <th>Accuracy</th>\n",
       "      <th>AUC</th>\n",
       "      <th>Recall</th>\n",
       "      <th>Specificity</th>\n",
       "      <th>Prec.</th>\n",
       "      <th>F1</th>\n",
       "      <th>Kappa</th>\n",
       "      <th>Hosmer_lemeshow</th>\n",
       "      <th>Spiegelhalter</th>\n",
       "      <th>Scaled_brier</th>\n",
       "    </tr>\n",
       "  </thead>\n",
       "  <tbody>\n",
       "    <tr>\n",
       "      <th>0</th>\n",
       "      <td>0.933</td>\n",
       "      <td>0.982</td>\n",
       "      <td>0.967</td>\n",
       "      <td>0.898</td>\n",
       "      <td>0.904</td>\n",
       "      <td>0.935</td>\n",
       "      <td>0.866</td>\n",
       "      <td>0.128</td>\n",
       "      <td>0.213</td>\n",
       "      <td>0.788</td>\n",
       "    </tr>\n",
       "    <tr>\n",
       "      <th>1</th>\n",
       "      <td>0.921</td>\n",
       "      <td>0.973</td>\n",
       "      <td>0.986</td>\n",
       "      <td>0.857</td>\n",
       "      <td>0.872</td>\n",
       "      <td>0.926</td>\n",
       "      <td>0.842</td>\n",
       "      <td>0.000</td>\n",
       "      <td>0.677</td>\n",
       "      <td>0.759</td>\n",
       "    </tr>\n",
       "    <tr>\n",
       "      <th>2</th>\n",
       "      <td>0.898</td>\n",
       "      <td>0.963</td>\n",
       "      <td>0.958</td>\n",
       "      <td>0.837</td>\n",
       "      <td>0.855</td>\n",
       "      <td>0.904</td>\n",
       "      <td>0.796</td>\n",
       "      <td>0.173</td>\n",
       "      <td>0.541</td>\n",
       "      <td>0.706</td>\n",
       "    </tr>\n",
       "    <tr>\n",
       "      <th>3</th>\n",
       "      <td>0.937</td>\n",
       "      <td>0.983</td>\n",
       "      <td>0.995</td>\n",
       "      <td>0.879</td>\n",
       "      <td>0.892</td>\n",
       "      <td>0.941</td>\n",
       "      <td>0.875</td>\n",
       "      <td>0.002</td>\n",
       "      <td>0.028</td>\n",
       "      <td>0.795</td>\n",
       "    </tr>\n",
       "    <tr>\n",
       "      <th>4</th>\n",
       "      <td>0.926</td>\n",
       "      <td>0.976</td>\n",
       "      <td>0.977</td>\n",
       "      <td>0.874</td>\n",
       "      <td>0.886</td>\n",
       "      <td>0.929</td>\n",
       "      <td>0.851</td>\n",
       "      <td>0.028</td>\n",
       "      <td>0.453</td>\n",
       "      <td>0.758</td>\n",
       "    </tr>\n",
       "    <tr>\n",
       "      <th>5</th>\n",
       "      <td>0.914</td>\n",
       "      <td>0.961</td>\n",
       "      <td>0.967</td>\n",
       "      <td>0.861</td>\n",
       "      <td>0.874</td>\n",
       "      <td>0.918</td>\n",
       "      <td>0.828</td>\n",
       "      <td>0.000</td>\n",
       "      <td>0.952</td>\n",
       "      <td>0.725</td>\n",
       "    </tr>\n",
       "    <tr>\n",
       "      <th>6</th>\n",
       "      <td>0.907</td>\n",
       "      <td>0.971</td>\n",
       "      <td>0.981</td>\n",
       "      <td>0.833</td>\n",
       "      <td>0.854</td>\n",
       "      <td>0.913</td>\n",
       "      <td>0.814</td>\n",
       "      <td>0.002</td>\n",
       "      <td>0.446</td>\n",
       "      <td>0.744</td>\n",
       "    </tr>\n",
       "    <tr>\n",
       "      <th>7</th>\n",
       "      <td>0.930</td>\n",
       "      <td>0.975</td>\n",
       "      <td>0.981</td>\n",
       "      <td>0.879</td>\n",
       "      <td>0.890</td>\n",
       "      <td>0.934</td>\n",
       "      <td>0.861</td>\n",
       "      <td>0.095</td>\n",
       "      <td>0.187</td>\n",
       "      <td>0.761</td>\n",
       "    </tr>\n",
       "    <tr>\n",
       "      <th>8</th>\n",
       "      <td>0.916</td>\n",
       "      <td>0.972</td>\n",
       "      <td>0.967</td>\n",
       "      <td>0.865</td>\n",
       "      <td>0.878</td>\n",
       "      <td>0.920</td>\n",
       "      <td>0.833</td>\n",
       "      <td>0.004</td>\n",
       "      <td>0.123</td>\n",
       "      <td>0.758</td>\n",
       "    </tr>\n",
       "    <tr>\n",
       "      <th>9</th>\n",
       "      <td>0.916</td>\n",
       "      <td>0.977</td>\n",
       "      <td>0.972</td>\n",
       "      <td>0.861</td>\n",
       "      <td>0.875</td>\n",
       "      <td>0.921</td>\n",
       "      <td>0.833</td>\n",
       "      <td>0.003</td>\n",
       "      <td>0.350</td>\n",
       "      <td>0.763</td>\n",
       "    </tr>\n",
       "    <tr>\n",
       "      <th>Mean</th>\n",
       "      <td>0.920</td>\n",
       "      <td>0.973</td>\n",
       "      <td>0.975</td>\n",
       "      <td>0.864</td>\n",
       "      <td>0.878</td>\n",
       "      <td>0.924</td>\n",
       "      <td>0.840</td>\n",
       "      <td>0.043</td>\n",
       "      <td>0.397</td>\n",
       "      <td>0.756</td>\n",
       "    </tr>\n",
       "    <tr>\n",
       "      <th>SD</th>\n",
       "      <td>0.011</td>\n",
       "      <td>0.007</td>\n",
       "      <td>0.010</td>\n",
       "      <td>0.019</td>\n",
       "      <td>0.015</td>\n",
       "      <td>0.011</td>\n",
       "      <td>0.023</td>\n",
       "      <td>0.043</td>\n",
       "      <td>0.397</td>\n",
       "      <td>0.756</td>\n",
       "    </tr>\n",
       "  </tbody>\n",
       "</table>\n",
       "</div>"
      ],
      "text/plain": [
       "      Accuracy   AUC  Recall  Specificity  Prec.    F1  Kappa  \\\n",
       "0        0.933 0.982   0.967        0.898  0.904 0.935  0.866   \n",
       "1        0.921 0.973   0.986        0.857  0.872 0.926  0.842   \n",
       "2        0.898 0.963   0.958        0.837  0.855 0.904  0.796   \n",
       "3        0.937 0.983   0.995        0.879  0.892 0.941  0.875   \n",
       "4        0.926 0.976   0.977        0.874  0.886 0.929  0.851   \n",
       "5        0.914 0.961   0.967        0.861  0.874 0.918  0.828   \n",
       "6        0.907 0.971   0.981        0.833  0.854 0.913  0.814   \n",
       "7        0.930 0.975   0.981        0.879  0.890 0.934  0.861   \n",
       "8        0.916 0.972   0.967        0.865  0.878 0.920  0.833   \n",
       "9        0.916 0.977   0.972        0.861  0.875 0.921  0.833   \n",
       "Mean     0.920 0.973   0.975        0.864  0.878 0.924  0.840   \n",
       "SD       0.011 0.007   0.010        0.019  0.015 0.011  0.023   \n",
       "\n",
       "      Hosmer_lemeshow  Spiegelhalter  Scaled_brier  \n",
       "0               0.128          0.213         0.788  \n",
       "1               0.000          0.677         0.759  \n",
       "2               0.173          0.541         0.706  \n",
       "3               0.002          0.028         0.795  \n",
       "4               0.028          0.453         0.758  \n",
       "5               0.000          0.952         0.725  \n",
       "6               0.002          0.446         0.744  \n",
       "7               0.095          0.187         0.761  \n",
       "8               0.004          0.123         0.758  \n",
       "9               0.003          0.350         0.763  \n",
       "Mean            0.043          0.397         0.756  \n",
       "SD              0.043          0.397         0.756  "
      ]
     },
     "metadata": {},
     "output_type": "display_data"
    }
   ],
   "source": [
    "xgbtuned = tune_model('xgboost', optimize='AUC', n_iter=20)"
   ]
  },
  {
   "cell_type": "markdown",
   "metadata": {},
   "source": [
    "### Select best algorithm based on AUC in predicts"
   ]
  },
  {
   "cell_type": "code",
   "execution_count": 69,
   "metadata": {},
   "outputs": [
    {
     "data": {
      "text/html": [
       "<div>\n",
       "<style scoped>\n",
       "    .dataframe tbody tr th:only-of-type {\n",
       "        vertical-align: middle;\n",
       "    }\n",
       "\n",
       "    .dataframe tbody tr th {\n",
       "        vertical-align: top;\n",
       "    }\n",
       "\n",
       "    .dataframe thead th {\n",
       "        text-align: right;\n",
       "    }\n",
       "</style>\n",
       "<table border=\"1\" class=\"dataframe\">\n",
       "  <thead>\n",
       "    <tr style=\"text-align: right;\">\n",
       "      <th></th>\n",
       "      <th>Model</th>\n",
       "      <th>Accuracy</th>\n",
       "      <th>AUC</th>\n",
       "      <th>Recall</th>\n",
       "      <th>Specificity</th>\n",
       "      <th>Prec.</th>\n",
       "      <th>F1</th>\n",
       "      <th>Kappa</th>\n",
       "      <th>Hosmer_lemeshow</th>\n",
       "      <th>Spiegelhalter</th>\n",
       "      <th>Scaled_brier</th>\n",
       "    </tr>\n",
       "  </thead>\n",
       "  <tbody>\n",
       "    <tr>\n",
       "      <th>0</th>\n",
       "      <td>CatBoost Classifier</td>\n",
       "      <td>0.806</td>\n",
       "      <td>0.838</td>\n",
       "      <td>0.512</td>\n",
       "      <td>0.886</td>\n",
       "      <td>0.551</td>\n",
       "      <td>0.531</td>\n",
       "      <td>0.409</td>\n",
       "      <td>0.000</td>\n",
       "      <td>0.000</td>\n",
       "      <td>0.150</td>\n",
       "    </tr>\n",
       "  </tbody>\n",
       "</table>\n",
       "</div>"
      ],
      "text/plain": [
       "                 Model  Accuracy   AUC  Recall  Specificity  Prec.    F1  \\\n",
       "0  CatBoost Classifier     0.806 0.838   0.512        0.886  0.551 0.531   \n",
       "\n",
       "   Kappa  Hosmer_lemeshow  Spiegelhalter  Scaled_brier  \n",
       "0  0.409            0.000          0.000         0.150  "
      ]
     },
     "metadata": {},
     "output_type": "display_data"
    }
   ],
   "source": [
    "preds_cat = predict_model(cattuned)"
   ]
  },
  {
   "cell_type": "code",
   "execution_count": 70,
   "metadata": {},
   "outputs": [
    {
     "data": {
      "text/html": [
       "<div>\n",
       "<style scoped>\n",
       "    .dataframe tbody tr th:only-of-type {\n",
       "        vertical-align: middle;\n",
       "    }\n",
       "\n",
       "    .dataframe tbody tr th {\n",
       "        vertical-align: top;\n",
       "    }\n",
       "\n",
       "    .dataframe thead th {\n",
       "        text-align: right;\n",
       "    }\n",
       "</style>\n",
       "<table border=\"1\" class=\"dataframe\">\n",
       "  <thead>\n",
       "    <tr style=\"text-align: right;\">\n",
       "      <th></th>\n",
       "      <th>Model</th>\n",
       "      <th>Accuracy</th>\n",
       "      <th>AUC</th>\n",
       "      <th>Recall</th>\n",
       "      <th>Specificity</th>\n",
       "      <th>Prec.</th>\n",
       "      <th>F1</th>\n",
       "      <th>Kappa</th>\n",
       "      <th>Hosmer_lemeshow</th>\n",
       "      <th>Spiegelhalter</th>\n",
       "      <th>Scaled_brier</th>\n",
       "    </tr>\n",
       "  </thead>\n",
       "  <tbody>\n",
       "    <tr>\n",
       "      <th>0</th>\n",
       "      <td>Light Gradient Boosting Machine</td>\n",
       "      <td>0.803</td>\n",
       "      <td>0.838</td>\n",
       "      <td>0.556</td>\n",
       "      <td>0.870</td>\n",
       "      <td>0.538</td>\n",
       "      <td>0.547</td>\n",
       "      <td>0.421</td>\n",
       "      <td>0.000</td>\n",
       "      <td>0.000</td>\n",
       "      <td>0.056</td>\n",
       "    </tr>\n",
       "  </tbody>\n",
       "</table>\n",
       "</div>"
      ],
      "text/plain": [
       "                             Model  Accuracy   AUC  Recall  Specificity  \\\n",
       "0  Light Gradient Boosting Machine     0.803 0.838   0.556        0.870   \n",
       "\n",
       "   Prec.    F1  Kappa  Hosmer_lemeshow  Spiegelhalter  Scaled_brier  \n",
       "0  0.538 0.547  0.421            0.000          0.000         0.056  "
      ]
     },
     "metadata": {},
     "output_type": "display_data"
    }
   ],
   "source": [
    "preds_lgb = predict_model(lgbmtuned)"
   ]
  },
  {
   "cell_type": "code",
   "execution_count": 71,
   "metadata": {},
   "outputs": [
    {
     "data": {
      "text/html": [
       "<div>\n",
       "<style scoped>\n",
       "    .dataframe tbody tr th:only-of-type {\n",
       "        vertical-align: middle;\n",
       "    }\n",
       "\n",
       "    .dataframe tbody tr th {\n",
       "        vertical-align: top;\n",
       "    }\n",
       "\n",
       "    .dataframe thead th {\n",
       "        text-align: right;\n",
       "    }\n",
       "</style>\n",
       "<table border=\"1\" class=\"dataframe\">\n",
       "  <thead>\n",
       "    <tr style=\"text-align: right;\">\n",
       "      <th></th>\n",
       "      <th>Model</th>\n",
       "      <th>Accuracy</th>\n",
       "      <th>AUC</th>\n",
       "      <th>Recall</th>\n",
       "      <th>Specificity</th>\n",
       "      <th>Prec.</th>\n",
       "      <th>F1</th>\n",
       "      <th>Kappa</th>\n",
       "      <th>Hosmer_lemeshow</th>\n",
       "      <th>Spiegelhalter</th>\n",
       "      <th>Scaled_brier</th>\n",
       "    </tr>\n",
       "  </thead>\n",
       "  <tbody>\n",
       "    <tr>\n",
       "      <th>0</th>\n",
       "      <td>Extreme Gradient Boosting</td>\n",
       "      <td>0.799</td>\n",
       "      <td>0.833</td>\n",
       "      <td>0.587</td>\n",
       "      <td>0.857</td>\n",
       "      <td>0.529</td>\n",
       "      <td>0.556</td>\n",
       "      <td>0.427</td>\n",
       "      <td>0.000</td>\n",
       "      <td>0.000</td>\n",
       "      <td>0.158</td>\n",
       "    </tr>\n",
       "  </tbody>\n",
       "</table>\n",
       "</div>"
      ],
      "text/plain": [
       "                       Model  Accuracy   AUC  Recall  Specificity  Prec.  \\\n",
       "0  Extreme Gradient Boosting     0.799 0.833   0.587        0.857  0.529   \n",
       "\n",
       "     F1  Kappa  Hosmer_lemeshow  Spiegelhalter  Scaled_brier  \n",
       "0 0.556  0.427            0.000          0.000         0.158  "
      ]
     },
     "metadata": {},
     "output_type": "display_data"
    }
   ],
   "source": [
    "preds_xgb = predict_model(xgbtuned)"
   ]
  },
  {
   "cell_type": "code",
   "execution_count": 82,
   "metadata": {},
   "outputs": [],
   "source": [
    "# Put in PREDS the best algorithm chosen in the previous lines: preds_cat OR preds_lgb OR preds_xgb\n",
    "preds = preds_cat\n",
    "#preds = preds_lgb\n",
    "#preds = preds_xgb"
   ]
  },
  {
   "cell_type": "markdown",
   "metadata": {},
   "source": [
    "### Best model"
   ]
  },
  {
   "cell_type": "code",
   "execution_count": 83,
   "metadata": {},
   "outputs": [
    {
     "data": {
      "text/plain": [
       "0.8694267515923567"
      ]
     },
     "execution_count": 83,
     "metadata": {},
     "output_type": "execute_result"
    }
   ],
   "source": [
    "npv(y_test, preds['Label'])"
   ]
  },
  {
   "cell_type": "code",
   "execution_count": 84,
   "metadata": {},
   "outputs": [
    {
     "data": {
      "text/plain": [
       "['0.81', '0.86']"
      ]
     },
     "execution_count": 84,
     "metadata": {},
     "output_type": "execute_result"
    }
   ],
   "source": [
    "#ROC AUC (INTERVALO)\n",
    "[\"{0:0.2f}\".format(i) for i in AUC_CI(y_test, preds['Score'].values)]"
   ]
  },
  {
   "cell_type": "code",
   "execution_count": 85,
   "metadata": {},
   "outputs": [
    {
     "data": {
      "text/html": [
       "<div>\n",
       "<style scoped>\n",
       "    .dataframe tbody tr th:only-of-type {\n",
       "        vertical-align: middle;\n",
       "    }\n",
       "\n",
       "    .dataframe tbody tr th {\n",
       "        vertical-align: top;\n",
       "    }\n",
       "\n",
       "    .dataframe thead th {\n",
       "        text-align: right;\n",
       "    }\n",
       "</style>\n",
       "<table border=\"1\" class=\"dataframe\">\n",
       "  <thead>\n",
       "    <tr style=\"text-align: right;\">\n",
       "      <th></th>\n",
       "      <th></th>\n",
       "      <th></th>\n",
       "    </tr>\n",
       "    <tr>\n",
       "      <th></th>\n",
       "      <th></th>\n",
       "      <th></th>\n",
       "    </tr>\n",
       "  </thead>\n",
       "  <tbody>\n",
       "    <tr>\n",
       "      <th>Ground Truth Prevalence</th>\n",
       "      <td>. . .</td>\n",
       "      <td>0.214</td>\n",
       "    </tr>\n",
       "    <tr>\n",
       "      <th>Test set Prevalence</th>\n",
       "      <td>. . .</td>\n",
       "      <td>0.199</td>\n",
       "    </tr>\n",
       "    <tr>\n",
       "      <th>True positive rate (recall)</th>\n",
       "      <td>. . .</td>\n",
       "      <td>0.512</td>\n",
       "    </tr>\n",
       "    <tr>\n",
       "      <th>False positive rate</th>\n",
       "      <td>. . .</td>\n",
       "      <td>0.114</td>\n",
       "    </tr>\n",
       "    <tr>\n",
       "      <th>Positive predictive value (precision)</th>\n",
       "      <td>. . .</td>\n",
       "      <td>0.551</td>\n",
       "    </tr>\n",
       "    <tr>\n",
       "      <th>True negative rate (specificity)</th>\n",
       "      <td>. . .</td>\n",
       "      <td>0.886</td>\n",
       "    </tr>\n",
       "    <tr>\n",
       "      <th>False negative rate</th>\n",
       "      <td>. . .</td>\n",
       "      <td>0.488</td>\n",
       "    </tr>\n",
       "    <tr>\n",
       "      <th>Negative predictive value</th>\n",
       "      <td>. . .</td>\n",
       "      <td>0.869</td>\n",
       "    </tr>\n",
       "    <tr>\n",
       "      <th>Positive likelihood ratio (bigger is better)</th>\n",
       "      <td>. . .</td>\n",
       "      <td>4.505</td>\n",
       "    </tr>\n",
       "    <tr>\n",
       "      <th>Negative likelihood ratio (smaller is better)</th>\n",
       "      <td>. . .</td>\n",
       "      <td>0.551</td>\n",
       "    </tr>\n",
       "    <tr>\n",
       "      <th>Diagnostic odds ratio</th>\n",
       "      <td>. . .</td>\n",
       "      <td>8.180</td>\n",
       "    </tr>\n",
       "    <tr>\n",
       "      <th>Accuracy</th>\n",
       "      <td>. . .</td>\n",
       "      <td>0.806</td>\n",
       "    </tr>\n",
       "    <tr>\n",
       "      <th>F1 score</th>\n",
       "      <td>. . .</td>\n",
       "      <td>0.531</td>\n",
       "    </tr>\n",
       "    <tr>\n",
       "      <th>Accuracy</th>\n",
       "      <td>. . .</td>\n",
       "      <td>0.806</td>\n",
       "    </tr>\n",
       "    <tr>\n",
       "      <th>ROC AUC</th>\n",
       "      <td>. . .</td>\n",
       "      <td>0.838</td>\n",
       "    </tr>\n",
       "    <tr>\n",
       "      <th>ROC AUC (95% CI)</th>\n",
       "      <td>. . .</td>\n",
       "      <td>[0.81, 0.86]</td>\n",
       "    </tr>\n",
       "    <tr>\n",
       "      <th>Scaled Brier Score</th>\n",
       "      <td>. . .</td>\n",
       "      <td>0.150</td>\n",
       "    </tr>\n",
       "    <tr>\n",
       "      <th>Hosmer_Lemeshow p-value</th>\n",
       "      <td>. . .</td>\n",
       "      <td>0.000</td>\n",
       "    </tr>\n",
       "    <tr>\n",
       "      <th>Spiegelhalter p-value</th>\n",
       "      <td>. . .</td>\n",
       "      <td>0.000</td>\n",
       "    </tr>\n",
       "  </tbody>\n",
       "</table>\n",
       "</div>"
      ],
      "text/plain": [
       "                                                                   \n",
       "                                                                   \n",
       "Ground Truth Prevalence                        . . .          0.214\n",
       "Test set Prevalence                            . . .          0.199\n",
       "True positive rate (recall)                    . . .          0.512\n",
       "False positive rate                            . . .          0.114\n",
       "Positive predictive value (precision)          . . .          0.551\n",
       "True negative rate (specificity)               . . .          0.886\n",
       "False negative rate                            . . .          0.488\n",
       "Negative predictive value                      . . .          0.869\n",
       "Positive likelihood ratio (bigger is better)   . . .          4.505\n",
       "Negative likelihood ratio (smaller is better)  . . .          0.551\n",
       "Diagnostic odds ratio                          . . .          8.180\n",
       "Accuracy                                       . . .          0.806\n",
       "F1 score                                       . . .          0.531\n",
       "Accuracy                                       . . .          0.806\n",
       "ROC AUC                                        . . .          0.838\n",
       "ROC AUC (95% CI)                               . . .   [0.81, 0.86]\n",
       "Scaled Brier Score                             . . .          0.150\n",
       "Hosmer_Lemeshow p-value                        . . .          0.000\n",
       "Spiegelhalter p-value                          . . .          0.000"
      ]
     },
     "metadata": {},
     "output_type": "display_data"
    },
    {
     "data": {
      "image/png": "[encoded data removed]",
      "text/plain": [
       "<Figure size 1500x2000 with 5 Axes>"
      ]
     },
     "metadata": {},
     "output_type": "display_data"
    },
    {
     "data": {
      "image/png": "[encoded data removed]",
      "text/plain": [
       "<Figure size 640x480 with 1 Axes>"
      ]
     },
     "metadata": {},
     "output_type": "display_data"
    },
    {
     "data": {
      "text/html": [
       "<div>\n",
       "<style scoped>\n",
       "    .dataframe tbody tr th:only-of-type {\n",
       "        vertical-align: middle;\n",
       "    }\n",
       "\n",
       "    .dataframe tbody tr th {\n",
       "        vertical-align: top;\n",
       "    }\n",
       "\n",
       "    .dataframe thead th {\n",
       "        text-align: right;\n",
       "    }\n",
       "</style>\n",
       "<table border=\"1\" class=\"dataframe\">\n",
       "  <thead>\n",
       "    <tr style=\"text-align: right;\">\n",
       "      <th></th>\n",
       "      <th></th>\n",
       "      <th></th>\n",
       "    </tr>\n",
       "    <tr>\n",
       "      <th></th>\n",
       "      <th></th>\n",
       "      <th></th>\n",
       "    </tr>\n",
       "  </thead>\n",
       "  <tbody>\n",
       "    <tr>\n",
       "      <th>Ground Truth Prevalence</th>\n",
       "      <td>. . .</td>\n",
       "      <td>0.214</td>\n",
       "    </tr>\n",
       "    <tr>\n",
       "      <th>Test set Prevalence</th>\n",
       "      <td>. . .</td>\n",
       "      <td>0.199</td>\n",
       "    </tr>\n",
       "    <tr>\n",
       "      <th>True positive rate (recall)</th>\n",
       "      <td>. . .</td>\n",
       "      <td>0.512</td>\n",
       "    </tr>\n",
       "    <tr>\n",
       "      <th>False positive rate</th>\n",
       "      <td>. . .</td>\n",
       "      <td>0.114</td>\n",
       "    </tr>\n",
       "    <tr>\n",
       "      <th>Positive predictive value (precision)</th>\n",
       "      <td>. . .</td>\n",
       "      <td>0.551</td>\n",
       "    </tr>\n",
       "    <tr>\n",
       "      <th>True negative rate (specificity)</th>\n",
       "      <td>. . .</td>\n",
       "      <td>0.886</td>\n",
       "    </tr>\n",
       "    <tr>\n",
       "      <th>False negative rate</th>\n",
       "      <td>. . .</td>\n",
       "      <td>0.488</td>\n",
       "    </tr>\n",
       "    <tr>\n",
       "      <th>Negative predictive value</th>\n",
       "      <td>. . .</td>\n",
       "      <td>0.869</td>\n",
       "    </tr>\n",
       "    <tr>\n",
       "      <th>Positive likelihood ratio (bigger is better)</th>\n",
       "      <td>. . .</td>\n",
       "      <td>4.505</td>\n",
       "    </tr>\n",
       "    <tr>\n",
       "      <th>Negative likelihood ratio (smaller is better)</th>\n",
       "      <td>. . .</td>\n",
       "      <td>0.551</td>\n",
       "    </tr>\n",
       "    <tr>\n",
       "      <th>Diagnostic odds ratio</th>\n",
       "      <td>. . .</td>\n",
       "      <td>8.180</td>\n",
       "    </tr>\n",
       "    <tr>\n",
       "      <th>Accuracy</th>\n",
       "      <td>. . .</td>\n",
       "      <td>0.806</td>\n",
       "    </tr>\n",
       "    <tr>\n",
       "      <th>F1 score</th>\n",
       "      <td>. . .</td>\n",
       "      <td>0.531</td>\n",
       "    </tr>\n",
       "    <tr>\n",
       "      <th>Accuracy</th>\n",
       "      <td>. . .</td>\n",
       "      <td>0.806</td>\n",
       "    </tr>\n",
       "    <tr>\n",
       "      <th>ROC AUC</th>\n",
       "      <td>. . .</td>\n",
       "      <td>0.838</td>\n",
       "    </tr>\n",
       "    <tr>\n",
       "      <th>ROC AUC (95% CI)</th>\n",
       "      <td>. . .</td>\n",
       "      <td>[0.81, 0.86]</td>\n",
       "    </tr>\n",
       "    <tr>\n",
       "      <th>Scaled Brier Score</th>\n",
       "      <td>. . .</td>\n",
       "      <td>0.150</td>\n",
       "    </tr>\n",
       "    <tr>\n",
       "      <th>Hosmer_Lemeshow p-value</th>\n",
       "      <td>. . .</td>\n",
       "      <td>0.000</td>\n",
       "    </tr>\n",
       "    <tr>\n",
       "      <th>Spiegelhalter p-value</th>\n",
       "      <td>. . .</td>\n",
       "      <td>0.000</td>\n",
       "    </tr>\n",
       "  </tbody>\n",
       "</table>\n",
       "</div>"
      ],
      "text/plain": [
       "                                                                   \n",
       "                                                                   \n",
       "Ground Truth Prevalence                        . . .          0.214\n",
       "Test set Prevalence                            . . .          0.199\n",
       "True positive rate (recall)                    . . .          0.512\n",
       "False positive rate                            . . .          0.114\n",
       "Positive predictive value (precision)          . . .          0.551\n",
       "True negative rate (specificity)               . . .          0.886\n",
       "False negative rate                            . . .          0.488\n",
       "Negative predictive value                      . . .          0.869\n",
       "Positive likelihood ratio (bigger is better)   . . .          4.505\n",
       "Negative likelihood ratio (smaller is better)  . . .          0.551\n",
       "Diagnostic odds ratio                          . . .          8.180\n",
       "Accuracy                                       . . .          0.806\n",
       "F1 score                                       . . .          0.531\n",
       "Accuracy                                       . . .          0.806\n",
       "ROC AUC                                        . . .          0.838\n",
       "ROC AUC (95% CI)                               . . .   [0.81, 0.86]\n",
       "Scaled Brier Score                             . . .          0.150\n",
       "Hosmer_Lemeshow p-value                        . . .          0.000\n",
       "Spiegelhalter p-value                          . . .          0.000"
      ]
     },
     "execution_count": 85,
     "metadata": {},
     "output_type": "execute_result"
    }
   ],
   "source": [
    "import MLFlow_Utils\n",
    "binary_classification_metrics(y_test, preds[\"Label\"], preds[\"Score\"])"
   ]
  },
  {
   "cell_type": "markdown",
   "metadata": {},
   "source": [
    "### Understand best algorithm features and results\n",
    "#### Run INTERPRETE_MODEL only for the best algorithm chosen in the previous lines"
   ]
  },
  {
   "cell_type": "code",
   "execution_count": 86,
   "metadata": {},
   "outputs": [],
   "source": [
    "#evaluate_model(cattuned)"
   ]
  },
  {
   "cell_type": "code",
   "execution_count": 87,
   "metadata": {
    "scrolled": true
   },
   "outputs": [
    {
     "data": {
      "image/png": "[encoded data removed]",
      "text/plain": [
       "<Figure size 800x950 with 2 Axes>"
      ]
     },
     "metadata": {},
     "output_type": "display_data"
    }
   ],
   "source": [
    "interpret_model(cattuned)\n",
    "#interpret_model(lgbmtuned)\n",
    "#interpret_model(xgbtuned)"
   ]
  },
  {
   "cell_type": "code",
   "execution_count": 88,
   "metadata": {},
   "outputs": [],
   "source": [
    "#plot_model(cattuned, plot='ktops')"
   ]
  },
  {
   "cell_type": "markdown",
   "metadata": {},
   "source": [
    "### 2.3.1) Build a model with all data\n",
    "#### Run FINALIZE MODEL only for the best algorithm chosen in the previous lines"
   ]
  },
  {
   "cell_type": "code",
   "execution_count": 89,
   "metadata": {},
   "outputs": [],
   "source": [
    "final_model = finalize_model(cattuned)\n",
    "#final_model = finalize_model(lgbmtuned)\n",
    "#final_model = finalize_model(xgbtuned)"
   ]
  },
  {
   "cell_type": "code",
   "execution_count": 90,
   "metadata": {},
   "outputs": [
    {
     "data": {
      "text/plain": [
       "'CatBoostClassifier'"
      ]
     },
     "execution_count": 90,
     "metadata": {},
     "output_type": "execute_result"
    }
   ],
   "source": [
    "str(final_model.__class__.__name__)"
   ]
  },
  {
   "cell_type": "code",
   "execution_count": 91,
   "metadata": {},
   "outputs": [
    {
     "data": {
      "text/plain": [
       "'CatBoostClassifier_other_regions_vs_one_SUDESTE_SP_HC_USP'"
      ]
     },
     "execution_count": 91,
     "metadata": {},
     "output_type": "execute_result"
    }
   ],
   "source": [
    "final_model_name = str(final_model.__class__.__name__) + '_other_regions_vs_one_' \\\n",
    "                    + X_test_specific.region.iloc[0]  \\\n",
    "                    + '_' + X_test_specific.state.iloc[0]  \\\n",
    "                    + '_' + X_test_specific.city_hospital.iloc[0]\n",
    "final_model_name"
   ]
  },
  {
   "cell_type": "code",
   "execution_count": 92,
   "metadata": {},
   "outputs": [
    {
     "name": "stdout",
     "output_type": "stream",
     "text": [
      "Transformation Pipeline and Model Succesfully Saved\n"
     ]
    }
   ],
   "source": [
    "save_model(final_model, final_model_name ,verbose=True)"
   ]
  },
  {
   "cell_type": "code",
   "execution_count": 93,
   "metadata": {
    "scrolled": true
   },
   "outputs": [
    {
     "data": {
      "text/plain": [
       "<catboost.core.CatBoostClassifier at 0x21f0f19bb20>"
      ]
     },
     "execution_count": 93,
     "metadata": {},
     "output_type": "execute_result"
    }
   ],
   "source": [
    "final_model\n",
    "#final_model.get_all_params()"
   ]
  },
  {
   "cell_type": "markdown",
   "metadata": {},
   "source": [
    "# Use the saved model to predict on specific hospital\n",
    "## OTHER_REGION_VS_ONE"
   ]
  },
  {
   "cell_type": "code",
   "execution_count": 94,
   "metadata": {},
   "outputs": [
    {
     "name": "stdout",
     "output_type": "stream",
     "text": [
      "loaded: CatBoostClassifier_other_regions_vs_one_SUDESTE_SP_HC_USP\n"
     ]
    }
   ],
   "source": [
    "import pickle\n",
    "import joblib\n",
    "\n",
    "#Carrego o modelo unico\n",
    "print('loaded: ' + final_model_name)\n",
    "\n",
    "other_regions_vs_one_model_pkl = final_model_name + \".pkl\"\n",
    "prep_pipe_other_regions_vs_one, other_regions_vs_one_model = joblib.load(other_regions_vs_one_model_pkl)\n",
    "\n",
    "\n",
    "# AS DUAS LINHAS ABAIXO ESTAVAM COM O NOME DA ESTRATÉGIA 2 \n",
    "#all_except_one_model_pkl = final_model_name + \".pkl\"\n",
    "#prep_pipe_all_except_one, all_except_one_model = joblib.load(all_except_one_model_pkl)"
   ]
  },
  {
   "cell_type": "code",
   "execution_count": 95,
   "metadata": {},
   "outputs": [
    {
     "data": {
      "text/plain": [
       "'CatBoostClassifier'"
      ]
     },
     "execution_count": 95,
     "metadata": {},
     "output_type": "execute_result"
    }
   ],
   "source": [
    "other_regions_vs_one_model.__class__.__name__"
   ]
  },
  {
   "cell_type": "code",
   "execution_count": 96,
   "metadata": {},
   "outputs": [
    {
     "data": {
      "text/plain": [
       "'X_test_other_regions_vs_one_SUDESTE_SP_HC_USP.csv'"
      ]
     },
     "execution_count": 96,
     "metadata": {},
     "output_type": "execute_result"
    }
   ],
   "source": [
    "x_test_specific_name"
   ]
  },
  {
   "cell_type": "code",
   "execution_count": 97,
   "metadata": {},
   "outputs": [
    {
     "data": {
      "text/plain": [
       "(450, 25)"
      ]
     },
     "execution_count": 97,
     "metadata": {},
     "output_type": "execute_result"
    }
   ],
   "source": [
    "#Carrego o X_test do modelo único\n",
    "X_test_single = pd.read_csv(x_test_specific_name, delimiter=\";\",index_col=0)\n",
    "X_test_single.shape"
   ]
  },
  {
   "cell_type": "code",
   "execution_count": 98,
   "metadata": {},
   "outputs": [
    {
     "data": {
      "text/plain": [
       "Index(['city_hospital', 'age', 'male', 'heart_rate', 'resp_rate', 'sys_press',\n",
       "       'dias_press', 'mean_press', 'temp', 'hemoglobin', 'platelets',\n",
       "       'hematocrit', 'red_cells_count', 'hcm', 'rdw', 'mcv', 'leukocytes',\n",
       "       'neutrophil', 'lymphocytes', 'basophils', 'eosinophils', 'monocytes',\n",
       "       'crp', 'region', 'state'],\n",
       "      dtype='object')"
      ]
     },
     "execution_count": 98,
     "metadata": {},
     "output_type": "execute_result"
    }
   ],
   "source": [
    "X_test_single.columns"
   ]
  },
  {
   "cell_type": "code",
   "execution_count": 99,
   "metadata": {},
   "outputs": [],
   "source": [
    "# X_train.columns"
   ]
  },
  {
   "cell_type": "code",
   "execution_count": 100,
   "metadata": {},
   "outputs": [
    {
     "data": {
      "text/plain": [
       "(450,)"
      ]
     },
     "execution_count": 100,
     "metadata": {},
     "output_type": "execute_result"
    }
   ],
   "source": [
    "#Carrego o Y_test do modelo único\n",
    "y_test_single = pd.read_csv(y_test_specific_name, delimiter=\";\",index_col=0)\n",
    "y_test_single = y_test_single[\"mv\"]\n",
    "y_test_single.shape"
   ]
  },
  {
   "cell_type": "code",
   "execution_count": 101,
   "metadata": {},
   "outputs": [
    {
     "data": {
      "text/html": [
       "<div>\n",
       "<style scoped>\n",
       "    .dataframe tbody tr th:only-of-type {\n",
       "        vertical-align: middle;\n",
       "    }\n",
       "\n",
       "    .dataframe tbody tr th {\n",
       "        vertical-align: top;\n",
       "    }\n",
       "\n",
       "    .dataframe thead th {\n",
       "        text-align: right;\n",
       "    }\n",
       "</style>\n",
       "<table border=\"1\" class=\"dataframe\">\n",
       "  <thead>\n",
       "    <tr style=\"text-align: right;\">\n",
       "      <th></th>\n",
       "      <th>city_hospital</th>\n",
       "      <th>age</th>\n",
       "      <th>male</th>\n",
       "      <th>heart_rate</th>\n",
       "      <th>resp_rate</th>\n",
       "      <th>sys_press</th>\n",
       "      <th>dias_press</th>\n",
       "      <th>mean_press</th>\n",
       "      <th>temp</th>\n",
       "      <th>hemoglobin</th>\n",
       "      <th>platelets</th>\n",
       "      <th>hematocrit</th>\n",
       "      <th>red_cells_count</th>\n",
       "      <th>hcm</th>\n",
       "      <th>rdw</th>\n",
       "      <th>mcv</th>\n",
       "      <th>leukocytes</th>\n",
       "      <th>neutrophil</th>\n",
       "      <th>lymphocytes</th>\n",
       "      <th>basophils</th>\n",
       "      <th>eosinophils</th>\n",
       "      <th>monocytes</th>\n",
       "      <th>crp</th>\n",
       "      <th>region</th>\n",
       "      <th>state</th>\n",
       "    </tr>\n",
       "  </thead>\n",
       "  <tbody>\n",
       "    <tr>\n",
       "      <th>2194</th>\n",
       "      <td>HC_USP</td>\n",
       "      <td>79.000</td>\n",
       "      <td>0.000</td>\n",
       "      <td>90.000</td>\n",
       "      <td>22.000</td>\n",
       "      <td>130.000</td>\n",
       "      <td>90.000</td>\n",
       "      <td>103.320</td>\n",
       "      <td>36.600</td>\n",
       "      <td>NaN</td>\n",
       "      <td>NaN</td>\n",
       "      <td>NaN</td>\n",
       "      <td>NaN</td>\n",
       "      <td>NaN</td>\n",
       "      <td>NaN</td>\n",
       "      <td>NaN</td>\n",
       "      <td>NaN</td>\n",
       "      <td>NaN</td>\n",
       "      <td>NaN</td>\n",
       "      <td>NaN</td>\n",
       "      <td>NaN</td>\n",
       "      <td>NaN</td>\n",
       "      <td>NaN</td>\n",
       "      <td>SUDESTE</td>\n",
       "      <td>SP</td>\n",
       "    </tr>\n",
       "    <tr>\n",
       "      <th>2176</th>\n",
       "      <td>HC_USP</td>\n",
       "      <td>34.000</td>\n",
       "      <td>1.000</td>\n",
       "      <td>88.000</td>\n",
       "      <td>24.000</td>\n",
       "      <td>120.000</td>\n",
       "      <td>80.000</td>\n",
       "      <td>93.320</td>\n",
       "      <td>36.200</td>\n",
       "      <td>NaN</td>\n",
       "      <td>507000.000</td>\n",
       "      <td>NaN</td>\n",
       "      <td>NaN</td>\n",
       "      <td>25.300</td>\n",
       "      <td>15.500</td>\n",
       "      <td>78.900</td>\n",
       "      <td>4800.000</td>\n",
       "      <td>2490.000</td>\n",
       "      <td>900.000</td>\n",
       "      <td>0.020</td>\n",
       "      <td>NaN</td>\n",
       "      <td>0.420</td>\n",
       "      <td>1.181</td>\n",
       "      <td>SUDESTE</td>\n",
       "      <td>SP</td>\n",
       "    </tr>\n",
       "    <tr>\n",
       "      <th>1685</th>\n",
       "      <td>HC_USP</td>\n",
       "      <td>78.000</td>\n",
       "      <td>1.000</td>\n",
       "      <td>92.000</td>\n",
       "      <td>18.000</td>\n",
       "      <td>130.000</td>\n",
       "      <td>80.000</td>\n",
       "      <td>96.650</td>\n",
       "      <td>37.800</td>\n",
       "      <td>NaN</td>\n",
       "      <td>434000.000</td>\n",
       "      <td>NaN</td>\n",
       "      <td>NaN</td>\n",
       "      <td>27.500</td>\n",
       "      <td>16.000</td>\n",
       "      <td>84.600</td>\n",
       "      <td>7800.000</td>\n",
       "      <td>5830.000</td>\n",
       "      <td>1280.000</td>\n",
       "      <td>0.010</td>\n",
       "      <td>NaN</td>\n",
       "      <td>0.610</td>\n",
       "      <td>NaN</td>\n",
       "      <td>SUDESTE</td>\n",
       "      <td>SP</td>\n",
       "    </tr>\n",
       "    <tr>\n",
       "      <th>1257</th>\n",
       "      <td>HC_USP</td>\n",
       "      <td>82.000</td>\n",
       "      <td>0.000</td>\n",
       "      <td>61.000</td>\n",
       "      <td>13.000</td>\n",
       "      <td>80.000</td>\n",
       "      <td>40.000</td>\n",
       "      <td>53.320</td>\n",
       "      <td>35.000</td>\n",
       "      <td>NaN</td>\n",
       "      <td>NaN</td>\n",
       "      <td>NaN</td>\n",
       "      <td>NaN</td>\n",
       "      <td>NaN</td>\n",
       "      <td>NaN</td>\n",
       "      <td>NaN</td>\n",
       "      <td>NaN</td>\n",
       "      <td>NaN</td>\n",
       "      <td>NaN</td>\n",
       "      <td>NaN</td>\n",
       "      <td>NaN</td>\n",
       "      <td>NaN</td>\n",
       "      <td>NaN</td>\n",
       "      <td>SUDESTE</td>\n",
       "      <td>SP</td>\n",
       "    </tr>\n",
       "    <tr>\n",
       "      <th>1787</th>\n",
       "      <td>HC_USP</td>\n",
       "      <td>61.000</td>\n",
       "      <td>1.000</td>\n",
       "      <td>63.000</td>\n",
       "      <td>23.000</td>\n",
       "      <td>117.000</td>\n",
       "      <td>72.000</td>\n",
       "      <td>86.985</td>\n",
       "      <td>36.100</td>\n",
       "      <td>NaN</td>\n",
       "      <td>NaN</td>\n",
       "      <td>NaN</td>\n",
       "      <td>NaN</td>\n",
       "      <td>29.900</td>\n",
       "      <td>13.900</td>\n",
       "      <td>88.600</td>\n",
       "      <td>3370.000</td>\n",
       "      <td>2120.000</td>\n",
       "      <td>940.000</td>\n",
       "      <td>0.000</td>\n",
       "      <td>NaN</td>\n",
       "      <td>0.310</td>\n",
       "      <td>NaN</td>\n",
       "      <td>SUDESTE</td>\n",
       "      <td>SP</td>\n",
       "    </tr>\n",
       "  </tbody>\n",
       "</table>\n",
       "</div>"
      ],
      "text/plain": [
       "     city_hospital    age  male  heart_rate  resp_rate  sys_press  dias_press  \\\n",
       "2194        HC_USP 79.000 0.000      90.000     22.000    130.000      90.000   \n",
       "2176        HC_USP 34.000 1.000      88.000     24.000    120.000      80.000   \n",
       "1685        HC_USP 78.000 1.000      92.000     18.000    130.000      80.000   \n",
       "1257        HC_USP 82.000 0.000      61.000     13.000     80.000      40.000   \n",
       "1787        HC_USP 61.000 1.000      63.000     23.000    117.000      72.000   \n",
       "\n",
       "      mean_press   temp  hemoglobin  platelets  hematocrit  red_cells_count  \\\n",
       "2194     103.320 36.600         NaN        NaN         NaN              NaN   \n",
       "2176      93.320 36.200         NaN 507000.000         NaN              NaN   \n",
       "1685      96.650 37.800         NaN 434000.000         NaN              NaN   \n",
       "1257      53.320 35.000         NaN        NaN         NaN              NaN   \n",
       "1787      86.985 36.100         NaN        NaN         NaN              NaN   \n",
       "\n",
       "        hcm    rdw    mcv  leukocytes  neutrophil  lymphocytes  basophils  \\\n",
       "2194    NaN    NaN    NaN         NaN         NaN          NaN        NaN   \n",
       "2176 25.300 15.500 78.900    4800.000    2490.000      900.000      0.020   \n",
       "1685 27.500 16.000 84.600    7800.000    5830.000     1280.000      0.010   \n",
       "1257    NaN    NaN    NaN         NaN         NaN          NaN        NaN   \n",
       "1787 29.900 13.900 88.600    3370.000    2120.000      940.000      0.000   \n",
       "\n",
       "      eosinophils  monocytes   crp   region state  \n",
       "2194          NaN        NaN   NaN  SUDESTE    SP  \n",
       "2176          NaN      0.420 1.181  SUDESTE    SP  \n",
       "1685          NaN      0.610   NaN  SUDESTE    SP  \n",
       "1257          NaN        NaN   NaN  SUDESTE    SP  \n",
       "1787          NaN      0.310   NaN  SUDESTE    SP  "
      ]
     },
     "execution_count": 101,
     "metadata": {},
     "output_type": "execute_result"
    }
   ],
   "source": [
    "pd.set_option('display.max_columns', None)\n",
    "X_test_single.head()"
   ]
  },
  {
   "cell_type": "code",
   "execution_count": 102,
   "metadata": {},
   "outputs": [],
   "source": [
    "X_test_single[\"class\"] = y_test_single"
   ]
  },
  {
   "cell_type": "code",
   "execution_count": 103,
   "metadata": {},
   "outputs": [
    {
     "data": {
      "text/plain": [
       "Index(['city_hospital', 'age', 'male', 'heart_rate', 'resp_rate', 'sys_press',\n",
       "       'dias_press', 'mean_press', 'temp', 'hemoglobin', 'platelets',\n",
       "       'hematocrit', 'red_cells_count', 'hcm', 'rdw', 'mcv', 'leukocytes',\n",
       "       'neutrophil', 'lymphocytes', 'basophils', 'eosinophils', 'monocytes',\n",
       "       'crp', 'region', 'state', 'class'],\n",
       "      dtype='object')"
      ]
     },
     "execution_count": 103,
     "metadata": {},
     "output_type": "execute_result"
    }
   ],
   "source": [
    "X_test_single.columns"
   ]
  },
  {
   "cell_type": "code",
   "execution_count": 104,
   "metadata": {},
   "outputs": [],
   "source": [
    "X_test_single = X_test_single.drop(['city_hospital'],axis=1)\n",
    "X_test_single = X_test_single.drop(['region'],axis=1)\n",
    "X_test_single = X_test_single.drop(['state'],axis=1)"
   ]
  },
  {
   "cell_type": "code",
   "execution_count": 105,
   "metadata": {},
   "outputs": [
    {
     "data": {
      "application/vnd.jupyter.widget-view+json": {
       "model_id": "08888afee70946afb252b48ce35d4995",
       "version_major": 2,
       "version_minor": 0
      },
      "text/plain": [
       "Text(value=\"Following data types have been inferred automatically, if they are correct press enter to continue…"
      ]
     },
     "metadata": {},
     "output_type": "display_data"
    },
    {
     "data": {
      "text/html": [
       "<div>\n",
       "<style scoped>\n",
       "    .dataframe tbody tr th:only-of-type {\n",
       "        vertical-align: middle;\n",
       "    }\n",
       "\n",
       "    .dataframe tbody tr th {\n",
       "        vertical-align: top;\n",
       "    }\n",
       "\n",
       "    .dataframe thead th {\n",
       "        text-align: right;\n",
       "    }\n",
       "</style>\n",
       "<table border=\"1\" class=\"dataframe\">\n",
       "  <thead>\n",
       "    <tr style=\"text-align: right;\">\n",
       "      <th></th>\n",
       "      <th>Data Type</th>\n",
       "    </tr>\n",
       "  </thead>\n",
       "  <tbody>\n",
       "    <tr>\n",
       "      <th>age</th>\n",
       "      <td>Numeric</td>\n",
       "    </tr>\n",
       "    <tr>\n",
       "      <th>male</th>\n",
       "      <td>Categorical</td>\n",
       "    </tr>\n",
       "    <tr>\n",
       "      <th>heart_rate</th>\n",
       "      <td>Numeric</td>\n",
       "    </tr>\n",
       "    <tr>\n",
       "      <th>resp_rate</th>\n",
       "      <td>Numeric</td>\n",
       "    </tr>\n",
       "    <tr>\n",
       "      <th>sys_press</th>\n",
       "      <td>Numeric</td>\n",
       "    </tr>\n",
       "    <tr>\n",
       "      <th>dias_press</th>\n",
       "      <td>Numeric</td>\n",
       "    </tr>\n",
       "    <tr>\n",
       "      <th>mean_press</th>\n",
       "      <td>Numeric</td>\n",
       "    </tr>\n",
       "    <tr>\n",
       "      <th>temp</th>\n",
       "      <td>Numeric</td>\n",
       "    </tr>\n",
       "    <tr>\n",
       "      <th>hemoglobin</th>\n",
       "      <td>Numeric</td>\n",
       "    </tr>\n",
       "    <tr>\n",
       "      <th>platelets</th>\n",
       "      <td>Numeric</td>\n",
       "    </tr>\n",
       "    <tr>\n",
       "      <th>hematocrit</th>\n",
       "      <td>Numeric</td>\n",
       "    </tr>\n",
       "    <tr>\n",
       "      <th>red_cells_count</th>\n",
       "      <td>Numeric</td>\n",
       "    </tr>\n",
       "    <tr>\n",
       "      <th>hcm</th>\n",
       "      <td>Numeric</td>\n",
       "    </tr>\n",
       "    <tr>\n",
       "      <th>rdw</th>\n",
       "      <td>Numeric</td>\n",
       "    </tr>\n",
       "    <tr>\n",
       "      <th>mcv</th>\n",
       "      <td>Numeric</td>\n",
       "    </tr>\n",
       "    <tr>\n",
       "      <th>leukocytes</th>\n",
       "      <td>Numeric</td>\n",
       "    </tr>\n",
       "    <tr>\n",
       "      <th>neutrophil</th>\n",
       "      <td>Numeric</td>\n",
       "    </tr>\n",
       "    <tr>\n",
       "      <th>lymphocytes</th>\n",
       "      <td>Numeric</td>\n",
       "    </tr>\n",
       "    <tr>\n",
       "      <th>basophils</th>\n",
       "      <td>Numeric</td>\n",
       "    </tr>\n",
       "    <tr>\n",
       "      <th>eosinophils</th>\n",
       "      <td>Numeric</td>\n",
       "    </tr>\n",
       "    <tr>\n",
       "      <th>monocytes</th>\n",
       "      <td>Numeric</td>\n",
       "    </tr>\n",
       "    <tr>\n",
       "      <th>crp</th>\n",
       "      <td>Numeric</td>\n",
       "    </tr>\n",
       "    <tr>\n",
       "      <th>class</th>\n",
       "      <td>Label</td>\n",
       "    </tr>\n",
       "  </tbody>\n",
       "</table>\n",
       "</div>"
      ],
      "text/plain": [
       "                   Data Type\n",
       "age                  Numeric\n",
       "male             Categorical\n",
       "heart_rate           Numeric\n",
       "resp_rate            Numeric\n",
       "sys_press            Numeric\n",
       "dias_press           Numeric\n",
       "mean_press           Numeric\n",
       "temp                 Numeric\n",
       "hemoglobin           Numeric\n",
       "platelets            Numeric\n",
       "hematocrit           Numeric\n",
       "red_cells_count      Numeric\n",
       "hcm                  Numeric\n",
       "rdw                  Numeric\n",
       "mcv                  Numeric\n",
       "leukocytes           Numeric\n",
       "neutrophil           Numeric\n",
       "lymphocytes          Numeric\n",
       "basophils            Numeric\n",
       "eosinophils          Numeric\n",
       "monocytes            Numeric\n",
       "crp                  Numeric\n",
       "class                  Label"
      ]
     },
     "metadata": {},
     "output_type": "display_data"
    },
    {
     "name": "stdin",
     "output_type": "stream",
     "text": [
      " \n"
     ]
    },
    {
     "data": {
      "text/html": [
       "<div>\n",
       "<style scoped>\n",
       "    .dataframe tbody tr th:only-of-type {\n",
       "        vertical-align: middle;\n",
       "    }\n",
       "\n",
       "    .dataframe tbody tr th {\n",
       "        vertical-align: top;\n",
       "    }\n",
       "\n",
       "    .dataframe thead th {\n",
       "        text-align: right;\n",
       "    }\n",
       "</style>\n",
       "<table border=\"1\" class=\"dataframe\">\n",
       "  <thead>\n",
       "    <tr style=\"text-align: right;\">\n",
       "      <th></th>\n",
       "      <th>class</th>\n",
       "      <th>age</th>\n",
       "      <th>heart_rate</th>\n",
       "      <th>resp_rate</th>\n",
       "      <th>sys_press</th>\n",
       "      <th>dias_press</th>\n",
       "      <th>mean_press</th>\n",
       "      <th>temp</th>\n",
       "      <th>hemoglobin</th>\n",
       "      <th>platelets</th>\n",
       "      <th>hematocrit</th>\n",
       "      <th>hcm</th>\n",
       "      <th>rdw</th>\n",
       "      <th>mcv</th>\n",
       "      <th>leukocytes</th>\n",
       "      <th>neutrophil</th>\n",
       "      <th>lymphocytes</th>\n",
       "      <th>basophils</th>\n",
       "      <th>monocytes</th>\n",
       "      <th>crp</th>\n",
       "      <th>male_1.0</th>\n",
       "    </tr>\n",
       "  </thead>\n",
       "  <tbody>\n",
       "    <tr>\n",
       "      <th>2194</th>\n",
       "      <td>0</td>\n",
       "      <td>1.295</td>\n",
       "      <td>0.192</td>\n",
       "      <td>-0.257</td>\n",
       "      <td>0.506</td>\n",
       "      <td>1.328</td>\n",
       "      <td>1.078</td>\n",
       "      <td>0.242</td>\n",
       "      <td>-0.014</td>\n",
       "      <td>-0.199</td>\n",
       "      <td>0.016</td>\n",
       "      <td>0.073</td>\n",
       "      <td>-0.241</td>\n",
       "      <td>0.004</td>\n",
       "      <td>-0.146</td>\n",
       "      <td>-0.149</td>\n",
       "      <td>-0.243</td>\n",
       "      <td>-0.397</td>\n",
       "      <td>-0.221</td>\n",
       "      <td>-0.241</td>\n",
       "      <td>0.000</td>\n",
       "    </tr>\n",
       "    <tr>\n",
       "      <th>2176</th>\n",
       "      <td>0</td>\n",
       "      <td>-1.566</td>\n",
       "      <td>0.085</td>\n",
       "      <td>-0.008</td>\n",
       "      <td>0.055</td>\n",
       "      <td>0.649</td>\n",
       "      <td>0.436</td>\n",
       "      <td>-0.215</td>\n",
       "      <td>-0.014</td>\n",
       "      <td>2.556</td>\n",
       "      <td>0.016</td>\n",
       "      <td>-1.616</td>\n",
       "      <td>0.596</td>\n",
       "      <td>-1.168</td>\n",
       "      <td>-0.947</td>\n",
       "      <td>-1.179</td>\n",
       "      <td>-0.083</td>\n",
       "      <td>0.029</td>\n",
       "      <td>-0.189</td>\n",
       "      <td>-0.203</td>\n",
       "      <td>1.000</td>\n",
       "    </tr>\n",
       "    <tr>\n",
       "      <th>1685</th>\n",
       "      <td>0</td>\n",
       "      <td>1.232</td>\n",
       "      <td>0.300</td>\n",
       "      <td>-0.755</td>\n",
       "      <td>0.506</td>\n",
       "      <td>0.649</td>\n",
       "      <td>0.649</td>\n",
       "      <td>1.612</td>\n",
       "      <td>-0.014</td>\n",
       "      <td>1.876</td>\n",
       "      <td>0.016</td>\n",
       "      <td>-0.612</td>\n",
       "      <td>0.829</td>\n",
       "      <td>-0.186</td>\n",
       "      <td>-0.333</td>\n",
       "      <td>-0.451</td>\n",
       "      <td>0.590</td>\n",
       "      <td>-0.397</td>\n",
       "      <td>0.437</td>\n",
       "      <td>-0.241</td>\n",
       "      <td>1.000</td>\n",
       "    </tr>\n",
       "    <tr>\n",
       "      <th>1257</th>\n",
       "      <td>0</td>\n",
       "      <td>1.486</td>\n",
       "      <td>-1.371</td>\n",
       "      <td>-1.378</td>\n",
       "      <td>-1.749</td>\n",
       "      <td>-2.066</td>\n",
       "      <td>-2.132</td>\n",
       "      <td>-1.586</td>\n",
       "      <td>-0.014</td>\n",
       "      <td>-0.199</td>\n",
       "      <td>0.016</td>\n",
       "      <td>0.073</td>\n",
       "      <td>-0.241</td>\n",
       "      <td>0.004</td>\n",
       "      <td>-0.146</td>\n",
       "      <td>-0.149</td>\n",
       "      <td>-0.243</td>\n",
       "      <td>-0.397</td>\n",
       "      <td>-0.221</td>\n",
       "      <td>-0.241</td>\n",
       "      <td>0.000</td>\n",
       "    </tr>\n",
       "    <tr>\n",
       "      <th>1787</th>\n",
       "      <td>1</td>\n",
       "      <td>0.151</td>\n",
       "      <td>-1.263</td>\n",
       "      <td>-0.133</td>\n",
       "      <td>-0.080</td>\n",
       "      <td>0.106</td>\n",
       "      <td>0.029</td>\n",
       "      <td>-0.329</td>\n",
       "      <td>-0.014</td>\n",
       "      <td>-0.199</td>\n",
       "      <td>0.016</td>\n",
       "      <td>0.484</td>\n",
       "      <td>-0.148</td>\n",
       "      <td>0.503</td>\n",
       "      <td>-1.240</td>\n",
       "      <td>-1.259</td>\n",
       "      <td>-0.013</td>\n",
       "      <td>-0.824</td>\n",
       "      <td>-0.551</td>\n",
       "      <td>-0.241</td>\n",
       "      <td>1.000</td>\n",
       "    </tr>\n",
       "  </tbody>\n",
       "</table>\n",
       "</div>"
      ],
      "text/plain": [
       "      class    age  heart_rate  resp_rate  sys_press  dias_press  mean_press  \\\n",
       "2194      0  1.295       0.192     -0.257      0.506       1.328       1.078   \n",
       "2176      0 -1.566       0.085     -0.008      0.055       0.649       0.436   \n",
       "1685      0  1.232       0.300     -0.755      0.506       0.649       0.649   \n",
       "1257      0  1.486      -1.371     -1.378     -1.749      -2.066      -2.132   \n",
       "1787      1  0.151      -1.263     -0.133     -0.080       0.106       0.029   \n",
       "\n",
       "       temp  hemoglobin  platelets  hematocrit    hcm    rdw    mcv  \\\n",
       "2194  0.242      -0.014     -0.199       0.016  0.073 -0.241  0.004   \n",
       "2176 -0.215      -0.014      2.556       0.016 -1.616  0.596 -1.168   \n",
       "1685  1.612      -0.014      1.876       0.016 -0.612  0.829 -0.186   \n",
       "1257 -1.586      -0.014     -0.199       0.016  0.073 -0.241  0.004   \n",
       "1787 -0.329      -0.014     -0.199       0.016  0.484 -0.148  0.503   \n",
       "\n",
       "      leukocytes  neutrophil  lymphocytes  basophils  monocytes    crp  \\\n",
       "2194      -0.146      -0.149       -0.243     -0.397     -0.221 -0.241   \n",
       "2176      -0.947      -1.179       -0.083      0.029     -0.189 -0.203   \n",
       "1685      -0.333      -0.451        0.590     -0.397      0.437 -0.241   \n",
       "1257      -0.146      -0.149       -0.243     -0.397     -0.221 -0.241   \n",
       "1787      -1.240      -1.259       -0.013     -0.824     -0.551 -0.241   \n",
       "\n",
       "      male_1.0  \n",
       "2194     0.000  \n",
       "2176     1.000  \n",
       "1685     1.000  \n",
       "1257     0.000  \n",
       "1787     1.000  "
      ]
     },
     "execution_count": 105,
     "metadata": {},
     "output_type": "execute_result"
    }
   ],
   "source": [
    "X_test_single_transformed = prep_pipe_other_regions_vs_one.fit_transform(X_test_single)\n",
    "X_test_single_transformed.head()"
   ]
  },
  {
   "cell_type": "code",
   "execution_count": 106,
   "metadata": {},
   "outputs": [],
   "source": [
    "X_test_single_transformed = X_test_single_transformed.drop(['class'],axis=1)"
   ]
  },
  {
   "cell_type": "code",
   "execution_count": 107,
   "metadata": {},
   "outputs": [
    {
     "data": {
      "text/plain": [
       "Index(['age', 'heart_rate', 'resp_rate', 'sys_press', 'dias_press',\n",
       "       'mean_press', 'temp', 'hemoglobin', 'platelets', 'hematocrit',\n",
       "       'red_cells_count', 'hcm', 'rdw', 'mcv', 'leukocytes', 'neutrophil',\n",
       "       'lymphocytes', 'basophils', 'eosinophils', 'monocytes', 'crp',\n",
       "       'male_1.0'],\n",
       "      dtype='object')"
      ]
     },
     "execution_count": 107,
     "metadata": {},
     "output_type": "execute_result"
    }
   ],
   "source": [
    "X_test.columns"
   ]
  },
  {
   "cell_type": "code",
   "execution_count": 108,
   "metadata": {},
   "outputs": [
    {
     "data": {
      "text/plain": [
       "Index(['age', 'heart_rate', 'resp_rate', 'sys_press', 'dias_press',\n",
       "       'mean_press', 'temp', 'hemoglobin', 'platelets', 'hematocrit', 'hcm',\n",
       "       'rdw', 'mcv', 'leukocytes', 'neutrophil', 'lymphocytes', 'basophils',\n",
       "       'monocytes', 'crp', 'male_1.0'],\n",
       "      dtype='object')"
      ]
     },
     "execution_count": 108,
     "metadata": {},
     "output_type": "execute_result"
    }
   ],
   "source": [
    "X_test_single_transformed.columns"
   ]
  },
  {
   "cell_type": "code",
   "execution_count": 109,
   "metadata": {},
   "outputs": [
    {
     "data": {
      "text/plain": [
       "Index(['age', 'heart_rate', 'resp_rate', 'sys_press', 'dias_press',\n",
       "       'mean_press', 'temp', 'hemoglobin', 'platelets', 'hematocrit',\n",
       "       'red_cells_count', 'hcm', 'rdw', 'mcv', 'leukocytes', 'neutrophil',\n",
       "       'lymphocytes', 'basophils', 'eosinophils', 'monocytes', 'crp',\n",
       "       'male_1.0'],\n",
       "      dtype='object')"
      ]
     },
     "execution_count": 109,
     "metadata": {},
     "output_type": "execute_result"
    }
   ],
   "source": [
    "X_test.columns"
   ]
  },
  {
   "cell_type": "code",
   "execution_count": 110,
   "metadata": {},
   "outputs": [
    {
     "data": {
      "text/plain": [
       "['eosinophils', 'red_cells_count']"
      ]
     },
     "execution_count": 110,
     "metadata": {},
     "output_type": "execute_result"
    }
   ],
   "source": [
    "#Show distinct columns\n",
    "distinct_columns = X_test[X_test.columns.difference(X_test_single_transformed.columns)].columns.tolist()\n",
    "distinct_columns"
   ]
  },
  {
   "cell_type": "code",
   "execution_count": 111,
   "metadata": {},
   "outputs": [
    {
     "data": {
      "text/plain": [
       "(450, 20)"
      ]
     },
     "execution_count": 111,
     "metadata": {},
     "output_type": "execute_result"
    }
   ],
   "source": [
    "X_test_single_transformed.shape"
   ]
  },
  {
   "cell_type": "code",
   "execution_count": 112,
   "metadata": {},
   "outputs": [
    {
     "data": {
      "text/plain": [
       "Index(['age', 'heart_rate', 'resp_rate', 'sys_press', 'dias_press',\n",
       "       'mean_press', 'temp', 'hemoglobin', 'platelets', 'hematocrit', 'hcm',\n",
       "       'rdw', 'mcv', 'leukocytes', 'neutrophil', 'lymphocytes', 'basophils',\n",
       "       'monocytes', 'crp', 'male_1.0'],\n",
       "      dtype='object')"
      ]
     },
     "execution_count": 112,
     "metadata": {},
     "output_type": "execute_result"
    }
   ],
   "source": [
    "X_test_single_transformed.columns"
   ]
  },
  {
   "cell_type": "markdown",
   "metadata": {},
   "source": [
    "### Add missing columns to some hospitals that didn't collect all columns\n",
    "e.g. HC_USP (missing: red_cells_count and eosinophils)"
   ]
  },
  {
   "cell_type": "code",
   "execution_count": 113,
   "metadata": {},
   "outputs": [],
   "source": [
    "for column in distinct_columns:\n",
    "    if(column=='male_0.0'):\n",
    "        X_test_single_transformed['male_0.0'] = X_test_single_transformed['male_1.0'].apply(lambda x: 1.0 if x==0.0 else 0.0)\n",
    "        X_test_single_transformed = X_test_single_transformed.drop('male_1.0', axis=1)\n",
    "    else:\n",
    "        X_test_single_transformed[column]=np.NaN"
   ]
  },
  {
   "cell_type": "code",
   "execution_count": 114,
   "metadata": {},
   "outputs": [
    {
     "data": {
      "text/plain": [
       "Index(['age', 'heart_rate', 'resp_rate', 'sys_press', 'dias_press',\n",
       "       'mean_press', 'temp', 'hemoglobin', 'platelets', 'hematocrit', 'hcm',\n",
       "       'rdw', 'mcv', 'leukocytes', 'neutrophil', 'lymphocytes', 'basophils',\n",
       "       'monocytes', 'crp', 'male_1.0', 'eosinophils', 'red_cells_count'],\n",
       "      dtype='object')"
      ]
     },
     "execution_count": 114,
     "metadata": {},
     "output_type": "execute_result"
    }
   ],
   "source": [
    "X_test_single_transformed.columns"
   ]
  },
  {
   "cell_type": "code",
   "execution_count": 115,
   "metadata": {},
   "outputs": [
    {
     "data": {
      "text/plain": [
       "Index(['age', 'heart_rate', 'resp_rate', 'sys_press', 'dias_press',\n",
       "       'mean_press', 'temp', 'hemoglobin', 'platelets', 'hematocrit',\n",
       "       'red_cells_count', 'hcm', 'rdw', 'mcv', 'leukocytes', 'neutrophil',\n",
       "       'lymphocytes', 'basophils', 'eosinophils', 'monocytes', 'crp',\n",
       "       'male_1.0'],\n",
       "      dtype='object')"
      ]
     },
     "execution_count": 115,
     "metadata": {},
     "output_type": "execute_result"
    }
   ],
   "source": [
    "X_test.columns"
   ]
  },
  {
   "cell_type": "markdown",
   "metadata": {},
   "source": [
    "**Reorder Columns**"
   ]
  },
  {
   "cell_type": "code",
   "execution_count": 116,
   "metadata": {},
   "outputs": [
    {
     "data": {
      "text/plain": [
       "(450, 22)"
      ]
     },
     "execution_count": 116,
     "metadata": {},
     "output_type": "execute_result"
    }
   ],
   "source": [
    "# Reorder columns\n",
    "X_test_single_transformed = X_test_single_transformed[X_test.columns]\n",
    "X_test_single_transformed.shape"
   ]
  },
  {
   "cell_type": "code",
   "execution_count": 117,
   "metadata": {},
   "outputs": [
    {
     "data": {
      "text/plain": [
       "'X_test_other_regions_vs_one_transformed_SUDESTE_SP_HC_USP.csv'"
      ]
     },
     "execution_count": 117,
     "metadata": {},
     "output_type": "execute_result"
    }
   ],
   "source": [
    "X_test_other_regions_vs_one_name = 'X_test_other_regions_vs_one_transformed_' + X_test_specific.region.iloc[0]  \\\n",
    "                        + '_' + X_test_specific.state.iloc[0]  \\\n",
    "                        + '_' + X_test_specific.city_hospital.iloc[0] +  \".csv\"\n",
    "X_test_other_regions_vs_one_name"
   ]
  },
  {
   "cell_type": "code",
   "execution_count": 118,
   "metadata": {},
   "outputs": [],
   "source": [
    "X_test_single_transformed.to_csv(X_test_other_regions_vs_one_name, sep=';')"
   ]
  },
  {
   "cell_type": "code",
   "execution_count": 119,
   "metadata": {},
   "outputs": [
    {
     "name": "stdout",
     "output_type": "stream",
     "text": [
      "0.6383310977196741\n"
     ]
    },
    {
     "data": {
      "text/plain": [
       "[<matplotlib.lines.Line2D at 0x21f0fb603a0>]"
      ]
     },
     "execution_count": 119,
     "metadata": {},
     "output_type": "execute_result"
    },
    {
     "data": {
      "image/png": "[encoded data removed]",
      "text/plain": [
       "<Figure size 640x480 with 1 Axes>"
      ]
     },
     "metadata": {},
     "output_type": "display_data"
    }
   ],
   "source": [
    "#Vejo a curva ROC do modelo INDIVIDUAL e confirmo o valor da AUC\n",
    "from sklearn.metrics import (roc_curve,auc)\n",
    "\n",
    "y_pred_prob1 = other_regions_vs_one_model.predict_proba(X_test_single_transformed)[:,1]\n",
    "fpr1 , tpr1, thresholds1 = roc_curve(y_test_single, y_pred_prob1)\n",
    "\n",
    "auc_ind = auc(fpr1, tpr1)\n",
    "print(auc_ind)\n",
    "plt.plot(fpr1, tpr1, label= \"Single Model - best model- AUC \" +  str(auc_ind), color=\"yellow\")"
   ]
  },
  {
   "cell_type": "code",
   "execution_count": 120,
   "metadata": {},
   "outputs": [
    {
     "data": {
      "text/plain": [
       "array([0, 0, 0, 0, 0, 0, 0, 1, 0, 0, 0, 1, 1, 0, 0, 0, 0, 0, 0, 1, 0, 0,\n",
       "       0, 0, 1, 0, 0, 0, 0, 0, 0, 0, 0, 0, 0, 0, 1, 1, 0, 0, 0, 0, 0, 0,\n",
       "       0, 0, 0, 0, 1, 1, 0, 1, 0, 0, 0, 0, 0, 1, 0, 0, 0, 0, 0, 0, 0, 0,\n",
       "       0, 0, 0, 0, 0, 0, 0, 0, 1, 1, 0, 0, 1, 0, 1, 0, 0, 0, 0, 1, 0, 0,\n",
       "       0, 1, 0, 0, 1, 0, 0, 0, 0, 1, 0, 0, 0, 0, 0, 0, 0, 0, 0, 0, 0, 0,\n",
       "       0, 1, 0, 0, 0, 0, 1, 0, 0, 0, 0, 0, 0, 0, 0, 0, 1, 0, 1, 0, 1, 0,\n",
       "       0, 1, 1, 0, 0, 1, 0, 0, 1, 1, 0, 0, 0, 0, 1, 0, 0, 0, 0, 0, 0, 1,\n",
       "       1, 0, 1, 0, 0, 0, 0, 0, 0, 0, 0, 1, 0, 0, 0, 0, 0, 0, 0, 0, 0, 0,\n",
       "       0, 1, 0, 0, 0, 0, 0, 1, 0, 0, 1, 1, 0, 0, 0, 1, 0, 0, 1, 0, 0, 0,\n",
       "       0, 0, 0, 0, 0, 0, 0, 0, 0, 0, 0, 0, 0, 0, 0, 0, 0, 1, 0, 0, 1, 0,\n",
       "       0, 0, 0, 0, 1, 0, 1, 0, 0, 1, 0, 1, 0, 0, 0, 0, 0, 0, 0, 1, 1, 0,\n",
       "       0, 0, 1, 0, 0, 1, 1, 1, 0, 0, 1, 0, 0, 0, 0, 0, 0, 0, 0, 0, 1, 0,\n",
       "       0, 0, 0, 1, 0, 0, 0, 0, 0, 0, 0, 1, 0, 0, 0, 1, 1, 0, 0, 0, 0, 0,\n",
       "       0, 0, 0, 0, 0, 0, 0, 0, 0, 0, 0, 1, 0, 0, 1, 0, 0, 0, 0, 0, 0, 0,\n",
       "       0, 0, 1, 0, 1, 1, 0, 1, 0, 0, 0, 0, 0, 0, 0, 0, 0, 1, 0, 0, 0, 0,\n",
       "       1, 1, 0, 0, 0, 0, 0, 0, 0, 0, 0, 0, 1, 0, 1, 0, 0, 1, 0, 0, 0, 0,\n",
       "       0, 0, 0, 0, 0, 0, 0, 0, 1, 0, 1, 0, 0, 0, 1, 0, 0, 1, 1, 0, 0, 0,\n",
       "       0, 1, 0, 0, 1, 0, 0, 1, 0, 0, 0, 0, 0, 1, 0, 1, 0, 1, 0, 0, 0, 0,\n",
       "       1, 0, 0, 0, 0, 0, 0, 0, 0, 0, 0, 0, 0, 1, 0, 0, 0, 0, 0, 0, 0, 1,\n",
       "       0, 0, 1, 1, 0, 1, 0, 0, 0, 0, 0, 1, 0, 1, 0, 0, 0, 0, 1, 0, 0, 0,\n",
       "       0, 1, 0, 0, 0, 0, 0, 0, 0, 0], dtype=int64)"
      ]
     },
     "execution_count": 120,
     "metadata": {},
     "output_type": "execute_result"
    }
   ],
   "source": [
    "y_pred = other_regions_vs_one_model.predict(X_test_single_transformed)\n",
    "y_pred"
   ]
  },
  {
   "cell_type": "code",
   "execution_count": 121,
   "metadata": {},
   "outputs": [
    {
     "data": {
      "text/plain": [
       "mv\n",
       "0    251\n",
       "1    199\n",
       "Name: count, dtype: int64"
      ]
     },
     "execution_count": 121,
     "metadata": {},
     "output_type": "execute_result"
    }
   ],
   "source": [
    "y_test_single.value_counts()"
   ]
  },
  {
   "cell_type": "code",
   "execution_count": 122,
   "metadata": {},
   "outputs": [
    {
     "data": {
      "text/plain": [
       "array([0, 0, 0, 0, 0, 0, 0, 1, 0, 0, 0, 1, 1, 0, 0, 0, 0, 0, 0, 1, 0, 0,\n",
       "       0, 0, 1, 0, 0, 0, 0, 0, 0, 0, 0, 0, 0, 0, 1, 1, 0, 0, 0, 0, 0, 0,\n",
       "       0, 0, 0, 0, 1, 1, 0, 1, 0, 0, 0, 0, 0, 1, 0, 0, 0, 0, 0, 0, 0, 0,\n",
       "       0, 0, 0, 0, 0, 0, 0, 0, 1, 1, 0, 0, 1, 0, 1, 0, 0, 0, 0, 1, 0, 0,\n",
       "       0, 1, 0, 0, 1, 0, 0, 0, 0, 1, 0, 0, 0, 0, 0, 0, 0, 0, 0, 0, 0, 0,\n",
       "       0, 1, 0, 0, 0, 0, 1, 0, 0, 0, 0, 0, 0, 0, 0, 0, 1, 0, 1, 0, 1, 0,\n",
       "       0, 1, 1, 0, 0, 1, 0, 0, 1, 1, 0, 0, 0, 0, 1, 0, 0, 0, 0, 0, 0, 1,\n",
       "       1, 0, 1, 0, 0, 0, 0, 0, 0, 0, 0, 1, 0, 0, 0, 0, 0, 0, 0, 0, 0, 0,\n",
       "       0, 1, 0, 0, 0, 0, 0, 1, 0, 0, 1, 1, 0, 0, 0, 1, 0, 0, 1, 0, 0, 0,\n",
       "       0, 0, 0, 0, 0, 0, 0, 0, 0, 0, 0, 0, 0, 0, 0, 0, 0, 1, 0, 0, 1, 0,\n",
       "       0, 0, 0, 0, 1, 0, 1, 0, 0, 1, 0, 1, 0, 0, 0, 0, 0, 0, 0, 1, 1, 0,\n",
       "       0, 0, 1, 0, 0, 1, 1, 1, 0, 0, 1, 0, 0, 0, 0, 0, 0, 0, 0, 0, 1, 0,\n",
       "       0, 0, 0, 1, 0, 0, 0, 0, 0, 0, 0, 1, 0, 0, 0, 1, 1, 0, 0, 0, 0, 0,\n",
       "       0, 0, 0, 0, 0, 0, 0, 0, 0, 0, 0, 1, 0, 0, 1, 0, 0, 0, 0, 0, 0, 0,\n",
       "       0, 0, 1, 0, 1, 1, 0, 1, 0, 0, 0, 0, 0, 0, 0, 0, 0, 1, 0, 0, 0, 0,\n",
       "       1, 1, 0, 0, 0, 0, 0, 0, 0, 0, 0, 0, 1, 0, 1, 0, 0, 1, 0, 0, 0, 0,\n",
       "       0, 0, 0, 0, 0, 0, 0, 0, 1, 0, 1, 0, 0, 0, 1, 0, 0, 1, 1, 0, 0, 0,\n",
       "       0, 1, 0, 0, 1, 0, 0, 1, 0, 0, 0, 0, 0, 1, 0, 1, 0, 1, 0, 0, 0, 0,\n",
       "       1, 0, 0, 0, 0, 0, 0, 0, 0, 0, 0, 0, 0, 1, 0, 0, 0, 0, 0, 0, 0, 1,\n",
       "       0, 0, 1, 1, 0, 1, 0, 0, 0, 0, 0, 1, 0, 1, 0, 0, 0, 0, 1, 0, 0, 0,\n",
       "       0, 1, 0, 0, 0, 0, 0, 0, 0, 0], dtype=int64)"
      ]
     },
     "execution_count": 122,
     "metadata": {},
     "output_type": "execute_result"
    }
   ],
   "source": [
    "y_pred"
   ]
  },
  {
   "cell_type": "code",
   "execution_count": 123,
   "metadata": {},
   "outputs": [
    {
     "data": {
      "text/html": [
       "<div>\n",
       "<style scoped>\n",
       "    .dataframe tbody tr th:only-of-type {\n",
       "        vertical-align: middle;\n",
       "    }\n",
       "\n",
       "    .dataframe tbody tr th {\n",
       "        vertical-align: top;\n",
       "    }\n",
       "\n",
       "    .dataframe thead th {\n",
       "        text-align: right;\n",
       "    }\n",
       "</style>\n",
       "<table border=\"1\" class=\"dataframe\">\n",
       "  <thead>\n",
       "    <tr style=\"text-align: right;\">\n",
       "      <th></th>\n",
       "      <th></th>\n",
       "      <th></th>\n",
       "    </tr>\n",
       "    <tr>\n",
       "      <th></th>\n",
       "      <th></th>\n",
       "      <th></th>\n",
       "    </tr>\n",
       "  </thead>\n",
       "  <tbody>\n",
       "    <tr>\n",
       "      <th>Ground Truth Prevalence</th>\n",
       "      <td>. . .</td>\n",
       "      <td>0.442</td>\n",
       "    </tr>\n",
       "    <tr>\n",
       "      <th>Test set Prevalence</th>\n",
       "      <td>. . .</td>\n",
       "      <td>0.202</td>\n",
       "    </tr>\n",
       "    <tr>\n",
       "      <th>True positive rate (recall)</th>\n",
       "      <td>. . .</td>\n",
       "      <td>0.266</td>\n",
       "    </tr>\n",
       "    <tr>\n",
       "      <th>False positive rate</th>\n",
       "      <td>. . .</td>\n",
       "      <td>0.151</td>\n",
       "    </tr>\n",
       "    <tr>\n",
       "      <th>Positive predictive value (precision)</th>\n",
       "      <td>. . .</td>\n",
       "      <td>0.582</td>\n",
       "    </tr>\n",
       "    <tr>\n",
       "      <th>True negative rate (specificity)</th>\n",
       "      <td>. . .</td>\n",
       "      <td>0.849</td>\n",
       "    </tr>\n",
       "    <tr>\n",
       "      <th>False negative rate</th>\n",
       "      <td>. . .</td>\n",
       "      <td>0.734</td>\n",
       "    </tr>\n",
       "    <tr>\n",
       "      <th>Negative predictive value</th>\n",
       "      <td>. . .</td>\n",
       "      <td>0.593</td>\n",
       "    </tr>\n",
       "    <tr>\n",
       "      <th>Positive likelihood ratio (bigger is better)</th>\n",
       "      <td>. . .</td>\n",
       "      <td>1.759</td>\n",
       "    </tr>\n",
       "    <tr>\n",
       "      <th>Negative likelihood ratio (smaller is better)</th>\n",
       "      <td>. . .</td>\n",
       "      <td>0.865</td>\n",
       "    </tr>\n",
       "    <tr>\n",
       "      <th>Diagnostic odds ratio</th>\n",
       "      <td>. . .</td>\n",
       "      <td>2.035</td>\n",
       "    </tr>\n",
       "    <tr>\n",
       "      <th>Accuracy</th>\n",
       "      <td>. . .</td>\n",
       "      <td>0.591</td>\n",
       "    </tr>\n",
       "    <tr>\n",
       "      <th>F1 score</th>\n",
       "      <td>. . .</td>\n",
       "      <td>0.366</td>\n",
       "    </tr>\n",
       "    <tr>\n",
       "      <th>Accuracy</th>\n",
       "      <td>. . .</td>\n",
       "      <td>0.591</td>\n",
       "    </tr>\n",
       "    <tr>\n",
       "      <th>ROC AUC</th>\n",
       "      <td>. . .</td>\n",
       "      <td>0.638</td>\n",
       "    </tr>\n",
       "    <tr>\n",
       "      <th>ROC AUC (95% CI)</th>\n",
       "      <td>. . .</td>\n",
       "      <td>[0.59, 0.69]</td>\n",
       "    </tr>\n",
       "    <tr>\n",
       "      <th>Scaled Brier Score</th>\n",
       "      <td>. . .</td>\n",
       "      <td>-0.171</td>\n",
       "    </tr>\n",
       "    <tr>\n",
       "      <th>Hosmer_Lemeshow p-value</th>\n",
       "      <td>. . .</td>\n",
       "      <td>0.000</td>\n",
       "    </tr>\n",
       "    <tr>\n",
       "      <th>Spiegelhalter p-value</th>\n",
       "      <td>. . .</td>\n",
       "      <td>0.000</td>\n",
       "    </tr>\n",
       "  </tbody>\n",
       "</table>\n",
       "</div>"
      ],
      "text/plain": [
       "                                                                   \n",
       "                                                                   \n",
       "Ground Truth Prevalence                        . . .          0.442\n",
       "Test set Prevalence                            . . .          0.202\n",
       "True positive rate (recall)                    . . .          0.266\n",
       "False positive rate                            . . .          0.151\n",
       "Positive predictive value (precision)          . . .          0.582\n",
       "True negative rate (specificity)               . . .          0.849\n",
       "False negative rate                            . . .          0.734\n",
       "Negative predictive value                      . . .          0.593\n",
       "Positive likelihood ratio (bigger is better)   . . .          1.759\n",
       "Negative likelihood ratio (smaller is better)  . . .          0.865\n",
       "Diagnostic odds ratio                          . . .          2.035\n",
       "Accuracy                                       . . .          0.591\n",
       "F1 score                                       . . .          0.366\n",
       "Accuracy                                       . . .          0.591\n",
       "ROC AUC                                        . . .          0.638\n",
       "ROC AUC (95% CI)                               . . .   [0.59, 0.69]\n",
       "Scaled Brier Score                             . . .         -0.171\n",
       "Hosmer_Lemeshow p-value                        . . .          0.000\n",
       "Spiegelhalter p-value                          . . .          0.000"
      ]
     },
     "metadata": {},
     "output_type": "display_data"
    },
    {
     "data": {
      "image/png": "[encoded data removed]",
      "text/plain": [
       "<Figure size 1500x2000 with 5 Axes>"
      ]
     },
     "metadata": {},
     "output_type": "display_data"
    },
    {
     "data": {
      "image/png": "[encoded data removed]",
      "text/plain": [
       "<Figure size 640x480 with 1 Axes>"
      ]
     },
     "metadata": {},
     "output_type": "display_data"
    },
    {
     "data": {
      "text/html": [
       "<div>\n",
       "<style scoped>\n",
       "    .dataframe tbody tr th:only-of-type {\n",
       "        vertical-align: middle;\n",
       "    }\n",
       "\n",
       "    .dataframe tbody tr th {\n",
       "        vertical-align: top;\n",
       "    }\n",
       "\n",
       "    .dataframe thead th {\n",
       "        text-align: right;\n",
       "    }\n",
       "</style>\n",
       "<table border=\"1\" class=\"dataframe\">\n",
       "  <thead>\n",
       "    <tr style=\"text-align: right;\">\n",
       "      <th></th>\n",
       "      <th></th>\n",
       "      <th></th>\n",
       "    </tr>\n",
       "    <tr>\n",
       "      <th></th>\n",
       "      <th></th>\n",
       "      <th></th>\n",
       "    </tr>\n",
       "  </thead>\n",
       "  <tbody>\n",
       "    <tr>\n",
       "      <th>Ground Truth Prevalence</th>\n",
       "      <td>. . .</td>\n",
       "      <td>0.442</td>\n",
       "    </tr>\n",
       "    <tr>\n",
       "      <th>Test set Prevalence</th>\n",
       "      <td>. . .</td>\n",
       "      <td>0.202</td>\n",
       "    </tr>\n",
       "    <tr>\n",
       "      <th>True positive rate (recall)</th>\n",
       "      <td>. . .</td>\n",
       "      <td>0.266</td>\n",
       "    </tr>\n",
       "    <tr>\n",
       "      <th>False positive rate</th>\n",
       "      <td>. . .</td>\n",
       "      <td>0.151</td>\n",
       "    </tr>\n",
       "    <tr>\n",
       "      <th>Positive predictive value (precision)</th>\n",
       "      <td>. . .</td>\n",
       "      <td>0.582</td>\n",
       "    </tr>\n",
       "    <tr>\n",
       "      <th>True negative rate (specificity)</th>\n",
       "      <td>. . .</td>\n",
       "      <td>0.849</td>\n",
       "    </tr>\n",
       "    <tr>\n",
       "      <th>False negative rate</th>\n",
       "      <td>. . .</td>\n",
       "      <td>0.734</td>\n",
       "    </tr>\n",
       "    <tr>\n",
       "      <th>Negative predictive value</th>\n",
       "      <td>. . .</td>\n",
       "      <td>0.593</td>\n",
       "    </tr>\n",
       "    <tr>\n",
       "      <th>Positive likelihood ratio (bigger is better)</th>\n",
       "      <td>. . .</td>\n",
       "      <td>1.759</td>\n",
       "    </tr>\n",
       "    <tr>\n",
       "      <th>Negative likelihood ratio (smaller is better)</th>\n",
       "      <td>. . .</td>\n",
       "      <td>0.865</td>\n",
       "    </tr>\n",
       "    <tr>\n",
       "      <th>Diagnostic odds ratio</th>\n",
       "      <td>. . .</td>\n",
       "      <td>2.035</td>\n",
       "    </tr>\n",
       "    <tr>\n",
       "      <th>Accuracy</th>\n",
       "      <td>. . .</td>\n",
       "      <td>0.591</td>\n",
       "    </tr>\n",
       "    <tr>\n",
       "      <th>F1 score</th>\n",
       "      <td>. . .</td>\n",
       "      <td>0.366</td>\n",
       "    </tr>\n",
       "    <tr>\n",
       "      <th>Accuracy</th>\n",
       "      <td>. . .</td>\n",
       "      <td>0.591</td>\n",
       "    </tr>\n",
       "    <tr>\n",
       "      <th>ROC AUC</th>\n",
       "      <td>. . .</td>\n",
       "      <td>0.638</td>\n",
       "    </tr>\n",
       "    <tr>\n",
       "      <th>ROC AUC (95% CI)</th>\n",
       "      <td>. . .</td>\n",
       "      <td>[0.59, 0.69]</td>\n",
       "    </tr>\n",
       "    <tr>\n",
       "      <th>Scaled Brier Score</th>\n",
       "      <td>. . .</td>\n",
       "      <td>-0.171</td>\n",
       "    </tr>\n",
       "    <tr>\n",
       "      <th>Hosmer_Lemeshow p-value</th>\n",
       "      <td>. . .</td>\n",
       "      <td>0.000</td>\n",
       "    </tr>\n",
       "    <tr>\n",
       "      <th>Spiegelhalter p-value</th>\n",
       "      <td>. . .</td>\n",
       "      <td>0.000</td>\n",
       "    </tr>\n",
       "  </tbody>\n",
       "</table>\n",
       "</div>"
      ],
      "text/plain": [
       "                                                                   \n",
       "                                                                   \n",
       "Ground Truth Prevalence                        . . .          0.442\n",
       "Test set Prevalence                            . . .          0.202\n",
       "True positive rate (recall)                    . . .          0.266\n",
       "False positive rate                            . . .          0.151\n",
       "Positive predictive value (precision)          . . .          0.582\n",
       "True negative rate (specificity)               . . .          0.849\n",
       "False negative rate                            . . .          0.734\n",
       "Negative predictive value                      . . .          0.593\n",
       "Positive likelihood ratio (bigger is better)   . . .          1.759\n",
       "Negative likelihood ratio (smaller is better)  . . .          0.865\n",
       "Diagnostic odds ratio                          . . .          2.035\n",
       "Accuracy                                       . . .          0.591\n",
       "F1 score                                       . . .          0.366\n",
       "Accuracy                                       . . .          0.591\n",
       "ROC AUC                                        . . .          0.638\n",
       "ROC AUC (95% CI)                               . . .   [0.59, 0.69]\n",
       "Scaled Brier Score                             . . .         -0.171\n",
       "Hosmer_Lemeshow p-value                        . . .          0.000\n",
       "Spiegelhalter p-value                          . . .          0.000"
      ]
     },
     "execution_count": 123,
     "metadata": {},
     "output_type": "execute_result"
    }
   ],
   "source": [
    "import MLFlow_Utils\n",
    "binary_classification_metrics(y_test_single, y_pred, pd.Series(y_pred_prob1))"
   ]
  },
  {
   "cell_type": "code",
   "execution_count": 124,
   "metadata": {},
   "outputs": [
    {
     "data": {
      "text/plain": [
       "0.6383310977196741"
      ]
     },
     "execution_count": 124,
     "metadata": {},
     "output_type": "execute_result"
    }
   ],
   "source": [
    "fprate, tprate, thresholds = roc_curve(y_test_single, y_pred_prob1, pos_label=1)\n",
    "auc(fprate, tprate)"
   ]
  },
  {
   "cell_type": "code",
   "execution_count": 125,
   "metadata": {},
   "outputs": [
    {
     "data": {
      "text/plain": [
       "['0.59', '0.69']"
      ]
     },
     "execution_count": 125,
     "metadata": {},
     "output_type": "execute_result"
    }
   ],
   "source": [
    "#ROC_AUC\n",
    "[\"{0:0.2f}\".format(i) for i in AUC_CI(y_test_single, y_pred_prob1)]"
   ]
  },
  {
   "cell_type": "code",
   "execution_count": 126,
   "metadata": {},
   "outputs": [],
   "source": [
    "# y_test_single"
   ]
  },
  {
   "cell_type": "code",
   "execution_count": 127,
   "metadata": {},
   "outputs": [
    {
     "data": {
      "text/plain": [
       "0.2663316582914573"
      ]
     },
     "execution_count": 127,
     "metadata": {},
     "output_type": "execute_result"
    }
   ],
   "source": [
    "#recall\n",
    "tpr(y_test_single, y_pred)"
   ]
  },
  {
   "cell_type": "code",
   "execution_count": 128,
   "metadata": {},
   "outputs": [],
   "source": [
    "# pd.Series(y_pred)"
   ]
  },
  {
   "cell_type": "code",
   "execution_count": 129,
   "metadata": {},
   "outputs": [
    {
     "data": {
      "text/plain": [
       "0.848605577689243"
      ]
     },
     "execution_count": 129,
     "metadata": {},
     "output_type": "execute_result"
    }
   ],
   "source": [
    "#specificidade\n",
    "tnr(y_test_single, pd.Series(y_pred))"
   ]
  },
  {
   "cell_type": "code",
   "execution_count": 130,
   "metadata": {},
   "outputs": [
    {
     "data": {
      "text/plain": [
       "0.5911111111111111"
      ]
     },
     "execution_count": 130,
     "metadata": {},
     "output_type": "execute_result"
    }
   ],
   "source": [
    "#accuracy\n",
    "accuracy(y_test_single, y_pred)"
   ]
  },
  {
   "cell_type": "code",
   "execution_count": 131,
   "metadata": {},
   "outputs": [
    {
     "data": {
      "text/plain": [
       "0.5824175824175825"
      ]
     },
     "execution_count": 131,
     "metadata": {},
     "output_type": "execute_result"
    }
   ],
   "source": [
    "ppv(y_test_single, y_pred)"
   ]
  },
  {
   "cell_type": "code",
   "execution_count": 132,
   "metadata": {},
   "outputs": [
    {
     "data": {
      "text/plain": [
       "0.5933147632311978"
      ]
     },
     "execution_count": 132,
     "metadata": {},
     "output_type": "execute_result"
    }
   ],
   "source": [
    "npv(y_test_single, y_pred)"
   ]
  },
  {
   "cell_type": "markdown",
   "metadata": {},
   "source": [
    "# End of File"
   ]
  },
  {
   "cell_type": "code",
   "execution_count": null,
   "metadata": {},
   "outputs": [],
   "source": []
  },
  {
   "cell_type": "code",
   "execution_count": null,
   "metadata": {},
   "outputs": [],
   "source": []
  },
  {
   "cell_type": "code",
   "execution_count": null,
   "metadata": {},
   "outputs": [],
   "source": []
  }
 ],
 "metadata": {
  "kernelspec": {
   "display_name": "Python 3 (ipykernel)",
   "language": "python",
   "name": "python3"
  },
  "language_info": {
   "codemirror_mode": {
    "name": "ipython",
    "version": 3
   },
   "file_extension": ".py",
   "mimetype": "text/x-python",
   "name": "python",
   "nbconvert_exporter": "python",
   "pygments_lexer": "ipython3",
   "version": "3.10.0"
  }
 },
 "nbformat": 4,
 "nbformat_minor": 4
}
